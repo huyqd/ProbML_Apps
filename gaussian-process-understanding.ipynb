{
 "cells": [
  {
   "cell_type": "code",
   "execution_count": 2,
   "id": "445343cc",
   "metadata": {},
   "outputs": [
    {
     "name": "stdout",
     "output_type": "stream",
     "text": [
      "The autoreload extension is already loaded. To reload it, use:\n",
      "  %reload_ext autoreload\n"
     ]
    }
   ],
   "source": [
    "%load_ext autoreload\n",
    "%autoreload 2"
   ]
  },
  {
   "cell_type": "markdown",
   "id": "61bc1eaf",
   "metadata": {},
   "source": [
    "# Understanding Gaussian Processes: Kernels and Their Properties\n",
    "\n",
    "Welcome back to the blog! In our last post, we introduced **Gaussian Processes** as a powerful non-parametric model for regression, allowing us to model a distribution over functions. We saw how GPs are defined by a **mean function** and a **covariance function** (also known as a **kernel**).\n",
    "\n",
    "In this post, we'll dive deeper into the fascinating world of **kernels**. We'll explore different types of kernels, understand how they shape the functions a GP can represent, and learn how new kernels can be constructed from existing ones."
   ]
  },
  {
   "cell_type": "markdown",
   "id": "9b5e6b37",
   "metadata": {},
   "source": [
    "## Recap: Lazy Evaluation and Kernels\n",
    "\n",
    "Let's quickly recap the connection we made in the previous lecture between probabilistic parametric regression and Gaussian Processes.\n",
    "\n",
    "---\n",
    "\n",
    "### From Linear Models to Gaussian Processes\n",
    "\n",
    "We started with a linear model with features $\\phi(x)$ and weights $w$ with a Gaussian prior:\n",
    "\n",
    "$$\n",
    "f(x) = \\phi(x)^\\top w\n",
    "$$\n",
    "\n",
    "$$\n",
    "p(w) = \\mathcal{N}(w; \\mu, \\Sigma)\n",
    "$$\n",
    "\n",
    "We found that the marginal distribution over the function $f(\\cdot)$ (before observing any data) is also a Gaussian Process:\n",
    "\n",
    "$$\n",
    "p(f(\\cdot)) = \\int p(f(\\cdot) \\mid w) p(w) \\, dw\n",
    "$$\n",
    "\n",
    "Assuming $p(f(\\cdot) \\mid w) = \\mathcal{N}(f(\\cdot); \\phi(\\cdot)^\\top w, \\sigma^2 I)$ (where $\\sigma^2$ here represents the variance of the function itself before adding observation noise), this integral results in:\n",
    "\n",
    "$$\n",
    "p(f(\\cdot)) = \\mathcal{N}(f(\\cdot); \\phi(\\cdot)^\\top \\mu, \\phi(\\cdot)^\\top \\Sigma \\phi(\\circ) + \\sigma^2 I)\n",
    "$$\n",
    "\n",
    "> **Note:** The slide uses $\\sigma I$ in the first line, which might be a slight abuse of notation or implies a specific context. The standard derivation for the marginal GP typically assumes the function values themselves are distributed with a mean and covariance determined by the prior over $w$, and then observation noise is added later. Let's stick to the standard interpretation where the kernel defines the covariance of the noise-free function values.\n",
    "\n",
    "---\n",
    "\n",
    "### GP Mean and Kernel Functions\n",
    "\n",
    "So, the marginal distribution of the function $f(\\cdot)$ is a GP with:\n",
    "\n",
    "- **Mean function:** $m(\\cdot) := \\phi(\\cdot)^\\top \\mu$\n",
    "- **Covariance function (kernel):** $k(\\cdot, \\circ) := \\phi(\\cdot)^\\top \\Sigma \\phi(\\circ)$\n",
    "\n",
    "This shows how the mean and kernel functions of a GP naturally emerge from a probabilistic parametric model with a Gaussian prior on the weights. The \"lazy evaluation\" refers to the fact that we define the distribution over functions directly through the mean and kernel, rather than explicitly working with the (potentially infinite) feature vectors and weights.\n",
    "\n",
    "---\n",
    "\n",
    "### What is a Kernel?\n",
    "\n",
    "We also revisited the definition of a kernel:  \n",
    "A function $k: \\mathcal{X} \\times \\mathcal{X} \\to \\mathbb{R}$ is a **Mercer (or positive definite) kernel** if for any finite set of points $X = x_1, \\ldots, x_N$, the matrix $K_{XX}$ with $[K_{XX}]_{ij} = k(x_i, x_j)$ is symmetric and positive semidefinite ($v^\\top K_{XX} v \\geq 0$ for all $v \\in \\mathbb{R}^N$)."
   ]
  },
  {
   "cell_type": "markdown",
   "id": "80873d94",
   "metadata": {},
   "source": [
    "## Kernels and Feature Expansions Revisited\n",
    "\n",
    "The connection between **kernels** and **feature expansions** is fundamental. As stated by **Mercer's Theorem**, a function is a valid kernel if and only if it can be written as an inner product in some (possibly infinite-dimensional) feature space:\n",
    "\n",
    "$$\n",
    "k(x, x') = \\langle \\phi(x), \\phi(x') \\rangle_{\\mathcal{H}}\n",
    "$$\n",
    "\n",
    "or, more generally, with a positive measure $\\nu$:\n",
    "\n",
    "$$\n",
    "k(x, x') = \\int_{L} \\phi_{\\ell}(x)\\, \\phi_{\\ell}(x')\\, d\\nu(\\ell)\n",
    "$$\n",
    "\n",
    "This means that **every kernel implicitly defines a feature space**. When we use a kernel, we are essentially working with a model that has a potentially infinite number of features, but the **kernel trick** allows us to compute the necessary covariances without explicitly handling these features."
   ]
  },
  {
   "cell_type": "markdown",
   "id": "d9425e88",
   "metadata": {},
   "source": [
    "## Gaussian Process Definition Revisited\n",
    "\n",
    "Let's restate the definition of a **Gaussian Process**, emphasizing its nature as a distribution over functions:\n",
    "\n",
    "A function $f: \\mathcal{X} \\to \\mathbb{R}$ is drawn from a Gaussian Process with mean function $m: \\mathcal{X} \\to \\mathbb{R}$ and Mercer kernel $k: \\mathcal{X} \\times \\mathcal{X} \\to \\mathbb{R}$, denoted as\n",
    "\n",
    "$$\n",
    "f \\sim \\mathcal{GP}(m, k),\n",
    "$$\n",
    "\n",
    "if for any finite set of input points $X = x_1, \\ldots, x_N$, the vector of function values\n",
    "\n",
    "$$\n",
    "f_X = [f(x_1), \\ldots, f(x_N)]^\\top\n",
    "$$\n",
    "\n",
    "follows a multivariate Gaussian distribution:\n",
    "\n",
    "$$\n",
    "p(f_X) = \\mathcal{N}(f_X; m_X, K_{XX})\n",
    "$$\n",
    "\n",
    "where\n",
    "\n",
    "- $m_X = [m(x_1), \\ldots, m(x_N)]^\\top$\n",
    "- $K_{XX}$ is the kernel matrix with $[K_{XX}]_{ij} = k(x_i, x_j)$\n",
    "\n",
    "---\n",
    "\n",
    "The Python `GaussianProcess` class we defined previously captures this idea by providing the mean and kernel functions."
   ]
  },
  {
   "cell_type": "code",
   "execution_count": 3,
   "id": "ca5714d4",
   "metadata": {},
   "outputs": [],
   "source": [
    "import jax.numpy as jnp\n",
    "from typing import Callable\n",
    "import dataclasses\n",
    "\n",
    "\n",
    "@dataclasses.dataclass\n",
    "class GaussianProcess:\n",
    "    \"\"\"\n",
    "    Conceptual representation of a Gaussian Process.\n",
    "\n",
    "    A GP is defined by its mean function and covariance function (kernel).\n",
    "    Any finite collection of function values from a GP follows a multivariate Gaussian distribution.\n",
    "    \"\"\"\n",
    "\n",
    "    # Mean function: maps input(s) to mean value(s)\n",
    "    m: Callable[[jnp.ndarray], jnp.ndarray]\n",
    "\n",
    "    # Covariance function (kernel): maps two input(s) to a covariance matrix\n",
    "    k: Callable[[jnp.ndarray, jnp.ndarray], jnp.ndarray]\n",
    "\n",
    "    def __call__(self, X: jnp.ndarray):\n",
    "        \"\"\"\n",
    "        Evaluates the GP at a set of input points X.\n",
    "        Returns the mean vector and covariance matrix for the function values at X.\n",
    "\n",
    "        Args:\n",
    "            X: A JAX array of input points. Shape (N, D) where N is the number of points\n",
    "               and D is the input dimension.\n",
    "\n",
    "        Returns:\n",
    "            A dictionary containing:\n",
    "                'mu': Mean vector at X. Shape (N,).\n",
    "                'Sigma': Covariance matrix at X. Shape (N, N).\n",
    "        \"\"\"\n",
    "        # Ensure X is at least 2D\n",
    "        X = jnp.atleast_2d(X)\n",
    "        # Evaluate the mean function at all input points\n",
    "        mu_X = self.m(X)\n",
    "\n",
    "        # Evaluate the covariance function (kernel) for all pairs of input points\n",
    "        K_XX = self.k(X, X)\n",
    "\n",
    "        return {\"mu\": mu_X, \"Sigma\": K_XX}\n"
   ]
  },
  {
   "cell_type": "markdown",
   "id": "5ab7d5c5",
   "metadata": {
    "vscode": {
     "languageId": "plaintext"
    }
   },
   "source": [
    "# Conditioning Gaussian Processes (The Posterior GP)\n",
    "\n",
    "One of the most powerful aspects of **Gaussian Processes** is that they are **closed under conditioning**. This means that if we start with a GP prior over functions and observe some data $(X_{\\text{train}}, y_{\\text{train}})$, the resulting posterior distribution over functions is also a Gaussian Process. This is incredibly convenient for analytical inference.\n",
    "\n",
    "---\n",
    "\n",
    "## Joint Distribution\n",
    "\n",
    "Recall the joint distribution of training outputs $y_{\\text{train}}$ and test function values $f_{\\text{test}}$ from the previous lecture:\n",
    "\n",
    "$$\n",
    "\\begin{pmatrix}\n",
    "y_{\\text{train}} \\\\\n",
    "f_{\\text{test}}\n",
    "\\end{pmatrix}\n",
    "\\sim \\mathcal{N}\\left(\n",
    "\\begin{pmatrix}\n",
    "m(X_{\\text{train}}) \\\\\n",
    "m(X_{\\text{test}})\n",
    "\\end{pmatrix},\n",
    "\\begin{pmatrix}\n",
    "K_{\\text{train,train}} + \\sigma_{\\text{noise}}^2 I & K_{\\text{train,test}} \\\\\n",
    "K_{\\text{test,train}} & K_{\\text{test,test}}\n",
    "\\end{pmatrix}\n",
    "\\right)\n",
    "$$\n",
    "\n",
    "---\n",
    "\n",
    "## Posterior GP\n",
    "\n",
    "The posterior distribution over the function $f$ given the training data is a new Gaussian Process, $\\mathcal{GP}(m_{\\text{post}}, k_{\\text{post}})$, with a posterior mean function $m_{\\text{post}}(x)$ and a posterior covariance function $k_{\\text{post}}(x, x')$.\n",
    "\n",
    "The formulas for the predictive mean and covariance for a finite set of test points $X_{\\text{test}}$ can be generalized to define these posterior functions for any input point $x$:\n",
    "\n",
    "### Posterior Mean Function\n",
    "\n",
    "$$\n",
    "m_{\\text{post}}(x) = m(x) + k(x, X_{\\text{train}}) \\left[ K_{\\text{train,train}} + \\sigma_{\\text{noise}}^2 I \\right]^{-1} \\left( y_{\\text{train}} - m(X_{\\text{train}}) \\right)\n",
    "$$\n",
    "\n",
    "### Posterior Covariance Function\n",
    "\n",
    "$$\n",
    "k_{\\text{post}}(x, x') = k(x, x') - k(x, X_{\\text{train}}) \\left[ K_{\\text{train,train}} + \\sigma_{\\text{noise}}^2 I \\right]^{-1} k(X_{\\text{train}}, x')\n",
    "$$\n",
    "\n",
    "Here, $k(x, X_{\\text{train}})$ is a row vector $[k(x, x_{\\text{train},1}), \\ldots, k(x, x_{\\text{train},N_{\\text{train}}})]$, and $k(X_{\\text{train}}, x')$ is a column vector $[k(x_{\\text{train},1}, x'), \\ldots, k(x_{\\text{train},N_{\\text{train}}}, x')]^\\top$.\n",
    "\n",
    "---\n",
    "\n",
    "## Notation from Slides\n",
    "\n",
    "The slides present these formulas in a slightly different notation, emphasizing the GP nature:\n",
    "\n",
    "$$\n",
    "\\mathcal{GP}\\left(\n",
    "f;\n",
    "m_{\\bullet} + k_{\\bullet, X} \\alpha_X,\n",
    "\\;\n",
    "k_{\\bullet, \\circ} - k_{\\bullet, X} (K_{XX} + \\sigma^2 I)^{-1} k_{X, \\circ}\n",
    "\\right)\n",
    "$$\n",
    "\n",
    "where:\n",
    "\n",
    "- $\\bullet$ and $\\circ$ represent arbitrary input points.\n",
    "- $m_{\\bullet}$ is $m(x)$.\n",
    "- $k_{\\bullet, X}$ is $k(x, X_{\\text{train}})$.\n",
    "- $m_X$ is $m(X_{\\text{train}})$.\n",
    "- $K_{XX}$ is $K_{\\text{train,train}}$.\n",
    "- $k_{\\bullet, \\circ}$ is $k(x, x')$.\n",
    "- $k_{X, \\circ}$ is $k(X_{\\text{train}}, x')$.\n",
    "- $\\alpha_X := (K_{XX} + \\sigma^2 I)^{-1} (y - m_X)$ is a vector resulting from solving a linear system.\n",
    "\n",
    "So the posterior mean function is $m(x) + k(x, X_{\\text{train}}) \\alpha_X$, and the posterior covariance function is $k(x, x') - k(x, X_{\\text{train}}) (K_{XX} + \\sigma^2 I)^{-1} k(X_{\\text{train}}, x')$.\n",
    "\n",
    "---\n",
    "\n",
    "These match our formulas. The result of conditioning a GP on data is indeed another GP, with updated mean and covariance functions."
   ]
  },
  {
   "cell_type": "markdown",
   "id": "4584da16",
   "metadata": {},
   "source": [
    "# Exploring Different Kernels\n",
    "\n",
    "The choice of **kernel** is critical because it determines the properties of the functions that the GP can model. Different kernels encode different assumptions about the underlying function. Let's look at some examples beyond the Squared Exponential kernel.\n",
    "\n",
    "---\n",
    "\n",
    "## The Wiener Process Kernel\n",
    "\n",
    "The **Wiener process**, also known as **Brownian motion**, is one of the oldest Gaussian Processes. It can be constructed by integrating white noise. Alternatively, as shown in the slides, it can be derived from a feature expansion using step functions $\\theta(x - c_i)$:\n",
    "\n",
    "$$\n",
    "\\phi_i(x) = \\theta(x - c_i) = \n",
    "\\begin{cases}\n",
    "1 & \\text{if } x \\geq c_i \\\\\n",
    "0 & \\text{else}\n",
    "\\end{cases}\n",
    "$$\n",
    "\n",
    "With a specific choice of $\\Sigma$, as the number of features $F$ goes to infinity, the kernel approaches:\n",
    "\n",
    "$$\n",
    "k(x_i, x_j) \\to \\sigma^2 \\int_{c_0}^{c_{\\max}} \\theta(\\min(x_i, x_j) - c) \\, dc = \\sigma^2 \\int_{c_0}^{\\min(x_i, x_j)} 1 \\, dc\n",
    "$$\n",
    "\n",
    "Assuming $c_0 \\leq \\min(x_i, x_j)$, this integral evaluates to:\n",
    "\n",
    "$$\n",
    "k_{\\text{Wiener}}(x_i, x_j) = \\sigma^2 (\\min(x_i, x_j) - c_0)\n",
    "$$\n",
    "\n",
    "This kernel results in functions that are **continuous but not differentiable everywhere** (like a random walk). The parameter $\\sigma^2$ controls the variance, and $c_0$ is a starting point where the function value is fixed (typically at $0$ if the mean function is $0$).\n",
    "\n",
    "---\n",
    "\n",
    "Let's implement the Wiener kernel and sample from a GP with this kernel."
   ]
  },
  {
   "cell_type": "code",
   "execution_count": 14,
   "id": "6b59f992",
   "metadata": {},
   "outputs": [
    {
     "name": "stdout",
     "output_type": "stream",
     "text": [
      "Wiener Kernel Matrix:\n",
      " [[0.  0. ]\n",
      " [0.5 1. ]\n",
      " [0.5 1.5]]\n"
     ]
    }
   ],
   "source": [
    "import jax.numpy as jnp\n",
    "\n",
    "\n",
    "def wiener_kernel(\n",
    "    x1: jnp.ndarray, x2: jnp.ndarray, sigma: float = 1.0, c0: float = 0.0\n",
    ") -> jnp.ndarray:\n",
    "    \"\"\"\n",
    "    Computes the Wiener Process kernel matrix.\n",
    "\n",
    "    Args:\n",
    "        x1: First set of input points. Shape (N1, D). Assumes D=1 for this kernel.\n",
    "        x2: Second set of input points. Shape (N2, D). Assumes D=1 for this kernel.\n",
    "        sigma: Scaling factor (variance).\n",
    "        c0: Starting point (typically where the process starts at 0).\n",
    "\n",
    "    Returns:\n",
    "        The kernel matrix K, where K[i, j] = k(x1[i], x2[j]). Shape (N1, N2).\n",
    "    \"\"\"\n",
    "    # Ensure inputs are JAX arrays and are 1D (or can be treated as 1D)\n",
    "    x1 = jnp.atleast_1d(x1).squeeze()\n",
    "    x2 = jnp.atleast_1d(x2).squeeze()\n",
    "\n",
    "    # Compute the minimum of all pairs of points\n",
    "    # (N1, 1) vs (1, N2) -> (N1, N2)\n",
    "    min_x = jnp.minimum(x1[:, None], x2[None, :])\n",
    "\n",
    "    # Compute the kernel matrix\n",
    "    K = sigma**2 * jnp.maximum(0.0, min_x - c0)  # Ensure non-negativity\n",
    "\n",
    "    return K\n",
    "\n",
    "\n",
    "# Example usage:\n",
    "points1 = jnp.array([0.0, 1.0, 2.0])\n",
    "points2 = jnp.array([0.5, 1.5])\n",
    "kernel_matrix = wiener_kernel(points1, points2, sigma=1.0, c0=0.0)\n",
    "print(\"Wiener Kernel Matrix:\\n\", kernel_matrix)\n"
   ]
  },
  {
   "cell_type": "code",
   "execution_count": 36,
   "id": "412bbf9b",
   "metadata": {},
   "outputs": [],
   "source": [
    "import jax.random as random\n",
    "import matplotlib.pyplot as plt\n",
    "import jax.numpy as jnp\n",
    "from jax.scipy.linalg import cholesky  # For sampling\n",
    "from functools import partial\n",
    "\n",
    "\n",
    "# Function to sample from a GP (assuming zero mean for simplicity)\n",
    "def sample_from_gp(\n",
    "    X: jnp.ndarray, kernel_func: Callable, num_samples: int = 1\n",
    ") -> jnp.ndarray:\n",
    "    \"\"\"\n",
    "    Draws samples from a Gaussian Process with zero mean.\n",
    "\n",
    "    Args:\n",
    "        X: Input points to sample at. Shape (N, D).\n",
    "        kernel_func: Covariance function (kernel).\n",
    "        num_samples: Number of samples to draw.\n",
    "\n",
    "    Returns:\n",
    "        An array of samples. Shape (num_samples, N).\n",
    "    \"\"\"\n",
    "    # Ensure X is at least 2D\n",
    "    X = jnp.atleast_2d(X)\n",
    "\n",
    "    # Compute the covariance matrix\n",
    "    K_XX = kernel_func(X, X)\n",
    "\n",
    "    # Add a small jitter for numerical stability in Cholesky decomposition\n",
    "    jitter = 1e-4 * jnp.eye(X.shape[0])\n",
    "    K_XX += jitter\n",
    "\n",
    "    # Compute the Cholesky decomposition of the covariance matrix\n",
    "    L = cholesky(K_XX, lower=True)\n",
    "\n",
    "    # Generate random standard normal variables\n",
    "    key = random.PRNGKey(\n",
    "        jnp.sum(X).astype(int)\n",
    "    )  # Simple way to get a key based on inputs\n",
    "    z = random.normal(key, shape=(num_samples, X.shape[0]))\n",
    "\n",
    "    # Compute the samples: mean + L @ z^T (mean is zero here)\n",
    "    # L is (N, N), z^T is (N, num_samples). Result is (N, num_samples).\n",
    "    # Transpose to get (num_samples, N)\n",
    "    samples = jnp.dot(L, z.T).T\n",
    "\n",
    "    return samples\n"
   ]
  },
  {
   "cell_type": "markdown",
   "id": "01bef70b",
   "metadata": {},
   "source": [
    "Cholesky decomposition returns a `nan` array when the input matrix is **not positive definite** (or not numerically positive definite due to rounding errors). This often happens in Gaussian Process code if the kernel matrix is nearly singular or has negative/zero eigenvalues due to:\n",
    "\n",
    "1. **Numerical precision issues** (the kernel matrix is very close to singular).\n",
    "2. **Insufficient jitter** (the diagonal regularization is too small).\n",
    "3. **A bug in the kernel function** (e.g., returning negative values on the diagonal).\n",
    "4. **Duplicate or very close input points** (leading to identical or nearly identical rows/columns).\n",
    "\n",
    "**How to debug:**\n",
    "- Check if your kernel matrix `K_XX` has any `nan` or negative values on the diagonal:  \n",
    "    ```python\n",
    "    print(jnp.diag(K_XX))\n",
    "    print(jnp.any(jnp.isnan(K_XX)), jnp.any(jnp.diag(K_XX) <= 0))\n",
    "    ```\n",
    "- Try increasing the jitter (e.g., `1e-6` → `1e-4` or higher):\n",
    "    ```python\n",
    "    jitter = 1e-4 * jnp.eye(K_XX.shape[0])\n",
    "    K_XX += jitter\n",
    "    ```\n",
    "- Check for duplicate or very close points in your input `X_test`.\n",
    "\n",
    "**Summary:**  \n",
    "Cholesky returns `nan` if the matrix is not positive definite. Add more jitter and check your kernel and data for issues."
   ]
  },
  {
   "cell_type": "code",
   "execution_count": 37,
   "id": "f2a079b9",
   "metadata": {},
   "outputs": [],
   "source": [
    "# --- Sample from a GP with Wiener Kernel ---\n",
    "# Generate input points\n",
    "X_test = jnp.linspace(0.0, 8.0, 200)[:, None]  # Test inputs (needs to be 2D)\n",
    "\n",
    "# Define the Wiener kernel\n",
    "wiener_sigma = 1.0\n",
    "wiener_c0 = 0.0  # Start at 0\n",
    "wiener_k = partial(wiener_kernel, sigma=wiener_sigma, c0=wiener_c0)\n",
    "\n",
    "# Sample functions\n",
    "num_samples = 5\n",
    "wiener_samples = sample_from_gp(X_test, wiener_k, num_samples=num_samples)\n"
   ]
  },
  {
   "cell_type": "code",
   "execution_count": 38,
   "id": "fb360eff",
   "metadata": {},
   "outputs": [
    {
     "data": {
      "application/vnd.plotly.v1+json": {
       "config": {
        "plotlyServerURL": "https://plot.ly"
       },
       "data": [
        {
         "mode": "lines",
         "name": "Sample 1",
         "opacity": 0.7,
         "type": "scatter",
         "x": {
          "bdata": "AAAAAM+pJD3PqaQ9tv72Pc+pJD5D1E0+tv52PpUUkD7PqaQ+CT+5PkPUzT59aeI+tv72PvjJBT+VFBA/Ml8aP8+pJD9s9C4/CT85P6aJQz9D1E0/4B5YP31pYj8atGw/tv52P6qkgD/4yYU/R++KP5UUkD/kOZU/Ml+aP4GEnz/PqaQ/Hc+pP2z0rj+6GbQ/CT+5P1dkvj+micM/9K7IP0PUzT+R+dI/4B7YPy5E3T99aeI/y47nPxq07D9o2fE/tv72PwUk/D+qpABAUTcDQPjJBUCfXAhAR+8KQO6BDUCVFBBAPKcSQOQ5FUCLzBdAMl8aQNnxHECBhB9AKBciQM+pJEB2PCdAHc8pQMVhLEBs9C5AE4cxQLoZNEBirDZACT85QLDRO0BXZD5A//ZAQKaJQ0BNHEZA9K5IQJxBS0BD1E1A6mZQQJH5UkA4jFVA4B5YQIexWkAuRF1A1dZfQH1pYkAk/GRAy45nQHIhakAatGxAwUZvQGjZcUAPbHRAtv52QF6ReUAFJHxArLZ+QKqkgED97YFAUTeDQKWAhED4yYVATBOHQJ9ciEDzpYlAR++KQJo4jEDugY1AQsuOQJUUkEDpXZFAPKeSQJDwk0DkOZVAN4OWQIvMl0DeFZlAMl+aQIaom0DZ8ZxALTueQIGEn0DUzaBAKBeiQHtgo0DPqaRAI/OlQHY8p0DKhahAHc+pQHEYq0DFYaxAGKutQGz0rkDAPbBAE4exQGfQskC6GbRADmO1QGKstkC19bdACT+5QFyIukCw0btABBu9QFdkvkCrrb9A//bAQFJAwkCmicNA+dLEQE0cxkChZcdA9K7IQEj4yUCcQctA74rMQEPUzUCWHc9A6mbQQD6w0UCR+dJA5ULUQDiM1UCM1dZA4B7YQDNo2UCHsdpA2/rbQC5E3UCCjd5A1dbfQCkg4UB9aeJA0LLjQCT85EB3ReZAy47nQB/Y6EByIepAxmrrQBq07EBt/e1AwUbvQBSQ8EBo2fFAvCLzQA9s9EBjtfVAtv72QApI+EBekflAsdr6QAUk/EBZbf1ArLb+QAAAAEE=",
          "dtype": "f4"
         },
         "y": {
          "bdata": "/Z1ePLOhX740FAC/g+yQvikTQ78KJla/4ht2vxQ2kL8ct2e/aipCv0OVDr9hc6e+jwhRvngK3r4iZra+uY6ovt6AAb+hGea+CqzxvgwnHL/CgTK/q6LwvjZmzb6nPLy+k42xvqKN8L6G0Rm/RlAcvxvDGb+AWN2+4XUJv5oJ9b78DeC+h9E0v5stOr+KMky/GFuCv55ier+PTzm/SLxcv4X3QL/zqry+PLPdvvF2+76h0Yu+nW0wvxKl1b5iq/a+rcQQv0RJD7+fgi6/dsYyvzlFEL9jORu/JwNtv5oJnb/Gv5+/KJfCvxRhrr+DHLi/jZqgvxBmkr8/XnW/PJJvv4ZJk7/f7JO/66xkv2H3W7/H4SK/StEavxZsJb/LExS/Kae0vh+dHr8lWTi/SYszv4Ezlb/1R0m/FP8/v0LiSb9OYQ2/IICgvnwS5b47qyG/VatXv/1IhL8BP3e/N6OAv/9pXr+haJW/9KuNv+wdmr+eNrG/fbmRv4CkqL/YhI+/OWtVv+brUr9I2Yu/wXKcv/5qj78zOIi/OEiEv+EEhL+dTI+/TqmSv0PEv78sQei/QeHPv8lNvL8pBLW/aMm6v0Wpq7+YSK2/2O+ov5b7wL9EQtO/o7cHwKk+A8AmWN2/yrgMwKoZAcDCMvu/qNjqv85xzL/nS66/Rxndv2jl6r/UbtO/Oyq6v8g0ub+N3Yu/8PWWv6nArb/wpNK/8cLZv9+U7r9KieK/tJgBwDtP57+oJ8O/ZFipv3JtsL+1J7e/2hi4v9CE4L/BJvC/25brv0CQ6r+2aNy/O/DLv8KO07/hF8m/FCjjv1O+1r+rPMS/uKS0v/Tmtr8Qb7m/mg7Mv8kpzr8BEOm/QqLCv/oC6r/H3uG/Atnhv+hK0L9pgNe/p2PZv7pn2r8yQOS/rlDyvwYoEMAaDhDAYNcOwDNXFsAOUQPA7Tr/v9OD3r+wc9W/j3vtvyOBB8Ar1O6/b9QSwB5qFcCzkzDAlJsmwA2DIMB1ShHAukIawLZ/FMA5nRnA5pgGwAbpAcAwCgzAbDEawMg9DsCwnRHA3JQewMsuIsA=",
          "dtype": "f4"
         }
        },
        {
         "mode": "lines",
         "name": "Sample 2",
         "opacity": 0.7,
         "type": "scatter",
         "x": {
          "bdata": "AAAAAM+pJD3PqaQ9tv72Pc+pJD5D1E0+tv52PpUUkD7PqaQ+CT+5PkPUzT59aeI+tv72PvjJBT+VFBA/Ml8aP8+pJD9s9C4/CT85P6aJQz9D1E0/4B5YP31pYj8atGw/tv52P6qkgD/4yYU/R++KP5UUkD/kOZU/Ml+aP4GEnz/PqaQ/Hc+pP2z0rj+6GbQ/CT+5P1dkvj+micM/9K7IP0PUzT+R+dI/4B7YPy5E3T99aeI/y47nPxq07D9o2fE/tv72PwUk/D+qpABAUTcDQPjJBUCfXAhAR+8KQO6BDUCVFBBAPKcSQOQ5FUCLzBdAMl8aQNnxHECBhB9AKBciQM+pJEB2PCdAHc8pQMVhLEBs9C5AE4cxQLoZNEBirDZACT85QLDRO0BXZD5A//ZAQKaJQ0BNHEZA9K5IQJxBS0BD1E1A6mZQQJH5UkA4jFVA4B5YQIexWkAuRF1A1dZfQH1pYkAk/GRAy45nQHIhakAatGxAwUZvQGjZcUAPbHRAtv52QF6ReUAFJHxArLZ+QKqkgED97YFAUTeDQKWAhED4yYVATBOHQJ9ciEDzpYlAR++KQJo4jEDugY1AQsuOQJUUkEDpXZFAPKeSQJDwk0DkOZVAN4OWQIvMl0DeFZlAMl+aQIaom0DZ8ZxALTueQIGEn0DUzaBAKBeiQHtgo0DPqaRAI/OlQHY8p0DKhahAHc+pQHEYq0DFYaxAGKutQGz0rkDAPbBAE4exQGfQskC6GbRADmO1QGKstkC19bdACT+5QFyIukCw0btABBu9QFdkvkCrrb9A//bAQFJAwkCmicNA+dLEQE0cxkChZcdA9K7IQEj4yUCcQctA74rMQEPUzUCWHc9A6mbQQD6w0UCR+dJA5ULUQDiM1UCM1dZA4B7YQDNo2UCHsdpA2/rbQC5E3UCCjd5A1dbfQCkg4UB9aeJA0LLjQCT85EB3ReZAy47nQB/Y6EByIepAxmrrQBq07EBt/e1AwUbvQBSQ8EBo2fFAvCLzQA9s9EBjtfVAtv72QApI+EBekflAsdr6QAUk/EBZbf1ArLb+QAAAAEE=",
          "dtype": "f4"
         },
         "y": {
          "bdata": "XddAvFwbor1RsCC+UnYHva24GD6ObGS+ZFZPvnEnxr2/Eck8w4r+vSt4wr35O+S9Ql3kvK/DYr2SFna+NZe+vRYiWLx+t/s8AVFsPqd/9T0H7b4+/cCLPuEI8j4IESc+AHqDPZVw1D3t8vO9JhhKviGVtL4wz9u+vMsmv1SlLr8ll06/NpD8vjv1Nb6hjeO+qJNHvrA42D3CNH29Ka8XuzKkmjvOxKW9/fTqvoGMqb4CZA2/AYJZvwnEi7/gyZi/QpeWv3uJZ7/Xuou/Ax65v7O1nL8U6K6/GlS3v/Dmrr+ZqLy/UFTRv3lau7+UJKK/bG+Ov+yNXb9giIe/ADuQv7k+lb9m9J2/cemyvyXEqb9OB4e/0vfGv5dIwr+179q/iEnEvx6S278VRgfAY5/6v3tZ7r8q+A3A61n9v9OXCsDa/wrA2akfwLqVLcDZ6ivA/VImwGW/G8BRxAnAO9gPwMPMH8Ag9SHAEi8jwDDtGsAY+SbAIsQZwMZk9r/CHhDALUcTwGgLIsAviDnAvIA0wEDGL8CgrC3ANdc4wJdqQ8AxuETA75ZBwM27SMAB9DnALcg7wCRyH8BseSDAv3AlwPgtGMCOfTLA0mRCwNsTT8BKrEzAyjZCwALpQMAl+DLAHMU4wHfkPsAzWDzACA9KwGG3ScBvKjzAN1tPwEBgPMCQWS/A11cxwP1ORMDXtyvA8/MswLEeOMAeij/AuchHwDs5W8CgJ2HAMe9bwJKnW8Asc2HAIk6EwFcehcCskn7ActB8wIqPfcB6SnHAlIJ4wJh3gcDcJIfAm5GLwFWChMDshIPAimyAwNbWisBl+JXAHC2TwCxOjcDA+4vAJUqHwOVgicAF8YfA4oKBwAPta8DKd1nALSJnwOiobMAt2nXAnJJqwOBdb8DQzmHAxXhxwNtrZsChjm3A71tjwC/nccCpIWrAC6hvwABcbsDUN3bAklhswG+dbcCmjH3A0yaCwGO3gcCf/oDA7nZ6wPaRbMD4vWPASQhPwG/DX8CJUlrApIpjwHCrZMB9vWfA7Z5uwGMObsDSZ3vA2SaCwJTQg8A=",
          "dtype": "f4"
         }
        },
        {
         "mode": "lines",
         "name": "Sample 3",
         "opacity": 0.7,
         "type": "scatter",
         "x": {
          "bdata": "AAAAAM+pJD3PqaQ9tv72Pc+pJD5D1E0+tv52PpUUkD7PqaQ+CT+5PkPUzT59aeI+tv72PvjJBT+VFBA/Ml8aP8+pJD9s9C4/CT85P6aJQz9D1E0/4B5YP31pYj8atGw/tv52P6qkgD/4yYU/R++KP5UUkD/kOZU/Ml+aP4GEnz/PqaQ/Hc+pP2z0rj+6GbQ/CT+5P1dkvj+micM/9K7IP0PUzT+R+dI/4B7YPy5E3T99aeI/y47nPxq07D9o2fE/tv72PwUk/D+qpABAUTcDQPjJBUCfXAhAR+8KQO6BDUCVFBBAPKcSQOQ5FUCLzBdAMl8aQNnxHECBhB9AKBciQM+pJEB2PCdAHc8pQMVhLEBs9C5AE4cxQLoZNEBirDZACT85QLDRO0BXZD5A//ZAQKaJQ0BNHEZA9K5IQJxBS0BD1E1A6mZQQJH5UkA4jFVA4B5YQIexWkAuRF1A1dZfQH1pYkAk/GRAy45nQHIhakAatGxAwUZvQGjZcUAPbHRAtv52QF6ReUAFJHxArLZ+QKqkgED97YFAUTeDQKWAhED4yYVATBOHQJ9ciEDzpYlAR++KQJo4jEDugY1AQsuOQJUUkEDpXZFAPKeSQJDwk0DkOZVAN4OWQIvMl0DeFZlAMl+aQIaom0DZ8ZxALTueQIGEn0DUzaBAKBeiQHtgo0DPqaRAI/OlQHY8p0DKhahAHc+pQHEYq0DFYaxAGKutQGz0rkDAPbBAE4exQGfQskC6GbRADmO1QGKstkC19bdACT+5QFyIukCw0btABBu9QFdkvkCrrb9A//bAQFJAwkCmicNA+dLEQE0cxkChZcdA9K7IQEj4yUCcQctA74rMQEPUzUCWHc9A6mbQQD6w0UCR+dJA5ULUQDiM1UCM1dZA4B7YQDNo2UCHsdpA2/rbQC5E3UCCjd5A1dbfQCkg4UB9aeJA0LLjQCT85EB3ReZAy47nQB/Y6EByIepAxmrrQBq07EBt/e1AwUbvQBSQ8EBo2fFAvCLzQA9s9EBjtfVAtv72QApI+EBekflAsdr6QAUk/EBZbf1ArLb+QAAAAEE=",
          "dtype": "f4"
         },
         "y": {
          "bdata": "b9e1O34Eu76jrru+PgajvpkChb4IvmO+cBljvvEAjr6Z97q+Bf2dPKM6i71KHN68fXPnvQLvVb7TdDq+T6+bPbsbzT3evp49SB3Rvqdz3L7QARK/J8/zvlsRJL6wYdq+FM2wvte0pr7qJ6y+uLBKvq6Suz1I/NK957jMvQnWz72FiLw9X+VLvj9fd74kbye+iBaZPbNEPj6VQ28+7LhoO9Wnhb5iLOK+Stzpvn3g376Q44e+kbnvvm96h776F8K+WlOtvldOGb/a/fm+K7oTvzKuGb+f1Dy/lpCFv6Qtcb9mPnG/hLidv+xqgr9wBmm/zTA0v6cPD7/sgSu/Jc3nvjw0Sr95XDy/gMcJv7sLXb5DjFA+l8hBPpKOGD7on4w8o3QyPkQWAD8rUxY/XpNJP9Q/Nz8nTD0/+xGOP6fXlj8fhZ0/UNGyP6Hitj/55MU/qKGeP3TsoT+Dhak/VY2vP7HnoT+Ri3g/bnCJP25Ahj+wF5Q/aXyxP9hYiT/yYYk/T1OPP/gdkT+16Lg/7G7aP13F5z/dSARA9GbfPzO9/z+AjgZA3J/6PzeE/T8iOZs/xUyPP3+dLz+/zT8/UcYnP0gQWj9H2Vc/GxxfP/ALQj//suk+u3rSPiS+yj5EoRw/fL30PrPwCj9KXhw/WTYUP+BiSz+4tig/DqaCP63hiz+eMZM/2fkxP5ToZT/sFHY/RIgiP6n1TD8RlUE/ptiTPkgvtj5DXgE+In7VPvp/xz5Ub4A+6zinvB4ZXDwkAQY+OQN1PvsdBz3s8qM+c1XwPgE6qT7nFZ8+LbkCP53umT6uKFg+knffPjD+pj6U9dk+/1vYPsrt4T5Xb8k+aSL8PqBQxj7qJxU/tYs3P2faCj9fZcQ+rCwuP0wK6z5pkwM+Gv1xPm2TTz6MH3M7pvzCPRj7Wr6D7yu/iaghvwWp477MKTi/E98Fv9LTF7+wU3m/X9p7v1Vwir8685m/1ZSav21ZuL/scLS/mMWRvx33mb/O8bW/Mc3hv4wuA8A05v2/WbLiv7atAcCbYwTAj7EOwDVaIMAzowzABAwUwEOyD8A=",
          "dtype": "f4"
         }
        },
        {
         "mode": "lines",
         "name": "Sample 4",
         "opacity": 0.7,
         "type": "scatter",
         "x": {
          "bdata": "AAAAAM+pJD3PqaQ9tv72Pc+pJD5D1E0+tv52PpUUkD7PqaQ+CT+5PkPUzT59aeI+tv72PvjJBT+VFBA/Ml8aP8+pJD9s9C4/CT85P6aJQz9D1E0/4B5YP31pYj8atGw/tv52P6qkgD/4yYU/R++KP5UUkD/kOZU/Ml+aP4GEnz/PqaQ/Hc+pP2z0rj+6GbQ/CT+5P1dkvj+micM/9K7IP0PUzT+R+dI/4B7YPy5E3T99aeI/y47nPxq07D9o2fE/tv72PwUk/D+qpABAUTcDQPjJBUCfXAhAR+8KQO6BDUCVFBBAPKcSQOQ5FUCLzBdAMl8aQNnxHECBhB9AKBciQM+pJEB2PCdAHc8pQMVhLEBs9C5AE4cxQLoZNEBirDZACT85QLDRO0BXZD5A//ZAQKaJQ0BNHEZA9K5IQJxBS0BD1E1A6mZQQJH5UkA4jFVA4B5YQIexWkAuRF1A1dZfQH1pYkAk/GRAy45nQHIhakAatGxAwUZvQGjZcUAPbHRAtv52QF6ReUAFJHxArLZ+QKqkgED97YFAUTeDQKWAhED4yYVATBOHQJ9ciEDzpYlAR++KQJo4jEDugY1AQsuOQJUUkEDpXZFAPKeSQJDwk0DkOZVAN4OWQIvMl0DeFZlAMl+aQIaom0DZ8ZxALTueQIGEn0DUzaBAKBeiQHtgo0DPqaRAI/OlQHY8p0DKhahAHc+pQHEYq0DFYaxAGKutQGz0rkDAPbBAE4exQGfQskC6GbRADmO1QGKstkC19bdACT+5QFyIukCw0btABBu9QFdkvkCrrb9A//bAQFJAwkCmicNA+dLEQE0cxkChZcdA9K7IQEj4yUCcQctA74rMQEPUzUCWHc9A6mbQQD6w0UCR+dJA5ULUQDiM1UCM1dZA4B7YQDNo2UCHsdpA2/rbQC5E3UCCjd5A1dbfQCkg4UB9aeJA0LLjQCT85EB3ReZAy47nQB/Y6EByIepAxmrrQBq07EBt/e1AwUbvQBSQ8EBo2fFAvCLzQA9s9EBjtfVAtv72QApI+EBekflAsdr6QAUk/EBZbf1ArLb+QAAAAEE=",
          "dtype": "f4"
         },
         "y": {
          "bdata": "sIvAu80usL42fSS/lpQuv5LWM75a1ry9ak9Nvod2YD4vllo+0VMvP4SpzD4fxsc+24d5PrzhhT71ICw+s9E7PktLSj76RDk+y/6XPvSiGD5irCY9fv2avsBxJ76hlq89WlKOPsz/Dr5Uxwm+3C88vWzlRb6wMJE92MXQPtD98D6F5O8+Srr4PnDtVz66Eg699FAtvruiID6Br/M+8mucPtdnZTvtmRM98YbnvJDgED3MOoy9gPU5vcu+i70v0Rq9bAmrvt7zer3Xdvw8/BDDvlswwr6aeKm+rP4rvx8f8L6WF6u+8LvfvtqNRb6gQZO93wdFPbTcjT30KcW8v3InPh+Cbz0sZB++Wr0IvnofDL9PJw+/OJwxvz1Ki7+c1yq/HMGovm/bjr4hf609e22sPIA4D72ki4M9l9GjPspuzj6QYgk/t6L2PuSB3D7MrXA/AKt3PyK6YD/k320/qMZ3P0V/Xj+VpWg/C9FiPwqMXD94D2U/8q2GP9BHuz8ElLY/pwi4P6T9vj/cWsM/D0apP7ZeuT/93bU/hO2hP9t/oD9DPHE/sqx+PwJueT/balU/4xYyP8jkmD+XYMU/O8KlPzoSpz9JyGg/NIZzP7BrYD8QZII/vwOcP0eHgz87YLQ/ZJjBP4xw1z/f5dA/20jHP9ay1z+l49E/ZSXKP90voz+Jz6A/qRCTP3g8tD9ty6M/w/CjP/p8oT8T23M/c9kqP4C3UT/RDwU/32kgP9DnZD+AX5A/Y3iRP1krmT/Pk4M/smpCP8Iigz/duJY/ZIm2P5TEwj9pIr0/egm+P5WgwT8ubqU/uHqJPzy/pj9/F7c/F27MPyFAyT+Ynpo/FlKyP+PRzj9gTYY/eN6GPxiJgD97/bU/SfR6Px9MRz8POwY/5QsoP4zrZj+or3w/J9tsP2rUcj/wgKo/gELAPz43oz/FRIc/6NdiP4Qakj+qy6Y/l2KJP04CgT+gm5g/yleNPyy0lz+mPrs/WIbOP9W5vD8ZB6s/BcOoPyvVnj88g4Y/3cWJPxc6Wz8zED0/JfdQP4jdfz8Nr5c/nG+mPwBxvj8=",
          "dtype": "f4"
         }
        },
        {
         "mode": "lines",
         "name": "Sample 5",
         "opacity": 0.7,
         "type": "scatter",
         "x": {
          "bdata": "AAAAAM+pJD3PqaQ9tv72Pc+pJD5D1E0+tv52PpUUkD7PqaQ+CT+5PkPUzT59aeI+tv72PvjJBT+VFBA/Ml8aP8+pJD9s9C4/CT85P6aJQz9D1E0/4B5YP31pYj8atGw/tv52P6qkgD/4yYU/R++KP5UUkD/kOZU/Ml+aP4GEnz/PqaQ/Hc+pP2z0rj+6GbQ/CT+5P1dkvj+micM/9K7IP0PUzT+R+dI/4B7YPy5E3T99aeI/y47nPxq07D9o2fE/tv72PwUk/D+qpABAUTcDQPjJBUCfXAhAR+8KQO6BDUCVFBBAPKcSQOQ5FUCLzBdAMl8aQNnxHECBhB9AKBciQM+pJEB2PCdAHc8pQMVhLEBs9C5AE4cxQLoZNEBirDZACT85QLDRO0BXZD5A//ZAQKaJQ0BNHEZA9K5IQJxBS0BD1E1A6mZQQJH5UkA4jFVA4B5YQIexWkAuRF1A1dZfQH1pYkAk/GRAy45nQHIhakAatGxAwUZvQGjZcUAPbHRAtv52QF6ReUAFJHxArLZ+QKqkgED97YFAUTeDQKWAhED4yYVATBOHQJ9ciEDzpYlAR++KQJo4jEDugY1AQsuOQJUUkEDpXZFAPKeSQJDwk0DkOZVAN4OWQIvMl0DeFZlAMl+aQIaom0DZ8ZxALTueQIGEn0DUzaBAKBeiQHtgo0DPqaRAI/OlQHY8p0DKhahAHc+pQHEYq0DFYaxAGKutQGz0rkDAPbBAE4exQGfQskC6GbRADmO1QGKstkC19bdACT+5QFyIukCw0btABBu9QFdkvkCrrb9A//bAQFJAwkCmicNA+dLEQE0cxkChZcdA9K7IQEj4yUCcQctA74rMQEPUzUCWHc9A6mbQQD6w0UCR+dJA5ULUQDiM1UCM1dZA4B7YQDNo2UCHsdpA2/rbQC5E3UCCjd5A1dbfQCkg4UB9aeJA0LLjQCT85EB3ReZAy47nQB/Y6EByIepAxmrrQBq07EBt/e1AwUbvQBSQ8EBo2fFAvCLzQA9s9EBjtfVAtv72QApI+EBekflAsdr6QAUk/EBZbf1ArLb+QAAAAEE=",
          "dtype": "f4"
         },
         "y": {
          "bdata": "5e/aO8zpvj0p/gw+/P+hPTkoaL7QT8C+eoaNvqgqyr3FFg6+/HjRviIdrr6E1iS+yH+avjyT672MFRW9M/iVvudM575LONm+5CTTvsYEyr4J2iC/dmpMvyZUSr9VuBW/5hYIv3q/Or/3hkm/ghstv3WzHb9mDiW/XHr1vs7Ckr6ftve+QO+GO1eY471J8rA9uDaEPqKXMD6WZI8+gEc9PEX4TT18eao9hGaIPlpgYj5G6Ly96IYIvqsAX77nlum+3W31vhrgrL5IpLe+gNjivhM4ir63BNW+IHC4vsrBp77jrrG+ck4Bv5rVy76ZOem+K4ESv4sHhL6QGQG/+HAyvy/P4L6mkh2+CEQDPjIjaD2AXJW6PLE1vnDH5bxj2Ec+TB1BPuDAqD5HBi4+ZoXvvfcaEL6uq0K+wEZSu+kChD7C5gs+5CMFP7CVnj5oc1k+0AFuvHYM2T2dBUE9GSglPUBDu71ugcc9Sk5OPjA0Yj42kSE+xtdAPg4Cvz6U/dU+UR30PjxThj7Dsgg+7tMDPi5eFT46zoa9OOuTvaJK5b3G2bW+qDDZvpwyO78InHC/dk49v5RhB7/sNlC/w9FNv9HnFL8jkhW/KDcQvzMdAr8bywK/nLC0vVyOuL7a3Ua/QgsRv29oW789p0e/h3hxv53Ejb/UWnq/gy2gv4bVWb/CKoO/yIS2v+iimr/sKKO/kzCUv6z+W7+dL2G/EFZivxnkbr8OGm2/tuggv0vMMr9pTli/0faAv+zfdr8nc4q/4ZyDv1WZbL9G9n6/P2CVv1KInr8Nc5u/GhyZv5+Ds781Mqy/47+jv9mTsL+CNr2/nr62vwHulr/+OGi/dO9Uv1pXZL9IoYi/bcalvytdpL9+75i/BuWGvwz7mr8BdK2/oG25v1Hhy78pr7O/qrWMvzoBi7/HbVC/sw5sv+rgg7/B3pO/rjd9v3CwVb/4l0e/gHh0v4q0mL+QEru/sUC6vx6Nkr/vAJG/iA54v7Jfbb+dXZO/NFhsv5AUgL8ArDq/9CUEv0f3Fr9SXda+kgG8vu9G0r6Vw5S+YxcmvkWD+j4=",
          "dtype": "f4"
         }
        },
        {
         "line": {
          "color": "black",
          "dash": "dash"
         },
         "mode": "lines",
         "name": "Mean Function",
         "type": "scatter",
         "x": {
          "bdata": "AAAAAM+pJD3PqaQ9tv72Pc+pJD5D1E0+tv52PpUUkD7PqaQ+CT+5PkPUzT59aeI+tv72PvjJBT+VFBA/Ml8aP8+pJD9s9C4/CT85P6aJQz9D1E0/4B5YP31pYj8atGw/tv52P6qkgD/4yYU/R++KP5UUkD/kOZU/Ml+aP4GEnz/PqaQ/Hc+pP2z0rj+6GbQ/CT+5P1dkvj+micM/9K7IP0PUzT+R+dI/4B7YPy5E3T99aeI/y47nPxq07D9o2fE/tv72PwUk/D+qpABAUTcDQPjJBUCfXAhAR+8KQO6BDUCVFBBAPKcSQOQ5FUCLzBdAMl8aQNnxHECBhB9AKBciQM+pJEB2PCdAHc8pQMVhLEBs9C5AE4cxQLoZNEBirDZACT85QLDRO0BXZD5A//ZAQKaJQ0BNHEZA9K5IQJxBS0BD1E1A6mZQQJH5UkA4jFVA4B5YQIexWkAuRF1A1dZfQH1pYkAk/GRAy45nQHIhakAatGxAwUZvQGjZcUAPbHRAtv52QF6ReUAFJHxArLZ+QKqkgED97YFAUTeDQKWAhED4yYVATBOHQJ9ciEDzpYlAR++KQJo4jEDugY1AQsuOQJUUkEDpXZFAPKeSQJDwk0DkOZVAN4OWQIvMl0DeFZlAMl+aQIaom0DZ8ZxALTueQIGEn0DUzaBAKBeiQHtgo0DPqaRAI/OlQHY8p0DKhahAHc+pQHEYq0DFYaxAGKutQGz0rkDAPbBAE4exQGfQskC6GbRADmO1QGKstkC19bdACT+5QFyIukCw0btABBu9QFdkvkCrrb9A//bAQFJAwkCmicNA+dLEQE0cxkChZcdA9K7IQEj4yUCcQctA74rMQEPUzUCWHc9A6mbQQD6w0UCR+dJA5ULUQDiM1UCM1dZA4B7YQDNo2UCHsdpA2/rbQC5E3UCCjd5A1dbfQCkg4UB9aeJA0LLjQCT85EB3ReZAy47nQB/Y6EByIepAxmrrQBq07EBt/e1AwUbvQBSQ8EBo2fFAvCLzQA9s9EBjtfVAtv72QApI+EBekflAsdr6QAUk/EBZbf1ArLb+QAAAAEE=",
          "dtype": "f4"
         },
         "y": {
          "bdata": "AAAAAAAAAAAAAAAAAAAAAAAAAAAAAAAAAAAAAAAAAAAAAAAAAAAAAAAAAAAAAAAAAAAAAAAAAAAAAAAAAAAAAAAAAAAAAAAAAAAAAAAAAAAAAAAAAAAAAAAAAAAAAAAAAAAAAAAAAAAAAAAAAAAAAAAAAAAAAAAAAAAAAAAAAAAAAAAAAAAAAAAAAAAAAAAAAAAAAAAAAAAAAAAAAAAAAAAAAAAAAAAAAAAAAAAAAAAAAAAAAAAAAAAAAAAAAAAAAAAAAAAAAAAAAAAAAAAAAAAAAAAAAAAAAAAAAAAAAAAAAAAAAAAAAAAAAAAAAAAAAAAAAAAAAAAAAAAAAAAAAAAAAAAAAAAAAAAAAAAAAAAAAAAAAAAAAAAAAAAAAAAAAAAAAAAAAAAAAAAAAAAAAAAAAAAAAAAAAAAAAAAAAAAAAAAAAAAAAAAAAAAAAAAAAAAAAAAAAAAAAAAAAAAAAAAAAAAAAAAAAAAAAAAAAAAAAAAAAAAAAAAAAAAAAAAAAAAAAAAAAAAAAAAAAAAAAAAAAAAAAAAAAAAAAAAAAAAAAAAAAAAAAAAAAAAAAAAAAAAAAAAAAAAAAAAAAAAAAAAAAAAAAAAAAAAAAAAAAAAAAAAAAAAAAAAAAAAAAAAAAAAAAAAAAAAAAAAAAAAAAAAAAAAAAAAAAAAAAAAAAAAAAAAAAAAAAAAAAAAAAAAAAAAAAAAAAAAAAAAAAAAAAAAAAAAAAAAAAAAAAAAAAAAAAAAAAAAAAAAAAAAAAAAAAAAAAAAAAAAAAAAAAAAAAAAAAAAAAAAAAAAAAAAAAAAAAAAAAAAAAAAAAAAAAAAAAAAAAAAAAAAAAAAAAAAAAAAAAAAAAAAAAAAAAAAAAAAAAAAAAAAAAAAAAAAAAAAAAAAAAAAAAAAAAAAAAAAAAAAAAAAAAAAAAAAAAAAAAAAAAAAAAAAAAAAAAAAAAAAAAAAAAAAAAAAAAAAAAAAAAAAAAAAAAAAAAAAAAAAAAAAAAAAAAAAAAAAAAAAAAAAAAAAAAAAAAAAAAAAAAAAAAAAAAAAAAAAAAAAAAAAAAAA=",
          "dtype": "f4"
         }
        }
       ],
       "layout": {
        "template": {
         "data": {
          "bar": [
           {
            "error_x": {
             "color": "rgb(36,36,36)"
            },
            "error_y": {
             "color": "rgb(36,36,36)"
            },
            "marker": {
             "line": {
              "color": "white",
              "width": 0.5
             },
             "pattern": {
              "fillmode": "overlay",
              "size": 10,
              "solidity": 0.2
             }
            },
            "type": "bar"
           }
          ],
          "barpolar": [
           {
            "marker": {
             "line": {
              "color": "white",
              "width": 0.5
             },
             "pattern": {
              "fillmode": "overlay",
              "size": 10,
              "solidity": 0.2
             }
            },
            "type": "barpolar"
           }
          ],
          "carpet": [
           {
            "aaxis": {
             "endlinecolor": "rgb(36,36,36)",
             "gridcolor": "white",
             "linecolor": "white",
             "minorgridcolor": "white",
             "startlinecolor": "rgb(36,36,36)"
            },
            "baxis": {
             "endlinecolor": "rgb(36,36,36)",
             "gridcolor": "white",
             "linecolor": "white",
             "minorgridcolor": "white",
             "startlinecolor": "rgb(36,36,36)"
            },
            "type": "carpet"
           }
          ],
          "choropleth": [
           {
            "colorbar": {
             "outlinewidth": 1,
             "tickcolor": "rgb(36,36,36)",
             "ticks": "outside"
            },
            "type": "choropleth"
           }
          ],
          "contour": [
           {
            "colorbar": {
             "outlinewidth": 1,
             "tickcolor": "rgb(36,36,36)",
             "ticks": "outside"
            },
            "colorscale": [
             [
              0,
              "#440154"
             ],
             [
              0.1111111111111111,
              "#482878"
             ],
             [
              0.2222222222222222,
              "#3e4989"
             ],
             [
              0.3333333333333333,
              "#31688e"
             ],
             [
              0.4444444444444444,
              "#26828e"
             ],
             [
              0.5555555555555556,
              "#1f9e89"
             ],
             [
              0.6666666666666666,
              "#35b779"
             ],
             [
              0.7777777777777778,
              "#6ece58"
             ],
             [
              0.8888888888888888,
              "#b5de2b"
             ],
             [
              1,
              "#fde725"
             ]
            ],
            "type": "contour"
           }
          ],
          "contourcarpet": [
           {
            "colorbar": {
             "outlinewidth": 1,
             "tickcolor": "rgb(36,36,36)",
             "ticks": "outside"
            },
            "type": "contourcarpet"
           }
          ],
          "heatmap": [
           {
            "colorbar": {
             "outlinewidth": 1,
             "tickcolor": "rgb(36,36,36)",
             "ticks": "outside"
            },
            "colorscale": [
             [
              0,
              "#440154"
             ],
             [
              0.1111111111111111,
              "#482878"
             ],
             [
              0.2222222222222222,
              "#3e4989"
             ],
             [
              0.3333333333333333,
              "#31688e"
             ],
             [
              0.4444444444444444,
              "#26828e"
             ],
             [
              0.5555555555555556,
              "#1f9e89"
             ],
             [
              0.6666666666666666,
              "#35b779"
             ],
             [
              0.7777777777777778,
              "#6ece58"
             ],
             [
              0.8888888888888888,
              "#b5de2b"
             ],
             [
              1,
              "#fde725"
             ]
            ],
            "type": "heatmap"
           }
          ],
          "histogram": [
           {
            "marker": {
             "line": {
              "color": "white",
              "width": 0.6
             }
            },
            "type": "histogram"
           }
          ],
          "histogram2d": [
           {
            "colorbar": {
             "outlinewidth": 1,
             "tickcolor": "rgb(36,36,36)",
             "ticks": "outside"
            },
            "colorscale": [
             [
              0,
              "#440154"
             ],
             [
              0.1111111111111111,
              "#482878"
             ],
             [
              0.2222222222222222,
              "#3e4989"
             ],
             [
              0.3333333333333333,
              "#31688e"
             ],
             [
              0.4444444444444444,
              "#26828e"
             ],
             [
              0.5555555555555556,
              "#1f9e89"
             ],
             [
              0.6666666666666666,
              "#35b779"
             ],
             [
              0.7777777777777778,
              "#6ece58"
             ],
             [
              0.8888888888888888,
              "#b5de2b"
             ],
             [
              1,
              "#fde725"
             ]
            ],
            "type": "histogram2d"
           }
          ],
          "histogram2dcontour": [
           {
            "colorbar": {
             "outlinewidth": 1,
             "tickcolor": "rgb(36,36,36)",
             "ticks": "outside"
            },
            "colorscale": [
             [
              0,
              "#440154"
             ],
             [
              0.1111111111111111,
              "#482878"
             ],
             [
              0.2222222222222222,
              "#3e4989"
             ],
             [
              0.3333333333333333,
              "#31688e"
             ],
             [
              0.4444444444444444,
              "#26828e"
             ],
             [
              0.5555555555555556,
              "#1f9e89"
             ],
             [
              0.6666666666666666,
              "#35b779"
             ],
             [
              0.7777777777777778,
              "#6ece58"
             ],
             [
              0.8888888888888888,
              "#b5de2b"
             ],
             [
              1,
              "#fde725"
             ]
            ],
            "type": "histogram2dcontour"
           }
          ],
          "mesh3d": [
           {
            "colorbar": {
             "outlinewidth": 1,
             "tickcolor": "rgb(36,36,36)",
             "ticks": "outside"
            },
            "type": "mesh3d"
           }
          ],
          "parcoords": [
           {
            "line": {
             "colorbar": {
              "outlinewidth": 1,
              "tickcolor": "rgb(36,36,36)",
              "ticks": "outside"
             }
            },
            "type": "parcoords"
           }
          ],
          "pie": [
           {
            "automargin": true,
            "type": "pie"
           }
          ],
          "scatter": [
           {
            "fillpattern": {
             "fillmode": "overlay",
             "size": 10,
             "solidity": 0.2
            },
            "type": "scatter"
           }
          ],
          "scatter3d": [
           {
            "line": {
             "colorbar": {
              "outlinewidth": 1,
              "tickcolor": "rgb(36,36,36)",
              "ticks": "outside"
             }
            },
            "marker": {
             "colorbar": {
              "outlinewidth": 1,
              "tickcolor": "rgb(36,36,36)",
              "ticks": "outside"
             }
            },
            "type": "scatter3d"
           }
          ],
          "scattercarpet": [
           {
            "marker": {
             "colorbar": {
              "outlinewidth": 1,
              "tickcolor": "rgb(36,36,36)",
              "ticks": "outside"
             }
            },
            "type": "scattercarpet"
           }
          ],
          "scattergeo": [
           {
            "marker": {
             "colorbar": {
              "outlinewidth": 1,
              "tickcolor": "rgb(36,36,36)",
              "ticks": "outside"
             }
            },
            "type": "scattergeo"
           }
          ],
          "scattergl": [
           {
            "marker": {
             "colorbar": {
              "outlinewidth": 1,
              "tickcolor": "rgb(36,36,36)",
              "ticks": "outside"
             }
            },
            "type": "scattergl"
           }
          ],
          "scattermap": [
           {
            "marker": {
             "colorbar": {
              "outlinewidth": 1,
              "tickcolor": "rgb(36,36,36)",
              "ticks": "outside"
             }
            },
            "type": "scattermap"
           }
          ],
          "scattermapbox": [
           {
            "marker": {
             "colorbar": {
              "outlinewidth": 1,
              "tickcolor": "rgb(36,36,36)",
              "ticks": "outside"
             }
            },
            "type": "scattermapbox"
           }
          ],
          "scatterpolar": [
           {
            "marker": {
             "colorbar": {
              "outlinewidth": 1,
              "tickcolor": "rgb(36,36,36)",
              "ticks": "outside"
             }
            },
            "type": "scatterpolar"
           }
          ],
          "scatterpolargl": [
           {
            "marker": {
             "colorbar": {
              "outlinewidth": 1,
              "tickcolor": "rgb(36,36,36)",
              "ticks": "outside"
             }
            },
            "type": "scatterpolargl"
           }
          ],
          "scatterternary": [
           {
            "marker": {
             "colorbar": {
              "outlinewidth": 1,
              "tickcolor": "rgb(36,36,36)",
              "ticks": "outside"
             }
            },
            "type": "scatterternary"
           }
          ],
          "surface": [
           {
            "colorbar": {
             "outlinewidth": 1,
             "tickcolor": "rgb(36,36,36)",
             "ticks": "outside"
            },
            "colorscale": [
             [
              0,
              "#440154"
             ],
             [
              0.1111111111111111,
              "#482878"
             ],
             [
              0.2222222222222222,
              "#3e4989"
             ],
             [
              0.3333333333333333,
              "#31688e"
             ],
             [
              0.4444444444444444,
              "#26828e"
             ],
             [
              0.5555555555555556,
              "#1f9e89"
             ],
             [
              0.6666666666666666,
              "#35b779"
             ],
             [
              0.7777777777777778,
              "#6ece58"
             ],
             [
              0.8888888888888888,
              "#b5de2b"
             ],
             [
              1,
              "#fde725"
             ]
            ],
            "type": "surface"
           }
          ],
          "table": [
           {
            "cells": {
             "fill": {
              "color": "rgb(237,237,237)"
             },
             "line": {
              "color": "white"
             }
            },
            "header": {
             "fill": {
              "color": "rgb(217,217,217)"
             },
             "line": {
              "color": "white"
             }
            },
            "type": "table"
           }
          ]
         },
         "layout": {
          "annotationdefaults": {
           "arrowhead": 0,
           "arrowwidth": 1
          },
          "autotypenumbers": "strict",
          "coloraxis": {
           "colorbar": {
            "outlinewidth": 1,
            "tickcolor": "rgb(36,36,36)",
            "ticks": "outside"
           }
          },
          "colorscale": {
           "diverging": [
            [
             0,
             "rgb(103,0,31)"
            ],
            [
             0.1,
             "rgb(178,24,43)"
            ],
            [
             0.2,
             "rgb(214,96,77)"
            ],
            [
             0.3,
             "rgb(244,165,130)"
            ],
            [
             0.4,
             "rgb(253,219,199)"
            ],
            [
             0.5,
             "rgb(247,247,247)"
            ],
            [
             0.6,
             "rgb(209,229,240)"
            ],
            [
             0.7,
             "rgb(146,197,222)"
            ],
            [
             0.8,
             "rgb(67,147,195)"
            ],
            [
             0.9,
             "rgb(33,102,172)"
            ],
            [
             1,
             "rgb(5,48,97)"
            ]
           ],
           "sequential": [
            [
             0,
             "#440154"
            ],
            [
             0.1111111111111111,
             "#482878"
            ],
            [
             0.2222222222222222,
             "#3e4989"
            ],
            [
             0.3333333333333333,
             "#31688e"
            ],
            [
             0.4444444444444444,
             "#26828e"
            ],
            [
             0.5555555555555556,
             "#1f9e89"
            ],
            [
             0.6666666666666666,
             "#35b779"
            ],
            [
             0.7777777777777778,
             "#6ece58"
            ],
            [
             0.8888888888888888,
             "#b5de2b"
            ],
            [
             1,
             "#fde725"
            ]
           ],
           "sequentialminus": [
            [
             0,
             "#440154"
            ],
            [
             0.1111111111111111,
             "#482878"
            ],
            [
             0.2222222222222222,
             "#3e4989"
            ],
            [
             0.3333333333333333,
             "#31688e"
            ],
            [
             0.4444444444444444,
             "#26828e"
            ],
            [
             0.5555555555555556,
             "#1f9e89"
            ],
            [
             0.6666666666666666,
             "#35b779"
            ],
            [
             0.7777777777777778,
             "#6ece58"
            ],
            [
             0.8888888888888888,
             "#b5de2b"
            ],
            [
             1,
             "#fde725"
            ]
           ]
          },
          "colorway": [
           "#1F77B4",
           "#FF7F0E",
           "#2CA02C",
           "#D62728",
           "#9467BD",
           "#8C564B",
           "#E377C2",
           "#7F7F7F",
           "#BCBD22",
           "#17BECF"
          ],
          "font": {
           "color": "rgb(36,36,36)"
          },
          "geo": {
           "bgcolor": "white",
           "lakecolor": "white",
           "landcolor": "white",
           "showlakes": true,
           "showland": true,
           "subunitcolor": "white"
          },
          "hoverlabel": {
           "align": "left"
          },
          "hovermode": "closest",
          "mapbox": {
           "style": "light"
          },
          "paper_bgcolor": "white",
          "plot_bgcolor": "white",
          "polar": {
           "angularaxis": {
            "gridcolor": "rgb(232,232,232)",
            "linecolor": "rgb(36,36,36)",
            "showgrid": false,
            "showline": true,
            "ticks": "outside"
           },
           "bgcolor": "white",
           "radialaxis": {
            "gridcolor": "rgb(232,232,232)",
            "linecolor": "rgb(36,36,36)",
            "showgrid": false,
            "showline": true,
            "ticks": "outside"
           }
          },
          "scene": {
           "xaxis": {
            "backgroundcolor": "white",
            "gridcolor": "rgb(232,232,232)",
            "gridwidth": 2,
            "linecolor": "rgb(36,36,36)",
            "showbackground": true,
            "showgrid": false,
            "showline": true,
            "ticks": "outside",
            "zeroline": false,
            "zerolinecolor": "rgb(36,36,36)"
           },
           "yaxis": {
            "backgroundcolor": "white",
            "gridcolor": "rgb(232,232,232)",
            "gridwidth": 2,
            "linecolor": "rgb(36,36,36)",
            "showbackground": true,
            "showgrid": false,
            "showline": true,
            "ticks": "outside",
            "zeroline": false,
            "zerolinecolor": "rgb(36,36,36)"
           },
           "zaxis": {
            "backgroundcolor": "white",
            "gridcolor": "rgb(232,232,232)",
            "gridwidth": 2,
            "linecolor": "rgb(36,36,36)",
            "showbackground": true,
            "showgrid": false,
            "showline": true,
            "ticks": "outside",
            "zeroline": false,
            "zerolinecolor": "rgb(36,36,36)"
           }
          },
          "shapedefaults": {
           "fillcolor": "black",
           "line": {
            "width": 0
           },
           "opacity": 0.3
          },
          "ternary": {
           "aaxis": {
            "gridcolor": "rgb(232,232,232)",
            "linecolor": "rgb(36,36,36)",
            "showgrid": false,
            "showline": true,
            "ticks": "outside"
           },
           "baxis": {
            "gridcolor": "rgb(232,232,232)",
            "linecolor": "rgb(36,36,36)",
            "showgrid": false,
            "showline": true,
            "ticks": "outside"
           },
           "bgcolor": "white",
           "caxis": {
            "gridcolor": "rgb(232,232,232)",
            "linecolor": "rgb(36,36,36)",
            "showgrid": false,
            "showline": true,
            "ticks": "outside"
           }
          },
          "title": {
           "x": 0.05
          },
          "xaxis": {
           "automargin": true,
           "gridcolor": "rgb(232,232,232)",
           "linecolor": "rgb(36,36,36)",
           "showgrid": false,
           "showline": true,
           "ticks": "outside",
           "title": {
            "standoff": 15
           },
           "zeroline": false,
           "zerolinecolor": "rgb(36,36,36)"
          },
          "yaxis": {
           "automargin": true,
           "gridcolor": "rgb(232,232,232)",
           "linecolor": "rgb(36,36,36)",
           "showgrid": false,
           "showline": true,
           "ticks": "outside",
           "title": {
            "standoff": 15
           },
           "zeroline": false,
           "zerolinecolor": "rgb(36,36,36)"
          }
         }
        },
        "title": {
         "text": "Samples from a Gaussian Process with Wiener Kernel"
        },
        "xaxis": {
         "title": {
          "text": "x"
         }
        },
        "yaxis": {
         "title": {
          "text": "f(x)"
         }
        }
       }
      }
     },
     "metadata": {},
     "output_type": "display_data"
    }
   ],
   "source": [
    "import plotly.graph_objs as go\n",
    "\n",
    "fig = go.Figure()\n",
    "\n",
    "for i in range(num_samples):\n",
    "    fig.add_trace(\n",
    "        go.Scatter(\n",
    "            x=X_test[:, 0],\n",
    "            y=wiener_samples[i, :],\n",
    "            mode=\"lines\",\n",
    "            name=f\"Sample {i + 1}\",\n",
    "            opacity=0.7,\n",
    "        )\n",
    "    )\n",
    "\n",
    "# Add the mean function (zero)\n",
    "fig.add_trace(\n",
    "    go.Scatter(\n",
    "        x=X_test[:, 0],\n",
    "        y=jnp.zeros_like(X_test[:, 0]),\n",
    "        mode=\"lines\",\n",
    "        name=\"Mean Function\",\n",
    "        line=dict(color=\"black\", dash=\"dash\"),\n",
    "    )\n",
    ")\n",
    "\n",
    "fig.update_layout(\n",
    "    title=\"Samples from a Gaussian Process with Wiener Kernel\",\n",
    "    xaxis_title=\"x\",\n",
    "    yaxis_title=\"f(x)\",\n",
    "    template=\"simple_white\",\n",
    ")\n",
    "\n",
    "fig.show()\n"
   ]
  },
  {
   "cell_type": "markdown",
   "id": "e02d9393",
   "metadata": {},
   "source": [
    "# Spline Kernels\n",
    "\n",
    "Another class of kernels can be derived from integrating simpler basis functions. The slides mention a connection to **splines**, particularly **cubic splines**.\n",
    "\n",
    "Consider integrating the step function features used for the Wiener process:\n",
    "\n",
    "- Integrating $\\theta(x - c_i)$ once gives $\\max(0, x - c_i)$, which are sometimes called **Rectified Linear Unit (ReLU)** features in the context of neural networks.\n",
    "- Integrating twice gives piecewise linear functions.\n",
    "- Integrating thrice gives piecewise quadratic functions, and so on.\n",
    "\n",
    "---\n",
    "\n",
    "## Integrating a GP\n",
    "\n",
    "Integrating a GP also results in a GP. If $f \\sim \\mathcal{GP}(m, k)$, and\n",
    "\n",
    "$$\n",
    "\\tilde{f}(x) = \\int_{-\\infty}^x f(\\tilde{x})\\, d\\tilde{x},\n",
    "$$\n",
    "\n",
    "then $\\tilde{f} \\sim \\mathcal{GP}(\\tilde{m}, \\tilde{k})$, where\n",
    "\n",
    "- $\\tilde{m}(x) = \\int_{-\\infty}^x m(\\tilde{x})\\, d\\tilde{x}$\n",
    "- $\\tilde{k}(x, x') = \\int_{-\\infty}^x \\int_{-\\infty}^{x'} k(\\tilde{x}, \\tilde{x}')\\, d\\tilde{x}'\\, d\\tilde{x}$\n",
    "\n",
    "---\n",
    "\n",
    "## The Cubic Spline Kernel\n",
    "\n",
    "The slides show that integrating the Wiener kernel twice (which corresponds to integrating the step function features twice) leads to a **cubic spline kernel** (specifically, a reproducing kernel for cubic splines with knots at the origin). The formula given is:\n",
    "\n",
    "$$\n",
    "k_{\\text{CubicSpline}}(x_i, x_j) = \\sigma^2 \\left( \\frac{1}{3} \\min^3(x_i - x_0, x_j - x_0) + \\frac{1}{2} |x_i - x_j| \\min^2(x_i - x_0, x_j - x_0) \\right)\n",
    "$$\n",
    "\n",
    "where $x_0$ is a reference point (often $0$). This kernel produces functions that are smoother than the Wiener process, being **twice differentiable**.\n",
    "\n",
    "---\n",
    "\n",
    "Let's implement this kernel."
   ]
  },
  {
   "cell_type": "code",
   "execution_count": 39,
   "id": "a55b0da4",
   "metadata": {},
   "outputs": [
    {
     "name": "stdout",
     "output_type": "stream",
     "text": [
      "Cubic Spline Kernel Matrix:\n",
      " [[0.         0.        ]\n",
      " [0.10416667 0.5833334 ]\n",
      " [0.22916667 1.6875    ]]\n"
     ]
    }
   ],
   "source": [
    "import jax.numpy as jnp\n",
    "\n",
    "\n",
    "def cubic_spline_kernel(\n",
    "    x1: jnp.ndarray, x2: jnp.ndarray, sigma: float = 1.0, x0: float = 0.0\n",
    ") -> jnp.ndarray:\n",
    "    \"\"\"\n",
    "    Computes the Cubic Spline kernel matrix.\n",
    "\n",
    "    Args:\n",
    "        x1: First set of input points. Shape (N1, D). Assumes D=1.\n",
    "        x2: Second set of input points. Shape (N2, D). Assumes D=1.\n",
    "        sigma: Scaling factor.\n",
    "        x0: Reference point.\n",
    "\n",
    "    Returns:\n",
    "        The kernel matrix K. Shape (N1, N2).\n",
    "    \"\"\"\n",
    "    # Ensure inputs are JAX arrays and are 1D\n",
    "    x1 = jnp.atleast_1d(x1).squeeze()\n",
    "    x2 = jnp.atleast_1d(x2).squeeze()\n",
    "\n",
    "    # Shift inputs by x0\n",
    "    x1_shifted = x1 - x0\n",
    "    x2_shifted = x2 - x0\n",
    "\n",
    "    # Compute min(x1_shifted, x2_shifted) for all pairs\n",
    "    min_shifted = jnp.minimum(x1_shifted[:, None], x2_shifted[None, :])\n",
    "\n",
    "    # Compute absolute difference |x1 - x2| for all pairs\n",
    "    abs_diff = jnp.abs(x1[:, None] - x2[None, :])\n",
    "\n",
    "    # Compute the kernel matrix\n",
    "    term1 = (1.0 / 3.0) * jnp.maximum(\n",
    "        0.0, min_shifted\n",
    "    ) ** 3  # Use maximum to handle cases where min is less than x0\n",
    "    term2 = (1.0 / 2.0) * abs_diff * jnp.maximum(0.0, min_shifted) ** 2\n",
    "\n",
    "    K = sigma**2 * (term1 + term2)\n",
    "\n",
    "    return K\n",
    "\n",
    "\n",
    "# Example usage:\n",
    "points1 = jnp.array([0.0, 1.0, 2.0])\n",
    "points2 = jnp.array([0.5, 1.5])\n",
    "kernel_matrix = cubic_spline_kernel(points1, points2, sigma=1.0, x0=0.0)\n",
    "print(\"Cubic Spline Kernel Matrix:\\n\", kernel_matrix)\n"
   ]
  },
  {
   "cell_type": "code",
   "execution_count": 40,
   "id": "b2059eea",
   "metadata": {},
   "outputs": [],
   "source": [
    "# --- Sample from a GP with Cubic Spline Kernel ---\n",
    "# Generate input points\n",
    "X_test = jnp.linspace(-8.0, 8.0, 200)[:, None]  # Test inputs\n",
    "\n",
    "# Define the Cubic Spline kernel\n",
    "cs_sigma = 1.0\n",
    "cs_x0 = 0.0\n",
    "cs_k = partial(cubic_spline_kernel, sigma=cs_sigma, x0=cs_x0)\n",
    "\n",
    "# Sample functions\n",
    "num_samples = 5\n",
    "cs_samples = sample_from_gp(X_test, cs_k, num_samples=num_samples)"
   ]
  },
  {
   "cell_type": "code",
   "execution_count": 41,
   "id": "b857975f",
   "metadata": {},
   "outputs": [
    {
     "data": {
      "application/vnd.plotly.v1+json": {
       "config": {
        "plotlyServerURL": "https://plot.ly"
       },
       "data": [
        {
         "mode": "lines",
         "name": "Sample 1",
         "opacity": 0.7,
         "type": "scatter",
         "x": {
          "bdata": "AAAAwVht/cCy2vrACkj4wGS19cC8IvPAFJDwwG797cDGauvAHtjowHhF5sDQsuPAKiDhwIKN3sDa+tvANGjZwIzV1sDmQtTAPrDRwJYdz8DwiszASPjJwKBlx8D60sTAUkDCwKytv8AEG73AXIi6wLb1t8AOY7XAZtCywMA9sMAYq63AchirwMqFqMAi86XAfGCjwNTNoMAuO57AhqibwN4VmcA4g5bAkPCTwOhdkcBCy47AmjiMwPSlicBME4fApICEwP7tgcCstn7AX5F5wBBsdMDBRm/AcyFqwCT8ZMDV1l/AiLFawDiMVcDrZlDAnEFLwE0cRsD/9kDAsNE7wGGsNsAUhzHAxWEswHc8J8AoFyLA2fEcwIzMF8A8pxLA74ENwKBcCMBRNwPABiT8v2jZ8b/Kjue/METdv5D50r/2rsi/WGS+v7oZtL8gz6m/gISfv+Y5lb9I74q/qqSAvxy0bL/gHli/pIlDv3D0Lr8wXxq//MkFv4Bp4r4IP7m+oBSQvkDUTb7g/va9AKokvcCpJD2g/vY9QNRNPpgUkD4AP7k+gGniPvTJBT8wXxo/bPQuP6SJQz/gHlg/HLRsP6ikgD9G74o/4jmVP4CEnz8ez6k/uBm0P1hkvj/yrsg/kPnSPy5E3T/Kjuc/aNnxPwYk/D9QNwNAoFwIQO2BDUA8pxJAi8wXQNjxHEAoFyJAdTwnQMRhLEAThzFAYaw2QLDRO0D/9kBATBxGQJxBS0DpZlBAOIxVQIexWkDV1l9AJPxkQHEhakDARm9AD2x0QF2ReUCstn5A/u2BQKSAhEBME4dA8qWJQJo4jEBCy45A6F2RQJDwk0A4g5ZA3hWZQIaom0AsO55A1M2gQHxgo0Ai86VAyoWoQHAYq0AYq61AwD2wQGbQskAOY7VAtvW3QFyIukAEG71Aqq2/QFJAwkD60sRAoGXHQEj4yUDuisxAlh3PQD6w0UDkQtRAjNXWQDRo2UDa+ttAgo3eQCgg4UDQsuNAeEXmQB7Y6EDGautAbP3tQBSQ8EC8IvNAYrX1QApI+ECy2vpAWG39QAAAAEE=",
          "dtype": "f4"
         },
         "y": {
          "bdata": "Ru2EPOHopTyJFI67NRdOukzO5jpgRB+8q0yiu3v/oTupsdk7vqwbvBCMsjx7KqC8L/5qO0LTzjrQPFE8fHl3PEMIHzzFesQ7uYCBOXD/nLxgUZi8z5GNPNBp9zkAYwU8QSKsOtxdOTsgwEs85DDiO10xA7y+zvK7Jx98vERfRjs1OVm54XyUOrebELvk3jg60s0LPLGjBry5PRm5uTbFumh6E7yiu/i7F0xaO12WBDz51N85k0q9u03Kh7sIB5+8AaJXPP0o9zuk9NM6J6C2uSADWrxD+4A7EiOeOw6zAzwFqM+7ljAqPDAB87uP44y7loUTu9dIqrsCvoi81EzdOz8FFTuTVkG8LQcgvCkcRDyo1Qm8sDTYO9b7Ljzptk4762mPOzj/PzwduBQ8k1BIPPQKs7sCTAw87g2nuPQimztLtDW8IHbYPIi/ETzHDSM8/D4nOxTKozr0vD483Ov8Om9X+ro4EI+7EMs7vDOAATtieT88/RgPvLt5EDxbg2G7tY+/uuCrFbwJemA8pZ3/u2TagzthEt88ZLw9PWiNmj3RU909iEoaPj42HT6/6AE+JtPaPXMv6z2us/A972QDPgHP8j1lM8I9ZFWzPdCboj1yR1o92C96PWJ8tj11/009FNVqPIutl7strJ+6dJxGvcD5cL3v6ra9ZrjivQGbE74khQO+oO3lvfcfmr0Ztr28TW67O4EMZLyT5rG9K6YKvn0XJb5vM0K+QPBIvg6UXb59dJS+ZhO6vl0J3L49LQq/TBgiv5WwN78KT0y/tbVuvxT/gL/oOoi//w+Wv4Xlnb+mTaK/TdCov1zjrr+zw7W/oeW/v1XNy7++xs2/+drWv/Hf3L9GHuK/4nrnv/iX8L/Nbfu/rTsEwCTzB8BFTg/ASygXwPPyHcAmTyfADestwLMeNsBboz7AiHpGwNpbT8DNjFrAY7FmwBQBdsDQeYLAztSKwFhok8Dd55vA8EelwK9wrsBtfrjATyXBwGJwysB4mdTAvn/ewCAZ6MBpq/LAJwb8wIpFA8FATwjBkw0NwUXKEMFtwhTBSsEYwbyUG8E=",
          "dtype": "f4"
         }
        },
        {
         "mode": "lines",
         "name": "Sample 2",
         "opacity": 0.7,
         "type": "scatter",
         "x": {
          "bdata": "AAAAwVht/cCy2vrACkj4wGS19cC8IvPAFJDwwG797cDGauvAHtjowHhF5sDQsuPAKiDhwIKN3sDa+tvANGjZwIzV1sDmQtTAPrDRwJYdz8DwiszASPjJwKBlx8D60sTAUkDCwKytv8AEG73AXIi6wLb1t8AOY7XAZtCywMA9sMAYq63AchirwMqFqMAi86XAfGCjwNTNoMAuO57AhqibwN4VmcA4g5bAkPCTwOhdkcBCy47AmjiMwPSlicBME4fApICEwP7tgcCstn7AX5F5wBBsdMDBRm/AcyFqwCT8ZMDV1l/AiLFawDiMVcDrZlDAnEFLwE0cRsD/9kDAsNE7wGGsNsAUhzHAxWEswHc8J8AoFyLA2fEcwIzMF8A8pxLA74ENwKBcCMBRNwPABiT8v2jZ8b/Kjue/METdv5D50r/2rsi/WGS+v7oZtL8gz6m/gISfv+Y5lb9I74q/qqSAvxy0bL/gHli/pIlDv3D0Lr8wXxq//MkFv4Bp4r4IP7m+oBSQvkDUTb7g/va9AKokvcCpJD2g/vY9QNRNPpgUkD4AP7k+gGniPvTJBT8wXxo/bPQuP6SJQz/gHlg/HLRsP6ikgD9G74o/4jmVP4CEnz8ez6k/uBm0P1hkvj/yrsg/kPnSPy5E3T/Kjuc/aNnxPwYk/D9QNwNAoFwIQO2BDUA8pxJAi8wXQNjxHEAoFyJAdTwnQMRhLEAThzFAYaw2QLDRO0D/9kBATBxGQJxBS0DpZlBAOIxVQIexWkDV1l9AJPxkQHEhakDARm9AD2x0QF2ReUCstn5A/u2BQKSAhEBME4dA8qWJQJo4jEBCy45A6F2RQJDwk0A4g5ZA3hWZQIaom0AsO55A1M2gQHxgo0Ai86VAyoWoQHAYq0AYq61AwD2wQGbQskAOY7VAtvW3QFyIukAEG71Aqq2/QFJAwkD60sRAoGXHQEj4yUDuisxAlh3PQD6w0UDkQtRAjNXWQDRo2UDa+ttAgo3eQCgg4UDQsuNAeEXmQB7Y6EDGautAbP3tQBSQ8EC8IvNAYrX1QApI+ECy2vpAWG39QAAAAEE=",
          "dtype": "f4"
         },
         "y": {
          "bdata": "CV0fuwInQDwwlwo867fuO1PvwzvhO/u7CWfkOk3vy7vzGAg8bE5ZO3LNEbxJogo7O3Zyull3hLxMHoe72LtmPK9EKTxhIDE8qlc8vEtpqLnZvEO6PkPEO/n+QrysJM67zK0ROgGfbzvzGbM7+4L6OzukXrsenW07/aJCu8XFKDwdMx48yaX3O8vgnjqHzgY8IfbDO5A1CbxGKbI7sA1Tu726kbtv2xU85KtGPE5Hkzw9gYO8LB1ROioE/LuBcZ+80IiCPOWdFrytl4y82E03PDtcBTsZOey6y1HlOtjB8LsNWoY7XS57vHuQi7xcM6c8nUsGu1LCXbr1y9o7XdZivM6JeDuBi/K7YW9VPHQIKLy9qqI7FH3lu2IxwLkKSIi74Ccju7T9FDxYb/a64BHru7JifzskvAi7Mm3/u0d8VDzFrhW8xWGuOvLjBTxjJ5y7Z9qIO5m0zLi2DBi82x3VO9AFA70fdZg71+1bO2naYDkeSzW7B5PeOUD+RLvi+c67hfFIvC416btmbg26vW6rvP45qzu69RO9uamGvSj1Lr4voG++VTaqvteW1b4wJg2/Or0pv7uoP79bFlW/gnVtv4Xcfr/Dqom/XWqXv/BKpr8/Nri/injIv+vv17/NIee/Ipb2v3D/AMAv3gTAnoQJwOejDcB1PBDA6lcTwIw4GMCkaxrA/AAgwMnaIsD0fibAfTsuwMwQNMBxeznAFuc9wENmQsAuNUrAWeJOwAj2VsCI5F3ASZpnwNVTbMCbSnLAi/J2wEUufsDCrILAwbCFwJFhicB+h4rAMGqMwNSfjcB9NI/AX4WPwFIkj8BggY7AqKqNwMnbi8A2fYnAYp2FwLHog8AdYILAbSOAwAmLfcCkfXrAiiN2wBWJcMDI6mvA4ThpwMdgZ8B1+2TAW0phwLkMXsAgH1jA0SNRwHGYSsBK7ULAF+E+wAZMO8CJfjrALjw6wM6NN8CNSTXAC/QwwEmIK8BJ9SbAhHoiwOz8HsA9nxvA1XEVwDGPEMB5EgzAjeAHwGdBAcB6YP2/MVf3v+O/8b8jdfS/9wntv26B7r8=",
          "dtype": "f4"
         }
        },
        {
         "mode": "lines",
         "name": "Sample 3",
         "opacity": 0.7,
         "type": "scatter",
         "x": {
          "bdata": "AAAAwVht/cCy2vrACkj4wGS19cC8IvPAFJDwwG797cDGauvAHtjowHhF5sDQsuPAKiDhwIKN3sDa+tvANGjZwIzV1sDmQtTAPrDRwJYdz8DwiszASPjJwKBlx8D60sTAUkDCwKytv8AEG73AXIi6wLb1t8AOY7XAZtCywMA9sMAYq63AchirwMqFqMAi86XAfGCjwNTNoMAuO57AhqibwN4VmcA4g5bAkPCTwOhdkcBCy47AmjiMwPSlicBME4fApICEwP7tgcCstn7AX5F5wBBsdMDBRm/AcyFqwCT8ZMDV1l/AiLFawDiMVcDrZlDAnEFLwE0cRsD/9kDAsNE7wGGsNsAUhzHAxWEswHc8J8AoFyLA2fEcwIzMF8A8pxLA74ENwKBcCMBRNwPABiT8v2jZ8b/Kjue/METdv5D50r/2rsi/WGS+v7oZtL8gz6m/gISfv+Y5lb9I74q/qqSAvxy0bL/gHli/pIlDv3D0Lr8wXxq//MkFv4Bp4r4IP7m+oBSQvkDUTb7g/va9AKokvcCpJD2g/vY9QNRNPpgUkD4AP7k+gGniPvTJBT8wXxo/bPQuP6SJQz/gHlg/HLRsP6ikgD9G74o/4jmVP4CEnz8ez6k/uBm0P1hkvj/yrsg/kPnSPy5E3T/Kjuc/aNnxPwYk/D9QNwNAoFwIQO2BDUA8pxJAi8wXQNjxHEAoFyJAdTwnQMRhLEAThzFAYaw2QLDRO0D/9kBATBxGQJxBS0DpZlBAOIxVQIexWkDV1l9AJPxkQHEhakDARm9AD2x0QF2ReUCstn5A/u2BQKSAhEBME4dA8qWJQJo4jEBCy45A6F2RQJDwk0A4g5ZA3hWZQIaom0AsO55A1M2gQHxgo0Ai86VAyoWoQHAYq0AYq61AwD2wQGbQskAOY7VAtvW3QFyIukAEG71Aqq2/QFJAwkD60sRAoGXHQEj4yUDuisxAlh3PQD6w0UDkQtRAjNXWQDRo2UDa+ttAgo3eQCgg4UDQsuNAeEXmQB7Y6EDGautAbP3tQBSQ8EC8IvNAYrX1QApI+ECy2vpAWG39QAAAAEE=",
          "dtype": "f4"
         },
         "y": {
          "bdata": "VZu2uSqOuTy0g58713ADPJPbpLs0r3e8AaNJvLZSj7teL526kPytuuG9IDxZlgO7VpwKPLB0+Dtv+2A8k5GjOwlaQjr0Ljs83lVDPHSpfDyLBNK8dGbBuxDSirzcWUU7Az4bPG1iqLpk7Ma7D8/Eu776Br3zf1k751FlOzl6A7xh7ms6VzcMPLM00Lsl+va6VyUMPMKv/Lsc7HM86s23u3Q0xzutNzk895lFvE+LDzz37YA7asaxO4zFITzdk308JAQ3vGJbHjyrF3e87gCJux+yBbwnV+S7HmAou6RKjzuY7tS37kG/PBtSHrmmJ9i7+I2Yu9UJXbyFHdc5wkmTO/kqV7vXLHQ4okcWvPBlszvWK4M6V3a1OzhYAjzru747+1+QOz74uTqNoYO8lVxgOhi7mjtYA947YCHvuh0JhTpCsqi4BOegPF3yNrzszH+8cm+buw33nDwLgkO8q7w7u8bcozpLqDk8Eqwzu1Xp17prro28SSQ4POR12rvnCD86RHQrPMX2frx09ia7USIGvPwKITy8vXQ8i/+uPYDjPj4MrnI+cTSSPpIrtj4RgeA+FtQKP1L4JD+GzUk/hVVqP545iT/Em5o/D9avPyF1wT+GGs8/XuncP5Bw6T+8nfs/BhwJQNASEUAqXxxAqr4lQOORLkDC8TRAfg03QIPPNkCZcTVAt2UzQPXrMkC2tTFAV+cwQJK6LUDgUStAeQgpQP1WJkC7miNAdX8gQCb6HUCCdRtAJl8aQL/lGkCoXBxAMFUfQFhWJEDw1SdAov4tQIifM0CyyjZAp1c6QGCdOkD87z1AlX1DQBADRUCPb0dAGW5MQNbsTkCZ41BAN9RSQLIeVUBiN1JAI5RRQJOXU0Df+FVASIxaQBtAXkBRDV9AjIBiQOnIY0Aqx2ZAJhRpQBsVa0D7vGtAanhtQBKbb0BPnHFAhCdyQMEJdEAbL3VAfdp4QLuneUCQJXpAx+d4QLsneUBpvHlA5F98QN3re0AtUXtArc55QBeIeECZtHhAg7R3QDAaekBfrntAE1N9QOg/fkBbU35AZwiAQBCTgUA=",
          "dtype": "f4"
         }
        },
        {
         "mode": "lines",
         "name": "Sample 4",
         "opacity": 0.7,
         "type": "scatter",
         "x": {
          "bdata": "AAAAwVht/cCy2vrACkj4wGS19cC8IvPAFJDwwG797cDGauvAHtjowHhF5sDQsuPAKiDhwIKN3sDa+tvANGjZwIzV1sDmQtTAPrDRwJYdz8DwiszASPjJwKBlx8D60sTAUkDCwKytv8AEG73AXIi6wLb1t8AOY7XAZtCywMA9sMAYq63AchirwMqFqMAi86XAfGCjwNTNoMAuO57AhqibwN4VmcA4g5bAkPCTwOhdkcBCy47AmjiMwPSlicBME4fApICEwP7tgcCstn7AX5F5wBBsdMDBRm/AcyFqwCT8ZMDV1l/AiLFawDiMVcDrZlDAnEFLwE0cRsD/9kDAsNE7wGGsNsAUhzHAxWEswHc8J8AoFyLA2fEcwIzMF8A8pxLA74ENwKBcCMBRNwPABiT8v2jZ8b/Kjue/METdv5D50r/2rsi/WGS+v7oZtL8gz6m/gISfv+Y5lb9I74q/qqSAvxy0bL/gHli/pIlDv3D0Lr8wXxq//MkFv4Bp4r4IP7m+oBSQvkDUTb7g/va9AKokvcCpJD2g/vY9QNRNPpgUkD4AP7k+gGniPvTJBT8wXxo/bPQuP6SJQz/gHlg/HLRsP6ikgD9G74o/4jmVP4CEnz8ez6k/uBm0P1hkvj/yrsg/kPnSPy5E3T/Kjuc/aNnxPwYk/D9QNwNAoFwIQO2BDUA8pxJAi8wXQNjxHEAoFyJAdTwnQMRhLEAThzFAYaw2QLDRO0D/9kBATBxGQJxBS0DpZlBAOIxVQIexWkDV1l9AJPxkQHEhakDARm9AD2x0QF2ReUCstn5A/u2BQKSAhEBME4dA8qWJQJo4jEBCy45A6F2RQJDwk0A4g5ZA3hWZQIaom0AsO55A1M2gQHxgo0Ai86VAyoWoQHAYq0AYq61AwD2wQGbQskAOY7VAtvW3QFyIukAEG71Aqq2/QFJAwkD60sRAoGXHQEj4yUDuisxAlh3PQD6w0UDkQtRAjNXWQDRo2UDa+ttAgo3eQCgg4UDQsuNAeEXmQB7Y6EDGautAbP3tQBSQ8EC8IvNAYrX1QApI+ECy2vpAWG39QAAAAEE=",
          "dtype": "f4"
         },
         "y": {
          "bdata": "whGDO5vZzLtM/eU7KvI+vK9CEDwso+47/jF8O5tTs7o5aom7OfZDu25Jyzs0Qqu62BtAPMEPq7vW/YY834UEPCdMNzyunic8zf0nPBFSCbyuTM+7fh8KPI2qmrsSAJ2839+ZPJIU2TtR1Ym328t9PLVZjbsO9SK8pMSDuS0FB7wC1qU7SKYiukzff7tHLBu8kOX0up7RB7yYEfu6heqtvGvOCDxzoRy7TWEeu2aBE7zu1BO74unJOmjIFzxZzAq7LkiHO4RWPDxZRfG729EFO+AmUjwQ3tu7d0qWvCJaDTuv1Oc7InSzu9L1UDxmDbk7CrMUO5ZSmroBL4y7E86OOa2XhTyrraC7E92vO29QDjwoAQU8yWJYOxxhsjzVZe67Pqe+uhIEg7w8/TW7hUKSuy5oGLxVhbO8uQAFPPJjPDpqbNc779+HOkVdK7zsm+Q7eNz7OsQn1zsc2gU8HC6fuqA+ADxY9mc8CfpfOzdzoTor2dc7ZK8evAPKBzzjGyG6JpGIO/v2ATyOIlA80Ez0vCkdgDyNU7M8qppcuvttdbyi3/e82iNNvSlQnb1D0YW9GbCLvWVJYb3dMqS9FJmavexrTL1Hm+C88nfbvILyoLzyt9Q8BatGPdQqZD2h1Go8Ky/Hu8oLVr1P2c69PYtHvlJuhb7Z98W+HrIDv6UAKL9lNTS/di9Hv9LlWb9Z3WG/kZlrvw6kdr8+5Xq/yj17v/TmeL+ha3C/McVzv2eQdL98F3m/Y2SDv924hL/HVoa/Vl2LvwJXjL++pJC/8a2Rv5XEj7/kepK/b+KWv6ggor/uFa+/3OO8v10/z7/3nNW/xD/fv9XW5r895+y/Fpjzv2iR/r97ywPA+48JwPM4D8C5ZBTAtoMZwECsIcBiXSrA0tgxwAFCO8DcPUbAQQVTwMQ9X8Ado2zAtw15wPJ7gsAm8InAhQKRwIpJmMA6yp/ADCSnwBnyrMBbm7LAYP24wB8Kv8BxisbA57fNwH/u1cA689zABjvkwJxj68D/W/HAMyj5wIVYAMG/wgPB1J8GwZW7CcFG1wzBxSEQwS8eE8E=",
          "dtype": "f4"
         }
        },
        {
         "mode": "lines",
         "name": "Sample 5",
         "opacity": 0.7,
         "type": "scatter",
         "x": {
          "bdata": "AAAAwVht/cCy2vrACkj4wGS19cC8IvPAFJDwwG797cDGauvAHtjowHhF5sDQsuPAKiDhwIKN3sDa+tvANGjZwIzV1sDmQtTAPrDRwJYdz8DwiszASPjJwKBlx8D60sTAUkDCwKytv8AEG73AXIi6wLb1t8AOY7XAZtCywMA9sMAYq63AchirwMqFqMAi86XAfGCjwNTNoMAuO57AhqibwN4VmcA4g5bAkPCTwOhdkcBCy47AmjiMwPSlicBME4fApICEwP7tgcCstn7AX5F5wBBsdMDBRm/AcyFqwCT8ZMDV1l/AiLFawDiMVcDrZlDAnEFLwE0cRsD/9kDAsNE7wGGsNsAUhzHAxWEswHc8J8AoFyLA2fEcwIzMF8A8pxLA74ENwKBcCMBRNwPABiT8v2jZ8b/Kjue/METdv5D50r/2rsi/WGS+v7oZtL8gz6m/gISfv+Y5lb9I74q/qqSAvxy0bL/gHli/pIlDv3D0Lr8wXxq//MkFv4Bp4r4IP7m+oBSQvkDUTb7g/va9AKokvcCpJD2g/vY9QNRNPpgUkD4AP7k+gGniPvTJBT8wXxo/bPQuP6SJQz/gHlg/HLRsP6ikgD9G74o/4jmVP4CEnz8ez6k/uBm0P1hkvj/yrsg/kPnSPy5E3T/Kjuc/aNnxPwYk/D9QNwNAoFwIQO2BDUA8pxJAi8wXQNjxHEAoFyJAdTwnQMRhLEAThzFAYaw2QLDRO0D/9kBATBxGQJxBS0DpZlBAOIxVQIexWkDV1l9AJPxkQHEhakDARm9AD2x0QF2ReUCstn5A/u2BQKSAhEBME4dA8qWJQJo4jEBCy45A6F2RQJDwk0A4g5ZA3hWZQIaom0AsO55A1M2gQHxgo0Ai86VAyoWoQHAYq0AYq61AwD2wQGbQskAOY7VAtvW3QFyIukAEG71Aqq2/QFJAwkD60sRAoGXHQEj4yUDuisxAlh3PQD6w0UDkQtRAjNXWQDRo2UDa+ttAgo3eQCgg4UDQsuNAeEXmQB7Y6EDGautAbP3tQBSQ8EC8IvNAYrX1QApI+ECy2vpAWG39QAAAAEE=",
          "dtype": "f4"
         },
         "y": {
          "bdata": "MhVLPCyrVLzhMDe8bDDUug432jqb7NI5HekZO5QvyruuYCa85cyCvMJCl7swPiQ8bUsXO6tmqTyy+927QtLuuhQJIjtGfOK6mjyEvOOmaDt8Kkg8L5UqPOVM3zu5Ft67HPqbPGU8YTxlMZ489OARvHnHMDt8zDQ8CnUhPHvGiLtbGG48sIXVum5b1jyQODq8wmGru8CyZzw7nW68uWa3OspV7rqgoJe8KxHTOyp9crtSEmg7eZVxPNxCMrz31sc86yNZvLT8k7zNsIq7bjf6O/3Cv7sCwcA80M0qPBKphjrrNDy7U01Zuj6Gxjsy6xg7necAO7fsT7oydZs8deXQt0LpGTy3K1A8UOeluoyM9zrtfR47ooivu7iPXrwXS3O8Xf5GPDieTzuB//87yfFlPNU0YLqzjZO78HxLvItNubvC4Ec854Kmu45rLjpz7dc6Cbp8PKDgJDxBLE688B+oO6CH+jlMZNQ54sPfuwDkjLqVIsQ7QDWtvAlOMjyv6t068zuhvHMTSTzKMVi8xLxVu9QBADxgfPw7vN4cPXskjD12EeY9bTgnPtGuTz7yCpM+ge25PhQO5z7LhAU/9cYZPy80MT+LQT0/9qhMP6EtZj9lvYI/uI6QP6xyoT+kX7M/aIXHP9Q11T+D1uo/Z24AQDgfCECg+g9ASW8WQHtcHEBs+yFAb/gmQJFELkB+PjRAzD86QEnmQEAE6URAyJZNQFU0VUCUIltAwLFgQHKhZkAsmm1Ap5F1QJkofkAltYNA+h2IQMxXjUD8YpNA/5iZQHthn0ArdqRAWIypQEBJrkBnALRAzuq5QAMrvEAxbMBAtp3DQH7lxkAdg8hAH53KQL8VzEDfNsxA9sLOQGZD0EASs9FAlP3SQKmi1ECBwdZAxFfaQLEW3EBYrd1AFf/fQAVY4UC/9uFAwIDhQCNq4UB9+uBAp/LeQELr20CEktlAcODUQGe5z0AVPclAFjHCQCP7uUBcW7FAfmCnQKN4nUCFX5NAdUKKQH/lf0DcqGpAE/lUQBEiPEBwMiNAPUoLQKsq5j9rIbU/I4J8P+Q7FD8=",
          "dtype": "f4"
         }
        },
        {
         "line": {
          "color": "black",
          "dash": "dash"
         },
         "mode": "lines",
         "name": "Mean Function",
         "type": "scatter",
         "x": {
          "bdata": "AAAAwVht/cCy2vrACkj4wGS19cC8IvPAFJDwwG797cDGauvAHtjowHhF5sDQsuPAKiDhwIKN3sDa+tvANGjZwIzV1sDmQtTAPrDRwJYdz8DwiszASPjJwKBlx8D60sTAUkDCwKytv8AEG73AXIi6wLb1t8AOY7XAZtCywMA9sMAYq63AchirwMqFqMAi86XAfGCjwNTNoMAuO57AhqibwN4VmcA4g5bAkPCTwOhdkcBCy47AmjiMwPSlicBME4fApICEwP7tgcCstn7AX5F5wBBsdMDBRm/AcyFqwCT8ZMDV1l/AiLFawDiMVcDrZlDAnEFLwE0cRsD/9kDAsNE7wGGsNsAUhzHAxWEswHc8J8AoFyLA2fEcwIzMF8A8pxLA74ENwKBcCMBRNwPABiT8v2jZ8b/Kjue/METdv5D50r/2rsi/WGS+v7oZtL8gz6m/gISfv+Y5lb9I74q/qqSAvxy0bL/gHli/pIlDv3D0Lr8wXxq//MkFv4Bp4r4IP7m+oBSQvkDUTb7g/va9AKokvcCpJD2g/vY9QNRNPpgUkD4AP7k+gGniPvTJBT8wXxo/bPQuP6SJQz/gHlg/HLRsP6ikgD9G74o/4jmVP4CEnz8ez6k/uBm0P1hkvj/yrsg/kPnSPy5E3T/Kjuc/aNnxPwYk/D9QNwNAoFwIQO2BDUA8pxJAi8wXQNjxHEAoFyJAdTwnQMRhLEAThzFAYaw2QLDRO0D/9kBATBxGQJxBS0DpZlBAOIxVQIexWkDV1l9AJPxkQHEhakDARm9AD2x0QF2ReUCstn5A/u2BQKSAhEBME4dA8qWJQJo4jEBCy45A6F2RQJDwk0A4g5ZA3hWZQIaom0AsO55A1M2gQHxgo0Ai86VAyoWoQHAYq0AYq61AwD2wQGbQskAOY7VAtvW3QFyIukAEG71Aqq2/QFJAwkD60sRAoGXHQEj4yUDuisxAlh3PQD6w0UDkQtRAjNXWQDRo2UDa+ttAgo3eQCgg4UDQsuNAeEXmQB7Y6EDGautAbP3tQBSQ8EC8IvNAYrX1QApI+ECy2vpAWG39QAAAAEE=",
          "dtype": "f4"
         },
         "y": {
          "bdata": "AAAAAAAAAAAAAAAAAAAAAAAAAAAAAAAAAAAAAAAAAAAAAAAAAAAAAAAAAAAAAAAAAAAAAAAAAAAAAAAAAAAAAAAAAAAAAAAAAAAAAAAAAAAAAAAAAAAAAAAAAAAAAAAAAAAAAAAAAAAAAAAAAAAAAAAAAAAAAAAAAAAAAAAAAAAAAAAAAAAAAAAAAAAAAAAAAAAAAAAAAAAAAAAAAAAAAAAAAAAAAAAAAAAAAAAAAAAAAAAAAAAAAAAAAAAAAAAAAAAAAAAAAAAAAAAAAAAAAAAAAAAAAAAAAAAAAAAAAAAAAAAAAAAAAAAAAAAAAAAAAAAAAAAAAAAAAAAAAAAAAAAAAAAAAAAAAAAAAAAAAAAAAAAAAAAAAAAAAAAAAAAAAAAAAAAAAAAAAAAAAAAAAAAAAAAAAAAAAAAAAAAAAAAAAAAAAAAAAAAAAAAAAAAAAAAAAAAAAAAAAAAAAAAAAAAAAAAAAAAAAAAAAAAAAAAAAAAAAAAAAAAAAAAAAAAAAAAAAAAAAAAAAAAAAAAAAAAAAAAAAAAAAAAAAAAAAAAAAAAAAAAAAAAAAAAAAAAAAAAAAAAAAAAAAAAAAAAAAAAAAAAAAAAAAAAAAAAAAAAAAAAAAAAAAAAAAAAAAAAAAAAAAAAAAAAAAAAAAAAAAAAAAAAAAAAAAAAAAAAAAAAAAAAAAAAAAAAAAAAAAAAAAAAAAAAAAAAAAAAAAAAAAAAAAAAAAAAAAAAAAAAAAAAAAAAAAAAAAAAAAAAAAAAAAAAAAAAAAAAAAAAAAAAAAAAAAAAAAAAAAAAAAAAAAAAAAAAAAAAAAAAAAAAAAAAAAAAAAAAAAAAAAAAAAAAAAAAAAAAAAAAAAAAAAAAAAAAAAAAAAAAAAAAAAAAAAAAAAAAAAAAAAAAAAAAAAAAAAAAAAAAAAAAAAAAAAAAAAAAAAAAAAAAAAAAAAAAAAAAAAAAAAAAAAAAAAAAAAAAAAAAAAAAAAAAAAAAAAAAAAAAAAAAAAAAAAAAAAAAAAAAAAAAAAAAAAAAAAAAAAAAAAAAAAAAAAAAAAAAAAAAAAAA=",
          "dtype": "f4"
         }
        }
       ],
       "layout": {
        "template": {
         "data": {
          "bar": [
           {
            "error_x": {
             "color": "rgb(36,36,36)"
            },
            "error_y": {
             "color": "rgb(36,36,36)"
            },
            "marker": {
             "line": {
              "color": "white",
              "width": 0.5
             },
             "pattern": {
              "fillmode": "overlay",
              "size": 10,
              "solidity": 0.2
             }
            },
            "type": "bar"
           }
          ],
          "barpolar": [
           {
            "marker": {
             "line": {
              "color": "white",
              "width": 0.5
             },
             "pattern": {
              "fillmode": "overlay",
              "size": 10,
              "solidity": 0.2
             }
            },
            "type": "barpolar"
           }
          ],
          "carpet": [
           {
            "aaxis": {
             "endlinecolor": "rgb(36,36,36)",
             "gridcolor": "white",
             "linecolor": "white",
             "minorgridcolor": "white",
             "startlinecolor": "rgb(36,36,36)"
            },
            "baxis": {
             "endlinecolor": "rgb(36,36,36)",
             "gridcolor": "white",
             "linecolor": "white",
             "minorgridcolor": "white",
             "startlinecolor": "rgb(36,36,36)"
            },
            "type": "carpet"
           }
          ],
          "choropleth": [
           {
            "colorbar": {
             "outlinewidth": 1,
             "tickcolor": "rgb(36,36,36)",
             "ticks": "outside"
            },
            "type": "choropleth"
           }
          ],
          "contour": [
           {
            "colorbar": {
             "outlinewidth": 1,
             "tickcolor": "rgb(36,36,36)",
             "ticks": "outside"
            },
            "colorscale": [
             [
              0,
              "#440154"
             ],
             [
              0.1111111111111111,
              "#482878"
             ],
             [
              0.2222222222222222,
              "#3e4989"
             ],
             [
              0.3333333333333333,
              "#31688e"
             ],
             [
              0.4444444444444444,
              "#26828e"
             ],
             [
              0.5555555555555556,
              "#1f9e89"
             ],
             [
              0.6666666666666666,
              "#35b779"
             ],
             [
              0.7777777777777778,
              "#6ece58"
             ],
             [
              0.8888888888888888,
              "#b5de2b"
             ],
             [
              1,
              "#fde725"
             ]
            ],
            "type": "contour"
           }
          ],
          "contourcarpet": [
           {
            "colorbar": {
             "outlinewidth": 1,
             "tickcolor": "rgb(36,36,36)",
             "ticks": "outside"
            },
            "type": "contourcarpet"
           }
          ],
          "heatmap": [
           {
            "colorbar": {
             "outlinewidth": 1,
             "tickcolor": "rgb(36,36,36)",
             "ticks": "outside"
            },
            "colorscale": [
             [
              0,
              "#440154"
             ],
             [
              0.1111111111111111,
              "#482878"
             ],
             [
              0.2222222222222222,
              "#3e4989"
             ],
             [
              0.3333333333333333,
              "#31688e"
             ],
             [
              0.4444444444444444,
              "#26828e"
             ],
             [
              0.5555555555555556,
              "#1f9e89"
             ],
             [
              0.6666666666666666,
              "#35b779"
             ],
             [
              0.7777777777777778,
              "#6ece58"
             ],
             [
              0.8888888888888888,
              "#b5de2b"
             ],
             [
              1,
              "#fde725"
             ]
            ],
            "type": "heatmap"
           }
          ],
          "histogram": [
           {
            "marker": {
             "line": {
              "color": "white",
              "width": 0.6
             }
            },
            "type": "histogram"
           }
          ],
          "histogram2d": [
           {
            "colorbar": {
             "outlinewidth": 1,
             "tickcolor": "rgb(36,36,36)",
             "ticks": "outside"
            },
            "colorscale": [
             [
              0,
              "#440154"
             ],
             [
              0.1111111111111111,
              "#482878"
             ],
             [
              0.2222222222222222,
              "#3e4989"
             ],
             [
              0.3333333333333333,
              "#31688e"
             ],
             [
              0.4444444444444444,
              "#26828e"
             ],
             [
              0.5555555555555556,
              "#1f9e89"
             ],
             [
              0.6666666666666666,
              "#35b779"
             ],
             [
              0.7777777777777778,
              "#6ece58"
             ],
             [
              0.8888888888888888,
              "#b5de2b"
             ],
             [
              1,
              "#fde725"
             ]
            ],
            "type": "histogram2d"
           }
          ],
          "histogram2dcontour": [
           {
            "colorbar": {
             "outlinewidth": 1,
             "tickcolor": "rgb(36,36,36)",
             "ticks": "outside"
            },
            "colorscale": [
             [
              0,
              "#440154"
             ],
             [
              0.1111111111111111,
              "#482878"
             ],
             [
              0.2222222222222222,
              "#3e4989"
             ],
             [
              0.3333333333333333,
              "#31688e"
             ],
             [
              0.4444444444444444,
              "#26828e"
             ],
             [
              0.5555555555555556,
              "#1f9e89"
             ],
             [
              0.6666666666666666,
              "#35b779"
             ],
             [
              0.7777777777777778,
              "#6ece58"
             ],
             [
              0.8888888888888888,
              "#b5de2b"
             ],
             [
              1,
              "#fde725"
             ]
            ],
            "type": "histogram2dcontour"
           }
          ],
          "mesh3d": [
           {
            "colorbar": {
             "outlinewidth": 1,
             "tickcolor": "rgb(36,36,36)",
             "ticks": "outside"
            },
            "type": "mesh3d"
           }
          ],
          "parcoords": [
           {
            "line": {
             "colorbar": {
              "outlinewidth": 1,
              "tickcolor": "rgb(36,36,36)",
              "ticks": "outside"
             }
            },
            "type": "parcoords"
           }
          ],
          "pie": [
           {
            "automargin": true,
            "type": "pie"
           }
          ],
          "scatter": [
           {
            "fillpattern": {
             "fillmode": "overlay",
             "size": 10,
             "solidity": 0.2
            },
            "type": "scatter"
           }
          ],
          "scatter3d": [
           {
            "line": {
             "colorbar": {
              "outlinewidth": 1,
              "tickcolor": "rgb(36,36,36)",
              "ticks": "outside"
             }
            },
            "marker": {
             "colorbar": {
              "outlinewidth": 1,
              "tickcolor": "rgb(36,36,36)",
              "ticks": "outside"
             }
            },
            "type": "scatter3d"
           }
          ],
          "scattercarpet": [
           {
            "marker": {
             "colorbar": {
              "outlinewidth": 1,
              "tickcolor": "rgb(36,36,36)",
              "ticks": "outside"
             }
            },
            "type": "scattercarpet"
           }
          ],
          "scattergeo": [
           {
            "marker": {
             "colorbar": {
              "outlinewidth": 1,
              "tickcolor": "rgb(36,36,36)",
              "ticks": "outside"
             }
            },
            "type": "scattergeo"
           }
          ],
          "scattergl": [
           {
            "marker": {
             "colorbar": {
              "outlinewidth": 1,
              "tickcolor": "rgb(36,36,36)",
              "ticks": "outside"
             }
            },
            "type": "scattergl"
           }
          ],
          "scattermap": [
           {
            "marker": {
             "colorbar": {
              "outlinewidth": 1,
              "tickcolor": "rgb(36,36,36)",
              "ticks": "outside"
             }
            },
            "type": "scattermap"
           }
          ],
          "scattermapbox": [
           {
            "marker": {
             "colorbar": {
              "outlinewidth": 1,
              "tickcolor": "rgb(36,36,36)",
              "ticks": "outside"
             }
            },
            "type": "scattermapbox"
           }
          ],
          "scatterpolar": [
           {
            "marker": {
             "colorbar": {
              "outlinewidth": 1,
              "tickcolor": "rgb(36,36,36)",
              "ticks": "outside"
             }
            },
            "type": "scatterpolar"
           }
          ],
          "scatterpolargl": [
           {
            "marker": {
             "colorbar": {
              "outlinewidth": 1,
              "tickcolor": "rgb(36,36,36)",
              "ticks": "outside"
             }
            },
            "type": "scatterpolargl"
           }
          ],
          "scatterternary": [
           {
            "marker": {
             "colorbar": {
              "outlinewidth": 1,
              "tickcolor": "rgb(36,36,36)",
              "ticks": "outside"
             }
            },
            "type": "scatterternary"
           }
          ],
          "surface": [
           {
            "colorbar": {
             "outlinewidth": 1,
             "tickcolor": "rgb(36,36,36)",
             "ticks": "outside"
            },
            "colorscale": [
             [
              0,
              "#440154"
             ],
             [
              0.1111111111111111,
              "#482878"
             ],
             [
              0.2222222222222222,
              "#3e4989"
             ],
             [
              0.3333333333333333,
              "#31688e"
             ],
             [
              0.4444444444444444,
              "#26828e"
             ],
             [
              0.5555555555555556,
              "#1f9e89"
             ],
             [
              0.6666666666666666,
              "#35b779"
             ],
             [
              0.7777777777777778,
              "#6ece58"
             ],
             [
              0.8888888888888888,
              "#b5de2b"
             ],
             [
              1,
              "#fde725"
             ]
            ],
            "type": "surface"
           }
          ],
          "table": [
           {
            "cells": {
             "fill": {
              "color": "rgb(237,237,237)"
             },
             "line": {
              "color": "white"
             }
            },
            "header": {
             "fill": {
              "color": "rgb(217,217,217)"
             },
             "line": {
              "color": "white"
             }
            },
            "type": "table"
           }
          ]
         },
         "layout": {
          "annotationdefaults": {
           "arrowhead": 0,
           "arrowwidth": 1
          },
          "autotypenumbers": "strict",
          "coloraxis": {
           "colorbar": {
            "outlinewidth": 1,
            "tickcolor": "rgb(36,36,36)",
            "ticks": "outside"
           }
          },
          "colorscale": {
           "diverging": [
            [
             0,
             "rgb(103,0,31)"
            ],
            [
             0.1,
             "rgb(178,24,43)"
            ],
            [
             0.2,
             "rgb(214,96,77)"
            ],
            [
             0.3,
             "rgb(244,165,130)"
            ],
            [
             0.4,
             "rgb(253,219,199)"
            ],
            [
             0.5,
             "rgb(247,247,247)"
            ],
            [
             0.6,
             "rgb(209,229,240)"
            ],
            [
             0.7,
             "rgb(146,197,222)"
            ],
            [
             0.8,
             "rgb(67,147,195)"
            ],
            [
             0.9,
             "rgb(33,102,172)"
            ],
            [
             1,
             "rgb(5,48,97)"
            ]
           ],
           "sequential": [
            [
             0,
             "#440154"
            ],
            [
             0.1111111111111111,
             "#482878"
            ],
            [
             0.2222222222222222,
             "#3e4989"
            ],
            [
             0.3333333333333333,
             "#31688e"
            ],
            [
             0.4444444444444444,
             "#26828e"
            ],
            [
             0.5555555555555556,
             "#1f9e89"
            ],
            [
             0.6666666666666666,
             "#35b779"
            ],
            [
             0.7777777777777778,
             "#6ece58"
            ],
            [
             0.8888888888888888,
             "#b5de2b"
            ],
            [
             1,
             "#fde725"
            ]
           ],
           "sequentialminus": [
            [
             0,
             "#440154"
            ],
            [
             0.1111111111111111,
             "#482878"
            ],
            [
             0.2222222222222222,
             "#3e4989"
            ],
            [
             0.3333333333333333,
             "#31688e"
            ],
            [
             0.4444444444444444,
             "#26828e"
            ],
            [
             0.5555555555555556,
             "#1f9e89"
            ],
            [
             0.6666666666666666,
             "#35b779"
            ],
            [
             0.7777777777777778,
             "#6ece58"
            ],
            [
             0.8888888888888888,
             "#b5de2b"
            ],
            [
             1,
             "#fde725"
            ]
           ]
          },
          "colorway": [
           "#1F77B4",
           "#FF7F0E",
           "#2CA02C",
           "#D62728",
           "#9467BD",
           "#8C564B",
           "#E377C2",
           "#7F7F7F",
           "#BCBD22",
           "#17BECF"
          ],
          "font": {
           "color": "rgb(36,36,36)"
          },
          "geo": {
           "bgcolor": "white",
           "lakecolor": "white",
           "landcolor": "white",
           "showlakes": true,
           "showland": true,
           "subunitcolor": "white"
          },
          "hoverlabel": {
           "align": "left"
          },
          "hovermode": "closest",
          "mapbox": {
           "style": "light"
          },
          "paper_bgcolor": "white",
          "plot_bgcolor": "white",
          "polar": {
           "angularaxis": {
            "gridcolor": "rgb(232,232,232)",
            "linecolor": "rgb(36,36,36)",
            "showgrid": false,
            "showline": true,
            "ticks": "outside"
           },
           "bgcolor": "white",
           "radialaxis": {
            "gridcolor": "rgb(232,232,232)",
            "linecolor": "rgb(36,36,36)",
            "showgrid": false,
            "showline": true,
            "ticks": "outside"
           }
          },
          "scene": {
           "xaxis": {
            "backgroundcolor": "white",
            "gridcolor": "rgb(232,232,232)",
            "gridwidth": 2,
            "linecolor": "rgb(36,36,36)",
            "showbackground": true,
            "showgrid": false,
            "showline": true,
            "ticks": "outside",
            "zeroline": false,
            "zerolinecolor": "rgb(36,36,36)"
           },
           "yaxis": {
            "backgroundcolor": "white",
            "gridcolor": "rgb(232,232,232)",
            "gridwidth": 2,
            "linecolor": "rgb(36,36,36)",
            "showbackground": true,
            "showgrid": false,
            "showline": true,
            "ticks": "outside",
            "zeroline": false,
            "zerolinecolor": "rgb(36,36,36)"
           },
           "zaxis": {
            "backgroundcolor": "white",
            "gridcolor": "rgb(232,232,232)",
            "gridwidth": 2,
            "linecolor": "rgb(36,36,36)",
            "showbackground": true,
            "showgrid": false,
            "showline": true,
            "ticks": "outside",
            "zeroline": false,
            "zerolinecolor": "rgb(36,36,36)"
           }
          },
          "shapedefaults": {
           "fillcolor": "black",
           "line": {
            "width": 0
           },
           "opacity": 0.3
          },
          "ternary": {
           "aaxis": {
            "gridcolor": "rgb(232,232,232)",
            "linecolor": "rgb(36,36,36)",
            "showgrid": false,
            "showline": true,
            "ticks": "outside"
           },
           "baxis": {
            "gridcolor": "rgb(232,232,232)",
            "linecolor": "rgb(36,36,36)",
            "showgrid": false,
            "showline": true,
            "ticks": "outside"
           },
           "bgcolor": "white",
           "caxis": {
            "gridcolor": "rgb(232,232,232)",
            "linecolor": "rgb(36,36,36)",
            "showgrid": false,
            "showline": true,
            "ticks": "outside"
           }
          },
          "title": {
           "x": 0.05
          },
          "xaxis": {
           "automargin": true,
           "gridcolor": "rgb(232,232,232)",
           "linecolor": "rgb(36,36,36)",
           "showgrid": false,
           "showline": true,
           "ticks": "outside",
           "title": {
            "standoff": 15
           },
           "zeroline": false,
           "zerolinecolor": "rgb(36,36,36)"
          },
          "yaxis": {
           "automargin": true,
           "gridcolor": "rgb(232,232,232)",
           "linecolor": "rgb(36,36,36)",
           "showgrid": false,
           "showline": true,
           "ticks": "outside",
           "title": {
            "standoff": 15
           },
           "zeroline": false,
           "zerolinecolor": "rgb(36,36,36)"
          }
         }
        },
        "title": {
         "text": "Samples from a Gaussian Process with Cubic Spline Kernel"
        },
        "xaxis": {
         "title": {
          "text": "x"
         }
        },
        "yaxis": {
         "title": {
          "text": "f(x)"
         }
        }
       }
      }
     },
     "metadata": {},
     "output_type": "display_data"
    }
   ],
   "source": [
    "import plotly.graph_objs as go\n",
    "\n",
    "fig = go.Figure()\n",
    "\n",
    "for i in range(num_samples):\n",
    "    fig.add_trace(\n",
    "        go.Scatter(\n",
    "            x=X_test[:, 0],\n",
    "            y=cs_samples[i, :],\n",
    "            mode=\"lines\",\n",
    "            name=f\"Sample {i + 1}\",\n",
    "            opacity=0.7,\n",
    "        )\n",
    "    )\n",
    "\n",
    "# Add the mean function (zero)\n",
    "fig.add_trace(\n",
    "    go.Scatter(\n",
    "        x=X_test[:, 0],\n",
    "        y=jnp.zeros_like(X_test[:, 0]),\n",
    "        mode=\"lines\",\n",
    "        name=\"Mean Function\",\n",
    "        line=dict(color=\"black\", dash=\"dash\"),\n",
    "    )\n",
    ")\n",
    "\n",
    "fig.update_layout(\n",
    "    title=\"Samples from a Gaussian Process with Cubic Spline Kernel\",\n",
    "    xaxis_title=\"x\",\n",
    "    yaxis_title=\"f(x)\",\n",
    "    template=\"simple_white\",\n",
    ")\n",
    "\n",
    "fig.show()\n"
   ]
  },
  {
   "cell_type": "markdown",
   "id": "0900ddef",
   "metadata": {},
   "source": [
    "# The Matérn Family of Kernels\n",
    "\n",
    "The **Matérn family** is a very popular class of kernels that allows us to control the smoothness of the functions drawn from the GP using a parameter $\\nu$. The general form involves the modified Bessel function of the second kind $K_\\nu$:\n",
    "\n",
    "$$\n",
    "k_{\\nu, \\ell}(|r|) = \\frac{2^{1-\\nu}}{\\Gamma(\\nu)} \\left( \\frac{\\sqrt{2\\nu}|r|}{\\ell} \\right)^\\nu K_\\nu \\left( \\frac{\\sqrt{2\\nu}|r|}{\\ell} \\right)\n",
    "$$\n",
    "\n",
    "where $|r| = \\|x - x'\\|$ is the distance between input points and $\\ell$ is the length scale.\n",
    "\n",
    "---\n",
    "\n",
    "## Smoothness Parameter $\\nu$\n",
    "\n",
    "The parameter $\\nu$ influences the differentiability of the functions. For $\\nu = p + 1/2$ where $p$ is a non-negative integer, the Matérn kernel has a simpler closed form and corresponds to functions that are $p$ times mean-square differentiable.\n",
    "\n",
    "---\n",
    "\n",
    "## Common Special Cases\n",
    "\n",
    "- **$\\nu = 1/2$ (Ornstein-Uhlenbeck kernel):**  \n",
    "    Results in functions that are continuous but not differentiable.\n",
    "    $$\n",
    "    k_{1/2, \\ell}(|r|) = \\exp\\left(-\\frac{|r|}{\\ell}\\right)\n",
    "    $$\n",
    "\n",
    "- **$\\nu = 3/2$:**  \n",
    "    Functions are once mean-square differentiable.\n",
    "    $$\n",
    "    k_{3/2, \\ell}(|r|) = \\left(1 + \\frac{\\sqrt{3}|r|}{\\ell}\\right) \\exp\\left(-\\frac{\\sqrt{3}|r|}{\\ell}\\right)\n",
    "    $$\n",
    "\n",
    "- **$\\nu = 5/2$:**  \n",
    "    Functions are twice mean-square differentiable.\n",
    "    $$\n",
    "    k_{5/2, \\ell}(|r|) = \\left(1 + \\frac{\\sqrt{5}|r|}{\\ell} + \\frac{5|r|^2}{3\\ell^2}\\right) \\exp\\left(-\\frac{\\sqrt{5}|r|}{\\ell}\\right)\n",
    "    $$\n",
    "\n",
    "- **As $\\nu \\to \\infty$ (Squared Exponential / RBF kernel):**  \n",
    "    Produces infinitely differentiable functions.\n",
    "    $$\n",
    "    k_{\\infty, \\ell}(|r|) = \\exp\\left(-\\frac{|r|^2}{2\\ell^2}\\right)\n",
    "    $$\n",
    "\n",
    "---\n",
    "\n",
    "Let's implement these specific Matérn kernels and sample from GPs using them to see the effect of $\\nu$."
   ]
  },
  {
   "cell_type": "code",
   "execution_count": 8,
   "id": "b8a11d67",
   "metadata": {},
   "outputs": [],
   "source": [
    "import jax.numpy as jnp\n",
    "\n",
    "\n",
    "def matern_kernel(\n",
    "    x1: jnp.ndarray,\n",
    "    x2: jnp.ndarray,\n",
    "    nu: float,\n",
    "    lengthscale: float = 1.0,\n",
    "    sigma: float = 1.0,\n",
    ") -> jnp.ndarray:\n",
    "    \"\"\"\n",
    "    Computes the Matérn kernel matrix for specific nu values (1/2, 3/2, 5/2).\n",
    "\n",
    "    Args:\n",
    "        x1: First set of input points. Shape (N1, D).\n",
    "        x2: Second set of input points. Shape (N2, D).\n",
    "        nu: The parameter controlling smoothness (1/2, 3/2, or 5/2).\n",
    "        lengthscale: Length scale hyperparameter.\n",
    "        sigma: Output variance (amplitude) hyperparameter.\n",
    "\n",
    "    Returns:\n",
    "        The kernel matrix K. Shape (N1, N2).\n",
    "    Raises:\n",
    "        ValueError: If nu is not one of the implemented values.\n",
    "    \"\"\"\n",
    "    # Ensure inputs are JAX arrays and have at least 2 dimensions\n",
    "    x1 = jnp.atleast_2d(x1)\n",
    "    x2 = jnp.atleast_2d(x2)\n",
    "\n",
    "    # Compute the Euclidean distance between all pairs of points\n",
    "    # (N1, 1, D) - (1, N2, D) -> (N1, N2, D)\n",
    "    # Sum over the last dimension and take sqrt: (N1, N2)\n",
    "    dist = jnp.sqrt(jnp.sum((x1[:, None, :] - x2[None, :, :]) ** 2, axis=-1))\n",
    "\n",
    "    # Compute the scaled distance\n",
    "    scaled_dist = dist / lengthscale\n",
    "\n",
    "    if nu == 0.5:\n",
    "        K = sigma**2 * jnp.exp(-scaled_dist)\n",
    "    elif nu == 1.5:\n",
    "        K = (\n",
    "            sigma**2\n",
    "            * (1.0 + jnp.sqrt(3.0) * scaled_dist)\n",
    "            * jnp.exp(-jnp.sqrt(3.0) * scaled_dist)\n",
    "        )\n",
    "    elif nu == 2.5:\n",
    "        K = (\n",
    "            sigma**2\n",
    "            * (1.0 + jnp.sqrt(5.0) * scaled_dist + (5.0 / 3.0) * scaled_dist**2)\n",
    "            * jnp.exp(-jnp.sqrt(5.0) * scaled_dist)\n",
    "        )\n",
    "    else:\n",
    "        raise ValueError(f\"Matérn nu={nu} not implemented. Use 0.5, 1.5, or 2.5.\")\n",
    "\n",
    "    return K\n",
    "\n",
    "\n",
    "# Implement the RBF kernel again for comparison (Matérn nu -> infinity)\n",
    "def rbf_kernel(\n",
    "    x1: jnp.ndarray, x2: jnp.ndarray, lengthscale: float = 1.0, sigma: float = 1.0\n",
    ") -> jnp.ndarray:\n",
    "    \"\"\"\n",
    "    Computes the Squared Exponential (RBF) kernel matrix.\n",
    "    This is the limit of the Matérn kernel as nu -> infinity.\n",
    "    \"\"\"\n",
    "    # Ensure inputs are JAX arrays and have at least 2 dimensions\n",
    "    x1 = jnp.atleast_2d(x1)\n",
    "    x2 = jnp.atleast_2d(x2)\n",
    "\n",
    "    # Compute the squared Euclidean distance\n",
    "    sq_dist = jnp.sum((x1[:, None, :] - x2[None, :, :]) ** 2, axis=-1)\n",
    "\n",
    "    # Compute the kernel matrix\n",
    "    K = sigma**2 * jnp.exp(-0.5 * sq_dist / lengthscale**2)\n",
    "    return K\n",
    "\n",
    "\n",
    "# Example usage:\n",
    "# points1 = jnp.array([[0.0], [1.0], [2.0]])\n",
    "# points2 = jnp.array([[0.5], [1.5]])\n",
    "# matern_1_2_k = matern_kernel(points1, points2, nu=0.5, lengthscale=1.0, sigma=1.0)\n",
    "# print(\"Matérn nu=1/2 Kernel Matrix:\\n\", matern_1_2_k)\n"
   ]
  },
  {
   "cell_type": "code",
   "execution_count": 42,
   "id": "d1b3d4d1",
   "metadata": {},
   "outputs": [],
   "source": [
    "# --- Sample from GPs with Different Matérn Kernels ---\n",
    "# Generate input points\n",
    "X_test = jnp.linspace(-8.0, 8.0, 200)[:, None]  # Test inputs\n",
    "\n",
    "# Define kernels with different nu values\n",
    "matern_1_2_k = lambda x1, x2: matern_kernel(x1, x2, nu=0.5, lengthscale=2.0, sigma=1.0)\n",
    "matern_3_2_k = lambda x1, x2: matern_kernel(x1, x2, nu=1.5, lengthscale=2.0, sigma=1.0)\n",
    "matern_5_2_k = lambda x1, x2: matern_kernel(x1, x2, nu=2.5, lengthscale=2.0, sigma=1.0)\n",
    "rbf_k = lambda x1, x2: rbf_kernel(\n",
    "    x1, x2, lengthscale=2.0, sigma=1.0\n",
    ")  # Matérn nu -> infinity\n",
    "\n",
    "# Sample functions from each GP\n",
    "num_samples_per_kernel = 3\n",
    "matern_1_2_samples = sample_from_gp(\n",
    "    X_test, matern_1_2_k, num_samples=num_samples_per_kernel\n",
    ")\n",
    "matern_3_2_samples = sample_from_gp(\n",
    "    X_test, matern_3_2_k, num_samples=num_samples_per_kernel\n",
    ")\n",
    "matern_5_2_samples = sample_from_gp(\n",
    "    X_test, matern_5_2_k, num_samples=num_samples_per_kernel\n",
    ")\n",
    "rbf_samples = sample_from_gp(X_test, rbf_k, num_samples=num_samples_per_kernel)\n"
   ]
  },
  {
   "cell_type": "code",
   "execution_count": 45,
   "id": "44d3ffe5",
   "metadata": {},
   "outputs": [
    {
     "data": {
      "application/vnd.plotly.v1+json": {
       "config": {
        "plotlyServerURL": "https://plot.ly"
       },
       "data": [
        {
         "mode": "lines",
         "name": "ν=1/2 Sample 1",
         "showlegend": true,
         "type": "scatter",
         "x": {
          "bdata": "AAAAwVht/cCy2vrACkj4wGS19cC8IvPAFJDwwG797cDGauvAHtjowHhF5sDQsuPAKiDhwIKN3sDa+tvANGjZwIzV1sDmQtTAPrDRwJYdz8DwiszASPjJwKBlx8D60sTAUkDCwKytv8AEG73AXIi6wLb1t8AOY7XAZtCywMA9sMAYq63AchirwMqFqMAi86XAfGCjwNTNoMAuO57AhqibwN4VmcA4g5bAkPCTwOhdkcBCy47AmjiMwPSlicBME4fApICEwP7tgcCstn7AX5F5wBBsdMDBRm/AcyFqwCT8ZMDV1l/AiLFawDiMVcDrZlDAnEFLwE0cRsD/9kDAsNE7wGGsNsAUhzHAxWEswHc8J8AoFyLA2fEcwIzMF8A8pxLA74ENwKBcCMBRNwPABiT8v2jZ8b/Kjue/METdv5D50r/2rsi/WGS+v7oZtL8gz6m/gISfv+Y5lb9I74q/qqSAvxy0bL/gHli/pIlDv3D0Lr8wXxq//MkFv4Bp4r4IP7m+oBSQvkDUTb7g/va9AKokvcCpJD2g/vY9QNRNPpgUkD4AP7k+gGniPvTJBT8wXxo/bPQuP6SJQz/gHlg/HLRsP6ikgD9G74o/4jmVP4CEnz8ez6k/uBm0P1hkvj/yrsg/kPnSPy5E3T/Kjuc/aNnxPwYk/D9QNwNAoFwIQO2BDUA8pxJAi8wXQNjxHEAoFyJAdTwnQMRhLEAThzFAYaw2QLDRO0D/9kBATBxGQJxBS0DpZlBAOIxVQIexWkDV1l9AJPxkQHEhakDARm9AD2x0QF2ReUCstn5A/u2BQKSAhEBME4dA8qWJQJo4jEBCy45A6F2RQJDwk0A4g5ZA3hWZQIaom0AsO55A1M2gQHxgo0Ai86VAyoWoQHAYq0AYq61AwD2wQGbQskAOY7VAtvW3QFyIukAEG71Aqq2/QFJAwkD60sRAoGXHQEj4yUDuisxAlh3PQD6w0UDkQtRAjNXWQDRo2UDa+ttAgo3eQCgg4UDQsuNAeEXmQB7Y6EDGautAbP3tQBSQ8EC8IvNAYrX1QApI+ECy2vpAWG39QAAAAEE=",
          "dtype": "f4"
         },
         "xaxis": "x",
         "y": {
          "bdata": "ZbXPP9jSB0CeaPU/E/XoP9oN5j+fWro/FmmhP8aurD+Ohb0/my2UP+8E3D+hm40/F+OUPxiglD8GQbw/k5XqP9zsAUCydgdAdI0CQDKMtj/jaVo/gYumP0GWoT/kN7g//pm1P9eDuD/vh90/7VXtPwJuxz87NqU/mtZPP3JZXT/0H1M/7OBSP6jWOj88hTg/0ghuP7EIKj+cXSI/2j8RP1TSlj5qhpM99AsmPgEAwz6oQcE+DKZOPrM7oT39zu2+8EKiva+LCD4H+zA+6wUgPmB3Yb5y4s+9ViwWPUJ7hD6cS5M9mH23PtrRDD51IlA8/f1NvZR7Rb57TCa/5ffevgnntb4OdSu/ri5qv4SXC791IkK/GWcLvziGZ75q5AS+0wBDuwdwpT6aBRA//V5hP2V0MT9bhGc/pb9dP5++dj9J9x0/CQyqPzjqwj/8pd4/YeveP86T2j+Cbfs/FFj4P52+5z/3Ec8/jBmePxz2nj82UcI/aX+bP+/RtD8gZqE/IdmVP03RXj923Zs/h79zP04agj/vup8/lSOZP4Kamj+MSJs/uMuiPx2QXj9KTtg+xrm/PkS6Kj8FCzI/HT86P9XUAz9/xZU+vJ/JPtqh3D5Y63s+ScL/Psb5Rz8JFjY+5UTevN2CDj4GEdo+fQKZOhK/PT5UHsA9rlICPi1f8jx5UO4+wEAbP3WfSD9ISXI/4Vs5P43pFz6Kewe/pezcvlG/u712xG68gHY2Po4czD2bJe++wRMfv/TWBL+S1F+/zKxPvyn6Ir9Nygm/MVmDv/EJFr9qLUm+K/Uav1t4pL6Cmao9smYGPQVfvLqjI429R+KqvnjgB7+XWlM+CgLIvWZ41btKma09ecHVPe3nTb4AvNC+FWYRv7n1UL4gOxy/NW1OvzDSHr8DEm2/Iwcev78eN7/xXEe/0cgnv4C0T7+vqY6/XY+ov7D/7L/0Fum/w1X3v6+XAsC+Dfy/XwQJwKY5AsCmTA3ACPjhv8tt57+89ADAPRb3v/Xw3r8PVvy/OmvNv+Uu3b+MNte/+rKjv3zkK78VVCq/6qoLv9YMBj4=",
          "dtype": "f4"
         },
         "yaxis": "y"
        },
        {
         "mode": "lines",
         "name": "ν=3/2 Sample 1",
         "showlegend": false,
         "type": "scatter",
         "x": {
          "bdata": "AAAAwVht/cCy2vrACkj4wGS19cC8IvPAFJDwwG797cDGauvAHtjowHhF5sDQsuPAKiDhwIKN3sDa+tvANGjZwIzV1sDmQtTAPrDRwJYdz8DwiszASPjJwKBlx8D60sTAUkDCwKytv8AEG73AXIi6wLb1t8AOY7XAZtCywMA9sMAYq63AchirwMqFqMAi86XAfGCjwNTNoMAuO57AhqibwN4VmcA4g5bAkPCTwOhdkcBCy47AmjiMwPSlicBME4fApICEwP7tgcCstn7AX5F5wBBsdMDBRm/AcyFqwCT8ZMDV1l/AiLFawDiMVcDrZlDAnEFLwE0cRsD/9kDAsNE7wGGsNsAUhzHAxWEswHc8J8AoFyLA2fEcwIzMF8A8pxLA74ENwKBcCMBRNwPABiT8v2jZ8b/Kjue/METdv5D50r/2rsi/WGS+v7oZtL8gz6m/gISfv+Y5lb9I74q/qqSAvxy0bL/gHli/pIlDv3D0Lr8wXxq//MkFv4Bp4r4IP7m+oBSQvkDUTb7g/va9AKokvcCpJD2g/vY9QNRNPpgUkD4AP7k+gGniPvTJBT8wXxo/bPQuP6SJQz/gHlg/HLRsP6ikgD9G74o/4jmVP4CEnz8ez6k/uBm0P1hkvj/yrsg/kPnSPy5E3T/Kjuc/aNnxPwYk/D9QNwNAoFwIQO2BDUA8pxJAi8wXQNjxHEAoFyJAdTwnQMRhLEAThzFAYaw2QLDRO0D/9kBATBxGQJxBS0DpZlBAOIxVQIexWkDV1l9AJPxkQHEhakDARm9AD2x0QF2ReUCstn5A/u2BQKSAhEBME4dA8qWJQJo4jEBCy45A6F2RQJDwk0A4g5ZA3hWZQIaom0AsO55A1M2gQHxgo0Ai86VAyoWoQHAYq0AYq61AwD2wQGbQskAOY7VAtvW3QFyIukAEG71Aqq2/QFJAwkD60sRAoGXHQEj4yUDuisxAlh3PQD6w0UDkQtRAjNXWQDRo2UDa+ttAgo3eQCgg4UDQsuNAeEXmQB7Y6EDGautAbP3tQBSQ8EC8IvNAYrX1QApI+ECy2vpAWG39QAAAAEE=",
          "dtype": "f4"
         },
         "xaxis": "x2",
         "y": {
          "bdata": "ZbXPP+Y14T9dJO0/U6X2P2CD/j9iof8/Fbn9Pz8j/T8JIP4/TUn5P3yl/j/yxfc/pv7zP3aJ7z8VePA/QIT2P1e//j8YvQNAmf4GQBToBECZbP0/jMv5P1NC9D9rlvI/eDvwP+eW7j8MrfE/auX1P+zN9D8o+u8/G8LjP00K2j/B388/8rXGP1jEvD+surM/0t2uP7GopT/Zg50/9seUP6VziD9TEHQ/FChdPzvUTj/CNEE/1KEvPypeHD+3R/I+O4jPPsYRuT5Iwqc+WeiXPoaOYj76GDI+OAAUPp6dFT4n7vk97bkRPiUdAj6UU9M9r1OXPSOl7zxyZ4u9Qnv7vQV5LL6B3X6+7Puxvoypxr7h1+q+SeX5vieq9L4wleq+OAjYvtjtsb5nIIG+aB4Avhx+FL3G5J096FguPq8dij5BcKA+6YLmPsX5FT/XXj0/RadgP0/ifz9OSJI/buuhPw8urj/qNLY/dEK3P7m4uD9IDb4/Ek29P4WgwD+wW8A/KAu/P+rIuD+AOrk/Oje0P1WFsT/AdLI/jwOyPxYdsj8cJLI/6BuzP0kurT+LMqE/kd+VP2IEkD+mkYo/fHGGP8ZNfj+bmWo/QnlcP9EKUD9lyj4/4VY4PzyDOj8aKSg/fKMTPz0LBj/OLAI/fSjgPj0Q0D6Ccrg+peCmPvoqkD69Xpk+j6mnPpxOwT553OI+ETryPg+w3D5SwZ8+9Q9jPvwVNT5j4xE+lskNPkUv/D3osyE9WpRGvYoM8L3V5mi+UxmgvkHFvb4D09K+CNICv9gtCb92jQS/pCMOv3XjCr/s0fi+mkvjvsGQz76J7cG+AIHGvtDP1b5AibK+dbSsvt/gm74XSoi+SPVqviZ7cL4l9YW+dKWcvhDvmL4kd7O+euDTvogJ5b6vcAW/W8YKv6OSFL9BYx6/UxYjv2v5LL/xAz+/gRtVv/CTer/u7Iy/Y3udvz/0rb+Dfru/9cHKv7ZD1r972+O/G0Tov73a7b91oPW/FMr6v0ef/L/KFwHA2zgAwM3WAMDGpQDAmmj6v86+6r9LBd2/Y+PNv70qtb8=",
          "dtype": "f4"
         },
         "yaxis": "y2"
        },
        {
         "mode": "lines",
         "name": "ν=5/2 Sample 1",
         "showlegend": false,
         "type": "scatter",
         "x": {
          "bdata": "AAAAwVht/cCy2vrACkj4wGS19cC8IvPAFJDwwG797cDGauvAHtjowHhF5sDQsuPAKiDhwIKN3sDa+tvANGjZwIzV1sDmQtTAPrDRwJYdz8DwiszASPjJwKBlx8D60sTAUkDCwKytv8AEG73AXIi6wLb1t8AOY7XAZtCywMA9sMAYq63AchirwMqFqMAi86XAfGCjwNTNoMAuO57AhqibwN4VmcA4g5bAkPCTwOhdkcBCy47AmjiMwPSlicBME4fApICEwP7tgcCstn7AX5F5wBBsdMDBRm/AcyFqwCT8ZMDV1l/AiLFawDiMVcDrZlDAnEFLwE0cRsD/9kDAsNE7wGGsNsAUhzHAxWEswHc8J8AoFyLA2fEcwIzMF8A8pxLA74ENwKBcCMBRNwPABiT8v2jZ8b/Kjue/METdv5D50r/2rsi/WGS+v7oZtL8gz6m/gISfv+Y5lb9I74q/qqSAvxy0bL/gHli/pIlDv3D0Lr8wXxq//MkFv4Bp4r4IP7m+oBSQvkDUTb7g/va9AKokvcCpJD2g/vY9QNRNPpgUkD4AP7k+gGniPvTJBT8wXxo/bPQuP6SJQz/gHlg/HLRsP6ikgD9G74o/4jmVP4CEnz8ez6k/uBm0P1hkvj/yrsg/kPnSPy5E3T/Kjuc/aNnxPwYk/D9QNwNAoFwIQO2BDUA8pxJAi8wXQNjxHEAoFyJAdTwnQMRhLEAThzFAYaw2QLDRO0D/9kBATBxGQJxBS0DpZlBAOIxVQIexWkDV1l9AJPxkQHEhakDARm9AD2x0QF2ReUCstn5A/u2BQKSAhEBME4dA8qWJQJo4jEBCy45A6F2RQJDwk0A4g5ZA3hWZQIaom0AsO55A1M2gQHxgo0Ai86VAyoWoQHAYq0AYq61AwD2wQGbQskAOY7VAtvW3QFyIukAEG71Aqq2/QFJAwkD60sRAoGXHQEj4yUDuisxAlh3PQD6w0UDkQtRAjNXWQDRo2UDa+ttAgo3eQCgg4UDQsuNAeEXmQB7Y6EDGautAbP3tQBSQ8EC8IvNAYrX1QApI+ECy2vpAWG39QAAAAEE=",
          "dtype": "f4"
         },
         "xaxis": "x3",
         "y": {
          "bdata": "ZbXPP99V3T+rc+c/0q/xPwgq+z8sPABANYYCQLzaBEC4sgZAkkYGQCE2CUD30QZAeA0HQNQGBkAXMgZAPNwGQJmmB0B/ywhA9b4JQAVeCEArMQZArtsGQOvZBEA7GwRAAo8CQDdcAUAJZgFApSsBQNlg/z85Zfw/0fL1Pz4F8j+Lsus/AFHlPwa03T/YbdY/v83QP2Vuxz/gI8A/Z+G3PzyOrT88zaI/FoyZP7kgkT+ZqIc/7Ap7P/uOZz/OZEs/3dY8Pzy6Kj8XPBk/wDAJP1Hd5z5bJ80+nz+yPjTlnj5b04I+aod1Pm0ESD6tDCc+47MGPsmzvT1VB+Y8dbWyuqWyOr2CceW97IE2vpAtWb7PiJG+Ud6kvlDYsr5OU8G+DKfHvp4owb6+n7W+gYedvqYIjr6X21a+bFwdvrHApb1PSxO9qY2jPerlKz7b/Y0+4ArEPkjl+z5SKR8/qT88P4A6WD9Qh3E/3y2CP7e7jD9VtJc/TSedP+gupj9R/6o/66GvP2r5sD/5W7Y/XZG1P6dLtz/Jirk/3pO5P3dkuj+G5bo/fsS7PxR8uD8YlLM/n5WvP6LRrD9Fz6c/rnijP+QGnT9g/5U/TKuQP9haij+ZYII/Nxd8PxTPdD/kw2A/e8dSPw6QRz+4aD4/0PcqPylhIj/NBxQ/e9wIPzUD9z7AW/A+yFLkPgoO4j75p+U+DsPhPtCj0j4D6rc+VQOrPm7onj55LIw+H9eBPnLWYj4+VSI+DhjlPT9Oiz2hiji8UciKveI1/L3Pzza+9KWJvqRKmb4Qt6m+dJLMvuUL1L7bttW+I+/dvrW03r4wzd6+ZgTlvrlQ675V/dO+4f7bvqF40L4dqcW+qrG6voveub4jUri+LTi7vp46sL7nJcC+uTbKvrDdzb56weS+1/Xnvs9O+r4WwgS/8bcJv0dlE79Szx+/WwAtv6xMQ7/LClS/zuJqv+t1gb94qIy/lzKavyVwpb9CLLO/ZC27vwVTxr+qUNG/B5rZvwWN4L9A9Om/TlPtvyMM9L9f5Pe///b3v6Ub9L8HCfK/MDfsv97M378=",
          "dtype": "f4"
         },
         "yaxis": "y3"
        },
        {
         "mode": "lines",
         "name": "RBF Sample 1",
         "showlegend": false,
         "type": "scatter",
         "x": {
          "bdata": "AAAAwVht/cCy2vrACkj4wGS19cC8IvPAFJDwwG797cDGauvAHtjowHhF5sDQsuPAKiDhwIKN3sDa+tvANGjZwIzV1sDmQtTAPrDRwJYdz8DwiszASPjJwKBlx8D60sTAUkDCwKytv8AEG73AXIi6wLb1t8AOY7XAZtCywMA9sMAYq63AchirwMqFqMAi86XAfGCjwNTNoMAuO57AhqibwN4VmcA4g5bAkPCTwOhdkcBCy47AmjiMwPSlicBME4fApICEwP7tgcCstn7AX5F5wBBsdMDBRm/AcyFqwCT8ZMDV1l/AiLFawDiMVcDrZlDAnEFLwE0cRsD/9kDAsNE7wGGsNsAUhzHAxWEswHc8J8AoFyLA2fEcwIzMF8A8pxLA74ENwKBcCMBRNwPABiT8v2jZ8b/Kjue/METdv5D50r/2rsi/WGS+v7oZtL8gz6m/gISfv+Y5lb9I74q/qqSAvxy0bL/gHli/pIlDv3D0Lr8wXxq//MkFv4Bp4r4IP7m+oBSQvkDUTb7g/va9AKokvcCpJD2g/vY9QNRNPpgUkD4AP7k+gGniPvTJBT8wXxo/bPQuP6SJQz/gHlg/HLRsP6ikgD9G74o/4jmVP4CEnz8ez6k/uBm0P1hkvj/yrsg/kPnSPy5E3T/Kjuc/aNnxPwYk/D9QNwNAoFwIQO2BDUA8pxJAi8wXQNjxHEAoFyJAdTwnQMRhLEAThzFAYaw2QLDRO0D/9kBATBxGQJxBS0DpZlBAOIxVQIexWkDV1l9AJPxkQHEhakDARm9AD2x0QF2ReUCstn5A/u2BQKSAhEBME4dA8qWJQJo4jEBCy45A6F2RQJDwk0A4g5ZA3hWZQIaom0AsO55A1M2gQHxgo0Ai86VAyoWoQHAYq0AYq61AwD2wQGbQskAOY7VAtvW3QFyIukAEG71Aqq2/QFJAwkD60sRAoGXHQEj4yUDuisxAlh3PQD6w0UDkQtRAjNXWQDRo2UDa+ttAgo3eQCgg4UDQsuNAeEXmQB7Y6EDGautAbP3tQBSQ8EC8IvNAYrX1QApI+ECy2vpAWG39QAAAAEE=",
          "dtype": "f4"
         },
         "xaxis": "x4",
         "y": {
          "bdata": "ZbXPPxqQ2j9m8OE//TjqP61c8j+Tifc/SXX9P8MHAkBy5ARAFegFQCARCkDZEQlAWlYLQNseDEBnsg1Att4OQJVqD0A6zA9A+7kPQN/7DUCksAxAqRoOQKZnDEB5+QtAKoYKQLBjCUDI8AhAtZ0HQAxCBUA/egNA4M0AQICs/z+YV/s/f133PyqK8j/kU+4/nhLrPwM95D+5EeA/6sLaP+Qe1D8QEM4/1mnJP1B3xD+xx70/9p22P94NsD+Cc6Y/5UyjPwY7nD9htZQ/sVmNP47Ygz8bWXw/KwpuP2nPYD9iYE4/JDdEPzNVMT/TwiI/KE8UPyqKBD/6yeI+UtPPPp7nsT5NrIw+ekJbPoWaOD7p8dg9qyuIPer7wTxaW+u836ySvfpc0r2yew2+TegmvrNxVb7wn2C+WAt9vvIUhL4o6ZO+qsyCvsdvh74RfYG+j/Z6vkp+ab6E0EK+uSkqvqdwCb5ff8i9baaFvaQM5ruRWnA95FzDPdrMMD4wNmY+sL2UPq9GsT5zQeA+0GD5PlYUET+gciU/Apk1PwQiSD/x6Vk/VRpsPwvJdz+8VYI/QY6KPzMHkz+pg5g/qleeP6Ikoj8g3qU/39SqP+e7rT/Nza4/vISyPzKBtD+XkbA/o9SwPxBBsT9DsrA/7werPyKAqj/T5KU//2eiP+I8nT8tRps/1c2VP6tbkT8auow/g8eFP0Rgez+ZEWs/q4ZjPzHRWT/Ju0s/8edAP9ZsMj+OvB8/knEUP05hCT/lee4+IUnZPgWowT6lbac+p0KAPgBZbD5s6EA+mFXlPa8Usz2Kelw9a0ycuXeyJr3bP6e9xhAFvrFLLr4lJiu+Oa9svqqBf7752Iy+OEeavqRsrb6r47m+QzHGvlrMxb6NJt2+ssXlvhWw574jkvm+1kP2vjnSAb+SVwW/ZqIGv1ZADL8x+hG/UQwWv2ZWH7/oqSC/X8onv9mPLr+k1TO/Ksw9vx6eQ7+jJ0+/HE1Sv29RX78t3Gu/57B0v32ifr+eTIe/m7WKv0X5kr8k4pi/mUedv6xBob/9DKm/ggWuv+GWr78=",
          "dtype": "f4"
         },
         "yaxis": "y4"
        },
        {
         "mode": "lines",
         "name": "ν=1/2 Sample 2",
         "showlegend": false,
         "type": "scatter",
         "x": {
          "bdata": "AAAAwVht/cCy2vrACkj4wGS19cC8IvPAFJDwwG797cDGauvAHtjowHhF5sDQsuPAKiDhwIKN3sDa+tvANGjZwIzV1sDmQtTAPrDRwJYdz8DwiszASPjJwKBlx8D60sTAUkDCwKytv8AEG73AXIi6wLb1t8AOY7XAZtCywMA9sMAYq63AchirwMqFqMAi86XAfGCjwNTNoMAuO57AhqibwN4VmcA4g5bAkPCTwOhdkcBCy47AmjiMwPSlicBME4fApICEwP7tgcCstn7AX5F5wBBsdMDBRm/AcyFqwCT8ZMDV1l/AiLFawDiMVcDrZlDAnEFLwE0cRsD/9kDAsNE7wGGsNsAUhzHAxWEswHc8J8AoFyLA2fEcwIzMF8A8pxLA74ENwKBcCMBRNwPABiT8v2jZ8b/Kjue/METdv5D50r/2rsi/WGS+v7oZtL8gz6m/gISfv+Y5lb9I74q/qqSAvxy0bL/gHli/pIlDv3D0Lr8wXxq//MkFv4Bp4r4IP7m+oBSQvkDUTb7g/va9AKokvcCpJD2g/vY9QNRNPpgUkD4AP7k+gGniPvTJBT8wXxo/bPQuP6SJQz/gHlg/HLRsP6ikgD9G74o/4jmVP4CEnz8ez6k/uBm0P1hkvj/yrsg/kPnSPy5E3T/Kjuc/aNnxPwYk/D9QNwNAoFwIQO2BDUA8pxJAi8wXQNjxHEAoFyJAdTwnQMRhLEAThzFAYaw2QLDRO0D/9kBATBxGQJxBS0DpZlBAOIxVQIexWkDV1l9AJPxkQHEhakDARm9AD2x0QF2ReUCstn5A/u2BQKSAhEBME4dA8qWJQJo4jEBCy45A6F2RQJDwk0A4g5ZA3hWZQIaom0AsO55A1M2gQHxgo0Ai86VAyoWoQHAYq0AYq61AwD2wQGbQskAOY7VAtvW3QFyIukAEG71Aqq2/QFJAwkD60sRAoGXHQEj4yUDuisxAlh3PQD6w0UDkQtRAjNXWQDRo2UDa+ttAgo3eQCgg4UDQsuNAeEXmQB7Y6EDGautAbP3tQBSQ8EC8IvNAYrX1QApI+ECy2vpAWG39QAAAAEE=",
          "dtype": "f4"
         },
         "xaxis": "x",
         "y": {
          "bdata": "jgR5vjQSvj0L96U+EooDPx7kKD8gH9c+GJznPo7GhT5a+fY+qysOP6xHkj5n0Ko+Jd6WPkLtKr6FkIy+HmoDPqkT0j4D1DE/3aexPkBIpj6fGJU+gJPkPqqGxz2YCqa9yMN+vcz5Kz3t7UQ+WmvLPpPckj71y8A+ZtGOPl8CDj/6HE0/tMl6P3R5eT9OIJU/I4SkP/ssgD+dh44/ztV6P8pLUT8MIIU/qgirP0pI5D+KBqI/042eP8nPeT/dv8o+qhJTPz4fCT+lfxg9nweyPkTPxz5SOKY+9qG4PipHET5YU4A+UH4+vtn7Jr8mkm295lTovVmgB77EHnA92I6ovqdFV75i7dC+9xrvvK64oL7M8Sa++g+0vkAQsr6ETea+D1AAv3DMab5zPYu+QvDrvvf7qr5IDcK+9bYUv4ySSb7FNeO+NiXHvsrCFb5P+Yu+/LoVvvfCEr5Cucq+A8tLvllyir+VjGi/voVHv7YoPr8JYUq/LFo/vxo8Tb8OHnK/V/Ofv5zxsr/OyK2/Y3rxv9v+1r/CswPAYTgBwNTAJ8A0hBXAkTwcwFg2E8BIWSnAlXMewFiAA8Bqie2/8jHyvySqzb85rcm/Bf3nv2bh9b/bPQbA9vP5v2wH4r+uyNK/3IzMv+Men79VA1K/u8NQv5zzQb9JiPm+jLLvvuFRPr8gotG+lwREvx4C+b665Om+J3yKvxE2d78fckS/IwUKv14t+b5d/Xi/olwkvzfOdb/IZGi/rlefv7FOEL/vnPi+uRCkvrprKL+Gaj+/XfEKv8h4Kb+Ft5o9WpOzPT1IUz4XXAU+ZIT3PloaSD+ZN2U/nJhrP2vOmT9ZkbM/b+XsP4SDnz/Xbms/hYKKP7vWXD+cTks/zCR0P18XmD/4WYg/h/AsP8WKzT6qFdQ+/VopPw6RKT8RjHw/+X2eP1SXkT9aKp4/wMQjP2rL4j6p8I28K+Vyvn9WGD7+IDc+Sk3yPjHlLD9A3xk/8yQMP26ekT488Y8+TtEqPx4QDD8zuwU/xCKbPln8Jj+m70s+Z1SgvEhz3TzH3d2+ygEUu7Ga9r4=",
          "dtype": "f4"
         },
         "yaxis": "y"
        },
        {
         "mode": "lines",
         "name": "ν=3/2 Sample 2",
         "showlegend": false,
         "type": "scatter",
         "x": {
          "bdata": "AAAAwVht/cCy2vrACkj4wGS19cC8IvPAFJDwwG797cDGauvAHtjowHhF5sDQsuPAKiDhwIKN3sDa+tvANGjZwIzV1sDmQtTAPrDRwJYdz8DwiszASPjJwKBlx8D60sTAUkDCwKytv8AEG73AXIi6wLb1t8AOY7XAZtCywMA9sMAYq63AchirwMqFqMAi86XAfGCjwNTNoMAuO57AhqibwN4VmcA4g5bAkPCTwOhdkcBCy47AmjiMwPSlicBME4fApICEwP7tgcCstn7AX5F5wBBsdMDBRm/AcyFqwCT8ZMDV1l/AiLFawDiMVcDrZlDAnEFLwE0cRsD/9kDAsNE7wGGsNsAUhzHAxWEswHc8J8AoFyLA2fEcwIzMF8A8pxLA74ENwKBcCMBRNwPABiT8v2jZ8b/Kjue/METdv5D50r/2rsi/WGS+v7oZtL8gz6m/gISfv+Y5lb9I74q/qqSAvxy0bL/gHli/pIlDv3D0Lr8wXxq//MkFv4Bp4r4IP7m+oBSQvkDUTb7g/va9AKokvcCpJD2g/vY9QNRNPpgUkD4AP7k+gGniPvTJBT8wXxo/bPQuP6SJQz/gHlg/HLRsP6ikgD9G74o/4jmVP4CEnz8ez6k/uBm0P1hkvj/yrsg/kPnSPy5E3T/Kjuc/aNnxPwYk/D9QNwNAoFwIQO2BDUA8pxJAi8wXQNjxHEAoFyJAdTwnQMRhLEAThzFAYaw2QLDRO0D/9kBATBxGQJxBS0DpZlBAOIxVQIexWkDV1l9AJPxkQHEhakDARm9AD2x0QF2ReUCstn5A/u2BQKSAhEBME4dA8qWJQJo4jEBCy45A6F2RQJDwk0A4g5ZA3hWZQIaom0AsO55A1M2gQHxgo0Ai86VAyoWoQHAYq0AYq61AwD2wQGbQskAOY7VAtvW3QFyIukAEG71Aqq2/QFJAwkD60sRAoGXHQEj4yUDuisxAlh3PQD6w0UDkQtRAjNXWQDRo2UDa+ttAgo3eQCgg4UDQsuNAeEXmQB7Y6EDGautAbP3tQBSQ8EC8IvNAYrX1QApI+ECy2vpAWG39QAAAAEE=",
          "dtype": "f4"
         },
         "xaxis": "x2",
         "y": {
          "bdata": "jgR5viEDJb6Q7nS9Xe5XPccMLz7hy3o+P0qjPj/Itj60p9c+/OP2Pgp8AD/8Vwc/ZhULPwYt/j6CxOM+InjkPnia8z5XlAk/yKoLP3ZoDj+8xg4/xQIUP3RNDD87yAA/xy/tPt0v4D4VOd0+RgTnPl5f5z6B7u4+ENTtPoG8/z4Itw4/f5EhPzswMj8/vEc/uU1eP5ckaT/Vu3c/W0R/P6CigD9zPYU/95yNP1YpnD+xNaA/J7+kPwThoz8O4Jk/i4uYPzcNkT9B94I/t7B3P4rXaT+ejVs/vhJQP6MVPj+wNzI/Hx8YP2HQ5T4AEss+p96oPrW9iz5u63s+ieksPi+A+T3Vs0g9b/ESPf/tn7xs6i295BW8vbTVBr5erzq+wFxuvnPqeL4JJYa+BY+ZvvNlob7Z/ay+Y6/Dvolmvb6ff8u+3eDQvtcPx7740Me+lwC+vk0ktr7KAr++lg64vtVk7r61VAa/OEUSv4vcG79w2SW/pBwtv8qgNb/EqkG/RAlWv4B+bL/cfH+/tDmRv6eLnL/I6q2/gfa7v+EC07/h6eG/Zzbyv6r7/b9SSQfAjvAMwH3VDsDYIQ/ApJMPwJdnDcCnYwvAVFQLwCfgC8DPzA3A0C8OwHYuDcDPUgvAIjEJwD9EBMAtJPm/KHDrv/+N3b/Llcy/CFG9v+W6s7/zCaW/jYSev3IGk78xBYm/shOKv7D2h7+Yt4O/gLd4v1Moar9iwWy/B2Niv6LbZb/Of2W/ATFxvzMkZL9151i/HElIvxyzRL+VFUO/Kjc7vzYlOb9dGx6/z08Iv34z3r5Or7a+0c11vn6U0L0hwxI9ufMnPkjToT6LN/M+otgsP9viRT/LllQ/5eFmP9OGbj+zFHQ/ocN9P6Knhj96RIs/gluJP9SHgz9mznw/r8Z6P+/mdz+kHoA/+meHP94XjD+PVJI/E8aNPwB0hz+uhnM/FoVUP4vZRD++pzU/l0UyP7TGND+RbzQ/iP8yP1P5KD/fjyA/WhIlP6i0Iz8y6yI/YboaP0CKHz/WKhM/nQ0DPyqw6z7oDbQ+q56hPgOzWD4=",
          "dtype": "f4"
         },
         "yaxis": "y2"
        },
        {
         "mode": "lines",
         "name": "ν=5/2 Sample 2",
         "showlegend": false,
         "type": "scatter",
         "x": {
          "bdata": "AAAAwVht/cCy2vrACkj4wGS19cC8IvPAFJDwwG797cDGauvAHtjowHhF5sDQsuPAKiDhwIKN3sDa+tvANGjZwIzV1sDmQtTAPrDRwJYdz8DwiszASPjJwKBlx8D60sTAUkDCwKytv8AEG73AXIi6wLb1t8AOY7XAZtCywMA9sMAYq63AchirwMqFqMAi86XAfGCjwNTNoMAuO57AhqibwN4VmcA4g5bAkPCTwOhdkcBCy47AmjiMwPSlicBME4fApICEwP7tgcCstn7AX5F5wBBsdMDBRm/AcyFqwCT8ZMDV1l/AiLFawDiMVcDrZlDAnEFLwE0cRsD/9kDAsNE7wGGsNsAUhzHAxWEswHc8J8AoFyLA2fEcwIzMF8A8pxLA74ENwKBcCMBRNwPABiT8v2jZ8b/Kjue/METdv5D50r/2rsi/WGS+v7oZtL8gz6m/gISfv+Y5lb9I74q/qqSAvxy0bL/gHli/pIlDv3D0Lr8wXxq//MkFv4Bp4r4IP7m+oBSQvkDUTb7g/va9AKokvcCpJD2g/vY9QNRNPpgUkD4AP7k+gGniPvTJBT8wXxo/bPQuP6SJQz/gHlg/HLRsP6ikgD9G74o/4jmVP4CEnz8ez6k/uBm0P1hkvj/yrsg/kPnSPy5E3T/Kjuc/aNnxPwYk/D9QNwNAoFwIQO2BDUA8pxJAi8wXQNjxHEAoFyJAdTwnQMRhLEAThzFAYaw2QLDRO0D/9kBATBxGQJxBS0DpZlBAOIxVQIexWkDV1l9AJPxkQHEhakDARm9AD2x0QF2ReUCstn5A/u2BQKSAhEBME4dA8qWJQJo4jEBCy45A6F2RQJDwk0A4g5ZA3hWZQIaom0AsO55A1M2gQHxgo0Ai86VAyoWoQHAYq0AYq61AwD2wQGbQskAOY7VAtvW3QFyIukAEG71Aqq2/QFJAwkD60sRAoGXHQEj4yUDuisxAlh3PQD6w0UDkQtRAjNXWQDRo2UDa+ttAgo3eQCgg4UDQsuNAeEXmQB7Y6EDGautAbP3tQBSQ8EC8IvNAYrX1QApI+ECy2vpAWG39QAAAAEE=",
          "dtype": "f4"
         },
         "xaxis": "x3",
         "y": {
          "bdata": "jgR5vsMjOL4DO9G9NVSlvCEeiD1ArQY+JPVYPuLZiT7VPrI++VnTPtOt6D4JigI/2bcMP0S5DT/30BA/g3IYP3/uHT8bLyY/gKslPyeDKj/44Sw/ZMwxP/6lLT/J0yo/zf4nPzfsJD8TlCI/+TYiP8P8HT+KCB4/GcoaPztvHj+/zyI/fDopP1ROLz/drTo/MIVGPzE2TT8zi1o/0YtiPx5/aT+GWXU/HiqBP9lHij/6oow/Ij6TPwcolj8B4ZQ/LtSZP7cklz9tEZI/qpCRPxR2jT8fuog/DJCEPzmZez8vuXI/mwZfP9SFSD9I+j8/AN4rPzYoGz+aag4/V17xPl1v1z4TSrA+azCePvOrbj5+jUU+gmoEPo+gpj1Y2Mg8olLrvFumdL3hDtm96oEevlsuO775wmK+WeyIvrd2jL4jwKO+n3etvpHasL6EQb2+V5a9vp3lwL6r7sq+jDHGvmwC6b5QZ+2+mrb7vsPLBb8fig6/954Vv99LHr8RgCi//342vxolRL83ElG/dU9pv/Q+d78164i/1B2Tv+4ipL+Tya6/XN29v7Q6yr9Rotq/Nonmvxwb8L/Scvm/NCsBwP1gA8Bc1AXAp5AIwGGICsAZ7QzAAwUOwG6/DsCtIg/ADS8PwBxODcB7QArAgawHwKLgA8ACU/2/Ua3zvzqG67/TPt6/pQHXv0w3yr89DcC/DWC7v7UMsr/J7qm/ZF+hvye/mb9DoJa/naSNv71si7/0aIa/XjSGv8YifL9X1HW/D0Jqvzd/Zr/pRl+/SmNVv3hNUb+Ghj2/wJkzv5FkI78ObhW/ySn+vr2vz74ZL6C+bCFdvmqLxb2Fy8o8MVwyPqWshj6n67s+XQj3PuSsDz9YGSQ/BFg5P09oTj+5pV0/Rg5nPxdFbj+JMHU/zfV8PyTufz8kaYQ/C7uIP9lCiz/Y+I8/lkmOP26ejj9F5Yk/uMmEP/56gj8tTXk/yshzP/01bj9TnGY/jZpgPyi4Vj9XD1A/LEJPP5yHRz94VEM/hlE7P7iZPD9oOjA/iY0nP1ECID+x6Q0/ry4JP0bZ5j4=",
          "dtype": "f4"
         },
         "yaxis": "y3"
        },
        {
         "mode": "lines",
         "name": "RBF Sample 2",
         "showlegend": false,
         "type": "scatter",
         "x": {
          "bdata": "AAAAwVht/cCy2vrACkj4wGS19cC8IvPAFJDwwG797cDGauvAHtjowHhF5sDQsuPAKiDhwIKN3sDa+tvANGjZwIzV1sDmQtTAPrDRwJYdz8DwiszASPjJwKBlx8D60sTAUkDCwKytv8AEG73AXIi6wLb1t8AOY7XAZtCywMA9sMAYq63AchirwMqFqMAi86XAfGCjwNTNoMAuO57AhqibwN4VmcA4g5bAkPCTwOhdkcBCy47AmjiMwPSlicBME4fApICEwP7tgcCstn7AX5F5wBBsdMDBRm/AcyFqwCT8ZMDV1l/AiLFawDiMVcDrZlDAnEFLwE0cRsD/9kDAsNE7wGGsNsAUhzHAxWEswHc8J8AoFyLA2fEcwIzMF8A8pxLA74ENwKBcCMBRNwPABiT8v2jZ8b/Kjue/METdv5D50r/2rsi/WGS+v7oZtL8gz6m/gISfv+Y5lb9I74q/qqSAvxy0bL/gHli/pIlDv3D0Lr8wXxq//MkFv4Bp4r4IP7m+oBSQvkDUTb7g/va9AKokvcCpJD2g/vY9QNRNPpgUkD4AP7k+gGniPvTJBT8wXxo/bPQuP6SJQz/gHlg/HLRsP6ikgD9G74o/4jmVP4CEnz8ez6k/uBm0P1hkvj/yrsg/kPnSPy5E3T/Kjuc/aNnxPwYk/D9QNwNAoFwIQO2BDUA8pxJAi8wXQNjxHEAoFyJAdTwnQMRhLEAThzFAYaw2QLDRO0D/9kBATBxGQJxBS0DpZlBAOIxVQIexWkDV1l9AJPxkQHEhakDARm9AD2x0QF2ReUCstn5A/u2BQKSAhEBME4dA8qWJQJo4jEBCy45A6F2RQJDwk0A4g5ZA3hWZQIaom0AsO55A1M2gQHxgo0Ai86VAyoWoQHAYq0AYq61AwD2wQGbQskAOY7VAtvW3QFyIukAEG71Aqq2/QFJAwkD60sRAoGXHQEj4yUDuisxAlh3PQD6w0UDkQtRAjNXWQDRo2UDa+ttAgo3eQCgg4UDQsuNAeEXmQB7Y6EDGautAbP3tQBSQ8EC8IvNAYrX1QApI+ECy2vpAWG39QAAAAEE=",
          "dtype": "f4"
         },
         "xaxis": "x4",
         "y": {
          "bdata": "jgR5vjuiRb6qFga+PtSHvUK0iLrA3Tg9KUPjPQjdIT4Bpmo+8+GRPgxnpj4OI8U+FwTdPvZl6T63OAA/HREPPxVLGT/vQyQ/7AknP9h6MD88/TY/ETM/P9dhPz9dbkM/lbdHP3EFSz8Zx00/53pQP9OkTj+diFA/imtOP2WEUT/+/FE/OAJSP5hgUD9MUlI/B4xSP1WNTj9UxVE/H8dPP8b/Tj8IIFM/n19WPwn8Wz+98VU/kdtbP7wNXD9gw1k/xjplP9o4Yj+l6WA/UxZqP4cwaz88sGw/HO5vP7E2bz9MlHM/CeFuP4osbD/iTHU/hddvP4pabj9/kW4/4NhlP5TWZT9Z/V0/ZDteP+VqUj+2Ek8/oT5EP7v3PD88bjI/fGEoP4NNIT+nExQ/55UGP2dk+j6W5d4+tw3BPgt/sj4iw40+TU5vPt7nRD5abAU+adW3PXTgHj04taS8SxtRvV8nEr5YkiS+gZBSvn3XgL4OhJi+nCCsvh99wr6LGtm+/FXyvgEYA79Vwwu/n4Acv74/Ib8mxzG/nw46v4QTTb9mZVK/9y1ivwn3bL+9nX+/yeCEvzYyir/hiZG/wp+Zv3sUn79OA6e/PsWvv/wft794dL+/1MjFv2PEzL/NF9S/PWjbv4Np4L+3beW/m4/svxWS8b/R5fS/e7n5vyXz/r99FP+/ZkECwNq6AcBqiALAbJgEwKhAA8CTfgLAOGQBwKZyAMBLiADAtUj6vzdY+b9rv/O/0FLxv8lA57//TOO/v1jcv9Rb2L/EM9G/Iu3Iv/pOw7/uT7e/yNyxvwE8qb/766G/gFmXv4gZjr/ldYW/gwF5v4wzY785RE+/Zhg3v41QLL/K/Be/bIv/vrUg3r4nmrS+J6CHvo5rNr55et699iI0vdDD9TygOuU9ig9JPoOvhj6wMLM+YR7aPsRN+T52fxA/nzMaP461Kz9PRzY/INNDP17TVT+gA18/c9VsP4wtdz8LHH4/2/mCP4wAhT+Wfog/VQiNP8X5jD85j44/PiWOP8o2kT8lS40/tKCMP/QojD+3RIc/jqyIPzlxgT8=",
          "dtype": "f4"
         },
         "yaxis": "y4"
        },
        {
         "mode": "lines",
         "name": "ν=1/2 Sample 3",
         "showlegend": false,
         "type": "scatter",
         "x": {
          "bdata": "AAAAwVht/cCy2vrACkj4wGS19cC8IvPAFJDwwG797cDGauvAHtjowHhF5sDQsuPAKiDhwIKN3sDa+tvANGjZwIzV1sDmQtTAPrDRwJYdz8DwiszASPjJwKBlx8D60sTAUkDCwKytv8AEG73AXIi6wLb1t8AOY7XAZtCywMA9sMAYq63AchirwMqFqMAi86XAfGCjwNTNoMAuO57AhqibwN4VmcA4g5bAkPCTwOhdkcBCy47AmjiMwPSlicBME4fApICEwP7tgcCstn7AX5F5wBBsdMDBRm/AcyFqwCT8ZMDV1l/AiLFawDiMVcDrZlDAnEFLwE0cRsD/9kDAsNE7wGGsNsAUhzHAxWEswHc8J8AoFyLA2fEcwIzMF8A8pxLA74ENwKBcCMBRNwPABiT8v2jZ8b/Kjue/METdv5D50r/2rsi/WGS+v7oZtL8gz6m/gISfv+Y5lb9I74q/qqSAvxy0bL/gHli/pIlDv3D0Lr8wXxq//MkFv4Bp4r4IP7m+oBSQvkDUTb7g/va9AKokvcCpJD2g/vY9QNRNPpgUkD4AP7k+gGniPvTJBT8wXxo/bPQuP6SJQz/gHlg/HLRsP6ikgD9G74o/4jmVP4CEnz8ez6k/uBm0P1hkvj/yrsg/kPnSPy5E3T/Kjuc/aNnxPwYk/D9QNwNAoFwIQO2BDUA8pxJAi8wXQNjxHEAoFyJAdTwnQMRhLEAThzFAYaw2QLDRO0D/9kBATBxGQJxBS0DpZlBAOIxVQIexWkDV1l9AJPxkQHEhakDARm9AD2x0QF2ReUCstn5A/u2BQKSAhEBME4dA8qWJQJo4jEBCy45A6F2RQJDwk0A4g5ZA3hWZQIaom0AsO55A1M2gQHxgo0Ai86VAyoWoQHAYq0AYq61AwD2wQGbQskAOY7VAtvW3QFyIukAEG71Aqq2/QFJAwkD60sRAoGXHQEj4yUDuisxAlh3PQD6w0UDkQtRAjNXWQDRo2UDa+ttAgo3eQCgg4UDQsuNAeEXmQB7Y6EDGautAbP3tQBSQ8EC8IvNAYrX1QApI+ECy2vpAWG39QAAAAEE=",
          "dtype": "f4"
         },
         "xaxis": "x",
         "y": {
          "bdata": "LqsOvYrOGD8wRDU/VDxnP+41Oj+0bo4+PBSZvRC7Rb5/9V++Zut8vgizEj2SrrK8OLRbPjBp1T6AQ0g/RtBjPxkTYD/mUJQ/8uO4Pzx86D8k74M/OqZTP1ZEpT6l9sk+6HokPxrDFD8+U8c+SQBUPgbPN79AoRi/CG/zvhUfLr8fxyC/sPW6vtkjB7+uLg+/GiuZvsCUAL/oCou9uChjvsARM700d4s+pE6YvTTxMD5c5Yw+bpPUPiBlLD+q44k/rDE5P6badj8GmQE/Fqy9PnsBBD6S9469NqMNvoCkNbzWizy8HIAjP4HGGz83Sc0+YPqCPrqoBL4nhea9VNqKPGcYmr1deZC932Olvj5nIb6YcP295jIQPZWSgj4kOdA+5lgDP9w9CD9YE4M9btavPfb7Wj6Mosk+A5KnPmx3rz43Yqc+i1RcPynrAz94fnk9rHGVvTI27T5c/OU9MBvqPAhLfz0pGcA+xkGRPkU+aD5E3oa+YDd3PQYIA75CstG9bnRFPgAofr7XGJ6+eTwGv7LFgr4o6SC+/3rdPu/+ZT+9MvA+K/Z4Pmiw1j70vhs/GlZVPzOnVz933Zg/1+iNP6A7pT8yOo8/WOelPxD6hz/bySI/MFMEP8t21D4adE4/myGgP222Tz8H9os/mFJpP37qNT+h6o0+EbX5vtYYg791np+/pR2pv7Rwhb8M3YK/gcR0vxp4ob8BW5u//emNv8Cbjb9RUIu/dLCNvzp+fb/wymu/HUwrv0zUqb6yNs29SQ0pPqaeBj9OZro+vkEqP2NuLT/204E+accpPsbrm75g3Hs8d+kAP8DInztORJS9mAm0PtaI1T1uPOW9eA4MvuCXh70Hb1G/WoY3vyQOJL64C4w9GuTRPoaPuz7UWzu+LK5jPT66pr3Glos9wteSPaDClr3bs46+aXwcvgCDwTsR02e9JIdJvhn38r2M1g++C3soPkYOzL0VTJC+OkIRv8IMvb4trou+CMjcPVvRkb4A3di+TBggvwcHBL9kNbu+rL6Nvv7OCj5+LIg9toK9PQK8hL0ytlC+4AixPbo4gT4=",
          "dtype": "f4"
         },
         "yaxis": "y"
        },
        {
         "mode": "lines",
         "name": "ν=3/2 Sample 3",
         "showlegend": false,
         "type": "scatter",
         "x": {
          "bdata": "AAAAwVht/cCy2vrACkj4wGS19cC8IvPAFJDwwG797cDGauvAHtjowHhF5sDQsuPAKiDhwIKN3sDa+tvANGjZwIzV1sDmQtTAPrDRwJYdz8DwiszASPjJwKBlx8D60sTAUkDCwKytv8AEG73AXIi6wLb1t8AOY7XAZtCywMA9sMAYq63AchirwMqFqMAi86XAfGCjwNTNoMAuO57AhqibwN4VmcA4g5bAkPCTwOhdkcBCy47AmjiMwPSlicBME4fApICEwP7tgcCstn7AX5F5wBBsdMDBRm/AcyFqwCT8ZMDV1l/AiLFawDiMVcDrZlDAnEFLwE0cRsD/9kDAsNE7wGGsNsAUhzHAxWEswHc8J8AoFyLA2fEcwIzMF8A8pxLA74ENwKBcCMBRNwPABiT8v2jZ8b/Kjue/METdv5D50r/2rsi/WGS+v7oZtL8gz6m/gISfv+Y5lb9I74q/qqSAvxy0bL/gHli/pIlDv3D0Lr8wXxq//MkFv4Bp4r4IP7m+oBSQvkDUTb7g/va9AKokvcCpJD2g/vY9QNRNPpgUkD4AP7k+gGniPvTJBT8wXxo/bPQuP6SJQz/gHlg/HLRsP6ikgD9G74o/4jmVP4CEnz8ez6k/uBm0P1hkvj/yrsg/kPnSPy5E3T/Kjuc/aNnxPwYk/D9QNwNAoFwIQO2BDUA8pxJAi8wXQNjxHEAoFyJAdTwnQMRhLEAThzFAYaw2QLDRO0D/9kBATBxGQJxBS0DpZlBAOIxVQIexWkDV1l9AJPxkQHEhakDARm9AD2x0QF2ReUCstn5A/u2BQKSAhEBME4dA8qWJQJo4jEBCy45A6F2RQJDwk0A4g5ZA3hWZQIaom0AsO55A1M2gQHxgo0Ai86VAyoWoQHAYq0AYq61AwD2wQGbQskAOY7VAtvW3QFyIukAEG71Aqq2/QFJAwkD60sRAoGXHQEj4yUDuisxAlh3PQD6w0UDkQtRAjNXWQDRo2UDa+ttAgo3eQCgg4UDQsuNAeEXmQB7Y6EDGautAbP3tQBSQ8EC8IvNAYrX1QApI+ECy2vpAWG39QAAAAEE=",
          "dtype": "f4"
         },
         "xaxis": "x2",
         "y": {
          "bdata": "LqsOvWkA+z1gSow+iUTePsAnDT9txRk/bPwZP1zIFT9JBxA/iAAJP91WCz/fzwk/DnEQP02GGz/U0TA/QTFGP1TrWD848nI/iCiJP4QBnT+pYKE/4oijP7xlnD+pi5c/Uk6WP1eSkz8dGI4/7TOGP0ZwXz+IWj0/iq0fPxAy+z7LiMI+ANyePsylYz5FCBI+bv7RPZzFET3bfRI9UAQAPMYPODwA4k89GcoePUogiT18sso9KuYVPjRuYj6gFa0+/+rJPg4R+D5AAgA/RTUBP5FS8z7Qcdk+SqG9PnFDrD4xIps+gvK2PvQ6yT6KDM8+Lf/LPu/Crz4ZUpk+5JmLPiBRcD6LAVA+3nIQPmXI4D1qU6Y9KiOdPfsLyz2cfAw+RHs9PmogbD4iNlk+3cFRPk1YVz53WnI+lzyAPuXniD5QO48+8FC4Pm6kwj5V1rI+Cl6dPjYvrD6V350+A0aQPvI+hT6IK48+XP6PPukAjz5gbFs+oGtQPrmYJD4q2gU+Kf4OPlNFsj1zviU9IYkEvdGgeb0uRaO9OL6fvO9Asz243wI+BO8UPu7EOz73eHM+RRyhPmSBxD5lp/w+iJgTP9HvLT/aGz8/HWVVPy3AYD+kG14/JrBYP4fITz8FnVQ/2OllP4A5Zj9QRXI/dSF1P0M2cj/4gmE//zM6P72tBj+JxKE+SqTqPdQZBL3+Aiu+WzOOvqXX1b4iYAi/5zUgvzPZNb87Y0i/iqRZv5EVZb+oaW2/VHJsv8b2YL9ta0+/dbA2v4SwFL/LrPe+2emzvpDOcL5UiTq+53kOvnwwJ75nQw2+YGt4vbo7cr0tame9gJUuuyBT9Dt0e4u7GhmMvDJVrby6Kvy9EM9DvuZDQb45Hii+7t7EvXjQML2jpH+9FQAqvbBtRr04HgK9bf+cvKap0rwrxGO9XU+FvQM+aL37OW+9PS2bvfPAo70Q/rW9ZK5ovfg2h71tvbu9iwcbvs7ENb76ZEa+FgIjvi4tO770XFq+hD+JvleXmr4Y2KG+qkajvuUgib79S3G+JxJLvqg+Pr59YEK+wzEfvmCi3b0=",
          "dtype": "f4"
         },
         "yaxis": "y2"
        },
        {
         "mode": "lines",
         "name": "ν=5/2 Sample 3",
         "showlegend": false,
         "type": "scatter",
         "x": {
          "bdata": "AAAAwVht/cCy2vrACkj4wGS19cC8IvPAFJDwwG797cDGauvAHtjowHhF5sDQsuPAKiDhwIKN3sDa+tvANGjZwIzV1sDmQtTAPrDRwJYdz8DwiszASPjJwKBlx8D60sTAUkDCwKytv8AEG73AXIi6wLb1t8AOY7XAZtCywMA9sMAYq63AchirwMqFqMAi86XAfGCjwNTNoMAuO57AhqibwN4VmcA4g5bAkPCTwOhdkcBCy47AmjiMwPSlicBME4fApICEwP7tgcCstn7AX5F5wBBsdMDBRm/AcyFqwCT8ZMDV1l/AiLFawDiMVcDrZlDAnEFLwE0cRsD/9kDAsNE7wGGsNsAUhzHAxWEswHc8J8AoFyLA2fEcwIzMF8A8pxLA74ENwKBcCMBRNwPABiT8v2jZ8b/Kjue/METdv5D50r/2rsi/WGS+v7oZtL8gz6m/gISfv+Y5lb9I74q/qqSAvxy0bL/gHli/pIlDv3D0Lr8wXxq//MkFv4Bp4r4IP7m+oBSQvkDUTb7g/va9AKokvcCpJD2g/vY9QNRNPpgUkD4AP7k+gGniPvTJBT8wXxo/bPQuP6SJQz/gHlg/HLRsP6ikgD9G74o/4jmVP4CEnz8ez6k/uBm0P1hkvj/yrsg/kPnSPy5E3T/Kjuc/aNnxPwYk/D9QNwNAoFwIQO2BDUA8pxJAi8wXQNjxHEAoFyJAdTwnQMRhLEAThzFAYaw2QLDRO0D/9kBATBxGQJxBS0DpZlBAOIxVQIexWkDV1l9AJPxkQHEhakDARm9AD2x0QF2ReUCstn5A/u2BQKSAhEBME4dA8qWJQJo4jEBCy45A6F2RQJDwk0A4g5ZA3hWZQIaom0AsO55A1M2gQHxgo0Ai86VAyoWoQHAYq0AYq61AwD2wQGbQskAOY7VAtvW3QFyIukAEG71Aqq2/QFJAwkD60sRAoGXHQEj4yUDuisxAlh3PQD6w0UDkQtRAjNXWQDRo2UDa+ttAgo3eQCgg4UDQsuNAeEXmQB7Y6EDGautAbP3tQBSQ8EC8IvNAYrX1QApI+ECy2vpAWG39QAAAAEE=",
          "dtype": "f4"
         },
         "xaxis": "x3",
         "y": {
          "bdata": "LqsOvYT7sT3kuFM+dr+sPnRB4z7YQQY/0TQXPxyfJT9cQjA/gRo3P96vQD8cT0M/SMFKP3VoUT/zm1w/j+hlPzSFbz9PO38/6FGIP9R4kz+MCJY/pbCcP7qUnT9S56A/O7ejP3mnoz+zL6I/PIifP8pilD+42o4/zDeGP2aldD8s0V8/v1VNP4eEND8avR4/ubgNPwc77D6xgtY+Cz+wPgxemz6+z44+gYdkPsmoWz6cpUs+PWVKPlguXD6tYoM+5BuHPsGRoz4UiKc+71q1Pgi9uD4IBrg+KTm1PldytD48o60+C7C+Plf6vT7A+r0+vLC+PqP5sj5LYK8+3Z+qPg4Wnj5OspQ+mFiAPoK6bz4LiVI++2BCPl3NOz5z2jo+IsxBPr3LSz4UTDg+5o5APnuXRz6+CVU+fYdXPoUaYz7CM2w+vwyPPlE5jj6s0os+YXSMPlsSnj75lZI+2LSRPtT7jz6/G5c+jd2SPs4xkj4TRoA+j2WFPo3Iaj4NhFs+C5JbPhKvLD5p8BU+imTRPfITrj1EXWU98ACQPc6mvz0mPKU9a4W0PVD26j3VcBI+xZI7PqxKYD6Y6JI+yyCrPs8i0T5KgOw+9nsKP6NQFz9Cvx8/tGUpP4MaLz94Cjs/i1xIP3laST95L1c/Q4tbPxV1Xz8waVw/JbZOPyXMPD8rFCc/MR4NP+tS6z4RBbI+hFx4PvDL5j2STHs7e2vVvROtWr5VqqG+5XDUvmh2/76NDBS/S2Qiv/aAK78WJDG/wK4wv9QkKb/wOSW/dmsVv24GCL9NxP6+Bdrjvpb1277+ab6+j4advuIPmb6DJIa+fJlPvoisPr5oFSq+WoMTvnae/L3ECCi+xjQnviRtF77WHhW+rVX1vVEx2r36ffe9NgC4vQ33u72AMpS9mXGCvQ65gL08/Y69dtZ9ve3fYb232HC9o3yIvSXpgb1I9Y29VFdRvfqAib3sspy98pbSvTRN2b3xvPa9E8/fveD7Eb5x+SC+Q5o/vpg2UL44wGC+TMZwvnnUYr5gnWq+kvFgvsn1Yb4c2WK+7G9JvnvWNL4=",
          "dtype": "f4"
         },
         "yaxis": "y3"
        },
        {
         "mode": "lines",
         "name": "RBF Sample 3",
         "showlegend": false,
         "type": "scatter",
         "x": {
          "bdata": "AAAAwVht/cCy2vrACkj4wGS19cC8IvPAFJDwwG797cDGauvAHtjowHhF5sDQsuPAKiDhwIKN3sDa+tvANGjZwIzV1sDmQtTAPrDRwJYdz8DwiszASPjJwKBlx8D60sTAUkDCwKytv8AEG73AXIi6wLb1t8AOY7XAZtCywMA9sMAYq63AchirwMqFqMAi86XAfGCjwNTNoMAuO57AhqibwN4VmcA4g5bAkPCTwOhdkcBCy47AmjiMwPSlicBME4fApICEwP7tgcCstn7AX5F5wBBsdMDBRm/AcyFqwCT8ZMDV1l/AiLFawDiMVcDrZlDAnEFLwE0cRsD/9kDAsNE7wGGsNsAUhzHAxWEswHc8J8AoFyLA2fEcwIzMF8A8pxLA74ENwKBcCMBRNwPABiT8v2jZ8b/Kjue/METdv5D50r/2rsi/WGS+v7oZtL8gz6m/gISfv+Y5lb9I74q/qqSAvxy0bL/gHli/pIlDv3D0Lr8wXxq//MkFv4Bp4r4IP7m+oBSQvkDUTb7g/va9AKokvcCpJD2g/vY9QNRNPpgUkD4AP7k+gGniPvTJBT8wXxo/bPQuP6SJQz/gHlg/HLRsP6ikgD9G74o/4jmVP4CEnz8ez6k/uBm0P1hkvj/yrsg/kPnSPy5E3T/Kjuc/aNnxPwYk/D9QNwNAoFwIQO2BDUA8pxJAi8wXQNjxHEAoFyJAdTwnQMRhLEAThzFAYaw2QLDRO0D/9kBATBxGQJxBS0DpZlBAOIxVQIexWkDV1l9AJPxkQHEhakDARm9AD2x0QF2ReUCstn5A/u2BQKSAhEBME4dA8qWJQJo4jEBCy45A6F2RQJDwk0A4g5ZA3hWZQIaom0AsO55A1M2gQHxgo0Ai86VAyoWoQHAYq0AYq61AwD2wQGbQskAOY7VAtvW3QFyIukAEG71Aqq2/QFJAwkD60sRAoGXHQEj4yUDuisxAlh3PQD6w0UDkQtRAjNXWQDRo2UDa+ttAgo3eQCgg4UDQsuNAeEXmQB7Y6EDGautAbP3tQBSQ8EC8IvNAYrX1QApI+ECy2vpAWG39QAAAAEE=",
          "dtype": "f4"
         },
         "xaxis": "x4",
         "y": {
          "bdata": "LqsOvaisfD3sKx0+w4mDPueErT4RJNE+g3H1PgAqDT8R0B0/MlIsPz2EPT8rkUc/eOhVPyQvYT8n+20/KSR2PxWOfT9FVoQ/s/OIP3otjj/24Is/udmPP2WWjz9dGZM/66WVP/yilT8VeJU/XlGVP8r4jz/RSJI/HOiQP+0pjT/kbYs/wcqJP5mlhD+1IYE/kCd9P0UacD8g62w/93FeP7cXVz8VKk8/CVI+PzpBOD+vxSw/K8ciP6NNGj8xjRM/LIgDP0hK/z7DV+A+pe/RPvtGvT5/Ias+pN6bPjiAkD5Hx4A+bvGDPiDYYj4Gb0k+njw5PvHzHD6pUBo+LdkUPpsYBD7dJv49v3rYPdFg6D08edk9kzHgPUol6j10IO89wWT3PWa7/D3pENk92dr5PS0oBj5ePBA+6FcOPtnpFj5P9hs+kkc9PqwOKT7dRiQ+D0YvPlGQUT4mVTo+WutEPlQ8TT6KTGA+CPtZPgUmXz6mgE0+zHdrPm5YXD4MUGM+SVtxPmV7VT601Fs+nwBPPnuKWz5/WlM+o8ZnPk22bD5YTEw+wKVKPmWoVT40Nlg+MPtdPjhcWj68UG4+BZlnPi6kej7enXg+zLGIPp0yiD6Jh4g+3kWSPoGnmD6LRas+oMC6Pj5Ntj59bs4+Q5zTPgtb3j5Cg+M+FE3iPq/25z6Su+8+nBz1Pr46/z7e8f0+rW7/PvGV9T4vNfY+vITxPkXR5z51cN0+9LLPPh97wz5PU7I+9GqkPpYHlT7yfoE+fTdfPlAhPz6p/QM+zOTXPf3FbT1o0Ay7EWgXvV4Fyr1gZ+q91gQOvppSVr5LuXC+FUV7vlANl75H96W+FKyvvhwLuL6WztO+mTjRvtPbzL4MItO+TNfPvqyX1L7rKN++QTXQvo6d0r5kWMi+yLzDvs7hv74EDbu+0Z2tvpawor40zJy+FaaVvqaGiL5nfoC+6n1evoCPXr57PU6+MVhHvq/bKL5nRxy+QLf/vT1kD77iHQK+m3MBvu7v5b18K9e9NwjTvdt7rb2tosS9/1K8vUyAzL0CqtS9XlG3vertub0=",
          "dtype": "f4"
         },
         "yaxis": "y4"
        }
       ],
       "layout": {
        "annotations": [
         {
          "font": {
           "size": 16
          },
          "showarrow": false,
          "text": "Matérn ν=1/2 (Ornstein-Uhlenbeck)",
          "x": 0.5,
          "xanchor": "center",
          "xref": "paper",
          "y": 1,
          "yanchor": "bottom",
          "yref": "paper"
         },
         {
          "font": {
           "size": 16
          },
          "showarrow": false,
          "text": "Matérn ν=3/2",
          "x": 0.5,
          "xanchor": "center",
          "xref": "paper",
          "y": 0.7375,
          "yanchor": "bottom",
          "yref": "paper"
         },
         {
          "font": {
           "size": 16
          },
          "showarrow": false,
          "text": "Matérn ν=5/2",
          "x": 0.5,
          "xanchor": "center",
          "xref": "paper",
          "y": 0.475,
          "yanchor": "bottom",
          "yref": "paper"
         },
         {
          "font": {
           "size": 16
          },
          "showarrow": false,
          "text": "Matérn ν→∞ (RBF)",
          "x": 0.5,
          "xanchor": "center",
          "xref": "paper",
          "y": 0.2125,
          "yanchor": "bottom",
          "yref": "paper"
         }
        ],
        "height": 900,
        "template": {
         "data": {
          "bar": [
           {
            "error_x": {
             "color": "rgb(36,36,36)"
            },
            "error_y": {
             "color": "rgb(36,36,36)"
            },
            "marker": {
             "line": {
              "color": "white",
              "width": 0.5
             },
             "pattern": {
              "fillmode": "overlay",
              "size": 10,
              "solidity": 0.2
             }
            },
            "type": "bar"
           }
          ],
          "barpolar": [
           {
            "marker": {
             "line": {
              "color": "white",
              "width": 0.5
             },
             "pattern": {
              "fillmode": "overlay",
              "size": 10,
              "solidity": 0.2
             }
            },
            "type": "barpolar"
           }
          ],
          "carpet": [
           {
            "aaxis": {
             "endlinecolor": "rgb(36,36,36)",
             "gridcolor": "white",
             "linecolor": "white",
             "minorgridcolor": "white",
             "startlinecolor": "rgb(36,36,36)"
            },
            "baxis": {
             "endlinecolor": "rgb(36,36,36)",
             "gridcolor": "white",
             "linecolor": "white",
             "minorgridcolor": "white",
             "startlinecolor": "rgb(36,36,36)"
            },
            "type": "carpet"
           }
          ],
          "choropleth": [
           {
            "colorbar": {
             "outlinewidth": 1,
             "tickcolor": "rgb(36,36,36)",
             "ticks": "outside"
            },
            "type": "choropleth"
           }
          ],
          "contour": [
           {
            "colorbar": {
             "outlinewidth": 1,
             "tickcolor": "rgb(36,36,36)",
             "ticks": "outside"
            },
            "colorscale": [
             [
              0,
              "#440154"
             ],
             [
              0.1111111111111111,
              "#482878"
             ],
             [
              0.2222222222222222,
              "#3e4989"
             ],
             [
              0.3333333333333333,
              "#31688e"
             ],
             [
              0.4444444444444444,
              "#26828e"
             ],
             [
              0.5555555555555556,
              "#1f9e89"
             ],
             [
              0.6666666666666666,
              "#35b779"
             ],
             [
              0.7777777777777778,
              "#6ece58"
             ],
             [
              0.8888888888888888,
              "#b5de2b"
             ],
             [
              1,
              "#fde725"
             ]
            ],
            "type": "contour"
           }
          ],
          "contourcarpet": [
           {
            "colorbar": {
             "outlinewidth": 1,
             "tickcolor": "rgb(36,36,36)",
             "ticks": "outside"
            },
            "type": "contourcarpet"
           }
          ],
          "heatmap": [
           {
            "colorbar": {
             "outlinewidth": 1,
             "tickcolor": "rgb(36,36,36)",
             "ticks": "outside"
            },
            "colorscale": [
             [
              0,
              "#440154"
             ],
             [
              0.1111111111111111,
              "#482878"
             ],
             [
              0.2222222222222222,
              "#3e4989"
             ],
             [
              0.3333333333333333,
              "#31688e"
             ],
             [
              0.4444444444444444,
              "#26828e"
             ],
             [
              0.5555555555555556,
              "#1f9e89"
             ],
             [
              0.6666666666666666,
              "#35b779"
             ],
             [
              0.7777777777777778,
              "#6ece58"
             ],
             [
              0.8888888888888888,
              "#b5de2b"
             ],
             [
              1,
              "#fde725"
             ]
            ],
            "type": "heatmap"
           }
          ],
          "histogram": [
           {
            "marker": {
             "line": {
              "color": "white",
              "width": 0.6
             }
            },
            "type": "histogram"
           }
          ],
          "histogram2d": [
           {
            "colorbar": {
             "outlinewidth": 1,
             "tickcolor": "rgb(36,36,36)",
             "ticks": "outside"
            },
            "colorscale": [
             [
              0,
              "#440154"
             ],
             [
              0.1111111111111111,
              "#482878"
             ],
             [
              0.2222222222222222,
              "#3e4989"
             ],
             [
              0.3333333333333333,
              "#31688e"
             ],
             [
              0.4444444444444444,
              "#26828e"
             ],
             [
              0.5555555555555556,
              "#1f9e89"
             ],
             [
              0.6666666666666666,
              "#35b779"
             ],
             [
              0.7777777777777778,
              "#6ece58"
             ],
             [
              0.8888888888888888,
              "#b5de2b"
             ],
             [
              1,
              "#fde725"
             ]
            ],
            "type": "histogram2d"
           }
          ],
          "histogram2dcontour": [
           {
            "colorbar": {
             "outlinewidth": 1,
             "tickcolor": "rgb(36,36,36)",
             "ticks": "outside"
            },
            "colorscale": [
             [
              0,
              "#440154"
             ],
             [
              0.1111111111111111,
              "#482878"
             ],
             [
              0.2222222222222222,
              "#3e4989"
             ],
             [
              0.3333333333333333,
              "#31688e"
             ],
             [
              0.4444444444444444,
              "#26828e"
             ],
             [
              0.5555555555555556,
              "#1f9e89"
             ],
             [
              0.6666666666666666,
              "#35b779"
             ],
             [
              0.7777777777777778,
              "#6ece58"
             ],
             [
              0.8888888888888888,
              "#b5de2b"
             ],
             [
              1,
              "#fde725"
             ]
            ],
            "type": "histogram2dcontour"
           }
          ],
          "mesh3d": [
           {
            "colorbar": {
             "outlinewidth": 1,
             "tickcolor": "rgb(36,36,36)",
             "ticks": "outside"
            },
            "type": "mesh3d"
           }
          ],
          "parcoords": [
           {
            "line": {
             "colorbar": {
              "outlinewidth": 1,
              "tickcolor": "rgb(36,36,36)",
              "ticks": "outside"
             }
            },
            "type": "parcoords"
           }
          ],
          "pie": [
           {
            "automargin": true,
            "type": "pie"
           }
          ],
          "scatter": [
           {
            "fillpattern": {
             "fillmode": "overlay",
             "size": 10,
             "solidity": 0.2
            },
            "type": "scatter"
           }
          ],
          "scatter3d": [
           {
            "line": {
             "colorbar": {
              "outlinewidth": 1,
              "tickcolor": "rgb(36,36,36)",
              "ticks": "outside"
             }
            },
            "marker": {
             "colorbar": {
              "outlinewidth": 1,
              "tickcolor": "rgb(36,36,36)",
              "ticks": "outside"
             }
            },
            "type": "scatter3d"
           }
          ],
          "scattercarpet": [
           {
            "marker": {
             "colorbar": {
              "outlinewidth": 1,
              "tickcolor": "rgb(36,36,36)",
              "ticks": "outside"
             }
            },
            "type": "scattercarpet"
           }
          ],
          "scattergeo": [
           {
            "marker": {
             "colorbar": {
              "outlinewidth": 1,
              "tickcolor": "rgb(36,36,36)",
              "ticks": "outside"
             }
            },
            "type": "scattergeo"
           }
          ],
          "scattergl": [
           {
            "marker": {
             "colorbar": {
              "outlinewidth": 1,
              "tickcolor": "rgb(36,36,36)",
              "ticks": "outside"
             }
            },
            "type": "scattergl"
           }
          ],
          "scattermap": [
           {
            "marker": {
             "colorbar": {
              "outlinewidth": 1,
              "tickcolor": "rgb(36,36,36)",
              "ticks": "outside"
             }
            },
            "type": "scattermap"
           }
          ],
          "scattermapbox": [
           {
            "marker": {
             "colorbar": {
              "outlinewidth": 1,
              "tickcolor": "rgb(36,36,36)",
              "ticks": "outside"
             }
            },
            "type": "scattermapbox"
           }
          ],
          "scatterpolar": [
           {
            "marker": {
             "colorbar": {
              "outlinewidth": 1,
              "tickcolor": "rgb(36,36,36)",
              "ticks": "outside"
             }
            },
            "type": "scatterpolar"
           }
          ],
          "scatterpolargl": [
           {
            "marker": {
             "colorbar": {
              "outlinewidth": 1,
              "tickcolor": "rgb(36,36,36)",
              "ticks": "outside"
             }
            },
            "type": "scatterpolargl"
           }
          ],
          "scatterternary": [
           {
            "marker": {
             "colorbar": {
              "outlinewidth": 1,
              "tickcolor": "rgb(36,36,36)",
              "ticks": "outside"
             }
            },
            "type": "scatterternary"
           }
          ],
          "surface": [
           {
            "colorbar": {
             "outlinewidth": 1,
             "tickcolor": "rgb(36,36,36)",
             "ticks": "outside"
            },
            "colorscale": [
             [
              0,
              "#440154"
             ],
             [
              0.1111111111111111,
              "#482878"
             ],
             [
              0.2222222222222222,
              "#3e4989"
             ],
             [
              0.3333333333333333,
              "#31688e"
             ],
             [
              0.4444444444444444,
              "#26828e"
             ],
             [
              0.5555555555555556,
              "#1f9e89"
             ],
             [
              0.6666666666666666,
              "#35b779"
             ],
             [
              0.7777777777777778,
              "#6ece58"
             ],
             [
              0.8888888888888888,
              "#b5de2b"
             ],
             [
              1,
              "#fde725"
             ]
            ],
            "type": "surface"
           }
          ],
          "table": [
           {
            "cells": {
             "fill": {
              "color": "rgb(237,237,237)"
             },
             "line": {
              "color": "white"
             }
            },
            "header": {
             "fill": {
              "color": "rgb(217,217,217)"
             },
             "line": {
              "color": "white"
             }
            },
            "type": "table"
           }
          ]
         },
         "layout": {
          "annotationdefaults": {
           "arrowhead": 0,
           "arrowwidth": 1
          },
          "autotypenumbers": "strict",
          "coloraxis": {
           "colorbar": {
            "outlinewidth": 1,
            "tickcolor": "rgb(36,36,36)",
            "ticks": "outside"
           }
          },
          "colorscale": {
           "diverging": [
            [
             0,
             "rgb(103,0,31)"
            ],
            [
             0.1,
             "rgb(178,24,43)"
            ],
            [
             0.2,
             "rgb(214,96,77)"
            ],
            [
             0.3,
             "rgb(244,165,130)"
            ],
            [
             0.4,
             "rgb(253,219,199)"
            ],
            [
             0.5,
             "rgb(247,247,247)"
            ],
            [
             0.6,
             "rgb(209,229,240)"
            ],
            [
             0.7,
             "rgb(146,197,222)"
            ],
            [
             0.8,
             "rgb(67,147,195)"
            ],
            [
             0.9,
             "rgb(33,102,172)"
            ],
            [
             1,
             "rgb(5,48,97)"
            ]
           ],
           "sequential": [
            [
             0,
             "#440154"
            ],
            [
             0.1111111111111111,
             "#482878"
            ],
            [
             0.2222222222222222,
             "#3e4989"
            ],
            [
             0.3333333333333333,
             "#31688e"
            ],
            [
             0.4444444444444444,
             "#26828e"
            ],
            [
             0.5555555555555556,
             "#1f9e89"
            ],
            [
             0.6666666666666666,
             "#35b779"
            ],
            [
             0.7777777777777778,
             "#6ece58"
            ],
            [
             0.8888888888888888,
             "#b5de2b"
            ],
            [
             1,
             "#fde725"
            ]
           ],
           "sequentialminus": [
            [
             0,
             "#440154"
            ],
            [
             0.1111111111111111,
             "#482878"
            ],
            [
             0.2222222222222222,
             "#3e4989"
            ],
            [
             0.3333333333333333,
             "#31688e"
            ],
            [
             0.4444444444444444,
             "#26828e"
            ],
            [
             0.5555555555555556,
             "#1f9e89"
            ],
            [
             0.6666666666666666,
             "#35b779"
            ],
            [
             0.7777777777777778,
             "#6ece58"
            ],
            [
             0.8888888888888888,
             "#b5de2b"
            ],
            [
             1,
             "#fde725"
            ]
           ]
          },
          "colorway": [
           "#1F77B4",
           "#FF7F0E",
           "#2CA02C",
           "#D62728",
           "#9467BD",
           "#8C564B",
           "#E377C2",
           "#7F7F7F",
           "#BCBD22",
           "#17BECF"
          ],
          "font": {
           "color": "rgb(36,36,36)"
          },
          "geo": {
           "bgcolor": "white",
           "lakecolor": "white",
           "landcolor": "white",
           "showlakes": true,
           "showland": true,
           "subunitcolor": "white"
          },
          "hoverlabel": {
           "align": "left"
          },
          "hovermode": "closest",
          "mapbox": {
           "style": "light"
          },
          "paper_bgcolor": "white",
          "plot_bgcolor": "white",
          "polar": {
           "angularaxis": {
            "gridcolor": "rgb(232,232,232)",
            "linecolor": "rgb(36,36,36)",
            "showgrid": false,
            "showline": true,
            "ticks": "outside"
           },
           "bgcolor": "white",
           "radialaxis": {
            "gridcolor": "rgb(232,232,232)",
            "linecolor": "rgb(36,36,36)",
            "showgrid": false,
            "showline": true,
            "ticks": "outside"
           }
          },
          "scene": {
           "xaxis": {
            "backgroundcolor": "white",
            "gridcolor": "rgb(232,232,232)",
            "gridwidth": 2,
            "linecolor": "rgb(36,36,36)",
            "showbackground": true,
            "showgrid": false,
            "showline": true,
            "ticks": "outside",
            "zeroline": false,
            "zerolinecolor": "rgb(36,36,36)"
           },
           "yaxis": {
            "backgroundcolor": "white",
            "gridcolor": "rgb(232,232,232)",
            "gridwidth": 2,
            "linecolor": "rgb(36,36,36)",
            "showbackground": true,
            "showgrid": false,
            "showline": true,
            "ticks": "outside",
            "zeroline": false,
            "zerolinecolor": "rgb(36,36,36)"
           },
           "zaxis": {
            "backgroundcolor": "white",
            "gridcolor": "rgb(232,232,232)",
            "gridwidth": 2,
            "linecolor": "rgb(36,36,36)",
            "showbackground": true,
            "showgrid": false,
            "showline": true,
            "ticks": "outside",
            "zeroline": false,
            "zerolinecolor": "rgb(36,36,36)"
           }
          },
          "shapedefaults": {
           "fillcolor": "black",
           "line": {
            "width": 0
           },
           "opacity": 0.3
          },
          "ternary": {
           "aaxis": {
            "gridcolor": "rgb(232,232,232)",
            "linecolor": "rgb(36,36,36)",
            "showgrid": false,
            "showline": true,
            "ticks": "outside"
           },
           "baxis": {
            "gridcolor": "rgb(232,232,232)",
            "linecolor": "rgb(36,36,36)",
            "showgrid": false,
            "showline": true,
            "ticks": "outside"
           },
           "bgcolor": "white",
           "caxis": {
            "gridcolor": "rgb(232,232,232)",
            "linecolor": "rgb(36,36,36)",
            "showgrid": false,
            "showline": true,
            "ticks": "outside"
           }
          },
          "title": {
           "x": 0.05
          },
          "xaxis": {
           "automargin": true,
           "gridcolor": "rgb(232,232,232)",
           "linecolor": "rgb(36,36,36)",
           "showgrid": false,
           "showline": true,
           "ticks": "outside",
           "title": {
            "standoff": 15
           },
           "zeroline": false,
           "zerolinecolor": "rgb(36,36,36)"
          },
          "yaxis": {
           "automargin": true,
           "gridcolor": "rgb(232,232,232)",
           "linecolor": "rgb(36,36,36)",
           "showgrid": false,
           "showline": true,
           "ticks": "outside",
           "title": {
            "standoff": 15
           },
           "zeroline": false,
           "zerolinecolor": "rgb(36,36,36)"
          }
         }
        },
        "title": {
         "text": "Samples from Gaussian Processes with Different Matérn Kernels"
        },
        "width": 1200,
        "xaxis": {
         "anchor": "y",
         "domain": [
          0,
          1
         ],
         "matches": "x4",
         "showticklabels": false
        },
        "xaxis2": {
         "anchor": "y2",
         "domain": [
          0,
          1
         ],
         "matches": "x4",
         "showticklabels": false
        },
        "xaxis3": {
         "anchor": "y3",
         "domain": [
          0,
          1
         ],
         "matches": "x4",
         "showticklabels": false
        },
        "xaxis4": {
         "anchor": "y4",
         "domain": [
          0,
          1
         ],
         "title": {
          "text": "x"
         }
        },
        "yaxis": {
         "anchor": "x",
         "domain": [
          0.7875,
          1
         ],
         "title": {
          "text": "f(x)"
         }
        },
        "yaxis2": {
         "anchor": "x2",
         "domain": [
          0.525,
          0.7375
         ],
         "title": {
          "text": "f(x)"
         }
        },
        "yaxis3": {
         "anchor": "x3",
         "domain": [
          0.2625,
          0.475
         ],
         "title": {
          "text": "f(x)"
         }
        },
        "yaxis4": {
         "anchor": "x4",
         "domain": [
          0,
          0.2125
         ],
         "title": {
          "text": "f(x)"
         }
        }
       }
      }
     },
     "metadata": {},
     "output_type": "display_data"
    }
   ],
   "source": [
    "import plotly.subplots as sp\n",
    "import plotly.graph_objs as go\n",
    "\n",
    "fig = sp.make_subplots(\n",
    "    rows=4,\n",
    "    cols=1,\n",
    "    shared_xaxes=True,\n",
    "    shared_yaxes=True,\n",
    "    vertical_spacing=0.05,\n",
    "    subplot_titles=[\n",
    "        \"Matérn ν=1/2 (Ornstein-Uhlenbeck)\",\n",
    "        \"Matérn ν=3/2\",\n",
    "        \"Matérn ν=5/2\",\n",
    "        \"Matérn ν→∞ (RBF)\",\n",
    "    ],\n",
    ")\n",
    "\n",
    "for i in range(num_samples_per_kernel):\n",
    "    fig.add_trace(\n",
    "        go.Scatter(\n",
    "            x=X_test[:, 0],\n",
    "            y=matern_1_2_samples[i, :],\n",
    "            mode=\"lines\",\n",
    "            name=f\"ν=1/2 Sample {i + 1}\",\n",
    "            showlegend=(i == 0),\n",
    "        ),\n",
    "        row=1,\n",
    "        col=1,\n",
    "    )\n",
    "    fig.add_trace(\n",
    "        go.Scatter(\n",
    "            x=X_test[:, 0],\n",
    "            y=matern_3_2_samples[i, :],\n",
    "            mode=\"lines\",\n",
    "            name=f\"ν=3/2 Sample {i + 1}\",\n",
    "            showlegend=False,\n",
    "        ),\n",
    "        row=2,\n",
    "        col=1,\n",
    "    )\n",
    "    fig.add_trace(\n",
    "        go.Scatter(\n",
    "            x=X_test[:, 0],\n",
    "            y=matern_5_2_samples[i, :],\n",
    "            mode=\"lines\",\n",
    "            name=f\"ν=5/2 Sample {i + 1}\",\n",
    "            showlegend=False,\n",
    "        ),\n",
    "        row=3,\n",
    "        col=1,\n",
    "    )\n",
    "    fig.add_trace(\n",
    "        go.Scatter(\n",
    "            x=X_test[:, 0],\n",
    "            y=rbf_samples[i, :],\n",
    "            mode=\"lines\",\n",
    "            name=f\"RBF Sample {i + 1}\",\n",
    "            showlegend=False,\n",
    "        ),\n",
    "        row=4,\n",
    "        col=1,\n",
    "    )\n",
    "\n",
    "fig.update_xaxes(title_text=\"x\", row=4, col=1)\n",
    "for r in range(1, 5):\n",
    "    fig.update_yaxes(title_text=\"f(x)\", row=r, col=1)\n",
    "\n",
    "fig.update_layout(\n",
    "    height=900,\n",
    "    width=1200,\n",
    "    title_text=\"Samples from Gaussian Processes with Different Matérn Kernels\",\n",
    "    template=\"simple_white\",\n",
    ")\n",
    "\n",
    "fig.show()\n"
   ]
  },
  {
   "cell_type": "markdown",
   "id": "003193d0",
   "metadata": {},
   "source": [
    "# The Rational Quadratic Kernel\n",
    "\n",
    "The **Rational Quadratic (RQ) kernel** can be seen as an infinite mixture of Squared Exponential (SE) kernels with different length scales. This gives it the ability to model functions that have variations at multiple length scales.\n",
    "\n",
    "Its formula is:\n",
    "\n",
    "$$\n",
    "k_{\\text{RQ}}(|r|) = \\sigma^2 \\left(1 + \\frac{\\|x - x'\\|^2}{2 \\alpha \\ell^2}\\right)^{-\\alpha}\n",
    "$$\n",
    "\n",
    "Here, $\\alpha$ is a positive parameter that determines the scale-mixture. A larger $\\alpha$ corresponds to mixing SE kernels over a wider range of length scales. As $\\alpha \\to \\infty$, the RQ kernel approaches the SE kernel.\n",
    "\n",
    "Let's implement the RQ kernel."
   ]
  },
  {
   "cell_type": "code",
   "execution_count": 10,
   "id": "f8cc63ce",
   "metadata": {},
   "outputs": [],
   "source": [
    "import jax.numpy as jnp\n",
    "\n",
    "\n",
    "def rational_quadratic_kernel(\n",
    "    x1: jnp.ndarray,\n",
    "    x2: jnp.ndarray,\n",
    "    alpha: float = 1.0,\n",
    "    lengthscale: float = 1.0,\n",
    "    sigma: float = 1.0,\n",
    ") -> jnp.ndarray:\n",
    "    \"\"\"\n",
    "    Computes the Rational Quadratic kernel matrix.\n",
    "\n",
    "    Args:\n",
    "        x1: First set of input points. Shape (N1, D).\n",
    "        x2: Second set of input points. Shape (N2, D).\n",
    "        alpha: Scale-mixture parameter.\n",
    "        lengthscale: Length scale hyperparameter.\n",
    "        sigma: Output variance (amplitude) hyperparameter.\n",
    "\n",
    "    Returns:\n",
    "        The kernel matrix K. Shape (N1, N2).\n",
    "    \"\"\"\n",
    "    # Ensure inputs are JAX arrays and have at least 2 dimensions\n",
    "    x1 = jnp.atleast_2d(x1)\n",
    "    x2 = jnp.atleast_2d(x2)\n",
    "\n",
    "    # Compute the squared Euclidean distance\n",
    "    sq_dist = jnp.sum((x1[:, None, :] - x2[None, :, :]) ** 2, axis=-1)\n",
    "\n",
    "    # Compute the kernel matrix\n",
    "    K = sigma**2 * (1.0 + sq_dist / (2.0 * alpha * lengthscale**2)) ** (-alpha)\n",
    "\n",
    "    return K\n",
    "\n",
    "\n",
    "# Example usage:\n",
    "# points1 = jnp.array([[0.0], [1.0], [2.0]])\n",
    "# points2 = jnp.array([[0.5], [1.5]])\n",
    "# kernel_matrix = rational_quadratic_kernel(points1, points2, alpha=1.0, lengthscale=1.0, sigma=1.0)\n",
    "# print(\"Rational Quadratic Kernel Matrix:\\n\", kernel_matrix)\n"
   ]
  },
  {
   "cell_type": "code",
   "execution_count": 48,
   "id": "fdd82a19",
   "metadata": {},
   "outputs": [
    {
     "data": {
      "application/vnd.plotly.v1+json": {
       "config": {
        "plotlyServerURL": "https://plot.ly"
       },
       "data": [
        {
         "mode": "lines",
         "name": "Sample 1",
         "opacity": 0.7,
         "type": "scatter",
         "x": {
          "bdata": "AAAAwVht/cCy2vrACkj4wGS19cC8IvPAFJDwwG797cDGauvAHtjowHhF5sDQsuPAKiDhwIKN3sDa+tvANGjZwIzV1sDmQtTAPrDRwJYdz8DwiszASPjJwKBlx8D60sTAUkDCwKytv8AEG73AXIi6wLb1t8AOY7XAZtCywMA9sMAYq63AchirwMqFqMAi86XAfGCjwNTNoMAuO57AhqibwN4VmcA4g5bAkPCTwOhdkcBCy47AmjiMwPSlicBME4fApICEwP7tgcCstn7AX5F5wBBsdMDBRm/AcyFqwCT8ZMDV1l/AiLFawDiMVcDrZlDAnEFLwE0cRsD/9kDAsNE7wGGsNsAUhzHAxWEswHc8J8AoFyLA2fEcwIzMF8A8pxLA74ENwKBcCMBRNwPABiT8v2jZ8b/Kjue/METdv5D50r/2rsi/WGS+v7oZtL8gz6m/gISfv+Y5lb9I74q/qqSAvxy0bL/gHli/pIlDv3D0Lr8wXxq//MkFv4Bp4r4IP7m+oBSQvkDUTb7g/va9AKokvcCpJD2g/vY9QNRNPpgUkD4AP7k+gGniPvTJBT8wXxo/bPQuP6SJQz/gHlg/HLRsP6ikgD9G74o/4jmVP4CEnz8ez6k/uBm0P1hkvj/yrsg/kPnSPy5E3T/Kjuc/aNnxPwYk/D9QNwNAoFwIQO2BDUA8pxJAi8wXQNjxHEAoFyJAdTwnQMRhLEAThzFAYaw2QLDRO0D/9kBATBxGQJxBS0DpZlBAOIxVQIexWkDV1l9AJPxkQHEhakDARm9AD2x0QF2ReUCstn5A/u2BQKSAhEBME4dA8qWJQJo4jEBCy45A6F2RQJDwk0A4g5ZA3hWZQIaom0AsO55A1M2gQHxgo0Ai86VAyoWoQHAYq0AYq61AwD2wQGbQskAOY7VAtvW3QFyIukAEG71Aqq2/QFJAwkD60sRAoGXHQEj4yUDuisxAlh3PQD6w0UDkQtRAjNXWQDRo2UDa+ttAgo3eQCgg4UDQsuNAeEXmQB7Y6EDGautAbP3tQBSQ8EC8IvNAYrX1QApI+ECy2vpAWG39QAAAAEE=",
          "dtype": "f4"
         },
         "y": {
          "bdata": "ZbXPP3Uh5D+7TPQ/XUEBQGz4BkAMVQlAlewJQNpjCUCdjAdAt7ECQPwDAUD5+vM/fxnrP/hb4D/VB9k/v3XUPwld0j9xZNM/2EvWP9u+1T9NTdM/vPjVP4Rz0j/yYtA/MBLMP7ImyD+4Hsc/c43GP3hExD/zVMI/upa8PwaLuD+RJbE/HpuoP4jxnT8REpM/JP2JPwcUez8cR2c/uwBTP1NrOz8hESM/dPMNP52h9j6tgM8+xdqnPp3ngz7TSB0+OanTPS7aND2tzQS8RjNHvdQ12L1GPwO+ngsWvjJ/FL4kyiC+xGIAvqzN871kpc+9UpOuveujqL0ErO69+5YCvpufJb4AUGq+zMKcvpUFtr5g3OO+FKP/vqHoCL9aQw+/cRgOv2k9Ar9eit6+nfuivqarUr4ZhkK9QZPSPSDgiD4jq8k+JOgUP5IGPD+0o2Y/zVaHP77omj/abbA/dhHDP2jV0z+Oh+E/LqfpP79B8D82KPU/G2nyP92d8T80qes/u+HkP5NX2j9J/9M/WuTHP2DLvj9WX7c/ZxavP+T3qD+1BqQ/MuygP52Lmj93g5I/RviKP1lihD/n2HY/TlpmP7QnUj92Mz0/cJMsP+hdGz++pQc/+mn5PuRb6z7rkcY+2m+uPnkGnT7Bk5E+98ViPmN7TT47PyM+Wf4FPkIswj3CGdE9fnHaPf4XDj74KUY+Hzx3PrWoiD6jR4Q+qjaFPqMafj4gR1Y+bUQ2Pi55Bj5Up00947WTvNI3rb0B8kK+x9ONvlFJub7Q++K+zqAOv4LvGr++8SO/Zpszv/DMMr8DwCq/rJQiv0E2FL8gtwO/Ot7svmrR1b5RY6O+zquTvpDyaL72iDG+Jn78vbaYy73qQ6u9ehCzvWsUlb3pEPa9i+4rvs+ZVr6MUZe+rAaxvibj2L5urvy+/e0Lv8aFHL8X8i6/KdtBv4X0Xr+WVHi/XbWMv46snr9PJ7C/JOTDvzXG1L/jGue/PhTyv2UL/r8FDATAHNMGwJoJCMBd0wnAmA0IwMF6B8D/QQXA7cUAwBdy87877uW/NpjTv947ub8=",
          "dtype": "f4"
         }
        },
        {
         "mode": "lines",
         "name": "Sample 2",
         "opacity": 0.7,
         "type": "scatter",
         "x": {
          "bdata": "AAAAwVht/cCy2vrACkj4wGS19cC8IvPAFJDwwG797cDGauvAHtjowHhF5sDQsuPAKiDhwIKN3sDa+tvANGjZwIzV1sDmQtTAPrDRwJYdz8DwiszASPjJwKBlx8D60sTAUkDCwKytv8AEG73AXIi6wLb1t8AOY7XAZtCywMA9sMAYq63AchirwMqFqMAi86XAfGCjwNTNoMAuO57AhqibwN4VmcA4g5bAkPCTwOhdkcBCy47AmjiMwPSlicBME4fApICEwP7tgcCstn7AX5F5wBBsdMDBRm/AcyFqwCT8ZMDV1l/AiLFawDiMVcDrZlDAnEFLwE0cRsD/9kDAsNE7wGGsNsAUhzHAxWEswHc8J8AoFyLA2fEcwIzMF8A8pxLA74ENwKBcCMBRNwPABiT8v2jZ8b/Kjue/METdv5D50r/2rsi/WGS+v7oZtL8gz6m/gISfv+Y5lb9I74q/qqSAvxy0bL/gHli/pIlDv3D0Lr8wXxq//MkFv4Bp4r4IP7m+oBSQvkDUTb7g/va9AKokvcCpJD2g/vY9QNRNPpgUkD4AP7k+gGniPvTJBT8wXxo/bPQuP6SJQz/gHlg/HLRsP6ikgD9G74o/4jmVP4CEnz8ez6k/uBm0P1hkvj/yrsg/kPnSPy5E3T/Kjuc/aNnxPwYk/D9QNwNAoFwIQO2BDUA8pxJAi8wXQNjxHEAoFyJAdTwnQMRhLEAThzFAYaw2QLDRO0D/9kBATBxGQJxBS0DpZlBAOIxVQIexWkDV1l9AJPxkQHEhakDARm9AD2x0QF2ReUCstn5A/u2BQKSAhEBME4dA8qWJQJo4jEBCy45A6F2RQJDwk0A4g5ZA3hWZQIaom0AsO55A1M2gQHxgo0Ai86VAyoWoQHAYq0AYq61AwD2wQGbQskAOY7VAtvW3QFyIukAEG71Aqq2/QFJAwkD60sRAoGXHQEj4yUDuisxAlh3PQD6w0UDkQtRAjNXWQDRo2UDa+ttAgo3eQCgg4UDQsuNAeEXmQB7Y6EDGautAbP3tQBSQ8EC8IvNAYrX1QApI+ECy2vpAWG39QAAAAEE=",
          "dtype": "f4"
         },
         "y": {
          "bdata": "jgR5vppiFr4BWAK9yf2/PawJbD7BFbA+Hd3uPs5dDj8Q1Cc/9/s6PwbIRD8G4U4/CFlSP55IST8r3D4/aDc3P9lELT/aiCc/A/4aP/znFT95vhA/c0kQPwrVBz+regA/ukDxPvgE4D6xCdA++57FPiPVtT58xrE+06GqPjkYtT4WIcY+n2HgPmaM/j57yBU/7aouPzjSQj/ZFF0/baBwPywlgD/jBIk/k3WRP9wlnD9omZ8/VqimP+ZYqT/WNKY/H8mnP/pIoD+VPJQ/CVGLP0tefD/cTGA/hTBGP+JmKD+FbBE/uh/jPi1cnj7P4XA+uNf9PTPCAz1gwwi9Oq//vRExMr7b/na+G+WEvkffn75Mfqa+8SK3vspPv76q8Mu+5cPXvopC2L6eOOC+QTnqvnGx6b4gT+6+rNj3vm5n7b5/qfa+HGvzvk/x6L6B8ea+C5DYvnEozL4+V8e+GrK0vu8Kzr7klc++k47fvp6X9b53Vgi/qNcUv/neIr97CjK/ohBFv3EuWL9fx2q/5QuFv/0gkL8YEKK/kWqxv3M6yL/O9di/acjtv95B/78R8wnAaHERwEq9FsBirBrADSkdwIEYHMD9CRrAq3IXwMO0E8CKeBDAZE4MwONBCMBMXATAiY0AwFYQ9r89P+i/keTav/idyr+E27a/apKjvzlTkr+Jf3m/TkhdvxiiOb+9dx6/228TvwMeBL/iGfa+6+Dnvhql4L5r+O6+/R/nvnK1+r6yJwK/KDURv9/2D7/oqRa/fgwWvxXgGr/Hzhq/7u8Vv1zaFb+7HAS/qB3zvstNzb7elqe+35ZZvhwsrr0tlFQ9meVJPul2vD7yEAs/prg/P+y5Yz+8CoQ/7MCVP55IoD9kC6g/EaKtP/ZmsT8b3rA/jD+sPwZppT9/oJ0/uwCWP/QejD+VEYY/pqWBP++rej/lr3o/NdRwP0HXaz/J/1s/b6pIP53AOD9TSCA/8bgNPyFt+j6YLts+IErGPlPZrz62bqQ+RgCqPg9PpT4AgKk+VMOmPjlltz767qs+YOOjPuiymj5tjm0+id5SPvtt1z0=",
          "dtype": "f4"
         }
        },
        {
         "mode": "lines",
         "name": "Sample 3",
         "opacity": 0.7,
         "type": "scatter",
         "x": {
          "bdata": "AAAAwVht/cCy2vrACkj4wGS19cC8IvPAFJDwwG797cDGauvAHtjowHhF5sDQsuPAKiDhwIKN3sDa+tvANGjZwIzV1sDmQtTAPrDRwJYdz8DwiszASPjJwKBlx8D60sTAUkDCwKytv8AEG73AXIi6wLb1t8AOY7XAZtCywMA9sMAYq63AchirwMqFqMAi86XAfGCjwNTNoMAuO57AhqibwN4VmcA4g5bAkPCTwOhdkcBCy47AmjiMwPSlicBME4fApICEwP7tgcCstn7AX5F5wBBsdMDBRm/AcyFqwCT8ZMDV1l/AiLFawDiMVcDrZlDAnEFLwE0cRsD/9kDAsNE7wGGsNsAUhzHAxWEswHc8J8AoFyLA2fEcwIzMF8A8pxLA74ENwKBcCMBRNwPABiT8v2jZ8b/Kjue/METdv5D50r/2rsi/WGS+v7oZtL8gz6m/gISfv+Y5lb9I74q/qqSAvxy0bL/gHli/pIlDv3D0Lr8wXxq//MkFv4Bp4r4IP7m+oBSQvkDUTb7g/va9AKokvcCpJD2g/vY9QNRNPpgUkD4AP7k+gGniPvTJBT8wXxo/bPQuP6SJQz/gHlg/HLRsP6ikgD9G74o/4jmVP4CEnz8ez6k/uBm0P1hkvj/yrsg/kPnSPy5E3T/Kjuc/aNnxPwYk/D9QNwNAoFwIQO2BDUA8pxJAi8wXQNjxHEAoFyJAdTwnQMRhLEAThzFAYaw2QLDRO0D/9kBATBxGQJxBS0DpZlBAOIxVQIexWkDV1l9AJPxkQHEhakDARm9AD2x0QF2ReUCstn5A/u2BQKSAhEBME4dA8qWJQJo4jEBCy45A6F2RQJDwk0A4g5ZA3hWZQIaom0AsO55A1M2gQHxgo0Ai86VAyoWoQHAYq0AYq61AwD2wQGbQskAOY7VAtvW3QFyIukAEG71Aqq2/QFJAwkD60sRAoGXHQEj4yUDuisxAlh3PQD6w0UDkQtRAjNXWQDRo2UDa+ttAgo3eQCgg4UDQsuNAeEXmQB7Y6EDGautAbP3tQBSQ8EC8IvNAYrX1QApI+ECy2vpAWG39QAAAAEE=",
          "dtype": "f4"
         },
         "y": {
          "bdata": "LqsOvbxYGT5K7Ks+iT8IP/r7Mj+dxlI/vfloP3PHdT9V83c/9CJwP0TeZj8iVlQ/XGNGP1PJOT+qvjU/CPY0P+qUOT/KgUk/EDxgPxxMgD8n4Ig/iSWVPwoomj9NIJ8/6DmhP/8nnj/VmJc/CDiOPwiwdD8UjFQ/ToosPzYu+T4hTJ8+0mwdPqDIerzV1CC+iQuFvg/TvL7hn9C+f9DqvoM+677Yddq+Et7TvuRxsb7JNI++j21IvpKsub12IC894TIRPrnSkj6e/8A+G73xPh9XBz/z3w0/NksNP6FxCD/x+Pg+SUD2Po1t4z7ppdM+0TTIPvMqsj7OeKQ+pQaWPp3efT47zVM+dEkRPgREyz3FhT897iE0PE+s5LuWHgq8wj8sPDkrNz0ZYmY92NHEPbzOCT5PMzU+VrFRPlHIcj7Dy4Y+mQepPlfSsT5rALY+0ni5Pi3Lyz6E7L0+ome2Pq9bqz5ge6g+lraaPhU4kT40/2s+0MljPvfgMT6BpQ4+wUP7PYJ3eT2rWq08jBEqvXfynr3ymfu9kJruvcjkrb17r5m9VJQOvQTECj0P7OI91SFQPrTblT7e3tQ+WL4EP6itJT8daUA/Z1hgP2LIdj8NfYI/R9WHP7y5iD9qtIo/hXCMP7Nahz8rjog/1ZeFP8Shgj+l7Hc/jDFdP6igOT9w6ww/BvStPqpkAT6PZeG9CXKqvv8SEb9wqkK/Gudtv/+Zib/8P5i/sb2jvwHLqr8l/q6/7Siuv3qfqL+vWp+/UxqRv6fXer+/dVS/C9Egv89Q3r7xfYm+GFbOvV3CkjsO5/09pbVpPinygT4aTpI+7hGoPt1moz59yJs+ZiKSPlTEhT6Ivys+0zfaPcjhcT02NFk7boqSvGI9Fb2/cpC9fHRHvQV1T71bhd68RWg5vDGcm7s5Pye8moehu/cgN7snSGS8iWwAvddQHr0+KWC9aIYzvZouhL35JKK9xADovUrfAr6HpB2+q6AcvgElR76NFV++zWCDvkjGkL5Jv52+h6KpvgNGo75SUKO+I32WvvBRi77SF32+lthGvtv2Er4=",
          "dtype": "f4"
         }
        },
        {
         "mode": "lines",
         "name": "Sample 4",
         "opacity": 0.7,
         "type": "scatter",
         "x": {
          "bdata": "AAAAwVht/cCy2vrACkj4wGS19cC8IvPAFJDwwG797cDGauvAHtjowHhF5sDQsuPAKiDhwIKN3sDa+tvANGjZwIzV1sDmQtTAPrDRwJYdz8DwiszASPjJwKBlx8D60sTAUkDCwKytv8AEG73AXIi6wLb1t8AOY7XAZtCywMA9sMAYq63AchirwMqFqMAi86XAfGCjwNTNoMAuO57AhqibwN4VmcA4g5bAkPCTwOhdkcBCy47AmjiMwPSlicBME4fApICEwP7tgcCstn7AX5F5wBBsdMDBRm/AcyFqwCT8ZMDV1l/AiLFawDiMVcDrZlDAnEFLwE0cRsD/9kDAsNE7wGGsNsAUhzHAxWEswHc8J8AoFyLA2fEcwIzMF8A8pxLA74ENwKBcCMBRNwPABiT8v2jZ8b/Kjue/METdv5D50r/2rsi/WGS+v7oZtL8gz6m/gISfv+Y5lb9I74q/qqSAvxy0bL/gHli/pIlDv3D0Lr8wXxq//MkFv4Bp4r4IP7m+oBSQvkDUTb7g/va9AKokvcCpJD2g/vY9QNRNPpgUkD4AP7k+gGniPvTJBT8wXxo/bPQuP6SJQz/gHlg/HLRsP6ikgD9G74o/4jmVP4CEnz8ez6k/uBm0P1hkvj/yrsg/kPnSPy5E3T/Kjuc/aNnxPwYk/D9QNwNAoFwIQO2BDUA8pxJAi8wXQNjxHEAoFyJAdTwnQMRhLEAThzFAYaw2QLDRO0D/9kBATBxGQJxBS0DpZlBAOIxVQIexWkDV1l9AJPxkQHEhakDARm9AD2x0QF2ReUCstn5A/u2BQKSAhEBME4dA8qWJQJo4jEBCy45A6F2RQJDwk0A4g5ZA3hWZQIaom0AsO55A1M2gQHxgo0Ai86VAyoWoQHAYq0AYq61AwD2wQGbQskAOY7VAtvW3QFyIukAEG71Aqq2/QFJAwkD60sRAoGXHQEj4yUDuisxAlh3PQD6w0UDkQtRAjNXWQDRo2UDa+ttAgo3eQCgg4UDQsuNAeEXmQB7Y6EDGautAbP3tQBSQ8EC8IvNAYrX1QApI+ECy2vpAWG39QAAAAEE=",
          "dtype": "f4"
         },
         "y": {
          "bdata": "Xs7MPggPsj6LzqE+y8V8PlRRXD7SFUA+3mEuPuYnIj4grhk+HKgVPsFRJD7qlCc+wJRLPqUkVj6rFYs+vYSqPgOy2T5KJgo/OAYuP2heTT8evm0/eNyIP/+5lT+m6Zs/ctOmP6rMqz9UUq4/KeWzPyG8tD8TBbQ/SduzP4iTrz9Ck6w/aoKmP7KHnj/AbpM/JAqIP03ncT/BWlM/nuwmP89zBD/QZ7Q+D61EPmHTsDymfgi+IZuMvjh1xL6oW/q+Sg0Ov0v/E78JABu/PhMXv+bzCL+RVP2+MRXwvhpm1b7nRry+EWuxvv8xlr6+YoC+TtlPviGuHb4W/d29bIlpvbr/0DzCApo9VtIaPvykcT4uyag+pRzaPhpZEj+VmC0/2KtNP2veYj8Bqnc/WluBP9pEgT9f3HA/xKdhP5z8RT8jKSo/FCYLP8RFzz7Tbps+E79QPtCRCj4kIMQ9IyeJPf9xpj06lQk+M0ZLPreokT6s8co+Hgf4PoHJGj86KjM/8z9MP9sEZT+t0X8/AB6CPyZmjD9KcpE/FPCQP7xckD+7QY0/hZKHPzxkfz/6GXU/HTNlP+oEWj+5R0g/7H0/PygxOj/ZuDQ/XGstPxsmKj8pbS4/r8QsP0pEKj/G+B4/xNkXP9nrBj+AYeY+n4enPkxSZD7ZhW89IknQvYRcjb62vsC+HogAv7/7F7+00h6/DPMgv3mGG7+Q6Qm/UCbjvkkoqL4eET2+GUaXveASWz2JTCA+qopdPmpklT71Wao+1HKrPiHGtD7CvKo+9uKpPkPkrT5V+6E+bvOWPl4ccD6Zqyc+20KWPVtCdr3HgwS+9Jx1vl+cpL4jir++SJPRvmkb5L4n4eS++APpvpqJ6L5xyeS+qzLivpYz8r67fwC/uNsGv2k9Fb+X0Si/erZAv56WWL+fanW/FH6Hv40Wk7+ww6G/UiOsv523tb9Kv76/9dLEv4lZxL+wl8K/CG/Av+RguL/RU7S/oxusvyRrqL/GHKC/Yc2bv/cFl7+m446/DF+Kv4H7hb+LQ36/jbNpv6pWWb9M7ka/4mo0vyejHb8=",
          "dtype": "f4"
         }
        },
        {
         "mode": "lines",
         "name": "Sample 5",
         "opacity": 0.7,
         "type": "scatter",
         "x": {
          "bdata": "AAAAwVht/cCy2vrACkj4wGS19cC8IvPAFJDwwG797cDGauvAHtjowHhF5sDQsuPAKiDhwIKN3sDa+tvANGjZwIzV1sDmQtTAPrDRwJYdz8DwiszASPjJwKBlx8D60sTAUkDCwKytv8AEG73AXIi6wLb1t8AOY7XAZtCywMA9sMAYq63AchirwMqFqMAi86XAfGCjwNTNoMAuO57AhqibwN4VmcA4g5bAkPCTwOhdkcBCy47AmjiMwPSlicBME4fApICEwP7tgcCstn7AX5F5wBBsdMDBRm/AcyFqwCT8ZMDV1l/AiLFawDiMVcDrZlDAnEFLwE0cRsD/9kDAsNE7wGGsNsAUhzHAxWEswHc8J8AoFyLA2fEcwIzMF8A8pxLA74ENwKBcCMBRNwPABiT8v2jZ8b/Kjue/METdv5D50r/2rsi/WGS+v7oZtL8gz6m/gISfv+Y5lb9I74q/qqSAvxy0bL/gHli/pIlDv3D0Lr8wXxq//MkFv4Bp4r4IP7m+oBSQvkDUTb7g/va9AKokvcCpJD2g/vY9QNRNPpgUkD4AP7k+gGniPvTJBT8wXxo/bPQuP6SJQz/gHlg/HLRsP6ikgD9G74o/4jmVP4CEnz8ez6k/uBm0P1hkvj/yrsg/kPnSPy5E3T/Kjuc/aNnxPwYk/D9QNwNAoFwIQO2BDUA8pxJAi8wXQNjxHEAoFyJAdTwnQMRhLEAThzFAYaw2QLDRO0D/9kBATBxGQJxBS0DpZlBAOIxVQIexWkDV1l9AJPxkQHEhakDARm9AD2x0QF2ReUCstn5A/u2BQKSAhEBME4dA8qWJQJo4jEBCy45A6F2RQJDwk0A4g5ZA3hWZQIaom0AsO55A1M2gQHxgo0Ai86VAyoWoQHAYq0AYq61AwD2wQGbQskAOY7VAtvW3QFyIukAEG71Aqq2/QFJAwkD60sRAoGXHQEj4yUDuisxAlh3PQD6w0UDkQtRAjNXWQDRo2UDa+ttAgo3eQCgg4UDQsuNAeEXmQB7Y6EDGautAbP3tQBSQ8EC8IvNAYrX1QApI+ECy2vpAWG39QAAAAEE=",
          "dtype": "f4"
         },
         "y": {
          "bdata": "lqqeP7ybkD/983w/bBJZP9XRND/bwRA/KVLgPkjVnD5lFDI+0A3ZPDJF4b364mS+iYiuvqZ4y75GQPK+RiACvy0SBL9CEgO/95EGv1pLAb+eo/C+4IHZvul4u74qX6K+p9dSvkmjrL0AOqo9agVoPtQs0D4seRo/j65NP7Fkej9LQJc/Jf6rPyv/xj8jPdg/LmfpP5TU+z+vKAJA4ZIGQApNCEAlvgVAj6ADQMYM/D8B++8/Gl7lP5fj1D9aaM4/8LDAPy4wsz/CWKc/agudP/FAjz//iok/kEmDPzr+fT9ZYnk/SEF5P18efz815II/ODaHPz4ziz/kepQ/0WeaPwpCpD/IO7A/S5i6P3qTxj9SWtI/mkHbP/qZ3z+n294/q23fP+tE2j/f69Q/2OvQPwesyj/12MQ/z+O8PwIltT8WZ7A//junP0yMnz8bpZc/uuOTP206kT8uxYs/NdmLP0A1iz9ldYs/H9aJP/uwiD+sHog/JCp/P2aJeT9O5Gs/V15SP1DbRD+Z/ic/7oIOPz3M7z7pGr8+iSydPlNgfj7UJ14+ptBTPr1PUT77ioE+Rg+ZPgX0uz4OENs+4CgAPyzDEz9RMBw/nYMmPzfmMz9ibkA/LQVIP61rVT+dh2M/DAt1PwR0fD9S4Ig/LmmRP04klD+NaZc/CmKWP5Bdkj/UPos/p6iAP6W3bz9JMlY/zuU9PyHLKD9q7Aw/TiYDPx786T5Gccw+uWe2PgNQpj62J50+c0WaPn83nT4Z+Kc+B0q0Pqd7zz40jfU+bGEPP40HIz+/yzM/HPlDP/N1Tj/+slo/AZZiPzVkUD/cUkw/NNI4PzK7Ij9/Xf0+Fpq8PlR9WT7WGr886J7Lvds5g74ewse+NgoCv++2F7+riiW/q1wmv/7TLL8zKiy/rKchv0vWHb/LOBy/RmUhvyiSJL//QS+/YjhHv0jcYr8qI36/2muVv3D9q7+um8a/NW3jvxJ+AcCaMhHApEsiwBoSMsC2rUDAXoJMwMKgV8CPQ2DAttFmwO30bMCnYXDAwGtywHT7csCLUHLASEBywBwxcMA=",
          "dtype": "f4"
         }
        },
        {
         "line": {
          "color": "black",
          "dash": "dash"
         },
         "mode": "lines",
         "name": "Mean Function",
         "type": "scatter",
         "x": {
          "bdata": "AAAAwVht/cCy2vrACkj4wGS19cC8IvPAFJDwwG797cDGauvAHtjowHhF5sDQsuPAKiDhwIKN3sDa+tvANGjZwIzV1sDmQtTAPrDRwJYdz8DwiszASPjJwKBlx8D60sTAUkDCwKytv8AEG73AXIi6wLb1t8AOY7XAZtCywMA9sMAYq63AchirwMqFqMAi86XAfGCjwNTNoMAuO57AhqibwN4VmcA4g5bAkPCTwOhdkcBCy47AmjiMwPSlicBME4fApICEwP7tgcCstn7AX5F5wBBsdMDBRm/AcyFqwCT8ZMDV1l/AiLFawDiMVcDrZlDAnEFLwE0cRsD/9kDAsNE7wGGsNsAUhzHAxWEswHc8J8AoFyLA2fEcwIzMF8A8pxLA74ENwKBcCMBRNwPABiT8v2jZ8b/Kjue/METdv5D50r/2rsi/WGS+v7oZtL8gz6m/gISfv+Y5lb9I74q/qqSAvxy0bL/gHli/pIlDv3D0Lr8wXxq//MkFv4Bp4r4IP7m+oBSQvkDUTb7g/va9AKokvcCpJD2g/vY9QNRNPpgUkD4AP7k+gGniPvTJBT8wXxo/bPQuP6SJQz/gHlg/HLRsP6ikgD9G74o/4jmVP4CEnz8ez6k/uBm0P1hkvj/yrsg/kPnSPy5E3T/Kjuc/aNnxPwYk/D9QNwNAoFwIQO2BDUA8pxJAi8wXQNjxHEAoFyJAdTwnQMRhLEAThzFAYaw2QLDRO0D/9kBATBxGQJxBS0DpZlBAOIxVQIexWkDV1l9AJPxkQHEhakDARm9AD2x0QF2ReUCstn5A/u2BQKSAhEBME4dA8qWJQJo4jEBCy45A6F2RQJDwk0A4g5ZA3hWZQIaom0AsO55A1M2gQHxgo0Ai86VAyoWoQHAYq0AYq61AwD2wQGbQskAOY7VAtvW3QFyIukAEG71Aqq2/QFJAwkD60sRAoGXHQEj4yUDuisxAlh3PQD6w0UDkQtRAjNXWQDRo2UDa+ttAgo3eQCgg4UDQsuNAeEXmQB7Y6EDGautAbP3tQBSQ8EC8IvNAYrX1QApI+ECy2vpAWG39QAAAAEE=",
          "dtype": "f4"
         },
         "y": {
          "bdata": "AAAAAAAAAAAAAAAAAAAAAAAAAAAAAAAAAAAAAAAAAAAAAAAAAAAAAAAAAAAAAAAAAAAAAAAAAAAAAAAAAAAAAAAAAAAAAAAAAAAAAAAAAAAAAAAAAAAAAAAAAAAAAAAAAAAAAAAAAAAAAAAAAAAAAAAAAAAAAAAAAAAAAAAAAAAAAAAAAAAAAAAAAAAAAAAAAAAAAAAAAAAAAAAAAAAAAAAAAAAAAAAAAAAAAAAAAAAAAAAAAAAAAAAAAAAAAAAAAAAAAAAAAAAAAAAAAAAAAAAAAAAAAAAAAAAAAAAAAAAAAAAAAAAAAAAAAAAAAAAAAAAAAAAAAAAAAAAAAAAAAAAAAAAAAAAAAAAAAAAAAAAAAAAAAAAAAAAAAAAAAAAAAAAAAAAAAAAAAAAAAAAAAAAAAAAAAAAAAAAAAAAAAAAAAAAAAAAAAAAAAAAAAAAAAAAAAAAAAAAAAAAAAAAAAAAAAAAAAAAAAAAAAAAAAAAAAAAAAAAAAAAAAAAAAAAAAAAAAAAAAAAAAAAAAAAAAAAAAAAAAAAAAAAAAAAAAAAAAAAAAAAAAAAAAAAAAAAAAAAAAAAAAAAAAAAAAAAAAAAAAAAAAAAAAAAAAAAAAAAAAAAAAAAAAAAAAAAAAAAAAAAAAAAAAAAAAAAAAAAAAAAAAAAAAAAAAAAAAAAAAAAAAAAAAAAAAAAAAAAAAAAAAAAAAAAAAAAAAAAAAAAAAAAAAAAAAAAAAAAAAAAAAAAAAAAAAAAAAAAAAAAAAAAAAAAAAAAAAAAAAAAAAAAAAAAAAAAAAAAAAAAAAAAAAAAAAAAAAAAAAAAAAAAAAAAAAAAAAAAAAAAAAAAAAAAAAAAAAAAAAAAAAAAAAAAAAAAAAAAAAAAAAAAAAAAAAAAAAAAAAAAAAAAAAAAAAAAAAAAAAAAAAAAAAAAAAAAAAAAAAAAAAAAAAAAAAAAAAAAAAAAAAAAAAAAAAAAAAAAAAAAAAAAAAAAAAAAAAAAAAAAAAAAAAAAAAAAAAAAAAAAAAAAAAAAAAAAAAAAAAAAAAAAAAAAAAAAAAAAAAAAAAAA=",
          "dtype": "f4"
         }
        }
       ],
       "layout": {
        "template": {
         "data": {
          "bar": [
           {
            "error_x": {
             "color": "rgb(36,36,36)"
            },
            "error_y": {
             "color": "rgb(36,36,36)"
            },
            "marker": {
             "line": {
              "color": "white",
              "width": 0.5
             },
             "pattern": {
              "fillmode": "overlay",
              "size": 10,
              "solidity": 0.2
             }
            },
            "type": "bar"
           }
          ],
          "barpolar": [
           {
            "marker": {
             "line": {
              "color": "white",
              "width": 0.5
             },
             "pattern": {
              "fillmode": "overlay",
              "size": 10,
              "solidity": 0.2
             }
            },
            "type": "barpolar"
           }
          ],
          "carpet": [
           {
            "aaxis": {
             "endlinecolor": "rgb(36,36,36)",
             "gridcolor": "white",
             "linecolor": "white",
             "minorgridcolor": "white",
             "startlinecolor": "rgb(36,36,36)"
            },
            "baxis": {
             "endlinecolor": "rgb(36,36,36)",
             "gridcolor": "white",
             "linecolor": "white",
             "minorgridcolor": "white",
             "startlinecolor": "rgb(36,36,36)"
            },
            "type": "carpet"
           }
          ],
          "choropleth": [
           {
            "colorbar": {
             "outlinewidth": 1,
             "tickcolor": "rgb(36,36,36)",
             "ticks": "outside"
            },
            "type": "choropleth"
           }
          ],
          "contour": [
           {
            "colorbar": {
             "outlinewidth": 1,
             "tickcolor": "rgb(36,36,36)",
             "ticks": "outside"
            },
            "colorscale": [
             [
              0,
              "#440154"
             ],
             [
              0.1111111111111111,
              "#482878"
             ],
             [
              0.2222222222222222,
              "#3e4989"
             ],
             [
              0.3333333333333333,
              "#31688e"
             ],
             [
              0.4444444444444444,
              "#26828e"
             ],
             [
              0.5555555555555556,
              "#1f9e89"
             ],
             [
              0.6666666666666666,
              "#35b779"
             ],
             [
              0.7777777777777778,
              "#6ece58"
             ],
             [
              0.8888888888888888,
              "#b5de2b"
             ],
             [
              1,
              "#fde725"
             ]
            ],
            "type": "contour"
           }
          ],
          "contourcarpet": [
           {
            "colorbar": {
             "outlinewidth": 1,
             "tickcolor": "rgb(36,36,36)",
             "ticks": "outside"
            },
            "type": "contourcarpet"
           }
          ],
          "heatmap": [
           {
            "colorbar": {
             "outlinewidth": 1,
             "tickcolor": "rgb(36,36,36)",
             "ticks": "outside"
            },
            "colorscale": [
             [
              0,
              "#440154"
             ],
             [
              0.1111111111111111,
              "#482878"
             ],
             [
              0.2222222222222222,
              "#3e4989"
             ],
             [
              0.3333333333333333,
              "#31688e"
             ],
             [
              0.4444444444444444,
              "#26828e"
             ],
             [
              0.5555555555555556,
              "#1f9e89"
             ],
             [
              0.6666666666666666,
              "#35b779"
             ],
             [
              0.7777777777777778,
              "#6ece58"
             ],
             [
              0.8888888888888888,
              "#b5de2b"
             ],
             [
              1,
              "#fde725"
             ]
            ],
            "type": "heatmap"
           }
          ],
          "histogram": [
           {
            "marker": {
             "line": {
              "color": "white",
              "width": 0.6
             }
            },
            "type": "histogram"
           }
          ],
          "histogram2d": [
           {
            "colorbar": {
             "outlinewidth": 1,
             "tickcolor": "rgb(36,36,36)",
             "ticks": "outside"
            },
            "colorscale": [
             [
              0,
              "#440154"
             ],
             [
              0.1111111111111111,
              "#482878"
             ],
             [
              0.2222222222222222,
              "#3e4989"
             ],
             [
              0.3333333333333333,
              "#31688e"
             ],
             [
              0.4444444444444444,
              "#26828e"
             ],
             [
              0.5555555555555556,
              "#1f9e89"
             ],
             [
              0.6666666666666666,
              "#35b779"
             ],
             [
              0.7777777777777778,
              "#6ece58"
             ],
             [
              0.8888888888888888,
              "#b5de2b"
             ],
             [
              1,
              "#fde725"
             ]
            ],
            "type": "histogram2d"
           }
          ],
          "histogram2dcontour": [
           {
            "colorbar": {
             "outlinewidth": 1,
             "tickcolor": "rgb(36,36,36)",
             "ticks": "outside"
            },
            "colorscale": [
             [
              0,
              "#440154"
             ],
             [
              0.1111111111111111,
              "#482878"
             ],
             [
              0.2222222222222222,
              "#3e4989"
             ],
             [
              0.3333333333333333,
              "#31688e"
             ],
             [
              0.4444444444444444,
              "#26828e"
             ],
             [
              0.5555555555555556,
              "#1f9e89"
             ],
             [
              0.6666666666666666,
              "#35b779"
             ],
             [
              0.7777777777777778,
              "#6ece58"
             ],
             [
              0.8888888888888888,
              "#b5de2b"
             ],
             [
              1,
              "#fde725"
             ]
            ],
            "type": "histogram2dcontour"
           }
          ],
          "mesh3d": [
           {
            "colorbar": {
             "outlinewidth": 1,
             "tickcolor": "rgb(36,36,36)",
             "ticks": "outside"
            },
            "type": "mesh3d"
           }
          ],
          "parcoords": [
           {
            "line": {
             "colorbar": {
              "outlinewidth": 1,
              "tickcolor": "rgb(36,36,36)",
              "ticks": "outside"
             }
            },
            "type": "parcoords"
           }
          ],
          "pie": [
           {
            "automargin": true,
            "type": "pie"
           }
          ],
          "scatter": [
           {
            "fillpattern": {
             "fillmode": "overlay",
             "size": 10,
             "solidity": 0.2
            },
            "type": "scatter"
           }
          ],
          "scatter3d": [
           {
            "line": {
             "colorbar": {
              "outlinewidth": 1,
              "tickcolor": "rgb(36,36,36)",
              "ticks": "outside"
             }
            },
            "marker": {
             "colorbar": {
              "outlinewidth": 1,
              "tickcolor": "rgb(36,36,36)",
              "ticks": "outside"
             }
            },
            "type": "scatter3d"
           }
          ],
          "scattercarpet": [
           {
            "marker": {
             "colorbar": {
              "outlinewidth": 1,
              "tickcolor": "rgb(36,36,36)",
              "ticks": "outside"
             }
            },
            "type": "scattercarpet"
           }
          ],
          "scattergeo": [
           {
            "marker": {
             "colorbar": {
              "outlinewidth": 1,
              "tickcolor": "rgb(36,36,36)",
              "ticks": "outside"
             }
            },
            "type": "scattergeo"
           }
          ],
          "scattergl": [
           {
            "marker": {
             "colorbar": {
              "outlinewidth": 1,
              "tickcolor": "rgb(36,36,36)",
              "ticks": "outside"
             }
            },
            "type": "scattergl"
           }
          ],
          "scattermap": [
           {
            "marker": {
             "colorbar": {
              "outlinewidth": 1,
              "tickcolor": "rgb(36,36,36)",
              "ticks": "outside"
             }
            },
            "type": "scattermap"
           }
          ],
          "scattermapbox": [
           {
            "marker": {
             "colorbar": {
              "outlinewidth": 1,
              "tickcolor": "rgb(36,36,36)",
              "ticks": "outside"
             }
            },
            "type": "scattermapbox"
           }
          ],
          "scatterpolar": [
           {
            "marker": {
             "colorbar": {
              "outlinewidth": 1,
              "tickcolor": "rgb(36,36,36)",
              "ticks": "outside"
             }
            },
            "type": "scatterpolar"
           }
          ],
          "scatterpolargl": [
           {
            "marker": {
             "colorbar": {
              "outlinewidth": 1,
              "tickcolor": "rgb(36,36,36)",
              "ticks": "outside"
             }
            },
            "type": "scatterpolargl"
           }
          ],
          "scatterternary": [
           {
            "marker": {
             "colorbar": {
              "outlinewidth": 1,
              "tickcolor": "rgb(36,36,36)",
              "ticks": "outside"
             }
            },
            "type": "scatterternary"
           }
          ],
          "surface": [
           {
            "colorbar": {
             "outlinewidth": 1,
             "tickcolor": "rgb(36,36,36)",
             "ticks": "outside"
            },
            "colorscale": [
             [
              0,
              "#440154"
             ],
             [
              0.1111111111111111,
              "#482878"
             ],
             [
              0.2222222222222222,
              "#3e4989"
             ],
             [
              0.3333333333333333,
              "#31688e"
             ],
             [
              0.4444444444444444,
              "#26828e"
             ],
             [
              0.5555555555555556,
              "#1f9e89"
             ],
             [
              0.6666666666666666,
              "#35b779"
             ],
             [
              0.7777777777777778,
              "#6ece58"
             ],
             [
              0.8888888888888888,
              "#b5de2b"
             ],
             [
              1,
              "#fde725"
             ]
            ],
            "type": "surface"
           }
          ],
          "table": [
           {
            "cells": {
             "fill": {
              "color": "rgb(237,237,237)"
             },
             "line": {
              "color": "white"
             }
            },
            "header": {
             "fill": {
              "color": "rgb(217,217,217)"
             },
             "line": {
              "color": "white"
             }
            },
            "type": "table"
           }
          ]
         },
         "layout": {
          "annotationdefaults": {
           "arrowhead": 0,
           "arrowwidth": 1
          },
          "autotypenumbers": "strict",
          "coloraxis": {
           "colorbar": {
            "outlinewidth": 1,
            "tickcolor": "rgb(36,36,36)",
            "ticks": "outside"
           }
          },
          "colorscale": {
           "diverging": [
            [
             0,
             "rgb(103,0,31)"
            ],
            [
             0.1,
             "rgb(178,24,43)"
            ],
            [
             0.2,
             "rgb(214,96,77)"
            ],
            [
             0.3,
             "rgb(244,165,130)"
            ],
            [
             0.4,
             "rgb(253,219,199)"
            ],
            [
             0.5,
             "rgb(247,247,247)"
            ],
            [
             0.6,
             "rgb(209,229,240)"
            ],
            [
             0.7,
             "rgb(146,197,222)"
            ],
            [
             0.8,
             "rgb(67,147,195)"
            ],
            [
             0.9,
             "rgb(33,102,172)"
            ],
            [
             1,
             "rgb(5,48,97)"
            ]
           ],
           "sequential": [
            [
             0,
             "#440154"
            ],
            [
             0.1111111111111111,
             "#482878"
            ],
            [
             0.2222222222222222,
             "#3e4989"
            ],
            [
             0.3333333333333333,
             "#31688e"
            ],
            [
             0.4444444444444444,
             "#26828e"
            ],
            [
             0.5555555555555556,
             "#1f9e89"
            ],
            [
             0.6666666666666666,
             "#35b779"
            ],
            [
             0.7777777777777778,
             "#6ece58"
            ],
            [
             0.8888888888888888,
             "#b5de2b"
            ],
            [
             1,
             "#fde725"
            ]
           ],
           "sequentialminus": [
            [
             0,
             "#440154"
            ],
            [
             0.1111111111111111,
             "#482878"
            ],
            [
             0.2222222222222222,
             "#3e4989"
            ],
            [
             0.3333333333333333,
             "#31688e"
            ],
            [
             0.4444444444444444,
             "#26828e"
            ],
            [
             0.5555555555555556,
             "#1f9e89"
            ],
            [
             0.6666666666666666,
             "#35b779"
            ],
            [
             0.7777777777777778,
             "#6ece58"
            ],
            [
             0.8888888888888888,
             "#b5de2b"
            ],
            [
             1,
             "#fde725"
            ]
           ]
          },
          "colorway": [
           "#1F77B4",
           "#FF7F0E",
           "#2CA02C",
           "#D62728",
           "#9467BD",
           "#8C564B",
           "#E377C2",
           "#7F7F7F",
           "#BCBD22",
           "#17BECF"
          ],
          "font": {
           "color": "rgb(36,36,36)"
          },
          "geo": {
           "bgcolor": "white",
           "lakecolor": "white",
           "landcolor": "white",
           "showlakes": true,
           "showland": true,
           "subunitcolor": "white"
          },
          "hoverlabel": {
           "align": "left"
          },
          "hovermode": "closest",
          "mapbox": {
           "style": "light"
          },
          "paper_bgcolor": "white",
          "plot_bgcolor": "white",
          "polar": {
           "angularaxis": {
            "gridcolor": "rgb(232,232,232)",
            "linecolor": "rgb(36,36,36)",
            "showgrid": false,
            "showline": true,
            "ticks": "outside"
           },
           "bgcolor": "white",
           "radialaxis": {
            "gridcolor": "rgb(232,232,232)",
            "linecolor": "rgb(36,36,36)",
            "showgrid": false,
            "showline": true,
            "ticks": "outside"
           }
          },
          "scene": {
           "xaxis": {
            "backgroundcolor": "white",
            "gridcolor": "rgb(232,232,232)",
            "gridwidth": 2,
            "linecolor": "rgb(36,36,36)",
            "showbackground": true,
            "showgrid": false,
            "showline": true,
            "ticks": "outside",
            "zeroline": false,
            "zerolinecolor": "rgb(36,36,36)"
           },
           "yaxis": {
            "backgroundcolor": "white",
            "gridcolor": "rgb(232,232,232)",
            "gridwidth": 2,
            "linecolor": "rgb(36,36,36)",
            "showbackground": true,
            "showgrid": false,
            "showline": true,
            "ticks": "outside",
            "zeroline": false,
            "zerolinecolor": "rgb(36,36,36)"
           },
           "zaxis": {
            "backgroundcolor": "white",
            "gridcolor": "rgb(232,232,232)",
            "gridwidth": 2,
            "linecolor": "rgb(36,36,36)",
            "showbackground": true,
            "showgrid": false,
            "showline": true,
            "ticks": "outside",
            "zeroline": false,
            "zerolinecolor": "rgb(36,36,36)"
           }
          },
          "shapedefaults": {
           "fillcolor": "black",
           "line": {
            "width": 0
           },
           "opacity": 0.3
          },
          "ternary": {
           "aaxis": {
            "gridcolor": "rgb(232,232,232)",
            "linecolor": "rgb(36,36,36)",
            "showgrid": false,
            "showline": true,
            "ticks": "outside"
           },
           "baxis": {
            "gridcolor": "rgb(232,232,232)",
            "linecolor": "rgb(36,36,36)",
            "showgrid": false,
            "showline": true,
            "ticks": "outside"
           },
           "bgcolor": "white",
           "caxis": {
            "gridcolor": "rgb(232,232,232)",
            "linecolor": "rgb(36,36,36)",
            "showgrid": false,
            "showline": true,
            "ticks": "outside"
           }
          },
          "title": {
           "x": 0.05
          },
          "xaxis": {
           "automargin": true,
           "gridcolor": "rgb(232,232,232)",
           "linecolor": "rgb(36,36,36)",
           "showgrid": false,
           "showline": true,
           "ticks": "outside",
           "title": {
            "standoff": 15
           },
           "zeroline": false,
           "zerolinecolor": "rgb(36,36,36)"
          },
          "yaxis": {
           "automargin": true,
           "gridcolor": "rgb(232,232,232)",
           "linecolor": "rgb(36,36,36)",
           "showgrid": false,
           "showline": true,
           "ticks": "outside",
           "title": {
            "standoff": 15
           },
           "zeroline": false,
           "zerolinecolor": "rgb(36,36,36)"
          }
         }
        },
        "title": {
         "text": "Samples from a Gaussian Process with Rational Quadratic Kernel"
        },
        "xaxis": {
         "title": {
          "text": "x"
         }
        },
        "yaxis": {
         "title": {
          "text": "f(x)"
         }
        }
       }
      }
     },
     "metadata": {},
     "output_type": "display_data"
    }
   ],
   "source": [
    "# --- Sample from a GP with Rational Quadratic Kernel ---\n",
    "# Generate input points\n",
    "X_test = jnp.linspace(-8.0, 8.0, 200)[:, None]  # Test inputs\n",
    "\n",
    "# Define the Rational Quadratic kernel\n",
    "rq_alpha = 1.0\n",
    "rq_lengthscale = 1.0\n",
    "rq_sigma = 1.0\n",
    "rq_k = partial(\n",
    "    rational_quadratic_kernel,\n",
    "    alpha=rq_alpha,\n",
    "    lengthscale=rq_lengthscale,\n",
    "    sigma=rq_sigma,\n",
    ")\n",
    "\n",
    "# Sample functions\n",
    "num_samples = 5\n",
    "rq_samples = sample_from_gp(X_test, rq_k, num_samples=num_samples)\n",
    "\n",
    "import plotly.graph_objs as go\n",
    "\n",
    "fig = go.Figure()\n",
    "\n",
    "for i in range(num_samples):\n",
    "    fig.add_trace(\n",
    "        go.Scatter(\n",
    "            x=X_test[:, 0],\n",
    "            y=rq_samples[i, :],\n",
    "            mode=\"lines\",\n",
    "            name=f\"Sample {i + 1}\",\n",
    "            opacity=0.7,\n",
    "        )\n",
    "    )\n",
    "\n",
    "# Add the mean function (zero)\n",
    "fig.add_trace(\n",
    "    go.Scatter(\n",
    "        x=X_test[:, 0],\n",
    "        y=jnp.zeros_like(X_test[:, 0]),\n",
    "        mode=\"lines\",\n",
    "        name=\"Mean Function\",\n",
    "        line=dict(color=\"black\", dash=\"dash\"),\n",
    "    )\n",
    ")\n",
    "\n",
    "fig.update_layout(\n",
    "    title=\"Samples from a Gaussian Process with Rational Quadratic Kernel\",\n",
    "    xaxis_title=\"x\",\n",
    "    yaxis_title=\"f(x)\",\n",
    "    template=\"simple_white\",\n",
    ")\n",
    "\n",
    "fig.show()\n"
   ]
  },
  {
   "cell_type": "markdown",
   "id": "f858f376",
   "metadata": {},
   "source": [
    "# Building New Kernels from Existing Ones\n",
    "\n",
    "A powerful property of kernels is that we can **combine existing valid kernels to create new ones**. This allows us to construct complex kernels that capture various properties of the data.\n",
    "\n",
    "The slides list several ways to combine kernels:\n",
    "\n",
    "---\n",
    "\n",
    "If $k_1(x, x')$ and $k_2(x, x')$ are Mercer kernels, and $\\phi: Y \\to X$ is any function, then the following are also Mercer kernels:\n",
    "\n",
    "---\n",
    "\n",
    "### 1. Scaling\n",
    "\n",
    "$$\n",
    "\\alpha \\cdot k_1(x, x'), \\quad \\text{for any } \\alpha \\in \\mathbb{R}^+\n",
    "$$\n",
    "\n",
    "Scaling a kernel scales the variance of the GP.\n",
    "\n",
    "---\n",
    "\n",
    "### 2. Transformation of Inputs\n",
    "\n",
    "$$\n",
    "k_1(\\phi(y), \\phi(y')), \\quad \\text{for } y, y' \\in Y\n",
    "$$\n",
    "\n",
    "Applying a transformation to the inputs before evaluating the kernel can introduce non-linearities and capture different structures.  \n",
    "This is how length scales are often incorporated into kernels like the RBF:\n",
    "\n",
    "$$\n",
    "k(x, x') = k_{\\text{base}}\\left(\\frac{x}{\\ell}, \\frac{x'}{\\ell}\\right)\n",
    "$$\n",
    "\n",
    "---\n",
    "\n",
    "### 3. Addition\n",
    "\n",
    "$$\n",
    "k_1(x, x') + k_2(x, x')\n",
    "$$\n",
    "\n",
    "Adding kernels allows the GP to model functions that are a sum of functions drawn from the individual GPs.  \n",
    "The resulting GP has a covariance function that is the sum of the individual kernels.  \n",
    "This is useful for modeling components of a function, e.g., a smooth trend plus a periodic component.\n",
    "\n",
    "If $f_1 \\sim \\mathcal{GP}(m_1, k_1)$ and $f_2 \\sim \\mathcal{GP}(m_2, k_2)$, then\n",
    "\n",
    "$$\n",
    "f_1 + f_2 \\sim \\mathcal{GP}(m_1 + m_2, k_1 + k_2)\n",
    "$$\n",
    "\n",
    "---\n",
    "\n",
    "### 4. Multiplication (Schur Product)\n",
    "\n",
    "$$\n",
    "k_1(x, x') \\cdot k_2(x, x')\n",
    "$$\n",
    "\n",
    "Multiplying kernels is less intuitive than adding them, but it is a valid way to construct new kernels.\n",
    "\n",
    "If $f_1 \\sim \\mathcal{GP}(0, k_1)$ and $f_2 \\sim \\mathcal{GP}(0, k_2)$ are independent GPs, their product $h(x) = f_1(x) f_2(x)$ is **not generally a GP**.  \n",
    "However, the product of their kernels is a valid kernel.  \n",
    "This can be used to model interactions or dependencies between different aspects of the function.\n",
    "\n",
    "---\n",
    "\n",
    "These rules form a **\"semi-ring\" of kernels**, meaning that kernels are closed under addition and multiplication by non-negative scalars, and multiplication.  \n",
    "This provides a powerful framework for designing complex kernels by combining simpler ones.\n",
    "\n",
    "The slides illustrate examples of these combinations, showing:\n",
    "\n",
    "- How scaling affects the amplitude of samples,\n",
    "- How transforming inputs (like scaling by a length scale or using a non-linear transformation) changes the effective length scale or introduces non-stationarity,\n",
    "- How sums and products of kernels can create functions with combined properties."
   ]
  },
  {
   "cell_type": "markdown",
   "id": "3afba945",
   "metadata": {},
   "source": [
    "# Learning the Kernel (Hyperparameter Optimization)\n",
    "\n",
    "So far, we've been assuming that the hyperparameters of our kernels (like the length scale $\\ell$, variance $\\sigma^2$, noise variance $\\sigma_{\\text{noise}}^2$, $\\nu$ for Matérn, $\\alpha$ for RQ) are fixed. However, in practice, we need to **learn these hyperparameters from the data**.\n",
    "\n",
    "This is typically done using **Hierarchical Bayesian Inference** or **Bayesian model adaptation**. We treat the hyperparameters $\\theta$ as unknown variables and place a prior distribution $p(\\theta)$ over them. Then, we aim to find the posterior distribution over the hyperparameters given the data:\n",
    "\n",
    "$$\n",
    "p(\\theta \\mid y) = \\frac{p(y \\mid \\theta) p(\\theta)}{p(y)}\n",
    "$$\n",
    "\n",
    "The term $p(y \\mid \\theta)$ is the **marginal likelihood** or **model evidence**. It represents the probability of observing the data given the hyperparameters, marginalized over the function $f$:\n",
    "\n",
    "$$\n",
    "p(y \\mid \\theta) = \\int p(y \\mid f, \\theta) \\, p(f \\mid \\theta) \\, df\n",
    "$$\n",
    "\n",
    "For Gaussian Processes with Gaussian likelihoods, this marginal likelihood can be computed analytically. Recall the joint distribution of $y$ and $f_{\\text{test}}$. The marginal distribution of $y$ is:\n",
    "\n",
    "$$\n",
    "p(y \\mid X_{\\text{train}}, \\theta) = \\mathcal{N}\\left(y; m(X_{\\text{train}}), K_{\\text{train,train}} + \\sigma_{\\text{noise}}^2 I\\right)\n",
    "$$\n",
    "\n",
    "The **log-marginal likelihood** is then:\n",
    "\n",
    "$$\n",
    "\\log p(y \\mid X_{\\text{train}}, \\theta) = \n",
    "- \\frac{1}{2} (y - m(X_{\\text{train}}))^\\top (K_{\\text{train,train}} + \\sigma_{\\text{noise}}^2 I)^{-1} (y - m(X_{\\text{train}}))\n",
    "- \\frac{1}{2} \\log \\left| K_{\\text{train,train}} + \\sigma_{\\text{noise}}^2 I \\right|\n",
    "- \\frac{N_{\\text{train}}}{2} \\log(2\\pi)\n",
    "$$\n",
    "\n",
    "We can find the optimal hyperparameters by **maximizing this log-marginal likelihood** with respect to $\\theta$. This is typically a non-convex optimization problem and requires numerical methods.\n",
    "\n",
    "While the marginal likelihood is analytically available, its dependence on the hyperparameters $\\theta$ is generally non-linear, which is why we can't do analytic Gaussian inference over $\\theta$ itself.\n",
    "\n",
    "**Finding the hyperparameters by maximizing the marginal likelihood is a common approach in GP modeling and allows the model to adapt its properties (like smoothness and scale) to the observed data.**"
   ]
  },
  {
   "cell_type": "markdown",
   "id": "f96145d0",
   "metadata": {},
   "source": [
    "# Summary of Understanding Gaussian Processes\n",
    "\n",
    "In this post, we've deepened our understanding of **Gaussian Processes (GPs)** by focusing on the role of **kernels**:\n",
    "\n",
    "---\n",
    "\n",
    "- **GPs arise naturally from probabilistic parametric models with Gaussian priors** through \"lazy evaluation.\"\n",
    "\n",
    "- **Kernels** are functions that build symmetric positive semidefinite matrices and define the covariance between function values at different input points.\n",
    "\n",
    "- **Every kernel corresponds to an inner product** in a potentially infinite-dimensional feature space.\n",
    "\n",
    "- **Conditioning a GP on data results in a new GP (the posterior GP)** with updated mean and covariance functions.\n",
    "\n",
    "- **Different kernel functions** (like Wiener, Cubic Spline, Matérn, Rational Quadratic) encode different assumptions about the function's properties (e.g., smoothness, periodicity).\n",
    "\n",
    "- **New kernels can be constructed** by combining existing kernels through scaling, transformation of inputs, addition, and multiplication.\n",
    "\n",
    "- **Kernel hyperparameters can be learned from data** by maximizing the marginal likelihood:\n",
    "  \n",
    "  $$\n",
    "  \\log p(y \\mid X_{\\text{train}}, \\theta) = \n",
    "  - \\frac{1}{2} (y - m(X_{\\text{train}}))^\\top (K_{\\text{train,train}} + \\sigma_{\\text{noise}}^2 I)^{-1} (y - m(X_{\\text{train}}))\n",
    "  - \\frac{1}{2} \\log \\left| K_{\\text{train,train}} + \\sigma_{\\text{noise}}^2 I \\right|\n",
    "  - \\frac{N_{\\text{train}}}{2} \\log(2\\pi)\n",
    "  $$\n",
    "\n",
    "---\n",
    "\n",
    "This exploration of kernels highlights their flexibility and power in modeling a wide variety of functions.  \n",
    "By choosing or constructing appropriate kernels, we can tailor a GP to the specific characteristics of our data."
   ]
  }
 ],
 "metadata": {
  "kernelspec": {
   "display_name": ".venv",
   "language": "python",
   "name": "python3"
  },
  "language_info": {
   "codemirror_mode": {
    "name": "ipython",
    "version": 3
   },
   "file_extension": ".py",
   "mimetype": "text/x-python",
   "name": "python",
   "nbconvert_exporter": "python",
   "pygments_lexer": "ipython3",
   "version": "3.12.8"
  }
 },
 "nbformat": 4,
 "nbformat_minor": 5
}
