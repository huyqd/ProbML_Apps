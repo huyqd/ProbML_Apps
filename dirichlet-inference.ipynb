{
 "cells": [
  {
   "cell_type": "markdown",
   "id": "15b6faed",
   "metadata": {},
   "source": [
    "# Dirichlet-Multinomial Bayesian Inference: Interactive Visualization\n",
    "\n",
    "This notebook demonstrates Bayesian inference for categorical probabilities using the Dirichlet prior and the multinomial likelihood. We visualize the prior, posterior, and posterior predictive distributions with interactive controls for prior and data parameters."
   ]
  },
  {
   "cell_type": "markdown",
   "id": "d799100f",
   "metadata": {},
   "source": [
    "## 1. Import Required Libraries\n",
    "\n",
    "Import `numpy`, `jax`, `jax.numpy`, `scipy.stats.multinomial`, `scipy.stats.betabinom`, `plotly.graph_objects`, `plotly.figure_factory`, `ipywidgets`, and `IPython.display` for computation, simulation, interactivity, and visualization."
   ]
  },
  {
   "cell_type": "code",
   "execution_count": 1,
   "id": "0d2b0ede",
   "metadata": {},
   "outputs": [
    {
     "data": {
      "text/html": [
       "<script type=\"text/javascript\" async src=\"https://cdnjs.cloudflare.com/ajax/libs/mathjax/2.7.1/MathJax.js?config=TeX-MML-AM_SVG\"></script>"
      ],
      "text/plain": [
       "<IPython.core.display.HTML object>"
      ]
     },
     "metadata": {},
     "output_type": "display_data"
    }
   ],
   "source": [
    "import numpy as np\n",
    "import jax\n",
    "import jax.numpy as jnp\n",
    "from scipy.stats import multinomial, betabinom\n",
    "import plotly.graph_objects as go\n",
    "import plotly.figure_factory as ff\n",
    "import plotly.io as pio\n",
    "import ipywidgets as widgets\n",
    "from IPython.display import display, Markdown, HTML\n",
    "\n",
    "pio.templates.default = \"plotly_white\"\n",
    "display(\n",
    "    HTML(\n",
    "        '<script type=\"text/javascript\" async src=\"https://cdnjs.cloudflare.com/ajax/libs/mathjax/2.7.1/MathJax.js?config=TeX-MML-AM_SVG\"></script>'\n",
    "    )\n",
    ")"
   ]
  },
  {
   "cell_type": "markdown",
   "id": "17d2582c",
   "metadata": {},
   "source": [
    "## 2. Dirichlet-Multinomial Model: Mathematical Background\n",
    "\n",
    "The **Dirichlet-Multinomial model** is a Bayesian model for categorical/multinomial data.\n",
    "\n",
    "### Prior: Dirichlet Distribution\n",
    "\n",
    "The Dirichlet prior for the probability vector $\\mathbf{f} = [f_1, f_2, f_3]$ is:\n",
    "$$\n",
    "p(\\mathbf{f} \\mid \\boldsymbol{\\alpha}) = \\frac{1}{B(\\boldsymbol{\\alpha})} \\prod_{k=1}^K f_k^{\\alpha_k-1}\n",
    "$$\n",
    "where $f_k \\geq 0$, $\\sum_{k=1}^K f_k = 1$, $\\alpha_k > 0$, and $B(\\boldsymbol{\\alpha})$ is the multivariate Beta function.\n",
    "\n",
    "### Likelihood: Multinomial\n",
    "\n",
    "Given $N$ independent categorical trials with counts $\\mathbf{n} = [n_1, n_2, n_3]$:\n",
    "$$\n",
    "p(\\mathbf{n} \\mid \\mathbf{f}) = \\frac{N!}{n_1! n_2! n_3!} \\prod_{k=1}^3 f_k^{n_k}\n",
    "$$\n",
    "\n",
    "### Posterior: Dirichlet\n",
    "\n",
    "By conjugacy, the posterior is also Dirichlet:\n",
    "$$\n",
    "p(\\mathbf{f} \\mid \\mathbf{n}, \\boldsymbol{\\alpha}) = \\mathrm{Dirichlet}(\\boldsymbol{\\alpha} + \\mathbf{n})\n",
    "$$\n",
    "\n",
    "### Posterior Predictive: Beta-Binomial Marginals\n",
    "\n",
    "The predictive probability for $y$ counts in category $k$ in $N$ future trials:\n",
    "$$\n",
    "p(y \\mid N, \\boldsymbol{\\alpha}') = \\mathrm{BetaBinomial}(y; N, \\alpha_k', \\sum_{j \\neq k} \\alpha_j')\n",
    "$$\n",
    "where $\\boldsymbol{\\alpha}' = \\boldsymbol{\\alpha} + \\mathbf{n}$."
   ]
  },
  {
   "cell_type": "markdown",
   "id": "b4eea746",
   "metadata": {
    "vscode": {
     "languageId": "html"
    }
   },
   "source": [
    "\n",
    "**Why is the posterior predictive Beta-Binomial, not Dirichlet-Multinomial?**\n",
    "\n",
    "- The **Dirichlet-Multinomial** distribution describes the marginal distribution of counts $\\mathbf{n}$ in *multiple* categories, when the category probabilities $\\mathbf{f}$ are integrated out under a Dirichlet prior.\n",
    "- The **Beta-Binomial** is a special case for a *single* category: it gives the marginal distribution for the number of \"successes\" in one category (say, category $k$), integrating out the uncertainty in $f_k$ under the posterior Dirichlet.\n",
    "\n",
    "**Posterior Predictive:**\n",
    "- After observing data, the posterior for $\\mathbf{f}$ is Dirichlet.\n",
    "- For *future* data, the predictive distribution for the full vector of counts is Dirichlet-Multinomial.\n",
    "- But if we focus on the *marginal* predictive for the count in a single category (e.g., $y$ out of $N$ future trials in category $k$), this marginal is Beta-Binomial:\n",
    "    $$\n",
    "    p(y \\mid N, \\alpha_k', \\alpha_{-k}') = \\mathrm{BetaBinomial}(y; N, \\alpha_k', \\sum_{j \\neq k} \\alpha_j')\n",
    "    $$\n",
    "    where $\\alpha_k'$ is the posterior Dirichlet parameter for category $k$.\n",
    "\n",
    "**Summary:**\n",
    "- **Dirichlet-Multinomial:** Joint predictive for all categories.\n",
    "- **Beta-Binomial:** Marginal predictive for one category (summing/integrating out the others).\n",
    "\n",
    "This is why, when plotting the marginal predictive for each category, we use the Beta-Binomial distribution.\n"
   ]
  },
  {
   "cell_type": "markdown",
   "id": "3752685c",
   "metadata": {},
   "source": [
    "## 3. Set Prior and Data Parameters (Interactive)\n",
    "\n",
    "Use the sliders below to set the Dirichlet prior parameters ($\\alpha_1, \\alpha_2, \\alpha_3$), number of trials $N$, and the true probabilities $[p_1, p_2, p_3]$ for data simulation. The probabilities are constrained so that $p_1 + p_2 + p_3 = 1$."
   ]
  },
  {
   "cell_type": "code",
   "execution_count": 2,
   "id": "0df84b5b",
   "metadata": {},
   "outputs": [
    {
     "data": {
      "application/vnd.jupyter.widget-view+json": {
       "model_id": "06d469549c2d4263ab4fce729fcefb61",
       "version_major": 2,
       "version_minor": 0
      },
      "text/plain": [
       "VBox(children=(HBox(children=(FloatSlider(value=1.0, description='α₁ (prior):', max=5.0, min=0.1), FloatSlider…"
      ]
     },
     "metadata": {},
     "output_type": "display_data"
    }
   ],
   "source": [
    "# Prior parameter sliders\n",
    "alpha1_slider = widgets.FloatSlider(\n",
    "    value=1.0, min=0.1, max=5.0, step=0.1, description=\"α₁ (prior):\"\n",
    ")\n",
    "alpha2_slider = widgets.FloatSlider(\n",
    "    value=1.0, min=0.1, max=5.0, step=0.1, description=\"α₂ (prior):\"\n",
    ")\n",
    "alpha3_slider = widgets.FloatSlider(\n",
    "    value=1.0, min=0.1, max=5.0, step=0.1, description=\"α₃ (prior):\"\n",
    ")\n",
    "\n",
    "# Number of trials\n",
    "N_slider = widgets.IntSlider(\n",
    "    value=15, min=1, max=100, step=1, description=\"N (trials):\"\n",
    ")\n",
    "\n",
    "# True probabilities sliders (with sum-to-1 constraint)\n",
    "p1_slider = widgets.FloatSlider(\n",
    "    value=0.3, min=0.0, max=1.0, step=0.01, description=\"p₁ (true):\"\n",
    ")\n",
    "\n",
    "\n",
    "def update_p2_range(*args):\n",
    "    p1 = p1_slider.value\n",
    "    p2_slider.max = 1.0 - p1\n",
    "    if p2_slider.value > p2_slider.max:\n",
    "        p2_slider.value = p2_slider.max\n",
    "\n",
    "\n",
    "p1_slider.observe(update_p2_range, names=\"value\")\n",
    "\n",
    "p2_slider = widgets.FloatSlider(\n",
    "    value=0.3, min=0.0, max=1.0, step=0.01, description=\"p₂ (true):\"\n",
    ")\n",
    "\n",
    "\n",
    "def update_p3_display(*args):\n",
    "    p1 = p1_slider.value\n",
    "    p2 = p2_slider.value\n",
    "    p3 = max(0.0, 1.0 - p1 - p2)\n",
    "    p3_label.value = f\"<b>p₃ (true):</b> {p3:.2f}\"\n",
    "\n",
    "\n",
    "p2_slider.observe(update_p3_display, names=\"value\")\n",
    "p1_slider.observe(update_p3_display, names=\"value\")\n",
    "p3_label = widgets.HTML(value=\"<b>p₃ (true):</b> 0.40\")\n",
    "\n",
    "ui = widgets.VBox(\n",
    "    [\n",
    "        widgets.HBox([alpha1_slider, alpha2_slider, alpha3_slider]),\n",
    "        N_slider,\n",
    "        widgets.HBox([p1_slider, p2_slider, p3_label]),\n",
    "    ]\n",
    ")\n",
    "display(ui)"
   ]
  },
  {
   "cell_type": "markdown",
   "id": "ba798385",
   "metadata": {},
   "source": [
    "## 4. Simulate Multinomial Data\n",
    "\n",
    "Simulate observed counts $\\mathbf{n} = [n_1, n_2, n_3]$ from a multinomial distribution with parameters $N$ and $[p_1, p_2, p_3]$. Display the observed counts."
   ]
  },
  {
   "cell_type": "code",
   "execution_count": 3,
   "id": "08de51d6",
   "metadata": {},
   "outputs": [],
   "source": [
    "def simulate_multinomial_data(N, p_vec, rng_seed=42):\n",
    "    rng = np.random.default_rng(rng_seed)\n",
    "    counts = multinomial.rvs(n=N, p=p_vec, random_state=rng)\n",
    "    return counts"
   ]
  },
  {
   "cell_type": "markdown",
   "id": "9e3da88e",
   "metadata": {},
   "source": [
    "## 5. Compute Posterior Parameters\n",
    "\n",
    "Update the Dirichlet parameters: $\\alpha'_k = \\alpha_k + n_k$ for each category $k$."
   ]
  },
  {
   "cell_type": "code",
   "execution_count": 4,
   "id": "087d705e",
   "metadata": {},
   "outputs": [],
   "source": [
    "def compute_posterior_params(alpha_vec, counts):\n",
    "    return alpha_vec + counts"
   ]
  },
  {
   "cell_type": "markdown",
   "id": "e0107031",
   "metadata": {},
   "source": [
    "## 6. Plot Observed Data\n",
    "\n",
    "Use Plotly to create a bar chart showing observed counts for each category, and overlay the expected counts from the true probabilities."
   ]
  },
  {
   "cell_type": "code",
   "execution_count": 19,
   "id": "e0777c15",
   "metadata": {},
   "outputs": [],
   "source": [
    "def plot_observed_counts(counts, N, p_vec):\n",
    "    categories = [\"Cat 1\", \"Cat 2\", \"Cat 3\"]\n",
    "    expected = np.array(p_vec) * N\n",
    "    fig = go.Figure()\n",
    "    fig.add_trace(\n",
    "        go.Bar(x=categories, y=counts, name=\"Observed\", marker_color=\"#636EFA\")\n",
    "    )\n",
    "    fig.add_trace(\n",
    "        go.Bar(\n",
    "            x=categories,\n",
    "            y=expected,\n",
    "            name=\"Expected (true p)\",\n",
    "            marker_color=\"#00CC96\",\n",
    "            opacity=0.5,\n",
    "        )\n",
    "    )\n",
    "    fig.update_layout(\n",
    "        title=\"Observed vs Expected Counts\",\n",
    "        yaxis_title=\"Count\",\n",
    "        barmode=\"group\",\n",
    "        width=1200,\n",
    "        height=350,\n",
    "    )\n",
    "    display(fig)"
   ]
  },
  {
   "cell_type": "code",
   "execution_count": 20,
   "id": "e3a15d53",
   "metadata": {},
   "outputs": [
    {
     "data": {
      "application/vnd.jupyter.widget-view+json": {
       "model_id": "06d469549c2d4263ab4fce729fcefb61",
       "version_major": 2,
       "version_minor": 0
      },
      "text/plain": [
       "VBox(children=(HBox(children=(FloatSlider(value=1.8, description='α₁ (prior):', max=5.0, min=0.1), FloatSlider…"
      ]
     },
     "metadata": {},
     "output_type": "display_data"
    },
    {
     "data": {
      "application/vnd.jupyter.widget-view+json": {
       "model_id": "42ca096f5b6e4165b9097943425abf6b",
       "version_major": 2,
       "version_minor": 0
      },
      "text/plain": [
       "Output()"
      ]
     },
     "metadata": {},
     "output_type": "display_data"
    }
   ],
   "source": [
    "def plot_observed_counts_interactive(N, p1, p2):\n",
    "    p_vec = np.array([p1, p2, 1.0 - p1 - p2])\n",
    "    counts = simulate_multinomial_data(N, p_vec)\n",
    "    plot_observed_counts(counts, N, p_vec)\n",
    "\n",
    "\n",
    "out = widgets.interactive_output(\n",
    "    plot_observed_counts_interactive,\n",
    "    {\n",
    "        \"N\": N_slider,\n",
    "        \"p1\": p1_slider,\n",
    "        \"p2\": p2_slider,\n",
    "    },\n",
    ")\n",
    "display(ui)\n",
    "display(out)"
   ]
  },
  {
   "cell_type": "markdown",
   "id": "a8afbed1",
   "metadata": {},
   "source": [
    "## 7. Plot Prior and Posterior Dirichlet Density (Ternary Plot)\n",
    "\n",
    "Visualize the prior and posterior Dirichlet densities on a ternary plot using Plotly. Mark the true probability vector and the posterior mean."
   ]
  },
  {
   "cell_type": "code",
   "execution_count": 83,
   "id": "d795a046",
   "metadata": {},
   "outputs": [],
   "source": [
    "def dirichlet_pdf_grid(alpha, grid_size=80):\n",
    "    # Generate grid over simplex\n",
    "    f1 = np.linspace(0, 1, grid_size)\n",
    "    f2 = np.linspace(0, 1, grid_size)\n",
    "    F1, F2 = np.meshgrid(f1, f2)\n",
    "    F3 = 1.0 - F1 - F2\n",
    "    mask = (F3 >= 0) & (F3 <= 1)\n",
    "    f1v = F1[mask]\n",
    "    f2v = F2[mask]\n",
    "    f3v = F3[mask]\n",
    "    from scipy.stats import dirichlet\n",
    "\n",
    "    pdf = dirichlet.pdf(np.stack([f1v, f2v, f3v], axis=0), alpha)\n",
    "    return f1v, f2v, f3v, pdf\n",
    "\n",
    "\n",
    "def plot_dirichlet_ternary(alpha, alpha_post, p_vec, title=\"Dirichlet Densities\"):\n",
    "    # Prior\n",
    "    f1v, f2v, f3v, prior_pdf = dirichlet_pdf_grid(alpha)\n",
    "    # Posterior\n",
    "    f1v_post, f2v_post, f3v_post, post_pdf = dirichlet_pdf_grid(alpha_post)\n",
    "    # True and posterior mean\n",
    "    post_mean = alpha_post / np.sum(alpha_post)\n",
    "    fig = go.Figure()\n",
    "\n",
    "    # Prior density\n",
    "    fig.add_trace(\n",
    "        go.Scatterternary(\n",
    "            a=f1v,\n",
    "            b=f2v,\n",
    "            c=f3v,\n",
    "            mode=\"markers\",\n",
    "            marker=dict(\n",
    "                color=prior_pdf,\n",
    "                colorscale=\"Blues\",\n",
    "                size=4,\n",
    "                opacity=0.9,\n",
    "                colorbar=dict(\n",
    "                    title=\"Prior PDF\",\n",
    "                    x=0.0,  # Move colorbar to the left\n",
    "                    y=0.5,  # Center vertically\n",
    "                ),\n",
    "            ),\n",
    "            name=\"Prior\",\n",
    "            showlegend=False,\n",
    "        )\n",
    "    )\n",
    "    # Posterior density\n",
    "    fig.add_trace(\n",
    "        go.Scatterternary(\n",
    "            a=f1v_post,\n",
    "            b=f2v_post,\n",
    "            c=f3v_post,\n",
    "            mode=\"markers\",\n",
    "            marker=dict(\n",
    "                color=post_pdf,\n",
    "                colorscale=\"Reds\",\n",
    "                size=4,\n",
    "                opacity=0.4,\n",
    "                colorbar=dict(title=\"Posterior PDF\"),\n",
    "            ),\n",
    "            name=\"Posterior\",\n",
    "            showlegend=False,\n",
    "        )\n",
    "    )\n",
    "\n",
    "    # True p\n",
    "    fig.add_trace(\n",
    "        go.Scatterternary(\n",
    "            a=[p_vec[0]],\n",
    "            b=[p_vec[1]],\n",
    "            c=[p_vec[2]],\n",
    "            mode=\"markers\",\n",
    "            marker=dict(color=\"green\", size=12, symbol=\"x\"),\n",
    "            name=\"True p\",\n",
    "        )\n",
    "    )\n",
    "\n",
    "    # Prior mean\n",
    "    prior_mean = alpha / np.sum(alpha)\n",
    "    fig.add_trace(\n",
    "        go.Scatterternary(\n",
    "            a=[prior_mean[0]],\n",
    "            b=[prior_mean[1]],\n",
    "            c=[prior_mean[2]],\n",
    "            mode=\"markers\",\n",
    "            marker=dict(color=\"blue\", size=12, symbol=\"star\"),\n",
    "            name=\"Prior mean\",\n",
    "        )\n",
    "    )\n",
    "\n",
    "    # Posterior mean\n",
    "    fig.add_trace(\n",
    "        go.Scatterternary(\n",
    "            a=[post_mean[0]],\n",
    "            b=[post_mean[1]],\n",
    "            c=[post_mean[2]],\n",
    "            mode=\"markers\",\n",
    "            marker=dict(color=\"red\", size=12, symbol=\"star\"),\n",
    "            name=\"Posterior mean\",\n",
    "        )\n",
    "    )\n",
    "    fig.update_layout(\n",
    "        title=title,\n",
    "        ternary=dict(\n",
    "            sum=1,\n",
    "            aaxis=dict(title=\"f₁\"),\n",
    "            baxis=dict(title=\"f₂\"),\n",
    "            caxis=dict(title=\"f₃\"),\n",
    "        ),\n",
    "        width=1200,\n",
    "        height=500,\n",
    "        showlegend=True,\n",
    "    )\n",
    "    fig.update_layout(\n",
    "        legend=dict(orientation=\"h\", yanchor=\"bottom\", y=-0.3, xanchor=\"center\", x=0.5),\n",
    "    )\n",
    "    display(fig)"
   ]
  },
  {
   "cell_type": "code",
   "execution_count": 84,
   "id": "269850d2",
   "metadata": {},
   "outputs": [
    {
     "data": {
      "application/vnd.jupyter.widget-view+json": {
       "model_id": "06d469549c2d4263ab4fce729fcefb61",
       "version_major": 2,
       "version_minor": 0
      },
      "text/plain": [
       "VBox(children=(HBox(children=(FloatSlider(value=2.3000000000000003, description='α₁ (prior):', max=5.0, min=0.…"
      ]
     },
     "metadata": {},
     "output_type": "display_data"
    },
    {
     "data": {
      "application/vnd.jupyter.widget-view+json": {
       "model_id": "4fcbe940f00f4eeb902905ea2680a1e8",
       "version_major": 2,
       "version_minor": 0
      },
      "text/plain": [
       "Output()"
      ]
     },
     "metadata": {},
     "output_type": "display_data"
    }
   ],
   "source": [
    "def plot_dirichlet_ternary_interactive(alpha1, alpha2, alpha3, N, p1, p2):\n",
    "    p_vec = np.array([p1, p2, 1.0 - p1 - p2])\n",
    "    counts = simulate_multinomial_data(N, p_vec)\n",
    "    alpha = np.array([alpha1, alpha2, alpha3])\n",
    "    alpha_post = compute_posterior_params(alpha, counts)\n",
    "    plot_dirichlet_ternary(alpha, alpha_post, p_vec)\n",
    "\n",
    "\n",
    "out = widgets.interactive_output(\n",
    "    plot_dirichlet_ternary_interactive,\n",
    "    {\n",
    "        \"alpha1\": alpha1_slider,\n",
    "        \"alpha2\": alpha2_slider,\n",
    "        \"alpha3\": alpha3_slider,\n",
    "        \"N\": N_slider,\n",
    "        \"p1\": p1_slider,\n",
    "        \"p2\": p2_slider,\n",
    "    },\n",
    ")\n",
    "display(ui)\n",
    "display(out)"
   ]
  },
  {
   "cell_type": "markdown",
   "id": "2953db2b",
   "metadata": {},
   "source": [
    "## 8. Plot Marginal Posterior Predictive Distributions\n",
    "\n",
    "For each category, plot the marginal posterior predictive distribution for the number of successes in $N$ future trials using the Beta-Binomial distribution."
   ]
  },
  {
   "cell_type": "code",
   "execution_count": 87,
   "id": "6f877881",
   "metadata": {},
   "outputs": [],
   "source": [
    "def plot_marginal_predictives(N, alpha_post):\n",
    "    fig = go.Figure()\n",
    "    y = np.arange(N + 1)\n",
    "    colors = [\"#636EFA\", \"#EF553B\", \"#00CC96\"]\n",
    "    for k in range(3):\n",
    "        pred = betabinom.pmf(y, N, alpha_post[k], np.sum(alpha_post) - alpha_post[k])\n",
    "        fig.add_trace(\n",
    "            go.Bar(\n",
    "                x=y, y=pred, name=f\"Cat {k + 1}\", marker_color=colors[k], opacity=0.7\n",
    "            )\n",
    "        )\n",
    "    fig.update_layout(\n",
    "        title=\"Marginal Posterior Predictive (Beta-Binomial) for Each Category\",\n",
    "        xaxis_title=\"Number of Successes in N Trials\",\n",
    "        yaxis_title=\"Probability\",\n",
    "        barmode=\"group\",\n",
    "        width=1200,\n",
    "        height=500,\n",
    "    )\n",
    "    # For Jupyter, use display(fig) to show the figure with the specified size.\n",
    "    # If the width/height still doesn't take effect, try using fig.show() instead of display(fig)\n",
    "    # or set pio.renderers.default = \"notebook\" at the top of your notebook.\n",
    "    display(fig)"
   ]
  },
  {
   "cell_type": "code",
   "execution_count": 88,
   "id": "7e22a293",
   "metadata": {},
   "outputs": [
    {
     "data": {
      "application/vnd.jupyter.widget-view+json": {
       "model_id": "06d469549c2d4263ab4fce729fcefb61",
       "version_major": 2,
       "version_minor": 0
      },
      "text/plain": [
       "VBox(children=(HBox(children=(FloatSlider(value=2.3000000000000003, description='α₁ (prior):', max=5.0, min=0.…"
      ]
     },
     "metadata": {},
     "output_type": "display_data"
    },
    {
     "data": {
      "application/vnd.jupyter.widget-view+json": {
       "model_id": "f2b25ec8500d4a2f969fd9cb424443c2",
       "version_major": 2,
       "version_minor": 0
      },
      "text/plain": [
       "Output()"
      ]
     },
     "metadata": {},
     "output_type": "display_data"
    }
   ],
   "source": [
    "def plot_marginal_predictives_interactive(alpha1, alpha2, alpha3, N, p1, p2):\n",
    "    # Compute p3 and posterior parameters\n",
    "    p3 = max(0.0, 1.0 - p1 - p2)\n",
    "    p_vec = np.array([p1, p2, p3])\n",
    "    alpha = np.array([alpha1, alpha2, alpha3])\n",
    "    counts = simulate_multinomial_data(N, p_vec)\n",
    "    alpha_post = compute_posterior_params(alpha, counts)\n",
    "    plot_marginal_predictives(N, alpha_post)\n",
    "\n",
    "\n",
    "out_predictives = widgets.interactive_output(\n",
    "    plot_marginal_predictives_interactive,\n",
    "    {\n",
    "        \"alpha1\": alpha1_slider,\n",
    "        \"alpha2\": alpha2_slider,\n",
    "        \"alpha3\": alpha3_slider,\n",
    "        \"N\": N_slider,\n",
    "        \"p1\": p1_slider,\n",
    "        \"p2\": p2_slider,\n",
    "    },\n",
    ")\n",
    "display(ui)\n",
    "display(out_predictives)"
   ]
  },
  {
   "cell_type": "markdown",
   "id": "f09edc94",
   "metadata": {},
   "source": [
    "## 9. Display Summary and Mathematical Explanation\n",
    "\n",
    "Show a summary of the Bayesian updating process, the formulas for the prior, likelihood, posterior, and predictive distributions, and the interpretation of the results."
   ]
  },
  {
   "cell_type": "code",
   "execution_count": 78,
   "id": "e7c6a1c7",
   "metadata": {},
   "outputs": [],
   "source": [
    "def display_summary(alpha, counts, alpha_post, N, p_vec):\n",
    "    summary = f\"\"\"\n",
    "**Bayesian Updating for Dirichlet-Multinomial:**\n",
    "\n",
    "- Prior: $\\\\mathbf{{f}} \\\\sim \\\\mathrm{{Dirichlet}}(\\\\boldsymbol{{\\\\alpha}})$ with $\\\\boldsymbol{{\\\\alpha}} = [{alpha[0]:.2f}, {alpha[1]:.2f}, {alpha[2]:.2f}]$\n",
    "- Data: $N={N}$, observed counts $\\\\mathbf{{n}} = [{counts[0]}, {counts[1]}, {counts[2]}]$\n",
    "- Posterior: $\\\\mathbf{{f}} \\\\mid \\\\mathbf{{n}} \\\\sim \\\\mathrm{{Dirichlet}}(\\\\boldsymbol{{\\\\alpha}} + \\\\mathbf{{n}}) = \\\\mathrm{{Dirichlet}}([{alpha_post[0]:.2f}, {alpha_post[1]:.2f}, {alpha_post[2]:.2f}])$\n",
    "\n",
    "**Posterior Mean:** $\\\\mathbb{{E}}[f_k \\\\mid \\\\mathbf{{n}}] = \\\\frac{{\\\\alpha_k + n_k}}{{\\\\sum_j (\\\\alpha_j + n_j)}}$\n",
    "\n",
    "**Posterior Predictive (marginal for category $k$):**\n",
    "$$\n",
    "p(y \\\\mid N, \\\\alpha_k', \\\\alpha_j') = \\\\mathrm{{BetaBinomial}}(y; N, \\\\alpha_k', \\\\sum_{{j \\\\neq k}} \\\\alpha_j')\n",
    "$$\n",
    "\n",
    "- The Dirichlet prior expresses beliefs about the category probabilities before seeing data.\n",
    "- The multinomial likelihood models the observed counts.\n",
    "- The posterior Dirichlet combines prior and data.\n",
    "- The Beta-Binomial gives the predictive distribution for future counts in each category.\n",
    "\"\"\"\n",
    "    display(Markdown(summary))"
   ]
  },
  {
   "cell_type": "markdown",
   "id": "42d3a69b",
   "metadata": {},
   "source": [
    "## 10. Interactive Controls for Dirichlet Inference\n",
    "\n",
    "Combine all widgets and plots into an interactive dashboard using ipywidgets, updating all visualizations and summaries as parameters change."
   ]
  },
  {
   "cell_type": "code",
   "execution_count": 89,
   "id": "b7ef65e0",
   "metadata": {},
   "outputs": [
    {
     "data": {
      "application/vnd.jupyter.widget-view+json": {
       "model_id": "06d469549c2d4263ab4fce729fcefb61",
       "version_major": 2,
       "version_minor": 0
      },
      "text/plain": [
       "VBox(children=(HBox(children=(FloatSlider(value=2.3000000000000003, description='α₁ (prior):', max=5.0, min=0.…"
      ]
     },
     "metadata": {},
     "output_type": "display_data"
    },
    {
     "data": {
      "application/vnd.jupyter.widget-view+json": {
       "model_id": "b859be8cfd0a483b849bb8ba55e722e0",
       "version_major": 2,
       "version_minor": 0
      },
      "text/plain": [
       "Output()"
      ]
     },
     "metadata": {},
     "output_type": "display_data"
    }
   ],
   "source": [
    "def dirichlet_multinomial_dashboard(alpha1, alpha2, alpha3, N, p1, p2):\n",
    "    # Compute p3\n",
    "    p3 = max(0.0, 1.0 - p1 - p2)\n",
    "    p_vec = np.array([p1, p2, p3])\n",
    "    alpha = np.array([alpha1, alpha2, alpha3])\n",
    "    # Simulate data\n",
    "    counts = simulate_multinomial_data(N, p_vec)\n",
    "    # Posterior\n",
    "    alpha_post = compute_posterior_params(alpha, counts)\n",
    "    # Plots\n",
    "    plot_observed_counts(counts, N, p_vec)\n",
    "    plot_dirichlet_ternary(alpha, alpha_post, p_vec)\n",
    "    plot_marginal_predictives(N, alpha_post)\n",
    "    display_summary(alpha, counts, alpha_post, N, p_vec)\n",
    "\n",
    "\n",
    "out = widgets.interactive_output(\n",
    "    dirichlet_multinomial_dashboard,\n",
    "    {\n",
    "        \"alpha1\": alpha1_slider,\n",
    "        \"alpha2\": alpha2_slider,\n",
    "        \"alpha3\": alpha3_slider,\n",
    "        \"N\": N_slider,\n",
    "        \"p1\": p1_slider,\n",
    "        \"p2\": p2_slider,\n",
    "    },\n",
    ")\n",
    "\n",
    "display(ui)\n",
    "display(out)"
   ]
  }
 ],
 "metadata": {
  "kernelspec": {
   "display_name": ".venv",
   "language": "python",
   "name": "python3"
  },
  "language_info": {
   "codemirror_mode": {
    "name": "ipython",
    "version": 3
   },
   "file_extension": ".py",
   "mimetype": "text/x-python",
   "name": "python",
   "nbconvert_exporter": "python",
   "pygments_lexer": "ipython3",
   "version": "3.12.8"
  }
 },
 "nbformat": 4,
 "nbformat_minor": 5
}
