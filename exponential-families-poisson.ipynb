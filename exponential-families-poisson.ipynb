{
 "cells": [
  {
   "cell_type": "code",
   "execution_count": 1,
   "id": "027311aa",
   "metadata": {},
   "outputs": [],
   "source": [
    "%load_ext autoreload\n",
    "%autoreload 2"
   ]
  },
  {
   "cell_type": "code",
   "execution_count": 5,
   "id": "b6d69160",
   "metadata": {},
   "outputs": [],
   "source": [
    "from exponential_families import ExponentialFamily\n",
    "import jax\n",
    "import jax.numpy as jnp\n",
    "from jax.scipy.special import logsumexp  # Useful for log-likelihood calculations\n",
    "import jax.scipy.stats as jss  # For standard distributions\n",
    "import optax\n",
    "from numpy.typing import ArrayLike\n",
    "import matplotlib.pyplot as plt\n",
    "import plotly.express as px\n",
    "import plotly.graph_objects as go\n",
    "import plotly.io as pio\n",
    "import plotly.figure_factory as ff"
   ]
  },
  {
   "cell_type": "code",
   "execution_count": 6,
   "id": "a4a7b3d0",
   "metadata": {},
   "outputs": [],
   "source": [
    "pio.templates.default = \"plotly_white\""
   ]
  },
  {
   "cell_type": "markdown",
   "id": "0d5fb579",
   "metadata": {},
   "source": [
    "# Lecture 05: Exponential Families\n",
    "\n",
    "Based on the lecture slides by Philipp Hennig (SS 2023).\n",
    "\n",
    "This notebook explores the concept of Exponential Families, their properties related to sufficient statistics, conjugate priors, and maximum likelihood estimation, with coding examples primarily using JAX.\n",
    "\n",
    "## The Skeleton of ML and Conjugate Priors\n",
    "\n",
    "The slides introduce probabilistic inference as a key component of ML.\n",
    "$$p(w|x) = \\frac{p(x|w) p(w)}{\\int p(x|w) p(w) dw}$$\n",
    "For i.i.d. data $x = \\{x_1, \\dots, x_n\\}$, this becomes:\n",
    "$$p(w|x) = \\frac{\\prod_{i=1}^n p(x_i|w) p(w)}{\\int \\prod_{i=1}^n p(x_i|w) p(w) dw}$$\n",
    "\n",
    "This general form can be complex. The concept of **Conjugate Priors** simplifies Bayesian inference by ensuring the posterior has the same functional form as the prior, with parameters updated based on **sufficient statistics** $\\phi(x)$ of the data.\n",
    "\n",
    "$$p(w|x) \\propto l(x; w) g(w; \\theta) = g(w; \\theta + \\phi(x))$$\n",
    "\n",
    "The power of conjugate priors is that the complex data likelihood $\\prod_{i=1}^n p(x_i|w)$ combines with the prior $p(w)$ in a way that the data's influence is entirely captured by the sufficient statistics $\\phi(x)$ and the number of data points $n$.\n",
    "\n",
    "## Exponential Families: Definition\n",
    "\n",
    "Exponential Families are a class of probability distributions for which conjugate priors naturally exist.\n",
    "\n",
    "A probability distribution for a random variable $X$ is in the exponential family if its probability density/mass function can be written in the form:\n",
    "$$p_w(x) = h(x) \\exp[\\phi(x)^T w - \\log Z(w)]$$\n",
    "or equivalently\n",
    "$$p_w(x) = \\frac{h(x)}{Z(w)} \\exp[\\phi(x)^T w]$$\n",
    "\n",
    "Where:\n",
    "- $h(x)$: the **base measure**. A non-negative function depending only on $x$.\n",
    "- $\\phi(x)$: the **sufficient statistics**. A vector function of the data $x$. It summarizes all the information from the data relevant to the natural parameters $w$.\n",
    "- $w$: the **natural parameters**. A vector of parameters for the distribution.\n",
    "- $Z(w)$: the **partition function**. A normalization constant ensuring the distribution integrates/sums to 1. It depends on $w$. $\\log Z(w)$ is the log-partition function.\n",
    "\n",
    "The slides also mention canonical parameters $\\theta$, where $w = \\eta(\\theta)$"
   ]
  },
  {
   "cell_type": "markdown",
   "id": "945813a8",
   "metadata": {},
   "source": [
    "### Example: The Poisson Distribution as an Exponential Family\n",
    "\n",
    "Let's express the probability mass function (PMF) of a Poisson distribution $\\mathrm{Poisson}(x; \\lambda)$ in the exponential family form.\n",
    "\n",
    "The standard PMF is:\n",
    "$$\n",
    "p(x|\\lambda) = \\frac{\\lambda^x e^{-\\lambda}}{x!}, \\quad x \\in \\{0, 1, 2, \\dots\\}\n",
    "$$\n",
    "\n",
    "Here, $x$ represents the observed count (number of events), and $\\lambda$ is the rate parameter (expected number of events per interval) of the Poisson distribution.\n",
    "\n",
    "---\n",
    "\n",
    "**Example:**  \n",
    "Suppose you are monitoring the number of emails received by a helpdesk per hour.  \n",
    "- $x$: The actual number of emails received in a particular hour (e.g., $x = 7$ emails in one hour).\n",
    "- $\\lambda$: The average rate of emails received per hour, estimated from historical data (e.g., $\\lambda = 5$ emails/hour).\n",
    "\n",
    "In this scenario, the Poisson distribution models the probability of observing $x$ emails in an hour, given the average rate $\\lambda$.\n",
    "\n",
    "---\n",
    "\n",
    "We want to write Poisson distribution in the exponential family form:\n",
    "$$\n",
    "p_w(x) = h(x) \\exp[\\phi(x)^T w - \\log Z(w)]\n",
    "$$\n",
    "\n",
    "Let's rearrange the PMF:\n",
    "$$\n",
    "p(x|\\lambda) = \\frac{1}{x!} \\exp\\left(x \\log \\lambda - \\lambda\\right)\n",
    "$$\n",
    "\n",
    "Now, match terms to the exponential family form:\n",
    "\n",
    "- **Sufficient Statistic:** The part depending only on $x$ and multiplied by the parameter in the exponent.\n",
    "    $$\n",
    "    \\phi(x) = x\n",
    "    $$\n",
    "\n",
    "- **Natural Parameter:** The parameter that multiplies the sufficient statistic.\n",
    "    $$\n",
    "    w = \\log \\lambda\n",
    "    $$\n",
    "\n",
    "- **Base Measure:** The part depending only on $x$ outside the exponential.\n",
    "    $$\n",
    "    h(x) = \\frac{1}{x!}\n",
    "    $$\n",
    "\n",
    "- **Log-Partition Function:** The part that ensures normalization, depending only on the parameter.\n",
    "    $$\n",
    "    \\log Z(w) = e^{w}\n",
    "    $$\n",
    "    since $e^{w} = \\lambda$.\n",
    "\n",
    "So, the Poisson PMF in exponential family form is:\n",
    "$$\n",
    "p(x|w) = \\frac{1}{x!} \\exp\\left(x w - e^{w}\\right)\n",
    "$$\n",
    "\n",
    "**Summary Table:**\n",
    "\n",
    "| Component            | Expression            |\n",
    "|----------------------|----------------------|\n",
    "| Sufficient Statistic | $\\phi(x) = x$        |\n",
    "| Natural Parameter    | $w = \\log \\lambda$   |\n",
    "| Base Measure         | $h(x) = 1/x!$        |\n",
    "| Log-Partition        | $\\log Z(w) = e^{w}$  |"
   ]
  },
  {
   "cell_type": "code",
   "execution_count": null,
   "id": "7d3a5fef",
   "metadata": {},
   "outputs": [],
   "source": [
    "class Poisson(ExponentialFamily):\n",
    "    \"\"\"The Poisson distribution.\"\"\"\n",
    "\n",
    "    def __init__(self) -> None:\n",
    "        \"\"\"The Poisson has no fixed parameters.\"\"\"\n",
    "        super().__init__()\n",
    "\n",
    "    def sufficient_statistics(self, x: ArrayLike | jnp.ndarray) -> jnp.ndarray:\n",
    "        \"\"\"The sufficient statistics are the identity function.\"\"\"\n",
    "        return jnp.asarray(x)\n",
    "\n",
    "    def log_base_measure(self, x: ArrayLike | jnp.ndarray) -> jnp.ndarray:\n",
    "        \"\"\"\n",
    "        h(x) = 1/x!, thus log h(x) = -log(x!)\n",
    "        We use gammaln(x + 1) instead of log(x!) for numerical stability and to support non-integer or array inputs.\n",
    "        gammaln(n) returns log(Gamma(n)), and since Gamma(n+1) = n! for integer n, gammaln(x + 1) = log(x!).\n",
    "        \"\"\"\n",
    "        x = jnp.asarray(x)\n",
    "        return -jax.scipy.special.gammaln(x[..., 0] + 1)\n",
    "\n",
    "    def log_partition(self, lambdas: ArrayLike | jnp.ndarray) -> jnp.ndarray:\n",
    "        \"\"\"log Z(lambda) = lambda\"\"\"\n",
    "        lambdas = jnp.asarray(lambdas)\n",
    "        return lambdas[..., 0]\n",
    "\n",
    "    def parameters_to_natural_parameters(\n",
    "        self, lambdas: ArrayLike | jnp.ndarray, /\n",
    "    ) -> jnp.ndarray:\n",
    "        \"\"\"eta = log(lambda).\"\"\"\n",
    "        lambdas = jnp.asarray(lambdas)\n",
    "        return jnp.log(lambdas)\n",
    "\n",
    "    def conjugate_log_partition(\n",
    "        self, alpha: ArrayLike | jnp.ndarray, nu: ArrayLike | jnp.ndarray, /\n",
    "    ) -> jnp.ndarray:\n",
    "        \"\"\"\n",
    "        F(alpha, nu) = Gamma(alpha+1) / nu^(alpha+1)\n",
    "        log F(alpha, nu) = Gammaln(alpha+1) - (alpha+1) * log(nu)\n",
    "        \"\"\"\n",
    "        return jax.scipy.special.gammaln(alpha + 1) - (alpha + 1) * jnp.log(nu)"
   ]
  },
  {
   "cell_type": "code",
   "execution_count": 33,
   "id": "62281723",
   "metadata": {},
   "outputs": [
    {
     "data": {
      "application/vnd.plotly.v1+json": {
       "config": {
        "plotlyServerURL": "https://plot.ly"
       },
       "data": [
        {
         "line": {
          "color": "red"
         },
         "marker": {
          "size": 6
         },
         "mode": "lines+markers",
         "name": "$\\lambda=1$",
         "opacity": 0.7,
         "type": "scatter",
         "x": {
          "bdata": "AAAAAAEAAAACAAAAAwAAAAQAAAAFAAAABgAAAAcAAAAIAAAACQAAAAoAAAALAAAADAAAAA0AAAAOAAAADwAAABAAAAARAAAAEgAAABMAAAA=",
          "dtype": "i4"
         },
         "y": {
          "bdata": "rFq8PrJavD6vWjw+iCN7PYcjezw56Ug7zPAFOjQTmThCExk3BRGINc202TMBVR4y+htTMMfpgS7leJQs616eKtdenijzDZUmQn6EJH0lXyI=",
          "dtype": "f4"
         }
        },
        {
         "line": {
          "color": "red"
         },
         "marker": {
          "size": 6
         },
         "mode": "lines+markers",
         "name": "$\\lambda=2$",
         "opacity": 0.7,
         "type": "scatter",
         "x": {
          "bdata": "AAAAAAEAAAACAAAAAwAAAAQAAAAFAAAABgAAAAcAAAAIAAAACQAAAAoAAAALAAAADAAAAA0AAAAOAAAADwAAABAAAAARAAAAEgAAABMAAAA=",
          "dtype": "i4"
         },
         "y": {
          "bdata": "UZUKPlWVij5TlYo+Esc4PhDHuD1z0hM9lBhFPKtAYTvAQGE6bjlIOegtIDgB/eg2VlObNXArPzTSetoymQtpMYML6S8hVlsuXvfCLJEuJCs=",
          "dtype": "f4"
         }
        },
        {
         "line": {
          "color": "red"
         },
         "marker": {
          "size": 6
         },
         "mode": "lines+markers",
         "name": "$\\lambda=3$",
         "opacity": 0.7,
         "type": "scatter",
         "x": {
          "bdata": "AAAAAAEAAAACAAAAAwAAAAQAAAAFAAAABgAAAAcAAAAIAAAACQAAAAoAAAALAAAADAAAAA0AAAAOAAAADwAAABAAAAARAAAAEgAAABMAAAA=",
          "dtype": "i4"
         },
         "y": {
          "bdata": "gO1LPSXyGD40a2U+K2tlPl8QLD4Mes49BXpOPeL6sDw2vAQ8zPowOyhgVDrTrmc5xa5nOErcVTcjTzc20aUSNZf42zMHRpsyIwhPMdLBAjA=",
          "dtype": "f4"
         }
        },
        {
         "line": {
          "color": "red"
         },
         "marker": {
          "size": 6
         },
         "mode": "lines+markers",
         "name": "$\\lambda=4$",
         "opacity": 0.7,
         "type": "scatter",
         "x": {
          "bdata": "AAAAAAEAAAACAAAAAwAAAAQAAAAFAAAABgAAAAcAAAAIAAAACQAAAAoAAAALAAAADAAAAA0AAAAOAAAADwAAABAAAAARAAAAEgAAABMAAAA=",
          "dtype": "i4"
         },
         "y": {
          "bdata": "qQqWPK4Klj2sChY+MA5IPjAOSD5aCyA+cWTVPYPgcz2a4PM8fMdYPF5srTufQPw6DysoOuP5TjlAi2w4XFB8N0xQfDbIeG01GhZTNLrBMTM=",
          "dtype": "f4"
         }
        },
        {
         "line": {
          "color": "red"
         },
         "marker": {
          "size": 6
         },
         "mode": "lines+markers",
         "name": "$\\lambda=5$",
         "opacity": 0.7,
         "type": "scatter",
         "x": {
          "bdata": "AAAAAAEAAAACAAAAAwAAAAQAAAAFAAAABgAAAAcAAAAIAAAACQAAAAoAAAALAAAADAAAAA0AAAAOAAAADwAAABAAAAARAAAAEgAAABMAAAA=",
          "dtype": "i4"
         },
         "y": {
          "bdata": "+MncO0D+CT3Nfaw9JL4PPq6tMz6urTM+YrsVPiDn1T2BsIU9HosUPRmLlDwjCgc83xBhO5ogrTooU/c5NOIkOagaTjiweXI3drWGNn3MjTU=",
          "dtype": "f4"
         }
        },
        {
         "line": {
          "color": "red"
         },
         "marker": {
          "size": 6
         },
         "mode": "lines+markers",
         "name": "$\\lambda=6$",
         "opacity": 0.7,
         "type": "scatter",
         "x": {
          "bdata": "AAAAAAEAAAACAAAAAwAAAAQAAAAFAAAABgAAAAcAAAAIAAAACQAAAAoAAAALAAAADAAAAA0AAAAOAAAADwAAABAAAAARAAAAEgAAABMAAAA=",
          "dtype": "i4"
         },
         "y": {
          "bdata": "inIiO9irczzfwDY91sC2PaEQCT5beiQ+VnokPif7DD7OeNM9GfuMPUwtKT2Sjrg8jY44PCJcqjvWBRI7E6NpOjk6rzk6Yfc4luskOAFSUDc=",
          "dtype": "f4"
         }
        },
        {
         "line": {
          "color": "red"
         },
         "marker": {
          "size": 6
         },
         "mode": "lines+markers",
         "name": "$\\lambda=7$",
         "opacity": 0.7,
         "type": "scatter",
         "x": {
          "bdata": "AAAAAAEAAAACAAAAAwAAAAQAAAAFAAAABgAAAAcAAAAIAAAACQAAAAoAAAALAAAADAAAAA0AAAAOAAAADwAAABAAAAARAAAAEgAAABMAAAA=",
          "dtype": "i4"
         },
         "y": {
          "bdata": "VQtvOvYp0TuyBLc8bYVVPcTUuj0lyAI+IJQYPiSUGD6vgQU+GK3PPZhfkT1WBTk9f9vXPDV2aDwudug7CPdYOwfYvTqWVxw65jJzOQkzszg=",
          "dtype": "f4"
         }
        },
        {
         "line": {
          "color": "red"
         },
         "marker": {
          "size": 6
         },
         "mode": "lines+markers",
         "name": "$\\lambda=8$",
         "opacity": 0.7,
         "type": "scatter",
         "x": {
          "bdata": "AAAAAAEAAAACAAAAAwAAAAQAAAAFAAAABgAAAAcAAAAIAAAACQAAAAoAAAALAAAADAAAAA0AAAAOAAAADwAAABAAAAARAAAAEgAAABMAAAA=",
          "dtype": "i4"
         },
         "y": {
          "bdata": "COGvOQjhLzsD4S88UoHqPFKBaj2imrs9giP6Pb7vDj7H7w4+1Bv+PWpJyz1o2JM9fiBFPQSe8jx/o4o8quETPJPhkzugLgs7dG93OtVd0Dk=",
          "dtype": "f4"
         }
        },
        {
         "line": {
          "color": "red"
         },
         "marker": {
          "size": 6
         },
         "mode": "lines+markers",
         "name": "$\\lambda=9$",
         "opacity": 0.7,
         "type": "scatter",
         "x": {
          "bdata": "AAAAAAEAAAACAAAAAwAAAAQAAAAFAAAABgAAAAcAAAAIAAAACQAAAAoAAAALAAAADAAAAA0AAAAOAAAADwAAABAAAAARAAAAEgAAABMAAAA=",
          "dtype": "i4"
         },
         "y": {
          "bdata": "kWcBOYSUkToQx6M7kKp1PPEvCj2yvHg9gI26PYTa7z336gY+1eoGPu7Z8j1tssY9xAWVPZ5WTj1wpQQ9EC2fPJASMzwem707MJs9O6Ggszo=",
          "dtype": "f4"
         }
        }
       ],
       "layout": {
        "template": {
         "data": {
          "bar": [
           {
            "error_x": {
             "color": "#2a3f5f"
            },
            "error_y": {
             "color": "#2a3f5f"
            },
            "marker": {
             "line": {
              "color": "white",
              "width": 0.5
             },
             "pattern": {
              "fillmode": "overlay",
              "size": 10,
              "solidity": 0.2
             }
            },
            "type": "bar"
           }
          ],
          "barpolar": [
           {
            "marker": {
             "line": {
              "color": "white",
              "width": 0.5
             },
             "pattern": {
              "fillmode": "overlay",
              "size": 10,
              "solidity": 0.2
             }
            },
            "type": "barpolar"
           }
          ],
          "carpet": [
           {
            "aaxis": {
             "endlinecolor": "#2a3f5f",
             "gridcolor": "#C8D4E3",
             "linecolor": "#C8D4E3",
             "minorgridcolor": "#C8D4E3",
             "startlinecolor": "#2a3f5f"
            },
            "baxis": {
             "endlinecolor": "#2a3f5f",
             "gridcolor": "#C8D4E3",
             "linecolor": "#C8D4E3",
             "minorgridcolor": "#C8D4E3",
             "startlinecolor": "#2a3f5f"
            },
            "type": "carpet"
           }
          ],
          "choropleth": [
           {
            "colorbar": {
             "outlinewidth": 0,
             "ticks": ""
            },
            "type": "choropleth"
           }
          ],
          "contour": [
           {
            "colorbar": {
             "outlinewidth": 0,
             "ticks": ""
            },
            "colorscale": [
             [
              0,
              "#0d0887"
             ],
             [
              0.1111111111111111,
              "#46039f"
             ],
             [
              0.2222222222222222,
              "#7201a8"
             ],
             [
              0.3333333333333333,
              "#9c179e"
             ],
             [
              0.4444444444444444,
              "#bd3786"
             ],
             [
              0.5555555555555556,
              "#d8576b"
             ],
             [
              0.6666666666666666,
              "#ed7953"
             ],
             [
              0.7777777777777778,
              "#fb9f3a"
             ],
             [
              0.8888888888888888,
              "#fdca26"
             ],
             [
              1,
              "#f0f921"
             ]
            ],
            "type": "contour"
           }
          ],
          "contourcarpet": [
           {
            "colorbar": {
             "outlinewidth": 0,
             "ticks": ""
            },
            "type": "contourcarpet"
           }
          ],
          "heatmap": [
           {
            "colorbar": {
             "outlinewidth": 0,
             "ticks": ""
            },
            "colorscale": [
             [
              0,
              "#0d0887"
             ],
             [
              0.1111111111111111,
              "#46039f"
             ],
             [
              0.2222222222222222,
              "#7201a8"
             ],
             [
              0.3333333333333333,
              "#9c179e"
             ],
             [
              0.4444444444444444,
              "#bd3786"
             ],
             [
              0.5555555555555556,
              "#d8576b"
             ],
             [
              0.6666666666666666,
              "#ed7953"
             ],
             [
              0.7777777777777778,
              "#fb9f3a"
             ],
             [
              0.8888888888888888,
              "#fdca26"
             ],
             [
              1,
              "#f0f921"
             ]
            ],
            "type": "heatmap"
           }
          ],
          "histogram": [
           {
            "marker": {
             "pattern": {
              "fillmode": "overlay",
              "size": 10,
              "solidity": 0.2
             }
            },
            "type": "histogram"
           }
          ],
          "histogram2d": [
           {
            "colorbar": {
             "outlinewidth": 0,
             "ticks": ""
            },
            "colorscale": [
             [
              0,
              "#0d0887"
             ],
             [
              0.1111111111111111,
              "#46039f"
             ],
             [
              0.2222222222222222,
              "#7201a8"
             ],
             [
              0.3333333333333333,
              "#9c179e"
             ],
             [
              0.4444444444444444,
              "#bd3786"
             ],
             [
              0.5555555555555556,
              "#d8576b"
             ],
             [
              0.6666666666666666,
              "#ed7953"
             ],
             [
              0.7777777777777778,
              "#fb9f3a"
             ],
             [
              0.8888888888888888,
              "#fdca26"
             ],
             [
              1,
              "#f0f921"
             ]
            ],
            "type": "histogram2d"
           }
          ],
          "histogram2dcontour": [
           {
            "colorbar": {
             "outlinewidth": 0,
             "ticks": ""
            },
            "colorscale": [
             [
              0,
              "#0d0887"
             ],
             [
              0.1111111111111111,
              "#46039f"
             ],
             [
              0.2222222222222222,
              "#7201a8"
             ],
             [
              0.3333333333333333,
              "#9c179e"
             ],
             [
              0.4444444444444444,
              "#bd3786"
             ],
             [
              0.5555555555555556,
              "#d8576b"
             ],
             [
              0.6666666666666666,
              "#ed7953"
             ],
             [
              0.7777777777777778,
              "#fb9f3a"
             ],
             [
              0.8888888888888888,
              "#fdca26"
             ],
             [
              1,
              "#f0f921"
             ]
            ],
            "type": "histogram2dcontour"
           }
          ],
          "mesh3d": [
           {
            "colorbar": {
             "outlinewidth": 0,
             "ticks": ""
            },
            "type": "mesh3d"
           }
          ],
          "parcoords": [
           {
            "line": {
             "colorbar": {
              "outlinewidth": 0,
              "ticks": ""
             }
            },
            "type": "parcoords"
           }
          ],
          "pie": [
           {
            "automargin": true,
            "type": "pie"
           }
          ],
          "scatter": [
           {
            "fillpattern": {
             "fillmode": "overlay",
             "size": 10,
             "solidity": 0.2
            },
            "type": "scatter"
           }
          ],
          "scatter3d": [
           {
            "line": {
             "colorbar": {
              "outlinewidth": 0,
              "ticks": ""
             }
            },
            "marker": {
             "colorbar": {
              "outlinewidth": 0,
              "ticks": ""
             }
            },
            "type": "scatter3d"
           }
          ],
          "scattercarpet": [
           {
            "marker": {
             "colorbar": {
              "outlinewidth": 0,
              "ticks": ""
             }
            },
            "type": "scattercarpet"
           }
          ],
          "scattergeo": [
           {
            "marker": {
             "colorbar": {
              "outlinewidth": 0,
              "ticks": ""
             }
            },
            "type": "scattergeo"
           }
          ],
          "scattergl": [
           {
            "marker": {
             "colorbar": {
              "outlinewidth": 0,
              "ticks": ""
             }
            },
            "type": "scattergl"
           }
          ],
          "scattermap": [
           {
            "marker": {
             "colorbar": {
              "outlinewidth": 0,
              "ticks": ""
             }
            },
            "type": "scattermap"
           }
          ],
          "scattermapbox": [
           {
            "marker": {
             "colorbar": {
              "outlinewidth": 0,
              "ticks": ""
             }
            },
            "type": "scattermapbox"
           }
          ],
          "scatterpolar": [
           {
            "marker": {
             "colorbar": {
              "outlinewidth": 0,
              "ticks": ""
             }
            },
            "type": "scatterpolar"
           }
          ],
          "scatterpolargl": [
           {
            "marker": {
             "colorbar": {
              "outlinewidth": 0,
              "ticks": ""
             }
            },
            "type": "scatterpolargl"
           }
          ],
          "scatterternary": [
           {
            "marker": {
             "colorbar": {
              "outlinewidth": 0,
              "ticks": ""
             }
            },
            "type": "scatterternary"
           }
          ],
          "surface": [
           {
            "colorbar": {
             "outlinewidth": 0,
             "ticks": ""
            },
            "colorscale": [
             [
              0,
              "#0d0887"
             ],
             [
              0.1111111111111111,
              "#46039f"
             ],
             [
              0.2222222222222222,
              "#7201a8"
             ],
             [
              0.3333333333333333,
              "#9c179e"
             ],
             [
              0.4444444444444444,
              "#bd3786"
             ],
             [
              0.5555555555555556,
              "#d8576b"
             ],
             [
              0.6666666666666666,
              "#ed7953"
             ],
             [
              0.7777777777777778,
              "#fb9f3a"
             ],
             [
              0.8888888888888888,
              "#fdca26"
             ],
             [
              1,
              "#f0f921"
             ]
            ],
            "type": "surface"
           }
          ],
          "table": [
           {
            "cells": {
             "fill": {
              "color": "#EBF0F8"
             },
             "line": {
              "color": "white"
             }
            },
            "header": {
             "fill": {
              "color": "#C8D4E3"
             },
             "line": {
              "color": "white"
             }
            },
            "type": "table"
           }
          ]
         },
         "layout": {
          "annotationdefaults": {
           "arrowcolor": "#2a3f5f",
           "arrowhead": 0,
           "arrowwidth": 1
          },
          "autotypenumbers": "strict",
          "coloraxis": {
           "colorbar": {
            "outlinewidth": 0,
            "ticks": ""
           }
          },
          "colorscale": {
           "diverging": [
            [
             0,
             "#8e0152"
            ],
            [
             0.1,
             "#c51b7d"
            ],
            [
             0.2,
             "#de77ae"
            ],
            [
             0.3,
             "#f1b6da"
            ],
            [
             0.4,
             "#fde0ef"
            ],
            [
             0.5,
             "#f7f7f7"
            ],
            [
             0.6,
             "#e6f5d0"
            ],
            [
             0.7,
             "#b8e186"
            ],
            [
             0.8,
             "#7fbc41"
            ],
            [
             0.9,
             "#4d9221"
            ],
            [
             1,
             "#276419"
            ]
           ],
           "sequential": [
            [
             0,
             "#0d0887"
            ],
            [
             0.1111111111111111,
             "#46039f"
            ],
            [
             0.2222222222222222,
             "#7201a8"
            ],
            [
             0.3333333333333333,
             "#9c179e"
            ],
            [
             0.4444444444444444,
             "#bd3786"
            ],
            [
             0.5555555555555556,
             "#d8576b"
            ],
            [
             0.6666666666666666,
             "#ed7953"
            ],
            [
             0.7777777777777778,
             "#fb9f3a"
            ],
            [
             0.8888888888888888,
             "#fdca26"
            ],
            [
             1,
             "#f0f921"
            ]
           ],
           "sequentialminus": [
            [
             0,
             "#0d0887"
            ],
            [
             0.1111111111111111,
             "#46039f"
            ],
            [
             0.2222222222222222,
             "#7201a8"
            ],
            [
             0.3333333333333333,
             "#9c179e"
            ],
            [
             0.4444444444444444,
             "#bd3786"
            ],
            [
             0.5555555555555556,
             "#d8576b"
            ],
            [
             0.6666666666666666,
             "#ed7953"
            ],
            [
             0.7777777777777778,
             "#fb9f3a"
            ],
            [
             0.8888888888888888,
             "#fdca26"
            ],
            [
             1,
             "#f0f921"
            ]
           ]
          },
          "colorway": [
           "#636efa",
           "#EF553B",
           "#00cc96",
           "#ab63fa",
           "#FFA15A",
           "#19d3f3",
           "#FF6692",
           "#B6E880",
           "#FF97FF",
           "#FECB52"
          ],
          "font": {
           "color": "#2a3f5f"
          },
          "geo": {
           "bgcolor": "white",
           "lakecolor": "white",
           "landcolor": "white",
           "showlakes": true,
           "showland": true,
           "subunitcolor": "#C8D4E3"
          },
          "hoverlabel": {
           "align": "left"
          },
          "hovermode": "closest",
          "mapbox": {
           "style": "light"
          },
          "paper_bgcolor": "white",
          "plot_bgcolor": "white",
          "polar": {
           "angularaxis": {
            "gridcolor": "#EBF0F8",
            "linecolor": "#EBF0F8",
            "ticks": ""
           },
           "bgcolor": "white",
           "radialaxis": {
            "gridcolor": "#EBF0F8",
            "linecolor": "#EBF0F8",
            "ticks": ""
           }
          },
          "scene": {
           "xaxis": {
            "backgroundcolor": "white",
            "gridcolor": "#DFE8F3",
            "gridwidth": 2,
            "linecolor": "#EBF0F8",
            "showbackground": true,
            "ticks": "",
            "zerolinecolor": "#EBF0F8"
           },
           "yaxis": {
            "backgroundcolor": "white",
            "gridcolor": "#DFE8F3",
            "gridwidth": 2,
            "linecolor": "#EBF0F8",
            "showbackground": true,
            "ticks": "",
            "zerolinecolor": "#EBF0F8"
           },
           "zaxis": {
            "backgroundcolor": "white",
            "gridcolor": "#DFE8F3",
            "gridwidth": 2,
            "linecolor": "#EBF0F8",
            "showbackground": true,
            "ticks": "",
            "zerolinecolor": "#EBF0F8"
           }
          },
          "shapedefaults": {
           "line": {
            "color": "#2a3f5f"
           }
          },
          "ternary": {
           "aaxis": {
            "gridcolor": "#DFE8F3",
            "linecolor": "#A2B1C6",
            "ticks": ""
           },
           "baxis": {
            "gridcolor": "#DFE8F3",
            "linecolor": "#A2B1C6",
            "ticks": ""
           },
           "bgcolor": "white",
           "caxis": {
            "gridcolor": "#DFE8F3",
            "linecolor": "#A2B1C6",
            "ticks": ""
           }
          },
          "title": {
           "x": 0.05
          },
          "xaxis": {
           "automargin": true,
           "gridcolor": "#EBF0F8",
           "linecolor": "#EBF0F8",
           "ticks": "",
           "title": {
            "standoff": 15
           },
           "zerolinecolor": "#EBF0F8",
           "zerolinewidth": 2
          },
          "yaxis": {
           "automargin": true,
           "gridcolor": "#EBF0F8",
           "linecolor": "#EBF0F8",
           "ticks": "",
           "title": {
            "standoff": 15
           },
           "zerolinecolor": "#EBF0F8",
           "zerolinewidth": 2
          }
         }
        },
        "title": {
         "text": "Probability of $k$ for different $\\lambda$"
        },
        "xaxis": {
         "dtick": 5,
         "minor": {
          "dtick": 1
         },
         "title": {
          "text": "$k$"
         }
        },
        "yaxis": {
         "range": [
          0,
          0.4
         ],
         "title": {
          "text": "Probability"
         }
        }
       }
      }
     },
     "metadata": {},
     "output_type": "display_data"
    },
    {
     "data": {
      "application/vnd.plotly.v1+json": {
       "config": {
        "plotlyServerURL": "https://plot.ly"
       },
       "data": [
        {
         "line": {
          "color": "blue",
          "width": 1
         },
         "mode": "lines",
         "name": "$k=0$",
         "opacity": 0.5,
         "showlegend": true,
         "type": "scatter",
         "x": {
          "bdata": "AACAP+miiz/RRZc/uuiiP6OLrj+MLro/dNHFP1100T9GF90/LrroPxdd9D8AAABAdNEFQOmiC0BddBFA0kUXQEYXHUC66CJALrooQKKLLkAXXTRAiy46QAAAQEB00UVA6aJLQF50UUDSRVdARhddQLroYkAuumhAo4tuQBdddECMLnpAAACAQLrogkB00YVALrqIQOiii0Cii45AXXSRQBddlEDSRZdAiy6aQEYXnUAAAKBAuuiiQHTRpUAuuqhA6aKrQKOLrkBddLFAF120QNJFt0CLLrpARhe9QAAAwEC66MJAdNHFQC66yEDoostAo4vOQFx00UAXXdRA0UXXQIsu2kBGF91AAADgQLro4kB00eVAL7roQOii60Cji+5AXHTxQBdd9EDRRfdAjC76QEUX/UAAAABBXXQBQbroAkEXXQRBdNEFQdJFB0EvughBiy4KQeiiC0FGFw1Bo4sOQf//D0FddBFBuugSQRddFEF00RVB0UUXQS66GEGMLhpB6aIbQUUXHUGjix5BAAAgQQ==",
          "dtype": "f4"
         },
         "y": {
          "bdata": "rFq8PoD8qz52Cp0+5WSPPuvugj5KHG8+/lRaPu5bRz7xCDY+WzcmPqzFFz5RlQo+uxT9PaAW5z3KAdM9ravAPXztrz3Eo6A9JK6SPRHvhT0Ul3Q94FVfPYDtSz3iNDo9fAYqPQ9AGz1Vwg09u3ABPVpi7Dy019c8BBbFPJr1szwuUqQ8qQqWPM4AiTwDMno8HnRkPOSZUDxQeT48+estPODOHjz7ARE8IGgEPCHN8Tv4ydw7QZrJO14VuDs1Fqg75nqZO40kjDvQ7X87XrBpO6dhVTvA1kI7TugxO4pyIju0VBQ76HAHO7dX9zpI2eE6+zjOOlZNvDpP8Ks6VP+cOrxajzqg5YI6VQtvOoJFWjrMTUc6Bfw1OpQrJjrouhc6gYsKOsgC/TlBBuc50PLSOQmewDkI4a85WpigOcKjkjmN5YU5x4V0OQZGXzn93ks5ric6OXv6KTkRNRs5Q7gNOZFnATmPUew4bMjXOAYIxTjf6LM4hkakOA4AljgX94g4NSB6OOpjZDgMi1A4zms+OA==",
          "dtype": "f4"
         }
        },
        {
         "line": {
          "color": "blue",
          "width": 1
         },
         "mode": "lines",
         "name": "$k=1$",
         "opacity": 0.5,
         "showlegend": true,
         "type": "scatter",
         "x": {
          "bdata": "AACAP+miiz/RRZc/uuiiP6OLrj+MLro/dNHFP1100T9GF90/LrroPxdd9D8AAABAdNEFQOmiC0BddBFA0kUXQEYXHUC66CJALrooQKKLLkAXXTRAiy46QAAAQEB00UVA6aJLQF50UUDSRVdARhddQLroYkAuumhAo4tuQBdddECMLnpAAACAQLrogkB00YVALrqIQOiii0Cii45AXXSRQBddlEDSRZdAiy6aQEYXnUAAAKBAuuiiQHTRpUAuuqhA6aKrQKOLrkBddLFAF120QNJFt0CLLrpARhe9QAAAwEC66MJAdNHFQC66yEDoostAo4vOQFx00UAXXdRA0UXXQIsu2kBGF91AAADgQLro4kB00eVAL7roQOii60Cji+5AXHTxQBdd9EDRRfdAjC76QEUX/UAAAABBXXQBQbroAkEXXQRBdNEFQdJFB0EvughBiy4KQeiiC0FGFw1Bo4sOQf//D0FddBFBuugSQRddFEF00RVB0UUXQS66GEGMLhpB6aIbQUUXHUGjix5BAAAgQQ==",
          "dtype": "f4"
         },
         "y": {
          "bdata": "slq8Ph6fuz4FmLk+b4C2PqKLsj4O5q0+DraoPrAcoz5KNp0+EhuXPpzfkD5VlYo+2kqEPrYYfD7hx28+prNjPk7pVz5dc0w+8FlBPhujNj4wUyw+BW0iPiXyGD4Q4w8+XD8HPsML/j3Gae49MZTfPcCF0T16OMQ9/6W3PYzHqz0mlqA9rgqWPe4djD20yII9tAd0PaOQYz1mHlQ9cqNFPbYSOD10Xys9cH0fPc1gFD1A/gk96EoAPct47jyokd08jc3NPJgavzzIZ7E8AKWkPAXDmDx4s408s2iDPNirczwU3mE8bFFRPHDwQTwIpzM8XWImPMAQGjyNoQ48RgUEPLFa9DtJGOI79inRO9J3wTux67I7xHClO8XzmDuKYo07VKyCO6yCcTsQJl87fSdOO7ZtPjsI4S87lWsiO+/4FTsidgo7IaP/Oqr16zqGxdk6hPbIOlduuTqwFKs6D9OdOo2UkTqlRYY67ah3OqBgZDp3k1I61CRCOkP6MjoX+yQ6uBAYOhMmDDqbJwE6wgbuOQ==",
          "dtype": "f4"
         }
        },
        {
         "line": {
          "color": "blue",
          "width": 1
         },
         "mode": "lines",
         "name": "$k=2$",
         "opacity": 0.5,
         "showlegend": true,
         "type": "scatter",
         "x": {
          "bdata": "AACAP+miiz/RRZc/uuiiP6OLrj+MLro/dNHFP1100T9GF90/LrroPxdd9D8AAABAdNEFQOmiC0BddBFA0kUXQEYXHUC66CJALrooQKKLLkAXXTRAiy46QAAAQEB00UVA6aJLQF50UUDSRVdARhddQLroYkAuumhAo4tuQBdddECMLnpAAACAQLrogkB00YVALrqIQOiii0Cii45AXXSRQBddlEDSRZdAiy6aQEYXnUAAAKBAuuiiQHTRpUAuuqhA6aKrQKOLrkBddLFAF120QNJFt0CLLrpARhe9QAAAwEC66MJAdNHFQC66yEDoostAo4vOQFx00UAXXdRA0UXXQIsu2kBGF91AAADgQLro4kB00eVAL7roQOii60Cji+5AXHTxQBdd9EDRRfdAjC76QEUX/UAAAABBXXQBQbroAkEXXQRBdNEFQdJFB0EvughBiy4KQeiiC0FGFw1Bo4sOQf//D0FddBFBuugSQRddFEF00RVB0UUXQS66GEGMLhpB6aIbQUUXHUGjix5BAAAgQQ==",
          "dtype": "f4"
         },
         "y": {
          "bdata": "r1o8PpKtTD6OVls+W0ZoPpV4cz6F8Xw+IV6CPo50hT4mxoc+a16JPs5Jij5TlYo+Pk6KPtaBiT4yPYg+D42GPrR9hD7cGoI+Q99+PvAMeT5M0nI+d0FsPjRrZT7lXl4+mypXPhTbTz7Ye0g+QBdBPom2OT7hYTI+eyArPqf4Iz7R7xw+rAoWPiZNDz6Lugg+jlUCPq1A+D0aOew90JbgPX5b1T0UiMo95RzAPbMZtj3Nfaw9DUijPfR2mj25CJI9QvuJPU5Mgj3F8nU9xP9nPSK6Wj1OHE49eCBCPd/ANj2g9ys9574hPeAQGD3F5w495T0GPWQb/DxIo+w82AjePKVB0DyEQ8M8sgS3PKV7qzw0n6A8gWaWPBfJjDy6voM8PX92PFuIZjyVilc8D3hJPLtDPDwD4S88D0QkPHxhGTyBLg885KAFPMxd+Tuanug70vLYO8xJyjvjk7w7TMKvOxrHozvxlJg7fx+OO+RahDszeHY7WnFlO4KNVTsRukY7xuU4OykALDvF+R87NcQUOw==",
          "dtype": "f4"
         }
        },
        {
         "line": {
          "color": "blue",
          "width": 1
         },
         "mode": "lines",
         "name": "$k=3$",
         "opacity": 0.5,
         "showlegend": true,
         "type": "scatter",
         "x": {
          "bdata": "AACAP+miiz/RRZc/uuiiP6OLrj+MLro/dNHFP1100T9GF90/LrroPxdd9D8AAABAdNEFQOmiC0BddBFA0kUXQEYXHUC66CJALrooQKKLLkAXXTRAiy46QAAAQEB00UVA6aJLQF50UUDSRVdARhddQLroYkAuumhAo4tuQBdddECMLnpAAACAQLrogkB00YVALrqIQOiii0Cii45AXXSRQBddlEDSRZdAiy6aQEYXnUAAAKBAuuiiQHTRpUAuuqhA6aKrQKOLrkBddLFAF120QNJFt0CLLrpARhe9QAAAwEC66MJAdNHFQC66yEDoostAo4vOQFx00UAXXdRA0UXXQIsu2kBGF91AAADgQLro4kB00eVAL7roQOii60Cji+5AXHTxQBdd9EDRRfdAjC76QEUX/UAAAABBXXQBQbroAkEXXQRBdNEFQdJFB0EvughBiy4KQeiiC0FGFw1Bo4sOQf//D0FddBFBuugSQRddFEF00RVB0UUXQS66GEGMLhpB6aIbQUUXHUGjix5BAAAgQQ==",
          "dtype": "f4"
         },
         "y": {
          "bdata": "iCN7PU7blD3Mz6w93xTFPVJW3T1CR/U9c1EGPmaWET6DWBw+74EmPs8AMD4Sxzg+IMpAPqUCSD40bE4+CQVUPqnNWD6yyFw+efpfPs1oYj7bGmQ+pxhlPitrZT7pG2U+6TRkPm3AYj7jyGA+z1hePpZ6Wz6JOFg+sJxUPs6wUD5Cfkw+MA5IPippQz5ilz4+mKA5PhiMND6oYC8+pCQqPvDdJD75kR8+ukUaPrr9FD4kvg8+rYoKPrVmBT44VQA+qbH2Pcjn7D3WUOM9O/DZPezI0D1Z3cc9dC+/PdbAtj2gkq49oKWmPVf6nj3wkJc9V2mQPUeDiT0m3oI9lvJ4PaWnbD1Y2WA9bYVVPVqpSj1mQkA9qk02PTnILD3briM9gf4aPdazEj2gywo9j0IDPaoq+DxSgeo8ioLdPNAn0TzCasU8GEW6PJSwrzw6p6U8GSOcPGEekzxsk4o82HyCPJCqdTw3L2c8vX1ZPHCMTDwgUkA84MU0PA/fKTxnlR88/+AVPEu6DDzgGQQ8pvH3Ow==",
          "dtype": "f4"
         }
        },
        {
         "line": {
          "color": "blue",
          "width": 1
         },
         "mode": "lines",
         "name": "$k=4$",
         "opacity": 0.5,
         "showlegend": true,
         "type": "scatter",
         "x": {
          "bdata": "AACAP+miiz/RRZc/uuiiP6OLrj+MLro/dNHFP1100T9GF90/LrroPxdd9D8AAABAdNEFQOmiC0BddBFA0kUXQEYXHUC66CJALrooQKKLLkAXXTRAiy46QAAAQEB00UVA6aJLQF50UUDSRVdARhddQLroYkAuumhAo4tuQBdddECMLnpAAACAQLrogkB00YVALrqIQOiii0Cii45AXXSRQBddlEDSRZdAiy6aQEYXnUAAAKBAuuiiQHTRpUAuuqhA6aKrQKOLrkBddLFAF120QNJFt0CLLrpARhe9QAAAwEC66MJAdNHFQC66yEDoostAo4vOQFx00UAXXdRA0UXXQIsu2kBGF91AAADgQLro4kB00eVAL7roQOii60Cji+5AXHTxQBdd9EDRRfdAjC76QEUX/UAAAABBXXQBQbroAkEXXQRBdNEFQdJFB0EvughBiy4KQeiiC0FGFw1Bo4sOQf//D0FddBFBuugSQRddFEF00RVB0UUXQS66GEGMLhpB6aIbQUUXHUGjix5BAAAgQQ==",
          "dtype": "f4"
         },
         "y": {
          "bdata": "hyN7PJhjojxmO8w8v9T6PGTpFj1eYjI9IpVPPew7bj2fBoc9116XPcYAqD0Qx7g9fI3JPWwx2j05kuo9lpH6PdUJBT62fww+Qp8TPrleGj7StSA+j50mPl8QLD7sCTE+LIc1PiiGOT4EBj0+3gZAPsCJQj58kEQ+oh1GPmQ0Rz5+2Ec+MA5IPhraRz4sQUc+pEhGPuv1RD6NTkM+L1hBPoQYPz4/lTw++NM5PkzaNj6urTM+a1MwPq/QLD6DKik+qWUlPsKGIT41kh0+KIwZPpB4FT4pWxE+azcNPqEQCT7O6QQ+zMUAPmVO+T3BIPE9EwfpPVwF4T0eH9k9olfRPcqxyT0RMMI9xNS6PcChsz22mKw9+LqlPcAJnz3XhZg9DTCSPcMIjD1SEIY93EaAPbdYdT1SgWo97wZgPbjoVT2qJUw9mLxCPRasOT2i8jA9nY4oPTt+ID2Zvxg92lARPfEvCj3UWgM92Z75PCQX7TxMGuE8AqTVPPuvyjzJOcA8Oj22PBe2rDwOoKM8CPeaPA==",
          "dtype": "f4"
         }
        },
        {
         "line": {
          "color": "blue",
          "width": 1
         },
         "mode": "lines",
         "name": "$k=5$",
         "opacity": 0.5,
         "showlegend": true,
         "type": "scatter",
         "x": {
          "bdata": "AACAP+miiz/RRZc/uuiiP6OLrj+MLro/dNHFP1100T9GF90/LrroPxdd9D8AAABAdNEFQOmiC0BddBFA0kUXQEYXHUC66CJALrooQKKLLkAXXTRAiy46QAAAQEB00UVA6aJLQF50UUDSRVdARhddQLroYkAuumhAo4tuQBdddECMLnpAAACAQLrogkB00YVALrqIQOiii0Cii45AXXSRQBddlEDSRZdAiy6aQEYXnUAAAKBAuuiiQHTRpUAuuqhA6aKrQKOLrkBddLFAF120QNJFt0CLLrpARhe9QAAAwEC66MJAdNHFQC66yEDoostAo4vOQFx00UAXXdRA0UXXQIsu2kBGF91AAADgQLro4kB00eVAL7roQOii60Cji+5AXHTxQBdd9EDRRfdAjC76QEUX/UAAAABBXXQBQbroAkEXXQRBdNEFQdJFB0EvughBiy4KQeiiC0FGFw1Bo4sOQf//D0FddBFBuugSQRddFEF00RVB0UUXQS66GEGMLhpB6aIbQUUXHUGjix5BAAAgQQ==",
          "dtype": "f4"
         },
         "y": {
          "bdata": "OelIO624jTuPF8E7N2T/O4GhJDwKk08841KAPF7vmzzHlLo82yzcPA5LAD1z0hM9QpIoPUtsPj0cP1U9veZsPZmegj2pDY89l6ybPVVnqD0LKrU9OuHBPQx6zj1f4to9HgnnPSve8j2SUv49TqwEPvnxCT639A4+sK8TPrEeGD42Phw+WgsgPuaDIz43piY+RnEpPpTkKz4qAC4+iMQvPqgyMT7ySzI+EBIzPjSHMz6urTM+JYgzPm4ZMz6tZDI+CG0xPus1MD66wi4+AhctPk42Kz5GJCk+Y+QmPlt6JD6a6SE+tjUfPgxiHD7tcRk+pWgWPlNJEz78FhA+idQMPtuECT6DKgY+JcgCPiDA/j1T6fc97A/xPTk46j3DZeM9TpzcPdre1T19MM89BZTIPfQLwj2imrs9H0K1PToErz2q4qg96t6iPTv6nD25NZc9a5KRPQ4RjD1GsoY9mHaBPbK8eD220249bDJlPfHYWz0ox1I9yvxJPXN5QT1YPDk94EQxPTKSKT1HIyI9DPcaPQ==",
          "dtype": "f4"
         }
        },
        {
         "line": {
          "color": "blue",
          "width": 1
         },
         "mode": "lines",
         "name": "$k=6$",
         "opacity": 0.5,
         "showlegend": false,
         "type": "scatter",
         "x": {
          "bdata": "AACAP+miiz/RRZc/uuiiP6OLrj+MLro/dNHFP1100T9GF90/LrroPxdd9D8AAABAdNEFQOmiC0BddBFA0kUXQEYXHUC66CJALrooQKKLLkAXXTRAiy46QAAAQEB00UVA6aJLQF50UUDSRVdARhddQLroYkAuumhAo4tuQBdddECMLnpAAACAQLrogkB00YVALrqIQOiii0Cii45AXXSRQBddlEDSRZdAiy6aQEYXnUAAAKBAuuiiQHTRpUAuuqhA6aKrQKOLrkBddLFAF120QNJFt0CLLrpARhe9QAAAwEC66MJAdNHFQC66yEDoostAo4vOQFx00UAXXdRA0UXXQIsu2kBGF91AAADgQLro4kB00eVAL7roQOii60Cji+5AXHTxQBdd9EDRRfdAjC76QEUX/UAAAABBXXQBQbroAkEXXQRBdNEFQdJFB0EvughBiy4KQeiiC0FGFw1Bo4sOQf//D0FddBFBuugSQRddFEF00RVB0UUXQS66GEGMLhpB6aIbQUUXHUGjix5BAAAgQQ==",
          "dtype": "f4"
         },
         "y": {
          "bdata": "zPAFOt4jTjoPIpg6IrLYOhiqFTu9SEk7WTaEO2AcqjvY2dY7gnAFPDhIIzyUGEU8Y/pqPE19ijzijKE8Q6a6PK691TzVwfI8+M0IPRUYGT0/Lyo9KgE8PQV6Tj1ZhGE9qAl1PS55hD0fk449aMaYPagGoz2iR609Ln23PXCbwT3Slss9cWTVPaj53j2CTOg9s1PxPaEG+j2kLgE+QygFPvHsCD7ieQw+kcwPPvfiEj5iuxU+cFQYPjatGj4SxRw+ppsePv8wID5whSE+fJkiPghuIz4aBCQ+CF0kPlZ6JD6iXSQ+xAgkPsF9Iz6kviI+oM0hPhCtID40Xx8+huYdPn9FHD6Hfho+IJQYPsqIFj7+XhQ+KhkSPsa5Dz4XQw0+krcKPmkZCD7XagU+Ba4CPu7J/z2CI/o9iGz0PaSo7j1f2+g9IAjjPf4x3T0IXNc9DYnRPba7yz1v9sU9sDvAPXSNuj3s7bQ91l6vPczhqT14eKQ9QiSfPWHmmT31v5Q997GPPWq9ij3r4oU9LSOBPQ==",
          "dtype": "f4"
         }
        },
        {
         "line": {
          "color": "blue",
          "width": 1
         },
         "mode": "lines",
         "name": "$k=7$",
         "opacity": 0.5,
         "showlegend": false,
         "type": "scatter",
         "x": {
          "bdata": "AACAP+miiz/RRZc/uuiiP6OLrj+MLro/dNHFP1100T9GF90/LrroPxdd9D8AAABAdNEFQOmiC0BddBFA0kUXQEYXHUC66CJALrooQKKLLkAXXTRAiy46QAAAQEB00UVA6aJLQF50UUDSRVdARhddQLroYkAuumhAo4tuQBdddECMLnpAAACAQLrogkB00YVALrqIQOiii0Cii45AXXSRQBddlEDSRZdAiy6aQEYXnUAAAKBAuuiiQHTRpUAuuqhA6aKrQKOLrkBddLFAF120QNJFt0CLLrpARhe9QAAAwEC66MJAdNHFQC66yEDoostAo4vOQFx00UAXXdRA0UXXQIsu2kBGF91AAADgQLro4kB00eVAL7roQOii60Cji+5AXHTxQBdd9EDRRfdAjC76QEUX/UAAAABBXXQBQbroAkEXXQRBdNEFQdJFB0EvughBiy4KQeiiC0FGFw1Bo4sOQf//D0FddBFBuugSQRddFEF00RVB0UUXQS66GEGMLhpB6aIbQUUXHUGjix5BAAAgQQ==",
          "dtype": "f4"
         },
         "y": {
          "bdata": "NBOZOLyAADl8ek0505idOUI+6TkWTSc6kYRpOpEQnzqQD9Q6cqMKO0IgMjurQGE7ZGCMO4aprDs8ztE7GRn8O3HlFTz9jDA8XhhOPJSWbjwdCIk8d0OcPOL6sDxrKMc8/MLePAi+9zwaBQk9e8oWPbMkJT3wBzQ9ZGdDPTM1Uz2nYmM9g+BzPWZPgj2lxoo9sk2TPT7cmz3qaaQ9e+6sPcxhtT3ou709CPXFPc4Fzj0g59U9HpLdPXIA5T0vLOw90Q/zPSKm+T2x6v89nOwCPh23BT4wUwg+lb8KPif7DD4ABQ8+htwQPlGBEj4c8xM+/zEVPhc+Fj7MFxc+ob8XPmc2GD7efBg+JJQYPkd9GD6UORg+YMoXPioxFz5dbxY+uYYVPtR4FD5nRxM+OvQRPg6BED6+7w4+DkINPtZ5Cz7jmAk+GqEHPjyUBT4LdAM+R0IBPlgB/j2xYfk9Cqn0PXTa7z0g+eo9CAjmPd4J4T2QAdw9zPHWPRfd0T3Gxcw9L67HPaSYwj0Ih709Ynu4PQ==",
          "dtype": "f4"
         }
        },
        {
         "line": {
          "color": "blue",
          "width": 1
         },
         "mode": "lines",
         "name": "$k=8$",
         "opacity": 0.5,
         "showlegend": false,
         "type": "scatter",
         "x": {
          "bdata": "AACAP+miiz/RRZc/uuiiP6OLrj+MLro/dNHFP1100T9GF90/LrroPxdd9D8AAABAdNEFQOmiC0BddBFA0kUXQEYXHUC66CJALrooQKKLLkAXXTRAiy46QAAAQEB00UVA6aJLQF50UUDSRVdARhddQLroYkAuumhAo4tuQBdddECMLnpAAACAQLrogkB00YVALrqIQOiii0Cii45AXXSRQBddlEDSRZdAiy6aQEYXnUAAAKBAuuiiQHTRpUAuuqhA6aKrQKOLrkBddLFAF120QNJFt0CLLrpARhe9QAAAwEC66MJAdNHFQC66yEDoostAo4vOQFx00UAXXdRA0UXXQIsu2kBGF91AAADgQLro4kB00eVAL7roQOii60Cji+5AXHTxQBdd9EDRRfdAjC76QEUX/UAAAABBXXQBQbroAkEXXQRBdNEFQdJFB0EvughBiy4KQeiiC0FGFw1Bo4sOQf//D0FddBFBuugSQRddFEF00RVB0UUXQS66GEGMLhpB6aIbQUUXHUGjix5BAAAgQQ==",
          "dtype": "f4"
         },
         "y": {
          "bdata": "QhMZN28vjDer1vI3C5RIOJ4Hnzj/WPM4I3I0OdwkgjnAJLc59RH8OZMHKjrAQGE66sGSOuRbvDp4au46nfcUO7/2NzuCs2A77NWHO4usojsiF8E77UrjOza8BDwa5Rk8cTIxPNqySjxecWY8jTqCPJFgkjwuqqM8xBS2PJKbyTzHN948muDzPKJFBT2LFRE93lgdPZgHKj3uGDc9b4NEPQo9Uj0/O2A923JuPbPYfD2BsIU99P+MPbRUlD3UqJs9SPaiPSc3qj2mZbE9CXy4Pcp0vz2NSsY9MfjMPc540z2tx9k9huDfPT2/5T30X+s9Sb/wPQ3a9T1drfo9vzb/PQy6AT64sQM+r4EFPkYpBz4dqAg+1P0JPmEqCz6eLQw+2wcNPje5DT4cQg4+FqMOPrbcDj7H7w4+C90OPmKlDj7NSQ4+ZssNPkQrDT6Jagw+fYoLPmeMCj6KcQk+STsIPu7qBj76gQU+vgEEPpVrAj71wAA+jQb+Peln+j2CqPY9K8vyPbHS7j2Qweo9WJrmPQ==",
          "dtype": "f4"
         }
        },
        {
         "line": {
          "color": "blue",
          "width": 1
         },
         "mode": "lines",
         "name": "$k=9$",
         "opacity": 0.5,
         "showlegend": false,
         "type": "scatter",
         "x": {
          "bdata": "AACAP+miiz/RRZc/uuiiP6OLrj+MLro/dNHFP1100T9GF90/LrroPxdd9D8AAABAdNEFQOmiC0BddBFA0kUXQEYXHUC66CJALrooQKKLLkAXXTRAiy46QAAAQEB00UVA6aJLQF50UUDSRVdARhddQLroYkAuumhAo4tuQBdddECMLnpAAACAQLrogkB00YVALrqIQOiii0Cii45AXXSRQBddlEDSRZdAiy6aQEYXnUAAAKBAuuiiQHTRpUAuuqhA6aKrQKOLrkBddLFAF120QNJFt0CLLrpARhe9QAAAwEC66MJAdNHFQC66yEDoostAo4vOQFx00UAXXdRA0UXXQIsu2kBGF91AAADgQLro4kB00eVAL7roQOii60Cji+5AXHTxQBdd9EDRRfdAjC76QEUX/UAAAABBXXQBQbroAkEXXQRBdNEFQdJFB0EvughBiy4KQeiiC0FGFw1Bo4sOQf//D0FddBFBuugSQRddFEF00RVB0UUXQS66GEGMLhpB6aIbQUUXHUGjix5BAAAgQQ==",
          "dtype": "f4"
         },
         "y": {
          "bdata": "BRGINdXvBzY3Gn82geriNkXDQDerUJ03bOL3N75MPTg/mIw4SrHLOF9EEDluOUg5X2GIOZCmtjnG0vA5i30cOvCvSDrlNH46FCmfOhAuxTqO2fE6ru8SO8z6MDsjaVM7tZR6O7ZqkzvoP6w7T/LHO32n5jsEQQQ8bdAWPH4PKzyJCUE8fMdYPOhPcjxG04Y8YGaVPHTgpDxWP7U8cn/GPMqb2Dw7jus8zU7/PHrqCT0eixQ9uIMfPQTOKj1wYzY9qDxCPTZSTj0enFo9KBJnPbmrcz0dMIA9WJOGPRn7jD3PYpM9GcaZPVsgoD0cbaY9HaisPf/Msj2a17g95MO+PSmOxD1MMso9GK3PPRL71D0IGdo9DgTfPYS54z2tNug9jnnsPeZ/8D32R/Q9J9D3PRYX+z3UG/49rG4APn6tAT44ygI+scQDPuycBD7xUgU+CucFPnxZBj6ZqgY+7doGPs3qBj4g2wY+X6wGPjpfBj6c9AU+Ym0FPmnKBD6TDAQ+yDQDPlBEAj7vOwE+xxwAPg==",
          "dtype": "f4"
         }
        },
        {
         "line": {
          "color": "blue",
          "width": 1
         },
         "mode": "lines",
         "name": "$k=10$",
         "opacity": 0.5,
         "showlegend": false,
         "type": "scatter",
         "x": {
          "bdata": "AACAP+miiz/RRZc/uuiiP6OLrj+MLro/dNHFP1100T9GF90/LrroPxdd9D8AAABAdNEFQOmiC0BddBFA0kUXQEYXHUC66CJALrooQKKLLkAXXTRAiy46QAAAQEB00UVA6aJLQF50UUDSRVdARhddQLroYkAuumhAo4tuQBdddECMLnpAAACAQLrogkB00YVALrqIQOiii0Cii45AXXSRQBddlEDSRZdAiy6aQEYXnUAAAKBAuuiiQHTRpUAuuqhA6aKrQKOLrkBddLFAF120QNJFt0CLLrpARhe9QAAAwEC66MJAdNHFQC66yEDoostAo4vOQFx00UAXXdRA0UXXQIsu2kBGF91AAADgQLro4kB00eVAL7roQOii60Cji+5AXHTxQBdd9EDRRfdAjC76QEUX/UAAAABBXXQBQbroAkEXXQRBdNEFQdJFB0EvughBiy4KQeiiC0FGFw1Bo4sOQf//D0FddBFBuugSQRddFEF00RVB0UUXQS66GEGMLhpB6aIbQUUXHUGjix5BAAAgQQ==",
          "dtype": "f4"
         },
         "y": {
          "bdata": "zbTZM35FbTQIMPE0rgpnNVtJ0jWxDjc20jyZNnzP9zavRkI3zyOUN8pV3DfoLSA4fCBkOG9nnzgo7to4VvQTOcgJRTkMaoE5h9enOfoa1zm2UAg68voqOihgVDqrsII64HWfOlr7wDoLwec6ECUKOwqOIzuLXkA7n9lgO8CggjuE65Y7XmytO1RBxjubhuE7gFb/O3PkDzySeSE81nM0PO3aSDz/tF48EAZ2PIJohzwZi5Q8LGqiPAYEsTwwVsA88VzQPNYT4Tw/dfI8ZT0CPYuOCz0FKhU9KwsfPUwtKT3zijM9vh4+PbPiSD2e0FM9R+JePfsQaj0FVnU9OFWAPckDhj0Js4s9mF+RPcMFlz1Mopw9czGiPSGwpz3AGq09Xm6yPYWntz04w7w9oL7BPduWxj1qScs9stPPPTIz1D3ZZdg9mGncPYk84D3U3OM9L0nnPTSA6j2ygO09lUnwPd/Z8j1RMfU9DU/3PeQy+T2p3Po9Y0z8PWeC/T2Lfv49f0H/Pd3L/z0tDwA+xxwAPg==",
          "dtype": "f4"
         }
        },
        {
         "line": {
          "color": "blue",
          "width": 1
         },
         "mode": "lines",
         "name": "$k=11$",
         "opacity": 0.5,
         "showlegend": false,
         "type": "scatter",
         "x": {
          "bdata": "AACAP+miiz/RRZc/uuiiP6OLrj+MLro/dNHFP1100T9GF90/LrroPxdd9D8AAABAdNEFQOmiC0BddBFA0kUXQEYXHUC66CJALrooQKKLLkAXXTRAiy46QAAAQEB00UVA6aJLQF50UUDSRVdARhddQLroYkAuumhAo4tuQBdddECMLnpAAACAQLrogkB00YVALrqIQOiii0Cii45AXXSRQBddlEDSRZdAiy6aQEYXnUAAAKBAuuiiQHTRpUAuuqhA6aKrQKOLrkBddLFAF120QNJFt0CLLrpARhe9QAAAwEC66MJAdNHFQC66yEDoostAo4vOQFx00UAXXdRA0UXXQIsu2kBGF91AAADgQLro4kB00eVAL7roQOii60Cji+5AXHTxQBdd9EDRRfdAjC76QEUX/UAAAABBXXQBQbroAkEXXQRBdNEFQdJFB0EvughBiy4KQeiiC0FGFw1Bo4sOQf//D0FddBFBuugSQRddFEF00RVB0UUXQS66GEGMLhpB6aIbQUUXHUGjix5BAAAgQQ==",
          "dtype": "f4"
         },
         "y": {
          "bdata": "AVUeMpI/vDJUTU8zYNvVM4aMUDTMpcE09DssNSp1kzW8DPQ1O+NDNsT1mDYB/eg2wXMtN2jwfDc577Q37FX+N3reLzi6k284EOigOPRT1Tj2sQs5Nt80OdOuZzk45JI5BYC4OS6q5Tnyuw06l4ktOkTdUjp8X346wGCYOjpetTryh9Y6n0D8OnJ2EztyeSs7qFxGO1xTZDsIyII7bSKVO/VQqTv6ar87eobXO4C48TsjCgc8pVUWPHPGJjyhYzg8ljJLPLg3XzxKdnQ8EniFPORSkTwgy508rt+qPJKOuDws1cY8UrDVPPYb5TxGE/U8g8gCPYJHCz1QAxQ9KfgcPVUiJj2MfS89VgU5PQm1Qj3Lh0w9jHhWPS+CYD0gn2o9O8p0Pcr9fj0bmoQ99bOJPajJjj1o2JM9ZN2YPcfVnT3WvqI9GZanPepYrD2LBLE9rZa1PfwMuj0WZb4965zCPUiyxj13o8o9iG7OPZUR0j0+i9U9GNrYPeT82z0Q8t495rjhPW5Q5D3ot+Y9ge7oPQ==",
          "dtype": "f4"
         }
        },
        {
         "line": {
          "color": "blue",
          "width": 1
         },
         "mode": "lines",
         "name": "$k=12$",
         "opacity": 0.5,
         "showlegend": false,
         "type": "scatter",
         "x": {
          "bdata": "AACAP+miiz/RRZc/uuiiP6OLrj+MLro/dNHFP1100T9GF90/LrroPxdd9D8AAABAdNEFQOmiC0BddBFA0kUXQEYXHUC66CJALrooQKKLLkAXXTRAiy46QAAAQEB00UVA6aJLQF50UUDSRVdARhddQLroYkAuumhAo4tuQBdddECMLnpAAACAQLrogkB00YVALrqIQOiii0Cii45AXXSRQBddlEDSRZdAiy6aQEYXnUAAAKBAuuiiQHTRpUAuuqhA6aKrQKOLrkBddLFAF120QNJFt0CLLrpARhe9QAAAwEC66MJAdNHFQC66yEDoostAo4vOQFx00UAXXdRA0UXXQIsu2kBGF91AAADgQLro4kB00eVAL7roQOii60Cji+5AXHTxQBdd9EDRRfdAjC76QEUX/UAAAABBXXQBQbroAkEXXQRBdNEFQdJFB0EvughBiy4KQeiiC0FGFw1Bo4sOQf//D0FddBFBuugSQRddFEF00RVB0UUXQS66GEGMLhpB6aIbQUUXHUGjix5BAAAgQQ==",
          "dtype": "f4"
         },
         "y": {
          "bdata": "+htTMGXoCDEkVKMxQ3Q1Mv+WvTKaxzszDHSxM+PcIDRzg4w0hXDtNCWtQjVWU5s1FMjxNaj0NzZJEok2rmLINo7kDzcBR0s3EGeNNy7vwTeVOgM4D2QvOMWuZzi9V5c4iK7DOBKL+jj86R45vNRHOQQ0eTlQKpo5b1G9OQnV5jkixQs6DysoOuAVSTpYBm8670GNOgQOpjrAMMI6E/bhOszVAjtk0BY7yBItO3/FRTvfEGE71Rx/O34IkDv4CaI7bKW1O8/syjtG8eE7m8L6O+W3CjwGAxk81kgoPI2OODx12Ek8DCpcPPyFbzza9oE84rCMPObwlzwCtqM88/6vPPLJvDxwFMo8f9vXPLEb5jwD0fQ8dPsBPTfECT3nvxE9t+sZPV1EIj1yxio9bG4zPVA4PD1+IEU9tSJOPbU6Vz02ZGA97JppPUHacj2vHXw9SbCCPTpPhz1G6Ys9QnyQPagFlT2Yg5k9nfOdPWFToj38oKY9YdqqPW79rj06CLM9vPi2PXjNuj15hL49FhzCPQ==",
          "dtype": "f4"
         }
        },
        {
         "line": {
          "color": "blue",
          "width": 1
         },
         "mode": "lines",
         "name": "$k=13$",
         "opacity": 0.5,
         "showlegend": false,
         "type": "scatter",
         "x": {
          "bdata": "AACAP+miiz/RRZc/uuiiP6OLrj+MLro/dNHFP1100T9GF90/LrroPxdd9D8AAABAdNEFQOmiC0BddBFA0kUXQEYXHUC66CJALrooQKKLLkAXXTRAiy46QAAAQEB00UVA6aJLQF50UUDSRVdARhddQLroYkAuumhAo4tuQBdddECMLnpAAACAQLrogkB00YVALrqIQOiii0Cii45AXXSRQBddlEDSRZdAiy6aQEYXnUAAAKBAuuiiQHTRpUAuuqhA6aKrQKOLrkBddLFAF120QNJFt0CLLrpARhe9QAAAwEC66MJAdNHFQC66yEDoostAo4vOQFx00UAXXdRA0UXXQIsu2kBGF91AAADgQLro4kB00eVAL7roQOii60Cji+5AXHTxQBdd9EDRRfdAjC76QEUX/UAAAABBXXQBQbroAkEXXQRBdNEFQdJFB0EvughBiy4KQeiiC0FGFw1Bo4sOQf//D0FddBFBuugSQRddFEF00RVB0UUXQS66GEGMLhpB6aIbQUUXHUGjix5BAAAgQQ==",
          "dtype": "f4"
         },
         "y": {
          "bdata": "x+mBLujRNy+gke0vLR6OMKQYHzEKFagxT8QoMsL8oTJXWxUzSdWEM+m15DNwKz80LI2bNCv99jQ4tT81D7yRNSRZ2TW/NR82cmhlNuK9ojbUleM2Mv4cN0rcVTcm7483gpO/N3ZL/DdYeCQ4TGhUOMvthzgWfqw4lh7ZOOaXBzluHSg54/lOOUIdfTkmx5k5ibW5OT303jnUFAU6vAMeOkKlOjqTXVs6skqAOp9dlTqaIK066M7HOqql5TqrcQM7ueMVO1ZJKjsCw0A7IXFZO0p0dDsj9og7YPyYOyJcqjtAJL07CGPRO/Yl5zuTef478rQLPNcAGTwzJSc8OiY2PLcHRjxCzFY8NXZoPOcGezyKP4c8Mm+RPB8SnDwuJ6c8XK2yPKaivjzkBMs8stHXPLsF5TwEnvI8OksAPWx1Bz1dyw49kEoWPVvwHT3quSU9UKQtPYSsNT1Azz09JAlGPZJWTj1otFY9rx5fPbSRZz3RCXA9RoN4PS19gD2FtYQ9puiIPeMUjT0vOJE9pFCVPQ==",
          "dtype": "f4"
         }
        },
        {
         "line": {
          "color": "blue",
          "width": 1
         },
         "mode": "lines",
         "name": "$k=14$",
         "opacity": 0.5,
         "showlegend": false,
         "type": "scatter",
         "x": {
          "bdata": "AACAP+miiz/RRZc/uuiiP6OLrj+MLro/dNHFP1100T9GF90/LrroPxdd9D8AAABAdNEFQOmiC0BddBFA0kUXQEYXHUC66CJALrooQKKLLkAXXTRAiy46QAAAQEB00UVA6aJLQF50UUDSRVdARhddQLroYkAuumhAo4tuQBdddECMLnpAAACAQLrogkB00YVALrqIQOiii0Cii45AXXSRQBddlEDSRZdAiy6aQEYXnUAAAKBAuuiiQHTRpUAuuqhA6aKrQKOLrkBddLFAF120QNJFt0CLLrpARhe9QAAAwEC66MJAdNHFQC66yEDoostAo4vOQFx00UAXXdRA0UXXQIsu2kBGF91AAADgQLro4kB00eVAL7roQOii60Cji+5AXHTxQBdd9EDRRfdAjC76QEUX/UAAAABBXXQBQbroAkEXXQRBdNEFQdJFB0EvughBiy4KQeiiC0FGFw1Bo4sOQf//D0FddBFBuugSQRddFEF00RVB0UUXQS66GEGMLhpB6aIbQUUXHUGjix5BAAAgQQ==",
          "dtype": "f4"
         },
         "y": {
          "bdata": "5XiULLgtZS2ebyAugbfOLinxdy9itAswdQqVMAZ4FzHVapMxMAIKMqiAeTLSetoykto5M5z3mTOx+PgzGNZENBFtmDQblOc0A80sNZeffTUgQLc12HwCNiNPNzamOH42DSmuNnPp6zb8Dx43HaZRN72xiTd+NrM36DfnN4/rEzjBwzs4QItsOHvskzgUvLc4rrXiOAj8CjlWYCk5wTZNObg+dzmbJJQ5DpywOex/0TkoU/c5rFAROpb/KTrvBEY6hLNlOtewhDoWtZg6QRWvOg4CyDoIreM60SQBO9YFEjvmkyQ7s+k4O/khTzs4V2c7INKAO2oRjztqdp47eg2vO+jiwDsOAtQ7LnboO3FJ/jvWwgo80xkXPLotJDzlATI8mJlAPDn3TzyuHGA8cwtxPApigTx/o4o8skmUPBhUnjy8wag8jJGzPOnBvjzDUMo82DvWPLyA4jxSHO88jwv8PFelBD0haws9/lQSPYJgGT2OiyA9s9MnPVo2Lz22sDY98D8+PWrhRT34kU09kE5VPQ==",
          "dtype": "f4"
         }
        },
        {
         "line": {
          "color": "blue",
          "width": 1
         },
         "mode": "lines",
         "name": "$k=15$",
         "opacity": 0.5,
         "showlegend": false,
         "type": "scatter",
         "x": {
          "bdata": "AACAP+miiz/RRZc/uuiiP6OLrj+MLro/dNHFP1100T9GF90/LrroPxdd9D8AAABAdNEFQOmiC0BddBFA0kUXQEYXHUC66CJALrooQKKLLkAXXTRAiy46QAAAQEB00UVA6aJLQF50UUDSRVdARhddQLroYkAuumhAo4tuQBdddECMLnpAAACAQLrogkB00YVALrqIQOiii0Cii45AXXSRQBddlEDSRZdAiy6aQEYXnUAAAKBAuuiiQHTRpUAuuqhA6aKrQKOLrkBddLFAF120QNJFt0CLLrpARhe9QAAAwEC66MJAdNHFQC66yEDoostAo4vOQFx00UAXXdRA0UXXQIsu2kBGF91AAADgQLro4kB00eVAL7roQOii60Cji+5AXHTxQBdd9EDRRfdAjC76QEUX/UAAAABBXXQBQbroAkEXXQRBdNEFQdJFB0EvughBiy4KQeiiC0FGFw1Bo4sOQf//D0FddBFBuugSQRddFEF00RVB0UUXQS66GEGMLhpB6aIbQUUXHUGjix5BAAAgQQ==",
          "dtype": "f4"
         },
         "y": {
          "bdata": "616eKjBXhSs0P0osLVEMLXNStC0wwVguEbH1LvEwhC93zQcwm9OFMAYK/jCZC2kxg0HPMXopMzJe5JYyTSL4Mj6KRzNqMZ0zDvjyMz50ODRAt4k0PXTKNNGlEjVUilE1ycWTNTbjzTUKxw02rCFBNg8vgjZMyK02PtHlNhucFjcru0M3XFB8Ny9foTd65Mw3ACgBOFq6ITjyMkk4pL54OLfXmDgawLo4rOriOKEgCTk04iQ53UZFOTvoajnENos5hkWkOVYBwTmA0uE5+ZMDOtW7GDounzA6AoBLOhOjaTpIqIU6y2mYOg49rTouSsQ6dbrdOiW4+TorNww7bQQdO/pZLzsNTkM7CPdYO+JqcDvt34Q7t4WSO6AxoTvL7bA7lsTBO2e/0zti5+Y7ekX7O8JwCDyq4RM8wfgfPPq4LDz0JDo8Jz9IPEgJVzxchGY8grF2PJLIgzyNkYw8MbOVPPIsnzwY/qg8eiWzPFKhvTxicMg8dJDTPIL/3jzMuuo8wb/2PKCFAT0jzQc9ezQOPQ==",
          "dtype": "f4"
         }
        },
        {
         "line": {
          "color": "blue",
          "width": 1
         },
         "mode": "lines",
         "name": "$k=16$",
         "opacity": 0.5,
         "showlegend": false,
         "type": "scatter",
         "x": {
          "bdata": "AACAP+miiz/RRZc/uuiiP6OLrj+MLro/dNHFP1100T9GF90/LrroPxdd9D8AAABAdNEFQOmiC0BddBFA0kUXQEYXHUC66CJALrooQKKLLkAXXTRAiy46QAAAQEB00UVA6aJLQF50UUDSRVdARhddQLroYkAuumhAo4tuQBdddECMLnpAAACAQLrogkB00YVALrqIQOiii0Cii45AXXSRQBddlEDSRZdAiy6aQEYXnUAAAKBAuuiiQHTRpUAuuqhA6aKrQKOLrkBddLFAF120QNJFt0CLLrpARhe9QAAAwEC66MJAdNHFQC66yEDoostAo4vOQFx00UAXXdRA0UXXQIsu2kBGF91AAADgQLro4kB00eVAL7roQOii60Cji+5AXHTxQBdd9EDRRfdAjC76QEUX/UAAAABBXXQBQbroAkEXXQRBdNEFQdJFB0EvughBiy4KQeiiC0FGFw1Bo4sOQf//D0FddBFBuugSQRddFEF00RVB0UUXQS66GEGMLhpB6aIbQUUXHUGjix5BAAAgQQ==",
          "dtype": "f4"
         },
         "y": {
          "bdata": "116eKFB2kSnTBG8q1JUyK53k9Suso50sLto9LQhQ2C1okWouGlLzLvJ9ci+DC+kvFK1YMP5ywzDFdysx0p+SMbjj9DE9EEgyaCOgMhaH+zLADUIzOj2TM5f42zPU6iE0rRdrNPpzqDSDce40issmNbXHZjXd+5011CXWNYPDDzY+SD82TFB8NgQKpTaTNNY2RPYJNxJuMDfoD2A3+lSNN3gosTditNw3YaoIOORKKDioGk44QxR7ONYnmDhMgrc40UXcOBqYAzkfiRw5pGc5ObyvWjm0c4A55k+WOTk6rznyhcs5KYzrOajVBzqiIxw64eQyOr9QTDpFoWg6egmEOnhylToRrKg6B9i9OsQY1Trkke46qTMFOwtfFDt63SQ7BcI2O0sfSjscCF87Zo91O8DjhjuT4ZM7A8qhO8elsDtpfcA7N1nRO/5A4zvnO/Y7higFPIPDDzzK8Ro8C7YmPG8SMzxmCUA8T5xNPFXMWzySmmo8mgd6PNUJhTwFX408BgOWPGn1njxONag8icGxPA==",
          "dtype": "f4"
         }
        },
        {
         "line": {
          "color": "blue",
          "width": 1
         },
         "mode": "lines",
         "name": "$k=17$",
         "opacity": 0.5,
         "showlegend": false,
         "type": "scatter",
         "x": {
          "bdata": "AACAP+miiz/RRZc/uuiiP6OLrj+MLro/dNHFP1100T9GF90/LrroPxdd9D8AAABAdNEFQOmiC0BddBFA0kUXQEYXHUC66CJALrooQKKLLkAXXTRAiy46QAAAQEB00UVA6aJLQF50UUDSRVdARhddQLroYkAuumhAo4tuQBdddECMLnpAAACAQLrogkB00YVALrqIQOiii0Cii45AXXSRQBddlEDSRZdAiy6aQEYXnUAAAKBAuuiiQHTRpUAuuqhA6aKrQKOLrkBddLFAF120QNJFt0CLLrpARhe9QAAAwEC66MJAdNHFQC66yEDoostAo4vOQFx00UAXXdRA0UXXQIsu2kBGF91AAADgQLro4kB00eVAL7roQOii60Cji+5AXHTxQBdd9EDRRfdAjC76QEUX/UAAAABBXXQBQbroAkEXXQRBdNEFQdJFB0EvughBiy4KQeiiC0FGFw1Bo4sOQf//D0FddBFBuugSQRddFEF00RVB0UUXQS66GEGMLhpB6aIbQUUXHUGjix5BAAAgQQ==",
          "dtype": "f4"
         },
         "y": {
          "bdata": "8w2VJgtalSca7oQoietVKdrKHSo2ztcqBhOKK4aSJixBqr4sWDBQLXLa2S0hVlsuJjPVLtOsSC9NY7cvCRcjMPdujTDkpe8wlKxGMXFooTFprQAyZZFJMgdGmzINhOsyUAEwM7y3gTPktrwzoJMHNMCFQDRkLIc0Ds+7NCAoATVC8C81yHhtNXfcnjXRxNI1FbMKNqclNTaE2Go2NiiXNl9DwTZTffU2tu8aNzJkQjeweXI3AWGWNxiEuTc6q+M32f4KOAzkKDjjP0w4XeJ1OKJZkzhC2a84Zv3QODph9zgO1xE5rk4rObZ7SDmBymk5MtiHOW5VnTkkoLU50v/QOUDB7zkrGgk6llccOkrFMTqUkkk6TfBjOiGJgDpjlpA6ATyiOuaVtTpuwco689zhOjoG+zqgLgs7lAAaO+wIKjvUVzs7bv1NO+IJYjsPjXc7bkuHO5mbkzuPvqA7EryuO/uavTsKY807YhreO5rH7ztOOAE8vw0LPMJmFTxqRSA8zKsrPC6cNzzSF0Q87R9RPA==",
          "dtype": "f4"
         }
        },
        {
         "line": {
          "color": "blue",
          "width": 1
         },
         "mode": "lines",
         "name": "$k=18$",
         "opacity": 0.5,
         "showlegend": false,
         "type": "scatter",
         "x": {
          "bdata": "AACAP+miiz/RRZc/uuiiP6OLrj+MLro/dNHFP1100T9GF90/LrroPxdd9D8AAABAdNEFQOmiC0BddBFA0kUXQEYXHUC66CJALrooQKKLLkAXXTRAiy46QAAAQEB00UVA6aJLQF50UUDSRVdARhddQLroYkAuumhAo4tuQBdddECMLnpAAACAQLrogkB00YVALrqIQOiii0Cii45AXXSRQBddlEDSRZdAiy6aQEYXnUAAAKBAuuiiQHTRpUAuuqhA6aKrQKOLrkBddLFAF120QNJFt0CLLrpARhe9QAAAwEC66MJAdNHFQC66yEDoostAo4vOQFx00UAXXdRA0UXXQIsu2kBGF91AAADgQLro4kB00eVAL7roQOii60Cji+5AXHTxQBdd9EDRRfdAjC76QEUX/UAAAABBXXQBQbroAkEXXQRBdNEFQdJFB0EvughBiy4KQeiiC0FGFw1Bo4sOQf//D0FddBFBuugSQRddFEF00RVB0UUXQS66GEGMLhpB6aIbQUUXHUGjix5BAAAgQQ==",
          "dtype": "f4"
         },
         "y": {
          "bdata": "Qn6EJHTTkCXZpIsmzwJyJ25DPyjKggspoq29KZNJciqQXhIr4DuoK4DYOCxe98IsHCBGLTaYwi2bPTkuw1OrLppKGi8Lj4cvWMroL3qlQzAALKEwjk4CMSMITzHqxKExfOX4MViuPDI9D40ymCjQMj2vFzNedlozJY+bM+Is2zME1hg0GhZTNG9rkDTO3cM06bEDNYqoLzVieWg1La+YNbgexzW/8QA2QuQlNl4QVDZ2tYY2SCCqNvGf1TbSYQU39aslN3S3TDe3s3s3Gf2ZN3WJuzdMXOM3TTcJOJbrJDhrZkU4AlVrODC7iziwTqU4M9nCOH7Z5DgO7QU53zgcOQyiNTk+gFI55jJzOdsPjDnO2aA5djG4OcJU0jnfhO85wAMIOqYSGjp0FS46TzREOveYXDp0b3c6WXKKOs6TmjpoNKw68Gy/OgFX1DpnDOs6A9QBO4QiDztOfx07XPgsOwybPTtKdk87VJdiO9sLdzsHcYY7yxOSO9l0njuimqs7Nou5O3RNyDur5tc7iFzoOw==",
          "dtype": "f4"
         }
        },
        {
         "line": {
          "color": "blue",
          "width": 1
         },
         "mode": "lines",
         "name": "$k=19$",
         "opacity": 0.5,
         "showlegend": false,
         "type": "scatter",
         "x": {
          "bdata": "AACAP+miiz/RRZc/uuiiP6OLrj+MLro/dNHFP1100T9GF90/LrroPxdd9D8AAABAdNEFQOmiC0BddBFA0kUXQEYXHUC66CJALrooQKKLLkAXXTRAiy46QAAAQEB00UVA6aJLQF50UUDSRVdARhddQLroYkAuumhAo4tuQBdddECMLnpAAACAQLrogkB00YVALrqIQOiii0Cii45AXXSRQBddlEDSRZdAiy6aQEYXnUAAAKBAuuiiQHTRpUAuuqhA6aKrQKOLrkBddLFAF120QNJFt0CLLrpARhe9QAAAwEC66MJAdNHFQC66yEDoostAo4vOQFx00UAXXdRA0UXXQIsu2kBGF91AAADgQLro4kB00eVAL7roQOii60Cji+5AXHTxQBdd9EDRRfdAjC76QEUX/UAAAABBXXQBQbroAkEXXQRBdNEFQdJFB0EvughBiy4KQeiiC0FGFw1Bo4sOQf//D0FddBFBuugSQRddFEF00RVB0UUXQS66GEGMLhpB6aIbQUUXHUGjix5BAAAgQQ==",
          "dtype": "f4"
         },
         "y": {
          "bdata": "fSVfIs8LhSPF+YokpLCBJRyiWyZo4iongdr2J0jvpiic5lQpk8oAKouVlCqRLiQrFm2uKzLEMiyYQ7Es+YEqLYZ1ny2vSREuSDSBLoKq4C5GPz8vPZyfL9LBAjAoiFIwmrmmMBEAAjFFx0cxV2OXMTNw4jFnPicynyF0MuotsDLTjvsyusExM7XCeDP6b6wzquzsM9leITSaA1o0/xuSNExbwjTPUwA14UUoNY8qWzV9zI01Dla2NYML6TVwDxQ2FhM7Ns8UazYv7ZI2E7m2Nv4e4jaZPgs3FbMqNwFSUDcZIH03YSKZN1+GuDfAdt03kWIEODOtHTjGHDs4oEBdOLZbgjh3F5k4CTOzOGcW0ThYM/M4TwINOTAIIzmg8js50w9YOVyydzmAmY05SnihOb6ntznVXdA54dLrORQhBTpP9RU6IIcoOu/4PDp0blM6Mw1sOhN+gzqxMZI6GjaiOn+gszpFh8Y6cADbOtgi8ToQgwQ70mARO/Q2HzsZES47tfs9O7sCTzvIMmE7VZd0Ow==",
          "dtype": "f4"
         }
        }
       ],
       "layout": {
        "template": {
         "data": {
          "bar": [
           {
            "error_x": {
             "color": "#2a3f5f"
            },
            "error_y": {
             "color": "#2a3f5f"
            },
            "marker": {
             "line": {
              "color": "white",
              "width": 0.5
             },
             "pattern": {
              "fillmode": "overlay",
              "size": 10,
              "solidity": 0.2
             }
            },
            "type": "bar"
           }
          ],
          "barpolar": [
           {
            "marker": {
             "line": {
              "color": "white",
              "width": 0.5
             },
             "pattern": {
              "fillmode": "overlay",
              "size": 10,
              "solidity": 0.2
             }
            },
            "type": "barpolar"
           }
          ],
          "carpet": [
           {
            "aaxis": {
             "endlinecolor": "#2a3f5f",
             "gridcolor": "#C8D4E3",
             "linecolor": "#C8D4E3",
             "minorgridcolor": "#C8D4E3",
             "startlinecolor": "#2a3f5f"
            },
            "baxis": {
             "endlinecolor": "#2a3f5f",
             "gridcolor": "#C8D4E3",
             "linecolor": "#C8D4E3",
             "minorgridcolor": "#C8D4E3",
             "startlinecolor": "#2a3f5f"
            },
            "type": "carpet"
           }
          ],
          "choropleth": [
           {
            "colorbar": {
             "outlinewidth": 0,
             "ticks": ""
            },
            "type": "choropleth"
           }
          ],
          "contour": [
           {
            "colorbar": {
             "outlinewidth": 0,
             "ticks": ""
            },
            "colorscale": [
             [
              0,
              "#0d0887"
             ],
             [
              0.1111111111111111,
              "#46039f"
             ],
             [
              0.2222222222222222,
              "#7201a8"
             ],
             [
              0.3333333333333333,
              "#9c179e"
             ],
             [
              0.4444444444444444,
              "#bd3786"
             ],
             [
              0.5555555555555556,
              "#d8576b"
             ],
             [
              0.6666666666666666,
              "#ed7953"
             ],
             [
              0.7777777777777778,
              "#fb9f3a"
             ],
             [
              0.8888888888888888,
              "#fdca26"
             ],
             [
              1,
              "#f0f921"
             ]
            ],
            "type": "contour"
           }
          ],
          "contourcarpet": [
           {
            "colorbar": {
             "outlinewidth": 0,
             "ticks": ""
            },
            "type": "contourcarpet"
           }
          ],
          "heatmap": [
           {
            "colorbar": {
             "outlinewidth": 0,
             "ticks": ""
            },
            "colorscale": [
             [
              0,
              "#0d0887"
             ],
             [
              0.1111111111111111,
              "#46039f"
             ],
             [
              0.2222222222222222,
              "#7201a8"
             ],
             [
              0.3333333333333333,
              "#9c179e"
             ],
             [
              0.4444444444444444,
              "#bd3786"
             ],
             [
              0.5555555555555556,
              "#d8576b"
             ],
             [
              0.6666666666666666,
              "#ed7953"
             ],
             [
              0.7777777777777778,
              "#fb9f3a"
             ],
             [
              0.8888888888888888,
              "#fdca26"
             ],
             [
              1,
              "#f0f921"
             ]
            ],
            "type": "heatmap"
           }
          ],
          "histogram": [
           {
            "marker": {
             "pattern": {
              "fillmode": "overlay",
              "size": 10,
              "solidity": 0.2
             }
            },
            "type": "histogram"
           }
          ],
          "histogram2d": [
           {
            "colorbar": {
             "outlinewidth": 0,
             "ticks": ""
            },
            "colorscale": [
             [
              0,
              "#0d0887"
             ],
             [
              0.1111111111111111,
              "#46039f"
             ],
             [
              0.2222222222222222,
              "#7201a8"
             ],
             [
              0.3333333333333333,
              "#9c179e"
             ],
             [
              0.4444444444444444,
              "#bd3786"
             ],
             [
              0.5555555555555556,
              "#d8576b"
             ],
             [
              0.6666666666666666,
              "#ed7953"
             ],
             [
              0.7777777777777778,
              "#fb9f3a"
             ],
             [
              0.8888888888888888,
              "#fdca26"
             ],
             [
              1,
              "#f0f921"
             ]
            ],
            "type": "histogram2d"
           }
          ],
          "histogram2dcontour": [
           {
            "colorbar": {
             "outlinewidth": 0,
             "ticks": ""
            },
            "colorscale": [
             [
              0,
              "#0d0887"
             ],
             [
              0.1111111111111111,
              "#46039f"
             ],
             [
              0.2222222222222222,
              "#7201a8"
             ],
             [
              0.3333333333333333,
              "#9c179e"
             ],
             [
              0.4444444444444444,
              "#bd3786"
             ],
             [
              0.5555555555555556,
              "#d8576b"
             ],
             [
              0.6666666666666666,
              "#ed7953"
             ],
             [
              0.7777777777777778,
              "#fb9f3a"
             ],
             [
              0.8888888888888888,
              "#fdca26"
             ],
             [
              1,
              "#f0f921"
             ]
            ],
            "type": "histogram2dcontour"
           }
          ],
          "mesh3d": [
           {
            "colorbar": {
             "outlinewidth": 0,
             "ticks": ""
            },
            "type": "mesh3d"
           }
          ],
          "parcoords": [
           {
            "line": {
             "colorbar": {
              "outlinewidth": 0,
              "ticks": ""
             }
            },
            "type": "parcoords"
           }
          ],
          "pie": [
           {
            "automargin": true,
            "type": "pie"
           }
          ],
          "scatter": [
           {
            "fillpattern": {
             "fillmode": "overlay",
             "size": 10,
             "solidity": 0.2
            },
            "type": "scatter"
           }
          ],
          "scatter3d": [
           {
            "line": {
             "colorbar": {
              "outlinewidth": 0,
              "ticks": ""
             }
            },
            "marker": {
             "colorbar": {
              "outlinewidth": 0,
              "ticks": ""
             }
            },
            "type": "scatter3d"
           }
          ],
          "scattercarpet": [
           {
            "marker": {
             "colorbar": {
              "outlinewidth": 0,
              "ticks": ""
             }
            },
            "type": "scattercarpet"
           }
          ],
          "scattergeo": [
           {
            "marker": {
             "colorbar": {
              "outlinewidth": 0,
              "ticks": ""
             }
            },
            "type": "scattergeo"
           }
          ],
          "scattergl": [
           {
            "marker": {
             "colorbar": {
              "outlinewidth": 0,
              "ticks": ""
             }
            },
            "type": "scattergl"
           }
          ],
          "scattermap": [
           {
            "marker": {
             "colorbar": {
              "outlinewidth": 0,
              "ticks": ""
             }
            },
            "type": "scattermap"
           }
          ],
          "scattermapbox": [
           {
            "marker": {
             "colorbar": {
              "outlinewidth": 0,
              "ticks": ""
             }
            },
            "type": "scattermapbox"
           }
          ],
          "scatterpolar": [
           {
            "marker": {
             "colorbar": {
              "outlinewidth": 0,
              "ticks": ""
             }
            },
            "type": "scatterpolar"
           }
          ],
          "scatterpolargl": [
           {
            "marker": {
             "colorbar": {
              "outlinewidth": 0,
              "ticks": ""
             }
            },
            "type": "scatterpolargl"
           }
          ],
          "scatterternary": [
           {
            "marker": {
             "colorbar": {
              "outlinewidth": 0,
              "ticks": ""
             }
            },
            "type": "scatterternary"
           }
          ],
          "surface": [
           {
            "colorbar": {
             "outlinewidth": 0,
             "ticks": ""
            },
            "colorscale": [
             [
              0,
              "#0d0887"
             ],
             [
              0.1111111111111111,
              "#46039f"
             ],
             [
              0.2222222222222222,
              "#7201a8"
             ],
             [
              0.3333333333333333,
              "#9c179e"
             ],
             [
              0.4444444444444444,
              "#bd3786"
             ],
             [
              0.5555555555555556,
              "#d8576b"
             ],
             [
              0.6666666666666666,
              "#ed7953"
             ],
             [
              0.7777777777777778,
              "#fb9f3a"
             ],
             [
              0.8888888888888888,
              "#fdca26"
             ],
             [
              1,
              "#f0f921"
             ]
            ],
            "type": "surface"
           }
          ],
          "table": [
           {
            "cells": {
             "fill": {
              "color": "#EBF0F8"
             },
             "line": {
              "color": "white"
             }
            },
            "header": {
             "fill": {
              "color": "#C8D4E3"
             },
             "line": {
              "color": "white"
             }
            },
            "type": "table"
           }
          ]
         },
         "layout": {
          "annotationdefaults": {
           "arrowcolor": "#2a3f5f",
           "arrowhead": 0,
           "arrowwidth": 1
          },
          "autotypenumbers": "strict",
          "coloraxis": {
           "colorbar": {
            "outlinewidth": 0,
            "ticks": ""
           }
          },
          "colorscale": {
           "diverging": [
            [
             0,
             "#8e0152"
            ],
            [
             0.1,
             "#c51b7d"
            ],
            [
             0.2,
             "#de77ae"
            ],
            [
             0.3,
             "#f1b6da"
            ],
            [
             0.4,
             "#fde0ef"
            ],
            [
             0.5,
             "#f7f7f7"
            ],
            [
             0.6,
             "#e6f5d0"
            ],
            [
             0.7,
             "#b8e186"
            ],
            [
             0.8,
             "#7fbc41"
            ],
            [
             0.9,
             "#4d9221"
            ],
            [
             1,
             "#276419"
            ]
           ],
           "sequential": [
            [
             0,
             "#0d0887"
            ],
            [
             0.1111111111111111,
             "#46039f"
            ],
            [
             0.2222222222222222,
             "#7201a8"
            ],
            [
             0.3333333333333333,
             "#9c179e"
            ],
            [
             0.4444444444444444,
             "#bd3786"
            ],
            [
             0.5555555555555556,
             "#d8576b"
            ],
            [
             0.6666666666666666,
             "#ed7953"
            ],
            [
             0.7777777777777778,
             "#fb9f3a"
            ],
            [
             0.8888888888888888,
             "#fdca26"
            ],
            [
             1,
             "#f0f921"
            ]
           ],
           "sequentialminus": [
            [
             0,
             "#0d0887"
            ],
            [
             0.1111111111111111,
             "#46039f"
            ],
            [
             0.2222222222222222,
             "#7201a8"
            ],
            [
             0.3333333333333333,
             "#9c179e"
            ],
            [
             0.4444444444444444,
             "#bd3786"
            ],
            [
             0.5555555555555556,
             "#d8576b"
            ],
            [
             0.6666666666666666,
             "#ed7953"
            ],
            [
             0.7777777777777778,
             "#fb9f3a"
            ],
            [
             0.8888888888888888,
             "#fdca26"
            ],
            [
             1,
             "#f0f921"
            ]
           ]
          },
          "colorway": [
           "#636efa",
           "#EF553B",
           "#00cc96",
           "#ab63fa",
           "#FFA15A",
           "#19d3f3",
           "#FF6692",
           "#B6E880",
           "#FF97FF",
           "#FECB52"
          ],
          "font": {
           "color": "#2a3f5f"
          },
          "geo": {
           "bgcolor": "white",
           "lakecolor": "white",
           "landcolor": "white",
           "showlakes": true,
           "showland": true,
           "subunitcolor": "#C8D4E3"
          },
          "hoverlabel": {
           "align": "left"
          },
          "hovermode": "closest",
          "mapbox": {
           "style": "light"
          },
          "paper_bgcolor": "white",
          "plot_bgcolor": "white",
          "polar": {
           "angularaxis": {
            "gridcolor": "#EBF0F8",
            "linecolor": "#EBF0F8",
            "ticks": ""
           },
           "bgcolor": "white",
           "radialaxis": {
            "gridcolor": "#EBF0F8",
            "linecolor": "#EBF0F8",
            "ticks": ""
           }
          },
          "scene": {
           "xaxis": {
            "backgroundcolor": "white",
            "gridcolor": "#DFE8F3",
            "gridwidth": 2,
            "linecolor": "#EBF0F8",
            "showbackground": true,
            "ticks": "",
            "zerolinecolor": "#EBF0F8"
           },
           "yaxis": {
            "backgroundcolor": "white",
            "gridcolor": "#DFE8F3",
            "gridwidth": 2,
            "linecolor": "#EBF0F8",
            "showbackground": true,
            "ticks": "",
            "zerolinecolor": "#EBF0F8"
           },
           "zaxis": {
            "backgroundcolor": "white",
            "gridcolor": "#DFE8F3",
            "gridwidth": 2,
            "linecolor": "#EBF0F8",
            "showbackground": true,
            "ticks": "",
            "zerolinecolor": "#EBF0F8"
           }
          },
          "shapedefaults": {
           "line": {
            "color": "#2a3f5f"
           }
          },
          "ternary": {
           "aaxis": {
            "gridcolor": "#DFE8F3",
            "linecolor": "#A2B1C6",
            "ticks": ""
           },
           "baxis": {
            "gridcolor": "#DFE8F3",
            "linecolor": "#A2B1C6",
            "ticks": ""
           },
           "bgcolor": "white",
           "caxis": {
            "gridcolor": "#DFE8F3",
            "linecolor": "#A2B1C6",
            "ticks": ""
           }
          },
          "title": {
           "x": 0.05
          },
          "xaxis": {
           "automargin": true,
           "gridcolor": "#EBF0F8",
           "linecolor": "#EBF0F8",
           "ticks": "",
           "title": {
            "standoff": 15
           },
           "zerolinecolor": "#EBF0F8",
           "zerolinewidth": 2
          },
          "yaxis": {
           "automargin": true,
           "gridcolor": "#EBF0F8",
           "linecolor": "#EBF0F8",
           "ticks": "",
           "title": {
            "standoff": 15
           },
           "zerolinecolor": "#EBF0F8",
           "zerolinewidth": 2
          }
         }
        },
        "title": {
         "text": "Likelihood of $\\lambda$ for different $k$"
        },
        "xaxis": {
         "title": {
          "text": "$\\lambda$"
         }
        },
        "yaxis": {
         "title": {
          "text": "Likelihood"
         }
        }
       }
      }
     },
     "metadata": {},
     "output_type": "display_data"
    }
   ],
   "source": [
    "likelihood = Poisson()\n",
    "\n",
    "lambdas = jnp.arange(1, 10)\n",
    "ks = jnp.arange(0, 20)\n",
    "\n",
    "# Plot probability of k for different lambdas\n",
    "fig1 = go.Figure()\n",
    "lambdas_plot = jnp.arange(1, 10)\n",
    "for lam in lambdas_plot:\n",
    "    fig1.add_trace(\n",
    "        go.Scatter(\n",
    "            x=ks,\n",
    "            y=jnp.exp(likelihood.logpdf(ks[..., None], [lam])),\n",
    "            mode=\"lines+markers\",\n",
    "            name=f\"$\\\\lambda={lam}$\",\n",
    "            line=dict(color=\"red\"),\n",
    "            marker=dict(size=6),\n",
    "            opacity=0.7,\n",
    "        )\n",
    "    )\n",
    "fig1.update_layout(\n",
    "    xaxis_title=\"$k$\",\n",
    "    yaxis_title=\"Probability\",\n",
    "    title=\"Probability of $k$ for different $\\\\lambda$\",\n",
    "    yaxis=dict(range=[0, 0.4]),\n",
    "    template=\"plotly_white\",\n",
    ")\n",
    "fig1.update_xaxes(dtick=5, minor=dict(dtick=1))\n",
    "\n",
    "fig1.show()\n",
    "\n",
    "# Plot likelihood of lambda for all k\n",
    "fig2 = go.Figure()\n",
    "lambdas = jnp.linspace(1, 10, 100)\n",
    "for k in ks:\n",
    "    fig2.add_trace(\n",
    "        go.Scatter(\n",
    "            x=lambdas,\n",
    "            y=jnp.exp(likelihood.logpdf([k], lambdas[..., None])),\n",
    "            mode=\"lines\",\n",
    "            name=f\"$k={k}$\",\n",
    "            line=dict(width=1, color=\"blue\"),\n",
    "            opacity=0.5,\n",
    "            showlegend=False if k > 5 else True,  # Only show legend for first few k\n",
    "        )\n",
    "    )\n",
    "fig2.update_layout(\n",
    "    xaxis_title=\"$\\\\lambda$\",\n",
    "    yaxis_title=\"Likelihood\",\n",
    "    title=\"Likelihood of $\\\\lambda$ for different $k$\",\n",
    "    template=\"plotly_white\",\n",
    ")\n",
    "fig2.show()"
   ]
  },
  {
   "cell_type": "markdown",
   "id": "a8a287d7",
   "metadata": {},
   "source": [
    "Consider the exponential family \n",
    "$$ \n",
    "p_w(x \\mid w) = h(x) \\exp \\left[ \\phi(x)^\\top w - \\log Z(w) \\right] \n",
    "$$\n",
    "\n",
    "Its conjugate prior is the exponential family \n",
    "$$\n",
    "p_\\alpha(w \\mid \\alpha, \\nu) = \\exp \\left[ \\left( \\begin{pmatrix} w \\\\ -\\log Z(w) \\end{pmatrix}^\\top \\begin{pmatrix} \\alpha \\\\ \\nu \\end{pmatrix} \\right) - \\log F(\\alpha, \\nu) \\right]\n",
    "$$\n",
    "\n",
    "with partition function / normalization constant (constructed as below so prior normalize to 1)\n",
    "$$\n",
    "F(\\alpha, \\nu) := \\int \\exp(\\alpha^\\top w - \\nu \\log Z(w)) \\, dw \n",
    "$$\n",
    "\n",
    "- $\\alpha$ and $\\nu$ are the natural parameters of the conjugate prior for the exponential family.\n",
    "    - $\\alpha$ is a vector (or scalar) that plays the same role for the prior as the sufficient statistics $\\phi(x)$ do for the likelihood.\n",
    "    - $\\nu$ is a scalar that acts like a \"prior sample size\" or strength, controlling how much weight the prior has relative to the data.\n",
    "\n",
    "Posterior is\n",
    "$$\n",
    "p_\\alpha(w \\mid \\alpha, \\nu) \\prod_{i=1}^n p_w(x_i \\mid w) \\propto p_\\alpha \\left( w \\mid \\alpha + \\sum \\phi(x_i), \\nu + n \\right) \n",
    "$$\n",
    "\n",
    "And the predictive posterior is\n",
    "\n",
    "$$\n",
    "p(x) = \\int p_w(x \\mid w) p_\\alpha(w \\mid \\alpha, \\nu) \\, dw = h(x) \\int e^{(\\phi(x) + \\alpha)^\\top w + (\\nu + 1) \\log Z(w) - \\log F(\\alpha, \\nu)} \\, dw\n",
    "$$\n",
    "\n",
    "$$\n",
    "= h(x) \\frac{F(\\phi(x) + \\alpha, \\nu + 1)}{F(\\alpha, \\nu)}\n",
    "$$"
   ]
  },
  {
   "cell_type": "markdown",
   "id": "3ef91672",
   "metadata": {},
   "source": [
    "The conjugate prior for\n",
    "\n",
    "$$\n",
    "p(x; \\lambda) = \\frac{1}{x!} \\exp(x \\log \\lambda - \\lambda)\n",
    "$$\n",
    "\n",
    "has the sufficient statistics $\\log \\lambda$, and log partition function $-\\lambda$, and thus is of the form\n",
    "\n",
    "$$\n",
    "p(\\lambda \\mid \\alpha, \\nu) = \\exp((\\log \\lambda)\\alpha - \\lambda\\nu - \\log F(\\alpha, \\nu)) = \\frac{\\lambda^\\alpha e^{-\\lambda\\nu}}{F(\\alpha, \\nu)}\n",
    "$$\n",
    "This is a Gamma distribution because its density has the same functional form:\n",
    "$$\n",
    "p(\\lambda \\mid \\alpha, \\nu) \\propto \\lambda^\\alpha e^{-\\lambda \\nu}\n",
    "$$\n",
    "which matches the standard Gamma distribution (with shape $\\alpha+1$ and rate $\\nu$):\n",
    "$$\n",
    "\\mathrm{Gamma}(\\lambda; \\alpha+1, \\nu) = \\frac{\\nu^{\\alpha+1}}{\\Gamma(\\alpha+1)} \\lambda^{\\alpha} e^{-\\lambda \\nu}\n",
    "$$\n",
    "So, the conjugate prior for the Poisson rate $\\lambda$ is a Gamma distribution, with the normalization constant\n",
    "\n",
    "$$\n",
    "F(\\alpha, \\nu) = \\frac{\\Gamma(\\alpha + 1)}{\\nu^{\\alpha+1}}\n",
    "$$\n"
   ]
  },
  {
   "cell_type": "markdown",
   "id": "5be0efcc",
   "metadata": {},
   "source": [
    "\n",
    "Bayesian inference on Poisson distributed data thus \"simply\" becomes:\n"
   ]
  },
  {
   "cell_type": "code",
   "execution_count": 72,
   "id": "18e30143",
   "metadata": {},
   "outputs": [
    {
     "data": {
      "application/vnd.plotly.v1+json": {
       "config": {
        "plotlyServerURL": "https://plot.ly"
       },
       "data": [
        {
         "line": {
          "color": "gray",
          "dash": "dash"
         },
         "mode": "lines",
         "name": "prior",
         "opacity": 0.9,
         "type": "scatter",
         "x": {
          "bdata": "zczMPc3MTD6ZmZk+zczMPgAAAD+ZmRk/NDMzP83MTD9mZmY///9/P8zMjD+ZmZk/Z2amPzMzsz8AAMA/zczMP5mZ2T9mZuY/MzPzP////z9mZgZAzMwMQDMzE0CZmRlAAAAgQGdmJkDNzCxAMzMzQJqZOUAAAEBAZmZGQM3MTEAzM1NAmZlZQAAAYEBmZmZAzMxsQDMzc0CZmXlA//9/QDMzg0BmZoZAmZmJQM3MjED//49AMzOTQGZmlkCZmZlAzcycQAAAoEAzM6NAZmamQJqZqUDMzKxAAACwQDMzs0BmZrZAmZm5QM3MvED//79AMzPDQGZmxkCZmclAzMzMQAAA0EAzM9NAZmbWQJqZ2UDMzNxAAADgQDMz40BmZuZAmZnpQM3M7ED//+9AMzPzQGZm9kCZmflAzMz8QAAAAEGZmQFBMzMDQc3MBEFnZgZBAAAIQZmZCUEzMwtBzcwMQWZmDkEAABBBmpkRQTMzE0HMzBRBZmYWQQAAGEGamRlBNDMbQczMHEFmZh5BAAAgQQ==",
          "dtype": "f4"
         },
         "y": {
          "bdata": "i0+5PRGtJz5RlGM+E0iJPphFmz5NmKg+5vmxPo8LuD7pWLs+slq8PhZ5uz7CDbk+rGW1Pr3CsD4tXas+xmSlPvwBnz7nVpg+GICRPlWVij5IqoM+DZ55PjAhbD7P8l4+OiNSPvi+RT5Pzzk+yVouPp5lIz4l8hg+EgEPPtCRBT5rRfk9gWLoPXJ02D3Oc8k9VVi7PSwZrj0craE9rgqWPU4oiz1o/IA99/puPWJEXT3Zwkw9h2Q9PVUYLz2vzSE9tnQVPUD+CT2bt/48Mf/qPBi52DyWzMc8MyK4POijqTzlPJw8ndmPPLBnhDzfq3M8XShgPLYmTjy8ij08GzouPDwcIDxEGhM84h4HPIss+DsN3OM79inRO4j2vztIJLA74JehO/E3lDsU7Yc7/EJ5O0mCZDvaclE7YvI/OwjhLzudISE7+JgTOzEuBzt3lPc6wq/iOhWHzzpU9r06TtytOnManzqElJE6njCFOuWtczoK4146RdhLOppoOjrkcSo619QbOrJ0Djr1NgI6wgbuOQ==",
          "dtype": "f4"
         }
        },
        {
         "line": {
          "color": "blue"
         },
         "mode": "lines",
         "name": "likelihood",
         "opacity": 0.9,
         "type": "scatter",
         "x": {
          "bdata": "zczMPc3MTD6ZmZk+zczMPgAAAD+ZmRk/NDMzP83MTD9mZmY///9/P8zMjD+ZmZk/Z2amPzMzsz8AAMA/zczMP5mZ2T9mZuY/MzPzP////z9mZgZAzMwMQDMzE0CZmRlAAAAgQGdmJkDNzCxAMzMzQJqZOUAAAEBAZmZGQM3MTEAzM1NAmZlZQAAAYEBmZmZAzMxsQDMzc0CZmXlA//9/QDMzg0BmZoZAmZmJQM3MjED//49AMzOTQGZmlkCZmZlAzcycQAAAoEAzM6NAZmamQJqZqUDMzKxAAACwQDMzs0BmZrZAmZm5QM3MvED//79AMzPDQGZmxkCZmclAzMzMQAAA0EAzM9NAZmbWQJqZ2UDMzNxAAADgQDMz40BmZuZAmZnpQM3M7ED//+9AMzPzQGZm9kCZmflAzMz8QAAAAEGZmQFBMzMDQc3MBEFnZgZBAAAIQZmZCUEzMwtBzcwMQWZmDkEAABBBmpkRQTMzE0HMzBRBZmYWQQAAGEGamRlBNDMbQczMHEFmZh5BAAAgQQ==",
          "dtype": "f4"
         },
         "y": {
          "bdata": "OO2hM3eEEjYrr3s3tepvOICfJTnGc7o5yFI2OibSoDrtHAM7MulIO4RjkjuDp8w7JigKPAMUNTxVV2c85IWQPK0SsTzrOdU8ttL8PHPSEz17tSo9EepCPSRDXD0UkHY9586IPcSblj3+k6Q9BJ2yPcScwD0Mes49qxzcPfRt6T2pWPY9q2QBPixXBz76+ww+NEwSPvRBFz5L2Bs+VwsgPgTYIz45PCc+rDYqPurGLD4z7S4+e6owPmAAMj4G8TI+En8zPq6tMz5HgDM+yvoyPkMhMj4I+DA+oYMvPq7ILT7eyys+DZIpPvAfJz5WeiQ+96UhPmKnHj5Dgxs+5D0YPojbFD5gYBE+Y9ANPlYvCj7FgAY+JcgCPlAR/j20ivY9FgLvPdh85z3G/989XY/YPcgv0T365Mk9QrLCPaKauz0aobQ99cetPYkRpz2ff6A95BOaPb7Pkz07tI09acKHPfL6gT2yvHg96dltPQFOYz3yGFk9dDpPPT2yRT2Ffzw9caEzPdcWKz2J3iI9DPcaPQ==",
          "dtype": "f4"
         }
        },
        {
         "line": {
          "color": "red"
         },
         "mode": "lines",
         "name": "posterior",
         "opacity": 0.9,
         "type": "scatter",
         "x": {
          "bdata": "zczMPc3MTD6ZmZk+zczMPgAAAD+ZmRk/NDMzP83MTD9mZmY///9/P8zMjD+ZmZk/Z2amPzMzsz8AAMA/zczMP5mZ2T9mZuY/MzPzP////z9mZgZAzMwMQDMzE0CZmRlAAAAgQGdmJkDNzCxAMzMzQJqZOUAAAEBAZmZGQM3MTEAzM1NAmZlZQAAAYEBmZmZAzMxsQDMzc0CZmXlA//9/QDMzg0BmZoZAmZmJQM3MjED//49AMzOTQGZmlkCZmZlAzcycQAAAoEAzM6NAZmamQJqZqUDMzKxAAACwQDMzs0BmZrZAmZm5QM3MvED//79AMzPDQGZmxkCZmclAzMzMQAAA0EAzM9NAZmbWQJqZ2UDMzNxAAADgQDMz40BmZuZAmZnpQM3M7ED//+9AMzPzQGZm9kCZmflAzMz8QAAAAEGZmQFBMzMDQc3MBEFnZgZBAAAIQZmZCUEzMwtBzcwMQWZmDkEAABBBmpkRQTMzE0HMzBRBZmYWQQAAGEGamRlBNDMbQczMHEFmZh5BAAAgQQ==",
          "dtype": "f4"
         },
         "y": {
          "bdata": "AkkcNDjp/zZmKZU4zYqrOczwhTowuSM7mgGpO2UoGjwS3388kBjFPOTvDj0MQEU9/oaCPaa0pj0Ces490P34PUalEj5VLik+yJc/Pm1kVT4ZIWo+82d9Pp5xhz4vJ48+YruVPpodmz6cRZ8+vTKiPgbroz5WeqQ+OvGjPhZkoj7/6Z8+ApycPiSUmD7O7JM+KMCOPpgniT45O4M+eiN6PjSAbT6osmA+7txTPiQdRz6AjTo+S0QuPjFUIj50zBY+BrkLPi0jAT6wIu49dw/bPRgRyT1EKLg9uFKoPZ2LmT0dzIs9RRd+PWyAZj0KvlA98Lg8PelYKj2QhRk9ICYKPUxE+DxTw948sJrHPC2dsjy1n588D3mOPLkEfjy1LWI8JChJPKqzMjxplB48tJIMPLD2+Dv4Pdw7YaTCOyfaqzu2lpc7i5eFO/ZAazuK9U47xOk1O/zDHzs3Mww75N31Olxr1zqMmbw6I/+kOkM+kDp/BXw6QQNcOl7wPzoNVic6vcoROsnh/TmQ6tw5+hzAOQ==",
          "dtype": "f4"
         }
        }
       ],
       "layout": {
        "legend": {
         "title": {
          "text": ""
         }
        },
        "template": {
         "data": {
          "bar": [
           {
            "error_x": {
             "color": "#2a3f5f"
            },
            "error_y": {
             "color": "#2a3f5f"
            },
            "marker": {
             "line": {
              "color": "white",
              "width": 0.5
             },
             "pattern": {
              "fillmode": "overlay",
              "size": 10,
              "solidity": 0.2
             }
            },
            "type": "bar"
           }
          ],
          "barpolar": [
           {
            "marker": {
             "line": {
              "color": "white",
              "width": 0.5
             },
             "pattern": {
              "fillmode": "overlay",
              "size": 10,
              "solidity": 0.2
             }
            },
            "type": "barpolar"
           }
          ],
          "carpet": [
           {
            "aaxis": {
             "endlinecolor": "#2a3f5f",
             "gridcolor": "#C8D4E3",
             "linecolor": "#C8D4E3",
             "minorgridcolor": "#C8D4E3",
             "startlinecolor": "#2a3f5f"
            },
            "baxis": {
             "endlinecolor": "#2a3f5f",
             "gridcolor": "#C8D4E3",
             "linecolor": "#C8D4E3",
             "minorgridcolor": "#C8D4E3",
             "startlinecolor": "#2a3f5f"
            },
            "type": "carpet"
           }
          ],
          "choropleth": [
           {
            "colorbar": {
             "outlinewidth": 0,
             "ticks": ""
            },
            "type": "choropleth"
           }
          ],
          "contour": [
           {
            "colorbar": {
             "outlinewidth": 0,
             "ticks": ""
            },
            "colorscale": [
             [
              0,
              "#0d0887"
             ],
             [
              0.1111111111111111,
              "#46039f"
             ],
             [
              0.2222222222222222,
              "#7201a8"
             ],
             [
              0.3333333333333333,
              "#9c179e"
             ],
             [
              0.4444444444444444,
              "#bd3786"
             ],
             [
              0.5555555555555556,
              "#d8576b"
             ],
             [
              0.6666666666666666,
              "#ed7953"
             ],
             [
              0.7777777777777778,
              "#fb9f3a"
             ],
             [
              0.8888888888888888,
              "#fdca26"
             ],
             [
              1,
              "#f0f921"
             ]
            ],
            "type": "contour"
           }
          ],
          "contourcarpet": [
           {
            "colorbar": {
             "outlinewidth": 0,
             "ticks": ""
            },
            "type": "contourcarpet"
           }
          ],
          "heatmap": [
           {
            "colorbar": {
             "outlinewidth": 0,
             "ticks": ""
            },
            "colorscale": [
             [
              0,
              "#0d0887"
             ],
             [
              0.1111111111111111,
              "#46039f"
             ],
             [
              0.2222222222222222,
              "#7201a8"
             ],
             [
              0.3333333333333333,
              "#9c179e"
             ],
             [
              0.4444444444444444,
              "#bd3786"
             ],
             [
              0.5555555555555556,
              "#d8576b"
             ],
             [
              0.6666666666666666,
              "#ed7953"
             ],
             [
              0.7777777777777778,
              "#fb9f3a"
             ],
             [
              0.8888888888888888,
              "#fdca26"
             ],
             [
              1,
              "#f0f921"
             ]
            ],
            "type": "heatmap"
           }
          ],
          "histogram": [
           {
            "marker": {
             "pattern": {
              "fillmode": "overlay",
              "size": 10,
              "solidity": 0.2
             }
            },
            "type": "histogram"
           }
          ],
          "histogram2d": [
           {
            "colorbar": {
             "outlinewidth": 0,
             "ticks": ""
            },
            "colorscale": [
             [
              0,
              "#0d0887"
             ],
             [
              0.1111111111111111,
              "#46039f"
             ],
             [
              0.2222222222222222,
              "#7201a8"
             ],
             [
              0.3333333333333333,
              "#9c179e"
             ],
             [
              0.4444444444444444,
              "#bd3786"
             ],
             [
              0.5555555555555556,
              "#d8576b"
             ],
             [
              0.6666666666666666,
              "#ed7953"
             ],
             [
              0.7777777777777778,
              "#fb9f3a"
             ],
             [
              0.8888888888888888,
              "#fdca26"
             ],
             [
              1,
              "#f0f921"
             ]
            ],
            "type": "histogram2d"
           }
          ],
          "histogram2dcontour": [
           {
            "colorbar": {
             "outlinewidth": 0,
             "ticks": ""
            },
            "colorscale": [
             [
              0,
              "#0d0887"
             ],
             [
              0.1111111111111111,
              "#46039f"
             ],
             [
              0.2222222222222222,
              "#7201a8"
             ],
             [
              0.3333333333333333,
              "#9c179e"
             ],
             [
              0.4444444444444444,
              "#bd3786"
             ],
             [
              0.5555555555555556,
              "#d8576b"
             ],
             [
              0.6666666666666666,
              "#ed7953"
             ],
             [
              0.7777777777777778,
              "#fb9f3a"
             ],
             [
              0.8888888888888888,
              "#fdca26"
             ],
             [
              1,
              "#f0f921"
             ]
            ],
            "type": "histogram2dcontour"
           }
          ],
          "mesh3d": [
           {
            "colorbar": {
             "outlinewidth": 0,
             "ticks": ""
            },
            "type": "mesh3d"
           }
          ],
          "parcoords": [
           {
            "line": {
             "colorbar": {
              "outlinewidth": 0,
              "ticks": ""
             }
            },
            "type": "parcoords"
           }
          ],
          "pie": [
           {
            "automargin": true,
            "type": "pie"
           }
          ],
          "scatter": [
           {
            "fillpattern": {
             "fillmode": "overlay",
             "size": 10,
             "solidity": 0.2
            },
            "type": "scatter"
           }
          ],
          "scatter3d": [
           {
            "line": {
             "colorbar": {
              "outlinewidth": 0,
              "ticks": ""
             }
            },
            "marker": {
             "colorbar": {
              "outlinewidth": 0,
              "ticks": ""
             }
            },
            "type": "scatter3d"
           }
          ],
          "scattercarpet": [
           {
            "marker": {
             "colorbar": {
              "outlinewidth": 0,
              "ticks": ""
             }
            },
            "type": "scattercarpet"
           }
          ],
          "scattergeo": [
           {
            "marker": {
             "colorbar": {
              "outlinewidth": 0,
              "ticks": ""
             }
            },
            "type": "scattergeo"
           }
          ],
          "scattergl": [
           {
            "marker": {
             "colorbar": {
              "outlinewidth": 0,
              "ticks": ""
             }
            },
            "type": "scattergl"
           }
          ],
          "scattermap": [
           {
            "marker": {
             "colorbar": {
              "outlinewidth": 0,
              "ticks": ""
             }
            },
            "type": "scattermap"
           }
          ],
          "scattermapbox": [
           {
            "marker": {
             "colorbar": {
              "outlinewidth": 0,
              "ticks": ""
             }
            },
            "type": "scattermapbox"
           }
          ],
          "scatterpolar": [
           {
            "marker": {
             "colorbar": {
              "outlinewidth": 0,
              "ticks": ""
             }
            },
            "type": "scatterpolar"
           }
          ],
          "scatterpolargl": [
           {
            "marker": {
             "colorbar": {
              "outlinewidth": 0,
              "ticks": ""
             }
            },
            "type": "scatterpolargl"
           }
          ],
          "scatterternary": [
           {
            "marker": {
             "colorbar": {
              "outlinewidth": 0,
              "ticks": ""
             }
            },
            "type": "scatterternary"
           }
          ],
          "surface": [
           {
            "colorbar": {
             "outlinewidth": 0,
             "ticks": ""
            },
            "colorscale": [
             [
              0,
              "#0d0887"
             ],
             [
              0.1111111111111111,
              "#46039f"
             ],
             [
              0.2222222222222222,
              "#7201a8"
             ],
             [
              0.3333333333333333,
              "#9c179e"
             ],
             [
              0.4444444444444444,
              "#bd3786"
             ],
             [
              0.5555555555555556,
              "#d8576b"
             ],
             [
              0.6666666666666666,
              "#ed7953"
             ],
             [
              0.7777777777777778,
              "#fb9f3a"
             ],
             [
              0.8888888888888888,
              "#fdca26"
             ],
             [
              1,
              "#f0f921"
             ]
            ],
            "type": "surface"
           }
          ],
          "table": [
           {
            "cells": {
             "fill": {
              "color": "#EBF0F8"
             },
             "line": {
              "color": "white"
             }
            },
            "header": {
             "fill": {
              "color": "#C8D4E3"
             },
             "line": {
              "color": "white"
             }
            },
            "type": "table"
           }
          ]
         },
         "layout": {
          "annotationdefaults": {
           "arrowcolor": "#2a3f5f",
           "arrowhead": 0,
           "arrowwidth": 1
          },
          "autotypenumbers": "strict",
          "coloraxis": {
           "colorbar": {
            "outlinewidth": 0,
            "ticks": ""
           }
          },
          "colorscale": {
           "diverging": [
            [
             0,
             "#8e0152"
            ],
            [
             0.1,
             "#c51b7d"
            ],
            [
             0.2,
             "#de77ae"
            ],
            [
             0.3,
             "#f1b6da"
            ],
            [
             0.4,
             "#fde0ef"
            ],
            [
             0.5,
             "#f7f7f7"
            ],
            [
             0.6,
             "#e6f5d0"
            ],
            [
             0.7,
             "#b8e186"
            ],
            [
             0.8,
             "#7fbc41"
            ],
            [
             0.9,
             "#4d9221"
            ],
            [
             1,
             "#276419"
            ]
           ],
           "sequential": [
            [
             0,
             "#0d0887"
            ],
            [
             0.1111111111111111,
             "#46039f"
            ],
            [
             0.2222222222222222,
             "#7201a8"
            ],
            [
             0.3333333333333333,
             "#9c179e"
            ],
            [
             0.4444444444444444,
             "#bd3786"
            ],
            [
             0.5555555555555556,
             "#d8576b"
            ],
            [
             0.6666666666666666,
             "#ed7953"
            ],
            [
             0.7777777777777778,
             "#fb9f3a"
            ],
            [
             0.8888888888888888,
             "#fdca26"
            ],
            [
             1,
             "#f0f921"
            ]
           ],
           "sequentialminus": [
            [
             0,
             "#0d0887"
            ],
            [
             0.1111111111111111,
             "#46039f"
            ],
            [
             0.2222222222222222,
             "#7201a8"
            ],
            [
             0.3333333333333333,
             "#9c179e"
            ],
            [
             0.4444444444444444,
             "#bd3786"
            ],
            [
             0.5555555555555556,
             "#d8576b"
            ],
            [
             0.6666666666666666,
             "#ed7953"
            ],
            [
             0.7777777777777778,
             "#fb9f3a"
            ],
            [
             0.8888888888888888,
             "#fdca26"
            ],
            [
             1,
             "#f0f921"
            ]
           ]
          },
          "colorway": [
           "#636efa",
           "#EF553B",
           "#00cc96",
           "#ab63fa",
           "#FFA15A",
           "#19d3f3",
           "#FF6692",
           "#B6E880",
           "#FF97FF",
           "#FECB52"
          ],
          "font": {
           "color": "#2a3f5f"
          },
          "geo": {
           "bgcolor": "white",
           "lakecolor": "white",
           "landcolor": "white",
           "showlakes": true,
           "showland": true,
           "subunitcolor": "#C8D4E3"
          },
          "hoverlabel": {
           "align": "left"
          },
          "hovermode": "closest",
          "mapbox": {
           "style": "light"
          },
          "paper_bgcolor": "white",
          "plot_bgcolor": "white",
          "polar": {
           "angularaxis": {
            "gridcolor": "#EBF0F8",
            "linecolor": "#EBF0F8",
            "ticks": ""
           },
           "bgcolor": "white",
           "radialaxis": {
            "gridcolor": "#EBF0F8",
            "linecolor": "#EBF0F8",
            "ticks": ""
           }
          },
          "scene": {
           "xaxis": {
            "backgroundcolor": "white",
            "gridcolor": "#DFE8F3",
            "gridwidth": 2,
            "linecolor": "#EBF0F8",
            "showbackground": true,
            "ticks": "",
            "zerolinecolor": "#EBF0F8"
           },
           "yaxis": {
            "backgroundcolor": "white",
            "gridcolor": "#DFE8F3",
            "gridwidth": 2,
            "linecolor": "#EBF0F8",
            "showbackground": true,
            "ticks": "",
            "zerolinecolor": "#EBF0F8"
           },
           "zaxis": {
            "backgroundcolor": "white",
            "gridcolor": "#DFE8F3",
            "gridwidth": 2,
            "linecolor": "#EBF0F8",
            "showbackground": true,
            "ticks": "",
            "zerolinecolor": "#EBF0F8"
           }
          },
          "shapedefaults": {
           "line": {
            "color": "#2a3f5f"
           }
          },
          "ternary": {
           "aaxis": {
            "gridcolor": "#DFE8F3",
            "linecolor": "#A2B1C6",
            "ticks": ""
           },
           "baxis": {
            "gridcolor": "#DFE8F3",
            "linecolor": "#A2B1C6",
            "ticks": ""
           },
           "bgcolor": "white",
           "caxis": {
            "gridcolor": "#DFE8F3",
            "linecolor": "#A2B1C6",
            "ticks": ""
           }
          },
          "title": {
           "x": 0.05
          },
          "xaxis": {
           "automargin": true,
           "gridcolor": "#EBF0F8",
           "linecolor": "#EBF0F8",
           "ticks": "",
           "title": {
            "standoff": 15
           },
           "zerolinecolor": "#EBF0F8",
           "zerolinewidth": 2
          },
          "yaxis": {
           "automargin": true,
           "gridcolor": "#EBF0F8",
           "linecolor": "#EBF0F8",
           "ticks": "",
           "title": {
            "standoff": 15
           },
           "zerolinecolor": "#EBF0F8",
           "zerolinewidth": 2
          }
         }
        },
        "xaxis": {
         "title": {
          "text": "$\\lambda$"
         }
        },
        "yaxis": {
         "title": {
          "text": "Density"
         }
        }
       }
      }
     },
     "metadata": {},
     "output_type": "display_data"
    }
   ],
   "source": [
    "likelihood = Poisson()  # identify the model\n",
    "prior = (\n",
    "    likelihood.conjugate_prior()\n",
    ")  # the model induces the conjugate prior (if we know its partition function)\n",
    "prior_natural_parameters = [1, 1]  # just pick one particular prior\n",
    "data = [5]  # let's say we've seen this many events in a certain time interval\n",
    "posterior = prior  # conjugate inference! So easy!\n",
    "# we just need to update the _parameters_. The likelihood tells us how to do that:\n",
    "posterior_natural_parameters = likelihood.posterior_parameters(\n",
    "    prior_natural_parameters, data\n",
    ")\n",
    "\n",
    "lambdas = jnp.linspace(0.1, 10, 100)\n",
    "\n",
    "fig = go.Figure()\n",
    "fig.add_trace(\n",
    "    go.Scatter(\n",
    "        x=lambdas,\n",
    "        y=jnp.exp(prior.logpdf(lambdas[..., None], prior_natural_parameters)),\n",
    "        mode=\"lines\",\n",
    "        line=dict(dash=\"dash\", color=\"gray\"),\n",
    "        name=\"prior\",\n",
    "        opacity=0.9,\n",
    "    )\n",
    ")\n",
    "fig.add_trace(\n",
    "    go.Scatter(\n",
    "        x=lambdas,\n",
    "        y=jnp.exp(likelihood.logpdf(data, lambdas[..., None])),\n",
    "        mode=\"lines\",\n",
    "        line=dict(color=\"blue\"),\n",
    "        name=\"likelihood\",\n",
    "        opacity=0.9,\n",
    "    )\n",
    ")\n",
    "fig.add_trace(\n",
    "    go.Scatter(\n",
    "        x=lambdas,\n",
    "        y=jnp.exp(posterior.logpdf(lambdas[..., None], posterior_natural_parameters)),\n",
    "        mode=\"lines\",\n",
    "        line=dict(color=\"red\"),\n",
    "        name=\"posterior\",\n",
    "        opacity=0.9,\n",
    "    )\n",
    ")\n",
    "fig.update_layout(\n",
    "    xaxis_title=\"$\\\\lambda$\",\n",
    "    yaxis_title=\"Density\",\n",
    "    template=\"plotly_white\",\n",
    "    legend=dict(title=\"\"),\n",
    ")\n",
    "fig.show()"
   ]
  }
 ],
 "metadata": {
  "kernelspec": {
   "display_name": ".venv",
   "language": "python",
   "name": "python3"
  },
  "language_info": {
   "codemirror_mode": {
    "name": "ipython",
    "version": 3
   },
   "file_extension": ".py",
   "mimetype": "text/x-python",
   "name": "python",
   "nbconvert_exporter": "python",
   "pygments_lexer": "ipython3",
   "version": "3.12.8"
  }
 },
 "nbformat": 4,
 "nbformat_minor": 5
}
