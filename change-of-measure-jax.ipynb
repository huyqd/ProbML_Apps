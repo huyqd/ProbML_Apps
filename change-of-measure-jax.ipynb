{
 "cells": [
  {
   "cell_type": "markdown",
   "id": "c5551446",
   "metadata": {},
   "source": [
    "# Change of Measure Theorem: Visualization with JAX\n",
    "\n",
    "This notebook demonstrates the change of measure theorem for probability densities under monotonic transformations, using JAX for computation and Plotly for visualization. We use a sum of sigmoid functions to create a strictly increasing function, transform a standard normal density, and visualize the effect of the change of variable formula."
   ]
  },
  {
   "cell_type": "markdown",
   "id": "1c0647dd",
   "metadata": {},
   "source": [
    "## 1. Import Required Libraries\n",
    "\n",
    "Import jax, jax.numpy, numpy, scipy.stats, and plotly for computation and visualization."
   ]
  },
  {
   "cell_type": "code",
   "execution_count": 142,
   "id": "04bc219c",
   "metadata": {},
   "outputs": [],
   "source": [
    "import jax\n",
    "import jax.numpy as jnp\n",
    "import numpy as np\n",
    "from jax.scipy.stats import norm\n",
    "from scipy.interpolate import interp1d\n",
    "import plotly.graph_objects as go\n",
    "import plotly.io as pio\n",
    "\n",
    "pio.templates.default = \"plotly_white\""
   ]
  },
  {
   "cell_type": "markdown",
   "id": "9a0ed4fa",
   "metadata": {},
   "source": [
    "## 2. Define Sigmoid Function and Its Derivative in JAX\n",
    "\n",
    "Implement the sigmoid function and its derivative using JAX arrays and automatic differentiation (jax.grad)."
   ]
  },
  {
   "cell_type": "code",
   "execution_count": 127,
   "id": "25adde6e",
   "metadata": {},
   "outputs": [],
   "source": [
    "def sigmoid(loc: float, gain: float):\n",
    "    return jax.value_and_grad(lambda a: 1.0 / (1.0 + jnp.exp(-(a - loc) / gain)))"
   ]
  },
  {
   "cell_type": "markdown",
   "id": "567aba8b",
   "metadata": {},
   "source": [
    "## 3. Set Parameters for Sigmoid Features\n",
    "\n",
    "Define the locations and gains for three sigmoid functions as JAX arrays, and create the domain for x."
   ]
  },
  {
   "cell_type": "code",
   "execution_count": 96,
   "id": "4f5a24d5",
   "metadata": {},
   "outputs": [],
   "source": [
    "# Parameters for three sigmoid features\n",
    "locs = jnp.array([-1.0, 0.0, 1.0])\n",
    "gains = jnp.array([1.0, 1.0, 1.0])\n",
    "\n",
    "# Domain for x\n",
    "N = 400\n",
    "x = jnp.linspace(-3, 3, N, dtype=jnp.float32)"
   ]
  },
  {
   "cell_type": "markdown",
   "id": "8ee503be",
   "metadata": {},
   "source": [
    "## 4. Compute and Visualize the Monotonic Function\n",
    "\n",
    "Sum the three sigmoid functions to create a strictly increasing function $f(x)$ and plot the individual sigmoids and their derivatives using Plotly."
   ]
  },
  {
   "cell_type": "code",
   "execution_count": 128,
   "id": "ecc03e91",
   "metadata": {},
   "outputs": [],
   "source": [
    "Fs = jnp.asarray(\n",
    "    [jax.vmap(sigmoid(l, g))(x) for (l, g) in zip(locs, gains)]\n",
    ")  # [3, 2, N]\n",
    "F = Fs.sum(axis=0)\n",
    "# unpack\n",
    "f = F[0, :]\n",
    "df = F[1, :]"
   ]
  },
  {
   "cell_type": "code",
   "execution_count": 129,
   "id": "cfe0ef52",
   "metadata": {},
   "outputs": [
    {
     "data": {
      "application/vnd.plotly.v1+json": {
       "config": {
        "plotlyServerURL": "https://plot.ly"
       },
       "data": [
        {
         "line": {
          "color": "gray",
          "width": 1
         },
         "mode": "lines",
         "name": "sigmoid",
         "showlegend": true,
         "type": "scatter",
         "x": {
          "bdata": "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",
          "dtype": "f4"
         },
         "y": {
          "bdata": "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",
          "dtype": "f4"
         }
        },
        {
         "line": {
          "color": "gray",
          "dash": "dash",
          "width": 1
         },
         "mode": "lines",
         "name": "sigmoid derivative",
         "showlegend": true,
         "type": "scatter",
         "x": {
          "bdata": "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",
          "dtype": "f4"
         },
         "y": {
          "bdata": "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",
          "dtype": "f4"
         }
        },
        {
         "line": {
          "color": "gray",
          "width": 1
         },
         "mode": "lines",
         "showlegend": false,
         "type": "scatter",
         "x": {
          "bdata": "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",
          "dtype": "f4"
         },
         "y": {
          "bdata": "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",
          "dtype": "f4"
         }
        },
        {
         "line": {
          "color": "gray",
          "dash": "dash",
          "width": 1
         },
         "mode": "lines",
         "showlegend": false,
         "type": "scatter",
         "x": {
          "bdata": "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",
          "dtype": "f4"
         },
         "y": {
          "bdata": "KQs5PdqTOz1uJD4977xAPXZdQz0OBkY9x7ZIPblvSz3rME49c/pQPWLMUz3EplY9qolZPSV1XD1CaV89FWZiPa5rZT0Semg9VpFrPZGxbj3A2nE9+gx1PVFIeD3HjHs9ctp+Pa4YgT3IyII9jX2EPQQ3hj009Yc9HriJPct/iz0+TI09eh2PPYfzkD1qzpI9Ia6UPbaSlj0pfJg9fmqaPbddnD3cVZ496VKgPeBUoj3IW6Q9nWemPWB4qD0Xjqo9vKisPVLIrj3Y7LA9ShazPa5EtT37d7c9M7C5PVHtuz1VL749NnbAPfPBwj2IEsU98GfHPSTCyT0eIcw92ITOPUrt0D1wWtM9PczVPapC2D2wvdo9Pj3dPU7B3z3VSeI9yNbkPRdo5z22/ek9lpfsPas17z3k1/E9M370PYgo9z3N1vk98oj8PeU+/z1J/AA+8loCPmW7Az6THQU+dIEGPvvmBz4cTgk+zLYKPvwgDD6gjA0+qvkOPgtoED611xE+mkgTPqq6FD7VLRY+C6IXPjwXGT5WjRo+SAQcPgJ8HT5v9B4+fm0gPhznIT41YSM+tdskPodWJj6c0Sc+1UwpPiTIKj5xQyw+pb4tPq85Lz5vtDA+1i4yPseoMz4rIjU+6po2PusSOD4Yijk+VQA7PoZ1PD6Z6T0+aVw/PuXNQD7tPUI+ZqxDPjkZRT5FhEY+c+1HPqRUST68uUo+oRxMPjV9TT5a204++DZQPu2PUT4f5lI+cDlUPsKJVT761lY++iBYPqVnWT7dqlo+iOpbPoQmXT64Xl4+A5NfPk7DYD5472E+ZRdjPvk6ZD4aWmU+qXRmPoyKZz6nm2g+36dpPhuvaj48sWs+Ka5sPs2lbT4ImG4+xIRvPuprcD5eTXE+CSlyPtf+cj6wznM+eJh0PiRcdT6RGXY+uNB2Pn2Bdz7QK3g+m894PtBseT5bA3o+KZN6Pi4cez5Xnns+mBl8PuWNfD4u+3w+Z2F9PoHAfT52GH4+OWl+Pseyfj4O9X4+CjB/Prljfz4QkH8+C7V/PqLSfz7X6H8+q/d/PhT/fz4U/38+qvd/Ptrofz6i0n8+CrV/Pg+Qfz64Y38+DDB/Pgv1fj7Fsn4+OWl+PnYYfj6BwH0+ZWF9Pi37fD7ljXw+mhl8Plaeez4tHHs+KZN6PlgDej7ObHk+nc94PtAreD59gXc+udB2PpMZdj4iXHU+eph0PrHOcz7Z/nI+DClyPl5NcT7ra3A+xIRvPgiYbj7MpW0+K65sPjuxaz4br2o+4KdpPqmbaD6Limc+qXRmPhxaZT76OmQ+ZhdjPnjvYT5Nw2A+ApNfPrheXj6EJl0+h+pbPt6qWj6mZ1k++SBYPvzWVj7CiVU+bzlUPh7mUj7tj1E+9zZQPlzbTj40fU0+oBxMPr25Sj6mVEk+cu1HPkeERj44GUU+Z6xDPus9Qj7mzUA+a1w/PpjpPT6JdTw+VAA7PhiKOT7rEjg+6po2PiciNT7EqDM+1S4yPnC0MD6vOS8+p74tPm9DLD4jyCo+1EwpPprRJz6HViY+tNskPjVhIz4d5yE+fm0gPm/0Hj4CfB0+SAQcPlaNGj48Fxk+C6IXPtQtFj6ouhQ+mkgTPrXXET4KaBA+qfkOPqCMDT79IAw+zLYKPhtOCT755gc+dYEGPpMdBT5kuwM+8loCPkn8AD7lPv898Yj8Pc3W+T2HKPc9M370PebX8T2sNe89lpfsPbP96T0WaOc9xNbkPdVJ4j1Pwd89Pj3dPa292j2oQtg9PczVPW9a0z1M7dA92YTOPRwhzD0gwsk97WfHPYgSxT3ywcI9NXbAPVIvvj1Q7bs9MrC5Pfp3tz2tRLU9TBazPdfssD1SyK49u6isPRSOqj1geKg9mmemPcdbpD3hVKI96VKgPd1Vnj25XZw9f2qaPSl8mD20kpY9H66UPWfOkj2H85A9eh2PPTxMjT3If4s9HLiJPTP1hz0EN4Y9jX2EPcfIgj2uGIE9c9p+PcWMez1OSHg9+gx1PbracT2KsW49WZFrPRR6aD2ua2U9GWZiPUJpXz0kdVw9qIlZPcGmVj1fzFM9cvpQPe0wTj24b0s9xrZIPQwGRj11XUM98LxAPWwkPj3bkzs9KQs5PQ==",
          "dtype": "f4"
         }
        },
        {
         "line": {
          "color": "gray",
          "width": 1
         },
         "mode": "lines",
         "showlegend": false,
         "type": "scatter",
         "x": {
          "bdata": "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",
          "dtype": "f4"
         },
         "y": {
          "bdata": "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",
          "dtype": "f4"
         }
        },
        {
         "line": {
          "color": "gray",
          "dash": "dash",
          "width": 1
         },
         "mode": "lines",
         "showlegend": false,
         "type": "scatter",
         "x": {
          "bdata": "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",
          "dtype": "f4"
         },
         "y": {
          "bdata": "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",
          "dtype": "f4"
         }
        },
        {
         "line": {
          "color": "red",
          "width": 2
         },
         "mode": "lines",
         "name": "$f(x)$ (sum of sigmoids)",
         "type": "scatter",
         "x": {
          "bdata": "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",
          "dtype": "f4"
         },
         "y": {
          "bdata": "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",
          "dtype": "f4"
         }
        },
        {
         "line": {
          "color": "red",
          "dash": "dash",
          "width": 2
         },
         "mode": "lines",
         "name": "$df/dx$",
         "type": "scatter",
         "x": {
          "bdata": "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",
          "dtype": "f4"
         },
         "y": {
          "bdata": "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",
          "dtype": "f4"
         }
        }
       ],
       "layout": {
        "height": 500,
        "legend": {
         "itemsizing": "constant"
        },
        "template": {
         "data": {
          "bar": [
           {
            "error_x": {
             "color": "#2a3f5f"
            },
            "error_y": {
             "color": "#2a3f5f"
            },
            "marker": {
             "line": {
              "color": "white",
              "width": 0.5
             },
             "pattern": {
              "fillmode": "overlay",
              "size": 10,
              "solidity": 0.2
             }
            },
            "type": "bar"
           }
          ],
          "barpolar": [
           {
            "marker": {
             "line": {
              "color": "white",
              "width": 0.5
             },
             "pattern": {
              "fillmode": "overlay",
              "size": 10,
              "solidity": 0.2
             }
            },
            "type": "barpolar"
           }
          ],
          "carpet": [
           {
            "aaxis": {
             "endlinecolor": "#2a3f5f",
             "gridcolor": "#C8D4E3",
             "linecolor": "#C8D4E3",
             "minorgridcolor": "#C8D4E3",
             "startlinecolor": "#2a3f5f"
            },
            "baxis": {
             "endlinecolor": "#2a3f5f",
             "gridcolor": "#C8D4E3",
             "linecolor": "#C8D4E3",
             "minorgridcolor": "#C8D4E3",
             "startlinecolor": "#2a3f5f"
            },
            "type": "carpet"
           }
          ],
          "choropleth": [
           {
            "colorbar": {
             "outlinewidth": 0,
             "ticks": ""
            },
            "type": "choropleth"
           }
          ],
          "contour": [
           {
            "colorbar": {
             "outlinewidth": 0,
             "ticks": ""
            },
            "colorscale": [
             [
              0,
              "#0d0887"
             ],
             [
              0.1111111111111111,
              "#46039f"
             ],
             [
              0.2222222222222222,
              "#7201a8"
             ],
             [
              0.3333333333333333,
              "#9c179e"
             ],
             [
              0.4444444444444444,
              "#bd3786"
             ],
             [
              0.5555555555555556,
              "#d8576b"
             ],
             [
              0.6666666666666666,
              "#ed7953"
             ],
             [
              0.7777777777777778,
              "#fb9f3a"
             ],
             [
              0.8888888888888888,
              "#fdca26"
             ],
             [
              1,
              "#f0f921"
             ]
            ],
            "type": "contour"
           }
          ],
          "contourcarpet": [
           {
            "colorbar": {
             "outlinewidth": 0,
             "ticks": ""
            },
            "type": "contourcarpet"
           }
          ],
          "heatmap": [
           {
            "colorbar": {
             "outlinewidth": 0,
             "ticks": ""
            },
            "colorscale": [
             [
              0,
              "#0d0887"
             ],
             [
              0.1111111111111111,
              "#46039f"
             ],
             [
              0.2222222222222222,
              "#7201a8"
             ],
             [
              0.3333333333333333,
              "#9c179e"
             ],
             [
              0.4444444444444444,
              "#bd3786"
             ],
             [
              0.5555555555555556,
              "#d8576b"
             ],
             [
              0.6666666666666666,
              "#ed7953"
             ],
             [
              0.7777777777777778,
              "#fb9f3a"
             ],
             [
              0.8888888888888888,
              "#fdca26"
             ],
             [
              1,
              "#f0f921"
             ]
            ],
            "type": "heatmap"
           }
          ],
          "histogram": [
           {
            "marker": {
             "pattern": {
              "fillmode": "overlay",
              "size": 10,
              "solidity": 0.2
             }
            },
            "type": "histogram"
           }
          ],
          "histogram2d": [
           {
            "colorbar": {
             "outlinewidth": 0,
             "ticks": ""
            },
            "colorscale": [
             [
              0,
              "#0d0887"
             ],
             [
              0.1111111111111111,
              "#46039f"
             ],
             [
              0.2222222222222222,
              "#7201a8"
             ],
             [
              0.3333333333333333,
              "#9c179e"
             ],
             [
              0.4444444444444444,
              "#bd3786"
             ],
             [
              0.5555555555555556,
              "#d8576b"
             ],
             [
              0.6666666666666666,
              "#ed7953"
             ],
             [
              0.7777777777777778,
              "#fb9f3a"
             ],
             [
              0.8888888888888888,
              "#fdca26"
             ],
             [
              1,
              "#f0f921"
             ]
            ],
            "type": "histogram2d"
           }
          ],
          "histogram2dcontour": [
           {
            "colorbar": {
             "outlinewidth": 0,
             "ticks": ""
            },
            "colorscale": [
             [
              0,
              "#0d0887"
             ],
             [
              0.1111111111111111,
              "#46039f"
             ],
             [
              0.2222222222222222,
              "#7201a8"
             ],
             [
              0.3333333333333333,
              "#9c179e"
             ],
             [
              0.4444444444444444,
              "#bd3786"
             ],
             [
              0.5555555555555556,
              "#d8576b"
             ],
             [
              0.6666666666666666,
              "#ed7953"
             ],
             [
              0.7777777777777778,
              "#fb9f3a"
             ],
             [
              0.8888888888888888,
              "#fdca26"
             ],
             [
              1,
              "#f0f921"
             ]
            ],
            "type": "histogram2dcontour"
           }
          ],
          "mesh3d": [
           {
            "colorbar": {
             "outlinewidth": 0,
             "ticks": ""
            },
            "type": "mesh3d"
           }
          ],
          "parcoords": [
           {
            "line": {
             "colorbar": {
              "outlinewidth": 0,
              "ticks": ""
             }
            },
            "type": "parcoords"
           }
          ],
          "pie": [
           {
            "automargin": true,
            "type": "pie"
           }
          ],
          "scatter": [
           {
            "fillpattern": {
             "fillmode": "overlay",
             "size": 10,
             "solidity": 0.2
            },
            "type": "scatter"
           }
          ],
          "scatter3d": [
           {
            "line": {
             "colorbar": {
              "outlinewidth": 0,
              "ticks": ""
             }
            },
            "marker": {
             "colorbar": {
              "outlinewidth": 0,
              "ticks": ""
             }
            },
            "type": "scatter3d"
           }
          ],
          "scattercarpet": [
           {
            "marker": {
             "colorbar": {
              "outlinewidth": 0,
              "ticks": ""
             }
            },
            "type": "scattercarpet"
           }
          ],
          "scattergeo": [
           {
            "marker": {
             "colorbar": {
              "outlinewidth": 0,
              "ticks": ""
             }
            },
            "type": "scattergeo"
           }
          ],
          "scattergl": [
           {
            "marker": {
             "colorbar": {
              "outlinewidth": 0,
              "ticks": ""
             }
            },
            "type": "scattergl"
           }
          ],
          "scattermap": [
           {
            "marker": {
             "colorbar": {
              "outlinewidth": 0,
              "ticks": ""
             }
            },
            "type": "scattermap"
           }
          ],
          "scattermapbox": [
           {
            "marker": {
             "colorbar": {
              "outlinewidth": 0,
              "ticks": ""
             }
            },
            "type": "scattermapbox"
           }
          ],
          "scatterpolar": [
           {
            "marker": {
             "colorbar": {
              "outlinewidth": 0,
              "ticks": ""
             }
            },
            "type": "scatterpolar"
           }
          ],
          "scatterpolargl": [
           {
            "marker": {
             "colorbar": {
              "outlinewidth": 0,
              "ticks": ""
             }
            },
            "type": "scatterpolargl"
           }
          ],
          "scatterternary": [
           {
            "marker": {
             "colorbar": {
              "outlinewidth": 0,
              "ticks": ""
             }
            },
            "type": "scatterternary"
           }
          ],
          "surface": [
           {
            "colorbar": {
             "outlinewidth": 0,
             "ticks": ""
            },
            "colorscale": [
             [
              0,
              "#0d0887"
             ],
             [
              0.1111111111111111,
              "#46039f"
             ],
             [
              0.2222222222222222,
              "#7201a8"
             ],
             [
              0.3333333333333333,
              "#9c179e"
             ],
             [
              0.4444444444444444,
              "#bd3786"
             ],
             [
              0.5555555555555556,
              "#d8576b"
             ],
             [
              0.6666666666666666,
              "#ed7953"
             ],
             [
              0.7777777777777778,
              "#fb9f3a"
             ],
             [
              0.8888888888888888,
              "#fdca26"
             ],
             [
              1,
              "#f0f921"
             ]
            ],
            "type": "surface"
           }
          ],
          "table": [
           {
            "cells": {
             "fill": {
              "color": "#EBF0F8"
             },
             "line": {
              "color": "white"
             }
            },
            "header": {
             "fill": {
              "color": "#C8D4E3"
             },
             "line": {
              "color": "white"
             }
            },
            "type": "table"
           }
          ]
         },
         "layout": {
          "annotationdefaults": {
           "arrowcolor": "#2a3f5f",
           "arrowhead": 0,
           "arrowwidth": 1
          },
          "autotypenumbers": "strict",
          "coloraxis": {
           "colorbar": {
            "outlinewidth": 0,
            "ticks": ""
           }
          },
          "colorscale": {
           "diverging": [
            [
             0,
             "#8e0152"
            ],
            [
             0.1,
             "#c51b7d"
            ],
            [
             0.2,
             "#de77ae"
            ],
            [
             0.3,
             "#f1b6da"
            ],
            [
             0.4,
             "#fde0ef"
            ],
            [
             0.5,
             "#f7f7f7"
            ],
            [
             0.6,
             "#e6f5d0"
            ],
            [
             0.7,
             "#b8e186"
            ],
            [
             0.8,
             "#7fbc41"
            ],
            [
             0.9,
             "#4d9221"
            ],
            [
             1,
             "#276419"
            ]
           ],
           "sequential": [
            [
             0,
             "#0d0887"
            ],
            [
             0.1111111111111111,
             "#46039f"
            ],
            [
             0.2222222222222222,
             "#7201a8"
            ],
            [
             0.3333333333333333,
             "#9c179e"
            ],
            [
             0.4444444444444444,
             "#bd3786"
            ],
            [
             0.5555555555555556,
             "#d8576b"
            ],
            [
             0.6666666666666666,
             "#ed7953"
            ],
            [
             0.7777777777777778,
             "#fb9f3a"
            ],
            [
             0.8888888888888888,
             "#fdca26"
            ],
            [
             1,
             "#f0f921"
            ]
           ],
           "sequentialminus": [
            [
             0,
             "#0d0887"
            ],
            [
             0.1111111111111111,
             "#46039f"
            ],
            [
             0.2222222222222222,
             "#7201a8"
            ],
            [
             0.3333333333333333,
             "#9c179e"
            ],
            [
             0.4444444444444444,
             "#bd3786"
            ],
            [
             0.5555555555555556,
             "#d8576b"
            ],
            [
             0.6666666666666666,
             "#ed7953"
            ],
            [
             0.7777777777777778,
             "#fb9f3a"
            ],
            [
             0.8888888888888888,
             "#fdca26"
            ],
            [
             1,
             "#f0f921"
            ]
           ]
          },
          "colorway": [
           "#636efa",
           "#EF553B",
           "#00cc96",
           "#ab63fa",
           "#FFA15A",
           "#19d3f3",
           "#FF6692",
           "#B6E880",
           "#FF97FF",
           "#FECB52"
          ],
          "font": {
           "color": "#2a3f5f"
          },
          "geo": {
           "bgcolor": "white",
           "lakecolor": "white",
           "landcolor": "white",
           "showlakes": true,
           "showland": true,
           "subunitcolor": "#C8D4E3"
          },
          "hoverlabel": {
           "align": "left"
          },
          "hovermode": "closest",
          "mapbox": {
           "style": "light"
          },
          "paper_bgcolor": "white",
          "plot_bgcolor": "white",
          "polar": {
           "angularaxis": {
            "gridcolor": "#EBF0F8",
            "linecolor": "#EBF0F8",
            "ticks": ""
           },
           "bgcolor": "white",
           "radialaxis": {
            "gridcolor": "#EBF0F8",
            "linecolor": "#EBF0F8",
            "ticks": ""
           }
          },
          "scene": {
           "xaxis": {
            "backgroundcolor": "white",
            "gridcolor": "#DFE8F3",
            "gridwidth": 2,
            "linecolor": "#EBF0F8",
            "showbackground": true,
            "ticks": "",
            "zerolinecolor": "#EBF0F8"
           },
           "yaxis": {
            "backgroundcolor": "white",
            "gridcolor": "#DFE8F3",
            "gridwidth": 2,
            "linecolor": "#EBF0F8",
            "showbackground": true,
            "ticks": "",
            "zerolinecolor": "#EBF0F8"
           },
           "zaxis": {
            "backgroundcolor": "white",
            "gridcolor": "#DFE8F3",
            "gridwidth": 2,
            "linecolor": "#EBF0F8",
            "showbackground": true,
            "ticks": "",
            "zerolinecolor": "#EBF0F8"
           }
          },
          "shapedefaults": {
           "line": {
            "color": "#2a3f5f"
           }
          },
          "ternary": {
           "aaxis": {
            "gridcolor": "#DFE8F3",
            "linecolor": "#A2B1C6",
            "ticks": ""
           },
           "baxis": {
            "gridcolor": "#DFE8F3",
            "linecolor": "#A2B1C6",
            "ticks": ""
           },
           "bgcolor": "white",
           "caxis": {
            "gridcolor": "#DFE8F3",
            "linecolor": "#A2B1C6",
            "ticks": ""
           }
          },
          "title": {
           "x": 0.05
          },
          "xaxis": {
           "automargin": true,
           "gridcolor": "#EBF0F8",
           "linecolor": "#EBF0F8",
           "ticks": "",
           "title": {
            "standoff": 15
           },
           "zerolinecolor": "#EBF0F8",
           "zerolinewidth": 2
          },
          "yaxis": {
           "automargin": true,
           "gridcolor": "#EBF0F8",
           "linecolor": "#EBF0F8",
           "ticks": "",
           "title": {
            "standoff": 15
           },
           "zerolinecolor": "#EBF0F8",
           "zerolinewidth": 2
          }
         }
        },
        "title": {
         "text": "Monotonic Function $f(x)$ and Its Derivative"
        },
        "width": 1200,
        "xaxis": {
         "title": {
          "text": "$x$"
         }
        },
        "yaxis": {
         "title": {
          "text": "Value"
         }
        }
       }
      }
     },
     "metadata": {},
     "output_type": "display_data"
    }
   ],
   "source": [
    "fig = go.Figure()\n",
    "\n",
    "# Plot individual sigmoids and their derivatives\n",
    "for i, (loc, gain) in enumerate(zip(locs, gains)):\n",
    "    s = Fs[i, 0, :]\n",
    "    ds = Fs[i, 1, :]\n",
    "    fig.add_trace(\n",
    "        go.Scatter(\n",
    "            x=x,\n",
    "            y=s,\n",
    "            mode=\"lines\",\n",
    "            line=dict(color=\"gray\", width=1),\n",
    "            name=\"sigmoid\" if i == 0 else None,\n",
    "            showlegend=(i == 0),\n",
    "        )\n",
    "    )\n",
    "    fig.add_trace(\n",
    "        go.Scatter(\n",
    "            x=x,\n",
    "            y=ds,\n",
    "            mode=\"lines\",\n",
    "            line=dict(color=\"gray\", width=1, dash=\"dash\"),\n",
    "            name=\"sigmoid derivative\" if i == 0 else None,\n",
    "            showlegend=(i == 0),\n",
    "        )\n",
    "    )\n",
    "\n",
    "# Plot sum of sigmoids and its derivative\n",
    "fig.add_trace(\n",
    "    go.Scatter(\n",
    "        x=x,\n",
    "        y=f,\n",
    "        mode=\"lines\",\n",
    "        line=dict(color=\"red\", width=2),\n",
    "        name=\"$f(x)$ (sum of sigmoids)\",\n",
    "    )\n",
    ")\n",
    "fig.add_trace(\n",
    "    go.Scatter(\n",
    "        x=x,\n",
    "        y=df,\n",
    "        mode=\"lines\",\n",
    "        line=dict(color=\"red\", width=2, dash=\"dash\"),\n",
    "        name=\"$df/dx$\",\n",
    "    )\n",
    ")\n",
    "\n",
    "fig.update_layout(\n",
    "    title=\"Monotonic Function $f(x)$ and Its Derivative\",\n",
    "    xaxis_title=\"$x$\",\n",
    "    yaxis_title=\"Value\",\n",
    "    legend=dict(itemsizing=\"constant\"),\n",
    "    width=1200,\n",
    "    height=500,\n",
    ")\n",
    "fig.show()"
   ]
  },
  {
   "cell_type": "markdown",
   "id": "893de5d0",
   "metadata": {},
   "source": [
    "## 5. Compute and Plot the Original Density $p_X(x)$\n",
    "\n",
    "Compute the standard normal density using scipy.stats and plot it over the domain using Plotly."
   ]
  },
  {
   "cell_type": "markdown",
   "id": "794f2745",
   "metadata": {},
   "source": [
    "The change of measure formula for transforming a probability density from $x$ to $y = f(x)$ is:\n",
    "\n",
    "$\n",
    "p_Y(y) = p_X\\big(v(y)\\big) \\left| \\frac{dv}{dy} \\right|\n",
    "$\n",
    "\n",
    "where $v(y) = f^{-1}(y)$ is the inverse function of $f$\n",
    "\n",
    "Equivalently, the change of variable formula can be written as:\n",
    "\n",
    "$\n",
    "p_X(x) = p_Y\\big(f(x)\\big) \\left| \\frac{df}{dx} \\right|\n",
    "$\n",
    "\n",
    "where $f(x)$ is the transformation and $\\frac{df}{dx}$ is its derivative."
   ]
  },
  {
   "cell_type": "code",
   "execution_count": 137,
   "id": "626d1b60",
   "metadata": {},
   "outputs": [],
   "source": [
    "# Standard normal density\n",
    "p_x = norm.pdf(x, loc=0, scale=1)\n",
    "p_f = norm.pdf(f, loc=0, scale=1)\n",
    "p_y = p_x / jnp.abs(df)\n",
    "px_int = jnp.trapezoid(y=p_x, x=x)\n",
    "f_int = jnp.trapezoid(y=p_f, x=f)\n",
    "py_int = jnp.trapezoid(y=p_y, x=f)"
   ]
  },
  {
   "cell_type": "code",
   "execution_count": 141,
   "id": "6bacec17",
   "metadata": {},
   "outputs": [
    {
     "data": {
      "application/vnd.plotly.v1+json": {
       "config": {
        "plotlyServerURL": "https://plot.ly"
       },
       "data": [
        {
         "line": {
          "color": "black"
         },
         "mode": "lines",
         "name": "$p_X(x)$ (standard normal)",
         "type": "scatter",
         "x": {
          "bdata": "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",
          "dtype": "f4"
         },
         "y": {
          "bdata": "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",
          "dtype": "f4"
         }
        }
       ],
       "layout": {
        "height": 300,
        "legend": {
         "itemsizing": "constant"
        },
        "template": {
         "data": {
          "bar": [
           {
            "error_x": {
             "color": "#2a3f5f"
            },
            "error_y": {
             "color": "#2a3f5f"
            },
            "marker": {
             "line": {
              "color": "white",
              "width": 0.5
             },
             "pattern": {
              "fillmode": "overlay",
              "size": 10,
              "solidity": 0.2
             }
            },
            "type": "bar"
           }
          ],
          "barpolar": [
           {
            "marker": {
             "line": {
              "color": "white",
              "width": 0.5
             },
             "pattern": {
              "fillmode": "overlay",
              "size": 10,
              "solidity": 0.2
             }
            },
            "type": "barpolar"
           }
          ],
          "carpet": [
           {
            "aaxis": {
             "endlinecolor": "#2a3f5f",
             "gridcolor": "#C8D4E3",
             "linecolor": "#C8D4E3",
             "minorgridcolor": "#C8D4E3",
             "startlinecolor": "#2a3f5f"
            },
            "baxis": {
             "endlinecolor": "#2a3f5f",
             "gridcolor": "#C8D4E3",
             "linecolor": "#C8D4E3",
             "minorgridcolor": "#C8D4E3",
             "startlinecolor": "#2a3f5f"
            },
            "type": "carpet"
           }
          ],
          "choropleth": [
           {
            "colorbar": {
             "outlinewidth": 0,
             "ticks": ""
            },
            "type": "choropleth"
           }
          ],
          "contour": [
           {
            "colorbar": {
             "outlinewidth": 0,
             "ticks": ""
            },
            "colorscale": [
             [
              0,
              "#0d0887"
             ],
             [
              0.1111111111111111,
              "#46039f"
             ],
             [
              0.2222222222222222,
              "#7201a8"
             ],
             [
              0.3333333333333333,
              "#9c179e"
             ],
             [
              0.4444444444444444,
              "#bd3786"
             ],
             [
              0.5555555555555556,
              "#d8576b"
             ],
             [
              0.6666666666666666,
              "#ed7953"
             ],
             [
              0.7777777777777778,
              "#fb9f3a"
             ],
             [
              0.8888888888888888,
              "#fdca26"
             ],
             [
              1,
              "#f0f921"
             ]
            ],
            "type": "contour"
           }
          ],
          "contourcarpet": [
           {
            "colorbar": {
             "outlinewidth": 0,
             "ticks": ""
            },
            "type": "contourcarpet"
           }
          ],
          "heatmap": [
           {
            "colorbar": {
             "outlinewidth": 0,
             "ticks": ""
            },
            "colorscale": [
             [
              0,
              "#0d0887"
             ],
             [
              0.1111111111111111,
              "#46039f"
             ],
             [
              0.2222222222222222,
              "#7201a8"
             ],
             [
              0.3333333333333333,
              "#9c179e"
             ],
             [
              0.4444444444444444,
              "#bd3786"
             ],
             [
              0.5555555555555556,
              "#d8576b"
             ],
             [
              0.6666666666666666,
              "#ed7953"
             ],
             [
              0.7777777777777778,
              "#fb9f3a"
             ],
             [
              0.8888888888888888,
              "#fdca26"
             ],
             [
              1,
              "#f0f921"
             ]
            ],
            "type": "heatmap"
           }
          ],
          "histogram": [
           {
            "marker": {
             "pattern": {
              "fillmode": "overlay",
              "size": 10,
              "solidity": 0.2
             }
            },
            "type": "histogram"
           }
          ],
          "histogram2d": [
           {
            "colorbar": {
             "outlinewidth": 0,
             "ticks": ""
            },
            "colorscale": [
             [
              0,
              "#0d0887"
             ],
             [
              0.1111111111111111,
              "#46039f"
             ],
             [
              0.2222222222222222,
              "#7201a8"
             ],
             [
              0.3333333333333333,
              "#9c179e"
             ],
             [
              0.4444444444444444,
              "#bd3786"
             ],
             [
              0.5555555555555556,
              "#d8576b"
             ],
             [
              0.6666666666666666,
              "#ed7953"
             ],
             [
              0.7777777777777778,
              "#fb9f3a"
             ],
             [
              0.8888888888888888,
              "#fdca26"
             ],
             [
              1,
              "#f0f921"
             ]
            ],
            "type": "histogram2d"
           }
          ],
          "histogram2dcontour": [
           {
            "colorbar": {
             "outlinewidth": 0,
             "ticks": ""
            },
            "colorscale": [
             [
              0,
              "#0d0887"
             ],
             [
              0.1111111111111111,
              "#46039f"
             ],
             [
              0.2222222222222222,
              "#7201a8"
             ],
             [
              0.3333333333333333,
              "#9c179e"
             ],
             [
              0.4444444444444444,
              "#bd3786"
             ],
             [
              0.5555555555555556,
              "#d8576b"
             ],
             [
              0.6666666666666666,
              "#ed7953"
             ],
             [
              0.7777777777777778,
              "#fb9f3a"
             ],
             [
              0.8888888888888888,
              "#fdca26"
             ],
             [
              1,
              "#f0f921"
             ]
            ],
            "type": "histogram2dcontour"
           }
          ],
          "mesh3d": [
           {
            "colorbar": {
             "outlinewidth": 0,
             "ticks": ""
            },
            "type": "mesh3d"
           }
          ],
          "parcoords": [
           {
            "line": {
             "colorbar": {
              "outlinewidth": 0,
              "ticks": ""
             }
            },
            "type": "parcoords"
           }
          ],
          "pie": [
           {
            "automargin": true,
            "type": "pie"
           }
          ],
          "scatter": [
           {
            "fillpattern": {
             "fillmode": "overlay",
             "size": 10,
             "solidity": 0.2
            },
            "type": "scatter"
           }
          ],
          "scatter3d": [
           {
            "line": {
             "colorbar": {
              "outlinewidth": 0,
              "ticks": ""
             }
            },
            "marker": {
             "colorbar": {
              "outlinewidth": 0,
              "ticks": ""
             }
            },
            "type": "scatter3d"
           }
          ],
          "scattercarpet": [
           {
            "marker": {
             "colorbar": {
              "outlinewidth": 0,
              "ticks": ""
             }
            },
            "type": "scattercarpet"
           }
          ],
          "scattergeo": [
           {
            "marker": {
             "colorbar": {
              "outlinewidth": 0,
              "ticks": ""
             }
            },
            "type": "scattergeo"
           }
          ],
          "scattergl": [
           {
            "marker": {
             "colorbar": {
              "outlinewidth": 0,
              "ticks": ""
             }
            },
            "type": "scattergl"
           }
          ],
          "scattermap": [
           {
            "marker": {
             "colorbar": {
              "outlinewidth": 0,
              "ticks": ""
             }
            },
            "type": "scattermap"
           }
          ],
          "scattermapbox": [
           {
            "marker": {
             "colorbar": {
              "outlinewidth": 0,
              "ticks": ""
             }
            },
            "type": "scattermapbox"
           }
          ],
          "scatterpolar": [
           {
            "marker": {
             "colorbar": {
              "outlinewidth": 0,
              "ticks": ""
             }
            },
            "type": "scatterpolar"
           }
          ],
          "scatterpolargl": [
           {
            "marker": {
             "colorbar": {
              "outlinewidth": 0,
              "ticks": ""
             }
            },
            "type": "scatterpolargl"
           }
          ],
          "scatterternary": [
           {
            "marker": {
             "colorbar": {
              "outlinewidth": 0,
              "ticks": ""
             }
            },
            "type": "scatterternary"
           }
          ],
          "surface": [
           {
            "colorbar": {
             "outlinewidth": 0,
             "ticks": ""
            },
            "colorscale": [
             [
              0,
              "#0d0887"
             ],
             [
              0.1111111111111111,
              "#46039f"
             ],
             [
              0.2222222222222222,
              "#7201a8"
             ],
             [
              0.3333333333333333,
              "#9c179e"
             ],
             [
              0.4444444444444444,
              "#bd3786"
             ],
             [
              0.5555555555555556,
              "#d8576b"
             ],
             [
              0.6666666666666666,
              "#ed7953"
             ],
             [
              0.7777777777777778,
              "#fb9f3a"
             ],
             [
              0.8888888888888888,
              "#fdca26"
             ],
             [
              1,
              "#f0f921"
             ]
            ],
            "type": "surface"
           }
          ],
          "table": [
           {
            "cells": {
             "fill": {
              "color": "#EBF0F8"
             },
             "line": {
              "color": "white"
             }
            },
            "header": {
             "fill": {
              "color": "#C8D4E3"
             },
             "line": {
              "color": "white"
             }
            },
            "type": "table"
           }
          ]
         },
         "layout": {
          "annotationdefaults": {
           "arrowcolor": "#2a3f5f",
           "arrowhead": 0,
           "arrowwidth": 1
          },
          "autotypenumbers": "strict",
          "coloraxis": {
           "colorbar": {
            "outlinewidth": 0,
            "ticks": ""
           }
          },
          "colorscale": {
           "diverging": [
            [
             0,
             "#8e0152"
            ],
            [
             0.1,
             "#c51b7d"
            ],
            [
             0.2,
             "#de77ae"
            ],
            [
             0.3,
             "#f1b6da"
            ],
            [
             0.4,
             "#fde0ef"
            ],
            [
             0.5,
             "#f7f7f7"
            ],
            [
             0.6,
             "#e6f5d0"
            ],
            [
             0.7,
             "#b8e186"
            ],
            [
             0.8,
             "#7fbc41"
            ],
            [
             0.9,
             "#4d9221"
            ],
            [
             1,
             "#276419"
            ]
           ],
           "sequential": [
            [
             0,
             "#0d0887"
            ],
            [
             0.1111111111111111,
             "#46039f"
            ],
            [
             0.2222222222222222,
             "#7201a8"
            ],
            [
             0.3333333333333333,
             "#9c179e"
            ],
            [
             0.4444444444444444,
             "#bd3786"
            ],
            [
             0.5555555555555556,
             "#d8576b"
            ],
            [
             0.6666666666666666,
             "#ed7953"
            ],
            [
             0.7777777777777778,
             "#fb9f3a"
            ],
            [
             0.8888888888888888,
             "#fdca26"
            ],
            [
             1,
             "#f0f921"
            ]
           ],
           "sequentialminus": [
            [
             0,
             "#0d0887"
            ],
            [
             0.1111111111111111,
             "#46039f"
            ],
            [
             0.2222222222222222,
             "#7201a8"
            ],
            [
             0.3333333333333333,
             "#9c179e"
            ],
            [
             0.4444444444444444,
             "#bd3786"
            ],
            [
             0.5555555555555556,
             "#d8576b"
            ],
            [
             0.6666666666666666,
             "#ed7953"
            ],
            [
             0.7777777777777778,
             "#fb9f3a"
            ],
            [
             0.8888888888888888,
             "#fdca26"
            ],
            [
             1,
             "#f0f921"
            ]
           ]
          },
          "colorway": [
           "#636efa",
           "#EF553B",
           "#00cc96",
           "#ab63fa",
           "#FFA15A",
           "#19d3f3",
           "#FF6692",
           "#B6E880",
           "#FF97FF",
           "#FECB52"
          ],
          "font": {
           "color": "#2a3f5f"
          },
          "geo": {
           "bgcolor": "white",
           "lakecolor": "white",
           "landcolor": "white",
           "showlakes": true,
           "showland": true,
           "subunitcolor": "#C8D4E3"
          },
          "hoverlabel": {
           "align": "left"
          },
          "hovermode": "closest",
          "mapbox": {
           "style": "light"
          },
          "paper_bgcolor": "white",
          "plot_bgcolor": "white",
          "polar": {
           "angularaxis": {
            "gridcolor": "#EBF0F8",
            "linecolor": "#EBF0F8",
            "ticks": ""
           },
           "bgcolor": "white",
           "radialaxis": {
            "gridcolor": "#EBF0F8",
            "linecolor": "#EBF0F8",
            "ticks": ""
           }
          },
          "scene": {
           "xaxis": {
            "backgroundcolor": "white",
            "gridcolor": "#DFE8F3",
            "gridwidth": 2,
            "linecolor": "#EBF0F8",
            "showbackground": true,
            "ticks": "",
            "zerolinecolor": "#EBF0F8"
           },
           "yaxis": {
            "backgroundcolor": "white",
            "gridcolor": "#DFE8F3",
            "gridwidth": 2,
            "linecolor": "#EBF0F8",
            "showbackground": true,
            "ticks": "",
            "zerolinecolor": "#EBF0F8"
           },
           "zaxis": {
            "backgroundcolor": "white",
            "gridcolor": "#DFE8F3",
            "gridwidth": 2,
            "linecolor": "#EBF0F8",
            "showbackground": true,
            "ticks": "",
            "zerolinecolor": "#EBF0F8"
           }
          },
          "shapedefaults": {
           "line": {
            "color": "#2a3f5f"
           }
          },
          "ternary": {
           "aaxis": {
            "gridcolor": "#DFE8F3",
            "linecolor": "#A2B1C6",
            "ticks": ""
           },
           "baxis": {
            "gridcolor": "#DFE8F3",
            "linecolor": "#A2B1C6",
            "ticks": ""
           },
           "bgcolor": "white",
           "caxis": {
            "gridcolor": "#DFE8F3",
            "linecolor": "#A2B1C6",
            "ticks": ""
           }
          },
          "title": {
           "x": 0.05
          },
          "xaxis": {
           "automargin": true,
           "gridcolor": "#EBF0F8",
           "linecolor": "#EBF0F8",
           "ticks": "",
           "title": {
            "standoff": 15
           },
           "zerolinecolor": "#EBF0F8",
           "zerolinewidth": 2
          },
          "yaxis": {
           "automargin": true,
           "gridcolor": "#EBF0F8",
           "linecolor": "#EBF0F8",
           "ticks": "",
           "title": {
            "standoff": 15
           },
           "zerolinecolor": "#EBF0F8",
           "zerolinewidth": 2
          }
         }
        },
        "title": {
         "text": "Original Density $p_X(x)$"
        },
        "width": 1300,
        "xaxis": {
         "title": {
          "text": "$x$"
         }
        },
        "yaxis": {
         "title": {
          "text": "Density"
         }
        }
       }
      }
     },
     "metadata": {},
     "output_type": "display_data"
    }
   ],
   "source": [
    "fig_px = go.Figure()\n",
    "fig_px.add_trace(\n",
    "    go.Scatter(\n",
    "        x=x,\n",
    "        y=p_x,\n",
    "        mode=\"lines\",\n",
    "        line=dict(color=\"black\"),\n",
    "        name=\"$p_X(x)$ (standard normal)\",\n",
    "    )\n",
    ")\n",
    "fig_px.update_layout(\n",
    "    title=\"Original Density $p_X(x)$\",\n",
    "    xaxis_title=\"$x$\",\n",
    "    yaxis_title=\"Density\",\n",
    "    legend=dict(itemsizing=\"constant\"),\n",
    "    width=1300,\n",
    "    height=300,\n",
    ")\n",
    "fig_px.show()"
   ]
  },
  {
   "cell_type": "markdown",
   "id": "14922278",
   "metadata": {},
   "source": [
    "## 6. Compute and Plot the Transformed Density $p_Y(f(x))$\n",
    "\n",
    "Express the transformed density as $p_Y(f(x)) = p_X(x) / \\left| \\frac{df}{dx} \\right|$ and plot $p_Y(f(x))$ as a function of $f(x)$."
   ]
  },
  {
   "cell_type": "code",
   "execution_count": 147,
   "id": "646886b7",
   "metadata": {},
   "outputs": [
    {
     "data": {
      "application/vnd.plotly.v1+json": {
       "config": {
        "plotlyServerURL": "https://plot.ly"
       },
       "data": [
        {
         "line": {
          "color": "orange",
          "dash": "dashdot"
         },
         "mode": "lines",
         "name": "$p_X(v(y))$ (naive)",
         "type": "scatter",
         "x": {
          "bdata": "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",
          "dtype": "f4"
         },
         "y": {
          "bdata": "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",
          "dtype": "f4"
         }
        }
       ],
       "layout": {
        "height": 350,
        "legend": {
         "itemsizing": "constant"
        },
        "template": {
         "data": {
          "bar": [
           {
            "error_x": {
             "color": "#2a3f5f"
            },
            "error_y": {
             "color": "#2a3f5f"
            },
            "marker": {
             "line": {
              "color": "white",
              "width": 0.5
             },
             "pattern": {
              "fillmode": "overlay",
              "size": 10,
              "solidity": 0.2
             }
            },
            "type": "bar"
           }
          ],
          "barpolar": [
           {
            "marker": {
             "line": {
              "color": "white",
              "width": 0.5
             },
             "pattern": {
              "fillmode": "overlay",
              "size": 10,
              "solidity": 0.2
             }
            },
            "type": "barpolar"
           }
          ],
          "carpet": [
           {
            "aaxis": {
             "endlinecolor": "#2a3f5f",
             "gridcolor": "#C8D4E3",
             "linecolor": "#C8D4E3",
             "minorgridcolor": "#C8D4E3",
             "startlinecolor": "#2a3f5f"
            },
            "baxis": {
             "endlinecolor": "#2a3f5f",
             "gridcolor": "#C8D4E3",
             "linecolor": "#C8D4E3",
             "minorgridcolor": "#C8D4E3",
             "startlinecolor": "#2a3f5f"
            },
            "type": "carpet"
           }
          ],
          "choropleth": [
           {
            "colorbar": {
             "outlinewidth": 0,
             "ticks": ""
            },
            "type": "choropleth"
           }
          ],
          "contour": [
           {
            "colorbar": {
             "outlinewidth": 0,
             "ticks": ""
            },
            "colorscale": [
             [
              0,
              "#0d0887"
             ],
             [
              0.1111111111111111,
              "#46039f"
             ],
             [
              0.2222222222222222,
              "#7201a8"
             ],
             [
              0.3333333333333333,
              "#9c179e"
             ],
             [
              0.4444444444444444,
              "#bd3786"
             ],
             [
              0.5555555555555556,
              "#d8576b"
             ],
             [
              0.6666666666666666,
              "#ed7953"
             ],
             [
              0.7777777777777778,
              "#fb9f3a"
             ],
             [
              0.8888888888888888,
              "#fdca26"
             ],
             [
              1,
              "#f0f921"
             ]
            ],
            "type": "contour"
           }
          ],
          "contourcarpet": [
           {
            "colorbar": {
             "outlinewidth": 0,
             "ticks": ""
            },
            "type": "contourcarpet"
           }
          ],
          "heatmap": [
           {
            "colorbar": {
             "outlinewidth": 0,
             "ticks": ""
            },
            "colorscale": [
             [
              0,
              "#0d0887"
             ],
             [
              0.1111111111111111,
              "#46039f"
             ],
             [
              0.2222222222222222,
              "#7201a8"
             ],
             [
              0.3333333333333333,
              "#9c179e"
             ],
             [
              0.4444444444444444,
              "#bd3786"
             ],
             [
              0.5555555555555556,
              "#d8576b"
             ],
             [
              0.6666666666666666,
              "#ed7953"
             ],
             [
              0.7777777777777778,
              "#fb9f3a"
             ],
             [
              0.8888888888888888,
              "#fdca26"
             ],
             [
              1,
              "#f0f921"
             ]
            ],
            "type": "heatmap"
           }
          ],
          "histogram": [
           {
            "marker": {
             "pattern": {
              "fillmode": "overlay",
              "size": 10,
              "solidity": 0.2
             }
            },
            "type": "histogram"
           }
          ],
          "histogram2d": [
           {
            "colorbar": {
             "outlinewidth": 0,
             "ticks": ""
            },
            "colorscale": [
             [
              0,
              "#0d0887"
             ],
             [
              0.1111111111111111,
              "#46039f"
             ],
             [
              0.2222222222222222,
              "#7201a8"
             ],
             [
              0.3333333333333333,
              "#9c179e"
             ],
             [
              0.4444444444444444,
              "#bd3786"
             ],
             [
              0.5555555555555556,
              "#d8576b"
             ],
             [
              0.6666666666666666,
              "#ed7953"
             ],
             [
              0.7777777777777778,
              "#fb9f3a"
             ],
             [
              0.8888888888888888,
              "#fdca26"
             ],
             [
              1,
              "#f0f921"
             ]
            ],
            "type": "histogram2d"
           }
          ],
          "histogram2dcontour": [
           {
            "colorbar": {
             "outlinewidth": 0,
             "ticks": ""
            },
            "colorscale": [
             [
              0,
              "#0d0887"
             ],
             [
              0.1111111111111111,
              "#46039f"
             ],
             [
              0.2222222222222222,
              "#7201a8"
             ],
             [
              0.3333333333333333,
              "#9c179e"
             ],
             [
              0.4444444444444444,
              "#bd3786"
             ],
             [
              0.5555555555555556,
              "#d8576b"
             ],
             [
              0.6666666666666666,
              "#ed7953"
             ],
             [
              0.7777777777777778,
              "#fb9f3a"
             ],
             [
              0.8888888888888888,
              "#fdca26"
             ],
             [
              1,
              "#f0f921"
             ]
            ],
            "type": "histogram2dcontour"
           }
          ],
          "mesh3d": [
           {
            "colorbar": {
             "outlinewidth": 0,
             "ticks": ""
            },
            "type": "mesh3d"
           }
          ],
          "parcoords": [
           {
            "line": {
             "colorbar": {
              "outlinewidth": 0,
              "ticks": ""
             }
            },
            "type": "parcoords"
           }
          ],
          "pie": [
           {
            "automargin": true,
            "type": "pie"
           }
          ],
          "scatter": [
           {
            "fillpattern": {
             "fillmode": "overlay",
             "size": 10,
             "solidity": 0.2
            },
            "type": "scatter"
           }
          ],
          "scatter3d": [
           {
            "line": {
             "colorbar": {
              "outlinewidth": 0,
              "ticks": ""
             }
            },
            "marker": {
             "colorbar": {
              "outlinewidth": 0,
              "ticks": ""
             }
            },
            "type": "scatter3d"
           }
          ],
          "scattercarpet": [
           {
            "marker": {
             "colorbar": {
              "outlinewidth": 0,
              "ticks": ""
             }
            },
            "type": "scattercarpet"
           }
          ],
          "scattergeo": [
           {
            "marker": {
             "colorbar": {
              "outlinewidth": 0,
              "ticks": ""
             }
            },
            "type": "scattergeo"
           }
          ],
          "scattergl": [
           {
            "marker": {
             "colorbar": {
              "outlinewidth": 0,
              "ticks": ""
             }
            },
            "type": "scattergl"
           }
          ],
          "scattermap": [
           {
            "marker": {
             "colorbar": {
              "outlinewidth": 0,
              "ticks": ""
             }
            },
            "type": "scattermap"
           }
          ],
          "scattermapbox": [
           {
            "marker": {
             "colorbar": {
              "outlinewidth": 0,
              "ticks": ""
             }
            },
            "type": "scattermapbox"
           }
          ],
          "scatterpolar": [
           {
            "marker": {
             "colorbar": {
              "outlinewidth": 0,
              "ticks": ""
             }
            },
            "type": "scatterpolar"
           }
          ],
          "scatterpolargl": [
           {
            "marker": {
             "colorbar": {
              "outlinewidth": 0,
              "ticks": ""
             }
            },
            "type": "scatterpolargl"
           }
          ],
          "scatterternary": [
           {
            "marker": {
             "colorbar": {
              "outlinewidth": 0,
              "ticks": ""
             }
            },
            "type": "scatterternary"
           }
          ],
          "surface": [
           {
            "colorbar": {
             "outlinewidth": 0,
             "ticks": ""
            },
            "colorscale": [
             [
              0,
              "#0d0887"
             ],
             [
              0.1111111111111111,
              "#46039f"
             ],
             [
              0.2222222222222222,
              "#7201a8"
             ],
             [
              0.3333333333333333,
              "#9c179e"
             ],
             [
              0.4444444444444444,
              "#bd3786"
             ],
             [
              0.5555555555555556,
              "#d8576b"
             ],
             [
              0.6666666666666666,
              "#ed7953"
             ],
             [
              0.7777777777777778,
              "#fb9f3a"
             ],
             [
              0.8888888888888888,
              "#fdca26"
             ],
             [
              1,
              "#f0f921"
             ]
            ],
            "type": "surface"
           }
          ],
          "table": [
           {
            "cells": {
             "fill": {
              "color": "#EBF0F8"
             },
             "line": {
              "color": "white"
             }
            },
            "header": {
             "fill": {
              "color": "#C8D4E3"
             },
             "line": {
              "color": "white"
             }
            },
            "type": "table"
           }
          ]
         },
         "layout": {
          "annotationdefaults": {
           "arrowcolor": "#2a3f5f",
           "arrowhead": 0,
           "arrowwidth": 1
          },
          "autotypenumbers": "strict",
          "coloraxis": {
           "colorbar": {
            "outlinewidth": 0,
            "ticks": ""
           }
          },
          "colorscale": {
           "diverging": [
            [
             0,
             "#8e0152"
            ],
            [
             0.1,
             "#c51b7d"
            ],
            [
             0.2,
             "#de77ae"
            ],
            [
             0.3,
             "#f1b6da"
            ],
            [
             0.4,
             "#fde0ef"
            ],
            [
             0.5,
             "#f7f7f7"
            ],
            [
             0.6,
             "#e6f5d0"
            ],
            [
             0.7,
             "#b8e186"
            ],
            [
             0.8,
             "#7fbc41"
            ],
            [
             0.9,
             "#4d9221"
            ],
            [
             1,
             "#276419"
            ]
           ],
           "sequential": [
            [
             0,
             "#0d0887"
            ],
            [
             0.1111111111111111,
             "#46039f"
            ],
            [
             0.2222222222222222,
             "#7201a8"
            ],
            [
             0.3333333333333333,
             "#9c179e"
            ],
            [
             0.4444444444444444,
             "#bd3786"
            ],
            [
             0.5555555555555556,
             "#d8576b"
            ],
            [
             0.6666666666666666,
             "#ed7953"
            ],
            [
             0.7777777777777778,
             "#fb9f3a"
            ],
            [
             0.8888888888888888,
             "#fdca26"
            ],
            [
             1,
             "#f0f921"
            ]
           ],
           "sequentialminus": [
            [
             0,
             "#0d0887"
            ],
            [
             0.1111111111111111,
             "#46039f"
            ],
            [
             0.2222222222222222,
             "#7201a8"
            ],
            [
             0.3333333333333333,
             "#9c179e"
            ],
            [
             0.4444444444444444,
             "#bd3786"
            ],
            [
             0.5555555555555556,
             "#d8576b"
            ],
            [
             0.6666666666666666,
             "#ed7953"
            ],
            [
             0.7777777777777778,
             "#fb9f3a"
            ],
            [
             0.8888888888888888,
             "#fdca26"
            ],
            [
             1,
             "#f0f921"
            ]
           ]
          },
          "colorway": [
           "#636efa",
           "#EF553B",
           "#00cc96",
           "#ab63fa",
           "#FFA15A",
           "#19d3f3",
           "#FF6692",
           "#B6E880",
           "#FF97FF",
           "#FECB52"
          ],
          "font": {
           "color": "#2a3f5f"
          },
          "geo": {
           "bgcolor": "white",
           "lakecolor": "white",
           "landcolor": "white",
           "showlakes": true,
           "showland": true,
           "subunitcolor": "#C8D4E3"
          },
          "hoverlabel": {
           "align": "left"
          },
          "hovermode": "closest",
          "mapbox": {
           "style": "light"
          },
          "paper_bgcolor": "white",
          "plot_bgcolor": "white",
          "polar": {
           "angularaxis": {
            "gridcolor": "#EBF0F8",
            "linecolor": "#EBF0F8",
            "ticks": ""
           },
           "bgcolor": "white",
           "radialaxis": {
            "gridcolor": "#EBF0F8",
            "linecolor": "#EBF0F8",
            "ticks": ""
           }
          },
          "scene": {
           "xaxis": {
            "backgroundcolor": "white",
            "gridcolor": "#DFE8F3",
            "gridwidth": 2,
            "linecolor": "#EBF0F8",
            "showbackground": true,
            "ticks": "",
            "zerolinecolor": "#EBF0F8"
           },
           "yaxis": {
            "backgroundcolor": "white",
            "gridcolor": "#DFE8F3",
            "gridwidth": 2,
            "linecolor": "#EBF0F8",
            "showbackground": true,
            "ticks": "",
            "zerolinecolor": "#EBF0F8"
           },
           "zaxis": {
            "backgroundcolor": "white",
            "gridcolor": "#DFE8F3",
            "gridwidth": 2,
            "linecolor": "#EBF0F8",
            "showbackground": true,
            "ticks": "",
            "zerolinecolor": "#EBF0F8"
           }
          },
          "shapedefaults": {
           "line": {
            "color": "#2a3f5f"
           }
          },
          "ternary": {
           "aaxis": {
            "gridcolor": "#DFE8F3",
            "linecolor": "#A2B1C6",
            "ticks": ""
           },
           "baxis": {
            "gridcolor": "#DFE8F3",
            "linecolor": "#A2B1C6",
            "ticks": ""
           },
           "bgcolor": "white",
           "caxis": {
            "gridcolor": "#DFE8F3",
            "linecolor": "#A2B1C6",
            "ticks": ""
           }
          },
          "title": {
           "x": 0.05
          },
          "xaxis": {
           "automargin": true,
           "gridcolor": "#EBF0F8",
           "linecolor": "#EBF0F8",
           "ticks": "",
           "title": {
            "standoff": 15
           },
           "zerolinecolor": "#EBF0F8",
           "zerolinewidth": 2
          },
          "yaxis": {
           "automargin": true,
           "gridcolor": "#EBF0F8",
           "linecolor": "#EBF0F8",
           "ticks": "",
           "title": {
            "standoff": 15
           },
           "zerolinecolor": "#EBF0F8",
           "zerolinewidth": 2
          }
         }
        },
        "title": {
         "text": "Transformed Density $p_X(v(y))$ (without correction)"
        },
        "width": 900,
        "xaxis": {
         "title": {
          "text": "$y$"
         }
        },
        "yaxis": {
         "title": {
          "text": "Density"
         }
        }
       }
      }
     },
     "metadata": {},
     "output_type": "display_data"
    }
   ],
   "source": [
    "fig_vy = go.Figure()\n",
    "fig_vy.add_trace(\n",
    "    go.Scatter(\n",
    "        x=f,\n",
    "        y=p_f,\n",
    "        mode=\"lines\",\n",
    "        line=dict(color=\"orange\", dash=\"dashdot\"),\n",
    "        name=\"$p_X(v(y))$ (naive)\",\n",
    "    )\n",
    ")\n",
    "fig_vy.update_layout(\n",
    "    title=\"Transformed Density $p_X(v(y))$ (without correction)\",\n",
    "    xaxis_title=\"$y$\",\n",
    "    yaxis_title=\"Density\",\n",
    "    legend=dict(itemsizing=\"constant\"),\n",
    "    width=900,\n",
    "    height=350,\n",
    ")\n",
    "fig_vy.show()"
   ]
  },
  {
   "cell_type": "markdown",
   "id": "8ab87714",
   "metadata": {},
   "source": [
    "## 7. Apply Change of Measure Correction and Plot $p_Y(y)$\n",
    "\n",
    "Multiply $p_X(v(y))$ by the absolute value of the derivative of the inverse function to obtain the correct transformed density $p_Y(y)$ and plot it."
   ]
  },
  {
   "cell_type": "markdown",
   "id": "03d6d799",
   "metadata": {
    "vscode": {
     "languageId": "tex"
    }
   },
   "source": [
    "# Why Do We Need the Change of Measure Correction?\n",
    "\n",
    "When transforming a random variable $X$ with a probability density $p_X(x)$ via a monotonic function $y = f(x)$, the resulting variable $Y = f(X)$ does **not** generally have a density $p_Y(y)$ that is simply $p_X$ evaluated at the inverse, i.e., $p_X(f^{-1}(y))$. \n",
    "\n",
    "This is because probability densities are not invariant under nonlinear transformations. The density must be adjusted to account for how the transformation stretches or compresses the space. This adjustment is given by the **change of measure correction**, which involves multiplying by the absolute value of the derivative of the inverse function:\n",
    "\n",
    "$p_Y(y) = p_X(v(y)) \\left| \\frac{dv}{dy} \\right|$\n",
    "\n",
    "where $v(y) = f^{-1}(y)$.\n",
    "\n",
    "Alternatively, when expressing everything in terms of $x$:\n",
    "\n",
    "$p_X(x) = p_Y(f(x)) \\left| \\frac{df}{dx} \\right|$\n",
    "\n",
    "## Why Is This Correction Necessary?\n",
    "\n",
    "- **Conservation of Probability:** The total probability must remain 1 after transformation. Without the correction, the transformed density may not integrate to 1.\n",
    "- **Density Transformation:** The function $f(x)$ can locally stretch or compress intervals, changing the \"density\" of probability mass. The derivative term $\\left| \\frac{dv}{dy} \\right|$ (or $\\left| \\frac{df}{dx} \\right|$) quantifies this local change.\n",
    "- **Normalization:** The naive approach $p_Y(y) = p_X(f^{-1}(y))$ ignores this stretching/compression, leading to incorrect probabilities and a density that is not properly normalized.\n",
    "\n",
    "## Example\n",
    "\n",
    "If $f(x)$ is a strictly increasing function, then for a small interval $dx$ around $x$, the corresponding interval in $y$ is $dy = f'(x) dx$. The probability in both intervals must be equal:  \n",
    "$p_X(x) dx = p_Y(y) dy$\n",
    "\n",
    "So,  \n",
    "$p_Y(y) = p_X(x) \\left| \\frac{dx}{dy} \\right| = p_X(f^{-1}(y)) \\left| \\frac{dv}{dy} \\right|$\n",
    "\n",
    "## Conclusion\n",
    "\n",
    "The change of measure correction ensures that the transformed density $p_Y(y)$ is a valid probability density, properly normalized and reflecting the true distribution of $Y = f(X)$. Without this correction, the resulting density would be mathematically and probabilistically incorrect.\n"
   ]
  },
  {
   "cell_type": "code",
   "execution_count": 148,
   "id": "5b353f45",
   "metadata": {},
   "outputs": [
    {
     "data": {
      "application/vnd.plotly.v1+json": {
       "config": {
        "plotlyServerURL": "https://plot.ly"
       },
       "data": [
        {
         "line": {
          "color": "orange",
          "dash": "dashdot"
         },
         "mode": "lines",
         "name": "$p_X(v(y))$ (naive)",
         "type": "scatter",
         "x": {
          "bdata": "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",
          "dtype": "f4"
         },
         "y": {
          "bdata": "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",
          "dtype": "f4"
         }
        },
        {
         "line": {
          "color": "green"
         },
         "mode": "lines",
         "name": "$p_Y(y)$ (corrected)",
         "type": "scatter",
         "x": {
          "bdata": "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",
          "dtype": "f4"
         },
         "y": {
          "bdata": "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",
          "dtype": "f4"
         }
        }
       ],
       "layout": {
        "height": 350,
        "legend": {
         "itemsizing": "constant"
        },
        "template": {
         "data": {
          "bar": [
           {
            "error_x": {
             "color": "#2a3f5f"
            },
            "error_y": {
             "color": "#2a3f5f"
            },
            "marker": {
             "line": {
              "color": "white",
              "width": 0.5
             },
             "pattern": {
              "fillmode": "overlay",
              "size": 10,
              "solidity": 0.2
             }
            },
            "type": "bar"
           }
          ],
          "barpolar": [
           {
            "marker": {
             "line": {
              "color": "white",
              "width": 0.5
             },
             "pattern": {
              "fillmode": "overlay",
              "size": 10,
              "solidity": 0.2
             }
            },
            "type": "barpolar"
           }
          ],
          "carpet": [
           {
            "aaxis": {
             "endlinecolor": "#2a3f5f",
             "gridcolor": "#C8D4E3",
             "linecolor": "#C8D4E3",
             "minorgridcolor": "#C8D4E3",
             "startlinecolor": "#2a3f5f"
            },
            "baxis": {
             "endlinecolor": "#2a3f5f",
             "gridcolor": "#C8D4E3",
             "linecolor": "#C8D4E3",
             "minorgridcolor": "#C8D4E3",
             "startlinecolor": "#2a3f5f"
            },
            "type": "carpet"
           }
          ],
          "choropleth": [
           {
            "colorbar": {
             "outlinewidth": 0,
             "ticks": ""
            },
            "type": "choropleth"
           }
          ],
          "contour": [
           {
            "colorbar": {
             "outlinewidth": 0,
             "ticks": ""
            },
            "colorscale": [
             [
              0,
              "#0d0887"
             ],
             [
              0.1111111111111111,
              "#46039f"
             ],
             [
              0.2222222222222222,
              "#7201a8"
             ],
             [
              0.3333333333333333,
              "#9c179e"
             ],
             [
              0.4444444444444444,
              "#bd3786"
             ],
             [
              0.5555555555555556,
              "#d8576b"
             ],
             [
              0.6666666666666666,
              "#ed7953"
             ],
             [
              0.7777777777777778,
              "#fb9f3a"
             ],
             [
              0.8888888888888888,
              "#fdca26"
             ],
             [
              1,
              "#f0f921"
             ]
            ],
            "type": "contour"
           }
          ],
          "contourcarpet": [
           {
            "colorbar": {
             "outlinewidth": 0,
             "ticks": ""
            },
            "type": "contourcarpet"
           }
          ],
          "heatmap": [
           {
            "colorbar": {
             "outlinewidth": 0,
             "ticks": ""
            },
            "colorscale": [
             [
              0,
              "#0d0887"
             ],
             [
              0.1111111111111111,
              "#46039f"
             ],
             [
              0.2222222222222222,
              "#7201a8"
             ],
             [
              0.3333333333333333,
              "#9c179e"
             ],
             [
              0.4444444444444444,
              "#bd3786"
             ],
             [
              0.5555555555555556,
              "#d8576b"
             ],
             [
              0.6666666666666666,
              "#ed7953"
             ],
             [
              0.7777777777777778,
              "#fb9f3a"
             ],
             [
              0.8888888888888888,
              "#fdca26"
             ],
             [
              1,
              "#f0f921"
             ]
            ],
            "type": "heatmap"
           }
          ],
          "histogram": [
           {
            "marker": {
             "pattern": {
              "fillmode": "overlay",
              "size": 10,
              "solidity": 0.2
             }
            },
            "type": "histogram"
           }
          ],
          "histogram2d": [
           {
            "colorbar": {
             "outlinewidth": 0,
             "ticks": ""
            },
            "colorscale": [
             [
              0,
              "#0d0887"
             ],
             [
              0.1111111111111111,
              "#46039f"
             ],
             [
              0.2222222222222222,
              "#7201a8"
             ],
             [
              0.3333333333333333,
              "#9c179e"
             ],
             [
              0.4444444444444444,
              "#bd3786"
             ],
             [
              0.5555555555555556,
              "#d8576b"
             ],
             [
              0.6666666666666666,
              "#ed7953"
             ],
             [
              0.7777777777777778,
              "#fb9f3a"
             ],
             [
              0.8888888888888888,
              "#fdca26"
             ],
             [
              1,
              "#f0f921"
             ]
            ],
            "type": "histogram2d"
           }
          ],
          "histogram2dcontour": [
           {
            "colorbar": {
             "outlinewidth": 0,
             "ticks": ""
            },
            "colorscale": [
             [
              0,
              "#0d0887"
             ],
             [
              0.1111111111111111,
              "#46039f"
             ],
             [
              0.2222222222222222,
              "#7201a8"
             ],
             [
              0.3333333333333333,
              "#9c179e"
             ],
             [
              0.4444444444444444,
              "#bd3786"
             ],
             [
              0.5555555555555556,
              "#d8576b"
             ],
             [
              0.6666666666666666,
              "#ed7953"
             ],
             [
              0.7777777777777778,
              "#fb9f3a"
             ],
             [
              0.8888888888888888,
              "#fdca26"
             ],
             [
              1,
              "#f0f921"
             ]
            ],
            "type": "histogram2dcontour"
           }
          ],
          "mesh3d": [
           {
            "colorbar": {
             "outlinewidth": 0,
             "ticks": ""
            },
            "type": "mesh3d"
           }
          ],
          "parcoords": [
           {
            "line": {
             "colorbar": {
              "outlinewidth": 0,
              "ticks": ""
             }
            },
            "type": "parcoords"
           }
          ],
          "pie": [
           {
            "automargin": true,
            "type": "pie"
           }
          ],
          "scatter": [
           {
            "fillpattern": {
             "fillmode": "overlay",
             "size": 10,
             "solidity": 0.2
            },
            "type": "scatter"
           }
          ],
          "scatter3d": [
           {
            "line": {
             "colorbar": {
              "outlinewidth": 0,
              "ticks": ""
             }
            },
            "marker": {
             "colorbar": {
              "outlinewidth": 0,
              "ticks": ""
             }
            },
            "type": "scatter3d"
           }
          ],
          "scattercarpet": [
           {
            "marker": {
             "colorbar": {
              "outlinewidth": 0,
              "ticks": ""
             }
            },
            "type": "scattercarpet"
           }
          ],
          "scattergeo": [
           {
            "marker": {
             "colorbar": {
              "outlinewidth": 0,
              "ticks": ""
             }
            },
            "type": "scattergeo"
           }
          ],
          "scattergl": [
           {
            "marker": {
             "colorbar": {
              "outlinewidth": 0,
              "ticks": ""
             }
            },
            "type": "scattergl"
           }
          ],
          "scattermap": [
           {
            "marker": {
             "colorbar": {
              "outlinewidth": 0,
              "ticks": ""
             }
            },
            "type": "scattermap"
           }
          ],
          "scattermapbox": [
           {
            "marker": {
             "colorbar": {
              "outlinewidth": 0,
              "ticks": ""
             }
            },
            "type": "scattermapbox"
           }
          ],
          "scatterpolar": [
           {
            "marker": {
             "colorbar": {
              "outlinewidth": 0,
              "ticks": ""
             }
            },
            "type": "scatterpolar"
           }
          ],
          "scatterpolargl": [
           {
            "marker": {
             "colorbar": {
              "outlinewidth": 0,
              "ticks": ""
             }
            },
            "type": "scatterpolargl"
           }
          ],
          "scatterternary": [
           {
            "marker": {
             "colorbar": {
              "outlinewidth": 0,
              "ticks": ""
             }
            },
            "type": "scatterternary"
           }
          ],
          "surface": [
           {
            "colorbar": {
             "outlinewidth": 0,
             "ticks": ""
            },
            "colorscale": [
             [
              0,
              "#0d0887"
             ],
             [
              0.1111111111111111,
              "#46039f"
             ],
             [
              0.2222222222222222,
              "#7201a8"
             ],
             [
              0.3333333333333333,
              "#9c179e"
             ],
             [
              0.4444444444444444,
              "#bd3786"
             ],
             [
              0.5555555555555556,
              "#d8576b"
             ],
             [
              0.6666666666666666,
              "#ed7953"
             ],
             [
              0.7777777777777778,
              "#fb9f3a"
             ],
             [
              0.8888888888888888,
              "#fdca26"
             ],
             [
              1,
              "#f0f921"
             ]
            ],
            "type": "surface"
           }
          ],
          "table": [
           {
            "cells": {
             "fill": {
              "color": "#EBF0F8"
             },
             "line": {
              "color": "white"
             }
            },
            "header": {
             "fill": {
              "color": "#C8D4E3"
             },
             "line": {
              "color": "white"
             }
            },
            "type": "table"
           }
          ]
         },
         "layout": {
          "annotationdefaults": {
           "arrowcolor": "#2a3f5f",
           "arrowhead": 0,
           "arrowwidth": 1
          },
          "autotypenumbers": "strict",
          "coloraxis": {
           "colorbar": {
            "outlinewidth": 0,
            "ticks": ""
           }
          },
          "colorscale": {
           "diverging": [
            [
             0,
             "#8e0152"
            ],
            [
             0.1,
             "#c51b7d"
            ],
            [
             0.2,
             "#de77ae"
            ],
            [
             0.3,
             "#f1b6da"
            ],
            [
             0.4,
             "#fde0ef"
            ],
            [
             0.5,
             "#f7f7f7"
            ],
            [
             0.6,
             "#e6f5d0"
            ],
            [
             0.7,
             "#b8e186"
            ],
            [
             0.8,
             "#7fbc41"
            ],
            [
             0.9,
             "#4d9221"
            ],
            [
             1,
             "#276419"
            ]
           ],
           "sequential": [
            [
             0,
             "#0d0887"
            ],
            [
             0.1111111111111111,
             "#46039f"
            ],
            [
             0.2222222222222222,
             "#7201a8"
            ],
            [
             0.3333333333333333,
             "#9c179e"
            ],
            [
             0.4444444444444444,
             "#bd3786"
            ],
            [
             0.5555555555555556,
             "#d8576b"
            ],
            [
             0.6666666666666666,
             "#ed7953"
            ],
            [
             0.7777777777777778,
             "#fb9f3a"
            ],
            [
             0.8888888888888888,
             "#fdca26"
            ],
            [
             1,
             "#f0f921"
            ]
           ],
           "sequentialminus": [
            [
             0,
             "#0d0887"
            ],
            [
             0.1111111111111111,
             "#46039f"
            ],
            [
             0.2222222222222222,
             "#7201a8"
            ],
            [
             0.3333333333333333,
             "#9c179e"
            ],
            [
             0.4444444444444444,
             "#bd3786"
            ],
            [
             0.5555555555555556,
             "#d8576b"
            ],
            [
             0.6666666666666666,
             "#ed7953"
            ],
            [
             0.7777777777777778,
             "#fb9f3a"
            ],
            [
             0.8888888888888888,
             "#fdca26"
            ],
            [
             1,
             "#f0f921"
            ]
           ]
          },
          "colorway": [
           "#636efa",
           "#EF553B",
           "#00cc96",
           "#ab63fa",
           "#FFA15A",
           "#19d3f3",
           "#FF6692",
           "#B6E880",
           "#FF97FF",
           "#FECB52"
          ],
          "font": {
           "color": "#2a3f5f"
          },
          "geo": {
           "bgcolor": "white",
           "lakecolor": "white",
           "landcolor": "white",
           "showlakes": true,
           "showland": true,
           "subunitcolor": "#C8D4E3"
          },
          "hoverlabel": {
           "align": "left"
          },
          "hovermode": "closest",
          "mapbox": {
           "style": "light"
          },
          "paper_bgcolor": "white",
          "plot_bgcolor": "white",
          "polar": {
           "angularaxis": {
            "gridcolor": "#EBF0F8",
            "linecolor": "#EBF0F8",
            "ticks": ""
           },
           "bgcolor": "white",
           "radialaxis": {
            "gridcolor": "#EBF0F8",
            "linecolor": "#EBF0F8",
            "ticks": ""
           }
          },
          "scene": {
           "xaxis": {
            "backgroundcolor": "white",
            "gridcolor": "#DFE8F3",
            "gridwidth": 2,
            "linecolor": "#EBF0F8",
            "showbackground": true,
            "ticks": "",
            "zerolinecolor": "#EBF0F8"
           },
           "yaxis": {
            "backgroundcolor": "white",
            "gridcolor": "#DFE8F3",
            "gridwidth": 2,
            "linecolor": "#EBF0F8",
            "showbackground": true,
            "ticks": "",
            "zerolinecolor": "#EBF0F8"
           },
           "zaxis": {
            "backgroundcolor": "white",
            "gridcolor": "#DFE8F3",
            "gridwidth": 2,
            "linecolor": "#EBF0F8",
            "showbackground": true,
            "ticks": "",
            "zerolinecolor": "#EBF0F8"
           }
          },
          "shapedefaults": {
           "line": {
            "color": "#2a3f5f"
           }
          },
          "ternary": {
           "aaxis": {
            "gridcolor": "#DFE8F3",
            "linecolor": "#A2B1C6",
            "ticks": ""
           },
           "baxis": {
            "gridcolor": "#DFE8F3",
            "linecolor": "#A2B1C6",
            "ticks": ""
           },
           "bgcolor": "white",
           "caxis": {
            "gridcolor": "#DFE8F3",
            "linecolor": "#A2B1C6",
            "ticks": ""
           }
          },
          "title": {
           "x": 0.05
          },
          "xaxis": {
           "automargin": true,
           "gridcolor": "#EBF0F8",
           "linecolor": "#EBF0F8",
           "ticks": "",
           "title": {
            "standoff": 15
           },
           "zerolinecolor": "#EBF0F8",
           "zerolinewidth": 2
          },
          "yaxis": {
           "automargin": true,
           "gridcolor": "#EBF0F8",
           "linecolor": "#EBF0F8",
           "ticks": "",
           "title": {
            "standoff": 15
           },
           "zerolinecolor": "#EBF0F8",
           "zerolinewidth": 2
          }
         }
        },
        "title": {
         "text": "Transformed Density with Change of Measure Correction"
        },
        "width": 900,
        "xaxis": {
         "title": {
          "text": "$y$"
         }
        },
        "yaxis": {
         "title": {
          "text": "Density"
         }
        }
       }
      }
     },
     "metadata": {},
     "output_type": "display_data"
    }
   ],
   "source": [
    "fig_py = go.Figure()\n",
    "fig_py.add_trace(\n",
    "    go.Scatter(\n",
    "        x=f,\n",
    "        y=p_f,\n",
    "        mode=\"lines\",\n",
    "        line=dict(color=\"orange\", dash=\"dashdot\"),\n",
    "        name=\"$p_X(v(y))$ (naive)\",\n",
    "    )\n",
    ")\n",
    "fig_py.add_trace(\n",
    "    go.Scatter(\n",
    "        x=f,\n",
    "        y=p_y,\n",
    "        mode=\"lines\",\n",
    "        line=dict(color=\"green\"),\n",
    "        name=\"$p_Y(y)$ (corrected)\",\n",
    "    )\n",
    ")\n",
    "fig_py.update_layout(\n",
    "    title=\"Transformed Density with Change of Measure Correction\",\n",
    "    xaxis_title=\"$y$\",\n",
    "    yaxis_title=\"Density\",\n",
    "    legend=dict(itemsizing=\"constant\"),\n",
    "    width=900,\n",
    "    height=350,\n",
    ")\n",
    "fig_py.show()"
   ]
  },
  {
   "cell_type": "markdown",
   "id": "9a7a747e",
   "metadata": {},
   "source": [
    "## 8. Compare Integrals of Densities\n",
    "\n",
    "Numerically integrate $p_X(x)$, $p_X(v(y))$, and $p_Y(y)$ to verify normalization and demonstrate the effect of the correction."
   ]
  },
  {
   "cell_type": "code",
   "execution_count": 152,
   "id": "1058ecbb",
   "metadata": {},
   "outputs": [
    {
     "name": "stdout",
     "output_type": "stream",
     "text": [
      "Integral of $p_X(x)$: 0.9973\n",
      "Integral of $p_X(v(y))$: 0.4243\n",
      "Integral of $p_Y(y)$: 0.9973\n"
     ]
    }
   ],
   "source": [
    "print(f\"Integral of $p_X(x)$: {px_int:.4f}\")\n",
    "print(f\"Integral of $p_X(v(y))$: {f_int:.4f}\")\n",
    "print(f\"Integral of $p_Y(y)$: {py_int:.4f}\")"
   ]
  },
  {
   "cell_type": "markdown",
   "id": "ba8af4f4",
   "metadata": {},
   "source": [
    "As expected, the integral of $p_X(x)$ and $p_Y(y)$ are both close to 1, while the naive transformed density $p_X(v(y))$ does not integrate to 1. This demonstrates the necessity of the change of measure correction."
   ]
  }
 ],
 "metadata": {
  "kernelspec": {
   "display_name": ".venv",
   "language": "python",
   "name": "python3"
  },
  "language_info": {
   "codemirror_mode": {
    "name": "ipython",
    "version": 3
   },
   "file_extension": ".py",
   "mimetype": "text/x-python",
   "name": "python",
   "nbconvert_exporter": "python",
   "pygments_lexer": "ipython3",
   "version": "3.12.8"
  }
 },
 "nbformat": 4,
 "nbformat_minor": 5
}
