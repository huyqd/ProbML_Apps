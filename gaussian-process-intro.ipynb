{
 "cells": [
  {
   "cell_type": "markdown",
   "id": "60cbce79",
   "metadata": {},
   "source": [
    "# Introduction to Gaussian Processes\n",
    "\n",
    "Welcome to my blog post documenting my journey into the fascinating world of **Gaussian Processes (GPs)**!\n",
    "\n",
    "As a beginner, I'm finding that the best way to grasp these concepts is to break them down, understand the theory from lectures, and then immediately translate that into working code.\n",
    "\n",
    "Gaussian Processes are a powerful tool in probabilistic machine learning. Unlike many models that give you a single prediction, GPs provide a **distribution over possible outcomes**. This means they not only tell you what they think the answer is, but also how certain they are about that answer.\n",
    "\n",
    "Think of it like this: instead of fitting a single line or curve to data, a GP fits a **distribution of possible lines or curves** that could have generated the data."
   ]
  },
  {
   "cell_type": "markdown",
   "id": "774b3c28",
   "metadata": {},
   "source": [
    "## Recap: Probabilistic Parametric Regression\n",
    "\n",
    "Before we dive fully into GPs, let's quickly revisit a concept we might be familiar with: **probabilistic parametric regression**. This will help us see how GPs are different and why they are useful.\n",
    "\n",
    "In parametric regression, we assume our data can be described by a function with a fixed form, determined by a set of parameters. A common example is a linear model with basis functions:\n",
    "\n",
    "$$\n",
    "f(x) = \\phi(x)^T w\n",
    "$$\n",
    "\n",
    "Here, $\\phi(x)$ is a vector of features or basis functions (like $1, x, x^2$, etc.), and $w$ is a vector of weights or parameters that we want to learn.\n",
    "\n",
    "In a probabilistic setting, we don't just find a single best value for $w$. Instead, we treat $w$ as a random variable and place a prior probability distribution over it, often a Gaussian:\n",
    "\n",
    "$$\n",
    "p(w) = \\mathcal{N}(w; \\mu, \\Sigma)\n",
    "$$\n",
    "\n",
    "We also assume that our observations $y$ are related to the true function values $f(x)$ with some noise, typically modeled as Gaussian noise:\n",
    "\n",
    "$$\n",
    "p(y \\mid f) = \\mathcal{N}(y; f_x, \\sigma^2 I)\n",
    "$$\n",
    "\n",
    "Given some training data $(X, y)$, where $X$ is a matrix of inputs and $y$ is a vector of corresponding outputs, we can use Bayes' theorem to find the posterior distribution over the weights $w$:\n",
    "\n",
    "$$\n",
    "p(w \\mid y, \\Phi_X) = \\frac{p(y \\mid \\Phi_X, w) p(w)}{p(y \\mid \\Phi_X)}\n",
    "$$\n",
    "\n",
    "For Gaussian priors and likelihoods, the posterior distribution over $w$ is also Gaussian, $\\mathcal{N}(w; \\mu_y, \\Sigma_y)$. The formulas for the posterior mean $\\mu_y$ and covariance $\\Sigma_y$ are:\n",
    "\n",
    "$$\n",
    "\\mu_y = \\mu + \\Sigma \\Phi_X (\\Phi_X^T \\Sigma \\Phi_X + \\sigma^2 I)^{-1} (y - \\Phi_X^T \\mu)\n",
    "$$\n",
    "\n",
    "$$\n",
    "\\Sigma_y = \\Sigma - \\Sigma \\Phi_X (\\Phi_X^T \\Sigma \\Phi_X + \\sigma^2 I)^{-1} \\Phi_X^T \\Sigma\n",
    "$$\n",
    "\n",
    "Once we have the posterior distribution over $w$, we can make predictions for a new input $x$. The distribution over the function value $f_x$ at this new point is also Gaussian:\n",
    "\n",
    "$$\n",
    "p(f_x \\mid y, \\phi_x) = \\mathcal{N}(f_x; \\phi_x^T \\mu_y, \\phi_x^T \\Sigma_y \\phi_x)\n",
    "$$\n",
    "\n",
    "**Key takeaway:** In parametric regression, we are learning a fixed number of parameters $w$. The complexity of the model is determined by the number and type of features $\\phi(x)$."
   ]
  },
  {
   "cell_type": "markdown",
   "id": "021f089d",
   "metadata": {},
   "source": [
    "## Connecting to Shallow Learning\n",
    "\n",
    "Interestingly, the probabilistic parametric regression model we just discussed has a close connection to simple neural networks.\n",
    "\n",
    "A linear model with basis functions can be seen as a **single-layer neural network** where the basis functions $\\phi(x)$ are fixed non-linear transformations of the input, and the weights $w$ are the parameters of the output layer.\n",
    "\n",
    "Minimizing the negative log-posterior of the weights $w$ with Gaussian prior and likelihood is equivalent to minimizing a regularized squared error loss function. The loss function $L(w)$ is related to the negative log-posterior:\n",
    "\n",
    "$$\n",
    "-\\log p(w \\mid y, X) \\propto \\frac{1}{2\\sigma^2} \\sum_{i=1}^n \\left| y_i - \\phi(x_i)^T w \\right|^2 + \\frac{1}{2} (w - \\mu)^T \\Sigma^{-1} (w - \\mu)\n",
    "$$\n",
    "\n",
    "- The first term is the squared error between the observed outputs and the model's predictions, scaled by the noise variance.\n",
    "- The second term is a regularization term based on the prior over $w$.\n",
    "\n",
    "Finding the weights $w^*$ that minimize this loss function (the **Maximum A Posteriori** or MAP estimate) involves setting the gradient of the loss with respect to $w$ to zero:\n",
    "\n",
    "$$\n",
    "\\nabla_w \\left( -\\log p(w \\mid y, X) \\right) = 0\n",
    "$$\n",
    "\n",
    "The solution for $w^*$ is given by:\n",
    "\n",
    "$$\n",
    "w^* = \\left( \\sigma^{-2} \\Phi_X \\Phi_X^T + \\Sigma^{-1} \\right)^{-1} \\left( \\sigma^{-2} \\Phi_X y + \\Sigma^{-1} \\mu \\right)\n",
    "$$\n",
    "\n",
    "The curvature of the loss function at the minimum is related to the posterior covariance of $w$.\n",
    "\n",
    "---\n",
    "\n",
    "**Derivation**\n",
    "\n",
    "$$p(w | y, X) = \\frac{1}{p(y)} \\mathcal{N}(y | \\phi_X^T w, \\sigma I) \\mathcal{N}(w; \\mu, \\Sigma)$$\n",
    "\n",
    "$$- \\log p(w | y, X) = - \\log \\mathcal{N}(y | \\phi_X^T w, \\sigma I) - \\log \\mathcal{N}(w; \\mu, \\Sigma) + \\text{const.}$$\n",
    "\n",
    "$$\\log p(w | y, X) \\triangleq -\\frac{1}{2\\sigma^2} ||y - \\phi_X^T w||^2 - \\frac{1}{2} (w - \\mu)^T \\Sigma^{-1} (w - \\mu)$$\n",
    "\n",
    "$$\\nabla \\log p(w | y, X) = \\frac{1}{\\sigma^2} \\phi_X (y - \\phi_X^T w) - \\Sigma^{-1} (w - \\mu) = (\\sigma^{-2} \\phi_X \\phi_X^T + \\Sigma^{-1}) w - \\sigma^{-2} \\phi_X y - \\Sigma^{-1} \\mu = 0$$\n",
    "\n",
    "$$w_* = (\\sigma^{-2} \\phi_X \\phi_X^T + \\Sigma^{-1})^{-1} (\\sigma^{-2} \\phi_X y + \\Sigma^{-1} \\mu)$$\n",
    "\n",
    "$$\\nabla \\nabla^T \\log p(w | y, X) = \\sigma^{-2} \\phi_X \\phi_X^T + \\Sigma^{-1}$$\n",
    "\n",
    "**Hence**\n",
    "\n",
    "$$p(w | y, X) = \\frac{1}{p(y)} \\mathcal{N}(y | \\phi_X^T w, \\sigma I) \\mathcal{N}(w; \\mu, \\Sigma)$$\n",
    "\n",
    "$$= \\mathcal{N}(w; w_* := \\arg \\min \\mathcal{L}(y, X), \\nabla \\nabla^T \\mathcal{L}(y, X))$$\n",
    "\n",
    "---\n",
    "\n",
    "This connection highlights that our parametric model is essentially a form of **\"shallow\" learning** (a single layer). We have two ways to increase the model's capacity:\n",
    "\n",
    "1. Add more features $\\phi(x)$.\n",
    "2. Add more layers (move to deep learning).\n",
    "\n",
    "**Gaussian Processes offer an alternative perspective by moving away from a fixed, finite set of parameters $w$.**"
   ]
  },
  {
   "cell_type": "markdown",
   "id": "ba197ec9",
   "metadata": {},
   "source": [
    "## Towards a Distribution Over Functions\n",
    "\n",
    "Instead of defining a function through a finite set of parameters $w$, what if we could define a probability distribution directly over the space of functions? This is where **Gaussian Processes** come in.\n",
    "\n",
    "A **Gaussian Process (GP)** is a probability distribution over functions $f: \\mathcal{X} \\to \\mathbb{R}$. The key property of a GP is that any finite collection of function values evaluated at a set of input points $X = [x_1, \\ldots, x_N]$ has a joint multivariate Gaussian distribution.\n",
    "\n",
    "So, if we pick any $N$ points $x_1, \\ldots, x_N$, the vector of function values\n",
    "$$\n",
    "\\mathbf{f}_X = [f(x_1), \\ldots, f(x_N)]^T\n",
    "$$\n",
    "follows a Gaussian distribution:\n",
    "$$\n",
    "p(\\mathbf{f}_X) = \\mathcal{N}(\\mathbf{f}_X; \\mathbf{m}_X, K_{XX})\n",
    "$$\n",
    "\n",
    "Here:\n",
    "- $\\mathbf{m}_X$ is a vector where the $i$-th element is the mean function evaluated at $x_i$, i.e., $m(x_i)$.\n",
    "- $K_{XX}$ is the covariance matrix, where the element at row $i$ and column $j$ is given by a covariance function or kernel $k(x_i, x_j)$.\n",
    "\n",
    "The **mean function** $m(x)$ specifies the expected value of the function at any input point $x$:\n",
    "$$\n",
    "m(x) = \\mathbb{E}[f(x)]\n",
    "$$\n",
    "\n",
    "The **covariance function (kernel)** $k(x, x')$ specifies the covariance between the function values at two different input points $x$ and $x'$:\n",
    "$$\n",
    "k(x, x') = \\mathrm{Cov}[f(x), f(x')]\n",
    "$$\n",
    "\n",
    "The choice of mean function and kernel completely defines the Gaussian Process. The kernel is particularly important as it encodes our assumptions about the properties of the function, such as its smoothness, periodicity, or overall shape.\n",
    "\n",
    "Here's a conceptual Python class for a Gaussian Process, as shown in the slides (using JAX for potential future use with automatic differentiation):"
   ]
  },
  {
   "cell_type": "code",
   "execution_count": 1,
   "id": "784c03ad",
   "metadata": {},
   "outputs": [],
   "source": [
    "import jax.numpy as jnp\n",
    "from typing import Callable\n",
    "import dataclasses\n",
    "\n",
    "\n",
    "@dataclasses.dataclass\n",
    "class GaussianProcess:\n",
    "    \"\"\"\n",
    "    Conceptual representation of a Gaussian Process.\n",
    "\n",
    "    A GP is defined by its mean function and covariance function (kernel).\n",
    "    Any finite collection of function values from a GP follows a multivariate Gaussian distribution.\n",
    "    \"\"\"\n",
    "\n",
    "    # Mean function: maps input(s) to mean value(s)\n",
    "    m: Callable[[jnp.ndarray], jnp.ndarray]\n",
    "\n",
    "    # Covariance function (kernel): maps two input(s) to a covariance matrix\n",
    "    k: Callable[[jnp.ndarray, jnp.ndarray], jnp.ndarray]\n",
    "\n",
    "    def __call__(self, X: jnp.ndarray):\n",
    "        \"\"\"\n",
    "        Evaluates the GP at a set of input points X.\n",
    "        Returns the mean vector and covariance matrix for the function values at X.\n",
    "\n",
    "        Args:\n",
    "            X: A JAX array of input points. Shape (N, D) where N is the number of points\n",
    "               and D is the input dimension.\n",
    "\n",
    "        Returns:\n",
    "            A dictionary containing:\n",
    "                'mu': Mean vector at X. Shape (N,).\n",
    "                'Sigma': Covariance matrix at X. Shape (N, N).\n",
    "        \"\"\"\n",
    "        # Evaluate the mean function at all input points\n",
    "        mu_X = self.m(X)\n",
    "\n",
    "        # Evaluate the covariance function (kernel) for all pairs of input points\n",
    "        K_XX = self.k(X, X)\n",
    "\n",
    "        return {\"mu\": mu_X, \"Sigma\": K_XX}\n",
    "\n",
    "\n",
    "# Example usage (requires defining a mean function and a kernel function first)\n",
    "# zero_mean = lambda x: jnp.zeros(x.shape[0]) # Example zero mean function\n",
    "# my_kernel = ... # Define a kernel function (see next sections)\n",
    "# my_gp = GaussianProcess(m=zero_mean, k=my_kernel)\n",
    "# test_points = jnp.array([[1.0], [2.0], [3.0]])\n",
    "# gp_distribution = my_gp(test_points)\n",
    "# print(\"Mean:\", gp_distribution['mu'])\n",
    "# print(\"Covariance:\", gp_distribution['Sigma'])\n"
   ]
  },
  {
   "cell_type": "markdown",
   "id": "05d64826",
   "metadata": {},
   "source": [
    "The connection between $f(x)$ and $\\phi(x)$ comes from the idea of representing functions as linear combinations of features (basis functions). In probabilistic parametric regression, we write:\n",
    "$$\n",
    "f(x) = \\phi(x)^T w\n",
    "$$\n",
    "where $\\phi(x)$ is a vector of features (e.g., $[1, x, x^2, \\ldots]$) and $w$ is a vector of weights.\n",
    "\n",
    "In the context of Gaussian Processes, this idea is generalized. Any valid kernel $k(x, x')$ can be interpreted as an inner product in a (possibly infinite-dimensional) feature space:\n",
    "$$\n",
    "k(x, x') = \\langle \\phi(x), \\phi(x') \\rangle_{\\mathcal{H}}\n",
    "$$\n",
    "where $\\phi(x)$ maps $x$ into a feature space $\\mathcal{H}$.\n",
    "\n",
    "If we place a Gaussian prior on $w$, $w \\sim \\mathcal{N}(0, I)$, then $f(x)$ becomes a random function whose distribution is determined by the features:\n",
    "$$\n",
    "f(x) = \\phi(x)^T w\n",
    "$$\n",
    "The covariance between $f(x)$ and $f(x')$ is:\n",
    "$$\n",
    "\\mathrm{Cov}[f(x), f(x')] = \\mathbb{E}[f(x) f(x')] = \\phi(x)^T \\mathbb{E}[w w^T] \\phi(x') = \\phi(x)^T \\phi(x') = k(x, x')\n",
    "$$\n",
    "\n",
    "In summary:\n",
    "- $f(x)$ is a (random) function value, constructed as a linear combination of features $\\phi(x)$ with random weights $w$.\n",
    "- The kernel $k(x, x')$ encodes the similarity between $x$ and $x'$ as the inner product of their feature representations.\n",
    "- In GPs, we often work directly with $k(x, x')$ (the kernel trick), without ever explicitly constructing $\\phi(x)$.\n",
    "\n",
    "For some kernels (like the RBF), $\\phi(x)$ is infinite-dimensional, but the kernel trick allows us to compute covariances and make predictions efficiently. This is the key to the flexibility and power of Gaussian Processes."
   ]
  },
  {
   "cell_type": "markdown",
   "id": "5c8f4d1a",
   "metadata": {},
   "source": [
    "Suppose we choose $\\phi(x) = \\begin{bmatrix} 1 \\\\ x \\end{bmatrix}$ (i.e., a linear basis with a bias term), and $w = \\begin{bmatrix} w_0 \\\\ w_1 \\end{bmatrix}$ are weights.\n",
    "\n",
    "Then the function is:\n",
    "$$\n",
    "f(x) = \\phi(x)^T w = [1,\\, x] \\begin{bmatrix} w_0 \\\\ w_1 \\end{bmatrix} = w_0 + w_1 x\n",
    "$$\n",
    "\n",
    "If we place a Gaussian prior on $w$ (e.g., $w \\sim \\mathcal{N}(0, I)$), then $f(x)$ is a random linear function. The kernel for this model is:\n",
    "$$\n",
    "k(x, x') = \\phi(x)^T \\phi(x') = 1 \\cdot 1 + x \\cdot x' = 1 + x x'\n",
    "$$\n",
    "\n",
    "This is the linear kernel with bias.  \n",
    "So, in this example, $f(x)$ is a random straight line, and the kernel encodes that the function values at $x$ and $x'$ are more correlated when $x$ and $x'$ are closer together.\n",
    "\n",
    "This kernel corresponds exactly to Bayesian linear regression with a Gaussian prior on the weights. When we use $k(x, x') = 1 + x x'$, the GP prior over functions $f(x)$ is equivalent to placing a Gaussian prior on the weights $w$ in the linear model $f(x) = w_0 + w_1 x$. \n",
    "\n",
    "In other words, GP regression with this kernel will produce the same predictive mean and variance as Bayesian linear regression with basis $\\phi(x) = [1,\\, x]^T$. The GP is \"fitting\" a straight line to the data, but instead of just finding the best-fit line, it gives a full distribution over possible lines, capturing uncertainty in the weights.\n",
    "\n",
    "So, using this kernel in a GP is mathematically identical to Bayesian linear regression with a bias term."
   ]
  },
  {
   "cell_type": "markdown",
   "id": "e0fe7e1e",
   "metadata": {
    "vscode": {
     "languageId": "javascript"
    }
   },
   "source": [
    "Absolutely! Let's break down these concepts step by step, focusing on intuition and connecting the math to what it means for regression.\n",
    "\n",
    "---\n",
    "\n",
    "### 1. **How Does the Kernel (1 + xx') Encode a Linear Model with Bias?**\n",
    "\n",
    "Recall the parametric model:\n",
    "$$\n",
    "f(x) = \\phi(x)^T w\n",
    "$$\n",
    "where $\\phi(x)$ is a vector of features (basis functions), and $w$ is a vector of weights.\n",
    "\n",
    "Suppose we choose:\n",
    "$$\n",
    "\\phi(x) = \\begin{bmatrix} 1 \\\\ x \\end{bmatrix}\n",
    "$$\n",
    "This means our function is:\n",
    "$$\n",
    "f(x) = w_0 \\cdot 1 + w_1 \\cdot x = w_0 + w_1 x\n",
    "$$\n",
    "So, $w_0$ is the **bias (intercept)** and $w_1$ is the **slope**.\n",
    "\n",
    "If we put a Gaussian prior on $w$ (e.g., $w \\sim \\mathcal{N}(0, I)$), then $f(x)$ is a random linear function.\n",
    "\n",
    "The **kernel** for this model is:\n",
    "$$\n",
    "k(x, x') = \\phi(x)^T \\phi(x') = 1 \\cdot 1 + x \\cdot x' = 1 + x x'\n",
    "$$\n",
    "- The **\"1\"** comes from the bias term (the constant part).\n",
    "- The **\"x x'\"** comes from the slope (how $x$ and $x'$ interact).\n",
    "\n",
    "**Intuition:**  \n",
    "If you see $k(x, x') = 1 + x x'$, you know:\n",
    "- It's a linear kernel (because of $x x'$).\n",
    "- It includes a bias (because of the $1$).\n",
    "\n",
    "This kernel means that the GP prior is over all possible straight lines (with random slope and intercept), and the regression will fit a straight line to the data, just like Bayesian linear regression.\n",
    "\n",
    "In Bayesian linear regression (or ordinary least squares), the solution for the weights $w$ that fit $y = Ax + b$ is:\n",
    "\n",
    "$$\n",
    "w^* = (X^T X)^{-1} X^T y\n",
    "$$\n",
    "\n",
    "Here, $X$ is the design matrix (with a column of ones for the bias), and $w^*$ contains both the slope and intercept. This is a linear projection: it finds the best-fit line by projecting $y$ onto the space spanned by the columns of $X$.\n",
    "\n",
    "In the kernelized view, $X X^T$ can be seen as a linear kernel (i.e., $k(x, x') = x x'$), and the solution is still a linear function of $x$. So, fitting with the linear kernel is equivalent to fitting a straight line (with bias if you include a column of ones).\n",
    "\n",
    "- $y = Ax + b$ is the classic linear regression form.\n",
    "- $A = (X^T X)^{-1} X^T$ projects $y$ onto the linear space defined by $X$.\n",
    "- Using a linear kernel in a GP or kernel regression recovers this same linear fit.\n",
    "\n",
    "**Why is this a projection?**  \n",
    "The matrix $X$ (with a column of ones for bias) defines a subspace of all possible linear combinations of its columns (i.e., all possible straight lines with bias). The least-squares solution $w^* = (X^T X)^{-1} X^T y$ finds the weights $w^*$ such that the predicted values $\\hat{y} = X w^*$ are as close as possible to $y$ in the Euclidean sense.  \n",
    "Mathematically, $X (X^T X)^{-1} X^T$ is the **projection matrix** onto the column space of $X$. Applying this matrix to $y$ gives the closest point (in that subspace) to the original $y$.  \n",
    "So, linear regression \"projects\" $y$ onto the space of straight lines (with bias), finding the best-fit line.\n",
    "\n",
    "---\n",
    "\n",
    "### 2. **What About the RBF Kernel? Why Is There No Explicit Mean Function?**\n",
    "\n",
    "The **RBF (Radial Basis Function) kernel** is:\n",
    "$$\n",
    "k_{\\mathrm{RBF}}(x, x') = \\sigma^2 \\exp\\left(-\\frac{1}{2\\ell^2} \\|x - x'\\|^2\\right)\n",
    "$$\n",
    "- This kernel doesn't correspond to a finite set of basis functions; instead, it represents an **infinite-dimensional feature space**.\n",
    "- The GP prior with this kernel says: \"I believe the function is smooth, but I don't restrict it to be a straight line or any simple polynomial.\"\n",
    "\n",
    "**Mean Function in GPs:**\n",
    "- By default, we often set the mean function $m(x) = 0$ for simplicity.\n",
    "- The **mean function** is your prior guess for what $f(x)$ should be before seeing any data.\n",
    "- The **kernel** controls how $f(x)$ can wiggle around that mean.\n",
    "\n",
    "**Regression with RBF Kernel:**\n",
    "- Even with $m(x) = 0$, once you observe data, the GP regression will fit a smooth curve through the data points.\n",
    "- The RBF kernel allows the function to be very flexible (not just a straight line), but still smooth.\n",
    "- The \"regression\" happens because the GP **posterior mean** (after seeing data) gives you the best guess for $f(x)$ at each point, and the **posterior variance** tells you how uncertain you are.\n",
    "\n",
    "**Key Intuition:**\n",
    "- **Linear kernel with bias:** Only straight lines (with random slope and intercept) are possible functions.\n",
    "- **RBF kernel:** Infinitely many smooth functions are possible; the GP can fit any smooth curve, not just lines.\n",
    "- The mean function is just your starting guess; the kernel determines the *shape* of functions you think are likely.\n",
    "\n",
    "---\n",
    "\n",
    "### 3. **Summary Table**\n",
    "\n",
    "| Kernel                | Functions Allowed         | Mean Function? | Regression Output      |\n",
    "|-----------------------|--------------------------|---------------|-----------------------|\n",
    "| $1 + x x'$ (linear)   | Straight lines           | Often zero    | Best-fit line         |\n",
    "| RBF                   | All smooth functions     | Often zero    | Smooth curve          |\n",
    "\n",
    "- The **kernel** encodes your beliefs about the kind of functions you expect.\n",
    "- The **mean function** is your prior guess, but the kernel is what gives the GP its power to fit data flexibly.\n",
    "\n",
    "---\n",
    "\n",
    "**In short:**  \n",
    "- The kernel tells you what kind of functions your GP can fit.\n",
    "- $1 + x x'$ means straight lines with bias.\n",
    "- RBF means any smooth function.\n",
    "- The mean function is just your starting point; the kernel does the heavy lifting in shaping the regression.\n",
    "\n",
    "Let me know if you'd like a visual or code example to make this even clearer!"
   ]
  },
  {
   "cell_type": "markdown",
   "id": "81aa8630",
   "metadata": {},
   "source": [
    "## Kernels: The Heart of the GP\n",
    "\n",
    "The covariance function, or **kernel** $k(x, x')$, is arguably the most important part of a Gaussian Process. It defines the relationship between function values at different points.\n",
    "\n",
    "If two points $x$ and $x'$ are \"similar\" according to the kernel, then the function values $f(x)$ and $f(x')$ are expected to be highly correlated. If they are \"dissimilar\", their correlation will be low.\n",
    "\n",
    "A valid kernel function must satisfy a crucial property: for any finite set of points $X = [x_1, \\ldots, x_N]$, the matrix $K_{XX}$ formed by $k(x_i, x_j)$ must be **symmetric** and **positive semidefinite**.\n",
    "\n",
    "- **Symmetric:** $k(x, x') = k(x', x)$.  \n",
    "  This makes sense because the covariance between $f(x)$ and $f(x')$ is the same as the covariance between $f(x')$ and $f(x)$.\n",
    "\n",
    "- **Positive Semidefinite:** For any vector $v \\in \\mathbb{R}^N$, $v^T K_{XX} v \\geq 0$.  \n",
    "  This is a fundamental property of covariance matrices. Equivalently, a symmetric matrix is positive semidefinite if all its eigenvalues are non-negative.\n",
    "\n",
    "Kernels allow us to define the properties of the functions drawn from the GP. For example:\n",
    "\n",
    "- A kernel that gives high covariance for nearby points implies that functions drawn from the GP will be **smooth**.\n",
    "- A kernel that exhibits **periodicity** will result in functions that are periodic."
   ]
  },
  {
   "cell_type": "markdown",
   "id": "adec2c4d",
   "metadata": {},
   "source": [
    "## What is a Kernel? How Does It Relate to Inner Products?\n",
    "\n",
    "A **kernel** is a function that measures the similarity between two inputs, often denoted as $k(x, x')$. In the context of machine learning (especially Gaussian Processes and Support Vector Machines), a kernel allows us to compare data points in a way that can capture complex, nonlinear relationships.\n",
    "\n",
    "### 1. **Inner Product Refresher**\n",
    "\n",
    "The **inner product** (or dot product) is a fundamental operation in linear algebra. For two vectors $a, b \\in \\mathbb{R}^d$, the inner product is:\n",
    "\n",
    "$$\n",
    "\\langle a, b \\rangle = a_1 b_1 + a_2 b_2 + \\cdots + a_d b_d\n",
    "$$\n",
    "\n",
    "- It measures the \"alignment\" or similarity between two vectors.\n",
    "- If the vectors point in the same direction, the inner product is large; if they are orthogonal (perpendicular), it is zero.\n",
    "\n",
    "The inner product can be defined with respect to a specific measurement or weighting, not just the standard dot product. In general, an inner product on a vector space is a function $\\langle \\cdot, \\cdot \\rangle$ that satisfies certain properties (linearity, symmetry, positive-definiteness).\n",
    "\n",
    "For example, in $\\mathbb{R}^d$, the standard inner product is $\\langle a, b \\rangle = a^T b$. But you can define a **weighted inner product** using a positive definite matrix $A$:\n",
    "$$\n",
    "\\langle a, b \\rangle_A = a^T A b\n",
    "$$\n",
    "where $A$ encodes the measurement or weighting.\n",
    "\n",
    "In function spaces, a common inner product is the **$L^2$ inner product**:\n",
    "$$\n",
    "\\langle f, g \\rangle_{L^2} = \\int f(x) g(x) \\, d\\mu(x)\n",
    "$$\n",
    "where $d\\mu(x)$ is a measure (e.g., Lebesgue measure for real-valued functions).\n",
    "\n",
    "**Covariance as an inner product:**  \n",
    "Covariance is also a kind of inner product in the space of random variables (with zero mean):\n",
    "$$\n",
    "\\mathrm{Cov}(X, Y) = \\mathbb{E}[(X - \\mathbb{E}[X])(Y - \\mathbb{E}[Y])]\n",
    "$$\n",
    "If $X$ and $Y$ are centered (zero mean), this is just $\\mathbb{E}[X Y]$, which is an inner product with respect to the probability measure.\n",
    "\n",
    "**Summary:**  \n",
    "- The choice of inner product determines the geometry of the space.\n",
    "- Kernels generalize inner products, and the \"measurement\" (matrix, measure, or probability) can encode important structure or assumptions.\n",
    "\n",
    "### 2. **Kernels as Generalized Inner Products**\n",
    "\n",
    "A kernel generalizes the idea of an inner product to possibly **higher-dimensional or even infinite-dimensional spaces**. Formally, a kernel $k(x, x')$ can be written as:\n",
    "\n",
    "$$\n",
    "k(x, x') = \\langle \\phi(x), \\phi(x') \\rangle_{\\mathcal{H}}\n",
    "$$\n",
    "\n",
    "- $\\phi(x)$ is a **feature map**: it transforms the input $x$ into a (possibly high- or infinite-dimensional) feature space $\\mathcal{H}$.\n",
    "- The kernel computes the inner product between the feature representations of $x$ and $x'$.\n",
    "\n",
    "**Key point:**  \n",
    "You don't need to know or compute $\\phi(x)$ explicitly! The kernel function computes the similarity as if you had mapped $x$ and $x'$ into this feature space and taken their inner product.\n",
    "\n",
    "### 3. **Why is This Useful? (The Kernel Trick)**\n",
    "\n",
    "- Many algorithms (like linear regression, SVMs, GPs) only require inner products between data points.\n",
    "- By replacing the inner product with a kernel, you can implicitly work in a much richer feature space **without ever computing the features directly**.\n",
    "- This is called the **kernel trick**.\n",
    "\n",
    "### 4. **Examples**\n",
    "\n",
    "- **Linear kernel:** $k(x, x') = x^T x'$ (just the standard inner product).\n",
    "- **Polynomial kernel:** $k(x, x') = (1 + x^T x')^d$ (corresponds to inner product in a space of all monomials up to degree $d$).\n",
    "- **RBF (Gaussian) kernel:** $k(x, x') = \\exp\\left(-\\frac{1}{2\\ell^2} \\|x - x'\\|^2\\right)$ (corresponds to an infinite-dimensional feature space).\n",
    "\n",
    "### 5. **How Does It All Connect?**\n",
    "\n",
    "- **Inner product:** Measures similarity in the original (or feature) space.\n",
    "- **Feature map $\\phi(x)$:** Transforms data into a new space where relationships may be easier to model.\n",
    "- **Kernel $k(x, x')$:** Computes the inner product in the feature space, giving a similarity measure that can capture complex patterns.\n",
    "- **Kernel trick:** Lets us use powerful models without explicitly working in high-dimensional spaces.\n",
    "\n",
    "---\n",
    "\n",
    "**Summary Table:**\n",
    "\n",
    "| Concept         | What it does                        | Example                      |\n",
    "|-----------------|-------------------------------------|------------------------------|\n",
    "| Inner product   | Measures similarity of vectors      | $x^T x'$                     |\n",
    "| Feature map     | Maps input to feature space         | $\\phi(x)$                    |\n",
    "| Kernel          | Inner product in feature space      | $k(x, x') = \\langle \\phi(x), \\phi(x') \\rangle$ |\n",
    "| Kernel trick    | Use kernel instead of explicit features | RBF kernel, polynomial kernel |\n",
    "\n",
    "---\n",
    "\n",
    "**In Gaussian Processes:**  \n",
    "The kernel defines how similar two inputs are, which in turn determines how correlated their function values are. This is why the choice of kernel is so important: it encodes your assumptions about the function you want to learn."
   ]
  },
  {
   "cell_type": "markdown",
   "id": "00b9dead",
   "metadata": {},
   "source": [
    "## Kernels and Feature Expansions (The Kernel Trick)\n",
    "\n",
    "Here's a beautiful connection: any valid kernel function $k(x, x')$ can be expressed as an inner product of feature vectors in some feature space $\\mathcal{H}$:\n",
    "\n",
    "$$\n",
    "k(x, x') = \\langle \\phi(x), \\phi(x') \\rangle_{\\mathcal{H}}\n",
    "$$\n",
    "\n",
    "where $\\phi(x)$ is a mapping from the input space $\\mathcal{X}$ to the feature space $\\mathcal{H}$. The feature space $\\mathcal{H}$ can be very high-dimensional, even infinite-dimensional.\n",
    "\n",
    "This is the essence of the **kernel trick**. We can compute the covariance between $f(x)$ and $f(x')$ by evaluating the kernel function $k(x, x')$ directly, without ever needing to explicitly compute the (potentially infinite-dimensional) feature vectors $\\phi(x)$ and $\\phi(x')$.\n",
    "\n",
    "The slides show how a kernel can arise from a feature expansion. If we have a set of features $\\phi_\\ell(x)$, a kernel can be constructed as a sum or integral over these features:\n",
    "\n",
    "$$\n",
    "k(x, x') = \\sum_{\\ell \\in \\mathcal{L}} \\phi_\\ell(x)\\phi_\\ell(x') \\quad \\text{or} \\quad k(x, x') = \\int_{\\mathcal{L}} \\phi_\\ell(x)\\phi_\\ell(x') d\\nu(\\ell)\n",
    "$$\n",
    "\n",
    "A very common and versatile kernel is the **Squared Exponential** (or **Radial Basis Function - RBF**) kernel. It's defined as:\n",
    "\n",
    "$$\n",
    "k_{\\mathrm{SE}}(x, x') = \\sigma^2 \\exp\\left(-\\frac{1}{2\\ell^2} \\|x - x'\\|^2\\right)\n",
    "$$\n",
    "\n",
    "Here:\n",
    "\n",
    "- $\\sigma^2$ is the output variance (or amplitude), controlling the overall vertical scale of functions drawn from the GP.\n",
    "- $\\ell$ is the length scale, controlling how quickly the correlation between function values decays with distance between input points. A small length scale means the function can change rapidly, while a large length scale implies the function is smooth.\n",
    "- The feature mapping $\\phi(x)$ is infinite-dimensional!  This corresponds to a feature map $\\phi(x)$ whose components are all possible monomials of $x$ (i.e., $1, x, x^2, x^3, \\ldots$) with appropriate weights, or, equivalently, to a mapping into the space of square-integrable functions (see Mercer's theorem).\n",
    "\n",
    "In practice, we never compute $\\phi(x)$ explicitly for the RBF kernel because it is infinite-dimensional. Instead, we use the kernel trick: we compute $k(x, x')$ directly.\n",
    "\n",
    "**Intuition:**  \n",
    "- For polynomial kernels, $\\phi(x)$ is a finite vector of monomials.\n",
    "- For the RBF kernel, $\\phi(x)$ is an infinite vector, and the kernel trick lets us work with it implicitly.\n",
    "\n",
    "**Fun fact:**  \n",
    "You can approximate the RBF feature map using *random Fourier features* (Rahimi & Recht, 2007), which map $x$ into a finite-dimensional space such that the dot product approximates the RBF kernel. But the exact $\\phi(x)$ is infinite-dimensional!"
   ]
  },
  {
   "cell_type": "markdown",
   "id": "bd6d7af8",
   "metadata": {},
   "source": [
    "## Understanding Mercer's Theorem, the Kernel Trick, and the RBF Example\n",
    "\n",
    "### 1. **What is Mercer's Theorem?**\n",
    "\n",
    "Mercer's theorem is a foundational result in functional analysis that connects **positive semidefinite kernels** to **feature expansions** in (possibly infinite-dimensional) Hilbert spaces.\n",
    "\n",
    "**In simple terms:**  \n",
    "If you have a symmetric, positive semidefinite function $k(x, x')$ (a valid kernel), then there exists a set of functions $\\{\\phi_\\ell(x)\\}$ and non-negative weights $\\{\\lambda_\\ell\\}$ such that:\n",
    "\n",
    "$$\n",
    "k(x, x') = \\sum_{\\ell=1}^\\infty \\lambda_\\ell \\phi_\\ell(x) \\phi_\\ell(x')\n",
    "$$\n",
    "\n",
    "- $\\phi_\\ell(x)$ are called **eigenfunctions**.\n",
    "- $\\lambda_\\ell$ are **eigenvalues** (all $\\geq 0$).\n",
    "\n",
    "This means:  \n",
    "**Every valid kernel is an inner product in some (possibly infinite-dimensional) feature space.**\n",
    "\n",
    "---\n",
    "\n",
    "### 2. **The Kernel Trick**\n",
    "\n",
    "Suppose you want to work with a model that uses features $\\phi(x)$, but $\\phi(x)$ is very high-dimensional or even infinite-dimensional (as with the RBF kernel).  \n",
    "**The kernel trick** lets you compute inner products $\\langle \\phi(x), \\phi(x') \\rangle$ directly using $k(x, x')$, without ever computing $\\phi(x)$ explicitly.\n",
    "\n",
    "This is powerful because it allows us to use very rich, flexible models (like GPs or SVMs with RBF kernels) without the computational cost of working in infinite dimensions.\n",
    "\n",
    "---\n",
    "\n",
    "### 3. **The RBF (Squared Exponential) Kernel and Its Feature Expansion**\n",
    "\n",
    "The **RBF kernel** is defined as:\n",
    "\n",
    "$$\n",
    "k_{\\mathrm{RBF}}(x, x') = \\sigma^2 \\exp\\left(-\\frac{1}{2\\ell^2} \\|x - x'\\|^2\\right)\n",
    "$$\n",
    "\n",
    "- $\\sigma^2$ is the variance (amplitude).\n",
    "- $\\ell$ is the lengthscale.\n",
    "\n",
    "#### **Infinite-Dimensional Feature Space**\n",
    "\n",
    "For the RBF kernel, the feature map $\\phi(x)$ is **infinite-dimensional**.  \n",
    "Mercer's theorem guarantees that such a feature expansion exists, but we never need to compute it explicitly.\n",
    "\n",
    "#### **Intuitive Example:**\n",
    "\n",
    "- For a **polynomial kernel** $k(x, x') = (1 + x x')^d$, the feature map $\\phi(x)$ is a finite vector of all monomials up to degree $d$.\n",
    "- For the **RBF kernel**, $\\phi(x)$ contains infinitely many basis functions (think of all possible sines and cosines, or all monomials of all degrees).\n",
    "\n",
    "---\n",
    "\n",
    "### 4. **Visualizing the Kernel Trick with the RBF Kernel**\n",
    "\n",
    "Let's see how the RBF kernel measures similarity and implicitly maps points into a high-dimensional space."
   ]
  },
  {
   "cell_type": "code",
   "execution_count": 7,
   "id": "1b785313",
   "metadata": {},
   "outputs": [
    {
     "data": {
      "image/png": "[encoded data removed]",
      "text/plain": [
       "<Figure size 700x400 with 1 Axes>"
      ]
     },
     "metadata": {},
     "output_type": "display_data"
    }
   ],
   "source": [
    "import numpy as np\n",
    "import matplotlib.pyplot as plt\n",
    "\n",
    "# 1D input space\n",
    "X = np.linspace(-3, 3, 100)[:, None]\n",
    "x0 = np.array([[0.0]])  # Reference point\n",
    "\n",
    "\n",
    "# RBF kernel function\n",
    "def rbf_kernel(x1, x2, sigma=1.0, lengthscale=1.0):\n",
    "    sqdist = np.sum((x1 - x2) ** 2, axis=-1)\n",
    "    return sigma**2 * np.exp(-0.5 * sqdist / lengthscale**2)\n",
    "\n",
    "\n",
    "# Compute similarity to x0\n",
    "similarity = np.array(\n",
    "    [rbf_kernel(x0, x.reshape(1, -1), sigma=1.0, lengthscale=1.0) for x in X]\n",
    ")\n",
    "\n",
    "plt.figure(figsize=(7, 4))\n",
    "plt.plot(X, similarity, label=\"RBF kernel similarity to $x_0=0$\")\n",
    "plt.axvline(0, color=\"gray\", linestyle=\"--\", alpha=0.5)\n",
    "plt.xlabel(\"x\")\n",
    "plt.ylabel(\"k(x, 0)\")\n",
    "plt.title(\"RBF Kernel: Similarity to $x_0=0$\")\n",
    "plt.legend()\n",
    "plt.show()"
   ]
  },
  {
   "cell_type": "markdown",
   "id": "ee10c635",
   "metadata": {},
   "source": [
    "**Interpretation:**  \n",
    "- Points near $x_0=0$ have high similarity (close to 1).\n",
    "- Points far from $x_0=0$ have low similarity (close to 0).\n",
    "- The kernel is a smooth, bell-shaped function centered at $x_0$.\n",
    "\n",
    "---\n",
    "\n",
    "### 5. **Sampling Functions from a GP with RBF Kernel**\n",
    "\n",
    "Let's see what kind of functions the RBF kernel produces in a Gaussian Process:"
   ]
  },
  {
   "cell_type": "code",
   "execution_count": 15,
   "id": "50bd475b",
   "metadata": {},
   "outputs": [],
   "source": [
    "from sklearn.gaussian_process.kernels import RBF, ConstantKernel as C\n",
    "\n",
    "kernel = C(1.0, (1e-3, 1e3)) * RBF(length_scale=1.0)"
   ]
  },
  {
   "cell_type": "code",
   "execution_count": 18,
   "id": "db2fc5f3",
   "metadata": {},
   "outputs": [
    {
     "data": {
      "image/png": "[encoded data removed]",
      "text/plain": [
       "<Figure size 800x500 with 1 Axes>"
      ]
     },
     "metadata": {},
     "output_type": "display_data"
    }
   ],
   "source": [
    "import numpy as np\n",
    "import matplotlib.pyplot as plt\n",
    "\n",
    "# Generate points\n",
    "X = np.linspace(-5, 5, 100)[:, None]\n",
    "# Compute kernel matrix (avoid name conflict with existing K)\n",
    "kernel = C(1.0, (1e-3, 1e3)) * RBF(length_scale=1.0)\n",
    "K_prior = kernel(X, X)\n",
    "# Sample functions from the GP prior\n",
    "samples = np.random.multivariate_normal(mean=np.zeros(100), cov=K_prior, size=5)\n",
    "\n",
    "plt.figure(figsize=(8, 5))\n",
    "for i in range(5):\n",
    "    plt.plot(X, samples[i], lw=2)\n",
    "plt.title(\"Samples from a GP Prior with RBF Kernel\")\n",
    "plt.xlabel(\"x\")\n",
    "plt.ylabel(\"f(x)\")\n",
    "plt.show()\n"
   ]
  },
  {
   "cell_type": "markdown",
   "id": "b6b2edef",
   "metadata": {},
   "source": [
    "\n",
    "**Interpretation:**  \n",
    "- All sampled functions are smooth.\n",
    "- The RBF kernel encodes the assumption that the function varies smoothly, with the lengthscale controlling how quickly it can change.\n",
    "\n",
    "---\n",
    "\n",
    "### 6. **Summary Table**\n",
    "\n",
    "| Kernel Function         | Feature Map $\\phi(x)$         | Dimensionality      | Kernel Trick? |\n",
    "|------------------------|-------------------------------|---------------------|---------------|\n",
    "| Linear: $x^T x'$       | $x$                           | Finite ($d$)        | Not needed    |\n",
    "| Polynomial: $(1 + x^T x')^d$ | All monomials up to $d$ | Finite              | Optional      |\n",
    "| RBF: $\\exp(-\\|x-x'\\|^2/2\\ell^2)$ | Infinite (all monomials, sines/cosines, etc.) | Infinite | **Essential** |\n",
    "\n",
    "---\n",
    "\n",
    "### 7. **Key Takeaways**\n",
    "\n",
    "- **Mercer's theorem**: Every valid kernel is an inner product in some (possibly infinite) feature space.\n",
    "- **Kernel trick**: Compute inner products via the kernel function, avoiding explicit feature computation.\n",
    "- **RBF kernel**: Infinite-dimensional feature space, but kernel trick makes it practical.\n",
    "- **GPs with RBF kernel**: Model smooth functions, with uncertainty and flexibility.\n",
    "\n",
    "---"
   ]
  },
  {
   "cell_type": "code",
   "execution_count": 6,
   "id": "c2b145c2",
   "metadata": {},
   "outputs": [
    {
     "name": "stdout",
     "output_type": "stream",
     "text": [
      "Kernel Matrix:\n",
      " [[0.60653067 0.011109  ]\n",
      " [0.60653067 0.60653067]\n",
      " [0.011109   0.60653067]]\n"
     ]
    }
   ],
   "source": [
    "import jax.numpy as jnp\n",
    "\n",
    "\n",
    "# Let's implement the squared exponential kernel in Python using JAX:\n",
    "\n",
    "def squared_exponential_kernel(\n",
    "    x1: jnp.ndarray, x2: jnp.ndarray, sigma: float = 1.0, lengthscale: float = 1.0\n",
    ") -> jnp.ndarray:\n",
    "    \"\"\"\n",
    "    Computes the Squared Exponential (RBF) kernel matrix between two sets of points.\n",
    "\n",
    "    Args:\n",
    "        x1: First set of input points. Shape (N1, D).\n",
    "        x2: Second set of input points. Shape (N2, D).\n",
    "        sigma: Output variance (amplitude) hyperparameter.\n",
    "        lengthscale: Length scale hyperparameter.\n",
    "\n",
    "    Returns:\n",
    "        The kernel matrix K, where K[i, j] = k(x1[i], x2[j]). Shape (N1, N2).\n",
    "    \"\"\"\n",
    "    # Ensure inputs are JAX arrays and have at least 2 dimensions (N, D)\n",
    "    x1 = jnp.atleast_2d(x1)\n",
    "    x2 = jnp.atleast_2d(x2)\n",
    "\n",
    "    # Compute the squared Euclidean distance between all pairs of points\n",
    "    # (N1, 1, D) - (1, N2, D) -> (N1, N2, D)\n",
    "    # Sum over the last dimension to get squared distance: (N1, N2)\n",
    "    sq_dist = jnp.sum((x1[:, None, :] - x2[None, :, :]) ** 2, axis=-1)\n",
    "\n",
    "    # Compute the kernel matrix using the RBF formula\n",
    "    K = sigma**2 * jnp.exp(-0.5 * sq_dist / lengthscale**2)\n",
    "\n",
    "    return K\n",
    "\n",
    "\n",
    "# Example usage:\n",
    "points1 = jnp.array([[0.0], [1.0], [2.0]])\n",
    "points2 = jnp.array([[0.5], [1.5]])\n",
    "kernel_matrix = squared_exponential_kernel(points1, points2, sigma=1.0, lengthscale=0.5)\n",
    "print(\"Kernel Matrix:\\n\", kernel_matrix)\n"
   ]
  },
  {
   "cell_type": "markdown",
   "id": "cc35910c",
   "metadata": {},
   "source": [
    "## Gaussian Process Regression\n",
    "\n",
    "Now that we understand what a GP is and how kernels work, let's use it for regression.\n",
    "\n",
    "Suppose we have a set of training data $(X_{\\text{train}}, y_{\\text{train}})$, where $X_{\\text{train}}$ are the input points and $y_{\\text{train}}$ are the corresponding noisy observations. We want to predict the function value at new test points $X_{\\text{test}}$.\n",
    "\n",
    "The key idea in GP regression is to consider the **joint distribution** of the training outputs $y_{\\text{train}}$ and the function values at the test points $f_{\\text{test}}$. Since the training data is assumed to be generated by a function drawn from a GP with added Gaussian noise, and the test function values are also from the same GP, their joint distribution is a multivariate Gaussian:\n",
    "\n",
    "$$\n",
    "\\begin{pmatrix}\n",
    "y_{\\text{train}} \\\\\n",
    "f_{\\text{test}}\n",
    "\\end{pmatrix}\n",
    "\\sim\n",
    "\\mathcal{N}\\left(\n",
    "\\begin{pmatrix}\n",
    "m(X_{\\text{train}}) \\\\\n",
    "m(X_{\\text{test}})\n",
    "\\end{pmatrix},\n",
    "\\begin{pmatrix}\n",
    "K_{\\text{train,train}} + \\sigma_{\\text{noise}}^2 I & K_{\\text{train,test}} \\\\\n",
    "K_{\\text{test,train}} & K_{\\text{test,test}}\n",
    "\\end{pmatrix}\n",
    "\\right)\n",
    "$$\n",
    "\n",
    "where:\n",
    "\n",
    "- $m(\\cdot)$ is the mean function.\n",
    "- $K_{\\text{train,train}}$ is the kernel matrix evaluated at the training inputs $X_{\\text{train}}$.\n",
    "- $K_{\\text{test,test}}$ is the kernel matrix evaluated at the test inputs $X_{\\text{test}}$.\n",
    "- $K_{\\text{train,test}}$ is the cross-covariance matrix between training and test inputs.\n",
    "- $K_{\\text{test,train}}$ is the transpose of $K_{\\text{train,test}}$.\n",
    "- $\\sigma_{\\text{noise}}^2$ is the variance of the observational noise.\n",
    "\n",
    "Our goal is to find the **conditional distribution** of the test function values $f_{\\text{test}}$ given the training data $(X_{\\text{train}}, y_{\\text{train}})$. For jointly Gaussian variables, this conditional distribution is also Gaussian:\n",
    "\n",
    "$$\n",
    "p(f_{\\text{test}} \\mid X_{\\text{train}}, y_{\\text{train}}, X_{\\text{test}})\n",
    "= \\mathcal{N}(f_{\\text{test}}; \\mu_{\\text{pred}}, \\Sigma_{\\text{pred}})\n",
    "$$\n",
    "\n",
    "The formulas for the predictive mean $\\mu_{\\text{pred}}$ and predictive covariance $\\Sigma_{\\text{pred}}$ are:\n",
    "\n",
    "$$\n",
    "\\mu_{\\text{pred}} = m(X_{\\text{test}}) + K_{\\text{test,train}} \\left[ K_{\\text{train,train}} + \\sigma_{\\text{noise}}^2 I \\right]^{-1} (y_{\\text{train}} - m(X_{\\text{train}}))\n",
    "$$\n",
    "\n",
    "$$\n",
    "\\Sigma_{\\text{pred}} = K_{\\text{test,test}} - K_{\\text{test,train}} \\left[ K_{\\text{train,train}} + \\sigma_{\\text{noise}}^2 I \\right]^{-1} K_{\\text{train,test}}\n",
    "$$\n",
    "These equations are the core of GP regression prediction:\n",
    "\n",
    "- The first term in the predictive mean is the prior mean, and the second term is an adjustment based on the observed training data.\n",
    "- The predictive covariance shows that the uncertainty is reduced by observing data.\n",
    "\n",
    "This means that, in standard Gaussian Process regression, we do need to keep the training data (or at least the kernel matrix involving the training data) around for making predictions. This is because the predictive mean and covariance at new test points depend on the kernel evaluations between the test points and all training points, as well as the observed outputs $y_{\\text{train}}$.\n",
    "\n",
    "- **Why?**  \n",
    "    The GP posterior is a function of the entire training dataset. Each prediction at a new point uses the correlations (via the kernel) between that point and all training points to compute both the mean and uncertainty.\n",
    "\n",
    "- **Implication:**  \n",
    "    For large datasets, this can become computationally expensive (memory and time scale with the number of training points). There are various approximate methods (like sparse GPs, inducing points, or kernel approximations) that address this limitation for scalability.\n",
    "\n",
    "**Summary:**  \n",
    "- Standard GP regression requires access to the training data (or kernel matrices involving them) at prediction time.\n",
    "- This is a key difference from parametric models, where you can discard the training data after fitting.  \n",
    "- For large-scale problems, special scalable GP methods are used to avoid this bottleneck.\n",
    "\n",
    "Let's implement this prediction step in Python:"
   ]
  },
  {
   "cell_type": "code",
   "execution_count": 3,
   "id": "455e7852",
   "metadata": {},
   "outputs": [],
   "source": [
    "import jax.numpy as jnp\n",
    "from jax.scipy.linalg import solve  # Use JAX's solve for numerical stability\n",
    "\n",
    "\n",
    "def gp_predict(\n",
    "    X_train: jnp.ndarray,\n",
    "    y_train: jnp.ndarray,\n",
    "    X_test: jnp.ndarray,\n",
    "    mean_func: Callable[[jnp.ndarray], jnp.ndarray],\n",
    "    kernel_func: Callable[[jnp.ndarray, jnp.ndarray], jnp.ndarray],\n",
    "    noise_variance: float = 1e-6,  # Small value for numerical stability if noise is zero\n",
    ") -> tuple[jnp.ndarray, jnp.ndarray]:\n",
    "    \"\"\"\n",
    "    Performs Gaussian Process regression prediction.\n",
    "\n",
    "    Args:\n",
    "        X_train: Training input points. Shape (N_train, D).\n",
    "        y_train: Training output values. Shape (N_train,).\n",
    "        X_test: Test input points. Shape (N_test, D).\n",
    "        mean_func: Mean function.\n",
    "        kernel_func: Kernel function.\n",
    "        noise_variance: Variance of the observational noise.\n",
    "\n",
    "    Returns:\n",
    "        A tuple containing:\n",
    "            mu_pred: Predictive mean at test points. Shape (N_test,).\n",
    "            Sigma_pred: Predictive covariance matrix at test points. Shape (N_test, N_test).\n",
    "    \"\"\"\n",
    "    # Ensure inputs are JAX arrays and have at least 2 dimensions for inputs\n",
    "    X_train = jnp.atleast_2d(X_train)\n",
    "    X_test = jnp.atleast_2d(X_test)\n",
    "    y_train = jnp.atleast_1d(y_train)  # Ensure y_train is at least 1D\n",
    "\n",
    "    # Compute kernel matrices\n",
    "    K_train_train = kernel_func(X_train, X_train) + noise_variance * jnp.eye(\n",
    "        X_train.shape[0]\n",
    "    )\n",
    "    K_test_train = kernel_func(X_test, X_train)\n",
    "    K_test_test = kernel_func(X_test, X_test)\n",
    "\n",
    "    # Compute the term (K_train_train + sigma_noise^2 I)^-1 (y_train - m(X_train))\n",
    "    # Use jax.scipy.linalg.solve for numerical stability instead of direct inversion\n",
    "    K_train_train_inv_y_diff = solve(K_train_train, y_train - mean_func(X_train))\n",
    "\n",
    "    # Compute predictive mean\n",
    "    mu_pred = mean_func(X_test) + jnp.dot(K_test_train, K_train_train_inv_y_diff)\n",
    "\n",
    "    # Compute the term (K_train_train + sigma_noise^2 I)^-1 K_test_train^T\n",
    "    K_train_train_inv_K_test_train_T = solve(K_train_train, K_test_train.T)\n",
    "\n",
    "    # Compute predictive covariance\n",
    "    Sigma_pred = K_test_test - jnp.dot(K_test_train, K_train_train_inv_K_test_train_T)\n",
    "\n",
    "    return mu_pred, Sigma_pred\n"
   ]
  },
  {
   "cell_type": "code",
   "execution_count": 19,
   "id": "ddba6ba8",
   "metadata": {},
   "outputs": [],
   "source": [
    "import jax.random as random\n",
    "import matplotlib.pyplot as plt\n",
    "import jax.numpy as jnp\n",
    "\n",
    "# Set a random seed for reproducibility\n",
    "key = random.PRNGKey(0)\n",
    "\n",
    "# --- 1. Generate Synthetic Data ---\n",
    "# Let's create some data from a sine wave with added noise\n",
    "num_train_points = 15\n",
    "X_train = jnp.sort(\n",
    "    random.uniform(key, shape=(num_train_points, 1), minval=-5.0, maxval=5.0)\n",
    ")  # Training inputs\n",
    "true_noise_variance = 0.5**2  # Variance of the synthetic noise\n",
    "noise = random.normal(key, shape=X_train.shape) * jnp.sqrt(true_noise_variance)\n",
    "y_train = jnp.sin(X_train[:, 0]) + noise[:, 0]  # Training outputs (add noise)\n",
    "\n",
    "# --- 2. Define GP Components ---\n",
    "# We'll use a zero mean function for simplicity\n",
    "zero_mean_func = lambda x: jnp.zeros(x.shape[0])\n",
    "\n",
    "# We'll use the Squared Exponential kernel\n",
    "# Let's choose some hyperparameters (these would typically be learned)\n",
    "kernel_sigma = 1.0\n",
    "kernel_lengthscale = 1.0\n",
    "rbf_kernel = lambda x1, x2: squared_exponential_kernel(\n",
    "    x1, x2, sigma=kernel_sigma, lengthscale=kernel_lengthscale\n",
    ")\n",
    "\n",
    "# Assume we know the noise variance for the GP model (in a real scenario, this might also be learned)\n",
    "model_noise_variance = true_noise_variance\n",
    "\n",
    "# --- 3. Generate Test Points ---\n",
    "# Create a dense set of points to plot the predictive distribution\n",
    "num_test_points = 100\n",
    "X_test = jnp.linspace(-6.0, 6.0, num_test_points)[:, None]  # Test inputs\n",
    "\n",
    "# --- 4. Perform GP Prediction ---\n",
    "mu_pred, Sigma_pred = gp_predict(\n",
    "    X_train,\n",
    "    y_train,\n",
    "    X_test,\n",
    "    zero_mean_func,\n",
    "    rbf_kernel,\n",
    "    noise_variance=model_noise_variance,\n",
    ")\n",
    "\n",
    "# The diagonal of the predictive covariance matrix gives the variance at each test point\n",
    "predictive_variance = jnp.diag(Sigma_pred)\n",
    "predictive_std = jnp.sqrt(predictive_variance)\n"
   ]
  },
  {
   "cell_type": "code",
   "execution_count": 20,
   "id": "b5d650cd",
   "metadata": {},
   "outputs": [
    {
     "data": {
      "application/vnd.plotly.v1+json": {
       "config": {
        "plotlyServerURL": "https://plot.ly"
       },
       "data": [
        {
         "marker": {
          "color": "blue",
          "size": 8
         },
         "mode": "markers",
         "name": "Training Data",
         "type": "scatter",
         "x": {
          "bdata": "4kCPQEQlmUC6qta/4GqgvkTqMj/8E1bAbvPyv/yI8j887h1A+oxSwDBQm0DZ6JfA6ECzPxR9ID8wf39A",
          "dtype": "f4"
         },
         "y": {
          "bdata": "6OMkvoAYezwXB5u/iO6xvso9Oz8vcZG+5OeYv9/6mD+/y3Q/DZynvug0zD1gv7I8XhiVP+5gKj/Qn+e9",
          "dtype": "f4"
         }
        },
        {
         "line": {
          "color": "red"
         },
         "mode": "lines",
         "name": "Predictive Mean",
         "type": "scatter",
         "x": {
          "bdata": "AADAwAgfvMAPPrjAGF20wB98sMAnm6zALrqowDbZpMA++KDARRedwE42mcBVVZXAXXSRwGWTjcBssonAddGFwHzwgcAIH3zAF110wCabbMA32WTARRddwFZVVcBkk03AdNFFwIUPPsCSTTbAo4suwLLJJsDCBx/A0UUXwOCDD8DxwQfA/v//vyB88L89+OC/XHTRv37wwb+YbLK/uuiiv9lkk7/44IO/Lrpov2iySb+sqiq/5KILv0g22b7EJpu+gC46vkA+eL3gPXg9kC46Pswmmz5QNtk+7qILP7CqKj9sskk/LrpoP/jggz/bZJM/vOiiP51ssj998ME/XnTRPz/44D8gfPA/AAAAQPDBB0Dggw9A0kUXQMMHH0C0ySZApIsuQJNNNkCEDz5AdNFFQGaTTUBXVVVASBddQDbZZEAnm2xAGF10QAgffEB88IFAdNGFQG2yiUBlk41AXnSRQFZVlUBONplARhedQD74oEA32aRAL7qoQCibrEAgfLBAGF20QBA+uEAIH7xAAADAQA==",
          "dtype": "f4"
         },
         "y": {
          "bdata": "6VpDPCdTYTwGpn88KIaOPOTzmzxBHKc8QciuPLCBsTxdia08JsugPDLRiDyvbUU8+nmsO6NPh7sXd4i8p8UGvSwNW70o0KG9J3nhvdTKFr4UfEO+mQl3vle2mL53KLm+OITcvmUhAb+o1hS/6+8ov3joPL/2LVC/Vydiv3s8cr9P3n+/PkeFv+nyiL+bzIq/Ir6Kv9fAiL+z3IS/7kx+v0Z6b79Ejl2/595Iv0rGMb/Rnhi/2ID7vlb/wr46W4i+sWMYvvDr8bxeBbk99ZpWPiZfpz4ayuE+v+4MPyBzJz9IGUA/7opWP2R2aj/AkHs/4suEP+Apij+ezI0/UKWPP8usjz9E5I0/7lWKP28VhT9+gHw/YPtrP2r9WD9d+kM/qnUtP0H/FT/IXvw+skPNPibgnz40rWo+9VgdPmL6sj0otAE98KZPvFx0Ob3cxYe9JGecvfTTnL1YAoy9QOtavVQICr1gyjS8sDhQPLzsEj0grmk93/KZPWhKtz1SFcw9fjXYPeYe3D0EuNg9ajbPPQ==",
          "dtype": "f4"
         }
        },
        {
         "line": {
          "width": 0
         },
         "mode": "lines",
         "showlegend": false,
         "type": "scatter",
         "x": {
          "bdata": "AADAwAgfvMAPPrjAGF20wB98sMAnm6zALrqowDbZpMA++KDARRedwE42mcBVVZXAXXSRwGWTjcBssonAddGFwHzwgcAIH3zAF110wCabbMA32WTARRddwFZVVcBkk03AdNFFwIUPPsCSTTbAo4suwLLJJsDCBx/A0UUXwOCDD8DxwQfA/v//vyB88L89+OC/XHTRv37wwb+YbLK/uuiiv9lkk7/44IO/Lrpov2iySb+sqiq/5KILv0g22b7EJpu+gC46vkA+eL3gPXg9kC46Pswmmz5QNtk+7qILP7CqKj9sskk/LrpoP/jggz/bZJM/vOiiP51ssj998ME/XnTRPz/44D8gfPA/AAAAQPDBB0Dggw9A0kUXQMMHH0C0ySZApIsuQJNNNkCEDz5AdNFFQGaTTUBXVVVASBddQDbZZEAnm2xAGF10QAgffEB88IFAdNGFQG2yiUBlk41AXnSRQFZVlUBONplARhedQD74oEA32aRAL7qoQCibrEAgfLBAGF20QBA+uEAIH7xAAADAQA==",
          "dtype": "f4"
         },
         "y": {
          "bdata": "bZ7pPyl+4T8Ikdc/8NrLP4uKvj9iBbA/hfKgP5NAkj+XHIU/qYt1P7JVaD9y1GI/YjRjP4U0Zj80UWg/TqNmP/xBXz+yXVE/T0c9P954JD8imAk//HfgPnn8tz4xdZ0+7rKOPqZHhT4IVHQ+BPxPPkx1Fz4QiJI9AEC+vOjFBL541HK+TMOpvipWy752ede+MhDMvjSLrL6ME3++0JYXvtCmNL1wdWU99JsYPuAVcD5UwKA+8vLHPo5R7z4oGgw/TJ4hP9YcOD8bME8/9lxmPxZNfT88+Ik/xDuVP2aSoD/KA6w/6mG3Pw5Fwj/6Isw/tHHUP8TF2j8Y5N4/UsngPwKq4D/+7N4/Fh3cP2zO2D87edU/fVfSP3NXzz+8KMw/9FjIP85xwz8UEb0/Vvm0P/Abqz/0nJ8/3dCSPyY0hT8Gum4/vdJTPybYOj/AviQ/mkgSP0grBD/KtfY+FJnyPiCC/z7ozw8/1/IoPzwsST/g620/Tl2KP3K+nT/JQLA/SEHBP7BQ0D9sMN0/ds3nPw==",
          "dtype": "f4"
         }
        },
        {
         "fill": "tonexty",
         "fillcolor": "rgba(255,0,0,0.2)",
         "line": {
          "width": 0
         },
         "mode": "lines",
         "name": "95% Confidence Interval",
         "type": "scatter",
         "x": {
          "bdata": "AADAwAgfvMAPPrjAGF20wB98sMAnm6zALrqowDbZpMA++KDARRedwE42mcBVVZXAXXSRwGWTjcBssonAddGFwHzwgcAIH3zAF110wCabbMA32WTARRddwFZVVcBkk03AdNFFwIUPPsCSTTbAo4suwLLJJsDCBx/A0UUXwOCDD8DxwQfA/v//vyB88L89+OC/XHTRv37wwb+YbLK/uuiiv9lkk7/44IO/Lrpov2iySb+sqiq/5KILv0g22b7EJpu+gC46vkA+eL3gPXg9kC46Pswmmz5QNtk+7qILP7CqKj9sskk/LrpoP/jggz/bZJM/vOiiP51ssj998ME/XnTRPz/44D8gfPA/AAAAQPDBB0Dggw9A0kUXQMMHH0C0ySZApIsuQJNNNkCEDz5AdNFFQGaTTUBXVVVASBddQDbZZEAnm2xAGF10QAgffEB88IFAdNGFQG2yiUBlk41AXnSRQFZVlUBONplARhedQD74oEA32aRAL7qoQCibrEAgfLBAGF20QBA+uEAIH7xAAADAQA==",
          "dtype": "f4"
         },
         "y": {
          "bdata": "AZHmv9343b9wktO/vmbHv+uqub+AzKq/Q3ybv4W0jL+ZYH+/935rv57IX78EqVy/eoJgv8NRaL+m2HC/Anx3v6Kjer+80Xm/maV1v0jeb78sVmu/ysBrv5S0dL+I8YO/2O6Rv05zor8pYbO/bO/CvyLXz793Vtm/Vy7fv76j4b/Ag+G/qR3gv0gQ37/Yut+/OHjiv+Fe5r/01um/FFrrvxDV6b/wueS/ZvLbvwbJz7/mzsC/KL2vvw5Unb+xOoq/JNBtv5Y7R7/D7iC/+B72vuDbq758mUi+UNCEvTAXXD3wqyA+JEh5PlbFoD4Yt70+QJjUPvI35j6S1PI+OgX6Pk6++j4obvM+GjviPsZxxT4MHZw+GB9NPnBfmj3o5YK9UBpXvjLKtb6+hvu++64cv7lXNr9N40m/P/VWv7SpXb+Ag16/9U9av7IGUr82sEa/ZGI5v0RgK797Wx6/8qkUvxoCEb88dhW/EXEiv6TONr8ctlC/5D1uvyTVhr8fvpa/mDqmv9TMtL9sGcK/qObNvw==",
          "dtype": "f4"
         }
        }
       ],
       "layout": {
        "height": 500,
        "legend": {
         "x": 0.01,
         "xanchor": "left",
         "y": 0.99,
         "yanchor": "top"
        },
        "template": {
         "data": {
          "bar": [
           {
            "error_x": {
             "color": "rgb(36,36,36)"
            },
            "error_y": {
             "color": "rgb(36,36,36)"
            },
            "marker": {
             "line": {
              "color": "white",
              "width": 0.5
             },
             "pattern": {
              "fillmode": "overlay",
              "size": 10,
              "solidity": 0.2
             }
            },
            "type": "bar"
           }
          ],
          "barpolar": [
           {
            "marker": {
             "line": {
              "color": "white",
              "width": 0.5
             },
             "pattern": {
              "fillmode": "overlay",
              "size": 10,
              "solidity": 0.2
             }
            },
            "type": "barpolar"
           }
          ],
          "carpet": [
           {
            "aaxis": {
             "endlinecolor": "rgb(36,36,36)",
             "gridcolor": "white",
             "linecolor": "white",
             "minorgridcolor": "white",
             "startlinecolor": "rgb(36,36,36)"
            },
            "baxis": {
             "endlinecolor": "rgb(36,36,36)",
             "gridcolor": "white",
             "linecolor": "white",
             "minorgridcolor": "white",
             "startlinecolor": "rgb(36,36,36)"
            },
            "type": "carpet"
           }
          ],
          "choropleth": [
           {
            "colorbar": {
             "outlinewidth": 1,
             "tickcolor": "rgb(36,36,36)",
             "ticks": "outside"
            },
            "type": "choropleth"
           }
          ],
          "contour": [
           {
            "colorbar": {
             "outlinewidth": 1,
             "tickcolor": "rgb(36,36,36)",
             "ticks": "outside"
            },
            "colorscale": [
             [
              0,
              "#440154"
             ],
             [
              0.1111111111111111,
              "#482878"
             ],
             [
              0.2222222222222222,
              "#3e4989"
             ],
             [
              0.3333333333333333,
              "#31688e"
             ],
             [
              0.4444444444444444,
              "#26828e"
             ],
             [
              0.5555555555555556,
              "#1f9e89"
             ],
             [
              0.6666666666666666,
              "#35b779"
             ],
             [
              0.7777777777777778,
              "#6ece58"
             ],
             [
              0.8888888888888888,
              "#b5de2b"
             ],
             [
              1,
              "#fde725"
             ]
            ],
            "type": "contour"
           }
          ],
          "contourcarpet": [
           {
            "colorbar": {
             "outlinewidth": 1,
             "tickcolor": "rgb(36,36,36)",
             "ticks": "outside"
            },
            "type": "contourcarpet"
           }
          ],
          "heatmap": [
           {
            "colorbar": {
             "outlinewidth": 1,
             "tickcolor": "rgb(36,36,36)",
             "ticks": "outside"
            },
            "colorscale": [
             [
              0,
              "#440154"
             ],
             [
              0.1111111111111111,
              "#482878"
             ],
             [
              0.2222222222222222,
              "#3e4989"
             ],
             [
              0.3333333333333333,
              "#31688e"
             ],
             [
              0.4444444444444444,
              "#26828e"
             ],
             [
              0.5555555555555556,
              "#1f9e89"
             ],
             [
              0.6666666666666666,
              "#35b779"
             ],
             [
              0.7777777777777778,
              "#6ece58"
             ],
             [
              0.8888888888888888,
              "#b5de2b"
             ],
             [
              1,
              "#fde725"
             ]
            ],
            "type": "heatmap"
           }
          ],
          "histogram": [
           {
            "marker": {
             "line": {
              "color": "white",
              "width": 0.6
             }
            },
            "type": "histogram"
           }
          ],
          "histogram2d": [
           {
            "colorbar": {
             "outlinewidth": 1,
             "tickcolor": "rgb(36,36,36)",
             "ticks": "outside"
            },
            "colorscale": [
             [
              0,
              "#440154"
             ],
             [
              0.1111111111111111,
              "#482878"
             ],
             [
              0.2222222222222222,
              "#3e4989"
             ],
             [
              0.3333333333333333,
              "#31688e"
             ],
             [
              0.4444444444444444,
              "#26828e"
             ],
             [
              0.5555555555555556,
              "#1f9e89"
             ],
             [
              0.6666666666666666,
              "#35b779"
             ],
             [
              0.7777777777777778,
              "#6ece58"
             ],
             [
              0.8888888888888888,
              "#b5de2b"
             ],
             [
              1,
              "#fde725"
             ]
            ],
            "type": "histogram2d"
           }
          ],
          "histogram2dcontour": [
           {
            "colorbar": {
             "outlinewidth": 1,
             "tickcolor": "rgb(36,36,36)",
             "ticks": "outside"
            },
            "colorscale": [
             [
              0,
              "#440154"
             ],
             [
              0.1111111111111111,
              "#482878"
             ],
             [
              0.2222222222222222,
              "#3e4989"
             ],
             [
              0.3333333333333333,
              "#31688e"
             ],
             [
              0.4444444444444444,
              "#26828e"
             ],
             [
              0.5555555555555556,
              "#1f9e89"
             ],
             [
              0.6666666666666666,
              "#35b779"
             ],
             [
              0.7777777777777778,
              "#6ece58"
             ],
             [
              0.8888888888888888,
              "#b5de2b"
             ],
             [
              1,
              "#fde725"
             ]
            ],
            "type": "histogram2dcontour"
           }
          ],
          "mesh3d": [
           {
            "colorbar": {
             "outlinewidth": 1,
             "tickcolor": "rgb(36,36,36)",
             "ticks": "outside"
            },
            "type": "mesh3d"
           }
          ],
          "parcoords": [
           {
            "line": {
             "colorbar": {
              "outlinewidth": 1,
              "tickcolor": "rgb(36,36,36)",
              "ticks": "outside"
             }
            },
            "type": "parcoords"
           }
          ],
          "pie": [
           {
            "automargin": true,
            "type": "pie"
           }
          ],
          "scatter": [
           {
            "fillpattern": {
             "fillmode": "overlay",
             "size": 10,
             "solidity": 0.2
            },
            "type": "scatter"
           }
          ],
          "scatter3d": [
           {
            "line": {
             "colorbar": {
              "outlinewidth": 1,
              "tickcolor": "rgb(36,36,36)",
              "ticks": "outside"
             }
            },
            "marker": {
             "colorbar": {
              "outlinewidth": 1,
              "tickcolor": "rgb(36,36,36)",
              "ticks": "outside"
             }
            },
            "type": "scatter3d"
           }
          ],
          "scattercarpet": [
           {
            "marker": {
             "colorbar": {
              "outlinewidth": 1,
              "tickcolor": "rgb(36,36,36)",
              "ticks": "outside"
             }
            },
            "type": "scattercarpet"
           }
          ],
          "scattergeo": [
           {
            "marker": {
             "colorbar": {
              "outlinewidth": 1,
              "tickcolor": "rgb(36,36,36)",
              "ticks": "outside"
             }
            },
            "type": "scattergeo"
           }
          ],
          "scattergl": [
           {
            "marker": {
             "colorbar": {
              "outlinewidth": 1,
              "tickcolor": "rgb(36,36,36)",
              "ticks": "outside"
             }
            },
            "type": "scattergl"
           }
          ],
          "scattermap": [
           {
            "marker": {
             "colorbar": {
              "outlinewidth": 1,
              "tickcolor": "rgb(36,36,36)",
              "ticks": "outside"
             }
            },
            "type": "scattermap"
           }
          ],
          "scattermapbox": [
           {
            "marker": {
             "colorbar": {
              "outlinewidth": 1,
              "tickcolor": "rgb(36,36,36)",
              "ticks": "outside"
             }
            },
            "type": "scattermapbox"
           }
          ],
          "scatterpolar": [
           {
            "marker": {
             "colorbar": {
              "outlinewidth": 1,
              "tickcolor": "rgb(36,36,36)",
              "ticks": "outside"
             }
            },
            "type": "scatterpolar"
           }
          ],
          "scatterpolargl": [
           {
            "marker": {
             "colorbar": {
              "outlinewidth": 1,
              "tickcolor": "rgb(36,36,36)",
              "ticks": "outside"
             }
            },
            "type": "scatterpolargl"
           }
          ],
          "scatterternary": [
           {
            "marker": {
             "colorbar": {
              "outlinewidth": 1,
              "tickcolor": "rgb(36,36,36)",
              "ticks": "outside"
             }
            },
            "type": "scatterternary"
           }
          ],
          "surface": [
           {
            "colorbar": {
             "outlinewidth": 1,
             "tickcolor": "rgb(36,36,36)",
             "ticks": "outside"
            },
            "colorscale": [
             [
              0,
              "#440154"
             ],
             [
              0.1111111111111111,
              "#482878"
             ],
             [
              0.2222222222222222,
              "#3e4989"
             ],
             [
              0.3333333333333333,
              "#31688e"
             ],
             [
              0.4444444444444444,
              "#26828e"
             ],
             [
              0.5555555555555556,
              "#1f9e89"
             ],
             [
              0.6666666666666666,
              "#35b779"
             ],
             [
              0.7777777777777778,
              "#6ece58"
             ],
             [
              0.8888888888888888,
              "#b5de2b"
             ],
             [
              1,
              "#fde725"
             ]
            ],
            "type": "surface"
           }
          ],
          "table": [
           {
            "cells": {
             "fill": {
              "color": "rgb(237,237,237)"
             },
             "line": {
              "color": "white"
             }
            },
            "header": {
             "fill": {
              "color": "rgb(217,217,217)"
             },
             "line": {
              "color": "white"
             }
            },
            "type": "table"
           }
          ]
         },
         "layout": {
          "annotationdefaults": {
           "arrowhead": 0,
           "arrowwidth": 1
          },
          "autotypenumbers": "strict",
          "coloraxis": {
           "colorbar": {
            "outlinewidth": 1,
            "tickcolor": "rgb(36,36,36)",
            "ticks": "outside"
           }
          },
          "colorscale": {
           "diverging": [
            [
             0,
             "rgb(103,0,31)"
            ],
            [
             0.1,
             "rgb(178,24,43)"
            ],
            [
             0.2,
             "rgb(214,96,77)"
            ],
            [
             0.3,
             "rgb(244,165,130)"
            ],
            [
             0.4,
             "rgb(253,219,199)"
            ],
            [
             0.5,
             "rgb(247,247,247)"
            ],
            [
             0.6,
             "rgb(209,229,240)"
            ],
            [
             0.7,
             "rgb(146,197,222)"
            ],
            [
             0.8,
             "rgb(67,147,195)"
            ],
            [
             0.9,
             "rgb(33,102,172)"
            ],
            [
             1,
             "rgb(5,48,97)"
            ]
           ],
           "sequential": [
            [
             0,
             "#440154"
            ],
            [
             0.1111111111111111,
             "#482878"
            ],
            [
             0.2222222222222222,
             "#3e4989"
            ],
            [
             0.3333333333333333,
             "#31688e"
            ],
            [
             0.4444444444444444,
             "#26828e"
            ],
            [
             0.5555555555555556,
             "#1f9e89"
            ],
            [
             0.6666666666666666,
             "#35b779"
            ],
            [
             0.7777777777777778,
             "#6ece58"
            ],
            [
             0.8888888888888888,
             "#b5de2b"
            ],
            [
             1,
             "#fde725"
            ]
           ],
           "sequentialminus": [
            [
             0,
             "#440154"
            ],
            [
             0.1111111111111111,
             "#482878"
            ],
            [
             0.2222222222222222,
             "#3e4989"
            ],
            [
             0.3333333333333333,
             "#31688e"
            ],
            [
             0.4444444444444444,
             "#26828e"
            ],
            [
             0.5555555555555556,
             "#1f9e89"
            ],
            [
             0.6666666666666666,
             "#35b779"
            ],
            [
             0.7777777777777778,
             "#6ece58"
            ],
            [
             0.8888888888888888,
             "#b5de2b"
            ],
            [
             1,
             "#fde725"
            ]
           ]
          },
          "colorway": [
           "#1F77B4",
           "#FF7F0E",
           "#2CA02C",
           "#D62728",
           "#9467BD",
           "#8C564B",
           "#E377C2",
           "#7F7F7F",
           "#BCBD22",
           "#17BECF"
          ],
          "font": {
           "color": "rgb(36,36,36)"
          },
          "geo": {
           "bgcolor": "white",
           "lakecolor": "white",
           "landcolor": "white",
           "showlakes": true,
           "showland": true,
           "subunitcolor": "white"
          },
          "hoverlabel": {
           "align": "left"
          },
          "hovermode": "closest",
          "mapbox": {
           "style": "light"
          },
          "paper_bgcolor": "white",
          "plot_bgcolor": "white",
          "polar": {
           "angularaxis": {
            "gridcolor": "rgb(232,232,232)",
            "linecolor": "rgb(36,36,36)",
            "showgrid": false,
            "showline": true,
            "ticks": "outside"
           },
           "bgcolor": "white",
           "radialaxis": {
            "gridcolor": "rgb(232,232,232)",
            "linecolor": "rgb(36,36,36)",
            "showgrid": false,
            "showline": true,
            "ticks": "outside"
           }
          },
          "scene": {
           "xaxis": {
            "backgroundcolor": "white",
            "gridcolor": "rgb(232,232,232)",
            "gridwidth": 2,
            "linecolor": "rgb(36,36,36)",
            "showbackground": true,
            "showgrid": false,
            "showline": true,
            "ticks": "outside",
            "zeroline": false,
            "zerolinecolor": "rgb(36,36,36)"
           },
           "yaxis": {
            "backgroundcolor": "white",
            "gridcolor": "rgb(232,232,232)",
            "gridwidth": 2,
            "linecolor": "rgb(36,36,36)",
            "showbackground": true,
            "showgrid": false,
            "showline": true,
            "ticks": "outside",
            "zeroline": false,
            "zerolinecolor": "rgb(36,36,36)"
           },
           "zaxis": {
            "backgroundcolor": "white",
            "gridcolor": "rgb(232,232,232)",
            "gridwidth": 2,
            "linecolor": "rgb(36,36,36)",
            "showbackground": true,
            "showgrid": false,
            "showline": true,
            "ticks": "outside",
            "zeroline": false,
            "zerolinecolor": "rgb(36,36,36)"
           }
          },
          "shapedefaults": {
           "fillcolor": "black",
           "line": {
            "width": 0
           },
           "opacity": 0.3
          },
          "ternary": {
           "aaxis": {
            "gridcolor": "rgb(232,232,232)",
            "linecolor": "rgb(36,36,36)",
            "showgrid": false,
            "showline": true,
            "ticks": "outside"
           },
           "baxis": {
            "gridcolor": "rgb(232,232,232)",
            "linecolor": "rgb(36,36,36)",
            "showgrid": false,
            "showline": true,
            "ticks": "outside"
           },
           "bgcolor": "white",
           "caxis": {
            "gridcolor": "rgb(232,232,232)",
            "linecolor": "rgb(36,36,36)",
            "showgrid": false,
            "showline": true,
            "ticks": "outside"
           }
          },
          "title": {
           "x": 0.05
          },
          "xaxis": {
           "automargin": true,
           "gridcolor": "rgb(232,232,232)",
           "linecolor": "rgb(36,36,36)",
           "showgrid": false,
           "showline": true,
           "ticks": "outside",
           "title": {
            "standoff": 15
           },
           "zeroline": false,
           "zerolinecolor": "rgb(36,36,36)"
          },
          "yaxis": {
           "automargin": true,
           "gridcolor": "rgb(232,232,232)",
           "linecolor": "rgb(36,36,36)",
           "showgrid": false,
           "showline": true,
           "ticks": "outside",
           "title": {
            "standoff": 15
           },
           "zeroline": false,
           "zerolinecolor": "rgb(36,36,36)"
          }
         }
        },
        "title": {
         "text": "Gaussian Process Regression Example"
        },
        "width": 900,
        "xaxis": {
         "title": {
          "text": "Input (x)"
         }
        },
        "yaxis": {
         "title": {
          "text": "Output (y)"
         }
        }
       }
      }
     },
     "metadata": {},
     "output_type": "display_data"
    }
   ],
   "source": [
    "# --- 5. Plot Results with Plotly ---\n",
    "import plotly.graph_objects as go\n",
    "\n",
    "fig = go.Figure()\n",
    "\n",
    "# Plot training data\n",
    "fig.add_trace(\n",
    "    go.Scatter(\n",
    "        x=X_train[:, 0],\n",
    "        y=y_train,\n",
    "        mode=\"markers\",\n",
    "        name=\"Training Data\",\n",
    "        marker=dict(color=\"blue\", size=8),\n",
    "    )\n",
    ")\n",
    "\n",
    "# Plot predictive mean\n",
    "fig.add_trace(\n",
    "    go.Scatter(\n",
    "        x=X_test[:, 0],\n",
    "        y=mu_pred,\n",
    "        mode=\"lines\",\n",
    "        name=\"Predictive Mean\",\n",
    "        line=dict(color=\"red\"),\n",
    "    )\n",
    ")\n",
    "\n",
    "# Plot 95% confidence interval (mean +/- 2 std)\n",
    "fig.add_trace(\n",
    "    go.Scatter(\n",
    "        x=X_test[:, 0],\n",
    "        y=mu_pred + 2 * predictive_std,\n",
    "        mode=\"lines\",\n",
    "        line=dict(width=0),\n",
    "        showlegend=False,\n",
    "    )\n",
    ")\n",
    "fig.add_trace(\n",
    "    go.Scatter(\n",
    "        x=X_test[:, 0],\n",
    "        y=mu_pred - 2 * predictive_std,\n",
    "        mode=\"lines\",\n",
    "        fill=\"tonexty\",\n",
    "        fillcolor=\"rgba(255,0,0,0.2)\",\n",
    "        line=dict(width=0),\n",
    "        name=\"95% Confidence Interval\",\n",
    "    )\n",
    ")\n",
    "\n",
    "fig.update_layout(\n",
    "    title=\"Gaussian Process Regression Example\",\n",
    "    xaxis_title=\"Input (x)\",\n",
    "    yaxis_title=\"Output (y)\",\n",
    "    legend=dict(yanchor=\"top\", y=0.99, xanchor=\"left\", x=0.01),\n",
    "    width=900,\n",
    "    height=500,\n",
    "    template=\"simple_white\",\n",
    ")\n",
    "fig.show()\n"
   ]
  },
  {
   "cell_type": "markdown",
   "id": "1ab870f5",
   "metadata": {},
   "source": [
    "## Summary of Gaussian Processes\n",
    "\n",
    "To wrap up this introductory look at **Gaussian Processes (GPs)**:\n",
    "\n",
    "- **GPs are a non-parametric approach**, meaning they don't learn a fixed, finite set of parameters like traditional models.  \n",
    "- Instead, they define a **probability distribution directly over the space of functions**.\n",
    "- A GP is fully specified by its **mean function** $m(x)$ and its **covariance function (kernel)** $k(x, x')$.\n",
    "- The **kernel is key**; it defines the relationship between function values at different points and encodes assumptions about the function's properties (like smoothness).\n",
    "- Valid kernels can be understood as **inner products in a potentially infinite-dimensional feature space** (the kernel trick allows us to work with this implicitly):  \n",
    "    $$\n",
    "    k(x, x') = \\langle \\phi(x), \\phi(x') \\rangle\n",
    "    $$\n",
    "- **GP regression** involves computing the **conditional Gaussian distribution** of function values at test points, given the training data.\n",
    "- The **predictive mean** gives the most likely function value, and the **predictive covariance** provides a measure of uncertainty:\n",
    "    $$\n",
    "    \\mu_{\\text{pred}} = m(X_{\\text{test}}) + K_{\\text{test,train}} [K_{\\text{train,train}} + \\sigma_{\\text{noise}}^2 I]^{-1} (y_{\\text{train}} - m(X_{\\text{train}}))\n",
    "    $$\n",
    "    $$\n",
    "    \\Sigma_{\\text{pred}} = K_{\\text{test,test}} - K_{\\text{test,train}} [K_{\\text{train,train}} + \\sigma_{\\text{noise}}^2 I]^{-1} K_{\\text{train,test}}\n",
    "    $$\n",
    "- While the core idea is elegant, implementing GP regression involves matrix operations (like inversion or solving linear systems) that can be computationally expensive, scaling cubically with the number of training data points ($O(N^3)$). This is a key consideration for large datasets.\n",
    "\n",
    "---\n",
    "\n",
    "This is just the beginning of exploring Gaussian Processes! There are many different types of kernels, methods for optimizing hyperparameters (like the length scale and output variance), and extensions to classification and other tasks.\n",
    "\n",
    "I hope this detailed breakdown and the accompanying code examples are helpful for your blog post and your learning journey!"
   ]
  }
 ],
 "metadata": {
  "kernelspec": {
   "display_name": ".venv",
   "language": "python",
   "name": "python3"
  },
  "language_info": {
   "codemirror_mode": {
    "name": "ipython",
    "version": 3
   },
   "file_extension": ".py",
   "mimetype": "text/x-python",
   "name": "python",
   "nbconvert_exporter": "python",
   "pygments_lexer": "ipython3",
   "version": "3.12.8"
  }
 },
 "nbformat": 4,
 "nbformat_minor": 5
}
