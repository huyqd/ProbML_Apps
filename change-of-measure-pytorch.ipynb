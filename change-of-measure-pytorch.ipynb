{
 "cells": [
  {
   "cell_type": "markdown",
   "id": "b7ff8a32",
   "metadata": {},
   "source": [
    "# Change of Measure Theorem: Visualization with PyTorch\n",
    "\n",
    "This notebook demonstrates the change of measure theorem for probability densities under monotonic transformations, using PyTorch for computation and Plotly for visualization. We use a sum of sigmoid functions to create a strictly increasing function, transform a standard normal density, and visualize the effect of the change of variable formula."
   ]
  },
  {
   "cell_type": "markdown",
   "id": "1f91f84f",
   "metadata": {},
   "source": [
    "## 1. Import Required Libraries\n",
    "\n",
    "Import torch, numpy, scipy.stats, and plotly for computation and visualization."
   ]
  },
  {
   "cell_type": "code",
   "execution_count": 1,
   "id": "0aa931c1",
   "metadata": {},
   "outputs": [],
   "source": [
    "import torch\n",
    "import numpy as np\n",
    "from scipy.stats import norm\n",
    "import plotly.graph_objects as go\n",
    "import plotly.io as pio\n",
    "\n",
    "pio.templates.default = \"plotly_white\""
   ]
  },
  {
   "cell_type": "markdown",
   "id": "b641899d",
   "metadata": {},
   "source": [
    "## 2. Define Sigmoid Function and Its Derivative in PyTorch\n",
    "\n",
    "Implement the sigmoid function and its derivative using PyTorch tensors and autograd."
   ]
  },
  {
   "cell_type": "code",
   "execution_count": 3,
   "id": "5a1af10d",
   "metadata": {},
   "outputs": [],
   "source": [
    "def sigmoid(x, loc, gain):\n",
    "    return 1.0 / (1.0 + torch.exp(-(x - loc) / gain))\n",
    "\n",
    "\n",
    "def sigmoid_sum(x, locs, gains):\n",
    "    # x: [N], locs: [K], gains: [K]\n",
    "    sigs = torch.stack([sigmoid(x, loc, gain) for loc, gain in zip(locs, gains)], dim=0)\n",
    "    return sigs.sum(dim=0)\n",
    "\n",
    "\n",
    "def sigmoid_sum_derivative(x, locs, gains):\n",
    "    x = x.clone().detach().requires_grad_(True)\n",
    "    y = sigmoid_sum(x, locs, gains)\n",
    "    grad = torch.autograd.grad(\n",
    "        y, x, grad_outputs=torch.ones_like(y), create_graph=False\n",
    "    )[0]\n",
    "    return grad.detach()"
   ]
  },
  {
   "cell_type": "markdown",
   "id": "1da85c37",
   "metadata": {},
   "source": [
    "## 3. Set Parameters for Sigmoid Features\n",
    "\n",
    "Define the locations and gains for three sigmoid functions as torch tensors, and create the domain for x."
   ]
  },
  {
   "cell_type": "code",
   "execution_count": 18,
   "id": "f64b37d7",
   "metadata": {},
   "outputs": [],
   "source": [
    "# Parameters for three sigmoid features\n",
    "locs = torch.tensor([-1.0, 0.0, 1.0])\n",
    "gains = torch.tensor([1.0, 1.0, 1.0])\n",
    "\n",
    "# Domain for x\n",
    "N = 400\n",
    "x = torch.linspace(-3, 3, N)"
   ]
  },
  {
   "cell_type": "markdown",
   "id": "7f6257f6",
   "metadata": {},
   "source": [
    "## 4. Compute and Visualize the Monotonic Function\n",
    "\n",
    "Sum the three sigmoid functions to create a strictly increasing function $f(x)$ and plot the individual sigmoids and their derivatives using Plotly."
   ]
  },
  {
   "cell_type": "code",
   "execution_count": 19,
   "id": "c8e25f2d",
   "metadata": {},
   "outputs": [],
   "source": [
    "# Compute the sum of sigmoids and their derivatives\n",
    "f = sigmoid_sum(x, locs, gains)\n",
    "df = sigmoid_sum_derivative(x, locs, gains)\n"
   ]
  },
  {
   "cell_type": "code",
   "execution_count": 17,
   "id": "5b71d580",
   "metadata": {},
   "outputs": [
    {
     "data": {
      "text/plain": [
       "tensor([0.1678, 0.1699, 0.1720, 0.1741, 0.1763, 0.1784, 0.1806, 0.1828, 0.1851,\n",
       "        0.1873, 0.1896, 0.1918, 0.1941, 0.1965, 0.1988, 0.2012, 0.2036, 0.2060,\n",
       "        0.2084, 0.2108, 0.2133, 0.2158, 0.2183, 0.2208, 0.2233, 0.2259, 0.2285,\n",
       "        0.2311, 0.2337, 0.2363, 0.2390, 0.2416, 0.2443, 0.2470, 0.2497, 0.2525,\n",
       "        0.2553, 0.2580, 0.2608, 0.2636, 0.2665, 0.2693, 0.2722, 0.2751, 0.2780,\n",
       "        0.2809, 0.2838, 0.2868, 0.2897, 0.2927, 0.2957, 0.2987, 0.3017, 0.3047,\n",
       "        0.3078, 0.3108, 0.3139, 0.3170, 0.3201, 0.3232, 0.3263, 0.3294, 0.3325,\n",
       "        0.3357, 0.3388, 0.3420, 0.3452, 0.3484, 0.3516, 0.3548, 0.3580, 0.3612,\n",
       "        0.3644, 0.3676, 0.3709, 0.3741, 0.3773, 0.3806, 0.3838, 0.3871, 0.3903,\n",
       "        0.3936, 0.3968, 0.4001, 0.4033, 0.4066, 0.4099, 0.4131, 0.4164, 0.4196,\n",
       "        0.4229, 0.4261, 0.4293, 0.4326, 0.4358, 0.4390, 0.4423, 0.4455, 0.4487,\n",
       "        0.4519, 0.4550, 0.4582, 0.4614, 0.4646, 0.4677, 0.4708, 0.4740, 0.4771,\n",
       "        0.4802, 0.4832, 0.4863, 0.4894, 0.4924, 0.4954, 0.4984, 0.5014, 0.5044,\n",
       "        0.5073, 0.5103, 0.5132, 0.5161, 0.5189, 0.5218, 0.5246, 0.5274, 0.5302,\n",
       "        0.5330, 0.5357, 0.5384, 0.5411, 0.5438, 0.5464, 0.5490, 0.5516, 0.5542,\n",
       "        0.5567, 0.5592, 0.5617, 0.5641, 0.5665, 0.5689, 0.5712, 0.5736, 0.5758,\n",
       "        0.5781, 0.5803, 0.5825, 0.5847, 0.5868, 0.5889, 0.5909, 0.5929, 0.5949,\n",
       "        0.5969, 0.5988, 0.6007, 0.6025, 0.6043, 0.6061, 0.6078, 0.6095, 0.6111,\n",
       "        0.6127, 0.6143, 0.6158, 0.6173, 0.6188, 0.6202, 0.6216, 0.6229, 0.6242,\n",
       "        0.6255, 0.6267, 0.6278, 0.6290, 0.6301, 0.6311, 0.6321, 0.6331, 0.6340,\n",
       "        0.6349, 0.6357, 0.6365, 0.6372, 0.6379, 0.6386, 0.6392, 0.6398, 0.6403,\n",
       "        0.6408, 0.6412, 0.6416, 0.6420, 0.6423, 0.6426, 0.6428, 0.6430, 0.6431,\n",
       "        0.6432, 0.6432, 0.6432, 0.6432, 0.6431, 0.6430, 0.6428, 0.6426, 0.6423,\n",
       "        0.6420, 0.6416, 0.6412, 0.6408, 0.6403, 0.6398, 0.6392, 0.6386, 0.6379,\n",
       "        0.6372, 0.6365, 0.6357, 0.6349, 0.6340, 0.6331, 0.6321, 0.6311, 0.6301,\n",
       "        0.6290, 0.6278, 0.6267, 0.6255, 0.6242, 0.6229, 0.6216, 0.6202, 0.6188,\n",
       "        0.6173, 0.6158, 0.6143, 0.6127, 0.6111, 0.6095, 0.6078, 0.6061, 0.6043,\n",
       "        0.6025, 0.6007, 0.5988, 0.5969, 0.5949, 0.5929, 0.5909, 0.5889, 0.5868,\n",
       "        0.5847, 0.5825, 0.5803, 0.5781, 0.5758, 0.5736, 0.5712, 0.5689, 0.5665,\n",
       "        0.5641, 0.5617, 0.5592, 0.5567, 0.5542, 0.5516, 0.5490, 0.5464, 0.5438,\n",
       "        0.5411, 0.5384, 0.5357, 0.5330, 0.5302, 0.5274, 0.5246, 0.5218, 0.5189,\n",
       "        0.5161, 0.5132, 0.5103, 0.5073, 0.5044, 0.5014, 0.4984, 0.4954, 0.4924,\n",
       "        0.4894, 0.4863, 0.4832, 0.4802, 0.4771, 0.4740, 0.4708, 0.4677, 0.4646,\n",
       "        0.4614, 0.4582, 0.4550, 0.4519, 0.4487, 0.4455, 0.4423, 0.4390, 0.4358,\n",
       "        0.4326, 0.4293, 0.4261, 0.4229, 0.4196, 0.4164, 0.4131, 0.4099, 0.4066,\n",
       "        0.4033, 0.4001, 0.3968, 0.3936, 0.3903, 0.3871, 0.3838, 0.3806, 0.3773,\n",
       "        0.3741, 0.3709, 0.3676, 0.3644, 0.3612, 0.3580, 0.3548, 0.3516, 0.3484,\n",
       "        0.3452, 0.3420, 0.3388, 0.3357, 0.3325, 0.3294, 0.3263, 0.3232, 0.3201,\n",
       "        0.3170, 0.3139, 0.3108, 0.3078, 0.3047, 0.3017, 0.2987, 0.2957, 0.2927,\n",
       "        0.2897, 0.2868, 0.2838, 0.2809, 0.2780, 0.2751, 0.2722, 0.2693, 0.2665,\n",
       "        0.2636, 0.2608, 0.2580, 0.2553, 0.2525, 0.2497, 0.2470, 0.2443, 0.2416,\n",
       "        0.2390, 0.2363, 0.2337, 0.2311, 0.2285, 0.2259, 0.2233, 0.2208, 0.2183,\n",
       "        0.2158, 0.2133, 0.2108, 0.2084, 0.2060, 0.2036, 0.2012, 0.1988, 0.1965,\n",
       "        0.1941, 0.1918, 0.1896, 0.1873, 0.1851, 0.1828, 0.1806, 0.1784, 0.1763,\n",
       "        0.1741, 0.1720, 0.1699, 0.1678])"
      ]
     },
     "execution_count": 17,
     "metadata": {},
     "output_type": "execute_result"
    }
   ],
   "source": [
    "df"
   ]
  },
  {
   "cell_type": "code",
   "execution_count": 16,
   "id": "9af7c4ed",
   "metadata": {},
   "outputs": [
    {
     "data": {
      "text/plain": [
       "tensor([0.1678, 0.1699, 0.1720, 0.1741, 0.1763, 0.1784, 0.1806, 0.1828, 0.1851,\n",
       "        0.1873, 0.1896, 0.1918, 0.1941, 0.1965, 0.1988, 0.2012, 0.2036, 0.2060,\n",
       "        0.2084, 0.2108, 0.2133, 0.2158, 0.2183, 0.2208, 0.2233, 0.2259, 0.2285,\n",
       "        0.2311, 0.2337, 0.2363, 0.2390, 0.2416, 0.2443, 0.2470, 0.2497, 0.2525,\n",
       "        0.2553, 0.2580, 0.2608, 0.2636, 0.2665, 0.2693, 0.2722, 0.2751, 0.2780,\n",
       "        0.2809, 0.2838, 0.2868, 0.2897, 0.2927, 0.2957, 0.2987, 0.3017, 0.3047,\n",
       "        0.3078, 0.3108, 0.3139, 0.3170, 0.3201, 0.3232, 0.3263, 0.3294, 0.3325,\n",
       "        0.3357, 0.3388, 0.3420, 0.3452, 0.3484, 0.3516, 0.3548, 0.3580, 0.3612,\n",
       "        0.3644, 0.3676, 0.3709, 0.3741, 0.3773, 0.3806, 0.3838, 0.3871, 0.3903,\n",
       "        0.3936, 0.3968, 0.4001, 0.4033, 0.4066, 0.4099, 0.4131, 0.4164, 0.4196,\n",
       "        0.4229, 0.4261, 0.4293, 0.4326, 0.4358, 0.4390, 0.4423, 0.4455, 0.4487,\n",
       "        0.4519, 0.4550, 0.4582, 0.4614, 0.4646, 0.4677, 0.4708, 0.4740, 0.4771,\n",
       "        0.4802, 0.4832, 0.4863, 0.4894, 0.4924, 0.4954, 0.4984, 0.5014, 0.5044,\n",
       "        0.5073, 0.5103, 0.5132, 0.5161, 0.5189, 0.5218, 0.5246, 0.5274, 0.5302,\n",
       "        0.5330, 0.5357, 0.5384, 0.5411, 0.5438, 0.5464, 0.5490, 0.5516, 0.5542,\n",
       "        0.5567, 0.5592, 0.5617, 0.5641, 0.5665, 0.5689, 0.5712, 0.5736, 0.5758,\n",
       "        0.5781, 0.5803, 0.5825, 0.5847, 0.5868, 0.5889, 0.5909, 0.5929, 0.5949,\n",
       "        0.5969, 0.5988, 0.6007, 0.6025, 0.6043, 0.6061, 0.6078, 0.6095, 0.6111,\n",
       "        0.6127, 0.6143, 0.6158, 0.6173, 0.6188, 0.6202, 0.6216, 0.6229, 0.6242,\n",
       "        0.6255, 0.6267, 0.6278, 0.6290, 0.6301, 0.6311, 0.6321, 0.6331, 0.6340,\n",
       "        0.6349, 0.6357, 0.6365, 0.6372, 0.6379, 0.6386, 0.6392, 0.6398, 0.6403,\n",
       "        0.6408, 0.6412, 0.6416, 0.6420, 0.6423, 0.6426, 0.6428, 0.6430, 0.6431,\n",
       "        0.6432, 0.6432, 0.6432, 0.6432, 0.6431, 0.6430, 0.6428, 0.6426, 0.6423,\n",
       "        0.6420, 0.6416, 0.6412, 0.6408, 0.6403, 0.6398, 0.6392, 0.6386, 0.6379,\n",
       "        0.6372, 0.6365, 0.6357, 0.6349, 0.6340, 0.6331, 0.6321, 0.6311, 0.6301,\n",
       "        0.6290, 0.6278, 0.6267, 0.6255, 0.6242, 0.6229, 0.6216, 0.6202, 0.6188,\n",
       "        0.6173, 0.6158, 0.6143, 0.6127, 0.6111, 0.6095, 0.6078, 0.6061, 0.6043,\n",
       "        0.6025, 0.6007, 0.5988, 0.5969, 0.5949, 0.5929, 0.5909, 0.5889, 0.5868,\n",
       "        0.5847, 0.5825, 0.5803, 0.5781, 0.5758, 0.5736, 0.5712, 0.5689, 0.5665,\n",
       "        0.5641, 0.5617, 0.5592, 0.5567, 0.5542, 0.5516, 0.5490, 0.5464, 0.5438,\n",
       "        0.5411, 0.5384, 0.5357, 0.5330, 0.5302, 0.5274, 0.5246, 0.5218, 0.5189,\n",
       "        0.5161, 0.5132, 0.5103, 0.5073, 0.5044, 0.5014, 0.4984, 0.4954, 0.4924,\n",
       "        0.4894, 0.4863, 0.4832, 0.4802, 0.4771, 0.4740, 0.4708, 0.4677, 0.4646,\n",
       "        0.4614, 0.4582, 0.4550, 0.4519, 0.4487, 0.4455, 0.4423, 0.4390, 0.4358,\n",
       "        0.4326, 0.4293, 0.4261, 0.4229, 0.4196, 0.4164, 0.4131, 0.4099, 0.4066,\n",
       "        0.4033, 0.4001, 0.3968, 0.3936, 0.3903, 0.3871, 0.3838, 0.3806, 0.3773,\n",
       "        0.3741, 0.3709, 0.3676, 0.3644, 0.3612, 0.3580, 0.3548, 0.3516, 0.3484,\n",
       "        0.3452, 0.3420, 0.3388, 0.3357, 0.3325, 0.3294, 0.3263, 0.3232, 0.3201,\n",
       "        0.3170, 0.3139, 0.3108, 0.3078, 0.3047, 0.3017, 0.2987, 0.2957, 0.2927,\n",
       "        0.2897, 0.2868, 0.2838, 0.2809, 0.2780, 0.2751, 0.2722, 0.2693, 0.2665,\n",
       "        0.2636, 0.2608, 0.2580, 0.2553, 0.2525, 0.2497, 0.2470, 0.2443, 0.2416,\n",
       "        0.2390, 0.2363, 0.2337, 0.2311, 0.2285, 0.2259, 0.2233, 0.2208, 0.2183,\n",
       "        0.2158, 0.2133, 0.2108, 0.2084, 0.2060, 0.2036, 0.2012, 0.1988, 0.1965,\n",
       "        0.1941, 0.1918, 0.1896, 0.1873, 0.1851, 0.1828, 0.1806, 0.1784, 0.1763,\n",
       "        0.1741, 0.1720, 0.1699, 0.1678])"
      ]
     },
     "execution_count": 16,
     "metadata": {},
     "output_type": "execute_result"
    }
   ],
   "source": [
    "x.grad"
   ]
  },
  {
   "cell_type": "code",
   "execution_count": 12,
   "id": "5a47a983",
   "metadata": {},
   "outputs": [
    {
     "data": {
      "application/vnd.plotly.v1+json": {
       "config": {
        "plotlyServerURL": "https://plot.ly"
       },
       "data": [
        {
         "line": {
          "color": "gray",
          "width": 1
         },
         "mode": "lines",
         "name": "sigmoid",
         "showlegend": true,
         "type": "scatter",
         "x": {
          "bdata": "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",
          "dtype": "f4"
         },
         "y": {
          "bdata": "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",
          "dtype": "f4"
         }
        },
        {
         "line": {
          "color": "gray",
          "dash": "dash",
          "width": 1
         },
         "mode": "lines",
         "name": "sigmoid derivative",
         "showlegend": true,
         "type": "scatter",
         "x": {
          "bdata": "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",
          "dtype": "f4"
         },
         "y": {
          "bdata": "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",
          "dtype": "f4"
         }
        },
        {
         "line": {
          "color": "gray",
          "width": 1
         },
         "mode": "lines",
         "showlegend": false,
         "type": "scatter",
         "x": {
          "bdata": "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",
          "dtype": "f4"
         },
         "y": {
          "bdata": "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",
          "dtype": "f4"
         }
        },
        {
         "line": {
          "color": "gray",
          "dash": "dash",
          "width": 1
         },
         "mode": "lines",
         "showlegend": false,
         "type": "scatter",
         "x": {
          "bdata": "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",
          "dtype": "f4"
         },
         "y": {
          "bdata": "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",
          "dtype": "f4"
         }
        },
        {
         "line": {
          "color": "gray",
          "width": 1
         },
         "mode": "lines",
         "showlegend": false,
         "type": "scatter",
         "x": {
          "bdata": "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",
          "dtype": "f4"
         },
         "y": {
          "bdata": "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",
          "dtype": "f4"
         }
        },
        {
         "line": {
          "color": "gray",
          "dash": "dash",
          "width": 1
         },
         "mode": "lines",
         "showlegend": false,
         "type": "scatter",
         "x": {
          "bdata": "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",
          "dtype": "f4"
         },
         "y": {
          "bdata": "YbGQPB3Okjxv8pQ8cR6XPDlSmTzijZs8htGdPD8doDwncaI8V82kPOkxpzz9nqk8qBSsPAeTrjw3GrE8VqqzPHpDtjzD5bg8TJG7PDdGvjybBME8lczDPEOexjzKeck8QF/MPMROzzx1SNI8dkzVPN9a2DzTc9s8b5fePNnF4Twn/+Q8fkPoPP6S6zzE7e48+1PyPLfF9TwcQ/k8Tsz8PLgwAD1OAQI9+9cDPdK0BT3jlwc9PYEJPfJwCz0VZw09tWMPPeNmET2xcBM9MIEVPXKYFz2Hthk9gtsbPXEHHj1tOiA9fXQiPbq1JD0x/iY9+U0pPR6lKz2wAy49xmkwPXHXMj29TDU9v8k3PYdOOj0n2zw9r28/PTMMQj2+sEQ9aF1HPToSSj1Jz0w9pJRPPVxiUj2AOFU9JRdYPVT+Wj0h7l09mOZgPcrnYz3F8WY9mQRqPVQgbT0GRXA9u3JzPYKpdj1m6Xk9djJ9PV9CgD0m8IE9laKDPbRZhT2FFYc9EdaIPV2bij1rZYw9QjSOPeUHkD1c4JE9qb2TPdCflT3Shpc9uXKZPYBjmz0uWZ09xlOfPUhToT22V6M9FGGlPWBvpz2fgqk9zJqrPem3rT322a899ACyPd8stD25XbY9e5O4PSjOuj23Db09KlK/PXmbwT2i6cM9oTzGPXCUyD0I8co9ZFLNPX64zz1JI9I9w5LUPeAG1z2af9k95vzbPbd+3j0EBeE9wY/jPeQe5j1csug9HUrrPRvm7T1IhvA9jSrzPd/S9T0sf/g9Zi/7PXTj/T2jTQA+ZKsBPvMKAz5FbAQ+T88FPgM0Bz5amgg+RAIKPrRrCz6h1gw++UIOPrGwDz63HxE+AZASPn4BFD4ddBU+0ecWPoVcGD4t0hk+tkgbPg7AHD4jOB4+5LAfPj0qIT4bpCI+aR4kPhWZJT4KFCc+NI8oPnsKKj7NhSs+EQEtPjJ8Lj4Z9y8+sHExPt3rMj6MZTQ+n941PgVXNz6ezjg+V0U6PhG7Oz61Lz0+KqM+PlUVQD4ZhkE+XfVCPgdjRD75zkU+GjlHPkyhSD51B0o+dmtLPjbNTD6XLE4+e4lPPsnjUD5fO1I+JJBTPvvhVD7DMFY+ZHxXPrzEWD6xCVo+JktbPvyIXD4Zw10+XPlePqorYD7mWWE+94NiPrupYz4ay2Q+9edlPjIAZz6zE2g+YiJpPh0saj7QMGs+WzBsPqYqbT6YH24+GA9vPgv5bz5c3XA+77txPq6Ucj6DZ3M+VzR0PhL7dD6ju3U+8XV2Pugpdz5213c+iH54PgkfeT7quHk+GUx6PoXYej4fXns+19x7Pp9UfD5pxXw+Ky99PteRfT5g7X0+v0F+PueOfj7S1H4+dRN/PspKfz7Oen8+d6N/PsLEfz6r3n8+MPF/Pkz8fz4AAIA+TPx/Pi/xfz6r3n8+wsR/Pnejfz7Oen8+y0p/PnUTfz7R1H4+545+Pr5Bfj5h7X0+15F9PiwvfT5rxXw+n1R8Ptfcez4fXns+hdh6PhlMej7ruHk+Ch95Pod+eD5313c+6Cl3PvF1dj6ju3U+FPt0Plc0dD6EZ3M+rpRyPvC7cT5c3XA+DPlvPhgPbz6ZH24+piptPlswbD7PMGs+HixqPmIiaT61E2g+MwBnPvbnZT4ay2Q+vKljPveDYj7oWWE+rCtgPlz5Xj4Zw10+/IhcPidLWz6zCVo+vMRYPmN8Vz7FMFY+++FUPiWQUz5fO1I+yONQPn2JTz6ZLE4+N81MPnZrSz51B0o+S6FIPho5Rz77zkU+B2NEPlz1Qj4ahkE+VBVAPiqjPj61Lz0+D7s7PlZFOj6dzjg+A1c3PqDeNT6LZTQ+3esyPq9xMT4Y9y8+NHwuPg8BLT7MhSs+egoqPjOPKD4JFCc+FZklPmweJD4apCI+PSohPuOwHz4kOB4+D8AcPrdIGz4u0hk+hlwYPtDnFj4cdBU+fQEUPgGQEj64HxE+sbAPPvdCDj6g1gw+uGsLPkQCCj5Zmgg+AzQHPk7PBT5GbAQ+8woDPmOrAT6iTQA+cuP9PWYv+z0qf/g94dL1PY0q8z1IhvA9F+btPSJK6z1fsug93h7mPb6P4z0BBeE9uX7ePeP82z2Uf9k95gbXPQ==",
          "dtype": "f4"
         }
        },
        {
         "line": {
          "color": "red",
          "width": 2
         },
         "mode": "lines",
         "name": "$f(x)$ (sum of sigmoids)",
         "type": "scatter",
         "x": {
          "bdata": "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",
          "dtype": "f4"
         },
         "y": {
          "bdata": "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",
          "dtype": "f4"
         }
        },
        {
         "line": {
          "color": "red",
          "dash": "dash",
          "width": 2
         },
         "mode": "lines",
         "name": "$df/dx$",
         "type": "scatter",
         "x": {
          "bdata": "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",
          "dtype": "f4"
         },
         "y": {
          "bdata": "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",
          "dtype": "f4"
         }
        }
       ],
       "layout": {
        "height": 500,
        "legend": {
         "itemsizing": "constant"
        },
        "template": {
         "data": {
          "bar": [
           {
            "error_x": {
             "color": "#2a3f5f"
            },
            "error_y": {
             "color": "#2a3f5f"
            },
            "marker": {
             "line": {
              "color": "white",
              "width": 0.5
             },
             "pattern": {
              "fillmode": "overlay",
              "size": 10,
              "solidity": 0.2
             }
            },
            "type": "bar"
           }
          ],
          "barpolar": [
           {
            "marker": {
             "line": {
              "color": "white",
              "width": 0.5
             },
             "pattern": {
              "fillmode": "overlay",
              "size": 10,
              "solidity": 0.2
             }
            },
            "type": "barpolar"
           }
          ],
          "carpet": [
           {
            "aaxis": {
             "endlinecolor": "#2a3f5f",
             "gridcolor": "#C8D4E3",
             "linecolor": "#C8D4E3",
             "minorgridcolor": "#C8D4E3",
             "startlinecolor": "#2a3f5f"
            },
            "baxis": {
             "endlinecolor": "#2a3f5f",
             "gridcolor": "#C8D4E3",
             "linecolor": "#C8D4E3",
             "minorgridcolor": "#C8D4E3",
             "startlinecolor": "#2a3f5f"
            },
            "type": "carpet"
           }
          ],
          "choropleth": [
           {
            "colorbar": {
             "outlinewidth": 0,
             "ticks": ""
            },
            "type": "choropleth"
           }
          ],
          "contour": [
           {
            "colorbar": {
             "outlinewidth": 0,
             "ticks": ""
            },
            "colorscale": [
             [
              0,
              "#0d0887"
             ],
             [
              0.1111111111111111,
              "#46039f"
             ],
             [
              0.2222222222222222,
              "#7201a8"
             ],
             [
              0.3333333333333333,
              "#9c179e"
             ],
             [
              0.4444444444444444,
              "#bd3786"
             ],
             [
              0.5555555555555556,
              "#d8576b"
             ],
             [
              0.6666666666666666,
              "#ed7953"
             ],
             [
              0.7777777777777778,
              "#fb9f3a"
             ],
             [
              0.8888888888888888,
              "#fdca26"
             ],
             [
              1,
              "#f0f921"
             ]
            ],
            "type": "contour"
           }
          ],
          "contourcarpet": [
           {
            "colorbar": {
             "outlinewidth": 0,
             "ticks": ""
            },
            "type": "contourcarpet"
           }
          ],
          "heatmap": [
           {
            "colorbar": {
             "outlinewidth": 0,
             "ticks": ""
            },
            "colorscale": [
             [
              0,
              "#0d0887"
             ],
             [
              0.1111111111111111,
              "#46039f"
             ],
             [
              0.2222222222222222,
              "#7201a8"
             ],
             [
              0.3333333333333333,
              "#9c179e"
             ],
             [
              0.4444444444444444,
              "#bd3786"
             ],
             [
              0.5555555555555556,
              "#d8576b"
             ],
             [
              0.6666666666666666,
              "#ed7953"
             ],
             [
              0.7777777777777778,
              "#fb9f3a"
             ],
             [
              0.8888888888888888,
              "#fdca26"
             ],
             [
              1,
              "#f0f921"
             ]
            ],
            "type": "heatmap"
           }
          ],
          "histogram": [
           {
            "marker": {
             "pattern": {
              "fillmode": "overlay",
              "size": 10,
              "solidity": 0.2
             }
            },
            "type": "histogram"
           }
          ],
          "histogram2d": [
           {
            "colorbar": {
             "outlinewidth": 0,
             "ticks": ""
            },
            "colorscale": [
             [
              0,
              "#0d0887"
             ],
             [
              0.1111111111111111,
              "#46039f"
             ],
             [
              0.2222222222222222,
              "#7201a8"
             ],
             [
              0.3333333333333333,
              "#9c179e"
             ],
             [
              0.4444444444444444,
              "#bd3786"
             ],
             [
              0.5555555555555556,
              "#d8576b"
             ],
             [
              0.6666666666666666,
              "#ed7953"
             ],
             [
              0.7777777777777778,
              "#fb9f3a"
             ],
             [
              0.8888888888888888,
              "#fdca26"
             ],
             [
              1,
              "#f0f921"
             ]
            ],
            "type": "histogram2d"
           }
          ],
          "histogram2dcontour": [
           {
            "colorbar": {
             "outlinewidth": 0,
             "ticks": ""
            },
            "colorscale": [
             [
              0,
              "#0d0887"
             ],
             [
              0.1111111111111111,
              "#46039f"
             ],
             [
              0.2222222222222222,
              "#7201a8"
             ],
             [
              0.3333333333333333,
              "#9c179e"
             ],
             [
              0.4444444444444444,
              "#bd3786"
             ],
             [
              0.5555555555555556,
              "#d8576b"
             ],
             [
              0.6666666666666666,
              "#ed7953"
             ],
             [
              0.7777777777777778,
              "#fb9f3a"
             ],
             [
              0.8888888888888888,
              "#fdca26"
             ],
             [
              1,
              "#f0f921"
             ]
            ],
            "type": "histogram2dcontour"
           }
          ],
          "mesh3d": [
           {
            "colorbar": {
             "outlinewidth": 0,
             "ticks": ""
            },
            "type": "mesh3d"
           }
          ],
          "parcoords": [
           {
            "line": {
             "colorbar": {
              "outlinewidth": 0,
              "ticks": ""
             }
            },
            "type": "parcoords"
           }
          ],
          "pie": [
           {
            "automargin": true,
            "type": "pie"
           }
          ],
          "scatter": [
           {
            "fillpattern": {
             "fillmode": "overlay",
             "size": 10,
             "solidity": 0.2
            },
            "type": "scatter"
           }
          ],
          "scatter3d": [
           {
            "line": {
             "colorbar": {
              "outlinewidth": 0,
              "ticks": ""
             }
            },
            "marker": {
             "colorbar": {
              "outlinewidth": 0,
              "ticks": ""
             }
            },
            "type": "scatter3d"
           }
          ],
          "scattercarpet": [
           {
            "marker": {
             "colorbar": {
              "outlinewidth": 0,
              "ticks": ""
             }
            },
            "type": "scattercarpet"
           }
          ],
          "scattergeo": [
           {
            "marker": {
             "colorbar": {
              "outlinewidth": 0,
              "ticks": ""
             }
            },
            "type": "scattergeo"
           }
          ],
          "scattergl": [
           {
            "marker": {
             "colorbar": {
              "outlinewidth": 0,
              "ticks": ""
             }
            },
            "type": "scattergl"
           }
          ],
          "scattermap": [
           {
            "marker": {
             "colorbar": {
              "outlinewidth": 0,
              "ticks": ""
             }
            },
            "type": "scattermap"
           }
          ],
          "scattermapbox": [
           {
            "marker": {
             "colorbar": {
              "outlinewidth": 0,
              "ticks": ""
             }
            },
            "type": "scattermapbox"
           }
          ],
          "scatterpolar": [
           {
            "marker": {
             "colorbar": {
              "outlinewidth": 0,
              "ticks": ""
             }
            },
            "type": "scatterpolar"
           }
          ],
          "scatterpolargl": [
           {
            "marker": {
             "colorbar": {
              "outlinewidth": 0,
              "ticks": ""
             }
            },
            "type": "scatterpolargl"
           }
          ],
          "scatterternary": [
           {
            "marker": {
             "colorbar": {
              "outlinewidth": 0,
              "ticks": ""
             }
            },
            "type": "scatterternary"
           }
          ],
          "surface": [
           {
            "colorbar": {
             "outlinewidth": 0,
             "ticks": ""
            },
            "colorscale": [
             [
              0,
              "#0d0887"
             ],
             [
              0.1111111111111111,
              "#46039f"
             ],
             [
              0.2222222222222222,
              "#7201a8"
             ],
             [
              0.3333333333333333,
              "#9c179e"
             ],
             [
              0.4444444444444444,
              "#bd3786"
             ],
             [
              0.5555555555555556,
              "#d8576b"
             ],
             [
              0.6666666666666666,
              "#ed7953"
             ],
             [
              0.7777777777777778,
              "#fb9f3a"
             ],
             [
              0.8888888888888888,
              "#fdca26"
             ],
             [
              1,
              "#f0f921"
             ]
            ],
            "type": "surface"
           }
          ],
          "table": [
           {
            "cells": {
             "fill": {
              "color": "#EBF0F8"
             },
             "line": {
              "color": "white"
             }
            },
            "header": {
             "fill": {
              "color": "#C8D4E3"
             },
             "line": {
              "color": "white"
             }
            },
            "type": "table"
           }
          ]
         },
         "layout": {
          "annotationdefaults": {
           "arrowcolor": "#2a3f5f",
           "arrowhead": 0,
           "arrowwidth": 1
          },
          "autotypenumbers": "strict",
          "coloraxis": {
           "colorbar": {
            "outlinewidth": 0,
            "ticks": ""
           }
          },
          "colorscale": {
           "diverging": [
            [
             0,
             "#8e0152"
            ],
            [
             0.1,
             "#c51b7d"
            ],
            [
             0.2,
             "#de77ae"
            ],
            [
             0.3,
             "#f1b6da"
            ],
            [
             0.4,
             "#fde0ef"
            ],
            [
             0.5,
             "#f7f7f7"
            ],
            [
             0.6,
             "#e6f5d0"
            ],
            [
             0.7,
             "#b8e186"
            ],
            [
             0.8,
             "#7fbc41"
            ],
            [
             0.9,
             "#4d9221"
            ],
            [
             1,
             "#276419"
            ]
           ],
           "sequential": [
            [
             0,
             "#0d0887"
            ],
            [
             0.1111111111111111,
             "#46039f"
            ],
            [
             0.2222222222222222,
             "#7201a8"
            ],
            [
             0.3333333333333333,
             "#9c179e"
            ],
            [
             0.4444444444444444,
             "#bd3786"
            ],
            [
             0.5555555555555556,
             "#d8576b"
            ],
            [
             0.6666666666666666,
             "#ed7953"
            ],
            [
             0.7777777777777778,
             "#fb9f3a"
            ],
            [
             0.8888888888888888,
             "#fdca26"
            ],
            [
             1,
             "#f0f921"
            ]
           ],
           "sequentialminus": [
            [
             0,
             "#0d0887"
            ],
            [
             0.1111111111111111,
             "#46039f"
            ],
            [
             0.2222222222222222,
             "#7201a8"
            ],
            [
             0.3333333333333333,
             "#9c179e"
            ],
            [
             0.4444444444444444,
             "#bd3786"
            ],
            [
             0.5555555555555556,
             "#d8576b"
            ],
            [
             0.6666666666666666,
             "#ed7953"
            ],
            [
             0.7777777777777778,
             "#fb9f3a"
            ],
            [
             0.8888888888888888,
             "#fdca26"
            ],
            [
             1,
             "#f0f921"
            ]
           ]
          },
          "colorway": [
           "#636efa",
           "#EF553B",
           "#00cc96",
           "#ab63fa",
           "#FFA15A",
           "#19d3f3",
           "#FF6692",
           "#B6E880",
           "#FF97FF",
           "#FECB52"
          ],
          "font": {
           "color": "#2a3f5f"
          },
          "geo": {
           "bgcolor": "white",
           "lakecolor": "white",
           "landcolor": "white",
           "showlakes": true,
           "showland": true,
           "subunitcolor": "#C8D4E3"
          },
          "hoverlabel": {
           "align": "left"
          },
          "hovermode": "closest",
          "mapbox": {
           "style": "light"
          },
          "paper_bgcolor": "white",
          "plot_bgcolor": "white",
          "polar": {
           "angularaxis": {
            "gridcolor": "#EBF0F8",
            "linecolor": "#EBF0F8",
            "ticks": ""
           },
           "bgcolor": "white",
           "radialaxis": {
            "gridcolor": "#EBF0F8",
            "linecolor": "#EBF0F8",
            "ticks": ""
           }
          },
          "scene": {
           "xaxis": {
            "backgroundcolor": "white",
            "gridcolor": "#DFE8F3",
            "gridwidth": 2,
            "linecolor": "#EBF0F8",
            "showbackground": true,
            "ticks": "",
            "zerolinecolor": "#EBF0F8"
           },
           "yaxis": {
            "backgroundcolor": "white",
            "gridcolor": "#DFE8F3",
            "gridwidth": 2,
            "linecolor": "#EBF0F8",
            "showbackground": true,
            "ticks": "",
            "zerolinecolor": "#EBF0F8"
           },
           "zaxis": {
            "backgroundcolor": "white",
            "gridcolor": "#DFE8F3",
            "gridwidth": 2,
            "linecolor": "#EBF0F8",
            "showbackground": true,
            "ticks": "",
            "zerolinecolor": "#EBF0F8"
           }
          },
          "shapedefaults": {
           "line": {
            "color": "#2a3f5f"
           }
          },
          "ternary": {
           "aaxis": {
            "gridcolor": "#DFE8F3",
            "linecolor": "#A2B1C6",
            "ticks": ""
           },
           "baxis": {
            "gridcolor": "#DFE8F3",
            "linecolor": "#A2B1C6",
            "ticks": ""
           },
           "bgcolor": "white",
           "caxis": {
            "gridcolor": "#DFE8F3",
            "linecolor": "#A2B1C6",
            "ticks": ""
           }
          },
          "title": {
           "x": 0.05
          },
          "xaxis": {
           "automargin": true,
           "gridcolor": "#EBF0F8",
           "linecolor": "#EBF0F8",
           "ticks": "",
           "title": {
            "standoff": 15
           },
           "zerolinecolor": "#EBF0F8",
           "zerolinewidth": 2
          },
          "yaxis": {
           "automargin": true,
           "gridcolor": "#EBF0F8",
           "linecolor": "#EBF0F8",
           "ticks": "",
           "title": {
            "standoff": 15
           },
           "zerolinecolor": "#EBF0F8",
           "zerolinewidth": 2
          }
         }
        },
        "title": {
         "text": "Monotonic Function $f(x)$ and Its Derivative"
        },
        "width": 1200,
        "xaxis": {
         "title": {
          "text": "$x$"
         }
        },
        "yaxis": {
         "title": {
          "text": "Value"
         }
        }
       }
      }
     },
     "metadata": {},
     "output_type": "display_data"
    }
   ],
   "source": [
    "fig = go.Figure()\n",
    "\n",
    "# Plot individual sigmoids and their derivatives\n",
    "for i, (loc, gain) in enumerate(zip(locs, gains)):\n",
    "    sig = sigmoid(x, loc, gain).detach().numpy()\n",
    "    # Derivative: s * (1 - s) / gain\n",
    "    s = sig\n",
    "    ds = s * (1 - s) / gain.item()\n",
    "    fig.add_trace(\n",
    "        go.Scatter(\n",
    "            x=x,\n",
    "            y=sig,\n",
    "            mode=\"lines\",\n",
    "            line=dict(color=\"gray\", width=1),\n",
    "            name=\"sigmoid\" if i == 0 else None,\n",
    "            showlegend=(i == 0),\n",
    "        )\n",
    "    )\n",
    "    fig.add_trace(\n",
    "        go.Scatter(\n",
    "            x=x,\n",
    "            y=ds,\n",
    "            mode=\"lines\",\n",
    "            line=dict(color=\"gray\", width=1, dash=\"dash\"),\n",
    "            name=\"sigmoid derivative\" if i == 0 else None,\n",
    "            showlegend=(i == 0),\n",
    "        )\n",
    "    )\n",
    "\n",
    "# Plot sum of sigmoids and its derivative\n",
    "fig.add_trace(\n",
    "    go.Scatter(\n",
    "        x=x,\n",
    "        y=f,\n",
    "        mode=\"lines\",\n",
    "        line=dict(color=\"red\", width=2),\n",
    "        name=\"$f(x)$ (sum of sigmoids)\",\n",
    "    )\n",
    ")\n",
    "fig.add_trace(\n",
    "    go.Scatter(\n",
    "        x=x,\n",
    "        y=df,\n",
    "        mode=\"lines\",\n",
    "        line=dict(color=\"red\", width=2, dash=\"dash\"),\n",
    "        name=\"$df/dx$\",\n",
    "    )\n",
    ")\n",
    "\n",
    "fig.update_layout(\n",
    "    title=\"Monotonic Function $f(x)$ and Its Derivative\",\n",
    "    xaxis_title=\"$x$\",\n",
    "    yaxis_title=\"Value\",\n",
    "    legend=dict(itemsizing=\"constant\"),\n",
    "    width=1200,\n",
    "    height=500,\n",
    ")\n",
    "fig.show()"
   ]
  },
  {
   "cell_type": "markdown",
   "id": "dd8764bd",
   "metadata": {},
   "source": [
    "## 5. Compute and Plot the Original Density $p_X(x)$\n",
    "\n",
    "Compute the standard normal density using scipy.stats and plot it over the domain using Plotly."
   ]
  },
  {
   "cell_type": "code",
   "execution_count": 44,
   "id": "03b36af6",
   "metadata": {},
   "outputs": [
    {
     "data": {
      "application/vnd.plotly.v1+json": {
       "config": {
        "plotlyServerURL": "https://plot.ly"
       },
       "data": [
        {
         "line": {
          "color": "black"
         },
         "mode": "lines",
         "name": "$p_X(x)$ (standard normal)",
         "type": "scatter",
         "x": {
          "bdata": "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",
          "dtype": "f4"
         },
         "y": {
          "bdata": "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",
          "dtype": "f8"
         }
        }
       ],
       "layout": {
        "height": 300,
        "legend": {
         "itemsizing": "constant"
        },
        "template": {
         "data": {
          "bar": [
           {
            "error_x": {
             "color": "#2a3f5f"
            },
            "error_y": {
             "color": "#2a3f5f"
            },
            "marker": {
             "line": {
              "color": "white",
              "width": 0.5
             },
             "pattern": {
              "fillmode": "overlay",
              "size": 10,
              "solidity": 0.2
             }
            },
            "type": "bar"
           }
          ],
          "barpolar": [
           {
            "marker": {
             "line": {
              "color": "white",
              "width": 0.5
             },
             "pattern": {
              "fillmode": "overlay",
              "size": 10,
              "solidity": 0.2
             }
            },
            "type": "barpolar"
           }
          ],
          "carpet": [
           {
            "aaxis": {
             "endlinecolor": "#2a3f5f",
             "gridcolor": "#C8D4E3",
             "linecolor": "#C8D4E3",
             "minorgridcolor": "#C8D4E3",
             "startlinecolor": "#2a3f5f"
            },
            "baxis": {
             "endlinecolor": "#2a3f5f",
             "gridcolor": "#C8D4E3",
             "linecolor": "#C8D4E3",
             "minorgridcolor": "#C8D4E3",
             "startlinecolor": "#2a3f5f"
            },
            "type": "carpet"
           }
          ],
          "choropleth": [
           {
            "colorbar": {
             "outlinewidth": 0,
             "ticks": ""
            },
            "type": "choropleth"
           }
          ],
          "contour": [
           {
            "colorbar": {
             "outlinewidth": 0,
             "ticks": ""
            },
            "colorscale": [
             [
              0,
              "#0d0887"
             ],
             [
              0.1111111111111111,
              "#46039f"
             ],
             [
              0.2222222222222222,
              "#7201a8"
             ],
             [
              0.3333333333333333,
              "#9c179e"
             ],
             [
              0.4444444444444444,
              "#bd3786"
             ],
             [
              0.5555555555555556,
              "#d8576b"
             ],
             [
              0.6666666666666666,
              "#ed7953"
             ],
             [
              0.7777777777777778,
              "#fb9f3a"
             ],
             [
              0.8888888888888888,
              "#fdca26"
             ],
             [
              1,
              "#f0f921"
             ]
            ],
            "type": "contour"
           }
          ],
          "contourcarpet": [
           {
            "colorbar": {
             "outlinewidth": 0,
             "ticks": ""
            },
            "type": "contourcarpet"
           }
          ],
          "heatmap": [
           {
            "colorbar": {
             "outlinewidth": 0,
             "ticks": ""
            },
            "colorscale": [
             [
              0,
              "#0d0887"
             ],
             [
              0.1111111111111111,
              "#46039f"
             ],
             [
              0.2222222222222222,
              "#7201a8"
             ],
             [
              0.3333333333333333,
              "#9c179e"
             ],
             [
              0.4444444444444444,
              "#bd3786"
             ],
             [
              0.5555555555555556,
              "#d8576b"
             ],
             [
              0.6666666666666666,
              "#ed7953"
             ],
             [
              0.7777777777777778,
              "#fb9f3a"
             ],
             [
              0.8888888888888888,
              "#fdca26"
             ],
             [
              1,
              "#f0f921"
             ]
            ],
            "type": "heatmap"
           }
          ],
          "histogram": [
           {
            "marker": {
             "pattern": {
              "fillmode": "overlay",
              "size": 10,
              "solidity": 0.2
             }
            },
            "type": "histogram"
           }
          ],
          "histogram2d": [
           {
            "colorbar": {
             "outlinewidth": 0,
             "ticks": ""
            },
            "colorscale": [
             [
              0,
              "#0d0887"
             ],
             [
              0.1111111111111111,
              "#46039f"
             ],
             [
              0.2222222222222222,
              "#7201a8"
             ],
             [
              0.3333333333333333,
              "#9c179e"
             ],
             [
              0.4444444444444444,
              "#bd3786"
             ],
             [
              0.5555555555555556,
              "#d8576b"
             ],
             [
              0.6666666666666666,
              "#ed7953"
             ],
             [
              0.7777777777777778,
              "#fb9f3a"
             ],
             [
              0.8888888888888888,
              "#fdca26"
             ],
             [
              1,
              "#f0f921"
             ]
            ],
            "type": "histogram2d"
           }
          ],
          "histogram2dcontour": [
           {
            "colorbar": {
             "outlinewidth": 0,
             "ticks": ""
            },
            "colorscale": [
             [
              0,
              "#0d0887"
             ],
             [
              0.1111111111111111,
              "#46039f"
             ],
             [
              0.2222222222222222,
              "#7201a8"
             ],
             [
              0.3333333333333333,
              "#9c179e"
             ],
             [
              0.4444444444444444,
              "#bd3786"
             ],
             [
              0.5555555555555556,
              "#d8576b"
             ],
             [
              0.6666666666666666,
              "#ed7953"
             ],
             [
              0.7777777777777778,
              "#fb9f3a"
             ],
             [
              0.8888888888888888,
              "#fdca26"
             ],
             [
              1,
              "#f0f921"
             ]
            ],
            "type": "histogram2dcontour"
           }
          ],
          "mesh3d": [
           {
            "colorbar": {
             "outlinewidth": 0,
             "ticks": ""
            },
            "type": "mesh3d"
           }
          ],
          "parcoords": [
           {
            "line": {
             "colorbar": {
              "outlinewidth": 0,
              "ticks": ""
             }
            },
            "type": "parcoords"
           }
          ],
          "pie": [
           {
            "automargin": true,
            "type": "pie"
           }
          ],
          "scatter": [
           {
            "fillpattern": {
             "fillmode": "overlay",
             "size": 10,
             "solidity": 0.2
            },
            "type": "scatter"
           }
          ],
          "scatter3d": [
           {
            "line": {
             "colorbar": {
              "outlinewidth": 0,
              "ticks": ""
             }
            },
            "marker": {
             "colorbar": {
              "outlinewidth": 0,
              "ticks": ""
             }
            },
            "type": "scatter3d"
           }
          ],
          "scattercarpet": [
           {
            "marker": {
             "colorbar": {
              "outlinewidth": 0,
              "ticks": ""
             }
            },
            "type": "scattercarpet"
           }
          ],
          "scattergeo": [
           {
            "marker": {
             "colorbar": {
              "outlinewidth": 0,
              "ticks": ""
             }
            },
            "type": "scattergeo"
           }
          ],
          "scattergl": [
           {
            "marker": {
             "colorbar": {
              "outlinewidth": 0,
              "ticks": ""
             }
            },
            "type": "scattergl"
           }
          ],
          "scattermap": [
           {
            "marker": {
             "colorbar": {
              "outlinewidth": 0,
              "ticks": ""
             }
            },
            "type": "scattermap"
           }
          ],
          "scattermapbox": [
           {
            "marker": {
             "colorbar": {
              "outlinewidth": 0,
              "ticks": ""
             }
            },
            "type": "scattermapbox"
           }
          ],
          "scatterpolar": [
           {
            "marker": {
             "colorbar": {
              "outlinewidth": 0,
              "ticks": ""
             }
            },
            "type": "scatterpolar"
           }
          ],
          "scatterpolargl": [
           {
            "marker": {
             "colorbar": {
              "outlinewidth": 0,
              "ticks": ""
             }
            },
            "type": "scatterpolargl"
           }
          ],
          "scatterternary": [
           {
            "marker": {
             "colorbar": {
              "outlinewidth": 0,
              "ticks": ""
             }
            },
            "type": "scatterternary"
           }
          ],
          "surface": [
           {
            "colorbar": {
             "outlinewidth": 0,
             "ticks": ""
            },
            "colorscale": [
             [
              0,
              "#0d0887"
             ],
             [
              0.1111111111111111,
              "#46039f"
             ],
             [
              0.2222222222222222,
              "#7201a8"
             ],
             [
              0.3333333333333333,
              "#9c179e"
             ],
             [
              0.4444444444444444,
              "#bd3786"
             ],
             [
              0.5555555555555556,
              "#d8576b"
             ],
             [
              0.6666666666666666,
              "#ed7953"
             ],
             [
              0.7777777777777778,
              "#fb9f3a"
             ],
             [
              0.8888888888888888,
              "#fdca26"
             ],
             [
              1,
              "#f0f921"
             ]
            ],
            "type": "surface"
           }
          ],
          "table": [
           {
            "cells": {
             "fill": {
              "color": "#EBF0F8"
             },
             "line": {
              "color": "white"
             }
            },
            "header": {
             "fill": {
              "color": "#C8D4E3"
             },
             "line": {
              "color": "white"
             }
            },
            "type": "table"
           }
          ]
         },
         "layout": {
          "annotationdefaults": {
           "arrowcolor": "#2a3f5f",
           "arrowhead": 0,
           "arrowwidth": 1
          },
          "autotypenumbers": "strict",
          "coloraxis": {
           "colorbar": {
            "outlinewidth": 0,
            "ticks": ""
           }
          },
          "colorscale": {
           "diverging": [
            [
             0,
             "#8e0152"
            ],
            [
             0.1,
             "#c51b7d"
            ],
            [
             0.2,
             "#de77ae"
            ],
            [
             0.3,
             "#f1b6da"
            ],
            [
             0.4,
             "#fde0ef"
            ],
            [
             0.5,
             "#f7f7f7"
            ],
            [
             0.6,
             "#e6f5d0"
            ],
            [
             0.7,
             "#b8e186"
            ],
            [
             0.8,
             "#7fbc41"
            ],
            [
             0.9,
             "#4d9221"
            ],
            [
             1,
             "#276419"
            ]
           ],
           "sequential": [
            [
             0,
             "#0d0887"
            ],
            [
             0.1111111111111111,
             "#46039f"
            ],
            [
             0.2222222222222222,
             "#7201a8"
            ],
            [
             0.3333333333333333,
             "#9c179e"
            ],
            [
             0.4444444444444444,
             "#bd3786"
            ],
            [
             0.5555555555555556,
             "#d8576b"
            ],
            [
             0.6666666666666666,
             "#ed7953"
            ],
            [
             0.7777777777777778,
             "#fb9f3a"
            ],
            [
             0.8888888888888888,
             "#fdca26"
            ],
            [
             1,
             "#f0f921"
            ]
           ],
           "sequentialminus": [
            [
             0,
             "#0d0887"
            ],
            [
             0.1111111111111111,
             "#46039f"
            ],
            [
             0.2222222222222222,
             "#7201a8"
            ],
            [
             0.3333333333333333,
             "#9c179e"
            ],
            [
             0.4444444444444444,
             "#bd3786"
            ],
            [
             0.5555555555555556,
             "#d8576b"
            ],
            [
             0.6666666666666666,
             "#ed7953"
            ],
            [
             0.7777777777777778,
             "#fb9f3a"
            ],
            [
             0.8888888888888888,
             "#fdca26"
            ],
            [
             1,
             "#f0f921"
            ]
           ]
          },
          "colorway": [
           "#636efa",
           "#EF553B",
           "#00cc96",
           "#ab63fa",
           "#FFA15A",
           "#19d3f3",
           "#FF6692",
           "#B6E880",
           "#FF97FF",
           "#FECB52"
          ],
          "font": {
           "color": "#2a3f5f"
          },
          "geo": {
           "bgcolor": "white",
           "lakecolor": "white",
           "landcolor": "white",
           "showlakes": true,
           "showland": true,
           "subunitcolor": "#C8D4E3"
          },
          "hoverlabel": {
           "align": "left"
          },
          "hovermode": "closest",
          "mapbox": {
           "style": "light"
          },
          "paper_bgcolor": "white",
          "plot_bgcolor": "white",
          "polar": {
           "angularaxis": {
            "gridcolor": "#EBF0F8",
            "linecolor": "#EBF0F8",
            "ticks": ""
           },
           "bgcolor": "white",
           "radialaxis": {
            "gridcolor": "#EBF0F8",
            "linecolor": "#EBF0F8",
            "ticks": ""
           }
          },
          "scene": {
           "xaxis": {
            "backgroundcolor": "white",
            "gridcolor": "#DFE8F3",
            "gridwidth": 2,
            "linecolor": "#EBF0F8",
            "showbackground": true,
            "ticks": "",
            "zerolinecolor": "#EBF0F8"
           },
           "yaxis": {
            "backgroundcolor": "white",
            "gridcolor": "#DFE8F3",
            "gridwidth": 2,
            "linecolor": "#EBF0F8",
            "showbackground": true,
            "ticks": "",
            "zerolinecolor": "#EBF0F8"
           },
           "zaxis": {
            "backgroundcolor": "white",
            "gridcolor": "#DFE8F3",
            "gridwidth": 2,
            "linecolor": "#EBF0F8",
            "showbackground": true,
            "ticks": "",
            "zerolinecolor": "#EBF0F8"
           }
          },
          "shapedefaults": {
           "line": {
            "color": "#2a3f5f"
           }
          },
          "ternary": {
           "aaxis": {
            "gridcolor": "#DFE8F3",
            "linecolor": "#A2B1C6",
            "ticks": ""
           },
           "baxis": {
            "gridcolor": "#DFE8F3",
            "linecolor": "#A2B1C6",
            "ticks": ""
           },
           "bgcolor": "white",
           "caxis": {
            "gridcolor": "#DFE8F3",
            "linecolor": "#A2B1C6",
            "ticks": ""
           }
          },
          "title": {
           "x": 0.05
          },
          "xaxis": {
           "automargin": true,
           "gridcolor": "#EBF0F8",
           "linecolor": "#EBF0F8",
           "ticks": "",
           "title": {
            "standoff": 15
           },
           "zerolinecolor": "#EBF0F8",
           "zerolinewidth": 2
          },
          "yaxis": {
           "automargin": true,
           "gridcolor": "#EBF0F8",
           "linecolor": "#EBF0F8",
           "ticks": "",
           "title": {
            "standoff": 15
           },
           "zerolinecolor": "#EBF0F8",
           "zerolinewidth": 2
          }
         }
        },
        "title": {
         "text": "Original Density $p_X(x)$"
        },
        "width": 1300,
        "xaxis": {
         "title": {
          "text": "$x$"
         }
        },
        "yaxis": {
         "title": {
          "text": "Density"
         }
        }
       }
      }
     },
     "metadata": {},
     "output_type": "display_data"
    }
   ],
   "source": [
    "# Standard normal density\n",
    "p_x = torch.from_numpy(norm.pdf(x, loc=0, scale=1))\n",
    "\n",
    "fig_px = go.Figure()\n",
    "fig_px.add_trace(\n",
    "    go.Scatter(\n",
    "        x=x,\n",
    "        y=p_x,\n",
    "        mode=\"lines\",\n",
    "        line=dict(color=\"black\"),\n",
    "        name=\"$p_X(x)$ (standard normal)\",\n",
    "    )\n",
    ")\n",
    "fig_px.update_layout(\n",
    "    title=\"Original Density $p_X(x)$\",\n",
    "    xaxis_title=\"$x$\",\n",
    "    yaxis_title=\"Density\",\n",
    "    legend=dict(itemsizing=\"constant\"),\n",
    "    width=1300,\n",
    "    height=300,\n",
    ")\n",
    "fig_px.show()\n"
   ]
  },
  {
   "cell_type": "markdown",
   "id": "a8e05f6e",
   "metadata": {},
   "source": [
    "## 6. Compute and Plot the Transformed Density $p_X(v(y))$\n",
    "\n",
    "Numerically invert $f(x)$ to find $x = v(y)$ for each $y$, and plot the naive transformed density $p_X(v(y))$ as a function of $y$."
   ]
  },
  {
   "cell_type": "code",
   "execution_count": 46,
   "id": "d847e03b",
   "metadata": {},
   "outputs": [
    {
     "data": {
      "application/vnd.plotly.v1+json": {
       "config": {
        "plotlyServerURL": "https://plot.ly"
       },
       "data": [
        {
         "line": {
          "color": "orange",
          "dash": "dashdot"
         },
         "mode": "lines",
         "name": "$p_X(v(y))$ (naive)",
         "type": "scatter",
         "x": {
          "bdata": "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",
          "dtype": "f4"
         },
         "y": {
          "bdata": "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",
          "dtype": "f8"
         }
        }
       ],
       "layout": {
        "height": 350,
        "legend": {
         "itemsizing": "constant"
        },
        "template": {
         "data": {
          "bar": [
           {
            "error_x": {
             "color": "#2a3f5f"
            },
            "error_y": {
             "color": "#2a3f5f"
            },
            "marker": {
             "line": {
              "color": "white",
              "width": 0.5
             },
             "pattern": {
              "fillmode": "overlay",
              "size": 10,
              "solidity": 0.2
             }
            },
            "type": "bar"
           }
          ],
          "barpolar": [
           {
            "marker": {
             "line": {
              "color": "white",
              "width": 0.5
             },
             "pattern": {
              "fillmode": "overlay",
              "size": 10,
              "solidity": 0.2
             }
            },
            "type": "barpolar"
           }
          ],
          "carpet": [
           {
            "aaxis": {
             "endlinecolor": "#2a3f5f",
             "gridcolor": "#C8D4E3",
             "linecolor": "#C8D4E3",
             "minorgridcolor": "#C8D4E3",
             "startlinecolor": "#2a3f5f"
            },
            "baxis": {
             "endlinecolor": "#2a3f5f",
             "gridcolor": "#C8D4E3",
             "linecolor": "#C8D4E3",
             "minorgridcolor": "#C8D4E3",
             "startlinecolor": "#2a3f5f"
            },
            "type": "carpet"
           }
          ],
          "choropleth": [
           {
            "colorbar": {
             "outlinewidth": 0,
             "ticks": ""
            },
            "type": "choropleth"
           }
          ],
          "contour": [
           {
            "colorbar": {
             "outlinewidth": 0,
             "ticks": ""
            },
            "colorscale": [
             [
              0,
              "#0d0887"
             ],
             [
              0.1111111111111111,
              "#46039f"
             ],
             [
              0.2222222222222222,
              "#7201a8"
             ],
             [
              0.3333333333333333,
              "#9c179e"
             ],
             [
              0.4444444444444444,
              "#bd3786"
             ],
             [
              0.5555555555555556,
              "#d8576b"
             ],
             [
              0.6666666666666666,
              "#ed7953"
             ],
             [
              0.7777777777777778,
              "#fb9f3a"
             ],
             [
              0.8888888888888888,
              "#fdca26"
             ],
             [
              1,
              "#f0f921"
             ]
            ],
            "type": "contour"
           }
          ],
          "contourcarpet": [
           {
            "colorbar": {
             "outlinewidth": 0,
             "ticks": ""
            },
            "type": "contourcarpet"
           }
          ],
          "heatmap": [
           {
            "colorbar": {
             "outlinewidth": 0,
             "ticks": ""
            },
            "colorscale": [
             [
              0,
              "#0d0887"
             ],
             [
              0.1111111111111111,
              "#46039f"
             ],
             [
              0.2222222222222222,
              "#7201a8"
             ],
             [
              0.3333333333333333,
              "#9c179e"
             ],
             [
              0.4444444444444444,
              "#bd3786"
             ],
             [
              0.5555555555555556,
              "#d8576b"
             ],
             [
              0.6666666666666666,
              "#ed7953"
             ],
             [
              0.7777777777777778,
              "#fb9f3a"
             ],
             [
              0.8888888888888888,
              "#fdca26"
             ],
             [
              1,
              "#f0f921"
             ]
            ],
            "type": "heatmap"
           }
          ],
          "histogram": [
           {
            "marker": {
             "pattern": {
              "fillmode": "overlay",
              "size": 10,
              "solidity": 0.2
             }
            },
            "type": "histogram"
           }
          ],
          "histogram2d": [
           {
            "colorbar": {
             "outlinewidth": 0,
             "ticks": ""
            },
            "colorscale": [
             [
              0,
              "#0d0887"
             ],
             [
              0.1111111111111111,
              "#46039f"
             ],
             [
              0.2222222222222222,
              "#7201a8"
             ],
             [
              0.3333333333333333,
              "#9c179e"
             ],
             [
              0.4444444444444444,
              "#bd3786"
             ],
             [
              0.5555555555555556,
              "#d8576b"
             ],
             [
              0.6666666666666666,
              "#ed7953"
             ],
             [
              0.7777777777777778,
              "#fb9f3a"
             ],
             [
              0.8888888888888888,
              "#fdca26"
             ],
             [
              1,
              "#f0f921"
             ]
            ],
            "type": "histogram2d"
           }
          ],
          "histogram2dcontour": [
           {
            "colorbar": {
             "outlinewidth": 0,
             "ticks": ""
            },
            "colorscale": [
             [
              0,
              "#0d0887"
             ],
             [
              0.1111111111111111,
              "#46039f"
             ],
             [
              0.2222222222222222,
              "#7201a8"
             ],
             [
              0.3333333333333333,
              "#9c179e"
             ],
             [
              0.4444444444444444,
              "#bd3786"
             ],
             [
              0.5555555555555556,
              "#d8576b"
             ],
             [
              0.6666666666666666,
              "#ed7953"
             ],
             [
              0.7777777777777778,
              "#fb9f3a"
             ],
             [
              0.8888888888888888,
              "#fdca26"
             ],
             [
              1,
              "#f0f921"
             ]
            ],
            "type": "histogram2dcontour"
           }
          ],
          "mesh3d": [
           {
            "colorbar": {
             "outlinewidth": 0,
             "ticks": ""
            },
            "type": "mesh3d"
           }
          ],
          "parcoords": [
           {
            "line": {
             "colorbar": {
              "outlinewidth": 0,
              "ticks": ""
             }
            },
            "type": "parcoords"
           }
          ],
          "pie": [
           {
            "automargin": true,
            "type": "pie"
           }
          ],
          "scatter": [
           {
            "fillpattern": {
             "fillmode": "overlay",
             "size": 10,
             "solidity": 0.2
            },
            "type": "scatter"
           }
          ],
          "scatter3d": [
           {
            "line": {
             "colorbar": {
              "outlinewidth": 0,
              "ticks": ""
             }
            },
            "marker": {
             "colorbar": {
              "outlinewidth": 0,
              "ticks": ""
             }
            },
            "type": "scatter3d"
           }
          ],
          "scattercarpet": [
           {
            "marker": {
             "colorbar": {
              "outlinewidth": 0,
              "ticks": ""
             }
            },
            "type": "scattercarpet"
           }
          ],
          "scattergeo": [
           {
            "marker": {
             "colorbar": {
              "outlinewidth": 0,
              "ticks": ""
             }
            },
            "type": "scattergeo"
           }
          ],
          "scattergl": [
           {
            "marker": {
             "colorbar": {
              "outlinewidth": 0,
              "ticks": ""
             }
            },
            "type": "scattergl"
           }
          ],
          "scattermap": [
           {
            "marker": {
             "colorbar": {
              "outlinewidth": 0,
              "ticks": ""
             }
            },
            "type": "scattermap"
           }
          ],
          "scattermapbox": [
           {
            "marker": {
             "colorbar": {
              "outlinewidth": 0,
              "ticks": ""
             }
            },
            "type": "scattermapbox"
           }
          ],
          "scatterpolar": [
           {
            "marker": {
             "colorbar": {
              "outlinewidth": 0,
              "ticks": ""
             }
            },
            "type": "scatterpolar"
           }
          ],
          "scatterpolargl": [
           {
            "marker": {
             "colorbar": {
              "outlinewidth": 0,
              "ticks": ""
             }
            },
            "type": "scatterpolargl"
           }
          ],
          "scatterternary": [
           {
            "marker": {
             "colorbar": {
              "outlinewidth": 0,
              "ticks": ""
             }
            },
            "type": "scatterternary"
           }
          ],
          "surface": [
           {
            "colorbar": {
             "outlinewidth": 0,
             "ticks": ""
            },
            "colorscale": [
             [
              0,
              "#0d0887"
             ],
             [
              0.1111111111111111,
              "#46039f"
             ],
             [
              0.2222222222222222,
              "#7201a8"
             ],
             [
              0.3333333333333333,
              "#9c179e"
             ],
             [
              0.4444444444444444,
              "#bd3786"
             ],
             [
              0.5555555555555556,
              "#d8576b"
             ],
             [
              0.6666666666666666,
              "#ed7953"
             ],
             [
              0.7777777777777778,
              "#fb9f3a"
             ],
             [
              0.8888888888888888,
              "#fdca26"
             ],
             [
              1,
              "#f0f921"
             ]
            ],
            "type": "surface"
           }
          ],
          "table": [
           {
            "cells": {
             "fill": {
              "color": "#EBF0F8"
             },
             "line": {
              "color": "white"
             }
            },
            "header": {
             "fill": {
              "color": "#C8D4E3"
             },
             "line": {
              "color": "white"
             }
            },
            "type": "table"
           }
          ]
         },
         "layout": {
          "annotationdefaults": {
           "arrowcolor": "#2a3f5f",
           "arrowhead": 0,
           "arrowwidth": 1
          },
          "autotypenumbers": "strict",
          "coloraxis": {
           "colorbar": {
            "outlinewidth": 0,
            "ticks": ""
           }
          },
          "colorscale": {
           "diverging": [
            [
             0,
             "#8e0152"
            ],
            [
             0.1,
             "#c51b7d"
            ],
            [
             0.2,
             "#de77ae"
            ],
            [
             0.3,
             "#f1b6da"
            ],
            [
             0.4,
             "#fde0ef"
            ],
            [
             0.5,
             "#f7f7f7"
            ],
            [
             0.6,
             "#e6f5d0"
            ],
            [
             0.7,
             "#b8e186"
            ],
            [
             0.8,
             "#7fbc41"
            ],
            [
             0.9,
             "#4d9221"
            ],
            [
             1,
             "#276419"
            ]
           ],
           "sequential": [
            [
             0,
             "#0d0887"
            ],
            [
             0.1111111111111111,
             "#46039f"
            ],
            [
             0.2222222222222222,
             "#7201a8"
            ],
            [
             0.3333333333333333,
             "#9c179e"
            ],
            [
             0.4444444444444444,
             "#bd3786"
            ],
            [
             0.5555555555555556,
             "#d8576b"
            ],
            [
             0.6666666666666666,
             "#ed7953"
            ],
            [
             0.7777777777777778,
             "#fb9f3a"
            ],
            [
             0.8888888888888888,
             "#fdca26"
            ],
            [
             1,
             "#f0f921"
            ]
           ],
           "sequentialminus": [
            [
             0,
             "#0d0887"
            ],
            [
             0.1111111111111111,
             "#46039f"
            ],
            [
             0.2222222222222222,
             "#7201a8"
            ],
            [
             0.3333333333333333,
             "#9c179e"
            ],
            [
             0.4444444444444444,
             "#bd3786"
            ],
            [
             0.5555555555555556,
             "#d8576b"
            ],
            [
             0.6666666666666666,
             "#ed7953"
            ],
            [
             0.7777777777777778,
             "#fb9f3a"
            ],
            [
             0.8888888888888888,
             "#fdca26"
            ],
            [
             1,
             "#f0f921"
            ]
           ]
          },
          "colorway": [
           "#636efa",
           "#EF553B",
           "#00cc96",
           "#ab63fa",
           "#FFA15A",
           "#19d3f3",
           "#FF6692",
           "#B6E880",
           "#FF97FF",
           "#FECB52"
          ],
          "font": {
           "color": "#2a3f5f"
          },
          "geo": {
           "bgcolor": "white",
           "lakecolor": "white",
           "landcolor": "white",
           "showlakes": true,
           "showland": true,
           "subunitcolor": "#C8D4E3"
          },
          "hoverlabel": {
           "align": "left"
          },
          "hovermode": "closest",
          "mapbox": {
           "style": "light"
          },
          "paper_bgcolor": "white",
          "plot_bgcolor": "white",
          "polar": {
           "angularaxis": {
            "gridcolor": "#EBF0F8",
            "linecolor": "#EBF0F8",
            "ticks": ""
           },
           "bgcolor": "white",
           "radialaxis": {
            "gridcolor": "#EBF0F8",
            "linecolor": "#EBF0F8",
            "ticks": ""
           }
          },
          "scene": {
           "xaxis": {
            "backgroundcolor": "white",
            "gridcolor": "#DFE8F3",
            "gridwidth": 2,
            "linecolor": "#EBF0F8",
            "showbackground": true,
            "ticks": "",
            "zerolinecolor": "#EBF0F8"
           },
           "yaxis": {
            "backgroundcolor": "white",
            "gridcolor": "#DFE8F3",
            "gridwidth": 2,
            "linecolor": "#EBF0F8",
            "showbackground": true,
            "ticks": "",
            "zerolinecolor": "#EBF0F8"
           },
           "zaxis": {
            "backgroundcolor": "white",
            "gridcolor": "#DFE8F3",
            "gridwidth": 2,
            "linecolor": "#EBF0F8",
            "showbackground": true,
            "ticks": "",
            "zerolinecolor": "#EBF0F8"
           }
          },
          "shapedefaults": {
           "line": {
            "color": "#2a3f5f"
           }
          },
          "ternary": {
           "aaxis": {
            "gridcolor": "#DFE8F3",
            "linecolor": "#A2B1C6",
            "ticks": ""
           },
           "baxis": {
            "gridcolor": "#DFE8F3",
            "linecolor": "#A2B1C6",
            "ticks": ""
           },
           "bgcolor": "white",
           "caxis": {
            "gridcolor": "#DFE8F3",
            "linecolor": "#A2B1C6",
            "ticks": ""
           }
          },
          "title": {
           "x": 0.05
          },
          "xaxis": {
           "automargin": true,
           "gridcolor": "#EBF0F8",
           "linecolor": "#EBF0F8",
           "ticks": "",
           "title": {
            "standoff": 15
           },
           "zerolinecolor": "#EBF0F8",
           "zerolinewidth": 2
          },
          "yaxis": {
           "automargin": true,
           "gridcolor": "#EBF0F8",
           "linecolor": "#EBF0F8",
           "ticks": "",
           "title": {
            "standoff": 15
           },
           "zerolinecolor": "#EBF0F8",
           "zerolinewidth": 2
          }
         }
        },
        "title": {
         "text": "Transformed Density $p_X(v(y))$ (without correction)"
        },
        "width": 900,
        "xaxis": {
         "title": {
          "text": "$y$"
         }
        },
        "yaxis": {
         "title": {
          "text": "Density"
         }
        }
       }
      }
     },
     "metadata": {},
     "output_type": "display_data"
    }
   ],
   "source": [
    "from scipy.interpolate import interp1d\n",
    "\n",
    "# y values (sorted)\n",
    "y = f\n",
    "sort_idx = np.argsort(y)\n",
    "y_sorted = y[sort_idx]\n",
    "x_sorted = x[sort_idx]\n",
    "\n",
    "# Inverse function: v(y)\n",
    "v_func = interp1d(y_sorted, x_sorted, bounds_error=False, fill_value=\"extrapolate\")\n",
    "\n",
    "# Evaluate p_X at v(y)\n",
    "p_x_vy = torch.from_numpy(norm.pdf(v_func(y_sorted), loc=0, scale=1))\n",
    "\n",
    "fig_vy = go.Figure()\n",
    "fig_vy.add_trace(\n",
    "    go.Scatter(\n",
    "        x=y_sorted,\n",
    "        y=p_x_vy,\n",
    "        mode=\"lines\",\n",
    "        line=dict(color=\"orange\", dash=\"dashdot\"),\n",
    "        name=\"$p_X(v(y))$ (naive)\",\n",
    "    )\n",
    ")\n",
    "fig_vy.update_layout(\n",
    "    title=\"Transformed Density $p_X(v(y))$ (without correction)\",\n",
    "    xaxis_title=\"$y$\",\n",
    "    yaxis_title=\"Density\",\n",
    "    legend=dict(itemsizing=\"constant\"),\n",
    "    width=900,\n",
    "    height=350,\n",
    ")\n",
    "fig_vy.show()"
   ]
  },
  {
   "cell_type": "markdown",
   "id": "0b8e6323",
   "metadata": {},
   "source": [
    "## 7. Apply Change of Measure Correction and Plot $p_Y(y)$\n",
    "\n",
    "Multiply $p_X(v(y))$ by the absolute value of the derivative of the inverse function to obtain the correct transformed density $p_Y(y)$ and plot it."
   ]
  },
  {
   "cell_type": "code",
   "execution_count": 47,
   "id": "36b35517",
   "metadata": {},
   "outputs": [
    {
     "name": "stderr",
     "output_type": "stream",
     "text": [
      "/var/folders/0b/bk8cqvp552bglhb3xz88dsmh0000gp/T/ipykernel_19700/3855236318.py:7: DeprecationWarning:\n",
      "\n",
      "__array_wrap__ must accept context and return_scalar arguments (positionally) in the future. (Deprecated NumPy 2.0)\n",
      "\n"
     ]
    },
    {
     "data": {
      "application/vnd.plotly.v1+json": {
       "config": {
        "plotlyServerURL": "https://plot.ly"
       },
       "data": [
        {
         "line": {
          "color": "orange",
          "dash": "dashdot"
         },
         "mode": "lines",
         "name": "$p_X(v(y))$ (naive)",
         "type": "scatter",
         "x": {
          "bdata": "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",
          "dtype": "f4"
         },
         "y": {
          "bdata": "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",
          "dtype": "f8"
         }
        },
        {
         "line": {
          "color": "green"
         },
         "mode": "lines",
         "name": "$p_Y(y)$ (corrected)",
         "type": "scatter",
         "x": {
          "bdata": "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",
          "dtype": "f4"
         },
         "y": {
          "bdata": "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",
          "dtype": "f8"
         }
        }
       ],
       "layout": {
        "height": 350,
        "legend": {
         "itemsizing": "constant"
        },
        "template": {
         "data": {
          "bar": [
           {
            "error_x": {
             "color": "#2a3f5f"
            },
            "error_y": {
             "color": "#2a3f5f"
            },
            "marker": {
             "line": {
              "color": "white",
              "width": 0.5
             },
             "pattern": {
              "fillmode": "overlay",
              "size": 10,
              "solidity": 0.2
             }
            },
            "type": "bar"
           }
          ],
          "barpolar": [
           {
            "marker": {
             "line": {
              "color": "white",
              "width": 0.5
             },
             "pattern": {
              "fillmode": "overlay",
              "size": 10,
              "solidity": 0.2
             }
            },
            "type": "barpolar"
           }
          ],
          "carpet": [
           {
            "aaxis": {
             "endlinecolor": "#2a3f5f",
             "gridcolor": "#C8D4E3",
             "linecolor": "#C8D4E3",
             "minorgridcolor": "#C8D4E3",
             "startlinecolor": "#2a3f5f"
            },
            "baxis": {
             "endlinecolor": "#2a3f5f",
             "gridcolor": "#C8D4E3",
             "linecolor": "#C8D4E3",
             "minorgridcolor": "#C8D4E3",
             "startlinecolor": "#2a3f5f"
            },
            "type": "carpet"
           }
          ],
          "choropleth": [
           {
            "colorbar": {
             "outlinewidth": 0,
             "ticks": ""
            },
            "type": "choropleth"
           }
          ],
          "contour": [
           {
            "colorbar": {
             "outlinewidth": 0,
             "ticks": ""
            },
            "colorscale": [
             [
              0,
              "#0d0887"
             ],
             [
              0.1111111111111111,
              "#46039f"
             ],
             [
              0.2222222222222222,
              "#7201a8"
             ],
             [
              0.3333333333333333,
              "#9c179e"
             ],
             [
              0.4444444444444444,
              "#bd3786"
             ],
             [
              0.5555555555555556,
              "#d8576b"
             ],
             [
              0.6666666666666666,
              "#ed7953"
             ],
             [
              0.7777777777777778,
              "#fb9f3a"
             ],
             [
              0.8888888888888888,
              "#fdca26"
             ],
             [
              1,
              "#f0f921"
             ]
            ],
            "type": "contour"
           }
          ],
          "contourcarpet": [
           {
            "colorbar": {
             "outlinewidth": 0,
             "ticks": ""
            },
            "type": "contourcarpet"
           }
          ],
          "heatmap": [
           {
            "colorbar": {
             "outlinewidth": 0,
             "ticks": ""
            },
            "colorscale": [
             [
              0,
              "#0d0887"
             ],
             [
              0.1111111111111111,
              "#46039f"
             ],
             [
              0.2222222222222222,
              "#7201a8"
             ],
             [
              0.3333333333333333,
              "#9c179e"
             ],
             [
              0.4444444444444444,
              "#bd3786"
             ],
             [
              0.5555555555555556,
              "#d8576b"
             ],
             [
              0.6666666666666666,
              "#ed7953"
             ],
             [
              0.7777777777777778,
              "#fb9f3a"
             ],
             [
              0.8888888888888888,
              "#fdca26"
             ],
             [
              1,
              "#f0f921"
             ]
            ],
            "type": "heatmap"
           }
          ],
          "histogram": [
           {
            "marker": {
             "pattern": {
              "fillmode": "overlay",
              "size": 10,
              "solidity": 0.2
             }
            },
            "type": "histogram"
           }
          ],
          "histogram2d": [
           {
            "colorbar": {
             "outlinewidth": 0,
             "ticks": ""
            },
            "colorscale": [
             [
              0,
              "#0d0887"
             ],
             [
              0.1111111111111111,
              "#46039f"
             ],
             [
              0.2222222222222222,
              "#7201a8"
             ],
             [
              0.3333333333333333,
              "#9c179e"
             ],
             [
              0.4444444444444444,
              "#bd3786"
             ],
             [
              0.5555555555555556,
              "#d8576b"
             ],
             [
              0.6666666666666666,
              "#ed7953"
             ],
             [
              0.7777777777777778,
              "#fb9f3a"
             ],
             [
              0.8888888888888888,
              "#fdca26"
             ],
             [
              1,
              "#f0f921"
             ]
            ],
            "type": "histogram2d"
           }
          ],
          "histogram2dcontour": [
           {
            "colorbar": {
             "outlinewidth": 0,
             "ticks": ""
            },
            "colorscale": [
             [
              0,
              "#0d0887"
             ],
             [
              0.1111111111111111,
              "#46039f"
             ],
             [
              0.2222222222222222,
              "#7201a8"
             ],
             [
              0.3333333333333333,
              "#9c179e"
             ],
             [
              0.4444444444444444,
              "#bd3786"
             ],
             [
              0.5555555555555556,
              "#d8576b"
             ],
             [
              0.6666666666666666,
              "#ed7953"
             ],
             [
              0.7777777777777778,
              "#fb9f3a"
             ],
             [
              0.8888888888888888,
              "#fdca26"
             ],
             [
              1,
              "#f0f921"
             ]
            ],
            "type": "histogram2dcontour"
           }
          ],
          "mesh3d": [
           {
            "colorbar": {
             "outlinewidth": 0,
             "ticks": ""
            },
            "type": "mesh3d"
           }
          ],
          "parcoords": [
           {
            "line": {
             "colorbar": {
              "outlinewidth": 0,
              "ticks": ""
             }
            },
            "type": "parcoords"
           }
          ],
          "pie": [
           {
            "automargin": true,
            "type": "pie"
           }
          ],
          "scatter": [
           {
            "fillpattern": {
             "fillmode": "overlay",
             "size": 10,
             "solidity": 0.2
            },
            "type": "scatter"
           }
          ],
          "scatter3d": [
           {
            "line": {
             "colorbar": {
              "outlinewidth": 0,
              "ticks": ""
             }
            },
            "marker": {
             "colorbar": {
              "outlinewidth": 0,
              "ticks": ""
             }
            },
            "type": "scatter3d"
           }
          ],
          "scattercarpet": [
           {
            "marker": {
             "colorbar": {
              "outlinewidth": 0,
              "ticks": ""
             }
            },
            "type": "scattercarpet"
           }
          ],
          "scattergeo": [
           {
            "marker": {
             "colorbar": {
              "outlinewidth": 0,
              "ticks": ""
             }
            },
            "type": "scattergeo"
           }
          ],
          "scattergl": [
           {
            "marker": {
             "colorbar": {
              "outlinewidth": 0,
              "ticks": ""
             }
            },
            "type": "scattergl"
           }
          ],
          "scattermap": [
           {
            "marker": {
             "colorbar": {
              "outlinewidth": 0,
              "ticks": ""
             }
            },
            "type": "scattermap"
           }
          ],
          "scattermapbox": [
           {
            "marker": {
             "colorbar": {
              "outlinewidth": 0,
              "ticks": ""
             }
            },
            "type": "scattermapbox"
           }
          ],
          "scatterpolar": [
           {
            "marker": {
             "colorbar": {
              "outlinewidth": 0,
              "ticks": ""
             }
            },
            "type": "scatterpolar"
           }
          ],
          "scatterpolargl": [
           {
            "marker": {
             "colorbar": {
              "outlinewidth": 0,
              "ticks": ""
             }
            },
            "type": "scatterpolargl"
           }
          ],
          "scatterternary": [
           {
            "marker": {
             "colorbar": {
              "outlinewidth": 0,
              "ticks": ""
             }
            },
            "type": "scatterternary"
           }
          ],
          "surface": [
           {
            "colorbar": {
             "outlinewidth": 0,
             "ticks": ""
            },
            "colorscale": [
             [
              0,
              "#0d0887"
             ],
             [
              0.1111111111111111,
              "#46039f"
             ],
             [
              0.2222222222222222,
              "#7201a8"
             ],
             [
              0.3333333333333333,
              "#9c179e"
             ],
             [
              0.4444444444444444,
              "#bd3786"
             ],
             [
              0.5555555555555556,
              "#d8576b"
             ],
             [
              0.6666666666666666,
              "#ed7953"
             ],
             [
              0.7777777777777778,
              "#fb9f3a"
             ],
             [
              0.8888888888888888,
              "#fdca26"
             ],
             [
              1,
              "#f0f921"
             ]
            ],
            "type": "surface"
           }
          ],
          "table": [
           {
            "cells": {
             "fill": {
              "color": "#EBF0F8"
             },
             "line": {
              "color": "white"
             }
            },
            "header": {
             "fill": {
              "color": "#C8D4E3"
             },
             "line": {
              "color": "white"
             }
            },
            "type": "table"
           }
          ]
         },
         "layout": {
          "annotationdefaults": {
           "arrowcolor": "#2a3f5f",
           "arrowhead": 0,
           "arrowwidth": 1
          },
          "autotypenumbers": "strict",
          "coloraxis": {
           "colorbar": {
            "outlinewidth": 0,
            "ticks": ""
           }
          },
          "colorscale": {
           "diverging": [
            [
             0,
             "#8e0152"
            ],
            [
             0.1,
             "#c51b7d"
            ],
            [
             0.2,
             "#de77ae"
            ],
            [
             0.3,
             "#f1b6da"
            ],
            [
             0.4,
             "#fde0ef"
            ],
            [
             0.5,
             "#f7f7f7"
            ],
            [
             0.6,
             "#e6f5d0"
            ],
            [
             0.7,
             "#b8e186"
            ],
            [
             0.8,
             "#7fbc41"
            ],
            [
             0.9,
             "#4d9221"
            ],
            [
             1,
             "#276419"
            ]
           ],
           "sequential": [
            [
             0,
             "#0d0887"
            ],
            [
             0.1111111111111111,
             "#46039f"
            ],
            [
             0.2222222222222222,
             "#7201a8"
            ],
            [
             0.3333333333333333,
             "#9c179e"
            ],
            [
             0.4444444444444444,
             "#bd3786"
            ],
            [
             0.5555555555555556,
             "#d8576b"
            ],
            [
             0.6666666666666666,
             "#ed7953"
            ],
            [
             0.7777777777777778,
             "#fb9f3a"
            ],
            [
             0.8888888888888888,
             "#fdca26"
            ],
            [
             1,
             "#f0f921"
            ]
           ],
           "sequentialminus": [
            [
             0,
             "#0d0887"
            ],
            [
             0.1111111111111111,
             "#46039f"
            ],
            [
             0.2222222222222222,
             "#7201a8"
            ],
            [
             0.3333333333333333,
             "#9c179e"
            ],
            [
             0.4444444444444444,
             "#bd3786"
            ],
            [
             0.5555555555555556,
             "#d8576b"
            ],
            [
             0.6666666666666666,
             "#ed7953"
            ],
            [
             0.7777777777777778,
             "#fb9f3a"
            ],
            [
             0.8888888888888888,
             "#fdca26"
            ],
            [
             1,
             "#f0f921"
            ]
           ]
          },
          "colorway": [
           "#636efa",
           "#EF553B",
           "#00cc96",
           "#ab63fa",
           "#FFA15A",
           "#19d3f3",
           "#FF6692",
           "#B6E880",
           "#FF97FF",
           "#FECB52"
          ],
          "font": {
           "color": "#2a3f5f"
          },
          "geo": {
           "bgcolor": "white",
           "lakecolor": "white",
           "landcolor": "white",
           "showlakes": true,
           "showland": true,
           "subunitcolor": "#C8D4E3"
          },
          "hoverlabel": {
           "align": "left"
          },
          "hovermode": "closest",
          "mapbox": {
           "style": "light"
          },
          "paper_bgcolor": "white",
          "plot_bgcolor": "white",
          "polar": {
           "angularaxis": {
            "gridcolor": "#EBF0F8",
            "linecolor": "#EBF0F8",
            "ticks": ""
           },
           "bgcolor": "white",
           "radialaxis": {
            "gridcolor": "#EBF0F8",
            "linecolor": "#EBF0F8",
            "ticks": ""
           }
          },
          "scene": {
           "xaxis": {
            "backgroundcolor": "white",
            "gridcolor": "#DFE8F3",
            "gridwidth": 2,
            "linecolor": "#EBF0F8",
            "showbackground": true,
            "ticks": "",
            "zerolinecolor": "#EBF0F8"
           },
           "yaxis": {
            "backgroundcolor": "white",
            "gridcolor": "#DFE8F3",
            "gridwidth": 2,
            "linecolor": "#EBF0F8",
            "showbackground": true,
            "ticks": "",
            "zerolinecolor": "#EBF0F8"
           },
           "zaxis": {
            "backgroundcolor": "white",
            "gridcolor": "#DFE8F3",
            "gridwidth": 2,
            "linecolor": "#EBF0F8",
            "showbackground": true,
            "ticks": "",
            "zerolinecolor": "#EBF0F8"
           }
          },
          "shapedefaults": {
           "line": {
            "color": "#2a3f5f"
           }
          },
          "ternary": {
           "aaxis": {
            "gridcolor": "#DFE8F3",
            "linecolor": "#A2B1C6",
            "ticks": ""
           },
           "baxis": {
            "gridcolor": "#DFE8F3",
            "linecolor": "#A2B1C6",
            "ticks": ""
           },
           "bgcolor": "white",
           "caxis": {
            "gridcolor": "#DFE8F3",
            "linecolor": "#A2B1C6",
            "ticks": ""
           }
          },
          "title": {
           "x": 0.05
          },
          "xaxis": {
           "automargin": true,
           "gridcolor": "#EBF0F8",
           "linecolor": "#EBF0F8",
           "ticks": "",
           "title": {
            "standoff": 15
           },
           "zerolinecolor": "#EBF0F8",
           "zerolinewidth": 2
          },
          "yaxis": {
           "automargin": true,
           "gridcolor": "#EBF0F8",
           "linecolor": "#EBF0F8",
           "ticks": "",
           "title": {
            "standoff": 15
           },
           "zerolinecolor": "#EBF0F8",
           "zerolinewidth": 2
          }
         }
        },
        "title": {
         "text": "Transformed Density with Change of Measure Correction"
        },
        "width": 900,
        "xaxis": {
         "title": {
          "text": "$y$"
         }
        },
        "yaxis": {
         "title": {
          "text": "Density"
         }
        }
       }
      }
     },
     "metadata": {},
     "output_type": "display_data"
    }
   ],
   "source": [
    "# Compute derivative of v(y): dv/dy = 1 / (df/dx) at x = v(y)\n",
    "df_interp = interp1d(x, df, bounds_error=False, fill_value=\"extrapolate\")\n",
    "df_at_vy = df_interp(v_func(y_sorted))\n",
    "dv_dy = 1.0 / df_at_vy\n",
    "\n",
    "# Corrected density\n",
    "p_y = p_x_vy * np.abs(dv_dy)\n",
    "\n",
    "fig_py = go.Figure()\n",
    "fig_py.add_trace(\n",
    "    go.Scatter(\n",
    "        x=y_sorted,\n",
    "        y=p_x_vy,\n",
    "        mode=\"lines\",\n",
    "        line=dict(color=\"orange\", dash=\"dashdot\"),\n",
    "        name=\"$p_X(v(y))$ (naive)\",\n",
    "    )\n",
    ")\n",
    "fig_py.add_trace(\n",
    "    go.Scatter(\n",
    "        x=y_sorted,\n",
    "        y=p_y,\n",
    "        mode=\"lines\",\n",
    "        line=dict(color=\"green\"),\n",
    "        name=\"$p_Y(y)$ (corrected)\",\n",
    "    )\n",
    ")\n",
    "fig_py.update_layout(\n",
    "    title=\"Transformed Density with Change of Measure Correction\",\n",
    "    xaxis_title=\"$y$\",\n",
    "    yaxis_title=\"Density\",\n",
    "    legend=dict(itemsizing=\"constant\"),\n",
    "    width=900,\n",
    "    height=350,\n",
    ")\n",
    "fig_py.show()"
   ]
  },
  {
   "cell_type": "markdown",
   "id": "d3309201",
   "metadata": {},
   "source": [
    "## 8. Compare Integrals of Densities\n",
    "\n",
    "Numerically integrate $p_X(x)$, $p_X(v(y))$, and $p_Y(y)$ to verify normalization and demonstrate the effect of the correction."
   ]
  },
  {
   "cell_type": "code",
   "execution_count": 48,
   "id": "e54d7760",
   "metadata": {},
   "outputs": [
    {
     "name": "stdout",
     "output_type": "stream",
     "text": [
      "Integral of $p_X(x)$: 0.9973\n",
      "Integral of $p_X(v(y))$: 0.5621\n",
      "Integral of $p_Y(y)$: 0.9973\n"
     ]
    }
   ],
   "source": [
    "from torch import trapz\n",
    "\n",
    "int_px = trapz(p_x, x)\n",
    "int_pxvy = trapz(p_x_vy, y_sorted)\n",
    "int_py = trapz(p_y, y_sorted)\n",
    "\n",
    "print(f\"Integral of $p_X(x)$: {int_px:.4f}\")\n",
    "print(f\"Integral of $p_X(v(y))$: {int_pxvy:.4f}\")\n",
    "print(f\"Integral of $p_Y(y)$: {int_py:.4f}\")"
   ]
  },
  {
   "cell_type": "markdown",
   "id": "394b5200",
   "metadata": {},
   "source": [
    "As expected, the integral of $p_X(x)$ and $p_Y(y)$ are both close to 1, while the naive transformed density $p_X(v(y))$ does not integrate to 1. This demonstrates the necessity of the change of measure correction."
   ]
  }
 ],
 "metadata": {
  "kernelspec": {
   "display_name": ".venv",
   "language": "python",
   "name": "python3"
  },
  "language_info": {
   "codemirror_mode": {
    "name": "ipython",
    "version": 3
   },
   "file_extension": ".py",
   "mimetype": "text/x-python",
   "name": "python",
   "nbconvert_exporter": "python",
   "pygments_lexer": "ipython3",
   "version": "3.12.8"
  }
 },
 "nbformat": 4,
 "nbformat_minor": 5
}
