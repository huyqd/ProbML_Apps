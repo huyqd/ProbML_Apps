{
 "cells": [
  {
   "cell_type": "markdown",
   "id": "d638930d",
   "metadata": {},
   "source": [
    "# Bayesian Inference for a Probability: Beta Posterior Visualization\n",
    "\n",
    "This notebook demonstrates Bayesian inference for a probability parameter using the Beta distribution as a conjugate prior. We visualize the posterior and its Laplace (Gaussian) approximation using Plotly, inspired by the style of the \"Change of Measure\" notebook."
   ]
  },
  {
   "cell_type": "markdown",
   "id": "b9b18ec8",
   "metadata": {},
   "source": [
    "## 1. Import Required Libraries\n",
    "\n",
    "Import jax, jax.numpy, jax.scipy.stats.beta, numpy, and plotly.graph_objects for computation and visualization."
   ]
  },
  {
   "cell_type": "code",
   "execution_count": 1,
   "id": "e73945a1",
   "metadata": {},
   "outputs": [],
   "source": [
    "import jax\n",
    "import jax.numpy as jnp\n",
    "from jax.scipy.stats import beta, norm\n",
    "import numpy as np\n",
    "import plotly.graph_objects as go\n",
    "import plotly.io as pio\n",
    "\n",
    "pio.templates.default = \"plotly_white\""
   ]
  },
  {
   "cell_type": "markdown",
   "id": "36d2a9d4",
   "metadata": {},
   "source": [
    "The **Beta distribution** is a continuous probability distribution defined on the interval $[0, 1]$. It is parameterized by two positive shape parameters, $a$ and $b$, and is commonly used to model random variables that represent probabilities or proportions.\n",
    "\n",
    "### Probability Density Function\n",
    "\n",
    "The probability density function (PDF) of the Beta distribution is:\n",
    "$$\n",
    "\\mathrm{Beta}(x; a, b) = \\frac{\\Gamma(a + b)}{\\Gamma(a)\\Gamma(b)} x^{a-1} (1-x)^{b-1}\n",
    "$$\n",
    "where $x \\in [0, 1]$ and $\\Gamma(\\cdot)$ is the gamma function.\n",
    "\n",
    "### What is it good for?\n",
    "\n",
    "- **Modeling probabilities:** The Beta distribution is ideal for modeling the probability of success in a Bernoulli or binomial process (e.g., the probability of heads in a coin toss).\n",
    "- **Bayesian statistics:** It is the conjugate prior for the binomial and Bernoulli likelihoods, making Bayesian updating analytically tractable.\n",
    "- **Flexibility:** By varying $a$ and $b$, the Beta distribution can take many shapes (uniform, U-shaped, bell-shaped, etc.).\n",
    "\n",
    "### Bayesian Updating: From Prior to Posterior\n",
    "\n",
    "Suppose we want to estimate the probability $\\pi$ of success in a Bernoulli process. We start with a **prior** belief:\n",
    "$$\n",
    "\\pi \\sim \\mathrm{Beta}(a_0, b_0)\n",
    "$$\n",
    "\n",
    "After observing data—say, $n$ trials with $k$ successes and $n-k$ failures—the **likelihood** is:\n",
    "$$\n",
    "\\text{Likelihood} \\propto \\pi^k (1-\\pi)^{n-k}\n",
    "$$\n",
    "\n",
    "By Bayes' theorem, the **posterior** is proportional to the product of the prior and the likelihood:\n",
    "$$\n",
    "p(\\pi \\mid \\text{data}) \\propto \\pi^{a_0-1} (1-\\pi)^{b_0-1} \\cdot \\pi^k (1-\\pi)^{n-k}\n",
    "$$\n",
    "$$\n",
    "= \\pi^{a_0 + k - 1} (1-\\pi)^{b_0 + n - k - 1}\n",
    "$$\n",
    "\n",
    "So, the posterior is also a Beta distribution:\n",
    "$$\n",
    "\\pi \\mid \\text{data} \\sim \\mathrm{Beta}(a_0 + k,\\, b_0 + n - k)\n",
    "$$\n",
    "\n",
    "This **conjugacy** makes the Beta distribution especially useful for Bayesian inference about probabilities. The parameters are simply updated by adding the observed counts of successes and failures to the prior parameters."
   ]
  },
  {
   "cell_type": "markdown",
   "id": "8fa809c9",
   "metadata": {},
   "source": [
    "## 2. Set Prior and Data Parameters\n",
    "\n",
    "Define prior parameters (`a0`, `b0`) and observed data (number of successes and failures)."
   ]
  },
  {
   "cell_type": "code",
   "execution_count": 2,
   "id": "01adb8f5",
   "metadata": {},
   "outputs": [],
   "source": [
    "# Prior parameters (can be changed)\n",
    "a0 = 1.0  # prior \"successes\"\n",
    "b0 = 1.0  # prior \"failures\"\n",
    "\n",
    "# Observed data (can be changed)\n",
    "num_successes = 3\n",
    "num_failures = 2"
   ]
  },
  {
   "cell_type": "markdown",
   "id": "a8c040f1",
   "metadata": {},
   "source": [
    "## 3. Compute Beta Posterior Parameters\n",
    "\n",
    "Update the Beta distribution parameters using the prior and observed data."
   ]
  },
  {
   "cell_type": "code",
   "execution_count": 3,
   "id": "4d529b25",
   "metadata": {},
   "outputs": [],
   "source": [
    "# Posterior parameters\n",
    "a = a0 + num_successes\n",
    "b = b0 + num_failures"
   ]
  },
  {
   "cell_type": "markdown",
   "id": "33f2ab41",
   "metadata": {},
   "source": [
    "## 4. Compute and Plot Beta Posterior Density with Plotly\n",
    "\n",
    "Compute the Beta posterior density over a grid and plot it using Plotly, including mean and standard deviation markers."
   ]
  },
  {
   "cell_type": "code",
   "execution_count": 8,
   "id": "e69e73f7",
   "metadata": {},
   "outputs": [
    {
     "data": {
      "application/vnd.plotly.v1+json": {
       "config": {
        "plotlyServerURL": "https://plot.ly"
       },
       "data": [
        {
         "fill": "tozeroy",
         "fillcolor": "rgba(220,20,60,0.15)",
         "line": {
          "color": "crimson",
          "width": 2
         },
         "mode": "lines",
         "name": "Beta posterior",
         "type": "scatter",
         "x": {
          "bdata": "AAAAABcvWzsXL9s7UWMkPBcvWzxu/Yg8UWOkPDTJvzwXL9s8+pT2PG79CD1gsBY9UWMkPUMWMj00yT89JnxNPRcvWz0I4mg9+pR2PfYjgj1u/Yg959aPPWCwlj3ZiZ09UWOkPco8qz1DFrI9u++4PTTJvz2tosY9JnzNPZ5V1D0XL9s9kAjiPQji6D2Bu+89+pT2PXNu/T32IwI+spAFPm79CD4ragw+59YPPqNDEz5gsBY+HB0aPtmJHT6V9iA+UWMkPg7QJz7KPCs+hqkuPkMWMj7/gjU+u+84PnhcPD40yT8+8DVDPq2iRj5pD0o+JnxNPuLoUD6eVVQ+W8JXPhcvWz7Tm14+kAhiPkx1ZT4I4mg+xU5sPoG7bz4+KHM++pR2PrYBej5zbn0+l22APvYjgj5U2oM+spCFPhBHhz5u/Yg+zbOKPitqjD6JII4+59aPPkWNkT6jQ5M+AvqUPmCwlj6+Zpg+HB2aPnrTmz7ZiZ0+N0CfPpX2oD7zrKI+UWOkPq8Zpj4O0Kc+bIapPso8qz4o86w+hqmuPuVfsD5DFrI+ocyzPv+CtT5dObc+u++4Phqmuj54XLw+1hK+PjTJvz6Sf8E+8DXDPk/sxD6tosY+C1nIPmkPyj7Hxcs+JnzNPoQyzz7i6NA+QJ/SPp5V1D78C9Y+W8LXPrl42T4XL9s+deXcPtOb3j4yUuA+kAjiPu6+4z5MdeU+qivnPgji6D5nmOo+xU7sPiMF7j6Bu+8+33HxPj4o8z6c3vQ++pT2PlhL+D62Afo+FLj7PnNu/T7RJP8+l20AP8dIAT/2IwI/Jf8CP1TaAz+DtQQ/spAFP+FrBj8QRwc/PyIIP279CD+d2Ak/zbMKP/yOCz8ragw/WkUNP4kgDj+4+w4/59YPPxayED9FjRE/dGgSP6NDEz/THhQ/AvoUPzHVFT9gsBY/j4sXP75mGD/tQRk/HB0aP0v4Gj960xs/qa4cP9mJHT8IZR4/N0AfP2YbID+V9iA/xNEhP/OsIj8iiCM/UWMkP4A+JT+vGSY/3/QmPw7QJz89qyg/bIYpP5thKj/KPCs/+RcsPyjzLD9Xzi0/hqkuP7WELz/lXzA/FDsxP0MWMj9y8TI/ocwzP9CnND//gjU/Ll42P105Nz+MFDg/u+84P+rKOT8apjo/SYE7P3hcPD+nNz0/1hI+PwXuPj80yT8/Y6RAP5J/QT/BWkI/8DVDPyARRD9P7EQ/fsdFP62iRj/cfUc/C1lIPzo0ST9pD0o/mOpKP8fFSz/2oEw/JnxNP1VXTj+EMk8/sw1QP+LoUD8RxFE/QJ9SP296Uz+eVVQ/zTBVP/wLVj8s51Y/W8JXP4qdWD+5eFk/6FNaPxcvWz9GClw/deVcP6TAXT/Tm14/AndfPzJSYD9hLWE/kAhiP7/jYj/uvmM/HZpkP0x1ZT97UGY/qitnP9kGaD8I4mg/OL1pP2eYaj+Wc2s/xU5sP/QpbT8jBW4/UuBuP4G7bz+wlnA/33FxPw5Ncj8+KHM/bQN0P5zedD/LuXU/+pR2Pylwdz9YS3g/hyZ5P7YBej/l3Ho/FLh7P0STfD9zbn0/okl+P9Ekfz8AAIA/",
          "dtype": "f4"
         },
         "y": {
          "bdata": "AAAAAEmgFTarn5Q30B15OPygEjkUOY45pBf0Ofp7QDr4rY460cHJOjZtCTu0pjU7pjJqO2jYkzu2Xbc74PPfO0LxBjxwtyA8wG09PCY0XTyqFIA8WzWTPEUKqDzVoL480QXXPI9F8TzYtQY9j8EVPTLLJT2q1zY9mutIPV4LXD0BO3A9JL+CPWTsjT3Xppk9AvClPS3Jsj2pM8A9czDOPYrA3D3R5Os96J37PTL2BT5raA4+uSUXPkIuID4Igik+GiEzPl4LPT6wQEc+68BRPs2LXD4VoWc+ZABzPlapfj64TYU+KWuLPqiskT72EZg+uJqePpRGpT4pFaw+IQazPgYZuj5sTcE+3KLIPtIY0D7hrtc+emTfPgI55z4GLO8+2jz3Putq/z7N2gM/Jg4IPyRPDD9znRA/w/gUP65gGT/f1B0/8lQiP4TgJj86dys/pxgwP2rEND8cejk/TDk+P5sBQz+E0kc/tqtMP6KMUT/wdFY/HGRbP7FZYD9EVWU/VlZqP2xcbz8aZ3Q/wnV5PxWIfj+9zoE/u1qEP8nnhj+idYk/BwSMP7mSjj9zIZE//K+TPwk+lj9Zy5g/qVebP7zinT9KbKA/E/SiP9N5pT9E/ac/Jn6qPy78rD8hd68/vO6xP7NitD/C0rY/rj65Pyymuz8ACb4/4mbAP46/wj++EsU/OGDHP6ynyT/l6Ms/miPOP4NX0D9uhNI/DqrUPyXI1j9v3tg/s+zaP6jy3D8a8N4/veTgP2TQ4j++suQ/n4vmP79a6D/eH+o/09rrP1aL7T8uMe8/IczwP/5b8j+H4PM/h1n1P8bG9j8LKPg/MH35P/HF+j8lAvw/lzH9PxdU/j90af8/xTgAQA22AECDLAFACpwBQJQEAkAHZgJAVMACQGQTA0AkXwNAh6MDQHTgA0DgFQRAtUMEQOtpBEBtiARAMJ8EQCKuBEA/tQRAdLQEQLmrBED/mgRAQYIEQHNhBECTOARAkgcEQG3OA0AgjQNApEMDQPPxAkAOmAJA8TUCQJ7LAUAOWQFASN4AQEtbAEAuoP8/Z3n+P0lC/T/b+vs/LaP6P0k7+T9Iw/c/Nzv2Pyyj9D8/+/I/i0PxPyl87z85pe0/2b7rPy7J6T9axOc/hLDlP9yN4z+AXOE/rhzfP43O3D9Kcto/JgjYP1aQ1T8UC9M/mXjQPyjZzT8FLcs/cnTIP7SvxT8U38I/5QLAP28bvT8OKbo/Diy3P8cktD+bE7E/4vitP/rUqj9KqKc/NXOkPyc2oT+K8Z0/y6WaP2FTlz+7+pM/VJyQP6s4jT810Ik/fWOGPwXzgj+i/n4/1BF4P8kgcT+WLGo/ezZjP5Q/XD8mSVU/WlROP4hiRz/6dEA/9Iw5P9qrMj8Q0ys/7gMlP+c/Hj98iBc/JN8QP19FCj+zvAM/hY36PjzK7T67MuE+c8rUPrqUyD74lLw+pM6wPm5FpT7W/Jk+m/iOPnM8hD5dmHM+QVdfPoe9Sz4W0zg+F6AmPrwsFT5RgQQ+80zpPYlJyz3YCa89sJ+UPR46eD2KKEs9xC8iPd/q+jyGP7o8/aqCPGT3KDzYBsA7I20sO4QsLjoAAAAA",
          "dtype": "f4"
         }
        },
        {
         "marker": {
          "color": "green",
          "size": 10,
          "symbol": "x"
         },
         "mode": "markers",
         "name": "Posterior mean",
         "type": "scatter",
         "x": [
          0.5714285714285714
         ],
         "y": [
          2.0562870502471924
         ]
        },
        {
         "line": {
          "color": "green",
          "dash": "dot",
          "width": 1
         },
         "marker": {
          "color": "green",
          "size": 7,
          "symbol": "line-ns"
         },
         "mode": "markers+lines",
         "name": "Std deviation",
         "showlegend": true,
         "type": "scatter",
         "x": [
          0.3964650630950928,
          0.7463921308517456
         ],
         "y": [
          1.36198091506958,
          1.6046419143676758
         ]
        },
        {
         "line": {
          "color": "royalblue",
          "dash": "dot",
          "width": 2
         },
         "mode": "lines",
         "name": "Beta prior",
         "type": "scatter",
         "x": {
          "bdata": "AAAAABcvWzsXL9s7UWMkPBcvWzxu/Yg8UWOkPDTJvzwXL9s8+pT2PG79CD1gsBY9UWMkPUMWMj00yT89JnxNPRcvWz0I4mg9+pR2PfYjgj1u/Yg959aPPWCwlj3ZiZ09UWOkPco8qz1DFrI9u++4PTTJvz2tosY9JnzNPZ5V1D0XL9s9kAjiPQji6D2Bu+89+pT2PXNu/T32IwI+spAFPm79CD4ragw+59YPPqNDEz5gsBY+HB0aPtmJHT6V9iA+UWMkPg7QJz7KPCs+hqkuPkMWMj7/gjU+u+84PnhcPD40yT8+8DVDPq2iRj5pD0o+JnxNPuLoUD6eVVQ+W8JXPhcvWz7Tm14+kAhiPkx1ZT4I4mg+xU5sPoG7bz4+KHM++pR2PrYBej5zbn0+l22APvYjgj5U2oM+spCFPhBHhz5u/Yg+zbOKPitqjD6JII4+59aPPkWNkT6jQ5M+AvqUPmCwlj6+Zpg+HB2aPnrTmz7ZiZ0+N0CfPpX2oD7zrKI+UWOkPq8Zpj4O0Kc+bIapPso8qz4o86w+hqmuPuVfsD5DFrI+ocyzPv+CtT5dObc+u++4Phqmuj54XLw+1hK+PjTJvz6Sf8E+8DXDPk/sxD6tosY+C1nIPmkPyj7Hxcs+JnzNPoQyzz7i6NA+QJ/SPp5V1D78C9Y+W8LXPrl42T4XL9s+deXcPtOb3j4yUuA+kAjiPu6+4z5MdeU+qivnPgji6D5nmOo+xU7sPiMF7j6Bu+8+33HxPj4o8z6c3vQ++pT2PlhL+D62Afo+FLj7PnNu/T7RJP8+l20AP8dIAT/2IwI/Jf8CP1TaAz+DtQQ/spAFP+FrBj8QRwc/PyIIP279CD+d2Ak/zbMKP/yOCz8ragw/WkUNP4kgDj+4+w4/59YPPxayED9FjRE/dGgSP6NDEz/THhQ/AvoUPzHVFT9gsBY/j4sXP75mGD/tQRk/HB0aP0v4Gj960xs/qa4cP9mJHT8IZR4/N0AfP2YbID+V9iA/xNEhP/OsIj8iiCM/UWMkP4A+JT+vGSY/3/QmPw7QJz89qyg/bIYpP5thKj/KPCs/+RcsPyjzLD9Xzi0/hqkuP7WELz/lXzA/FDsxP0MWMj9y8TI/ocwzP9CnND//gjU/Ll42P105Nz+MFDg/u+84P+rKOT8apjo/SYE7P3hcPD+nNz0/1hI+PwXuPj80yT8/Y6RAP5J/QT/BWkI/8DVDPyARRD9P7EQ/fsdFP62iRj/cfUc/C1lIPzo0ST9pD0o/mOpKP8fFSz/2oEw/JnxNP1VXTj+EMk8/sw1QP+LoUD8RxFE/QJ9SP296Uz+eVVQ/zTBVP/wLVj8s51Y/W8JXP4qdWD+5eFk/6FNaPxcvWz9GClw/deVcP6TAXT/Tm14/AndfPzJSYD9hLWE/kAhiP7/jYj/uvmM/HZpkP0x1ZT97UGY/qitnP9kGaD8I4mg/OL1pP2eYaj+Wc2s/xU5sP/QpbT8jBW4/UuBuP4G7bz+wlnA/33FxPw5Ncj8+KHM/bQN0P5zedD/LuXU/+pR2Pylwdz9YS3g/hyZ5P7YBej/l3Ho/FLh7P0STfD9zbn0/okl+P9Ekfz8AAIA/",
          "dtype": "f4"
         },
         "y": {
          "bdata": "8P9/P/D/fz/w/38/8P9/P/D/fz/w/38/8P9/P/D/fz/w/38/8P9/P/D/fz/w/38/8P9/P/D/fz/w/38/8P9/P/D/fz/w/38/8P9/P/D/fz/w/38/8P9/P/D/fz/w/38/8P9/P/D/fz/w/38/8P9/P/D/fz/w/38/8P9/P/D/fz/w/38/8P9/P/D/fz/w/38/8P9/P/D/fz/w/38/8P9/P/D/fz/w/38/8P9/P/D/fz/w/38/8P9/P/D/fz/w/38/8P9/P/D/fz/w/38/8P9/P/D/fz/w/38/8P9/P/D/fz/w/38/8P9/P/D/fz/w/38/8P9/P/D/fz/w/38/8P9/P/D/fz/w/38/8P9/P/D/fz/w/38/8P9/P/D/fz/w/38/8P9/P/D/fz/w/38/8P9/P/D/fz/w/38/8P9/P/D/fz/w/38/8P9/P/D/fz/w/38/8P9/P/D/fz/w/38/8P9/P/D/fz/w/38/8P9/P/D/fz/w/38/8P9/P/D/fz/w/38/8P9/P/D/fz/w/38/8P9/P/D/fz/w/38/8P9/P/D/fz/w/38/8P9/P/D/fz/w/38/8P9/P/D/fz/w/38/8P9/P/D/fz/w/38/8P9/P/D/fz/w/38/8P9/P/D/fz/w/38/8P9/P/D/fz/w/38/8P9/P/D/fz/w/38/8P9/P/D/fz/w/38/8P9/P/D/fz/w/38/8P9/P/D/fz/w/38/8P9/P/D/fz/w/38/8P9/P/D/fz/w/38/8P9/P/D/fz/w/38/8P9/P/D/fz/w/38/8P9/P/D/fz/w/38/8P9/P/D/fz/w/38/8P9/P/D/fz/w/38/8P9/P/D/fz/w/38/8P9/P/D/fz/w/38/8P9/P/D/fz/w/38/8P9/P/D/fz/w/38/8P9/P/D/fz/w/38/8P9/P/D/fz/w/38/8P9/P/D/fz/w/38/8P9/P/D/fz/w/38/8P9/P/D/fz/w/38/8P9/P/D/fz/w/38/8P9/P/D/fz/w/38/8P9/P/D/fz/w/38/8P9/P/D/fz/w/38/8P9/P/D/fz/w/38/8P9/P/D/fz/w/38/8P9/P/D/fz/w/38/8P9/P/D/fz/w/38/8P9/P/D/fz/w/38/8P9/P/D/fz/w/38/8P9/P/D/fz/w/38/8P9/P/D/fz/w/38/8P9/P/D/fz/w/38/8P9/P/D/fz/w/38/8P9/P/D/fz/w/38/8P9/P/D/fz/w/38/8P9/P/D/fz/w/38/8P9/P/D/fz/w/38/8P9/P/D/fz/w/38/8P9/P/D/fz/w/38/8P9/P/D/fz/w/38/8P9/P/D/fz/w/38/8P9/P/D/fz/w/38/8P9/P/D/fz/w/38/8P9/P/D/fz/w/38/8P9/P/D/fz/w/38/8P9/P/D/fz/w/38/8P9/P/D/fz/w/38/8P9/P/D/fz/w/38/8P9/P/D/fz/w/38/8P9/P/D/fz/w/38/8P9/P/D/fz/w/38/8P9/P/D/fz/w/38/8P9/P/D/fz/w/38/8P9/P/D/fz/w/38/8P9/P/D/fz/w/38/8P9/P/D/fz/w/38/8P9/P/D/fz/w/38/8P9/P/D/fz/w/38/",
          "dtype": "f4"
         }
        },
        {
         "marker": {
          "color": "blue",
          "size": 10,
          "symbol": "x"
         },
         "mode": "markers",
         "name": "Prior mean",
         "type": "scatter",
         "x": [
          0.5
         ],
         "y": [
          0.9999990463256836
         ]
        },
        {
         "line": {
          "color": "blue",
          "dash": "dot",
          "width": 1
         },
         "marker": {
          "color": "blue",
          "size": 7,
          "symbol": "line-ns"
         },
         "mode": "markers+lines",
         "name": "Prior std deviation",
         "showlegend": true,
         "type": "scatter",
         "x": [
          0.21132487058639526,
          0.7886751294136047
         ],
         "y": [
          0.9999990463256836,
          0.9999990463256836
         ]
        }
       ],
       "layout": {
        "height": 400,
        "legend": {
         "itemsizing": "constant"
        },
        "template": {
         "data": {
          "bar": [
           {
            "error_x": {
             "color": "#2a3f5f"
            },
            "error_y": {
             "color": "#2a3f5f"
            },
            "marker": {
             "line": {
              "color": "white",
              "width": 0.5
             },
             "pattern": {
              "fillmode": "overlay",
              "size": 10,
              "solidity": 0.2
             }
            },
            "type": "bar"
           }
          ],
          "barpolar": [
           {
            "marker": {
             "line": {
              "color": "white",
              "width": 0.5
             },
             "pattern": {
              "fillmode": "overlay",
              "size": 10,
              "solidity": 0.2
             }
            },
            "type": "barpolar"
           }
          ],
          "carpet": [
           {
            "aaxis": {
             "endlinecolor": "#2a3f5f",
             "gridcolor": "#C8D4E3",
             "linecolor": "#C8D4E3",
             "minorgridcolor": "#C8D4E3",
             "startlinecolor": "#2a3f5f"
            },
            "baxis": {
             "endlinecolor": "#2a3f5f",
             "gridcolor": "#C8D4E3",
             "linecolor": "#C8D4E3",
             "minorgridcolor": "#C8D4E3",
             "startlinecolor": "#2a3f5f"
            },
            "type": "carpet"
           }
          ],
          "choropleth": [
           {
            "colorbar": {
             "outlinewidth": 0,
             "ticks": ""
            },
            "type": "choropleth"
           }
          ],
          "contour": [
           {
            "colorbar": {
             "outlinewidth": 0,
             "ticks": ""
            },
            "colorscale": [
             [
              0,
              "#0d0887"
             ],
             [
              0.1111111111111111,
              "#46039f"
             ],
             [
              0.2222222222222222,
              "#7201a8"
             ],
             [
              0.3333333333333333,
              "#9c179e"
             ],
             [
              0.4444444444444444,
              "#bd3786"
             ],
             [
              0.5555555555555556,
              "#d8576b"
             ],
             [
              0.6666666666666666,
              "#ed7953"
             ],
             [
              0.7777777777777778,
              "#fb9f3a"
             ],
             [
              0.8888888888888888,
              "#fdca26"
             ],
             [
              1,
              "#f0f921"
             ]
            ],
            "type": "contour"
           }
          ],
          "contourcarpet": [
           {
            "colorbar": {
             "outlinewidth": 0,
             "ticks": ""
            },
            "type": "contourcarpet"
           }
          ],
          "heatmap": [
           {
            "colorbar": {
             "outlinewidth": 0,
             "ticks": ""
            },
            "colorscale": [
             [
              0,
              "#0d0887"
             ],
             [
              0.1111111111111111,
              "#46039f"
             ],
             [
              0.2222222222222222,
              "#7201a8"
             ],
             [
              0.3333333333333333,
              "#9c179e"
             ],
             [
              0.4444444444444444,
              "#bd3786"
             ],
             [
              0.5555555555555556,
              "#d8576b"
             ],
             [
              0.6666666666666666,
              "#ed7953"
             ],
             [
              0.7777777777777778,
              "#fb9f3a"
             ],
             [
              0.8888888888888888,
              "#fdca26"
             ],
             [
              1,
              "#f0f921"
             ]
            ],
            "type": "heatmap"
           }
          ],
          "histogram": [
           {
            "marker": {
             "pattern": {
              "fillmode": "overlay",
              "size": 10,
              "solidity": 0.2
             }
            },
            "type": "histogram"
           }
          ],
          "histogram2d": [
           {
            "colorbar": {
             "outlinewidth": 0,
             "ticks": ""
            },
            "colorscale": [
             [
              0,
              "#0d0887"
             ],
             [
              0.1111111111111111,
              "#46039f"
             ],
             [
              0.2222222222222222,
              "#7201a8"
             ],
             [
              0.3333333333333333,
              "#9c179e"
             ],
             [
              0.4444444444444444,
              "#bd3786"
             ],
             [
              0.5555555555555556,
              "#d8576b"
             ],
             [
              0.6666666666666666,
              "#ed7953"
             ],
             [
              0.7777777777777778,
              "#fb9f3a"
             ],
             [
              0.8888888888888888,
              "#fdca26"
             ],
             [
              1,
              "#f0f921"
             ]
            ],
            "type": "histogram2d"
           }
          ],
          "histogram2dcontour": [
           {
            "colorbar": {
             "outlinewidth": 0,
             "ticks": ""
            },
            "colorscale": [
             [
              0,
              "#0d0887"
             ],
             [
              0.1111111111111111,
              "#46039f"
             ],
             [
              0.2222222222222222,
              "#7201a8"
             ],
             [
              0.3333333333333333,
              "#9c179e"
             ],
             [
              0.4444444444444444,
              "#bd3786"
             ],
             [
              0.5555555555555556,
              "#d8576b"
             ],
             [
              0.6666666666666666,
              "#ed7953"
             ],
             [
              0.7777777777777778,
              "#fb9f3a"
             ],
             [
              0.8888888888888888,
              "#fdca26"
             ],
             [
              1,
              "#f0f921"
             ]
            ],
            "type": "histogram2dcontour"
           }
          ],
          "mesh3d": [
           {
            "colorbar": {
             "outlinewidth": 0,
             "ticks": ""
            },
            "type": "mesh3d"
           }
          ],
          "parcoords": [
           {
            "line": {
             "colorbar": {
              "outlinewidth": 0,
              "ticks": ""
             }
            },
            "type": "parcoords"
           }
          ],
          "pie": [
           {
            "automargin": true,
            "type": "pie"
           }
          ],
          "scatter": [
           {
            "fillpattern": {
             "fillmode": "overlay",
             "size": 10,
             "solidity": 0.2
            },
            "type": "scatter"
           }
          ],
          "scatter3d": [
           {
            "line": {
             "colorbar": {
              "outlinewidth": 0,
              "ticks": ""
             }
            },
            "marker": {
             "colorbar": {
              "outlinewidth": 0,
              "ticks": ""
             }
            },
            "type": "scatter3d"
           }
          ],
          "scattercarpet": [
           {
            "marker": {
             "colorbar": {
              "outlinewidth": 0,
              "ticks": ""
             }
            },
            "type": "scattercarpet"
           }
          ],
          "scattergeo": [
           {
            "marker": {
             "colorbar": {
              "outlinewidth": 0,
              "ticks": ""
             }
            },
            "type": "scattergeo"
           }
          ],
          "scattergl": [
           {
            "marker": {
             "colorbar": {
              "outlinewidth": 0,
              "ticks": ""
             }
            },
            "type": "scattergl"
           }
          ],
          "scattermap": [
           {
            "marker": {
             "colorbar": {
              "outlinewidth": 0,
              "ticks": ""
             }
            },
            "type": "scattermap"
           }
          ],
          "scattermapbox": [
           {
            "marker": {
             "colorbar": {
              "outlinewidth": 0,
              "ticks": ""
             }
            },
            "type": "scattermapbox"
           }
          ],
          "scatterpolar": [
           {
            "marker": {
             "colorbar": {
              "outlinewidth": 0,
              "ticks": ""
             }
            },
            "type": "scatterpolar"
           }
          ],
          "scatterpolargl": [
           {
            "marker": {
             "colorbar": {
              "outlinewidth": 0,
              "ticks": ""
             }
            },
            "type": "scatterpolargl"
           }
          ],
          "scatterternary": [
           {
            "marker": {
             "colorbar": {
              "outlinewidth": 0,
              "ticks": ""
             }
            },
            "type": "scatterternary"
           }
          ],
          "surface": [
           {
            "colorbar": {
             "outlinewidth": 0,
             "ticks": ""
            },
            "colorscale": [
             [
              0,
              "#0d0887"
             ],
             [
              0.1111111111111111,
              "#46039f"
             ],
             [
              0.2222222222222222,
              "#7201a8"
             ],
             [
              0.3333333333333333,
              "#9c179e"
             ],
             [
              0.4444444444444444,
              "#bd3786"
             ],
             [
              0.5555555555555556,
              "#d8576b"
             ],
             [
              0.6666666666666666,
              "#ed7953"
             ],
             [
              0.7777777777777778,
              "#fb9f3a"
             ],
             [
              0.8888888888888888,
              "#fdca26"
             ],
             [
              1,
              "#f0f921"
             ]
            ],
            "type": "surface"
           }
          ],
          "table": [
           {
            "cells": {
             "fill": {
              "color": "#EBF0F8"
             },
             "line": {
              "color": "white"
             }
            },
            "header": {
             "fill": {
              "color": "#C8D4E3"
             },
             "line": {
              "color": "white"
             }
            },
            "type": "table"
           }
          ]
         },
         "layout": {
          "annotationdefaults": {
           "arrowcolor": "#2a3f5f",
           "arrowhead": 0,
           "arrowwidth": 1
          },
          "autotypenumbers": "strict",
          "coloraxis": {
           "colorbar": {
            "outlinewidth": 0,
            "ticks": ""
           }
          },
          "colorscale": {
           "diverging": [
            [
             0,
             "#8e0152"
            ],
            [
             0.1,
             "#c51b7d"
            ],
            [
             0.2,
             "#de77ae"
            ],
            [
             0.3,
             "#f1b6da"
            ],
            [
             0.4,
             "#fde0ef"
            ],
            [
             0.5,
             "#f7f7f7"
            ],
            [
             0.6,
             "#e6f5d0"
            ],
            [
             0.7,
             "#b8e186"
            ],
            [
             0.8,
             "#7fbc41"
            ],
            [
             0.9,
             "#4d9221"
            ],
            [
             1,
             "#276419"
            ]
           ],
           "sequential": [
            [
             0,
             "#0d0887"
            ],
            [
             0.1111111111111111,
             "#46039f"
            ],
            [
             0.2222222222222222,
             "#7201a8"
            ],
            [
             0.3333333333333333,
             "#9c179e"
            ],
            [
             0.4444444444444444,
             "#bd3786"
            ],
            [
             0.5555555555555556,
             "#d8576b"
            ],
            [
             0.6666666666666666,
             "#ed7953"
            ],
            [
             0.7777777777777778,
             "#fb9f3a"
            ],
            [
             0.8888888888888888,
             "#fdca26"
            ],
            [
             1,
             "#f0f921"
            ]
           ],
           "sequentialminus": [
            [
             0,
             "#0d0887"
            ],
            [
             0.1111111111111111,
             "#46039f"
            ],
            [
             0.2222222222222222,
             "#7201a8"
            ],
            [
             0.3333333333333333,
             "#9c179e"
            ],
            [
             0.4444444444444444,
             "#bd3786"
            ],
            [
             0.5555555555555556,
             "#d8576b"
            ],
            [
             0.6666666666666666,
             "#ed7953"
            ],
            [
             0.7777777777777778,
             "#fb9f3a"
            ],
            [
             0.8888888888888888,
             "#fdca26"
            ],
            [
             1,
             "#f0f921"
            ]
           ]
          },
          "colorway": [
           "#636efa",
           "#EF553B",
           "#00cc96",
           "#ab63fa",
           "#FFA15A",
           "#19d3f3",
           "#FF6692",
           "#B6E880",
           "#FF97FF",
           "#FECB52"
          ],
          "font": {
           "color": "#2a3f5f"
          },
          "geo": {
           "bgcolor": "white",
           "lakecolor": "white",
           "landcolor": "white",
           "showlakes": true,
           "showland": true,
           "subunitcolor": "#C8D4E3"
          },
          "hoverlabel": {
           "align": "left"
          },
          "hovermode": "closest",
          "mapbox": {
           "style": "light"
          },
          "paper_bgcolor": "white",
          "plot_bgcolor": "white",
          "polar": {
           "angularaxis": {
            "gridcolor": "#EBF0F8",
            "linecolor": "#EBF0F8",
            "ticks": ""
           },
           "bgcolor": "white",
           "radialaxis": {
            "gridcolor": "#EBF0F8",
            "linecolor": "#EBF0F8",
            "ticks": ""
           }
          },
          "scene": {
           "xaxis": {
            "backgroundcolor": "white",
            "gridcolor": "#DFE8F3",
            "gridwidth": 2,
            "linecolor": "#EBF0F8",
            "showbackground": true,
            "ticks": "",
            "zerolinecolor": "#EBF0F8"
           },
           "yaxis": {
            "backgroundcolor": "white",
            "gridcolor": "#DFE8F3",
            "gridwidth": 2,
            "linecolor": "#EBF0F8",
            "showbackground": true,
            "ticks": "",
            "zerolinecolor": "#EBF0F8"
           },
           "zaxis": {
            "backgroundcolor": "white",
            "gridcolor": "#DFE8F3",
            "gridwidth": 2,
            "linecolor": "#EBF0F8",
            "showbackground": true,
            "ticks": "",
            "zerolinecolor": "#EBF0F8"
           }
          },
          "shapedefaults": {
           "line": {
            "color": "#2a3f5f"
           }
          },
          "ternary": {
           "aaxis": {
            "gridcolor": "#DFE8F3",
            "linecolor": "#A2B1C6",
            "ticks": ""
           },
           "baxis": {
            "gridcolor": "#DFE8F3",
            "linecolor": "#A2B1C6",
            "ticks": ""
           },
           "bgcolor": "white",
           "caxis": {
            "gridcolor": "#DFE8F3",
            "linecolor": "#A2B1C6",
            "ticks": ""
           }
          },
          "title": {
           "x": 0.05
          },
          "xaxis": {
           "automargin": true,
           "gridcolor": "#EBF0F8",
           "linecolor": "#EBF0F8",
           "ticks": "",
           "title": {
            "standoff": 15
           },
           "zerolinecolor": "#EBF0F8",
           "zerolinewidth": 2
          },
          "yaxis": {
           "automargin": true,
           "gridcolor": "#EBF0F8",
           "linecolor": "#EBF0F8",
           "ticks": "",
           "title": {
            "standoff": 15
           },
           "zerolinecolor": "#EBF0F8",
           "zerolinewidth": 2
          }
         }
        },
        "title": {
         "text": "Beta Posterior Density $p(\\pi|a,b)$"
        },
        "width": 900,
        "xaxis": {
         "title": {
          "text": "$\\pi$"
         }
        },
        "yaxis": {
         "title": {
          "text": "$p(\\pi|a,b)$"
         }
        }
       }
      }
     },
     "metadata": {},
     "output_type": "display_data"
    }
   ],
   "source": [
    "# Grid for probability parameter\n",
    "x = jnp.linspace(0, 1, 300)\n",
    "\n",
    "# Beta posterior density\n",
    "p = beta.pdf(x, a, b)\n",
    "\n",
    "# Posterior mean and standard deviation\n",
    "mean_p = a / (a + b)\n",
    "var_p = a * b / ((a + b) ** 2 * (a + b + 1))\n",
    "std_p = jnp.sqrt(var_p)\n",
    "\n",
    "fig = go.Figure()\n",
    "\n",
    "fig.add_trace(\n",
    "    go.Scatter(\n",
    "        x=x,\n",
    "        y=p,\n",
    "        mode=\"lines\",\n",
    "        line=dict(color=\"crimson\", width=2),\n",
    "        name=\"Beta posterior\",\n",
    "        fill=\"tozeroy\",\n",
    "        fillcolor=\"rgba(220,20,60,0.15)\",\n",
    "    )\n",
    ")\n",
    "\n",
    "# Mean marker\n",
    "fig.add_trace(\n",
    "    go.Scatter(\n",
    "        x=[mean_p],\n",
    "        y=[beta.pdf(mean_p, a, b)],\n",
    "        mode=\"markers\",\n",
    "        marker=dict(color=\"green\", size=10, symbol=\"x\"),\n",
    "        name=\"Posterior mean\",\n",
    "    )\n",
    ")\n",
    "\n",
    "# Std deviation interval\n",
    "fig.add_trace(\n",
    "    go.Scatter(\n",
    "        x=[mean_p - std_p, mean_p + std_p],\n",
    "        y=[beta.pdf(mean_p - std_p, a, b), beta.pdf(mean_p + std_p, a, b)],\n",
    "        mode=\"markers+lines\",\n",
    "        marker=dict(color=\"green\", size=7, symbol=\"line-ns\"),\n",
    "        line=dict(color=\"green\", width=1, dash=\"dot\"),\n",
    "        name=\"Std deviation\",\n",
    "        showlegend=True,\n",
    "    )\n",
    ")\n",
    "\n",
    "# Beta prior density\n",
    "prior_p = beta.pdf(x, a0, b0)\n",
    "prior_mean = a0 / (a0 + b0)\n",
    "prior_var = a0 * b0 / ((a0 + b0) ** 2 * (a0 + b0 + 1))\n",
    "prior_std = jnp.sqrt(prior_var)\n",
    "\n",
    "# Add prior density\n",
    "fig.add_trace(\n",
    "    go.Scatter(\n",
    "        x=x,\n",
    "        y=prior_p,\n",
    "        mode=\"lines\",\n",
    "        line=dict(color=\"royalblue\", width=2, dash=\"dot\"),\n",
    "        name=\"Beta prior\",\n",
    "        fill=None,\n",
    "    )\n",
    ")\n",
    "\n",
    "# Prior mean marker\n",
    "fig.add_trace(\n",
    "    go.Scatter(\n",
    "        x=[prior_mean],\n",
    "        y=[beta.pdf(prior_mean, a0, b0)],\n",
    "        mode=\"markers\",\n",
    "        marker=dict(color=\"blue\", size=10, symbol=\"x\"),\n",
    "        name=\"Prior mean\",\n",
    "    )\n",
    ")\n",
    "\n",
    "# Prior std deviation interval\n",
    "fig.add_trace(\n",
    "    go.Scatter(\n",
    "        x=[prior_mean - prior_std, prior_mean + prior_std],\n",
    "        y=[\n",
    "            beta.pdf(prior_mean - prior_std, a0, b0),\n",
    "            beta.pdf(prior_mean + prior_std, a0, b0),\n",
    "        ],\n",
    "        mode=\"markers+lines\",\n",
    "        marker=dict(color=\"blue\", size=7, symbol=\"line-ns\"),\n",
    "        line=dict(color=\"blue\", width=1, dash=\"dot\"),\n",
    "        name=\"Prior std deviation\",\n",
    "        showlegend=True,\n",
    "    )\n",
    ")\n",
    "\n",
    "fig.update_layout(\n",
    "    title=\"Beta Posterior Density $p(\\\\pi|a,b)$\",\n",
    "    xaxis_title=\"$\\\\pi$\",\n",
    "    yaxis_title=\"$p(\\\\pi|a,b)$\",\n",
    "    width=900,\n",
    "    height=400,\n",
    "    legend=dict(itemsizing=\"constant\"),\n",
    ")\n",
    "fig.show()"
   ]
  },
  {
   "cell_type": "markdown",
   "id": "3319198e",
   "metadata": {},
   "source": [
    "## 5. Compute and Plot Log Posterior Density\n",
    "\n",
    "Compute the log of the Beta posterior density and plot it using Plotly."
   ]
  },
  {
   "cell_type": "code",
   "execution_count": 5,
   "id": "030e16f4",
   "metadata": {},
   "outputs": [
    {
     "data": {
      "application/vnd.plotly.v1+json": {
       "config": {
        "plotlyServerURL": "https://plot.ly"
       },
       "data": [
        {
         "line": {
          "color": "crimson",
          "width": 2
         },
         "mode": "lines",
         "name": "log Beta posterior",
         "type": "scatter",
         "x": {
          "bdata": "AAAAABcvWzsXL9s7UWMkPBcvWzxu/Yg8UWOkPDTJvzwXL9s8+pT2PG79CD1gsBY9UWMkPUMWMj00yT89JnxNPRcvWz0I4mg9+pR2PfYjgj1u/Yg959aPPWCwlj3ZiZ09UWOkPco8qz1DFrI9u++4PTTJvz2tosY9JnzNPZ5V1D0XL9s9kAjiPQji6D2Bu+89+pT2PXNu/T32IwI+spAFPm79CD4ragw+59YPPqNDEz5gsBY+HB0aPtmJHT6V9iA+UWMkPg7QJz7KPCs+hqkuPkMWMj7/gjU+u+84PnhcPD40yT8+8DVDPq2iRj5pD0o+JnxNPuLoUD6eVVQ+W8JXPhcvWz7Tm14+kAhiPkx1ZT4I4mg+xU5sPoG7bz4+KHM++pR2PrYBej5zbn0+l22APvYjgj5U2oM+spCFPhBHhz5u/Yg+zbOKPitqjD6JII4+59aPPkWNkT6jQ5M+AvqUPmCwlj6+Zpg+HB2aPnrTmz7ZiZ0+N0CfPpX2oD7zrKI+UWOkPq8Zpj4O0Kc+bIapPso8qz4o86w+hqmuPuVfsD5DFrI+ocyzPv+CtT5dObc+u++4Phqmuj54XLw+1hK+PjTJvz6Sf8E+8DXDPk/sxD6tosY+C1nIPmkPyj7Hxcs+JnzNPoQyzz7i6NA+QJ/SPp5V1D78C9Y+W8LXPrl42T4XL9s+deXcPtOb3j4yUuA+kAjiPu6+4z5MdeU+qivnPgji6D5nmOo+xU7sPiMF7j6Bu+8+33HxPj4o8z6c3vQ++pT2PlhL+D62Afo+FLj7PnNu/T7RJP8+l20AP8dIAT/2IwI/Jf8CP1TaAz+DtQQ/spAFP+FrBj8QRwc/PyIIP279CD+d2Ak/zbMKP/yOCz8ragw/WkUNP4kgDj+4+w4/59YPPxayED9FjRE/dGgSP6NDEz/THhQ/AvoUPzHVFT9gsBY/j4sXP75mGD/tQRk/HB0aP0v4Gj960xs/qa4cP9mJHT8IZR4/N0AfP2YbID+V9iA/xNEhP/OsIj8iiCM/UWMkP4A+JT+vGSY/3/QmPw7QJz89qyg/bIYpP5thKj/KPCs/+RcsPyjzLD9Xzi0/hqkuP7WELz/lXzA/FDsxP0MWMj9y8TI/ocwzP9CnND//gjU/Ll42P105Nz+MFDg/u+84P+rKOT8apjo/SYE7P3hcPD+nNz0/1hI+PwXuPj80yT8/Y6RAP5J/QT/BWkI/8DVDPyARRD9P7EQ/fsdFP62iRj/cfUc/C1lIPzo0ST9pD0o/mOpKP8fFSz/2oEw/JnxNP1VXTj+EMk8/sw1QP+LoUD8RxFE/QJ9SP296Uz+eVVQ/zTBVP/wLVj8s51Y/W8JXP4qdWD+5eFk/6FNaPxcvWz9GClw/deVcP6TAXT/Tm14/AndfPzJSYD9hLWE/kAhiP7/jYj/uvmM/HZpkP0x1ZT97UGY/qitnP9kGaD8I4mg/OL1pP2eYaj+Wc2s/xU5sP/QpbT8jBW4/UuBuP4G7bz+wlnA/33FxPw5Ncj8+KHM/bQN0P5zedD/LuXU/+pR2Pylwdz9YS3g/hyZ5P7YBej/l3Ho/FLh7P0STfD9zbn0/okl+P9Ekfz8AAIA/",
          "dtype": "f4"
         },
         "y": {
          "bdata": "AACA/xA4UME0Di/BerMbwSkADsH+ZQPBEoP1wKzu5sA0VdrA+j7PwDxaxcCubLzARku0wFTVrMBy8aXAdIufwCaTmcA8+5PAtriOwF7CicBoEIXALJyAwN6/eMB6rXDAivhowG6ZYcB0iVrAssJTwNg/TcAs/EbAbvNAwMghO8DEgzXAPhYwwFTWKsBswSXAHtUgwD4PHMC+bRfAyu4SwKaQDsC2UQrAhjAGwLYrAsDwg/y/SOT0vzB27b+cN+a/jCbfvzRB2L/ghdG/7PLKv9iGxL8wQL6/oB24v+Adsr/AP6y/DIKmv8DjoL/IY5u/NAGWvxi7kL+UkIu/yICGv/CKgb+QXHm/MNRvv2h7Zr/QUF2/MFNUv2iBS78w2kK/iFw6v1gHMr+g2Sm/YNIhv7jwGb/AMxK/kJoKv2gkA7/goPe+4DvpvmAY277gNM2+IJC/vsAosr6A/aS+QA2YvrBWi77gsX2+QCVlvgAGTb6gUTW+gAYevsAiB77ASOG9gBO1vYCiib0A5D29AADUvACAvLsAwGU8AAYJPQA4Vz1ABZI9gMG3PUDT3D1gngA+YIASPoAQJD7gTzU+gD9GPpDgVj7gM2c+gDp3Pqh6gz6QMos+cMWSPqAzmj6YfaE+wKOoPmCmrz7QhbY+iEK9PsDcwz7gVMo+MKvQPvjf1j5489w+EObiPuC36D5Qae4+iPrzPrhr+T5Avf4+nPcBP/CABD+w+gY//GQJP+C/Cz+ACw4/4EcQPyh1Ej9UkxQ/iKIWP8iiGD8glBo/sHYcP3hKHj+EDyA/4MUhP5xtIz+8BiU/SJEmP0gNKD+8eik/uNkqPzAqLD8wbC0/uJ8uP8jELz9g2zA/iOMxPzDdMj9gyDM/CKU0PzBzNT/IMjY/1OM2P0CGNz8IGjg/KJ84P4gVOT8ofTk/7NU5P9gfOj/MWjo/wIY6P5ijOj9QsTo/yK86P/CeOj+ofjo/4E46P3gPOj9gwDk/bGE5P4jyOD+Uczg/bOQ3P+hENz/slDY/UNQ1P/ACNT+YIDQ/KC0zP2woMj80EjE/VOovP5iwLj/IZC0/sAYsPxCWKj+0Eik/WHwnP7zSJT+cFSQ/tEQiP7hfID9cZh4/UFgcP0Q1Gj/g/Bc/yK4VP6hKEz8Q0BA/rD4OPwiWCz+w1Qg/QP0FPzwMAz8oAgA/AL35PoBB8z64kOw+gKnlPqCK3j7QMtc+2KDPPkDTxz64yL8+qH+3PoD2rj6wK6Y+cB2dPvDJkz5QL4o+kEuAPkA5bD6QQFc+YKhBPgBsKz4ghhQ+4OL5PaBQyT0ASZc9gH9HPQCdujwA8IC7gOQAvYAkdb2AgLa9gE70vSAIGr4A7Tq+QOFcvmDwf76AE5K+gMmkvmAhuL7wIsy+0NbgviBG9r5QPQa/kL8Rv7CvHb8YFCq/oPM2v/hVRL+YQ1K/mMVgvzjmb7/YsH+/EBmIv/y7kL8wyZm/jEmjvzRHrb+szbe/OOrCvwyszr/wJNu/pGnov8CS9r/U3gLA0gYLwAbXE8BOah3AhuInwEZrM8DwPUDAPqhOwCwXX8BUKnLAlGyEwCphksBid6TAohe+wIwh6sAAAID/",
          "dtype": "f4"
         }
        }
       ],
       "layout": {
        "height": 400,
        "legend": {
         "itemsizing": "constant"
        },
        "template": {
         "data": {
          "bar": [
           {
            "error_x": {
             "color": "#2a3f5f"
            },
            "error_y": {
             "color": "#2a3f5f"
            },
            "marker": {
             "line": {
              "color": "white",
              "width": 0.5
             },
             "pattern": {
              "fillmode": "overlay",
              "size": 10,
              "solidity": 0.2
             }
            },
            "type": "bar"
           }
          ],
          "barpolar": [
           {
            "marker": {
             "line": {
              "color": "white",
              "width": 0.5
             },
             "pattern": {
              "fillmode": "overlay",
              "size": 10,
              "solidity": 0.2
             }
            },
            "type": "barpolar"
           }
          ],
          "carpet": [
           {
            "aaxis": {
             "endlinecolor": "#2a3f5f",
             "gridcolor": "#C8D4E3",
             "linecolor": "#C8D4E3",
             "minorgridcolor": "#C8D4E3",
             "startlinecolor": "#2a3f5f"
            },
            "baxis": {
             "endlinecolor": "#2a3f5f",
             "gridcolor": "#C8D4E3",
             "linecolor": "#C8D4E3",
             "minorgridcolor": "#C8D4E3",
             "startlinecolor": "#2a3f5f"
            },
            "type": "carpet"
           }
          ],
          "choropleth": [
           {
            "colorbar": {
             "outlinewidth": 0,
             "ticks": ""
            },
            "type": "choropleth"
           }
          ],
          "contour": [
           {
            "colorbar": {
             "outlinewidth": 0,
             "ticks": ""
            },
            "colorscale": [
             [
              0,
              "#0d0887"
             ],
             [
              0.1111111111111111,
              "#46039f"
             ],
             [
              0.2222222222222222,
              "#7201a8"
             ],
             [
              0.3333333333333333,
              "#9c179e"
             ],
             [
              0.4444444444444444,
              "#bd3786"
             ],
             [
              0.5555555555555556,
              "#d8576b"
             ],
             [
              0.6666666666666666,
              "#ed7953"
             ],
             [
              0.7777777777777778,
              "#fb9f3a"
             ],
             [
              0.8888888888888888,
              "#fdca26"
             ],
             [
              1,
              "#f0f921"
             ]
            ],
            "type": "contour"
           }
          ],
          "contourcarpet": [
           {
            "colorbar": {
             "outlinewidth": 0,
             "ticks": ""
            },
            "type": "contourcarpet"
           }
          ],
          "heatmap": [
           {
            "colorbar": {
             "outlinewidth": 0,
             "ticks": ""
            },
            "colorscale": [
             [
              0,
              "#0d0887"
             ],
             [
              0.1111111111111111,
              "#46039f"
             ],
             [
              0.2222222222222222,
              "#7201a8"
             ],
             [
              0.3333333333333333,
              "#9c179e"
             ],
             [
              0.4444444444444444,
              "#bd3786"
             ],
             [
              0.5555555555555556,
              "#d8576b"
             ],
             [
              0.6666666666666666,
              "#ed7953"
             ],
             [
              0.7777777777777778,
              "#fb9f3a"
             ],
             [
              0.8888888888888888,
              "#fdca26"
             ],
             [
              1,
              "#f0f921"
             ]
            ],
            "type": "heatmap"
           }
          ],
          "histogram": [
           {
            "marker": {
             "pattern": {
              "fillmode": "overlay",
              "size": 10,
              "solidity": 0.2
             }
            },
            "type": "histogram"
           }
          ],
          "histogram2d": [
           {
            "colorbar": {
             "outlinewidth": 0,
             "ticks": ""
            },
            "colorscale": [
             [
              0,
              "#0d0887"
             ],
             [
              0.1111111111111111,
              "#46039f"
             ],
             [
              0.2222222222222222,
              "#7201a8"
             ],
             [
              0.3333333333333333,
              "#9c179e"
             ],
             [
              0.4444444444444444,
              "#bd3786"
             ],
             [
              0.5555555555555556,
              "#d8576b"
             ],
             [
              0.6666666666666666,
              "#ed7953"
             ],
             [
              0.7777777777777778,
              "#fb9f3a"
             ],
             [
              0.8888888888888888,
              "#fdca26"
             ],
             [
              1,
              "#f0f921"
             ]
            ],
            "type": "histogram2d"
           }
          ],
          "histogram2dcontour": [
           {
            "colorbar": {
             "outlinewidth": 0,
             "ticks": ""
            },
            "colorscale": [
             [
              0,
              "#0d0887"
             ],
             [
              0.1111111111111111,
              "#46039f"
             ],
             [
              0.2222222222222222,
              "#7201a8"
             ],
             [
              0.3333333333333333,
              "#9c179e"
             ],
             [
              0.4444444444444444,
              "#bd3786"
             ],
             [
              0.5555555555555556,
              "#d8576b"
             ],
             [
              0.6666666666666666,
              "#ed7953"
             ],
             [
              0.7777777777777778,
              "#fb9f3a"
             ],
             [
              0.8888888888888888,
              "#fdca26"
             ],
             [
              1,
              "#f0f921"
             ]
            ],
            "type": "histogram2dcontour"
           }
          ],
          "mesh3d": [
           {
            "colorbar": {
             "outlinewidth": 0,
             "ticks": ""
            },
            "type": "mesh3d"
           }
          ],
          "parcoords": [
           {
            "line": {
             "colorbar": {
              "outlinewidth": 0,
              "ticks": ""
             }
            },
            "type": "parcoords"
           }
          ],
          "pie": [
           {
            "automargin": true,
            "type": "pie"
           }
          ],
          "scatter": [
           {
            "fillpattern": {
             "fillmode": "overlay",
             "size": 10,
             "solidity": 0.2
            },
            "type": "scatter"
           }
          ],
          "scatter3d": [
           {
            "line": {
             "colorbar": {
              "outlinewidth": 0,
              "ticks": ""
             }
            },
            "marker": {
             "colorbar": {
              "outlinewidth": 0,
              "ticks": ""
             }
            },
            "type": "scatter3d"
           }
          ],
          "scattercarpet": [
           {
            "marker": {
             "colorbar": {
              "outlinewidth": 0,
              "ticks": ""
             }
            },
            "type": "scattercarpet"
           }
          ],
          "scattergeo": [
           {
            "marker": {
             "colorbar": {
              "outlinewidth": 0,
              "ticks": ""
             }
            },
            "type": "scattergeo"
           }
          ],
          "scattergl": [
           {
            "marker": {
             "colorbar": {
              "outlinewidth": 0,
              "ticks": ""
             }
            },
            "type": "scattergl"
           }
          ],
          "scattermap": [
           {
            "marker": {
             "colorbar": {
              "outlinewidth": 0,
              "ticks": ""
             }
            },
            "type": "scattermap"
           }
          ],
          "scattermapbox": [
           {
            "marker": {
             "colorbar": {
              "outlinewidth": 0,
              "ticks": ""
             }
            },
            "type": "scattermapbox"
           }
          ],
          "scatterpolar": [
           {
            "marker": {
             "colorbar": {
              "outlinewidth": 0,
              "ticks": ""
             }
            },
            "type": "scatterpolar"
           }
          ],
          "scatterpolargl": [
           {
            "marker": {
             "colorbar": {
              "outlinewidth": 0,
              "ticks": ""
             }
            },
            "type": "scatterpolargl"
           }
          ],
          "scatterternary": [
           {
            "marker": {
             "colorbar": {
              "outlinewidth": 0,
              "ticks": ""
             }
            },
            "type": "scatterternary"
           }
          ],
          "surface": [
           {
            "colorbar": {
             "outlinewidth": 0,
             "ticks": ""
            },
            "colorscale": [
             [
              0,
              "#0d0887"
             ],
             [
              0.1111111111111111,
              "#46039f"
             ],
             [
              0.2222222222222222,
              "#7201a8"
             ],
             [
              0.3333333333333333,
              "#9c179e"
             ],
             [
              0.4444444444444444,
              "#bd3786"
             ],
             [
              0.5555555555555556,
              "#d8576b"
             ],
             [
              0.6666666666666666,
              "#ed7953"
             ],
             [
              0.7777777777777778,
              "#fb9f3a"
             ],
             [
              0.8888888888888888,
              "#fdca26"
             ],
             [
              1,
              "#f0f921"
             ]
            ],
            "type": "surface"
           }
          ],
          "table": [
           {
            "cells": {
             "fill": {
              "color": "#EBF0F8"
             },
             "line": {
              "color": "white"
             }
            },
            "header": {
             "fill": {
              "color": "#C8D4E3"
             },
             "line": {
              "color": "white"
             }
            },
            "type": "table"
           }
          ]
         },
         "layout": {
          "annotationdefaults": {
           "arrowcolor": "#2a3f5f",
           "arrowhead": 0,
           "arrowwidth": 1
          },
          "autotypenumbers": "strict",
          "coloraxis": {
           "colorbar": {
            "outlinewidth": 0,
            "ticks": ""
           }
          },
          "colorscale": {
           "diverging": [
            [
             0,
             "#8e0152"
            ],
            [
             0.1,
             "#c51b7d"
            ],
            [
             0.2,
             "#de77ae"
            ],
            [
             0.3,
             "#f1b6da"
            ],
            [
             0.4,
             "#fde0ef"
            ],
            [
             0.5,
             "#f7f7f7"
            ],
            [
             0.6,
             "#e6f5d0"
            ],
            [
             0.7,
             "#b8e186"
            ],
            [
             0.8,
             "#7fbc41"
            ],
            [
             0.9,
             "#4d9221"
            ],
            [
             1,
             "#276419"
            ]
           ],
           "sequential": [
            [
             0,
             "#0d0887"
            ],
            [
             0.1111111111111111,
             "#46039f"
            ],
            [
             0.2222222222222222,
             "#7201a8"
            ],
            [
             0.3333333333333333,
             "#9c179e"
            ],
            [
             0.4444444444444444,
             "#bd3786"
            ],
            [
             0.5555555555555556,
             "#d8576b"
            ],
            [
             0.6666666666666666,
             "#ed7953"
            ],
            [
             0.7777777777777778,
             "#fb9f3a"
            ],
            [
             0.8888888888888888,
             "#fdca26"
            ],
            [
             1,
             "#f0f921"
            ]
           ],
           "sequentialminus": [
            [
             0,
             "#0d0887"
            ],
            [
             0.1111111111111111,
             "#46039f"
            ],
            [
             0.2222222222222222,
             "#7201a8"
            ],
            [
             0.3333333333333333,
             "#9c179e"
            ],
            [
             0.4444444444444444,
             "#bd3786"
            ],
            [
             0.5555555555555556,
             "#d8576b"
            ],
            [
             0.6666666666666666,
             "#ed7953"
            ],
            [
             0.7777777777777778,
             "#fb9f3a"
            ],
            [
             0.8888888888888888,
             "#fdca26"
            ],
            [
             1,
             "#f0f921"
            ]
           ]
          },
          "colorway": [
           "#636efa",
           "#EF553B",
           "#00cc96",
           "#ab63fa",
           "#FFA15A",
           "#19d3f3",
           "#FF6692",
           "#B6E880",
           "#FF97FF",
           "#FECB52"
          ],
          "font": {
           "color": "#2a3f5f"
          },
          "geo": {
           "bgcolor": "white",
           "lakecolor": "white",
           "landcolor": "white",
           "showlakes": true,
           "showland": true,
           "subunitcolor": "#C8D4E3"
          },
          "hoverlabel": {
           "align": "left"
          },
          "hovermode": "closest",
          "mapbox": {
           "style": "light"
          },
          "paper_bgcolor": "white",
          "plot_bgcolor": "white",
          "polar": {
           "angularaxis": {
            "gridcolor": "#EBF0F8",
            "linecolor": "#EBF0F8",
            "ticks": ""
           },
           "bgcolor": "white",
           "radialaxis": {
            "gridcolor": "#EBF0F8",
            "linecolor": "#EBF0F8",
            "ticks": ""
           }
          },
          "scene": {
           "xaxis": {
            "backgroundcolor": "white",
            "gridcolor": "#DFE8F3",
            "gridwidth": 2,
            "linecolor": "#EBF0F8",
            "showbackground": true,
            "ticks": "",
            "zerolinecolor": "#EBF0F8"
           },
           "yaxis": {
            "backgroundcolor": "white",
            "gridcolor": "#DFE8F3",
            "gridwidth": 2,
            "linecolor": "#EBF0F8",
            "showbackground": true,
            "ticks": "",
            "zerolinecolor": "#EBF0F8"
           },
           "zaxis": {
            "backgroundcolor": "white",
            "gridcolor": "#DFE8F3",
            "gridwidth": 2,
            "linecolor": "#EBF0F8",
            "showbackground": true,
            "ticks": "",
            "zerolinecolor": "#EBF0F8"
           }
          },
          "shapedefaults": {
           "line": {
            "color": "#2a3f5f"
           }
          },
          "ternary": {
           "aaxis": {
            "gridcolor": "#DFE8F3",
            "linecolor": "#A2B1C6",
            "ticks": ""
           },
           "baxis": {
            "gridcolor": "#DFE8F3",
            "linecolor": "#A2B1C6",
            "ticks": ""
           },
           "bgcolor": "white",
           "caxis": {
            "gridcolor": "#DFE8F3",
            "linecolor": "#A2B1C6",
            "ticks": ""
           }
          },
          "title": {
           "x": 0.05
          },
          "xaxis": {
           "automargin": true,
           "gridcolor": "#EBF0F8",
           "linecolor": "#EBF0F8",
           "ticks": "",
           "title": {
            "standoff": 15
           },
           "zerolinecolor": "#EBF0F8",
           "zerolinewidth": 2
          },
          "yaxis": {
           "automargin": true,
           "gridcolor": "#EBF0F8",
           "linecolor": "#EBF0F8",
           "ticks": "",
           "title": {
            "standoff": 15
           },
           "zerolinecolor": "#EBF0F8",
           "zerolinewidth": 2
          }
         }
        },
        "title": {
         "text": "Log Beta Posterior Density $\\log p(\\pi|a,b)$"
        },
        "width": 900,
        "xaxis": {
         "title": {
          "text": "$\\pi$"
         }
        },
        "yaxis": {
         "title": {
          "text": "$\\log p(\\pi|a,b)$"
         }
        }
       }
      }
     },
     "metadata": {},
     "output_type": "display_data"
    }
   ],
   "source": [
    "logp = beta.logpdf(x, a, b)\n",
    "\n",
    "fig_log = go.Figure()\n",
    "fig_log.add_trace(\n",
    "    go.Scatter(\n",
    "        x=x,\n",
    "        y=logp,\n",
    "        mode=\"lines\",\n",
    "        line=dict(color=\"crimson\", width=2),\n",
    "        name=\"log Beta posterior\",\n",
    "    )\n",
    ")\n",
    "\n",
    "fig_log.update_layout(\n",
    "    title=\"Log Beta Posterior Density $\\\\log p(\\\\pi|a,b)$\",\n",
    "    xaxis_title=\"$\\\\pi$\",\n",
    "    yaxis_title=\"$\\\\log p(\\\\pi|a,b)$\",\n",
    "    width=900,\n",
    "    height=400,\n",
    "    legend=dict(itemsizing=\"constant\"),\n",
    ")\n",
    "fig_log.show()"
   ]
  },
  {
   "cell_type": "markdown",
   "id": "434972b4",
   "metadata": {},
   "source": [
    "## 6. Compute Posterior Mean, Variance, and Mode\n",
    "\n",
    "Calculate the mean, variance, standard deviation, and mode of the Beta posterior."
   ]
  },
  {
   "cell_type": "code",
   "execution_count": 6,
   "id": "448332e3",
   "metadata": {},
   "outputs": [
    {
     "name": "stdout",
     "output_type": "stream",
     "text": [
      "Posterior mean: 0.571\n",
      "Posterior std deviation: 0.175\n",
      "Posterior mode: 0.600\n"
     ]
    }
   ],
   "source": [
    "# Mode exists only if a > 1 and b > 1\n",
    "if (a > 1) and (b > 1):\n",
    "    mode_p = (a - 1) / (a + b - 2)\n",
    "else:\n",
    "    mode_p = None\n",
    "\n",
    "print(f\"Posterior mean: {mean_p:.3f}\")\n",
    "print(f\"Posterior std deviation: {std_p:.3f}\")\n",
    "if mode_p is not None:\n",
    "    print(f\"Posterior mode: {mode_p:.3f}\")\n",
    "else:\n",
    "    print(\"Posterior mode is undefined for a <= 1 or b <= 1.\")"
   ]
  },
  {
   "cell_type": "markdown",
   "id": "7eb4d13d",
   "metadata": {},
   "source": [
    "## 7. Laplace Approximation (Optional) and Plot Comparison\n",
    "\n",
    "If the mode is defined, compute the Laplace (Gaussian) approximation at the mode and overlay it on the density and log-density plots for comparison."
   ]
  },
  {
   "cell_type": "markdown",
   "id": "ecb15148",
   "metadata": {
    "vscode": {
     "languageId": "perl"
    }
   },
   "source": [
    "The **Laplace approximation** is a method for approximating a probability distribution with a Gaussian (normal) distribution, centered at the mode of the target distribution. It is especially useful in Bayesian inference when the posterior distribution is not analytically tractable or is difficult to work with directly.\n",
    "\n",
    "### How does Laplace approximation work?\n",
    "\n",
    "Suppose we have a posterior density $p(\\theta \\mid \\text{data})$. The Laplace approximation proceeds as follows:\n",
    "\n",
    "1. **Find the mode:**  \n",
    "    Compute the value $\\theta^*$ that maximizes the log-posterior:\n",
    "    $$\n",
    "    \\theta^* = \\arg\\max_\\theta \\log p(\\theta \\mid \\text{data})\n",
    "    $$\n",
    "\n",
    "2. **Compute the curvature at the mode:**  \n",
    "    Calculate the second derivative (the Hessian) of the log-posterior at $\\theta^*$:\n",
    "    $$\n",
    "    H = \\left. \\frac{d^2}{d\\theta^2} \\log p(\\theta \\mid \\text{data}) \\right|_{\\theta = \\theta^*}\n",
    "    $$\n",
    "\n",
    "3. **Approximate with a Gaussian:**  \n",
    "    The Laplace approximation is a normal distribution:\n",
    "    $$\n",
    "    q(\\theta) = \\mathcal{N}(\\theta^*,\\, -1/H)\n",
    "    $$\n",
    "    where the mean is the mode $\\theta^*$, and the variance is the negative inverse of the Hessian.\n",
    "\n",
    "### Why use Laplace approximation here?\n",
    "\n",
    "- In this notebook, the posterior is a Beta distribution, which is tractable and easy to plot. However, in many real-world Bayesian models, the posterior is not a standard distribution and cannot be computed or sampled from directly.\n",
    "- The Laplace approximation provides a **simple, analytic Gaussian approximation** to the posterior, which is easy to work with for further calculations (e.g., credible intervals, predictions).\n",
    "- Comparing the Beta posterior and its Laplace approximation helps us **visualize how well a Gaussian can approximate the true posterior**. This is especially useful for intuition: the Beta is skewed for small sample sizes or extreme priors, and the Laplace (Gaussian) may not always be a good fit.\n",
    "\n",
    "### In summary\n",
    "\n",
    "- The Laplace approximation is a general-purpose tool for approximating complicated posteriors with a Gaussian.\n",
    "- Here, it serves as a demonstration: we compare the true Beta posterior to its Laplace (Gaussian) approximation to see how well the latter matches the former.\n",
    "- This is important in Bayesian inference, especially for more complex models where the posterior is not available in closed form."
   ]
  },
  {
   "cell_type": "markdown",
   "id": "53355df8",
   "metadata": {},
   "source": [
    "The Laplace approximation is centered at the **mode** (the value where the posterior is maximized), not the mean, because it is based on a second-order Taylor expansion of the **log-posterior** around its maximum.\n",
    "\n",
    "Here's why:\n",
    "\n",
    "- The Laplace approximation fits a Gaussian to the posterior by matching the curvature (second derivative) of the log-posterior at its peak.\n",
    "- The peak of the posterior is the **mode**, not necessarily the mean (especially for skewed distributions).\n",
    "- The mean and mode are only the same for symmetric distributions (like the normal), but for skewed distributions (like the Beta with small counts), they differ.\n",
    "- The Taylor expansion gives the best local Gaussian approximation at the mode, where the log-posterior is maximized and its first derivative is zero.\n",
    "\n",
    "**Summary:**  \n",
    "Laplace approximation uses the mode because it is the point of maximum probability and provides the most accurate local quadratic (Gaussian) approximation to the posterior."
   ]
  },
  {
   "cell_type": "code",
   "execution_count": 7,
   "id": "d243f41a",
   "metadata": {},
   "outputs": [
    {
     "data": {
      "application/vnd.plotly.v1+json": {
       "config": {
        "plotlyServerURL": "https://plot.ly"
       },
       "data": [
        {
         "fill": "tozeroy",
         "fillcolor": "rgba(220,20,60,0.15)",
         "line": {
          "color": "crimson",
          "width": 2
         },
         "mode": "lines",
         "name": "Beta posterior",
         "type": "scatter",
         "x": {
          "bdata": "AAAAABcvWzsXL9s7UWMkPBcvWzxu/Yg8UWOkPDTJvzwXL9s8+pT2PG79CD1gsBY9UWMkPUMWMj00yT89JnxNPRcvWz0I4mg9+pR2PfYjgj1u/Yg959aPPWCwlj3ZiZ09UWOkPco8qz1DFrI9u++4PTTJvz2tosY9JnzNPZ5V1D0XL9s9kAjiPQji6D2Bu+89+pT2PXNu/T32IwI+spAFPm79CD4ragw+59YPPqNDEz5gsBY+HB0aPtmJHT6V9iA+UWMkPg7QJz7KPCs+hqkuPkMWMj7/gjU+u+84PnhcPD40yT8+8DVDPq2iRj5pD0o+JnxNPuLoUD6eVVQ+W8JXPhcvWz7Tm14+kAhiPkx1ZT4I4mg+xU5sPoG7bz4+KHM++pR2PrYBej5zbn0+l22APvYjgj5U2oM+spCFPhBHhz5u/Yg+zbOKPitqjD6JII4+59aPPkWNkT6jQ5M+AvqUPmCwlj6+Zpg+HB2aPnrTmz7ZiZ0+N0CfPpX2oD7zrKI+UWOkPq8Zpj4O0Kc+bIapPso8qz4o86w+hqmuPuVfsD5DFrI+ocyzPv+CtT5dObc+u++4Phqmuj54XLw+1hK+PjTJvz6Sf8E+8DXDPk/sxD6tosY+C1nIPmkPyj7Hxcs+JnzNPoQyzz7i6NA+QJ/SPp5V1D78C9Y+W8LXPrl42T4XL9s+deXcPtOb3j4yUuA+kAjiPu6+4z5MdeU+qivnPgji6D5nmOo+xU7sPiMF7j6Bu+8+33HxPj4o8z6c3vQ++pT2PlhL+D62Afo+FLj7PnNu/T7RJP8+l20AP8dIAT/2IwI/Jf8CP1TaAz+DtQQ/spAFP+FrBj8QRwc/PyIIP279CD+d2Ak/zbMKP/yOCz8ragw/WkUNP4kgDj+4+w4/59YPPxayED9FjRE/dGgSP6NDEz/THhQ/AvoUPzHVFT9gsBY/j4sXP75mGD/tQRk/HB0aP0v4Gj960xs/qa4cP9mJHT8IZR4/N0AfP2YbID+V9iA/xNEhP/OsIj8iiCM/UWMkP4A+JT+vGSY/3/QmPw7QJz89qyg/bIYpP5thKj/KPCs/+RcsPyjzLD9Xzi0/hqkuP7WELz/lXzA/FDsxP0MWMj9y8TI/ocwzP9CnND//gjU/Ll42P105Nz+MFDg/u+84P+rKOT8apjo/SYE7P3hcPD+nNz0/1hI+PwXuPj80yT8/Y6RAP5J/QT/BWkI/8DVDPyARRD9P7EQ/fsdFP62iRj/cfUc/C1lIPzo0ST9pD0o/mOpKP8fFSz/2oEw/JnxNP1VXTj+EMk8/sw1QP+LoUD8RxFE/QJ9SP296Uz+eVVQ/zTBVP/wLVj8s51Y/W8JXP4qdWD+5eFk/6FNaPxcvWz9GClw/deVcP6TAXT/Tm14/AndfPzJSYD9hLWE/kAhiP7/jYj/uvmM/HZpkP0x1ZT97UGY/qitnP9kGaD8I4mg/OL1pP2eYaj+Wc2s/xU5sP/QpbT8jBW4/UuBuP4G7bz+wlnA/33FxPw5Ncj8+KHM/bQN0P5zedD/LuXU/+pR2Pylwdz9YS3g/hyZ5P7YBej/l3Ho/FLh7P0STfD9zbn0/okl+P9Ekfz8AAIA/",
          "dtype": "f4"
         },
         "y": {
          "bdata": "AAAAAEmgFTarn5Q30B15OPygEjkUOY45pBf0Ofp7QDr4rY460cHJOjZtCTu0pjU7pjJqO2jYkzu2Xbc74PPfO0LxBjxwtyA8wG09PCY0XTyqFIA8WzWTPEUKqDzVoL480QXXPI9F8TzYtQY9j8EVPTLLJT2q1zY9mutIPV4LXD0BO3A9JL+CPWTsjT3Xppk9AvClPS3Jsj2pM8A9czDOPYrA3D3R5Os96J37PTL2BT5raA4+uSUXPkIuID4Igik+GiEzPl4LPT6wQEc+68BRPs2LXD4VoWc+ZABzPlapfj64TYU+KWuLPqiskT72EZg+uJqePpRGpT4pFaw+IQazPgYZuj5sTcE+3KLIPtIY0D7hrtc+emTfPgI55z4GLO8+2jz3Putq/z7N2gM/Jg4IPyRPDD9znRA/w/gUP65gGT/f1B0/8lQiP4TgJj86dys/pxgwP2rEND8cejk/TDk+P5sBQz+E0kc/tqtMP6KMUT/wdFY/HGRbP7FZYD9EVWU/VlZqP2xcbz8aZ3Q/wnV5PxWIfj+9zoE/u1qEP8nnhj+idYk/BwSMP7mSjj9zIZE//K+TPwk+lj9Zy5g/qVebP7zinT9KbKA/E/SiP9N5pT9E/ac/Jn6qPy78rD8hd68/vO6xP7NitD/C0rY/rj65Pyymuz8ACb4/4mbAP46/wj++EsU/OGDHP6ynyT/l6Ms/miPOP4NX0D9uhNI/DqrUPyXI1j9v3tg/s+zaP6jy3D8a8N4/veTgP2TQ4j++suQ/n4vmP79a6D/eH+o/09rrP1aL7T8uMe8/IczwP/5b8j+H4PM/h1n1P8bG9j8LKPg/MH35P/HF+j8lAvw/lzH9PxdU/j90af8/xTgAQA22AECDLAFACpwBQJQEAkAHZgJAVMACQGQTA0AkXwNAh6MDQHTgA0DgFQRAtUMEQOtpBEBtiARAMJ8EQCKuBEA/tQRAdLQEQLmrBED/mgRAQYIEQHNhBECTOARAkgcEQG3OA0AgjQNApEMDQPPxAkAOmAJA8TUCQJ7LAUAOWQFASN4AQEtbAEAuoP8/Z3n+P0lC/T/b+vs/LaP6P0k7+T9Iw/c/Nzv2Pyyj9D8/+/I/i0PxPyl87z85pe0/2b7rPy7J6T9axOc/hLDlP9yN4z+AXOE/rhzfP43O3D9Kcto/JgjYP1aQ1T8UC9M/mXjQPyjZzT8FLcs/cnTIP7SvxT8U38I/5QLAP28bvT8OKbo/Diy3P8cktD+bE7E/4vitP/rUqj9KqKc/NXOkPyc2oT+K8Z0/y6WaP2FTlz+7+pM/VJyQP6s4jT810Ik/fWOGPwXzgj+i/n4/1BF4P8kgcT+WLGo/ezZjP5Q/XD8mSVU/WlROP4hiRz/6dEA/9Iw5P9qrMj8Q0ys/7gMlP+c/Hj98iBc/JN8QP19FCj+zvAM/hY36PjzK7T67MuE+c8rUPrqUyD74lLw+pM6wPm5FpT7W/Jk+m/iOPnM8hD5dmHM+QVdfPoe9Sz4W0zg+F6AmPrwsFT5RgQQ+80zpPYlJyz3YCa89sJ+UPR46eD2KKEs9xC8iPd/q+jyGP7o8/aqCPGT3KDzYBsA7I20sO4QsLjoAAAAA",
          "dtype": "f4"
         }
        },
        {
         "line": {
          "color": "royalblue",
          "dash": "dash",
          "width": 2
         },
         "mode": "lines",
         "name": "Laplace approx.",
         "type": "scatter",
         "x": {
          "bdata": "AAAAABcvWzsXL9s7UWMkPBcvWzxu/Yg8UWOkPDTJvzwXL9s8+pT2PG79CD1gsBY9UWMkPUMWMj00yT89JnxNPRcvWz0I4mg9+pR2PfYjgj1u/Yg959aPPWCwlj3ZiZ09UWOkPco8qz1DFrI9u++4PTTJvz2tosY9JnzNPZ5V1D0XL9s9kAjiPQji6D2Bu+89+pT2PXNu/T32IwI+spAFPm79CD4ragw+59YPPqNDEz5gsBY+HB0aPtmJHT6V9iA+UWMkPg7QJz7KPCs+hqkuPkMWMj7/gjU+u+84PnhcPD40yT8+8DVDPq2iRj5pD0o+JnxNPuLoUD6eVVQ+W8JXPhcvWz7Tm14+kAhiPkx1ZT4I4mg+xU5sPoG7bz4+KHM++pR2PrYBej5zbn0+l22APvYjgj5U2oM+spCFPhBHhz5u/Yg+zbOKPitqjD6JII4+59aPPkWNkT6jQ5M+AvqUPmCwlj6+Zpg+HB2aPnrTmz7ZiZ0+N0CfPpX2oD7zrKI+UWOkPq8Zpj4O0Kc+bIapPso8qz4o86w+hqmuPuVfsD5DFrI+ocyzPv+CtT5dObc+u++4Phqmuj54XLw+1hK+PjTJvz6Sf8E+8DXDPk/sxD6tosY+C1nIPmkPyj7Hxcs+JnzNPoQyzz7i6NA+QJ/SPp5V1D78C9Y+W8LXPrl42T4XL9s+deXcPtOb3j4yUuA+kAjiPu6+4z5MdeU+qivnPgji6D5nmOo+xU7sPiMF7j6Bu+8+33HxPj4o8z6c3vQ++pT2PlhL+D62Afo+FLj7PnNu/T7RJP8+l20AP8dIAT/2IwI/Jf8CP1TaAz+DtQQ/spAFP+FrBj8QRwc/PyIIP279CD+d2Ak/zbMKP/yOCz8ragw/WkUNP4kgDj+4+w4/59YPPxayED9FjRE/dGgSP6NDEz/THhQ/AvoUPzHVFT9gsBY/j4sXP75mGD/tQRk/HB0aP0v4Gj960xs/qa4cP9mJHT8IZR4/N0AfP2YbID+V9iA/xNEhP/OsIj8iiCM/UWMkP4A+JT+vGSY/3/QmPw7QJz89qyg/bIYpP5thKj/KPCs/+RcsPyjzLD9Xzi0/hqkuP7WELz/lXzA/FDsxP0MWMj9y8TI/ocwzP9CnND//gjU/Ll42P105Nz+MFDg/u+84P+rKOT8apjo/SYE7P3hcPD+nNz0/1hI+PwXuPj80yT8/Y6RAP5J/QT/BWkI/8DVDPyARRD9P7EQ/fsdFP62iRj/cfUc/C1lIPzo0ST9pD0o/mOpKP8fFSz/2oEw/JnxNP1VXTj+EMk8/sw1QP+LoUD8RxFE/QJ9SP296Uz+eVVQ/zTBVP/wLVj8s51Y/W8JXP4qdWD+5eFk/6FNaPxcvWz9GClw/deVcP6TAXT/Tm14/AndfPzJSYD9hLWE/kAhiP7/jYj/uvmM/HZpkP0x1ZT97UGY/qitnP9kGaD8I4mg/OL1pP2eYaj+Wc2s/xU5sP/QpbT8jBW4/UuBuP4G7bz+wlnA/33FxPw5Ncj8+KHM/bQN0P5zedD/LuXU/+pR2Pylwdz9YS3g/hyZ5P7YBej/l3Ho/FLh7P0STfD9zbn0/okl+P9Ekfz8AAIA/",
          "dtype": "f4"
         },
         "y": {
          "bdata": "+GcvPY7fNj0knT49xqJGPXnyTj1Vjlc9inhgPR+zaT1VQHM9YyJ9PcGtgz0C94g9FG6OPSMUlD1d6pk98/GfPRQspj3+maw96DyzPQYWuj2WJsE92G/IPRbzzz2Gsdc9cqzfPRzl5z3MXPA9xBT5PSkHAT5gpQU+nmUKPoxIDz7NThQ+/3gZPsXHHj66OyQ+gNUpPrSVLz7qfDU+wIs7PsfCQT6cIkg+xqtOPtpeVT5lPFw+60RjPvZ4aj4G2XE+l2V5PpSPgD4Sg4Q+gI2IPhmvjD4I6JA+gjiVPrKgmT7HIJ4+5LiiPjBppz7OMaw+2hKxPmwMtj6aHrs+fEnAPhyNxT6D6co+vF7QPsTs1T6ak9s+OlPhPpgr5z6lHO0+QibzPlxI+T7Wgv8+vuoCPx4gBj9qYQk/iq4MP2IHED/QaxM/tdsWP+ZWGj883R0/jG4hP6gKJT9csSg/eGIsP78dMD/34jM/5LE3P0SKOz/Waz8/TlZDP2RJRz/KREs/MkhPP0ZTUz+0ZVc/HX9bPyafXz9yxWM/nfFnP0UjbD/+WXA/XpV0P/rUeD9gGH0/j6+AP2HUgj9n+oQ/ZSGHPx1JiT9RcYs/vpmNPybCjz9D6pE/0hGUP5A4lj84Xpg/hIKaPyulnD/mxZ4/b+SgP3wAoz/EGaU//y+nP+BCqT8eUqs/bl2tP4Zkrz8cZ7E/4mSzP45dtT/XULc/cT65PxImuz9wB70/P+K+Pzi2wD8Rg8I/gkjEP0QGxj8QvMc/nmnJP6wOyz/zqsw/MT7OPybIzz+MSNE/J7/SP7or1D8EjtU/y+XWP9Yy2D/sdNk/1KvaP1zX2z9Q99w/fQveP7QT3z/ID+A/jP/gP9bi4T9+ueI/YIPjP1ZA5D9C8OQ/ApPlP3oo5j+RsOY/LivnPzmY5z+i9+c/VUnoP0aN6D9nw+g/sOvoPxgG6T+bEuk/NxHpP+0B6T++5Og/sLnoP8qA6D8YOug/peXnP4GD5z+9E+c/bZbmP6gL5j+Fc+U/IM7kP5cb5D8IXOM/lI/iP2K24T+W0OA/Wd7fP9Tf3j821d0/qr7cP2Kc2z+Pbto/ZjXZPxvx1z/kodY//kfVP6Dj0z8IddI/cvzQPx56zz9K7s0/OFnMPyq7yj9kFMk/KmXHP8GtxT9u7sM/fCfCPzBZwD/Ug74/r6e8PwvFuj803Lg/cO22Pw75tD9W/7I/kwCxPxD9rj8a9aw/+uiqP/3YqD9qxaY/j66kP7OUoj8heKA/IlmeP/43nD/9FJo/ZfCXP4DKlT+To5M/4nuRP7FTjz9EK40/3AKLP73aiD8ls4Y/U4yEP4Zmgj/4QYA/1D18Pyf7dz9bvHM/4IFvPyNMaz+NG2c/hvBiP3PLXj+1rFo/q5RWP6yDUj8aek4/RnhKP4J+Rj8gjUI/aqQ+P6vEOj8q7jY/KCEzP+hdLz+mpCs/mPUnP/5QJD8HtyA/5ScdP8ajGT/UKhY/Ob0SPxlbDz+XBAw/07kIP+h6BT/tRwI//0H+PmgM+D4w7/E+fOrrPmD+5T72KuA+SXDaPmjO1D5VRc8+FNXJPpp9xD7wPr8+BBm6PsILtT4YF7A+",
          "dtype": "f4"
         }
        },
        {
         "marker": {
          "color": "red",
          "size": 10,
          "symbol": "star"
         },
         "mode": "markers",
         "name": "Posterior mode",
         "type": "scatter",
         "x": [
          0.6
         ],
         "y": [
          2.073601484298706
         ]
        }
       ],
       "layout": {
        "height": 400,
        "legend": {
         "itemsizing": "constant"
        },
        "template": {
         "data": {
          "bar": [
           {
            "error_x": {
             "color": "#2a3f5f"
            },
            "error_y": {
             "color": "#2a3f5f"
            },
            "marker": {
             "line": {
              "color": "white",
              "width": 0.5
             },
             "pattern": {
              "fillmode": "overlay",
              "size": 10,
              "solidity": 0.2
             }
            },
            "type": "bar"
           }
          ],
          "barpolar": [
           {
            "marker": {
             "line": {
              "color": "white",
              "width": 0.5
             },
             "pattern": {
              "fillmode": "overlay",
              "size": 10,
              "solidity": 0.2
             }
            },
            "type": "barpolar"
           }
          ],
          "carpet": [
           {
            "aaxis": {
             "endlinecolor": "#2a3f5f",
             "gridcolor": "#C8D4E3",
             "linecolor": "#C8D4E3",
             "minorgridcolor": "#C8D4E3",
             "startlinecolor": "#2a3f5f"
            },
            "baxis": {
             "endlinecolor": "#2a3f5f",
             "gridcolor": "#C8D4E3",
             "linecolor": "#C8D4E3",
             "minorgridcolor": "#C8D4E3",
             "startlinecolor": "#2a3f5f"
            },
            "type": "carpet"
           }
          ],
          "choropleth": [
           {
            "colorbar": {
             "outlinewidth": 0,
             "ticks": ""
            },
            "type": "choropleth"
           }
          ],
          "contour": [
           {
            "colorbar": {
             "outlinewidth": 0,
             "ticks": ""
            },
            "colorscale": [
             [
              0,
              "#0d0887"
             ],
             [
              0.1111111111111111,
              "#46039f"
             ],
             [
              0.2222222222222222,
              "#7201a8"
             ],
             [
              0.3333333333333333,
              "#9c179e"
             ],
             [
              0.4444444444444444,
              "#bd3786"
             ],
             [
              0.5555555555555556,
              "#d8576b"
             ],
             [
              0.6666666666666666,
              "#ed7953"
             ],
             [
              0.7777777777777778,
              "#fb9f3a"
             ],
             [
              0.8888888888888888,
              "#fdca26"
             ],
             [
              1,
              "#f0f921"
             ]
            ],
            "type": "contour"
           }
          ],
          "contourcarpet": [
           {
            "colorbar": {
             "outlinewidth": 0,
             "ticks": ""
            },
            "type": "contourcarpet"
           }
          ],
          "heatmap": [
           {
            "colorbar": {
             "outlinewidth": 0,
             "ticks": ""
            },
            "colorscale": [
             [
              0,
              "#0d0887"
             ],
             [
              0.1111111111111111,
              "#46039f"
             ],
             [
              0.2222222222222222,
              "#7201a8"
             ],
             [
              0.3333333333333333,
              "#9c179e"
             ],
             [
              0.4444444444444444,
              "#bd3786"
             ],
             [
              0.5555555555555556,
              "#d8576b"
             ],
             [
              0.6666666666666666,
              "#ed7953"
             ],
             [
              0.7777777777777778,
              "#fb9f3a"
             ],
             [
              0.8888888888888888,
              "#fdca26"
             ],
             [
              1,
              "#f0f921"
             ]
            ],
            "type": "heatmap"
           }
          ],
          "histogram": [
           {
            "marker": {
             "pattern": {
              "fillmode": "overlay",
              "size": 10,
              "solidity": 0.2
             }
            },
            "type": "histogram"
           }
          ],
          "histogram2d": [
           {
            "colorbar": {
             "outlinewidth": 0,
             "ticks": ""
            },
            "colorscale": [
             [
              0,
              "#0d0887"
             ],
             [
              0.1111111111111111,
              "#46039f"
             ],
             [
              0.2222222222222222,
              "#7201a8"
             ],
             [
              0.3333333333333333,
              "#9c179e"
             ],
             [
              0.4444444444444444,
              "#bd3786"
             ],
             [
              0.5555555555555556,
              "#d8576b"
             ],
             [
              0.6666666666666666,
              "#ed7953"
             ],
             [
              0.7777777777777778,
              "#fb9f3a"
             ],
             [
              0.8888888888888888,
              "#fdca26"
             ],
             [
              1,
              "#f0f921"
             ]
            ],
            "type": "histogram2d"
           }
          ],
          "histogram2dcontour": [
           {
            "colorbar": {
             "outlinewidth": 0,
             "ticks": ""
            },
            "colorscale": [
             [
              0,
              "#0d0887"
             ],
             [
              0.1111111111111111,
              "#46039f"
             ],
             [
              0.2222222222222222,
              "#7201a8"
             ],
             [
              0.3333333333333333,
              "#9c179e"
             ],
             [
              0.4444444444444444,
              "#bd3786"
             ],
             [
              0.5555555555555556,
              "#d8576b"
             ],
             [
              0.6666666666666666,
              "#ed7953"
             ],
             [
              0.7777777777777778,
              "#fb9f3a"
             ],
             [
              0.8888888888888888,
              "#fdca26"
             ],
             [
              1,
              "#f0f921"
             ]
            ],
            "type": "histogram2dcontour"
           }
          ],
          "mesh3d": [
           {
            "colorbar": {
             "outlinewidth": 0,
             "ticks": ""
            },
            "type": "mesh3d"
           }
          ],
          "parcoords": [
           {
            "line": {
             "colorbar": {
              "outlinewidth": 0,
              "ticks": ""
             }
            },
            "type": "parcoords"
           }
          ],
          "pie": [
           {
            "automargin": true,
            "type": "pie"
           }
          ],
          "scatter": [
           {
            "fillpattern": {
             "fillmode": "overlay",
             "size": 10,
             "solidity": 0.2
            },
            "type": "scatter"
           }
          ],
          "scatter3d": [
           {
            "line": {
             "colorbar": {
              "outlinewidth": 0,
              "ticks": ""
             }
            },
            "marker": {
             "colorbar": {
              "outlinewidth": 0,
              "ticks": ""
             }
            },
            "type": "scatter3d"
           }
          ],
          "scattercarpet": [
           {
            "marker": {
             "colorbar": {
              "outlinewidth": 0,
              "ticks": ""
             }
            },
            "type": "scattercarpet"
           }
          ],
          "scattergeo": [
           {
            "marker": {
             "colorbar": {
              "outlinewidth": 0,
              "ticks": ""
             }
            },
            "type": "scattergeo"
           }
          ],
          "scattergl": [
           {
            "marker": {
             "colorbar": {
              "outlinewidth": 0,
              "ticks": ""
             }
            },
            "type": "scattergl"
           }
          ],
          "scattermap": [
           {
            "marker": {
             "colorbar": {
              "outlinewidth": 0,
              "ticks": ""
             }
            },
            "type": "scattermap"
           }
          ],
          "scattermapbox": [
           {
            "marker": {
             "colorbar": {
              "outlinewidth": 0,
              "ticks": ""
             }
            },
            "type": "scattermapbox"
           }
          ],
          "scatterpolar": [
           {
            "marker": {
             "colorbar": {
              "outlinewidth": 0,
              "ticks": ""
             }
            },
            "type": "scatterpolar"
           }
          ],
          "scatterpolargl": [
           {
            "marker": {
             "colorbar": {
              "outlinewidth": 0,
              "ticks": ""
             }
            },
            "type": "scatterpolargl"
           }
          ],
          "scatterternary": [
           {
            "marker": {
             "colorbar": {
              "outlinewidth": 0,
              "ticks": ""
             }
            },
            "type": "scatterternary"
           }
          ],
          "surface": [
           {
            "colorbar": {
             "outlinewidth": 0,
             "ticks": ""
            },
            "colorscale": [
             [
              0,
              "#0d0887"
             ],
             [
              0.1111111111111111,
              "#46039f"
             ],
             [
              0.2222222222222222,
              "#7201a8"
             ],
             [
              0.3333333333333333,
              "#9c179e"
             ],
             [
              0.4444444444444444,
              "#bd3786"
             ],
             [
              0.5555555555555556,
              "#d8576b"
             ],
             [
              0.6666666666666666,
              "#ed7953"
             ],
             [
              0.7777777777777778,
              "#fb9f3a"
             ],
             [
              0.8888888888888888,
              "#fdca26"
             ],
             [
              1,
              "#f0f921"
             ]
            ],
            "type": "surface"
           }
          ],
          "table": [
           {
            "cells": {
             "fill": {
              "color": "#EBF0F8"
             },
             "line": {
              "color": "white"
             }
            },
            "header": {
             "fill": {
              "color": "#C8D4E3"
             },
             "line": {
              "color": "white"
             }
            },
            "type": "table"
           }
          ]
         },
         "layout": {
          "annotationdefaults": {
           "arrowcolor": "#2a3f5f",
           "arrowhead": 0,
           "arrowwidth": 1
          },
          "autotypenumbers": "strict",
          "coloraxis": {
           "colorbar": {
            "outlinewidth": 0,
            "ticks": ""
           }
          },
          "colorscale": {
           "diverging": [
            [
             0,
             "#8e0152"
            ],
            [
             0.1,
             "#c51b7d"
            ],
            [
             0.2,
             "#de77ae"
            ],
            [
             0.3,
             "#f1b6da"
            ],
            [
             0.4,
             "#fde0ef"
            ],
            [
             0.5,
             "#f7f7f7"
            ],
            [
             0.6,
             "#e6f5d0"
            ],
            [
             0.7,
             "#b8e186"
            ],
            [
             0.8,
             "#7fbc41"
            ],
            [
             0.9,
             "#4d9221"
            ],
            [
             1,
             "#276419"
            ]
           ],
           "sequential": [
            [
             0,
             "#0d0887"
            ],
            [
             0.1111111111111111,
             "#46039f"
            ],
            [
             0.2222222222222222,
             "#7201a8"
            ],
            [
             0.3333333333333333,
             "#9c179e"
            ],
            [
             0.4444444444444444,
             "#bd3786"
            ],
            [
             0.5555555555555556,
             "#d8576b"
            ],
            [
             0.6666666666666666,
             "#ed7953"
            ],
            [
             0.7777777777777778,
             "#fb9f3a"
            ],
            [
             0.8888888888888888,
             "#fdca26"
            ],
            [
             1,
             "#f0f921"
            ]
           ],
           "sequentialminus": [
            [
             0,
             "#0d0887"
            ],
            [
             0.1111111111111111,
             "#46039f"
            ],
            [
             0.2222222222222222,
             "#7201a8"
            ],
            [
             0.3333333333333333,
             "#9c179e"
            ],
            [
             0.4444444444444444,
             "#bd3786"
            ],
            [
             0.5555555555555556,
             "#d8576b"
            ],
            [
             0.6666666666666666,
             "#ed7953"
            ],
            [
             0.7777777777777778,
             "#fb9f3a"
            ],
            [
             0.8888888888888888,
             "#fdca26"
            ],
            [
             1,
             "#f0f921"
            ]
           ]
          },
          "colorway": [
           "#636efa",
           "#EF553B",
           "#00cc96",
           "#ab63fa",
           "#FFA15A",
           "#19d3f3",
           "#FF6692",
           "#B6E880",
           "#FF97FF",
           "#FECB52"
          ],
          "font": {
           "color": "#2a3f5f"
          },
          "geo": {
           "bgcolor": "white",
           "lakecolor": "white",
           "landcolor": "white",
           "showlakes": true,
           "showland": true,
           "subunitcolor": "#C8D4E3"
          },
          "hoverlabel": {
           "align": "left"
          },
          "hovermode": "closest",
          "mapbox": {
           "style": "light"
          },
          "paper_bgcolor": "white",
          "plot_bgcolor": "white",
          "polar": {
           "angularaxis": {
            "gridcolor": "#EBF0F8",
            "linecolor": "#EBF0F8",
            "ticks": ""
           },
           "bgcolor": "white",
           "radialaxis": {
            "gridcolor": "#EBF0F8",
            "linecolor": "#EBF0F8",
            "ticks": ""
           }
          },
          "scene": {
           "xaxis": {
            "backgroundcolor": "white",
            "gridcolor": "#DFE8F3",
            "gridwidth": 2,
            "linecolor": "#EBF0F8",
            "showbackground": true,
            "ticks": "",
            "zerolinecolor": "#EBF0F8"
           },
           "yaxis": {
            "backgroundcolor": "white",
            "gridcolor": "#DFE8F3",
            "gridwidth": 2,
            "linecolor": "#EBF0F8",
            "showbackground": true,
            "ticks": "",
            "zerolinecolor": "#EBF0F8"
           },
           "zaxis": {
            "backgroundcolor": "white",
            "gridcolor": "#DFE8F3",
            "gridwidth": 2,
            "linecolor": "#EBF0F8",
            "showbackground": true,
            "ticks": "",
            "zerolinecolor": "#EBF0F8"
           }
          },
          "shapedefaults": {
           "line": {
            "color": "#2a3f5f"
           }
          },
          "ternary": {
           "aaxis": {
            "gridcolor": "#DFE8F3",
            "linecolor": "#A2B1C6",
            "ticks": ""
           },
           "baxis": {
            "gridcolor": "#DFE8F3",
            "linecolor": "#A2B1C6",
            "ticks": ""
           },
           "bgcolor": "white",
           "caxis": {
            "gridcolor": "#DFE8F3",
            "linecolor": "#A2B1C6",
            "ticks": ""
           }
          },
          "title": {
           "x": 0.05
          },
          "xaxis": {
           "automargin": true,
           "gridcolor": "#EBF0F8",
           "linecolor": "#EBF0F8",
           "ticks": "",
           "title": {
            "standoff": 15
           },
           "zerolinecolor": "#EBF0F8",
           "zerolinewidth": 2
          },
          "yaxis": {
           "automargin": true,
           "gridcolor": "#EBF0F8",
           "linecolor": "#EBF0F8",
           "ticks": "",
           "title": {
            "standoff": 15
           },
           "zerolinecolor": "#EBF0F8",
           "zerolinewidth": 2
          }
         }
        },
        "title": {
         "text": "Beta Posterior and Laplace Approximation"
        },
        "width": 900,
        "xaxis": {
         "title": {
          "text": "$\\pi$"
         }
        },
        "yaxis": {
         "title": {
          "text": "Density"
         }
        }
       }
      }
     },
     "metadata": {},
     "output_type": "display_data"
    },
    {
     "data": {
      "application/vnd.plotly.v1+json": {
       "config": {
        "plotlyServerURL": "https://plot.ly"
       },
       "data": [
        {
         "line": {
          "color": "crimson",
          "width": 2
         },
         "mode": "lines",
         "name": "log Beta posterior",
         "type": "scatter",
         "x": {
          "bdata": "AAAAABcvWzsXL9s7UWMkPBcvWzxu/Yg8UWOkPDTJvzwXL9s8+pT2PG79CD1gsBY9UWMkPUMWMj00yT89JnxNPRcvWz0I4mg9+pR2PfYjgj1u/Yg959aPPWCwlj3ZiZ09UWOkPco8qz1DFrI9u++4PTTJvz2tosY9JnzNPZ5V1D0XL9s9kAjiPQji6D2Bu+89+pT2PXNu/T32IwI+spAFPm79CD4ragw+59YPPqNDEz5gsBY+HB0aPtmJHT6V9iA+UWMkPg7QJz7KPCs+hqkuPkMWMj7/gjU+u+84PnhcPD40yT8+8DVDPq2iRj5pD0o+JnxNPuLoUD6eVVQ+W8JXPhcvWz7Tm14+kAhiPkx1ZT4I4mg+xU5sPoG7bz4+KHM++pR2PrYBej5zbn0+l22APvYjgj5U2oM+spCFPhBHhz5u/Yg+zbOKPitqjD6JII4+59aPPkWNkT6jQ5M+AvqUPmCwlj6+Zpg+HB2aPnrTmz7ZiZ0+N0CfPpX2oD7zrKI+UWOkPq8Zpj4O0Kc+bIapPso8qz4o86w+hqmuPuVfsD5DFrI+ocyzPv+CtT5dObc+u++4Phqmuj54XLw+1hK+PjTJvz6Sf8E+8DXDPk/sxD6tosY+C1nIPmkPyj7Hxcs+JnzNPoQyzz7i6NA+QJ/SPp5V1D78C9Y+W8LXPrl42T4XL9s+deXcPtOb3j4yUuA+kAjiPu6+4z5MdeU+qivnPgji6D5nmOo+xU7sPiMF7j6Bu+8+33HxPj4o8z6c3vQ++pT2PlhL+D62Afo+FLj7PnNu/T7RJP8+l20AP8dIAT/2IwI/Jf8CP1TaAz+DtQQ/spAFP+FrBj8QRwc/PyIIP279CD+d2Ak/zbMKP/yOCz8ragw/WkUNP4kgDj+4+w4/59YPPxayED9FjRE/dGgSP6NDEz/THhQ/AvoUPzHVFT9gsBY/j4sXP75mGD/tQRk/HB0aP0v4Gj960xs/qa4cP9mJHT8IZR4/N0AfP2YbID+V9iA/xNEhP/OsIj8iiCM/UWMkP4A+JT+vGSY/3/QmPw7QJz89qyg/bIYpP5thKj/KPCs/+RcsPyjzLD9Xzi0/hqkuP7WELz/lXzA/FDsxP0MWMj9y8TI/ocwzP9CnND//gjU/Ll42P105Nz+MFDg/u+84P+rKOT8apjo/SYE7P3hcPD+nNz0/1hI+PwXuPj80yT8/Y6RAP5J/QT/BWkI/8DVDPyARRD9P7EQ/fsdFP62iRj/cfUc/C1lIPzo0ST9pD0o/mOpKP8fFSz/2oEw/JnxNP1VXTj+EMk8/sw1QP+LoUD8RxFE/QJ9SP296Uz+eVVQ/zTBVP/wLVj8s51Y/W8JXP4qdWD+5eFk/6FNaPxcvWz9GClw/deVcP6TAXT/Tm14/AndfPzJSYD9hLWE/kAhiP7/jYj/uvmM/HZpkP0x1ZT97UGY/qitnP9kGaD8I4mg/OL1pP2eYaj+Wc2s/xU5sP/QpbT8jBW4/UuBuP4G7bz+wlnA/33FxPw5Ncj8+KHM/bQN0P5zedD/LuXU/+pR2Pylwdz9YS3g/hyZ5P7YBej/l3Ho/FLh7P0STfD9zbn0/okl+P9Ekfz8AAIA/",
          "dtype": "f4"
         },
         "y": {
          "bdata": "AACA/xA4UME0Di/BerMbwSkADsH+ZQPBEoP1wKzu5sA0VdrA+j7PwDxaxcCubLzARku0wFTVrMBy8aXAdIufwCaTmcA8+5PAtriOwF7CicBoEIXALJyAwN6/eMB6rXDAivhowG6ZYcB0iVrAssJTwNg/TcAs/EbAbvNAwMghO8DEgzXAPhYwwFTWKsBswSXAHtUgwD4PHMC+bRfAyu4SwKaQDsC2UQrAhjAGwLYrAsDwg/y/SOT0vzB27b+cN+a/jCbfvzRB2L/ghdG/7PLKv9iGxL8wQL6/oB24v+Adsr/AP6y/DIKmv8DjoL/IY5u/NAGWvxi7kL+UkIu/yICGv/CKgb+QXHm/MNRvv2h7Zr/QUF2/MFNUv2iBS78w2kK/iFw6v1gHMr+g2Sm/YNIhv7jwGb/AMxK/kJoKv2gkA7/goPe+4DvpvmAY277gNM2+IJC/vsAosr6A/aS+QA2YvrBWi77gsX2+QCVlvgAGTb6gUTW+gAYevsAiB77ASOG9gBO1vYCiib0A5D29AADUvACAvLsAwGU8AAYJPQA4Vz1ABZI9gMG3PUDT3D1gngA+YIASPoAQJD7gTzU+gD9GPpDgVj7gM2c+gDp3Pqh6gz6QMos+cMWSPqAzmj6YfaE+wKOoPmCmrz7QhbY+iEK9PsDcwz7gVMo+MKvQPvjf1j5489w+EObiPuC36D5Qae4+iPrzPrhr+T5Avf4+nPcBP/CABD+w+gY//GQJP+C/Cz+ACw4/4EcQPyh1Ej9UkxQ/iKIWP8iiGD8glBo/sHYcP3hKHj+EDyA/4MUhP5xtIz+8BiU/SJEmP0gNKD+8eik/uNkqPzAqLD8wbC0/uJ8uP8jELz9g2zA/iOMxPzDdMj9gyDM/CKU0PzBzNT/IMjY/1OM2P0CGNz8IGjg/KJ84P4gVOT8ofTk/7NU5P9gfOj/MWjo/wIY6P5ijOj9QsTo/yK86P/CeOj+ofjo/4E46P3gPOj9gwDk/bGE5P4jyOD+Uczg/bOQ3P+hENz/slDY/UNQ1P/ACNT+YIDQ/KC0zP2woMj80EjE/VOovP5iwLj/IZC0/sAYsPxCWKj+0Eik/WHwnP7zSJT+cFSQ/tEQiP7hfID9cZh4/UFgcP0Q1Gj/g/Bc/yK4VP6hKEz8Q0BA/rD4OPwiWCz+w1Qg/QP0FPzwMAz8oAgA/AL35PoBB8z64kOw+gKnlPqCK3j7QMtc+2KDPPkDTxz64yL8+qH+3PoD2rj6wK6Y+cB2dPvDJkz5QL4o+kEuAPkA5bD6QQFc+YKhBPgBsKz4ghhQ+4OL5PaBQyT0ASZc9gH9HPQCdujwA8IC7gOQAvYAkdb2AgLa9gE70vSAIGr4A7Tq+QOFcvmDwf76AE5K+gMmkvmAhuL7wIsy+0NbgviBG9r5QPQa/kL8Rv7CvHb8YFCq/oPM2v/hVRL+YQ1K/mMVgvzjmb7/YsH+/EBmIv/y7kL8wyZm/jEmjvzRHrb+szbe/OOrCvwyszr/wJNu/pGnov8CS9r/U3gLA0gYLwAbXE8BOah3AhuInwEZrM8DwPUDAPqhOwCwXX8BUKnLAlGyEwCphksBid6TAohe+wIwh6sAAAID/",
          "dtype": "f4"
         }
        },
        {
         "line": {
          "color": "royalblue",
          "dash": "dash",
          "width": 2
         },
         "mode": "lines",
         "name": "log Laplace approx.",
         "type": "scatter",
         "x": {
          "bdata": "AAAAABcvWzsXL9s7UWMkPBcvWzxu/Yg8UWOkPDTJvzwXL9s8+pT2PG79CD1gsBY9UWMkPUMWMj00yT89JnxNPRcvWz0I4mg9+pR2PfYjgj1u/Yg959aPPWCwlj3ZiZ09UWOkPco8qz1DFrI9u++4PTTJvz2tosY9JnzNPZ5V1D0XL9s9kAjiPQji6D2Bu+89+pT2PXNu/T32IwI+spAFPm79CD4ragw+59YPPqNDEz5gsBY+HB0aPtmJHT6V9iA+UWMkPg7QJz7KPCs+hqkuPkMWMj7/gjU+u+84PnhcPD40yT8+8DVDPq2iRj5pD0o+JnxNPuLoUD6eVVQ+W8JXPhcvWz7Tm14+kAhiPkx1ZT4I4mg+xU5sPoG7bz4+KHM++pR2PrYBej5zbn0+l22APvYjgj5U2oM+spCFPhBHhz5u/Yg+zbOKPitqjD6JII4+59aPPkWNkT6jQ5M+AvqUPmCwlj6+Zpg+HB2aPnrTmz7ZiZ0+N0CfPpX2oD7zrKI+UWOkPq8Zpj4O0Kc+bIapPso8qz4o86w+hqmuPuVfsD5DFrI+ocyzPv+CtT5dObc+u++4Phqmuj54XLw+1hK+PjTJvz6Sf8E+8DXDPk/sxD6tosY+C1nIPmkPyj7Hxcs+JnzNPoQyzz7i6NA+QJ/SPp5V1D78C9Y+W8LXPrl42T4XL9s+deXcPtOb3j4yUuA+kAjiPu6+4z5MdeU+qivnPgji6D5nmOo+xU7sPiMF7j6Bu+8+33HxPj4o8z6c3vQ++pT2PlhL+D62Afo+FLj7PnNu/T7RJP8+l20AP8dIAT/2IwI/Jf8CP1TaAz+DtQQ/spAFP+FrBj8QRwc/PyIIP279CD+d2Ak/zbMKP/yOCz8ragw/WkUNP4kgDj+4+w4/59YPPxayED9FjRE/dGgSP6NDEz/THhQ/AvoUPzHVFT9gsBY/j4sXP75mGD/tQRk/HB0aP0v4Gj960xs/qa4cP9mJHT8IZR4/N0AfP2YbID+V9iA/xNEhP/OsIj8iiCM/UWMkP4A+JT+vGSY/3/QmPw7QJz89qyg/bIYpP5thKj/KPCs/+RcsPyjzLD9Xzi0/hqkuP7WELz/lXzA/FDsxP0MWMj9y8TI/ocwzP9CnND//gjU/Ll42P105Nz+MFDg/u+84P+rKOT8apjo/SYE7P3hcPD+nNz0/1hI+PwXuPj80yT8/Y6RAP5J/QT/BWkI/8DVDPyARRD9P7EQ/fsdFP62iRj/cfUc/C1lIPzo0ST9pD0o/mOpKP8fFSz/2oEw/JnxNP1VXTj+EMk8/sw1QP+LoUD8RxFE/QJ9SP296Uz+eVVQ/zTBVP/wLVj8s51Y/W8JXP4qdWD+5eFk/6FNaPxcvWz9GClw/deVcP6TAXT/Tm14/AndfPzJSYD9hLWE/kAhiP7/jYj/uvmM/HZpkP0x1ZT97UGY/qitnP9kGaD8I4mg/OL1pP2eYaj+Wc2s/xU5sP/QpbT8jBW4/UuBuP4G7bz+wlnA/33FxPw5Ncj8+KHM/bQN0P5zedD/LuXU/+pR2Pylwdz9YS3g/hyZ5P7YBej/l3Ho/FLh7P0STfD9zbn0/okl+P9Ekfz8AAIA/",
          "dtype": "f4"
         },
         "y": {
          "bdata": "c6RJwGn5RsAxUkTAya5BwDMPP8BvczzAeNs5wFdHN8AHtzTAiCoywNuhL8D+HC3A85sqwLoeKMBSpSXAuy8jwPe9IMACUB7A3uUbwIx/GcANHRfAYL4UwIJjEsB3DBDAPbkNwNVpC8A+HgnAedYGwISSBMBeUgLADRYAwBq7+7+8Ufe/AvDyv+qV7r92Q+q/pPjlv3K14b/med2//EXZv7YZ1b8Q9dC/ENjMv7LCyL/2tMS/3q7Av2iwvL+Uubi/ZMq0v9TisL/qAq2/pCqpv/xZpb/6kKG/ms+dv94Vmr/EY5a/TrmSv3oWj79Ie4u/uOeHv8xbhL+E14C/uLV6v7DLc7/x8Gy/dCVmv0BpX79TvFi/qh5Sv0OQS78fEUW/R6E+v7NAOL9h7zG/X60rv5d6Jb8aVx+/5EIZv/E9E79GSA2/22EHv7qKAb/Ahfe+lhTsvvPB4L7gjdW+UHjKvlCBv77fqLS++O6pvpxTn77E1pS+fniKvsI4gL4qL2y+3SlYvq1hRL6F1jC+fogdvpR3Cr52R++99xnKvZBmpb1nLYG95tw6vYam6LwR+Dq8CRevO0EfszzWRxw9pQtePYttjz0oW689hc7OPdTH7T1xIwY+3SUVPjXrIz58czI+sb5APsbMTj6/nVw+qDFqPnqIdz4aUYI+cb+IPjgPjz50QJU+JVObPkpHoT7oHKc+99OsPndssj5w5rc+3kG9PsB+wj4Zncc+45zMPiR+0T7YQNY+AeXaPqFq3z610eM+OxroPjlE7D6qT/A+jjz0Pu4K+D66uvs+/kv/Pl1fAT90CQM/RKQEP9AvBj8WrAc/FRkJP9B2Cj9GxQs/dAQNP140Dj8EVQ8/YmYQP3xoET9OWxI/3D4TPyMTFD8m2BQ/4o0VP1k0Fj+LyxY/eFMXPx3MFz9+NRg/mI8YP27aGD/9FRk/SEIZP0xfGT8KbRk/g2sZP7daGT+lOhk/TQsZP6/MGD/Mfhg/oyEYPzW1Fz+BORc/h64WP0gUFj/DahU/+LEUP+npEz+TEhM/9isSPxY2ET/uMBA/ghwPP9D4DT/ZxQw/nIMLPxkyCj9Q0Qg/Q2EHP+/hBT9UUwQ/dbUCP08IAT/Kl/4+agD7PoJK9z4MdvM+C4PvPn5x6z5mQec+xPLiPpOF3j7U+dk+j0/VPr6G0D5jn8s+fJnGPgl1wT4QMrw+g9C2PnJQsT7Ssas+pvSlPuwYoD6rHpo+3QWUPojOjT6ieIc+NwSBPnridD5xf2c+VN9ZPh0CTD7N5z0+XZAvPuH7ID5TKhI+rhsDPuCf5z07jsg9WwKpPWb8iD15+FA9tgMPPUI1mDwMzgM7g1NyvP1aAr15FUm9JmKIvbizrL1+f9G9csX2vcdCDr7uXyG+KLo0vpFRSL76JVy+eTdwvgpDgr7eiIy+Qe2Wvi5wob6kEay+qtG2vjewwb5Rrcy+A8nXvjID477vW+6+NtP5voS0Ar+0jgi/KHgOv+JwFL/heBq/JJAgv6+2Jr+H7Cy/nzEzv/mFOb+c6T+/gVxGv7DeTL8gcFO/2RBav9XAYL8YgGe/oU5uv3ksdb+NGXy/8oqBv8IQhb82noi/",
          "dtype": "f4"
         }
        },
        {
         "marker": {
          "color": "red",
          "size": 10,
          "symbol": "star"
         },
         "mode": "markers",
         "name": "Posterior mode",
         "type": "scatter",
         "x": [
          0.6
         ],
         "y": [
          0.7292869091033936
         ]
        }
       ],
       "layout": {
        "height": 400,
        "legend": {
         "itemsizing": "constant"
        },
        "template": {
         "data": {
          "bar": [
           {
            "error_x": {
             "color": "#2a3f5f"
            },
            "error_y": {
             "color": "#2a3f5f"
            },
            "marker": {
             "line": {
              "color": "white",
              "width": 0.5
             },
             "pattern": {
              "fillmode": "overlay",
              "size": 10,
              "solidity": 0.2
             }
            },
            "type": "bar"
           }
          ],
          "barpolar": [
           {
            "marker": {
             "line": {
              "color": "white",
              "width": 0.5
             },
             "pattern": {
              "fillmode": "overlay",
              "size": 10,
              "solidity": 0.2
             }
            },
            "type": "barpolar"
           }
          ],
          "carpet": [
           {
            "aaxis": {
             "endlinecolor": "#2a3f5f",
             "gridcolor": "#C8D4E3",
             "linecolor": "#C8D4E3",
             "minorgridcolor": "#C8D4E3",
             "startlinecolor": "#2a3f5f"
            },
            "baxis": {
             "endlinecolor": "#2a3f5f",
             "gridcolor": "#C8D4E3",
             "linecolor": "#C8D4E3",
             "minorgridcolor": "#C8D4E3",
             "startlinecolor": "#2a3f5f"
            },
            "type": "carpet"
           }
          ],
          "choropleth": [
           {
            "colorbar": {
             "outlinewidth": 0,
             "ticks": ""
            },
            "type": "choropleth"
           }
          ],
          "contour": [
           {
            "colorbar": {
             "outlinewidth": 0,
             "ticks": ""
            },
            "colorscale": [
             [
              0,
              "#0d0887"
             ],
             [
              0.1111111111111111,
              "#46039f"
             ],
             [
              0.2222222222222222,
              "#7201a8"
             ],
             [
              0.3333333333333333,
              "#9c179e"
             ],
             [
              0.4444444444444444,
              "#bd3786"
             ],
             [
              0.5555555555555556,
              "#d8576b"
             ],
             [
              0.6666666666666666,
              "#ed7953"
             ],
             [
              0.7777777777777778,
              "#fb9f3a"
             ],
             [
              0.8888888888888888,
              "#fdca26"
             ],
             [
              1,
              "#f0f921"
             ]
            ],
            "type": "contour"
           }
          ],
          "contourcarpet": [
           {
            "colorbar": {
             "outlinewidth": 0,
             "ticks": ""
            },
            "type": "contourcarpet"
           }
          ],
          "heatmap": [
           {
            "colorbar": {
             "outlinewidth": 0,
             "ticks": ""
            },
            "colorscale": [
             [
              0,
              "#0d0887"
             ],
             [
              0.1111111111111111,
              "#46039f"
             ],
             [
              0.2222222222222222,
              "#7201a8"
             ],
             [
              0.3333333333333333,
              "#9c179e"
             ],
             [
              0.4444444444444444,
              "#bd3786"
             ],
             [
              0.5555555555555556,
              "#d8576b"
             ],
             [
              0.6666666666666666,
              "#ed7953"
             ],
             [
              0.7777777777777778,
              "#fb9f3a"
             ],
             [
              0.8888888888888888,
              "#fdca26"
             ],
             [
              1,
              "#f0f921"
             ]
            ],
            "type": "heatmap"
           }
          ],
          "histogram": [
           {
            "marker": {
             "pattern": {
              "fillmode": "overlay",
              "size": 10,
              "solidity": 0.2
             }
            },
            "type": "histogram"
           }
          ],
          "histogram2d": [
           {
            "colorbar": {
             "outlinewidth": 0,
             "ticks": ""
            },
            "colorscale": [
             [
              0,
              "#0d0887"
             ],
             [
              0.1111111111111111,
              "#46039f"
             ],
             [
              0.2222222222222222,
              "#7201a8"
             ],
             [
              0.3333333333333333,
              "#9c179e"
             ],
             [
              0.4444444444444444,
              "#bd3786"
             ],
             [
              0.5555555555555556,
              "#d8576b"
             ],
             [
              0.6666666666666666,
              "#ed7953"
             ],
             [
              0.7777777777777778,
              "#fb9f3a"
             ],
             [
              0.8888888888888888,
              "#fdca26"
             ],
             [
              1,
              "#f0f921"
             ]
            ],
            "type": "histogram2d"
           }
          ],
          "histogram2dcontour": [
           {
            "colorbar": {
             "outlinewidth": 0,
             "ticks": ""
            },
            "colorscale": [
             [
              0,
              "#0d0887"
             ],
             [
              0.1111111111111111,
              "#46039f"
             ],
             [
              0.2222222222222222,
              "#7201a8"
             ],
             [
              0.3333333333333333,
              "#9c179e"
             ],
             [
              0.4444444444444444,
              "#bd3786"
             ],
             [
              0.5555555555555556,
              "#d8576b"
             ],
             [
              0.6666666666666666,
              "#ed7953"
             ],
             [
              0.7777777777777778,
              "#fb9f3a"
             ],
             [
              0.8888888888888888,
              "#fdca26"
             ],
             [
              1,
              "#f0f921"
             ]
            ],
            "type": "histogram2dcontour"
           }
          ],
          "mesh3d": [
           {
            "colorbar": {
             "outlinewidth": 0,
             "ticks": ""
            },
            "type": "mesh3d"
           }
          ],
          "parcoords": [
           {
            "line": {
             "colorbar": {
              "outlinewidth": 0,
              "ticks": ""
             }
            },
            "type": "parcoords"
           }
          ],
          "pie": [
           {
            "automargin": true,
            "type": "pie"
           }
          ],
          "scatter": [
           {
            "fillpattern": {
             "fillmode": "overlay",
             "size": 10,
             "solidity": 0.2
            },
            "type": "scatter"
           }
          ],
          "scatter3d": [
           {
            "line": {
             "colorbar": {
              "outlinewidth": 0,
              "ticks": ""
             }
            },
            "marker": {
             "colorbar": {
              "outlinewidth": 0,
              "ticks": ""
             }
            },
            "type": "scatter3d"
           }
          ],
          "scattercarpet": [
           {
            "marker": {
             "colorbar": {
              "outlinewidth": 0,
              "ticks": ""
             }
            },
            "type": "scattercarpet"
           }
          ],
          "scattergeo": [
           {
            "marker": {
             "colorbar": {
              "outlinewidth": 0,
              "ticks": ""
             }
            },
            "type": "scattergeo"
           }
          ],
          "scattergl": [
           {
            "marker": {
             "colorbar": {
              "outlinewidth": 0,
              "ticks": ""
             }
            },
            "type": "scattergl"
           }
          ],
          "scattermap": [
           {
            "marker": {
             "colorbar": {
              "outlinewidth": 0,
              "ticks": ""
             }
            },
            "type": "scattermap"
           }
          ],
          "scattermapbox": [
           {
            "marker": {
             "colorbar": {
              "outlinewidth": 0,
              "ticks": ""
             }
            },
            "type": "scattermapbox"
           }
          ],
          "scatterpolar": [
           {
            "marker": {
             "colorbar": {
              "outlinewidth": 0,
              "ticks": ""
             }
            },
            "type": "scatterpolar"
           }
          ],
          "scatterpolargl": [
           {
            "marker": {
             "colorbar": {
              "outlinewidth": 0,
              "ticks": ""
             }
            },
            "type": "scatterpolargl"
           }
          ],
          "scatterternary": [
           {
            "marker": {
             "colorbar": {
              "outlinewidth": 0,
              "ticks": ""
             }
            },
            "type": "scatterternary"
           }
          ],
          "surface": [
           {
            "colorbar": {
             "outlinewidth": 0,
             "ticks": ""
            },
            "colorscale": [
             [
              0,
              "#0d0887"
             ],
             [
              0.1111111111111111,
              "#46039f"
             ],
             [
              0.2222222222222222,
              "#7201a8"
             ],
             [
              0.3333333333333333,
              "#9c179e"
             ],
             [
              0.4444444444444444,
              "#bd3786"
             ],
             [
              0.5555555555555556,
              "#d8576b"
             ],
             [
              0.6666666666666666,
              "#ed7953"
             ],
             [
              0.7777777777777778,
              "#fb9f3a"
             ],
             [
              0.8888888888888888,
              "#fdca26"
             ],
             [
              1,
              "#f0f921"
             ]
            ],
            "type": "surface"
           }
          ],
          "table": [
           {
            "cells": {
             "fill": {
              "color": "#EBF0F8"
             },
             "line": {
              "color": "white"
             }
            },
            "header": {
             "fill": {
              "color": "#C8D4E3"
             },
             "line": {
              "color": "white"
             }
            },
            "type": "table"
           }
          ]
         },
         "layout": {
          "annotationdefaults": {
           "arrowcolor": "#2a3f5f",
           "arrowhead": 0,
           "arrowwidth": 1
          },
          "autotypenumbers": "strict",
          "coloraxis": {
           "colorbar": {
            "outlinewidth": 0,
            "ticks": ""
           }
          },
          "colorscale": {
           "diverging": [
            [
             0,
             "#8e0152"
            ],
            [
             0.1,
             "#c51b7d"
            ],
            [
             0.2,
             "#de77ae"
            ],
            [
             0.3,
             "#f1b6da"
            ],
            [
             0.4,
             "#fde0ef"
            ],
            [
             0.5,
             "#f7f7f7"
            ],
            [
             0.6,
             "#e6f5d0"
            ],
            [
             0.7,
             "#b8e186"
            ],
            [
             0.8,
             "#7fbc41"
            ],
            [
             0.9,
             "#4d9221"
            ],
            [
             1,
             "#276419"
            ]
           ],
           "sequential": [
            [
             0,
             "#0d0887"
            ],
            [
             0.1111111111111111,
             "#46039f"
            ],
            [
             0.2222222222222222,
             "#7201a8"
            ],
            [
             0.3333333333333333,
             "#9c179e"
            ],
            [
             0.4444444444444444,
             "#bd3786"
            ],
            [
             0.5555555555555556,
             "#d8576b"
            ],
            [
             0.6666666666666666,
             "#ed7953"
            ],
            [
             0.7777777777777778,
             "#fb9f3a"
            ],
            [
             0.8888888888888888,
             "#fdca26"
            ],
            [
             1,
             "#f0f921"
            ]
           ],
           "sequentialminus": [
            [
             0,
             "#0d0887"
            ],
            [
             0.1111111111111111,
             "#46039f"
            ],
            [
             0.2222222222222222,
             "#7201a8"
            ],
            [
             0.3333333333333333,
             "#9c179e"
            ],
            [
             0.4444444444444444,
             "#bd3786"
            ],
            [
             0.5555555555555556,
             "#d8576b"
            ],
            [
             0.6666666666666666,
             "#ed7953"
            ],
            [
             0.7777777777777778,
             "#fb9f3a"
            ],
            [
             0.8888888888888888,
             "#fdca26"
            ],
            [
             1,
             "#f0f921"
            ]
           ]
          },
          "colorway": [
           "#636efa",
           "#EF553B",
           "#00cc96",
           "#ab63fa",
           "#FFA15A",
           "#19d3f3",
           "#FF6692",
           "#B6E880",
           "#FF97FF",
           "#FECB52"
          ],
          "font": {
           "color": "#2a3f5f"
          },
          "geo": {
           "bgcolor": "white",
           "lakecolor": "white",
           "landcolor": "white",
           "showlakes": true,
           "showland": true,
           "subunitcolor": "#C8D4E3"
          },
          "hoverlabel": {
           "align": "left"
          },
          "hovermode": "closest",
          "mapbox": {
           "style": "light"
          },
          "paper_bgcolor": "white",
          "plot_bgcolor": "white",
          "polar": {
           "angularaxis": {
            "gridcolor": "#EBF0F8",
            "linecolor": "#EBF0F8",
            "ticks": ""
           },
           "bgcolor": "white",
           "radialaxis": {
            "gridcolor": "#EBF0F8",
            "linecolor": "#EBF0F8",
            "ticks": ""
           }
          },
          "scene": {
           "xaxis": {
            "backgroundcolor": "white",
            "gridcolor": "#DFE8F3",
            "gridwidth": 2,
            "linecolor": "#EBF0F8",
            "showbackground": true,
            "ticks": "",
            "zerolinecolor": "#EBF0F8"
           },
           "yaxis": {
            "backgroundcolor": "white",
            "gridcolor": "#DFE8F3",
            "gridwidth": 2,
            "linecolor": "#EBF0F8",
            "showbackground": true,
            "ticks": "",
            "zerolinecolor": "#EBF0F8"
           },
           "zaxis": {
            "backgroundcolor": "white",
            "gridcolor": "#DFE8F3",
            "gridwidth": 2,
            "linecolor": "#EBF0F8",
            "showbackground": true,
            "ticks": "",
            "zerolinecolor": "#EBF0F8"
           }
          },
          "shapedefaults": {
           "line": {
            "color": "#2a3f5f"
           }
          },
          "ternary": {
           "aaxis": {
            "gridcolor": "#DFE8F3",
            "linecolor": "#A2B1C6",
            "ticks": ""
           },
           "baxis": {
            "gridcolor": "#DFE8F3",
            "linecolor": "#A2B1C6",
            "ticks": ""
           },
           "bgcolor": "white",
           "caxis": {
            "gridcolor": "#DFE8F3",
            "linecolor": "#A2B1C6",
            "ticks": ""
           }
          },
          "title": {
           "x": 0.05
          },
          "xaxis": {
           "automargin": true,
           "gridcolor": "#EBF0F8",
           "linecolor": "#EBF0F8",
           "ticks": "",
           "title": {
            "standoff": 15
           },
           "zerolinecolor": "#EBF0F8",
           "zerolinewidth": 2
          },
          "yaxis": {
           "automargin": true,
           "gridcolor": "#EBF0F8",
           "linecolor": "#EBF0F8",
           "ticks": "",
           "title": {
            "standoff": 15
           },
           "zerolinecolor": "#EBF0F8",
           "zerolinewidth": 2
          }
         }
        },
        "title": {
         "text": "Log Beta Posterior and Laplace Approximation"
        },
        "width": 900,
        "xaxis": {
         "title": {
          "text": "$\\pi$"
         }
        },
        "yaxis": {
         "title": {
          "text": "Log Density"
         }
        }
       }
      }
     },
     "metadata": {},
     "output_type": "display_data"
    }
   ],
   "source": [
    "if mode_p is not None:\n",
    "    # Compute second derivative (Hessian) of log-posterior at the mode\n",
    "    hess_logpmode = jax.hessian(lambda x: beta.logpdf(x, a, b))(mode_p)\n",
    "    laplace_std = jnp.sqrt(1.0 / -hess_logpmode)\n",
    "\n",
    "    # Laplace (Gaussian) approximation\n",
    "    laplace_pdf = norm.pdf(x, loc=mode_p, scale=laplace_std)\n",
    "\n",
    "    # Overlay on density plot\n",
    "    fig_laplace = go.Figure()\n",
    "    fig_laplace.add_trace(\n",
    "        go.Scatter(\n",
    "            x=x,\n",
    "            y=p,\n",
    "            mode=\"lines\",\n",
    "            line=dict(color=\"crimson\", width=2),\n",
    "            name=\"Beta posterior\",\n",
    "            fill=\"tozeroy\",\n",
    "            fillcolor=\"rgba(220,20,60,0.15)\",\n",
    "        )\n",
    "    )\n",
    "    fig_laplace.add_trace(\n",
    "        go.Scatter(\n",
    "            x=x,\n",
    "            y=laplace_pdf,\n",
    "            mode=\"lines\",\n",
    "            line=dict(color=\"royalblue\", width=2, dash=\"dash\"),\n",
    "            name=\"Laplace approx.\",\n",
    "        )\n",
    "    )\n",
    "    fig_laplace.add_trace(\n",
    "        go.Scatter(\n",
    "            x=[mode_p],\n",
    "            y=[beta.pdf(mode_p, a, b)],\n",
    "            mode=\"markers\",\n",
    "            marker=dict(color=\"red\", size=10, symbol=\"star\"),\n",
    "            name=\"Posterior mode\",\n",
    "        )\n",
    "    )\n",
    "    fig_laplace.update_layout(\n",
    "        title=\"Beta Posterior and Laplace Approximation\",\n",
    "        xaxis_title=\"$\\\\pi$\",\n",
    "        yaxis_title=\"Density\",\n",
    "        width=900,\n",
    "        height=400,\n",
    "        legend=dict(itemsizing=\"constant\"),\n",
    "    )\n",
    "    fig_laplace.show()\n",
    "\n",
    "    # Overlay on log-density plot\n",
    "    laplace_logpdf = jnp.log(laplace_pdf)\n",
    "    fig_log_laplace = go.Figure()\n",
    "    fig_log_laplace.add_trace(\n",
    "        go.Scatter(\n",
    "            x=x,\n",
    "            y=logp,\n",
    "            mode=\"lines\",\n",
    "            line=dict(color=\"crimson\", width=2),\n",
    "            name=\"log Beta posterior\",\n",
    "        )\n",
    "    )\n",
    "    fig_log_laplace.add_trace(\n",
    "        go.Scatter(\n",
    "            x=x,\n",
    "            y=laplace_logpdf,\n",
    "            mode=\"lines\",\n",
    "            line=dict(color=\"royalblue\", width=2, dash=\"dash\"),\n",
    "            name=\"log Laplace approx.\",\n",
    "        )\n",
    "    )\n",
    "    fig_log_laplace.add_trace(\n",
    "        go.Scatter(\n",
    "            x=[mode_p],\n",
    "            y=[beta.logpdf(mode_p, a, b)],\n",
    "            mode=\"markers\",\n",
    "            marker=dict(color=\"red\", size=10, symbol=\"star\"),\n",
    "            name=\"Posterior mode\",\n",
    "        )\n",
    "    )\n",
    "    fig_log_laplace.update_layout(\n",
    "        title=\"Log Beta Posterior and Laplace Approximation\",\n",
    "        xaxis_title=\"$\\\\pi$\",\n",
    "        yaxis_title=\"Log Density\",\n",
    "        width=900,\n",
    "        height=400,\n",
    "        legend=dict(itemsizing=\"constant\"),\n",
    "    )\n",
    "    fig_log_laplace.show()\n",
    "else:\n",
    "    print(\"Laplace approximation not shown: mode is undefined for a <= 1 or b <= 1.\")"
   ]
  }
 ],
 "metadata": {
  "kernelspec": {
   "display_name": ".venv",
   "language": "python",
   "name": "python3"
  },
  "language_info": {
   "codemirror_mode": {
    "name": "ipython",
    "version": 3
   },
   "file_extension": ".py",
   "mimetype": "text/x-python",
   "name": "python",
   "nbconvert_exporter": "python",
   "pygments_lexer": "ipython3",
   "version": "3.12.8"
  }
 },
 "nbformat": 4,
 "nbformat_minor": 5
}
