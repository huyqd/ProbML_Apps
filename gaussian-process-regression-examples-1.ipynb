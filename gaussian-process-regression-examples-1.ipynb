{
 "cells": [
  {
   "cell_type": "markdown",
   "id": "22b89b05",
   "metadata": {},
   "source": [
    "# Gaussian Process Regression: An Extensive Example\n",
    "\n",
    "Welcome back to our **Gaussian Processes (GPs)** learning journey! In previous posts, we introduced GPs, explored various kernel functions, and understood how they define the properties of functions a GP can model.\n",
    "\n",
    "In this post, we'll take a deeper dive into applying GPs to more complex, real-world scenarios. We'll focus on:\n",
    "\n",
    "- **Modeling structured data using combinations of kernels (additive kernels).**\n",
    "- **Learning kernel hyperparameters from data.**\n",
    "- **Source separation:** using GPs to disentangle multiple underlying signals from a combined observation.\n",
    "\n",
    "This lecture will provide a more extensive example, building on the theoretical foundations we've established.\n",
    "\n",
    "---\n",
    "\n",
    "### Key Topics\n",
    "\n",
    "1. **Additive Kernels:**  \n",
    "    Combine simple kernels to model complex data structures, e.g.,  \n",
    "    $k_{\\text{sum}}(x, x') = k_1(x, x') + k_2(x, x')$\n",
    "\n",
    "2. **Hyperparameter Learning:**  \n",
    "    Optimize kernel parameters by maximizing the marginal likelihood:  \n",
    "    $$\n",
    "    \\log p(\\mathbf{y} \\mid X, \\theta) = -\\frac{1}{2} \\mathbf{y}^\\top (K_{XX} + \\sigma_{\\text{noise}}^2 I)^{-1} \\mathbf{y}\n",
    "    - \\frac{1}{2} \\log |K_{XX} + \\sigma_{\\text{noise}}^2 I|\n",
    "    - \\frac{N}{2} \\log(2\\pi)\n",
    "    $$\n",
    "\n",
    "3. **Source Separation:**  \n",
    "    Decompose observed data $y$ into interpretable components, e.g.,  \n",
    "    $$\n",
    "    y = f_1(x) + f_2(x) + \\text{noise}\n",
    "    $$\n",
    "\n",
    "---\n",
    "\n",
    "By the end of this example, you'll see how GPs can be used for structured modeling, automatic hyperparameter tuning, and even for separating mixed signals in real-world time series data."
   ]
  },
  {
   "cell_type": "markdown",
   "id": "24f745da",
   "metadata": {},
   "source": [
    "## A Real-World Dataset: Mauna Loa CO₂ Data\n",
    "\n",
    "A classic example in time series analysis is the **NOAA Mauna Loa CO₂ dataset**. This dataset records the atmospheric carbon dioxide concentration (in parts per million, ppm) at the Mauna Loa Observatory in Hawaii, starting from the late 1950s.\n",
    "\n",
    "If you look at the plot (similar to the one in the slides), you'll notice two prominent features:\n",
    "\n",
    "- **A long-term upward trend:**  \n",
    "    This reflects the increasing CO₂ concentration in the atmosphere due to human activities. The trend is roughly linear, but may include some non-linearities.\n",
    "\n",
    "- **Annual seasonality:**  \n",
    "    There's a clear oscillating pattern within each year, caused by seasonal changes in plant growth and decay. CO₂ levels drop during the Northern Hemisphere's growing season and rise during winter.\n",
    "\n",
    "This dataset is a perfect candidate for Gaussian Processes because it exhibits clear structure that can be modeled by combining different kernels. We can think of the observed CO₂ concentration as a sum of a long-term trend function and a seasonal function, plus some noise:\n",
    "\n",
    "$$\n",
    "y(x) = f_{\\text{trend}}(x) + f_{\\text{seasonal}}(x) + \\epsilon\n",
    "$$\n",
    "\n",
    "where  \n",
    "- $f_{\\text{trend}}(x)$ models the long-term trend,  \n",
    "- $f_{\\text{seasonal}}(x)$ models the annual seasonality,  \n",
    "- $\\epsilon$ is observational noise."
   ]
  },
  {
   "cell_type": "markdown",
   "id": "5a83f6ad",
   "metadata": {},
   "source": [
    "## Additive Kernels and Multi-Output GPs\n",
    "\n",
    "One of the most powerful ways to build expressive Gaussian Processes (GPs) is by combining simpler kernels. As discussed previously, if $k_1(x, x')$ and $k_2(x, x')$ are valid kernels, then their sum\n",
    "\n",
    "$$\n",
    "k_{\\text{sum}}(x, x') = k_1(x, x') + k_2(x, x')\n",
    "$$\n",
    "\n",
    "is also a valid kernel.\n",
    "\n",
    "**Intuition:**  \n",
    "If we have two independent Gaussian Processes, $f_1 \\sim \\mathcal{GP}(m_1, k_1)$ and $f_2 \\sim \\mathcal{GP}(m_2, k_2)$, then their sum $f = f_1 + f_2$ is also a Gaussian Process:\n",
    "\n",
    "$$\n",
    "f = f_1 + f_2 \\sim \\mathcal{GP}(m_1 + m_2,\\, k_1 + k_2)\n",
    "$$\n",
    "\n",
    "This property is extremely useful for modeling data that is a combination of different underlying processes. For example, in the Mauna Loa CO$_2$ data, we can model the long-term trend with one kernel (e.g., a squared exponential or linear kernel) and the seasonality with another kernel (e.g., a periodic kernel). The overall covariance structure of the data is then the sum of these individual kernels.\n",
    "\n",
    "---\n",
    "\n",
    "This approach is related to **Multi-Output GPs** or **Composite Kernels**. While the general multi-output GP has a block-diagonal covariance matrix for $p(f_1, f_2)$, the simplest case—where outputs are sums of independent GPs—leads directly to additive kernels:\n",
    "\n",
    "$$\n",
    "\\begin{align*}\n",
    "p(f_1) &= \\mathcal{GP}(f_1;\\, 0,\\, k_1) \\\\\\\\\n",
    "p(f_2) &= \\mathcal{GP}(f_2;\\, 0,\\, k_2)\n",
    "\\end{align*}\n",
    "$$\n",
    "\n",
    "The joint distribution of $f_1$ and $f_2$ is:\n",
    "\n",
    "$$\n",
    "\\rho(f_1, f_2) = \\mathcal{GP}\\left(\n",
    "\\begin{bmatrix} f_1 \\\\ f_2 \\end{bmatrix};\n",
    "\\begin{bmatrix} 0 \\\\ 0 \\end{bmatrix},\n",
    "\\begin{bmatrix} k_1 & 0 \\\\\\\\ 0 & k_2 \\end{bmatrix}\n",
    "\\right)\n",
    "$$\n",
    "\n",
    "If we define $f = f_1 + f_2$, its distribution is:\n",
    "\n",
    "$$\n",
    "p(f) = \\mathcal{GP}(f;\\, 0,\\, k_1 + k_2)\n",
    "$$\n",
    "\n",
    "**Conclusion:**  \n",
    "We can model complex functions by summing simpler, interpretable components, each defined by its own kernel."
   ]
  },
  {
   "cell_type": "code",
   "execution_count": 11,
   "id": "8c15dec5",
   "metadata": {},
   "outputs": [
    {
     "data": {
      "text/html": [
       "<div><style>\n",
       ".dataframe > thead > tr,\n",
       ".dataframe > tbody > tr {\n",
       "  text-align: right;\n",
       "  white-space: pre-wrap;\n",
       "}\n",
       "</style>\n",
       "<small>shape: (5, 3)</small><table border=\"1\" class=\"dataframe\"><thead><tr><th>year</th><th>mean</th><th>unc</th></tr><tr><td>i64</td><td>f64</td><td>f64</td></tr></thead><tbody><tr><td>1959</td><td>315.98</td><td>0.12</td></tr><tr><td>1960</td><td>316.91</td><td>0.12</td></tr><tr><td>1961</td><td>317.64</td><td>0.12</td></tr><tr><td>1962</td><td>318.45</td><td>0.12</td></tr><tr><td>1963</td><td>318.99</td><td>0.12</td></tr></tbody></table></div>"
      ],
      "text/plain": [
       "shape: (5, 3)\n",
       "┌──────┬────────┬──────┐\n",
       "│ year ┆ mean   ┆ unc  │\n",
       "│ ---  ┆ ---    ┆ ---  │\n",
       "│ i64  ┆ f64    ┆ f64  │\n",
       "╞══════╪════════╪══════╡\n",
       "│ 1959 ┆ 315.98 ┆ 0.12 │\n",
       "│ 1960 ┆ 316.91 ┆ 0.12 │\n",
       "│ 1961 ┆ 317.64 ┆ 0.12 │\n",
       "│ 1962 ┆ 318.45 ┆ 0.12 │\n",
       "│ 1963 ┆ 318.99 ┆ 0.12 │\n",
       "└──────┴────────┴──────┘"
      ]
     },
     "execution_count": 11,
     "metadata": {},
     "output_type": "execute_result"
    }
   ],
   "source": [
    "import polars as pl\n",
    "import plotly.express as px\n",
    "\n",
    "data = pl.read_csv(\"co2_annmean_mlo.csv\", truncate_ragged_lines=True)\n",
    "data.head()"
   ]
  },
  {
   "cell_type": "code",
   "execution_count": 1,
   "id": "1c40939a",
   "metadata": {},
   "outputs": [],
   "source": [
    "import jax.numpy as jnp\n",
    "from typing import Callable\n",
    "\n",
    "# --- Re-defining necessary kernel functions from previous lectures for completeness ---\n",
    "\n",
    "\n",
    "def squared_exponential_kernel(\n",
    "    x1: jnp.ndarray, x2: jnp.ndarray, sigma: float = 1.0, lengthscale: float = 1.0\n",
    ") -> jnp.ndarray:\n",
    "    \"\"\"\n",
    "    Computes the Squared Exponential (RBF) kernel matrix between two sets of points.\n",
    "    Args:\n",
    "        x1: First set of input points. Shape (N1, D).\n",
    "        x2: Second set of input points. Shape (N2, D).\n",
    "        sigma: Output variance (amplitude) hyperparameter.\n",
    "        lengthscale: Length scale hyperparameter.\n",
    "    Returns:\n",
    "        The kernel matrix K, where K[i, j] = k(x1[i], x2[j]). Shape (N1, N2).\n",
    "    \"\"\"\n",
    "    x1 = jnp.atleast_2d(x1)\n",
    "    x2 = jnp.atleast_2d(x2)\n",
    "    sq_dist = jnp.sum((x1[:, None, :] - x2[None, :, :]) ** 2, axis=-1)\n",
    "    K = sigma**2 * jnp.exp(-0.5 * sq_dist / lengthscale**2)\n",
    "    return K\n",
    "\n",
    "\n",
    "# --- New Kernel: Periodic Kernel ---\n",
    "def periodic_kernel(\n",
    "    x1: jnp.ndarray,\n",
    "    x2: jnp.ndarray,\n",
    "    sigma: float = 1.0,\n",
    "    lengthscale: float = 1.0,\n",
    "    period: float = 1.0,\n",
    ") -> jnp.ndarray:\n",
    "    \"\"\"\n",
    "    Computes the Periodic kernel matrix.\n",
    "    This kernel is suitable for modeling cyclical patterns.\n",
    "    Args:\n",
    "        x1: First set of input points. Shape (N1, D). Assumes D=1 for simplicity.\n",
    "        x2: Second set of input points. Shape (N2, D). Assumes D=1 for simplicity.\n",
    "        sigma: Output variance (amplitude) hyperparameter.\n",
    "        lengthscale: Length scale hyperparameter.\n",
    "        period: The period of the cyclical pattern.\n",
    "    Returns:\n",
    "        The kernel matrix K. Shape (N1, N2).\n",
    "    \"\"\"\n",
    "    x1 = jnp.atleast_2d(x1).squeeze()  # Ensure 1D for distance calculation\n",
    "    x2 = jnp.atleast_2d(x2).squeeze()  # Ensure 1D for distance calculation\n",
    "\n",
    "    # Compute the absolute difference between all pairs of points\n",
    "    diff = jnp.abs(x1[:, None] - x2[None, :])\n",
    "\n",
    "    # Compute the periodic term\n",
    "    sin_term = jnp.sin(jnp.pi * diff / period) ** 2\n",
    "\n",
    "    # Compute the kernel matrix\n",
    "    K = sigma**2 * jnp.exp(-2.0 * sin_term / lengthscale**2)\n",
    "    return K\n",
    "\n",
    "\n",
    "# --- New Kernel: Linear Kernel ---\n",
    "def linear_kernel(\n",
    "    x1: jnp.ndarray, x2: jnp.ndarray, c: float = 0.0, sigma_b: float = 1.0\n",
    ") -> jnp.ndarray:\n",
    "    \"\"\"\n",
    "    Computes the Linear kernel matrix.\n",
    "    This kernel models linear trends.\n",
    "    Args:\n",
    "        x1: First set of input points. Shape (N1, D).\n",
    "        x2: Second set of input points. Shape (N2, D).\n",
    "        c: A constant offset, often set to 0.\n",
    "        sigma_b: Variance of the slope.\n",
    "    Returns:\n",
    "        The kernel matrix K. Shape (N1, N2).\n",
    "    \"\"\"\n",
    "    x1 = jnp.atleast_2d(x1)\n",
    "    x2 = jnp.atleast_2d(x2)\n",
    "    # The linear kernel is (x1 - c) @ (x2 - c).T\n",
    "    K = sigma_b**2 * jnp.dot((x1 - c), (x2 - c).T)\n",
    "    return K\n",
    "\n",
    "\n",
    "# --- Additive Kernel Combiner ---\n",
    "def add_kernels(*kernel_funcs: Callable) -> Callable:\n",
    "    \"\"\"\n",
    "    Combines multiple kernel functions into an additive kernel.\n",
    "    The resulting kernel function will sum the outputs of the input kernel functions.\n",
    "    Args:\n",
    "        *kernel_funcs: Variable number of kernel functions to be added.\n",
    "                      Each kernel function should take (x1, x2) as arguments.\n",
    "    Returns:\n",
    "        A new callable kernel function that computes the sum of the input kernels.\n",
    "    \"\"\"\n",
    "\n",
    "    def combined_kernel(x1: jnp.ndarray, x2: jnp.ndarray) -> jnp.ndarray:\n",
    "        K_sum = jnp.zeros((x1.shape[0], x2.shape[0]))\n",
    "        for k_func in kernel_funcs:\n",
    "            K_sum += k_func(x1, x2)\n",
    "        return K_sum\n",
    "\n",
    "    return combined_kernel"
   ]
  },
  {
   "cell_type": "code",
   "execution_count": 2,
   "id": "1c010d9a",
   "metadata": {},
   "outputs": [],
   "source": [
    "import jax.numpy as jnp\n",
    "from jax.scipy.linalg import solve  # Use JAX's solve for numerical stability\n",
    "from typing import Callable\n",
    "\n",
    "\n",
    "def gp_predict(\n",
    "    X_train: jnp.ndarray,\n",
    "    y_train: jnp.ndarray,\n",
    "    X_test: jnp.ndarray,\n",
    "    mean_func: Callable[[jnp.ndarray], jnp.ndarray],\n",
    "    kernel_func: Callable[[jnp.ndarray, jnp.ndarray], jnp.ndarray],\n",
    "    noise_variance: float = 1e-6,  # Small value for numerical stability if noise is zero\n",
    ") -> tuple[jnp.ndarray, jnp.ndarray]:\n",
    "    \"\"\"\n",
    "    Performs Gaussian Process regression prediction.\n",
    "    Args:\n",
    "        X_train: Training input points. Shape (N_train, D).\n",
    "        y_train: Training output values. Shape (N_train,).\n",
    "        X_test: Test input points. Shape (N_test, D).\n",
    "        mean_func: Mean function.\n",
    "        kernel_func: Kernel function.\n",
    "        noise_variance: Variance of the observational noise.\n",
    "    Returns:\n",
    "        A tuple containing:\n",
    "            mu_pred: Predictive mean at test points. Shape (N_test,).\n",
    "            Sigma_pred: Predictive covariance matrix at test points. Shape (N_test, N_test).\n",
    "    \"\"\"\n",
    "    X_train = jnp.atleast_2d(X_train)\n",
    "    X_test = jnp.atleast_2d(X_test)\n",
    "    y_train = jnp.atleast_1d(y_train)\n",
    "\n",
    "    K_train_train = kernel_func(X_train, X_train) + noise_variance * jnp.eye(\n",
    "        X_train.shape[0]\n",
    "    )\n",
    "    K_test_train = kernel_func(X_test, X_train)\n",
    "    K_test_test = kernel_func(X_test, X_test)\n",
    "\n",
    "    # Compute the inverse term (K_train_train + sigma_noise^2 I)^-1 (y_train - m(X_train))\n",
    "    K_train_train_inv_y_diff = solve(K_train_train, y_train - mean_func(X_train))\n",
    "\n",
    "    # Compute predictive mean\n",
    "    mu_pred = mean_func(X_test) + jnp.dot(K_test_train, K_train_train_inv_y_diff)\n",
    "\n",
    "    # Compute the term (K_train_train + sigma_noise^2 I)^-1 K_test_train^T\n",
    "    K_train_train_inv_K_test_train_T = solve(K_train_train, K_test_train.T)\n",
    "\n",
    "    # Compute predictive covariance\n",
    "    Sigma_pred = K_test_test - jnp.dot(K_test_train, K_train_train_inv_K_test_train_T)\n",
    "\n",
    "    return mu_pred, Sigma_pred\n"
   ]
  },
  {
   "cell_type": "code",
   "execution_count": 21,
   "id": "2cfb7808",
   "metadata": {},
   "outputs": [],
   "source": [
    "import jax.numpy as jnp\n",
    "import jax.random as random\n",
    "import matplotlib.pyplot as plt\n",
    "\n",
    "# Set a random seed for reproducibility\n",
    "key = random.PRNGKey(42)\n",
    "\n",
    "# --- Simulate Mauna Loa-like Data ---\n",
    "# We'll simulate data with a linear trend and a seasonal component\n",
    "num_points = 100\n",
    "# Years from 1958 to 2023 (similar to Mauna Loa range)\n",
    "X_sim = jnp.linspace(1958.0, 2023.0, num_points)[:, None]  # Inputs (years)\n",
    "\n",
    "# True underlying components\n",
    "true_trend_slope = 1  # ppm per year\n",
    "true_trend_intercept = 310.0  # ppm at year 1958\n",
    "true_seasonal_amplitude = 5  # ppm\n",
    "true_seasonal_period = 1.0  # years\n",
    "\n",
    "true_trend = true_trend_intercept + true_trend_slope * (X_sim - X_sim.min())\n",
    "true_seasonal = true_seasonal_amplitude * jnp.sin(\n",
    "    2 * jnp.pi * (X_sim - X_sim.min()) / true_seasonal_period\n",
    ")\n",
    "\n",
    "# Observed data is sum of components plus noise\n",
    "true_noise_variance = 0.5**2\n",
    "y_sim = (true_trend + true_seasonal).squeeze() + random.normal(\n",
    "    key, shape=(num_points,)\n",
    ") * jnp.sqrt(true_noise_variance)"
   ]
  },
  {
   "cell_type": "code",
   "execution_count": 24,
   "id": "5662f7c4",
   "metadata": {},
   "outputs": [],
   "source": [
    "# --- Define GP Components with Additive Kernel ---\n",
    "# 1. Linear Kernel for the trend\n",
    "# We'll center the linear kernel around the start year to make its interpretation easier\n",
    "linear_k_func = lambda x1, x2: linear_kernel(x1, x2, c=X_sim.min(), sigma_b=1.0)\n",
    "\n",
    "# 2. Periodic Kernel for seasonality\n",
    "# Assuming an annual period (1.0 year)\n",
    "periodic_k_func = lambda x1, x2: periodic_kernel(\n",
    "    x1, x2, sigma=1.0, lengthscale=0.5, period=1.0\n",
    ")\n",
    "\n",
    "# Combine them into an additive kernel\n",
    "combined_kernel = add_kernels(linear_k_func, periodic_k_func)\n",
    "\n",
    "# Zero mean function (common for GPs, especially when the trend is modeled by a kernel)\n",
    "zero_mean_func = lambda x: jnp.zeros(x.shape[0])"
   ]
  },
  {
   "cell_type": "code",
   "execution_count": 25,
   "id": "3aed0f48",
   "metadata": {},
   "outputs": [],
   "source": [
    "# --- Perform GP Regression ---\n",
    "# Use all simulated data as training data for this example\n",
    "X_train = X_sim\n",
    "y_train = y_sim\n",
    "\n",
    "# Create test points for prediction\n",
    "X_test = jnp.linspace(1950.0, 2030.0, 200)[:, None]\n",
    "\n",
    "# Perform prediction using the combined kernel\n",
    "mu_pred, Sigma_pred = gp_predict(\n",
    "    X_train,\n",
    "    y_train,\n",
    "    X_test,\n",
    "    zero_mean_func,\n",
    "    combined_kernel,\n",
    "    noise_variance=true_noise_variance,  # Use the true noise for this demo\n",
    ")\n",
    "\n",
    "predictive_std = jnp.sqrt(jnp.diag(Sigma_pred))\n"
   ]
  },
  {
   "cell_type": "code",
   "execution_count": 26,
   "id": "1ba9f7f0",
   "metadata": {},
   "outputs": [
    {
     "data": {
      "application/vnd.plotly.v1+json": {
       "config": {
        "plotlyServerURL": "https://plot.ly"
       },
       "data": [
        {
         "marker": {
          "opacity": 0.7,
          "size": 6
         },
         "mode": "markers",
         "name": "Simulated Data",
         "type": "scatter",
         "x": {
          "bdata": "AMD0RALV9EQF6vRECP/0RAsU9UQNKfVEED71RBJT9UQUaPVEF331RBqS9UQcp/VEH7z1RCHR9UQk5vVEJ/v1RCoQ9kQsJfZELjr2RDFP9kQ0ZPZENnn2RDmO9kQ8o/ZEPrj2REHN9kRD4vZERvf2REkM90RLIfdETTb3RFBL90RTYPdEVXX3RFiK90Rbn/dEXbT3RGDJ90Ri3vdEZfP3RGcI+ERqHfhEbDL4RG9H+ERyXPhEdHH4RHeG+ER5m/hEfLD4RH/F+ESC2vhEhO/4RIYE+USIGflEjC75RI5D+USRWPlElG35RJaC+USYl/lEmqz5RJ7B+USh1vlEo+v5RKUA+kSoFfpEqir6RK0/+kSxVPpEs2n6RLV++kS3k/pEuqj6RL29+kS/0vpEwuf6RMX8+kTHEftEySb7RM07+0TPUPtE0WX7RNR6+0TXj/tE2aT7RNy5+0TezvtE4eP7ROP4+0TmDfxE6SL8ROw3/ETuTPxE8GH8RPN2/ET1i/xE+KD8RPu1/ET+yvxEAOD8RA==",
          "dtype": "f4"
         },
         "y": {
          "bdata": "MP6aQz5dmUNYCZ5D84ybQ+J/mkODJJ9DZa6bQ8cRnEOcQaBDfdScQyMvnUOgW6FDW5OdQ/38nkPI6qFDjx2eQ7dPoEOLwqJDvkWeQ9vSoUOWV6NDXyufQ6SXokNpH6RDQlKgQ2PLpEO5QqRDXkGhQ/rspUN7iKVD4qiiQ/Ajp0PeiaVDfdajQ+JtqENkFqZD6wqlQ+acqUMOjqZDYwmmQ/ORqkMyUqdDtJinQ8afq0Nq7qdDAs6oQ5iZrEN8yqhD76CqQyUdrUNcQalDH+6rQ7r0rUMYVapDWYatQyCerkPf1qpDFcGuQwVZr0NvLKxDAvyvQ3ebr0NQNa1DBHuxQ9dPsEPWla1DIzWzQ2Z4sENJWq9Dq86zQ4hSsUOZarBDfkC1QyKhsUPgrLFDEYe2Q4Z6skP1HLNDE/22Q3FAs0O8zbRDjTK4Q+QOtEMFk7ZDpB64Q+ZvtEM1NLdDTI+5QyUHtkM9Z7lDeRS6QwMmtkNAe7pDmZG6QzxNt0NRR7xDs/G6Q5uUuEO3Ur1D7z+7Qw==",
          "dtype": "f4"
         }
        },
        {
         "line": {
          "color": "red"
         },
         "mode": "lines",
         "name": "GP Predictive Mean",
         "type": "scatter",
         "x": {
          "bdata": "AMDzRN3M80S72fNEmObzRHbz80RSAPRELw30RA0a9ETqJvRExzP0RKVA9ESCTfREYFr0RD1n9EQZdPRE94D0RNSN9ESymvREj6f0RGy09ERKwfREJ870RAPb9ETh5/REvvT0RJwB9UR5DvVEVhv1RDQo9UQRNfVE7kH1RMtO9USoW/VEhmj1RGN19URAgvVEHo/1RPub9UTZqPVEtrX1RJLC9URwz/VETdz1RCrp9UQI9vVE5QL2RMMP9kSgHPZEfSn2RFo29kQ3Q/ZEFVD2RPJc9kTPafZErXb2RIqD9kRnkPZERJ32RCGq9kT/tvZE3MP2RLnQ9kSX3fZEdOr2RFH39kQuBPdEDBH3ROkd90TGKvdEozf3RIFE90ReUfdEPF73RBhr90T2d/dE04T3RLCR90SNnvdEa6v3REi490QmxfdEA9L3RODe90S96/dEmvj3RHgF+ERVEvhEMh/4RBAs+ETtOPhEykX4RKdS+ESEX/hEYmz4RD95+EQchvhE+pL4RNef+ES1rPhEkbn4RG/G+ERM0/hEKuD4RAbt+ETk+fhEwAb5RJ4T+UR8IPlEWS35RDY6+UQUR/lE8FP5RM5g+USsbflEiHr5RGaH+URDlPlEIKH5RP6t+UTauvlEuMf5RJbU+URy4flEUO75RC37+UQKCPpE6BT6RMQh+kSiLvpEgDv6RF1I+kQ6VfpEGGL6RPRu+kTSe/pEroj6RIyV+kRqovpER6/6RCS8+kQCyfpE3tX6RLzi+kSY7/pEdvz6RFQJ+0QxFvtEDiP7ROwv+0TIPPtEpkn7RIRW+0RgY/tEPnD7RBt9+0T4iftE1pb7RLKj+0SQsPtEbr37RErK+0Qo1/tEBuT7ROLw+0TA/ftEnQr8RHoX/ERYJPxENDH8RBI+/ETwSvxEzFf8RKpk/ESHcfxEZH78REKL/EQfmPxE/KT8RNqx/ES2vvxElMv8RHLY/ERO5fxELPL8RAn//ETmC/1ExBj9RKEl/UR+Mv1EXD/9RDhM/UQWWf1E9GX9RNBy/USuf/1Ei4z9RGiZ/URGpv1EI7P9RADA/UQ=",
          "dtype": "f4"
         },
         "y": {
          "bdata": "yESOQ0iMjkMoI4xD8PCRQ8j9jkPge49DAN6PQ1izjUMgg5ND6DqQQ5C1kEM4OJFDMEOPQ7QSlUPIZJFDUPmRQ2qakkOE0ZBDW5yWQ9J7kkNESZNDPP2TQ+1fkkNlHJhDloOTQzqolEMiX5VDaPCTQ2SOmUM4fpRDtBeWQ4S8lkPIg5VDmO6aQ8hwlUPok5dDMBSYQ5AYl0O4OJxD+GGWQ7gfmUNoaJlDKLKYQ9BtnUMQXZdD8LWaQxC3mkOwTJpDgIqeQ6BfmEOQTpxDQACcQ0Dkm0PglZ9D4HWZQ6DrnUMgSJ1DYHydQ6CUoEPwn5pDwIqfQ+CVnkNADp9DQIWhQ2Ddm0MgJKFDYOKfQ+CWoEPgdKJDYDmdQ8C1okPgNaFDQA+iQ6Bjo0OgoZ5DwFKkQ+CRokOgfaNDwGGkQ0AgoENA36VDQOijQwDapEMgY6VDQKWhQwB0p0PgTqVDwCimQwB9pkNAMaNDAASpQ+CspkPAYqdDAKGnQ4DDpEMgkqpD4AqoQ4CkqEPg6KhDwFOmQwAgrENAV6lDwNqpQ0AqqkMA6qdDoLetQ8CdqkMAGKtDQIarQ4B1qUNATK9DQMurQ4BWrEOA5KxDAAurQ8DdsEPA7KxDQKKtQ4BErkMAlaxDAFayQ0AKrkPA+65DQK+vQ4AnrkOAy7NDQACvQwBXsEPAEbFDAL2vQwBDtUNA769DANCxQ8BjskOAUrFDQJ62QwDnsEPAULNDgLyzQ0DnskOA0bdDgNexQ0DutENAELVDAIC0Q0AAuUOA37JDwHu2Q4BdtkMAFrZDgBy6QwDis0PAHLhDAKK3QwCnt0NAIbtDQAi1QwDFuUPA97hDgDy5Q0AYvENAOrZDgFC7QwA1ukMAx7pDQPi8Q8B2t0OA6bxDQIC7Q4BWvEMA4b1DAO64Q0CEvkOA17xDAMW9Q4DivkOAZbpDQP6/Q8A6vkMALL9DQNq/Q4Dgu0MAosFDwJO/Q8CEwEPA48BDwG69QwA8w0MAAcFDQMnBQ4AOwkMA6b5DwMTEQwBYwkOADMNDgDXDQwCZwEMAasZDAKXDQwBAxEM=",
          "dtype": "f4"
         }
        },
        {
         "fill": "toself",
         "fillcolor": "rgba(255,0,0,0.2)",
         "hoverinfo": "skip",
         "line": {
          "color": "rgba(255,255,255,0)"
         },
         "name": "95% Confidence Interval",
         "showlegend": true,
         "type": "scatter",
         "x": {
          "bdata": "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",
          "dtype": "f4"
         },
         "y": {
          "bdata": "jBKOQy5VjkN07otDEr6RQ5vMjkOeSY9D+KePQ6F/jUM1UZNDSQqQQxqDkENHA5FDYxCPQ7LhlEOTNJFDnsaRQ5NmkkOVn5BDJ2yWQ9xLkkNzFpNDb8qTQ8oukkPl7JdDx1OTQ311lENLLZVDB8CTQ3tfmUN2TpRDTeWVQ4qLlkMjVJVDLMCaQwpBlUMIYpdD+eOXQ5PplkOgCpxDLzKWQ4zumEPbOJlDw4OYQ+8/nUNFLZdDioWaQxyImkPdHppD0VyeQ/YvmEPzHpxD3NGbQ+u2m0NNaJ9DZkaZQ8O8nUM/Gp1DWk+dQ/9moEPNcJpDbVyfQ4NonkNr4Z5DqlehQ3mum0Nd9qBDNbWfQ2ZqoEM/R6JDGAudQ0aIokPjCKFDF+OhQxU2o0O8c55DvSWkQ1VlokO3UaNDUjSkQ/Pyn0NwsqVDtbujQ7yupEPINaVDIXihQ2pHp0ODIqVDI/6lQ8pPpkOqBKNDateoQ1WApkPAOKdDDnSnQ8eWpEO4ZapDVd6nQ6V6qEP6u6hDHiemQ3Xzq0OeKqlDtLCpQ579qUNevadD/oqtQ6xwqkOr7apDtVmrQwxJqUO1H69DLJ6rQ+MrrEPet6xDXt6qQ5WwsEOVv6xDW3etQ8cXrkMaaKxDvyiyQ6XcrUPAz65Dh4KvQ7D6rUNfnbND0tKuQ7oqsEPa5LBDko+vQ0QUtUPSwa9DGqOxQwc3skO4JLFDxm+2Q7+5sEM1JLNDEo+zQ8a4skNXordD5amxQ7XBtENL4rRD11C0Q5bQuEPlsbJDB0+2Q18vtkMr5rVDV+25Qzi0s0Ny7rdDLnO3QwB3t0OW8bpDeNq0QwuXuUNByLhDWQu5Q2vou0N4DLZDriG7Q1YFukMKlbpDwce8Q3JIt0OAubxDQ0+7QzkkvEMAsb1D1b24Q+tTvkMGprxDF5K9QwGyvkPWNbpDxsy/Q/8HvkMX+b5Dlqq/Qy+vu0NccMFDN2C/QydSwEPDtMBDHD29Q7kJw0OKzMBDp5bBQ9fdwUMXtr5D15HEQ1YiwkOD28JD3APDQ8ZlwEM9NcZD3W3DQwoOxEP2ccRDI9zDQ8OexkM6zMBDJGfDQ309w0OqjcJDqffEQ+kbv0MpP8JD2fvBQ3Y1wUNHbsNDZKC9Q70SwUNZt8BDSce/Q6TTwUPREbxD6gnAQ+lev0OBbb5Dui/AQyqVukP/Er9D6fe9Q/oIvUOVtL5DKx65QwARvkPHiLxDPbG7Q4AZvUMOpbdDvyi9Q/b4ukOqZLpDUn+7QwhotkMVSLxDp225Qz8nuUP18rlDCDa1Q+pQu0MA17dD0tC3Qw5LuEPID7RDqUu6Q9VFtkOhi7ZDeai2QxsNs0PqL7lDKa+0QzU+tUPLGrVDGwWyQ6kAuEO6FbND7umzQ0t9s0NBFLFDusy2Q0iAsUN5kLJD5vyxQ64csEO8cbVDbuqvQ6Y+sUNGg7BDri2vQ6H5s0NQVK5D+duvQ8Anr0PbN65DQYOyQ+bBrEM5ca5DJc2tQ+sZrUPrCrFDojerQyIRrUMdgaxDVPirQ8t4r0P0oalDy7KrQ1VCq0PUyqpDQuStQ6IWqEPiVqpDzASqQ+KDqUOLTKxDYoCmQ8YVqUNbzqhDazeoQ4i+qkM58KRD8s2nQ8CMp0Nr2aZDljCpQ9Zdo0M2qqZDXVOmQz17pUOWoKdDX9KhQ3iQpUNEBaVDyxSkQxAMpkONTaBDLo+kQ4mpo0NrvqJDw3+kQ4TPnkMrkaNDaTuiQ91ioUM646JDqGedQ4GiokNaw6BDiw+gQ+NRoUNHDJxD1rKhQxU7n0M9w55DE7mfQxPPmkNBwqBDZqmdQwF2nUN9Gp5DWqWZQ3PDn0OVEZxDpC6cQy1+nENKj5hDL7ieQ4N6mkME5ppDVuaaQ9uMl0Oxm51DjeCYQ/WXmUPkUJlDwZGWQ9BmnEONR5dDZ0SYQ8jFl0OGoJVDBB2bQ22zlUN+7ZZDG0qWQ/qtlENNvZlDySCUQ/mQlUP32pRDZbOTQ+VLmEMQkZJDCTCUQxV8k0PIq5JDj8yWQ3MDkUNBzpJDAiySQ/2UkUO2Q5VD/XWPQyltkUMG6JBDh2uQQwu1k0MP541DCBSQQyKuj0P1Lo9DziOSQ9xXjENiw45DBHeOQw==",
          "dtype": "f4"
         }
        }
       ],
       "layout": {
        "legend": {
         "x": 0.01,
         "y": 0.99
        },
        "template": {
         "data": {
          "bar": [
           {
            "error_x": {
             "color": "rgb(36,36,36)"
            },
            "error_y": {
             "color": "rgb(36,36,36)"
            },
            "marker": {
             "line": {
              "color": "white",
              "width": 0.5
             },
             "pattern": {
              "fillmode": "overlay",
              "size": 10,
              "solidity": 0.2
             }
            },
            "type": "bar"
           }
          ],
          "barpolar": [
           {
            "marker": {
             "line": {
              "color": "white",
              "width": 0.5
             },
             "pattern": {
              "fillmode": "overlay",
              "size": 10,
              "solidity": 0.2
             }
            },
            "type": "barpolar"
           }
          ],
          "carpet": [
           {
            "aaxis": {
             "endlinecolor": "rgb(36,36,36)",
             "gridcolor": "white",
             "linecolor": "white",
             "minorgridcolor": "white",
             "startlinecolor": "rgb(36,36,36)"
            },
            "baxis": {
             "endlinecolor": "rgb(36,36,36)",
             "gridcolor": "white",
             "linecolor": "white",
             "minorgridcolor": "white",
             "startlinecolor": "rgb(36,36,36)"
            },
            "type": "carpet"
           }
          ],
          "choropleth": [
           {
            "colorbar": {
             "outlinewidth": 1,
             "tickcolor": "rgb(36,36,36)",
             "ticks": "outside"
            },
            "type": "choropleth"
           }
          ],
          "contour": [
           {
            "colorbar": {
             "outlinewidth": 1,
             "tickcolor": "rgb(36,36,36)",
             "ticks": "outside"
            },
            "colorscale": [
             [
              0,
              "#440154"
             ],
             [
              0.1111111111111111,
              "#482878"
             ],
             [
              0.2222222222222222,
              "#3e4989"
             ],
             [
              0.3333333333333333,
              "#31688e"
             ],
             [
              0.4444444444444444,
              "#26828e"
             ],
             [
              0.5555555555555556,
              "#1f9e89"
             ],
             [
              0.6666666666666666,
              "#35b779"
             ],
             [
              0.7777777777777778,
              "#6ece58"
             ],
             [
              0.8888888888888888,
              "#b5de2b"
             ],
             [
              1,
              "#fde725"
             ]
            ],
            "type": "contour"
           }
          ],
          "contourcarpet": [
           {
            "colorbar": {
             "outlinewidth": 1,
             "tickcolor": "rgb(36,36,36)",
             "ticks": "outside"
            },
            "type": "contourcarpet"
           }
          ],
          "heatmap": [
           {
            "colorbar": {
             "outlinewidth": 1,
             "tickcolor": "rgb(36,36,36)",
             "ticks": "outside"
            },
            "colorscale": [
             [
              0,
              "#440154"
             ],
             [
              0.1111111111111111,
              "#482878"
             ],
             [
              0.2222222222222222,
              "#3e4989"
             ],
             [
              0.3333333333333333,
              "#31688e"
             ],
             [
              0.4444444444444444,
              "#26828e"
             ],
             [
              0.5555555555555556,
              "#1f9e89"
             ],
             [
              0.6666666666666666,
              "#35b779"
             ],
             [
              0.7777777777777778,
              "#6ece58"
             ],
             [
              0.8888888888888888,
              "#b5de2b"
             ],
             [
              1,
              "#fde725"
             ]
            ],
            "type": "heatmap"
           }
          ],
          "histogram": [
           {
            "marker": {
             "line": {
              "color": "white",
              "width": 0.6
             }
            },
            "type": "histogram"
           }
          ],
          "histogram2d": [
           {
            "colorbar": {
             "outlinewidth": 1,
             "tickcolor": "rgb(36,36,36)",
             "ticks": "outside"
            },
            "colorscale": [
             [
              0,
              "#440154"
             ],
             [
              0.1111111111111111,
              "#482878"
             ],
             [
              0.2222222222222222,
              "#3e4989"
             ],
             [
              0.3333333333333333,
              "#31688e"
             ],
             [
              0.4444444444444444,
              "#26828e"
             ],
             [
              0.5555555555555556,
              "#1f9e89"
             ],
             [
              0.6666666666666666,
              "#35b779"
             ],
             [
              0.7777777777777778,
              "#6ece58"
             ],
             [
              0.8888888888888888,
              "#b5de2b"
             ],
             [
              1,
              "#fde725"
             ]
            ],
            "type": "histogram2d"
           }
          ],
          "histogram2dcontour": [
           {
            "colorbar": {
             "outlinewidth": 1,
             "tickcolor": "rgb(36,36,36)",
             "ticks": "outside"
            },
            "colorscale": [
             [
              0,
              "#440154"
             ],
             [
              0.1111111111111111,
              "#482878"
             ],
             [
              0.2222222222222222,
              "#3e4989"
             ],
             [
              0.3333333333333333,
              "#31688e"
             ],
             [
              0.4444444444444444,
              "#26828e"
             ],
             [
              0.5555555555555556,
              "#1f9e89"
             ],
             [
              0.6666666666666666,
              "#35b779"
             ],
             [
              0.7777777777777778,
              "#6ece58"
             ],
             [
              0.8888888888888888,
              "#b5de2b"
             ],
             [
              1,
              "#fde725"
             ]
            ],
            "type": "histogram2dcontour"
           }
          ],
          "mesh3d": [
           {
            "colorbar": {
             "outlinewidth": 1,
             "tickcolor": "rgb(36,36,36)",
             "ticks": "outside"
            },
            "type": "mesh3d"
           }
          ],
          "parcoords": [
           {
            "line": {
             "colorbar": {
              "outlinewidth": 1,
              "tickcolor": "rgb(36,36,36)",
              "ticks": "outside"
             }
            },
            "type": "parcoords"
           }
          ],
          "pie": [
           {
            "automargin": true,
            "type": "pie"
           }
          ],
          "scatter": [
           {
            "fillpattern": {
             "fillmode": "overlay",
             "size": 10,
             "solidity": 0.2
            },
            "type": "scatter"
           }
          ],
          "scatter3d": [
           {
            "line": {
             "colorbar": {
              "outlinewidth": 1,
              "tickcolor": "rgb(36,36,36)",
              "ticks": "outside"
             }
            },
            "marker": {
             "colorbar": {
              "outlinewidth": 1,
              "tickcolor": "rgb(36,36,36)",
              "ticks": "outside"
             }
            },
            "type": "scatter3d"
           }
          ],
          "scattercarpet": [
           {
            "marker": {
             "colorbar": {
              "outlinewidth": 1,
              "tickcolor": "rgb(36,36,36)",
              "ticks": "outside"
             }
            },
            "type": "scattercarpet"
           }
          ],
          "scattergeo": [
           {
            "marker": {
             "colorbar": {
              "outlinewidth": 1,
              "tickcolor": "rgb(36,36,36)",
              "ticks": "outside"
             }
            },
            "type": "scattergeo"
           }
          ],
          "scattergl": [
           {
            "marker": {
             "colorbar": {
              "outlinewidth": 1,
              "tickcolor": "rgb(36,36,36)",
              "ticks": "outside"
             }
            },
            "type": "scattergl"
           }
          ],
          "scattermap": [
           {
            "marker": {
             "colorbar": {
              "outlinewidth": 1,
              "tickcolor": "rgb(36,36,36)",
              "ticks": "outside"
             }
            },
            "type": "scattermap"
           }
          ],
          "scattermapbox": [
           {
            "marker": {
             "colorbar": {
              "outlinewidth": 1,
              "tickcolor": "rgb(36,36,36)",
              "ticks": "outside"
             }
            },
            "type": "scattermapbox"
           }
          ],
          "scatterpolar": [
           {
            "marker": {
             "colorbar": {
              "outlinewidth": 1,
              "tickcolor": "rgb(36,36,36)",
              "ticks": "outside"
             }
            },
            "type": "scatterpolar"
           }
          ],
          "scatterpolargl": [
           {
            "marker": {
             "colorbar": {
              "outlinewidth": 1,
              "tickcolor": "rgb(36,36,36)",
              "ticks": "outside"
             }
            },
            "type": "scatterpolargl"
           }
          ],
          "scatterternary": [
           {
            "marker": {
             "colorbar": {
              "outlinewidth": 1,
              "tickcolor": "rgb(36,36,36)",
              "ticks": "outside"
             }
            },
            "type": "scatterternary"
           }
          ],
          "surface": [
           {
            "colorbar": {
             "outlinewidth": 1,
             "tickcolor": "rgb(36,36,36)",
             "ticks": "outside"
            },
            "colorscale": [
             [
              0,
              "#440154"
             ],
             [
              0.1111111111111111,
              "#482878"
             ],
             [
              0.2222222222222222,
              "#3e4989"
             ],
             [
              0.3333333333333333,
              "#31688e"
             ],
             [
              0.4444444444444444,
              "#26828e"
             ],
             [
              0.5555555555555556,
              "#1f9e89"
             ],
             [
              0.6666666666666666,
              "#35b779"
             ],
             [
              0.7777777777777778,
              "#6ece58"
             ],
             [
              0.8888888888888888,
              "#b5de2b"
             ],
             [
              1,
              "#fde725"
             ]
            ],
            "type": "surface"
           }
          ],
          "table": [
           {
            "cells": {
             "fill": {
              "color": "rgb(237,237,237)"
             },
             "line": {
              "color": "white"
             }
            },
            "header": {
             "fill": {
              "color": "rgb(217,217,217)"
             },
             "line": {
              "color": "white"
             }
            },
            "type": "table"
           }
          ]
         },
         "layout": {
          "annotationdefaults": {
           "arrowhead": 0,
           "arrowwidth": 1
          },
          "autotypenumbers": "strict",
          "coloraxis": {
           "colorbar": {
            "outlinewidth": 1,
            "tickcolor": "rgb(36,36,36)",
            "ticks": "outside"
           }
          },
          "colorscale": {
           "diverging": [
            [
             0,
             "rgb(103,0,31)"
            ],
            [
             0.1,
             "rgb(178,24,43)"
            ],
            [
             0.2,
             "rgb(214,96,77)"
            ],
            [
             0.3,
             "rgb(244,165,130)"
            ],
            [
             0.4,
             "rgb(253,219,199)"
            ],
            [
             0.5,
             "rgb(247,247,247)"
            ],
            [
             0.6,
             "rgb(209,229,240)"
            ],
            [
             0.7,
             "rgb(146,197,222)"
            ],
            [
             0.8,
             "rgb(67,147,195)"
            ],
            [
             0.9,
             "rgb(33,102,172)"
            ],
            [
             1,
             "rgb(5,48,97)"
            ]
           ],
           "sequential": [
            [
             0,
             "#440154"
            ],
            [
             0.1111111111111111,
             "#482878"
            ],
            [
             0.2222222222222222,
             "#3e4989"
            ],
            [
             0.3333333333333333,
             "#31688e"
            ],
            [
             0.4444444444444444,
             "#26828e"
            ],
            [
             0.5555555555555556,
             "#1f9e89"
            ],
            [
             0.6666666666666666,
             "#35b779"
            ],
            [
             0.7777777777777778,
             "#6ece58"
            ],
            [
             0.8888888888888888,
             "#b5de2b"
            ],
            [
             1,
             "#fde725"
            ]
           ],
           "sequentialminus": [
            [
             0,
             "#440154"
            ],
            [
             0.1111111111111111,
             "#482878"
            ],
            [
             0.2222222222222222,
             "#3e4989"
            ],
            [
             0.3333333333333333,
             "#31688e"
            ],
            [
             0.4444444444444444,
             "#26828e"
            ],
            [
             0.5555555555555556,
             "#1f9e89"
            ],
            [
             0.6666666666666666,
             "#35b779"
            ],
            [
             0.7777777777777778,
             "#6ece58"
            ],
            [
             0.8888888888888888,
             "#b5de2b"
            ],
            [
             1,
             "#fde725"
            ]
           ]
          },
          "colorway": [
           "#1F77B4",
           "#FF7F0E",
           "#2CA02C",
           "#D62728",
           "#9467BD",
           "#8C564B",
           "#E377C2",
           "#7F7F7F",
           "#BCBD22",
           "#17BECF"
          ],
          "font": {
           "color": "rgb(36,36,36)"
          },
          "geo": {
           "bgcolor": "white",
           "lakecolor": "white",
           "landcolor": "white",
           "showlakes": true,
           "showland": true,
           "subunitcolor": "white"
          },
          "hoverlabel": {
           "align": "left"
          },
          "hovermode": "closest",
          "mapbox": {
           "style": "light"
          },
          "paper_bgcolor": "white",
          "plot_bgcolor": "white",
          "polar": {
           "angularaxis": {
            "gridcolor": "rgb(232,232,232)",
            "linecolor": "rgb(36,36,36)",
            "showgrid": false,
            "showline": true,
            "ticks": "outside"
           },
           "bgcolor": "white",
           "radialaxis": {
            "gridcolor": "rgb(232,232,232)",
            "linecolor": "rgb(36,36,36)",
            "showgrid": false,
            "showline": true,
            "ticks": "outside"
           }
          },
          "scene": {
           "xaxis": {
            "backgroundcolor": "white",
            "gridcolor": "rgb(232,232,232)",
            "gridwidth": 2,
            "linecolor": "rgb(36,36,36)",
            "showbackground": true,
            "showgrid": false,
            "showline": true,
            "ticks": "outside",
            "zeroline": false,
            "zerolinecolor": "rgb(36,36,36)"
           },
           "yaxis": {
            "backgroundcolor": "white",
            "gridcolor": "rgb(232,232,232)",
            "gridwidth": 2,
            "linecolor": "rgb(36,36,36)",
            "showbackground": true,
            "showgrid": false,
            "showline": true,
            "ticks": "outside",
            "zeroline": false,
            "zerolinecolor": "rgb(36,36,36)"
           },
           "zaxis": {
            "backgroundcolor": "white",
            "gridcolor": "rgb(232,232,232)",
            "gridwidth": 2,
            "linecolor": "rgb(36,36,36)",
            "showbackground": true,
            "showgrid": false,
            "showline": true,
            "ticks": "outside",
            "zeroline": false,
            "zerolinecolor": "rgb(36,36,36)"
           }
          },
          "shapedefaults": {
           "fillcolor": "black",
           "line": {
            "width": 0
           },
           "opacity": 0.3
          },
          "ternary": {
           "aaxis": {
            "gridcolor": "rgb(232,232,232)",
            "linecolor": "rgb(36,36,36)",
            "showgrid": false,
            "showline": true,
            "ticks": "outside"
           },
           "baxis": {
            "gridcolor": "rgb(232,232,232)",
            "linecolor": "rgb(36,36,36)",
            "showgrid": false,
            "showline": true,
            "ticks": "outside"
           },
           "bgcolor": "white",
           "caxis": {
            "gridcolor": "rgb(232,232,232)",
            "linecolor": "rgb(36,36,36)",
            "showgrid": false,
            "showline": true,
            "ticks": "outside"
           }
          },
          "title": {
           "x": 0.05
          },
          "xaxis": {
           "automargin": true,
           "gridcolor": "rgb(232,232,232)",
           "linecolor": "rgb(36,36,36)",
           "showgrid": false,
           "showline": true,
           "ticks": "outside",
           "title": {
            "standoff": 15
           },
           "zeroline": false,
           "zerolinecolor": "rgb(36,36,36)"
          },
          "yaxis": {
           "automargin": true,
           "gridcolor": "rgb(232,232,232)",
           "linecolor": "rgb(36,36,36)",
           "showgrid": false,
           "showline": true,
           "ticks": "outside",
           "title": {
            "standoff": 15
           },
           "zeroline": false,
           "zerolinecolor": "rgb(36,36,36)"
          }
         }
        },
        "title": {
         "text": "Gaussian Process Regression with Additive Kernel (Simulated Mauna Loa Data)"
        },
        "xaxis": {
         "title": {
          "text": "Year"
         }
        },
        "yaxis": {
         "title": {
          "text": "CO2 Concentration [ppm]"
         }
        }
       }
      }
     },
     "metadata": {},
     "output_type": "display_data"
    }
   ],
   "source": [
    "# --- Plotting Results ---\n",
    "import plotly.graph_objects as go\n",
    "\n",
    "fig = go.Figure()\n",
    "\n",
    "# Scatter plot for training data\n",
    "fig.add_trace(\n",
    "    go.Scatter(\n",
    "        x=X_train[:, 0],\n",
    "        y=y_train,\n",
    "        mode=\"markers\",\n",
    "        name=\"Simulated Data\",\n",
    "        marker=dict(size=6, opacity=0.7),\n",
    "    )\n",
    ")\n",
    "\n",
    "# Predictive mean line\n",
    "fig.add_trace(\n",
    "    go.Scatter(\n",
    "        x=X_test[:, 0],\n",
    "        y=mu_pred,\n",
    "        mode=\"lines\",\n",
    "        name=\"GP Predictive Mean\",\n",
    "        line=dict(color=\"red\"),\n",
    "    )\n",
    ")\n",
    "\n",
    "# 95% confidence interval (shaded area)\n",
    "fig.add_trace(\n",
    "    go.Scatter(\n",
    "        x=jnp.concatenate([X_test[:, 0], X_test[::-1, 0]]),\n",
    "        y=jnp.concatenate(\n",
    "            [mu_pred - 2 * predictive_std, (mu_pred + 2 * predictive_std)[::-1]]\n",
    "        ),\n",
    "        fill=\"toself\",\n",
    "        fillcolor=\"rgba(255,0,0,0.2)\",\n",
    "        line=dict(color=\"rgba(255,255,255,0)\"),\n",
    "        hoverinfo=\"skip\",\n",
    "        showlegend=True,\n",
    "        name=\"95% Confidence Interval\",\n",
    "    )\n",
    ")\n",
    "\n",
    "fig.update_layout(\n",
    "    title=\"Gaussian Process Regression with Additive Kernel (Simulated Mauna Loa Data)\",\n",
    "    xaxis_title=\"Year\",\n",
    "    yaxis_title=\"CO2 Concentration [ppm]\",\n",
    "    legend=dict(x=0.01, y=0.99),\n",
    "    template=\"simple_white\",\n",
    ")\n",
    "\n",
    "fig.show()\n",
    "\n",
    "# --- Optional: Plotting individual components (conceptual) ---\n",
    "# To plot individual components, you would typically need to define a separate GP for each\n",
    "# component and then condition them independently or jointly.\n",
    "# For example, to get the mean of the trend component:\n",
    "# mu_trend, _ = gp_predict(X_train, y_train, X_test, zero_mean_func, linear_k_func, noise_variance=true_noise_variance)\n",
    "# plt.figure(figsize=(10, 4))\n",
    "# plt.plot(X_test[:, 0], mu_trend, label='Estimated Trend Component')\n",
    "# plt.title('Estimated Trend Component')\n",
    "# plt.grid(True)\n",
    "# plt.legend()\n",
    "# plt.show()\n",
    "# This is a bit more involved as the 'y_train' is a sum, so directly predicting with just one kernel\n",
    "# using the full y_train is not strictly correct for isolating the component.\n",
    "# Proper component separation would involve a more advanced multi-output GP setup or specific inference techniques.\n"
   ]
  },
  {
   "cell_type": "markdown",
   "id": "81e1dc68",
   "metadata": {},
   "source": [
    "## Kernel Learning: Optimizing Hyperparameters\n",
    "\n",
    "In our previous examples, we manually set the hyperparameters of our kernels (such as $\\sigma$, $\\text{lengthscale}$, $\\text{period}$, $\\sigma_{\\text{noise}}^2$). However, in real applications, we need to learn these values from the data. This process is called **hyperparameter optimization** or **kernel learning**.\n",
    "\n",
    "The standard approach for learning hyperparameters in GPs is to maximize the **marginal likelihood** (also known as the model evidence). The marginal likelihood $p(\\mathbf{y} \\mid X, \\theta)$ is the probability of observing the training data $\\mathbf{y}$ given the inputs $X$ and the hyperparameters $\\theta$, after marginalizing out the latent function $f$:\n",
    "\n",
    "$$\n",
    "p(\\mathbf{y} \\mid X, \\theta) = \\int p(\\mathbf{y} \\mid f, X, \\theta)\\, p(f \\mid X, \\theta)\\, df\n",
    "$$\n",
    "\n",
    "For Gaussian Processes with a Gaussian likelihood, this integral has a convenient analytical solution:\n",
    "\n",
    "$$\n",
    "p(\\mathbf{y} \\mid X, \\theta) = \\mathcal{N}(\\mathbf{y};\\, m(X),\\, K_{XX} + \\sigma_{\\text{noise}}^2 I)\n",
    "$$\n",
    "\n",
    "where $m(X)$ is the mean function evaluated at the training inputs, $K_{XX}$ is the kernel matrix evaluated at training inputs with hyperparameters $\\theta$, and $\\sigma_{\\text{noise}}^2 I$ is the noise covariance.\n",
    "\n",
    "To find the optimal hyperparameters $\\hat{\\theta}$, we maximize this marginal likelihood, or equivalently, minimize its negative logarithm (the **negative log-marginal likelihood**):\n",
    "\n",
    "$$\n",
    "\\hat{\\theta} = \\arg\\max_{\\theta}\\, p(\\mathbf{y} \\mid X, \\theta) = \\arg\\min_{\\theta}\\, -\\log p(\\mathbf{y} \\mid X, \\theta)\n",
    "$$\n",
    "\n",
    "The negative log-marginal likelihood (NLML) for a zero-mean GP is given by:\n",
    "\n",
    "$$\n",
    "-\\log p(\\mathbf{y} \\mid X, \\theta) = \\frac{1}{2} \\mathbf{y}^\\top (K_{XX} + \\sigma_{\\text{noise}}^2 I)^{-1} \\mathbf{y}\n",
    "+ \\frac{1}{2} \\log \\left| K_{XX} + \\sigma_{\\text{noise}}^2 I \\right|\n",
    "+ \\frac{N}{2} \\log(2\\pi)\n",
    "$$\n",
    "\n",
    "where $N$ is the number of training data points.\n",
    "\n",
    "This objective function is generally non-convex, so we typically use gradient-based optimization algorithms (like gradient descent or more advanced optimizers) to find a good set of hyperparameters. This requires computing the gradients of the NLML with respect to each hyperparameter. Fortunately, modern deep learning frameworks like JAX provide **automatic differentiation**, which makes computing these gradients straightforward.\n",
    "\n",
    "The slides illustrate the computational graph for calculating the loss $L(\\theta)$ and how automatic differentiation (forward or backward mode) can be used to compute gradients. This is a powerful concept that underpins much of modern machine learning."
   ]
  },
  {
   "cell_type": "code",
   "execution_count": 101,
   "id": "63420ff4",
   "metadata": {},
   "outputs": [],
   "source": [
    "import jax.numpy as jnp\n",
    "import jax\n",
    "from jax import jit, grad\n",
    "from jax.scipy.linalg import solve, cholesky\n",
    "import optax  # A JAX-based optimization library\n",
    "import matplotlib.pyplot as plt\n",
    "from functools import partial\n",
    "\n",
    "# --- Re-using previous kernel definitions for this example ---\n",
    "# (squared_exponential_kernel, periodic_kernel, linear_kernel, add_kernels, gp_predict)\n",
    "# Assume these are defined in the notebook context.\n",
    "\n",
    "\n",
    "# --- Log-Marginal Likelihood Function ---\n",
    "@partial(jit, static_argnames=[\"kernel_types\", \"mean_func\", \"base_kernel_funcs\"])\n",
    "def negative_log_marginal_likelihood(\n",
    "    params: dict,\n",
    "    kernel_types: tuple,\n",
    "    X_train: jnp.ndarray,\n",
    "    y_train: jnp.ndarray,\n",
    "    mean_func: Callable[[jnp.ndarray], jnp.ndarray],\n",
    "    base_kernel_funcs: tuple[Callable],\n",
    ") -> float:\n",
    "    \"\"\"\n",
    "    Computes the negative log-marginal likelihood (NLML) for a GP.\n",
    "\n",
    "    Args:\n",
    "        params: A dictionary of hyperparameters. Expected keys:\n",
    "                'noise_variance': Scalar for observational noise.\n",
    "                'kernel_params': A list of dictionaries, one for each base kernel,\n",
    "                                 containing its specific hyperparameters (e.g., 'sigma', 'lengthscale', 'period', 'c', 'sigma_b').\n",
    "        X_train: Training input points.\n",
    "        y_train: Training output values.\n",
    "        mean_func: Mean function.\n",
    "        base_kernel_funcs: A list of base kernel functions (e.g., [linear_kernel, periodic_kernel]).\n",
    "\n",
    "    Returns:\n",
    "        The negative log-marginal likelihood.\n",
    "    \"\"\"\n",
    "    # Use softplus to ensure positive hyperparameters where necessary\n",
    "    noise_variance = jax.nn.softplus(params[\"noise_variance_raw\"])\n",
    "\n",
    "    # Construct the combined kernel function with current hyperparameters\n",
    "    def current_combined_kernel(x1, x2):\n",
    "        K_sum = jnp.zeros((x1.shape[0], x2.shape[0]))\n",
    "        for i, k_func_name in enumerate(kernel_types):\n",
    "            k_params = params[\"kernel_params\"][i]\n",
    "\n",
    "            if k_func_name == \"linear_kernel\":\n",
    "                # c can be negative, sigma_b must be positive\n",
    "                K_sum += linear_kernel(\n",
    "                    x1,\n",
    "                    x2,\n",
    "                    c=k_params[\"c\"],\n",
    "                    sigma_b=jax.nn.softplus(k_params[\"sigma_b_raw\"]),\n",
    "                )\n",
    "            elif k_func_name == \"periodic_kernel\":\n",
    "                # sigma, lengthscale, period must be positive\n",
    "                K_sum += periodic_kernel(\n",
    "                    x1,\n",
    "                    x2,\n",
    "                    sigma=jax.nn.softplus(k_params[\"sigma_raw\"]),\n",
    "                    lengthscale=jax.nn.softplus(k_params[\"lengthscale_raw\"]),\n",
    "                    period=jax.nn.softplus(k_params[\"period_raw\"]),\n",
    "                )\n",
    "            elif k_func_name == \"squared_exponential_kernel\":\n",
    "                # sigma, lengthscale must be positive\n",
    "                K_sum += squared_exponential_kernel(\n",
    "                    x1,\n",
    "                    x2,\n",
    "                    sigma=jax.nn.softplus(k_params[\"sigma_raw\"]),\n",
    "                    lengthscale=jax.nn.softplus(k_params[\"lengthscale_raw\"]),\n",
    "                )\n",
    "            # Add more kernel types as needed\n",
    "        return K_sum\n",
    "\n",
    "    K_XX = current_combined_kernel(X_train, X_train)\n",
    "    K_XX_noisy = K_XX + noise_variance * jnp.eye(X_train.shape[0])\n",
    "\n",
    "    # Compute Cholesky decomposition for stable determinant and inverse\n",
    "    try:\n",
    "        L = cholesky(K_XX_noisy, lower=True)\n",
    "    except Exception as e:\n",
    "        # Handle cases where K_XX_noisy might not be positive definite (e.g., during bad hyperparams)\n",
    "        # Return a very large value to push optimizer away from this region\n",
    "        # print(f\"Cholesky decomposition failed: {e}. Returning large NLML.\") # Uncomment for debugging\n",
    "        return jnp.array(1e10)  # Return a large value to penalize invalid parameters\n",
    "\n",
    "    alpha = solve(L.T, solve(L, y_train - mean_func(X_train)))\n",
    "\n",
    "    # Log determinant using Cholesky factor: log|A| = 2 * sum(log(diag(L)))\n",
    "    log_det_K = 2.0 * jnp.sum(jnp.log(jnp.diag(L)))\n",
    "\n",
    "    # Negative Log-Marginal Likelihood (NLML)\n",
    "    nlml = (\n",
    "        0.5 * jnp.dot(y_train - mean_func(X_train), alpha)\n",
    "        + 0.5 * log_det_K\n",
    "        + 0.5 * X_train.shape[0] * jnp.log(2 * jnp.pi)\n",
    "    )\n",
    "\n",
    "    return nlml"
   ]
  },
  {
   "cell_type": "code",
   "execution_count": null,
   "id": "25bed140",
   "metadata": {},
   "outputs": [],
   "source": [
    "# --- Optimization Loop ---\n",
    "def optimize_hyperparameters(\n",
    "    X_train: jnp.ndarray,\n",
    "    y_train: jnp.ndarray,\n",
    "    mean_func: Callable[[jnp.ndarray], jnp.ndarray],\n",
    "    base_kernel_funcs: list[Callable],\n",
    "    initial_params: dict,\n",
    "    num_steps: int = 1000,\n",
    "    learning_rate: float = 0.01,\n",
    ") -> dict:\n",
    "    \"\"\"\n",
    "    Optimizes GP hyperparameters using gradient descent.\n",
    "\n",
    "    Args:\n",
    "        X_train: Training input points.\n",
    "        y_train: Training output values.\n",
    "        mean_func: Mean function.\n",
    "        base_kernel_funcs: A list of base kernel functions.\n",
    "        initial_params: Initial dictionary of hyperparameters.\n",
    "        num_steps: Number of optimization steps.\n",
    "        learning_rate: Learning rate for the optimizer.\n",
    "\n",
    "    Returns:\n",
    "        Optimized hyperparameters.\n",
    "    \"\"\"\n",
    "    optimizer = optax.adam(learning_rate)\n",
    "    kernel_types = initial_params.pop(\"kernel_types\")\n",
    "    opt_state = optimizer.init(initial_params)\n",
    "\n",
    "    # Define the loss function to be optimized\n",
    "    loss_fn = lambda params: negative_log_marginal_likelihood(\n",
    "        params, kernel_types, X_train, y_train, mean_func, base_kernel_funcs\n",
    "    )\n",
    "\n",
    "    # Get the gradient function using JAX's grad\n",
    "    loss_grad_fn = grad(loss_fn)\n",
    "\n",
    "    params = initial_params\n",
    "    losses = []\n",
    "\n",
    "    for step in range(num_steps):\n",
    "        loss_value = loss_fn(params)\n",
    "        losses.append(loss_value)\n",
    "\n",
    "        grads = loss_grad_fn(params)\n",
    "        updates, opt_state = optimizer.update(grads, opt_state, params)\n",
    "        params = optax.apply_updates(params, updates)\n",
    "\n",
    "        if step % 100 == 0:\n",
    "            print(f\"Step {step}, Loss: {loss_value:.4f}\")\n",
    "            # print(f\"Current params: {jax.tree_map(jax.nn.softplus, params)}\") # Uncomment to see positive values\n",
    "\n",
    "    print(f\"Final Loss: {loss_fn(params):.4f}\")\n",
    "    return params, losses\n"
   ]
  },
  {
   "cell_type": "code",
   "execution_count": 103,
   "id": "fef9b87c",
   "metadata": {},
   "outputs": [],
   "source": [
    "# Example usage with simulated Mauna Loa data:\n",
    "# (Requires X_sim, y_sim, linear_kernel, periodic_kernel, squared_exponential_kernel, zero_mean_func from above)\n",
    "\n",
    "# Define the base kernel functions to be used in the additive model\n",
    "# We'll use a linear kernel for the trend and a periodic kernel for seasonality\n",
    "base_kernels_for_optimization = (linear_kernel, periodic_kernel)\n",
    "kernel_type_names = (\"linear_kernel\", \"periodic_kernel\")  # Names to map to params\n",
    "\n",
    "# Initial hyperparameters (raw values for softplus)\n",
    "# Start with some reasonable initial guesses for the raw parameters\n",
    "initial_params = {\n",
    "    \"noise_variance_raw\": jnp.array(\n",
    "        jnp.log(jnp.exp(0.5**2) - 1.0)\n",
    "    ),  # Initial noise variance (e.g., 0.5^2)\n",
    "    \"kernel_types\": kernel_type_names,  # List of kernel names for lookup\n",
    "    \"kernel_params\": [\n",
    "        # Linear kernel params\n",
    "        {\n",
    "            \"c\": jnp.array(1958.0),\n",
    "            \"sigma_b_raw\": jnp.array(jnp.log(jnp.exp(0.01) - 1.0)),\n",
    "        },  # Initial slope variance (e.g., 0.01)\n",
    "        # Periodic kernel params\n",
    "        {\n",
    "            \"sigma_raw\": jnp.array(\n",
    "                jnp.log(jnp.exp(2.5) - 1.0)\n",
    "            ),  # Initial amplitude (e.g., 2.5)\n",
    "            \"lengthscale_raw\": jnp.array(\n",
    "                jnp.log(jnp.exp(0.5) - 1.0)\n",
    "            ),  # Initial lengthscale (e.g., 0.5)\n",
    "            \"period_raw\": jnp.array(jnp.log(jnp.exp(1.0) - 1.0)),\n",
    "        },  # Initial period (e.g., 1.0)\n",
    "    ],\n",
    "}\n"
   ]
  },
  {
   "cell_type": "code",
   "execution_count": 104,
   "id": "880937a7",
   "metadata": {},
   "outputs": [
    {
     "name": "stdout",
     "output_type": "stream",
     "text": [
      "Step 0, Loss: 42144.8984\n",
      "Step 100, Loss: 12721.4512\n",
      "Step 200, Loss: 7400.3374\n",
      "Step 300, Loss: 5400.9375\n",
      "Step 400, Loss: 4330.1328\n",
      "Step 500, Loss: 3649.0093\n",
      "Step 600, Loss: 3170.9727\n",
      "Step 700, Loss: 2813.5593\n",
      "Step 800, Loss: 2534.2937\n",
      "Step 900, Loss: 2308.9250\n",
      "Step 1000, Loss: 2122.4521\n",
      "Step 1100, Loss: 1965.2068\n",
      "Step 1200, Loss: 1830.4062\n",
      "Step 1300, Loss: 1713.3069\n",
      "Step 1400, Loss: 1610.4957\n",
      "Step 1500, Loss: 1519.4294\n",
      "Step 1600, Loss: 1437.7784\n",
      "Step 1700, Loss: 1365.2867\n",
      "Step 1800, Loss: 1297.8950\n",
      "Step 1900, Loss: 1237.5189\n",
      "Final Loss: 1181.9966\n"
     ]
    }
   ],
   "source": [
    "# Run optimization\n",
    "optimized_raw_params, losses = optimize_hyperparameters(\n",
    "    X_sim,\n",
    "    y_sim,\n",
    "    zero_mean_func,\n",
    "    base_kernels_for_optimization,\n",
    "    initial_params,\n",
    "    num_steps=2000,\n",
    "    learning_rate=0.01,\n",
    ")\n"
   ]
  },
  {
   "cell_type": "code",
   "execution_count": 109,
   "id": "c15128ab",
   "metadata": {},
   "outputs": [
    {
     "name": "stdout",
     "output_type": "stream",
     "text": [
      "\n",
      "Optimized Hyperparameters (positive values):\n",
      "{'noise_variance': Array(0.20302267, dtype=float32), 'kernel_params': [{'c': Array(1950.8862, dtype=float32), 'sigma_b': Array(0.16462138, dtype=float32)}, {'sigma': Array(7.023222, dtype=float32), 'lengthscale': Array(2.5246286, dtype=float32), 'period': Array(0.99984074, dtype=float32)}]}\n"
     ]
    }
   ],
   "source": [
    "# Convert raw optimized parameters back to their positive values for interpretation\n",
    "optimized_params = {\n",
    "    \"noise_variance\": jax.nn.softplus(optimized_raw_params[\"noise_variance_raw\"]),\n",
    "    \"kernel_params\": [],\n",
    "}\n",
    "for i, k_type in enumerate(kernel_type_names):\n",
    "    k_raw_params = optimized_raw_params[\"kernel_params\"][i]\n",
    "    if k_type == \"linear_kernel\":\n",
    "        optimized_params[\"kernel_params\"].append(\n",
    "            {\n",
    "                \"c\": k_raw_params[\"c\"],\n",
    "                \"sigma_b\": jax.nn.softplus(k_raw_params[\"sigma_b_raw\"]),\n",
    "            }\n",
    "        )\n",
    "    elif k_type == \"periodic_kernel\":\n",
    "        optimized_params[\"kernel_params\"].append(\n",
    "            {\n",
    "                \"sigma\": jax.nn.softplus(k_raw_params[\"sigma_raw\"]),\n",
    "                \"lengthscale\": jax.nn.softplus(k_raw_params[\"lengthscale_raw\"]),\n",
    "                \"period\": jax.nn.softplus(k_raw_params[\"period_raw\"]),\n",
    "            }\n",
    "        )\n",
    "    elif k_type == \"squared_exponential_kernel\":\n",
    "        optimized_params[\"kernel_params\"].append(\n",
    "            {\n",
    "                \"sigma\": jax.nn.softplus(k_raw_params[\"sigma_raw\"]),\n",
    "                \"lengthscale\": jax.nn.softplus(k_raw_params[\"lengthscale_raw\"]),\n",
    "            }\n",
    "        )\n",
    "\n",
    "print(\"\\nOptimized Hyperparameters (positive values):\")\n",
    "print(optimized_params)\n"
   ]
  },
  {
   "cell_type": "code",
   "execution_count": 115,
   "id": "0d149add",
   "metadata": {},
   "outputs": [
    {
     "data": {
      "application/vnd.plotly.v1+json": {
       "config": {
        "plotlyServerURL": "https://plot.ly"
       },
       "data": [
        {
         "mode": "lines",
         "name": "NLML",
         "type": "scatter",
         "y": [
          42144.8984375,
          42482.2734375,
          40875.265625,
          40421.578125,
          40135.41796875,
          39399.0078125,
          38435.45703125,
          37606.1875,
          37134.6953125,
          36733.38671875,
          36147.67578125,
          35420.6796875,
          34732.03515625,
          34204.9375,
          33776.12890625,
          33305.7421875,
          32752.658203125,
          32163.8046875,
          31626.779296875,
          31178.103515625,
          30765.126953125,
          30320.060546875,
          29831.76953125,
          29346.90234375,
          28908.08203125,
          28515.806640625,
          28130.423828125,
          27721.89453125,
          27299.791015625,
          26896.4609375,
          26527.19140625,
          26177.0859375,
          25823.54296875,
          25459.646484375,
          25099.34765625,
          24758.0625,
          24437.2265625,
          24123.17578125,
          23804.42578125,
          23485.26953125,
          23177.748046875,
          22885.537109375,
          22601.8515625,
          22318.841796875,
          22036.138671875,
          21759.90234375,
          21494.615234375,
          21238.1328125,
          20984.515625,
          20732.021484375,
          20484.400390625,
          20245.0625,
          20012.748046875,
          19784.01953125,
          19557.3984375,
          19334.87109375,
          19118.599609375,
          18908.20703125,
          18701.314453125,
          18496.9375,
          18296.265625,
          18100.755859375,
          17909.92578125,
          17722.263671875,
          17537.26171875,
          17355.80078125,
          17178.56640625,
          17005.13671875,
          16834.576171875,
          16666.642578125,
          16501.99609375,
          16340.9296875,
          16182.9912109375,
          16027.595703125,
          15874.7783203125,
          15724.94921875,
          15578.13671875,
          15433.9384765625,
          15292.0439453125,
          15152.6455078125,
          15015.8857421875,
          14881.6943359375,
          14749.7314453125,
          14619.9296875,
          14492.4384765625,
          14367.255859375,
          14244.234375,
          14123.2216796875,
          14004.22265625,
          13887.2890625,
          13772.384765625,
          13659.34765625,
          13548.1142578125,
          13438.7666015625,
          13331.23046875,
          13225.4677734375,
          13121.3720703125,
          13018.931640625,
          12918.1708984375,
          12819.04296875,
          12721.451171875,
          12625.376953125,
          12530.8212890625,
          12437.75390625,
          12346.1181640625,
          12255.8837890625,
          12167.01953125,
          12079.53125,
          11993.34765625,
          11908.466796875,
          11824.8466796875,
          11742.466796875,
          11661.3154296875,
          11581.3369140625,
          11502.5341796875,
          11424.8740234375,
          11348.341796875,
          11272.8955078125,
          11198.5234375,
          11125.201171875,
          11052.921875,
          10981.6474609375,
          10911.375,
          10842.0615234375,
          10773.7158203125,
          10706.2939453125,
          10639.7919921875,
          10574.1923828125,
          10509.466796875,
          10445.6162109375,
          10382.603515625,
          10320.4248046875,
          10259.0712890625,
          10198.5126953125,
          10138.724609375,
          10079.7314453125,
          10021.486328125,
          9963.982421875,
          9907.2109375,
          9851.154296875,
          9795.794921875,
          9741.1337890625,
          9687.1494140625,
          9633.8291015625,
          9581.1650390625,
          9529.1298828125,
          9477.734375,
          9426.962890625,
          9376.787109375,
          9327.2158203125,
          9278.2255859375,
          9229.8232421875,
          9181.984375,
          9134.701171875,
          9087.9658203125,
          9041.76953125,
          8996.1005859375,
          8950.951171875,
          8906.30859375,
          8862.171875,
          8818.52734375,
          8775.3779296875,
          8732.703125,
          8690.5087890625,
          8648.7626953125,
          8607.4736328125,
          8566.63671875,
          8526.2333984375,
          8486.2646484375,
          8446.7236328125,
          8407.59375,
          8368.890625,
          8330.595703125,
          8292.69921875,
          8255.1904296875,
          8218.0732421875,
          8181.337890625,
          8144.96875,
          8108.978515625,
          8073.3525390625,
          8038.08154296875,
          8003.16162109375,
          7968.5888671875,
          7934.35986328125,
          7900.478515625,
          7866.92578125,
          7833.69140625,
          7800.79345703125,
          7768.19970703125,
          7735.92822265625,
          7703.96240234375,
          7672.30126953125,
          7640.9404296875,
          7609.87744140625,
          7579.1005859375,
          7548.6142578125,
          7518.4033203125,
          7488.47802734375,
          7458.82080078125,
          7429.44384765625,
          7400.33740234375,
          7371.4921875,
          7342.90673828125,
          7314.57861328125,
          7286.50732421875,
          7258.67919921875,
          7231.0869140625,
          7203.75,
          7176.65380859375,
          7149.783203125,
          7123.1552734375,
          7096.7568359375,
          7070.58251953125,
          7044.62548828125,
          7018.89501953125,
          6993.38232421875,
          6968.08935546875,
          6943.013671875,
          6918.1376953125,
          6893.4775390625,
          6869.00732421875,
          6844.76025390625,
          6820.68701171875,
          6796.833984375,
          6773.15869140625,
          6749.67919921875,
          6726.396484375,
          6703.2939453125,
          6680.375,
          6657.63232421875,
          6635.07861328125,
          6612.697265625,
          6590.49853515625,
          6568.46826171875,
          6546.61083984375,
          6524.927734375,
          6503.408203125,
          6482.05322265625,
          6460.86328125,
          6439.8330078125,
          6418.97021484375,
          6398.26025390625,
          6377.7060546875,
          6357.302734375,
          6337.052734375,
          6316.95361328125,
          6297.00244140625,
          6277.19482421875,
          6257.5400390625,
          6238.02294921875,
          6218.6484375,
          6199.41455078125,
          6180.3173828125,
          6161.36083984375,
          6142.53759765625,
          6123.84716796875,
          6105.29345703125,
          6086.86474609375,
          6068.57177734375,
          6050.40625,
          6032.37158203125,
          6014.458984375,
          5996.669921875,
          5979.005859375,
          5961.4638671875,
          5944.0380859375,
          5926.7333984375,
          5909.54443359375,
          5892.4716796875,
          5875.51806640625,
          5858.6728515625,
          5841.947265625,
          5825.3251953125,
          5808.8173828125,
          5792.4189453125,
          5776.1279296875,
          5759.94189453125,
          5743.86328125,
          5727.88525390625,
          5712.013671875,
          5696.24853515625,
          5680.57373046875,
          5665.0078125,
          5649.54296875,
          5634.17822265625,
          5618.90576171875,
          5603.73095703125,
          5588.650390625,
          5573.673828125,
          5558.77978515625,
          5543.9873046875,
          5529.283203125,
          5514.67919921875,
          5500.15234375,
          5485.7177734375,
          5471.3701171875,
          5457.11572265625,
          5442.94873046875,
          5428.857421875,
          5414.85546875,
          5400.9375,
          5387.107421875,
          5373.3544921875,
          5359.68408203125,
          5346.09716796875,
          5332.59375,
          5319.166015625,
          5305.810546875,
          5292.53759765625,
          5279.34375,
          5266.22412109375,
          5253.18310546875,
          5240.2138671875,
          5227.32177734375,
          5214.50146484375,
          5201.7548828125,
          5189.08203125,
          5176.4814453125,
          5163.95068359375,
          5151.4853515625,
          5139.095703125,
          5126.77978515625,
          5114.52392578125,
          5102.34912109375,
          5090.22900390625,
          5078.189453125,
          5066.208984375,
          5054.29345703125,
          5042.4375,
          5030.6572265625,
          5018.93701171875,
          5007.27587890625,
          4995.6767578125,
          4984.15185546875,
          4972.6728515625,
          4961.2666015625,
          4949.9189453125,
          4938.630859375,
          4927.40283203125,
          4916.23095703125,
          4905.1201171875,
          4894.0625,
          4883.072265625,
          4872.13330078125,
          4861.25244140625,
          4850.42822265625,
          4839.6611328125,
          4828.9482421875,
          4818.2861328125,
          4807.681640625,
          4797.13330078125,
          4786.63525390625,
          4776.19482421875,
          4765.80517578125,
          4755.46484375,
          4745.173828125,
          4734.9423828125,
          4724.75927734375,
          4714.62646484375,
          4704.53759765625,
          4694.5087890625,
          4684.52685546875,
          4674.5927734375,
          4664.708984375,
          4654.8759765625,
          4645.0888671875,
          4635.34765625,
          4625.6611328125,
          4616.01708984375,
          4606.42041015625,
          4596.86328125,
          4587.35791015625,
          4577.8974609375,
          4568.486328125,
          4559.11767578125,
          4549.79150390625,
          4540.509765625,
          4531.27001953125,
          4522.06982421875,
          4512.92138671875,
          4503.8154296875,
          4494.74267578125,
          4485.7177734375,
          4476.73681640625,
          4467.79150390625,
          4458.89599609375,
          4450.03662109375,
          4441.21826171875,
          4432.43798828125,
          4423.7041015625,
          4415.00146484375,
          4406.34326171875,
          4397.72412109375,
          4389.14208984375,
          4380.59423828125,
          4372.09326171875,
          4363.62646484375,
          4355.19482421875,
          4346.8046875,
          4338.447265625,
          4330.1328125,
          4321.8515625,
          4313.60791015625,
          4305.40283203125,
          4297.22998046875,
          4289.0927734375,
          4280.98828125,
          4272.927734375,
          4264.89599609375,
          4256.89306640625,
          4248.93505859375,
          4241.0087890625,
          4233.11572265625,
          4225.25048828125,
          4217.42236328125,
          4209.63623046875,
          4201.8720703125,
          4194.150390625,
          4186.45361328125,
          4178.79931640625,
          4171.17138671875,
          4163.57568359375,
          4156.01220703125,
          4148.4765625,
          4140.9794921875,
          4133.5087890625,
          4126.06982421875,
          4118.6630859375,
          4111.28466796875,
          4103.93896484375,
          4096.6181640625,
          4089.33251953125,
          4082.076416015625,
          4074.847900390625,
          4067.64697265625,
          4060.482177734375,
          4053.337158203125,
          4046.226318359375,
          4039.14111328125,
          4032.093017578125,
          4025.06005859375,
          4018.062255859375,
          4011.090087890625,
          4004.153076171875,
          3997.2265625,
          3990.343994140625,
          3983.47900390625,
          3976.643310546875,
          3969.83642578125,
          3963.056884765625,
          3956.30126953125,
          3949.57275390625,
          3942.8701171875,
          3936.1982421875,
          3929.54296875,
          3922.918212890625,
          3916.32421875,
          3909.743896484375,
          3903.194091796875,
          3896.67236328125,
          3890.171142578125,
          3883.70166015625,
          3877.2509765625,
          3870.817626953125,
          3864.421630859375,
          3858.045654296875,
          3851.692138671875,
          3845.357421875,
          3839.053466796875,
          3832.777099609375,
          3826.516357421875,
          3820.278564453125,
          3814.06494140625,
          3807.87744140625,
          3801.706787109375,
          3795.565185546875,
          3789.444580078125,
          3783.342529296875,
          3777.27099609375,
          3771.21923828125,
          3765.17919921875,
          3759.169677734375,
          3753.18310546875,
          3747.21533203125,
          3741.2685546875,
          3735.344970703125,
          3729.445068359375,
          3723.56982421875,
          3717.701171875,
          3711.86181640625,
          3706.05078125,
          3700.255859375,
          3694.477294921875,
          3688.726318359375,
          3682.996337890625,
          3677.281005859375,
          3671.584716796875,
          3665.91552734375,
          3660.256103515625,
          3654.620849609375,
          3649.00927734375,
          3643.414794921875,
          3637.843994140625,
          3632.284912109375,
          3626.7431640625,
          3621.22998046875,
          3615.732421875,
          3610.247314453125,
          3604.786376953125,
          3599.346435546875,
          3593.924072265625,
          3588.522216796875,
          3583.126708984375,
          3577.76123046875,
          3572.4130859375,
          3567.0810546875,
          3561.7685546875,
          3556.464111328125,
          3551.190185546875,
          3545.927734375,
          3540.68408203125,
          3535.45654296875,
          3530.251708984375,
          3525.061279296875,
          3519.8896484375,
          3514.728271484375,
          3509.587890625,
          3504.466552734375,
          3499.35888671875,
          3494.26953125,
          3489.1982421875,
          3484.144287109375,
          3479.101806640625,
          3474.0810546875,
          3469.075927734375,
          3464.08544921875,
          3459.112060546875,
          3454.156005859375,
          3449.209228515625,
          3444.284912109375,
          3439.376708984375,
          3434.4775390625,
          3429.6005859375,
          3424.737548828125,
          3419.887939453125,
          3415.05712890625,
          3410.240478515625,
          3405.437255859375,
          3400.6513671875,
          3395.880859375,
          3391.122802734375,
          3386.382080078125,
          3381.657470703125,
          3376.943359375,
          3372.2470703125,
          3367.564453125,
          3362.898193359375,
          3358.243896484375,
          3353.606689453125,
          3348.978759765625,
          3344.368408203125,
          3339.773193359375,
          3335.191162109375,
          3330.628662109375,
          3326.0673828125,
          3321.531494140625,
          3317.010009765625,
          3312.49072265625,
          3307.991943359375,
          3303.510498046875,
          3299.042724609375,
          3294.58154296875,
          3290.142578125,
          3285.710205078125,
          3281.29345703125,
          3276.887939453125,
          3272.492919921875,
          3268.123779296875,
          3263.755859375,
          3259.406494140625,
          3255.061279296875,
          3250.735595703125,
          3246.426025390625,
          3242.127197265625,
          3237.841552734375,
          3233.566162109375,
          3229.30419921875,
          3225.063232421875,
          3220.83056640625,
          3216.610595703125,
          3212.3974609375,
          3208.196533203125,
          3204.015869140625,
          3199.845458984375,
          3195.677734375,
          3191.52197265625,
          3187.397705078125,
          3183.271240234375,
          3179.148193359375,
          3175.057373046875,
          3170.97265625,
          3166.893798828125,
          3162.828857421875,
          3158.77587890625,
          3154.72998046875,
          3150.69873046875,
          3146.678955078125,
          3142.679931640625,
          3138.6748046875,
          3134.687255859375,
          3130.71484375,
          3126.755615234375,
          3122.8046875,
          3118.86181640625,
          3114.93310546875,
          3111.018798828125,
          3107.1044921875,
          3103.2099609375,
          3099.314208984375,
          3095.458251953125,
          3091.586181640625,
          3087.73193359375,
          3083.890625,
          3080.061279296875,
          3076.233154296875,
          3072.428466796875,
          3068.628173828125,
          3064.828857421875,
          3061.0517578125,
          3057.289794921875,
          3053.522216796875,
          3049.779052734375,
          3046.03271484375,
          3042.311279296875,
          3038.592529296875,
          3034.879638671875,
          3031.17919921875,
          3027.49658203125,
          3023.82958984375,
          3020.1396484375,
          3016.494873046875,
          3012.838134765625,
          3009.2080078125,
          3005.576904296875,
          3001.957763671875,
          2998.3388671875,
          2994.751953125,
          2991.15283203125,
          2987.576904296875,
          2984.00341796875,
          2980.437744140625,
          2976.88525390625,
          2973.345947265625,
          2969.807373046875,
          2966.292724609375,
          2962.7666015625,
          2959.263916015625,
          2955.75634765625,
          2952.2890625,
          2948.798095703125,
          2945.323486328125,
          2941.87451171875,
          2938.407470703125,
          2934.971923828125,
          2931.543212890625,
          2928.111083984375,
          2924.696044921875,
          2921.29052734375,
          2917.895751953125,
          2914.498291015625,
          2911.1220703125,
          2907.748291015625,
          2904.388916015625,
          2901.040283203125,
          2897.68505859375,
          2894.341064453125,
          2891.010986328125,
          2887.689453125,
          2884.3779296875,
          2881.0732421875,
          2877.774169921875,
          2874.4833984375,
          2871.21044921875,
          2867.935302734375,
          2864.67041015625,
          2861.418212890625,
          2858.159912109375,
          2854.93359375,
          2851.697509765625,
          2848.476318359375,
          2845.269287109375,
          2842.0595703125,
          2838.853271484375,
          2835.656494140625,
          2832.4892578125,
          2829.2978515625,
          2826.147216796875,
          2822.978515625,
          2819.82568359375,
          2816.68896484375,
          2813.559326171875,
          2810.416015625,
          2807.2958984375,
          2804.189453125,
          2801.08349609375,
          2797.978759765625,
          2794.8857421875,
          2791.8037109375,
          2788.727294921875,
          2785.657470703125,
          2782.60400390625,
          2779.5556640625,
          2776.502197265625,
          2773.456298828125,
          2770.43359375,
          2767.40087890625,
          2764.38232421875,
          2761.3740234375,
          2758.372314453125,
          2755.382568359375,
          2752.391845703125,
          2749.405517578125,
          2746.421630859375,
          2743.476318359375,
          2740.491943359375,
          2737.5390625,
          2734.614990234375,
          2731.674072265625,
          2728.72021484375,
          2725.81787109375,
          2722.897216796875,
          2719.98681640625,
          2717.084228515625,
          2714.164794921875,
          2711.297119140625,
          2708.408203125,
          2705.516845703125,
          2702.65673828125,
          2699.801025390625,
          2696.947509765625,
          2694.098876953125,
          2691.255615234375,
          2688.418701171875,
          2685.58642578125,
          2682.75439453125,
          2679.93994140625,
          2677.130126953125,
          2674.319580078125,
          2671.526123046875,
          2668.73779296875,
          2665.957275390625,
          2663.166748046875,
          2660.390625,
          2657.618896484375,
          2654.86572265625,
          2652.112548828125,
          2649.369873046875,
          2646.6279296875,
          2643.89501953125,
          2641.172607421875,
          2638.435791015625,
          2635.72802734375,
          2633.007080078125,
          2630.303955078125,
          2627.60693359375,
          2624.92138671875,
          2622.239501953125,
          2619.545654296875,
          2616.869384765625,
          2614.201171875,
          2611.541015625,
          2608.890625,
          2606.2294921875,
          2603.581787109375,
          2600.9462890625,
          2598.313232421875,
          2595.685302734375,
          2593.0693359375,
          2590.45703125,
          2587.828125,
          2585.232666015625,
          2582.640380859375,
          2580.045166015625,
          2577.447021484375,
          2574.8671875,
          2572.2890625,
          2569.72900390625,
          2567.158447265625,
          2564.60107421875,
          2562.0419921875,
          2559.4892578125,
          2556.951904296875,
          2554.420654296875,
          2551.874267578125,
          2549.36083984375,
          2546.837890625,
          2544.313232421875,
          2541.795654296875,
          2539.2958984375,
          2536.804931640625,
          2534.293701171875,
          2531.82275390625,
          2529.33056640625,
          2526.8427734375,
          2524.376220703125,
          2521.908447265625,
          2519.45068359375,
          2516.994384765625,
          2514.542236328125,
          2512.07958984375,
          2509.638427734375,
          2507.209716796875,
          2504.787353515625,
          2502.3505859375,
          2499.936767578125,
          2497.51220703125,
          2495.091552734375,
          2492.694091796875,
          2490.2978515625,
          2487.89599609375,
          2485.515625,
          2483.114501953125,
          2480.73779296875,
          2478.36962890625,
          2475.982666015625,
          2473.6298828125,
          2471.26123046875,
          2468.904052734375,
          2466.54150390625,
          2464.192138671875,
          2461.86083984375,
          2459.51708984375,
          2457.18115234375,
          2454.85693359375,
          2452.53515625,
          2450.2158203125,
          2447.907470703125,
          2445.590087890625,
          2443.287353515625,
          2440.97705078125,
          2438.691162109375,
          2436.39794921875,
          2434.1162109375,
          2431.8232421875,
          2429.555908203125,
          2427.272216796875,
          2425.004638671875,
          2422.747314453125,
          2420.48681640625,
          2418.228759765625,
          2415.97802734375,
          2413.73828125,
          2411.482177734375,
          2409.255859375,
          2407.025390625,
          2404.79638671875,
          2402.573486328125,
          2400.352294921875,
          2398.12890625,
          2395.927978515625,
          2393.723876953125,
          2391.529541015625,
          2389.329833984375,
          2387.133056640625,
          2384.9482421875,
          2382.759765625,
          2380.58349609375,
          2378.41162109375,
          2376.23779296875,
          2374.0693359375,
          2371.9033203125,
          2369.74609375,
          2367.58984375,
          2365.4423828125,
          2363.29150390625,
          2361.160888671875,
          2359.013671875,
          2356.880126953125,
          2354.761962890625,
          2352.636474609375,
          2350.51318359375,
          2348.386474609375,
          2346.281005859375,
          2344.17431640625,
          2342.061767578125,
          2339.970703125,
          2337.871826171875,
          2335.776123046875,
          2333.68115234375,
          2331.597900390625,
          2329.507568359375,
          2327.44677734375,
          2325.37255859375,
          2323.29541015625,
          2321.232177734375,
          2319.17041015625,
          2317.111572265625,
          2315.0693359375,
          2313.017822265625,
          2310.965576171875,
          2308.925048828125,
          2306.8759765625,
          2304.861083984375,
          2302.822021484375,
          2300.799072265625,
          2298.783203125,
          2296.763427734375,
          2294.746337890625,
          2292.727294921875,
          2290.72119140625,
          2288.725830078125,
          2286.726806640625,
          2284.726318359375,
          2282.72802734375,
          2280.74853515625,
          2278.7626953125,
          2276.770263671875,
          2274.796875,
          2272.822265625,
          2270.857177734375,
          2268.890869140625,
          2266.929931640625,
          2264.96728515625,
          2263.00537109375,
          2261.06201171875,
          2259.1142578125,
          2257.1572265625,
          2255.225341796875,
          2253.281982421875,
          2251.342041015625,
          2249.420166015625,
          2247.482421875,
          2245.560302734375,
          2243.6474609375,
          2241.72021484375,
          2239.806884765625,
          2237.901611328125,
          2235.9970703125,
          2234.09765625,
          2232.19189453125,
          2230.290283203125,
          2228.406494140625,
          2226.512939453125,
          2224.626953125,
          2222.744873046875,
          2220.868896484375,
          2218.984375,
          2217.12255859375,
          2215.24169921875,
          2213.376953125,
          2211.51220703125,
          2209.654296875,
          2207.799072265625,
          2205.955810546875,
          2204.096435546875,
          2202.24951171875,
          2200.410400390625,
          2198.577392578125,
          2196.739013671875,
          2194.895751953125,
          2193.08251953125,
          2191.240478515625,
          2189.416015625,
          2187.59765625,
          2185.77734375,
          2183.97021484375,
          2182.157470703125,
          2180.35693359375,
          2178.548828125,
          2176.739013671875,
          2174.95166015625,
          2173.153076171875,
          2171.3671875,
          2169.573974609375,
          2167.78369140625,
          2165.998046875,
          2164.225341796875,
          2162.446044921875,
          2160.673828125,
          2158.913330078125,
          2157.144287109375,
          2155.3720703125,
          2153.621826171875,
          2151.85107421875,
          2150.09716796875,
          2148.3564453125,
          2146.59765625,
          2144.8525390625,
          2143.111572265625,
          2141.377685546875,
          2139.636962890625,
          2137.89697265625,
          2136.171875,
          2134.44384765625,
          2132.729736328125,
          2131.005859375,
          2129.291748046875,
          2127.572265625,
          2125.864013671875,
          2124.15576171875,
          2122.4521484375,
          2120.73486328125,
          2119.048583984375,
          2117.3525390625,
          2115.644775390625,
          2113.957275390625,
          2112.2646484375,
          2110.573486328125,
          2108.89599609375,
          2107.228759765625,
          2105.53857421875,
          2103.859130859375,
          2102.19140625,
          2100.5322265625,
          2098.861083984375,
          2097.194091796875,
          2095.52978515625,
          2093.8779296875,
          2092.21923828125,
          2090.56982421875,
          2088.927978515625,
          2087.275634765625,
          2085.624755859375,
          2083.9873046875,
          2082.34619140625,
          2080.71142578125,
          2079.0791015625,
          2077.45263671875,
          2075.826171875,
          2074.189697265625,
          2072.565673828125,
          2070.9580078125,
          2069.337646484375,
          2067.723388671875,
          2066.1123046875,
          2064.492431640625,
          2062.894287109375,
          2061.291259765625,
          2059.681640625,
          2058.084228515625,
          2056.491455078125,
          2054.897705078125,
          2053.306884765625,
          2051.708740234375,
          2050.12939453125,
          2048.55078125,
          2046.9735107421875,
          2045.3787841796875,
          2043.8095703125,
          2042.2384033203125,
          2040.6710205078125,
          2039.0911865234375,
          2037.529052734375,
          2035.9654541015625,
          2034.4022216796875,
          2032.8427734375,
          2031.28564453125,
          2029.749755859375,
          2028.1884765625,
          2026.631103515625,
          2025.0936279296875,
          2023.551513671875,
          2022.0079345703125,
          2020.4627685546875,
          2018.929443359375,
          2017.4044189453125,
          2015.8629150390625,
          2014.342041015625,
          2012.8114013671875,
          2011.2933349609375,
          2009.775390625,
          2008.247314453125,
          2006.73095703125,
          2005.2149658203125,
          2003.701904296875,
          2002.1885986328125,
          2000.6810302734375,
          1999.1788330078125,
          1997.681884765625,
          1996.1778564453125,
          1994.6763916015625,
          1993.1905517578125,
          1991.6912841796875,
          1990.20947265625,
          1988.727783203125,
          1987.2373046875,
          1985.7476806640625,
          1984.25927734375,
          1982.79052734375,
          1981.302978515625,
          1979.8291015625,
          1978.367919921875,
          1976.89208984375,
          1975.4188232421875,
          1973.9560546875,
          1972.505126953125,
          1971.0384521484375,
          1969.5811767578125,
          1968.1162109375,
          1966.6624755859375,
          1965.206787109375,
          1963.7568359375,
          1962.318115234375,
          1960.875,
          1959.432373046875,
          1957.98974609375,
          1956.5400390625,
          1955.1131591796875,
          1953.6820068359375,
          1952.2371826171875,
          1950.8074951171875,
          1949.389404296875,
          1947.964111328125,
          1946.540283203125,
          1945.1158447265625,
          1943.7022705078125,
          1942.288818359375,
          1940.867431640625,
          1939.4578857421875,
          1938.0462646484375,
          1936.6416015625,
          1935.22314453125,
          1933.82275390625,
          1932.423583984375,
          1931.013427734375,
          1929.6214599609375,
          1928.22314453125,
          1926.826904296875,
          1925.437255859375,
          1924.043701171875,
          1922.663818359375,
          1921.273681640625,
          1919.8848876953125,
          1918.511474609375,
          1917.12646484375,
          1915.756103515625,
          1914.386962890625,
          1913.00146484375,
          1911.6466064453125,
          1910.265625,
          1908.885986328125,
          1907.52783203125,
          1906.16943359375,
          1904.8043212890625,
          1903.441162109375,
          1902.099609375,
          1900.7349853515625,
          1899.377197265625,
          1898.0323486328125,
          1896.6851806640625,
          1895.3331298828125,
          1893.9951171875,
          1892.652587890625,
          1891.3035888671875,
          1889.9703369140625,
          1888.62646484375,
          1887.3004150390625,
          1885.959228515625,
          1884.6307373046875,
          1883.3050537109375,
          1881.9783935546875,
          1880.650146484375,
          1879.324462890625,
          1878.0086669921875,
          1876.68505859375,
          1875.3621826171875,
          1874.0567626953125,
          1872.7354736328125,
          1871.421142578125,
          1870.1141357421875,
          1868.807373046875,
          1867.4974365234375,
          1866.199951171875,
          1864.88232421875,
          1863.5966796875,
          1862.2913818359375,
          1860.992919921875,
          1859.705810546875,
          1858.4019775390625,
          1857.1134033203125,
          1855.832763671875,
          1854.53662109375,
          1853.2513427734375,
          1851.965087890625,
          1850.6851806640625,
          1849.39892578125,
          1848.1279296875,
          1846.8486328125,
          1845.5706787109375,
          1844.2987060546875,
          1843.021240234375,
          1841.7637939453125,
          1840.487548828125,
          1839.22119140625,
          1837.9505615234375,
          1836.690673828125,
          1835.4317626953125,
          1834.178466796875,
          1832.91650390625,
          1831.6656494140625,
          1830.40625,
          1829.154052734375,
          1827.9058837890625,
          1826.652587890625,
          1825.4205322265625,
          1824.169677734375,
          1822.924560546875,
          1821.6800537109375,
          1820.4398193359375,
          1819.20263671875,
          1817.9697265625,
          1816.736328125,
          1815.5068359375,
          1814.26953125,
          1813.035400390625,
          1811.8154296875,
          1810.5927734375,
          1809.3607177734375,
          1808.1380615234375,
          1806.9166259765625,
          1805.703857421875,
          1804.476806640625,
          1803.2664794921875,
          1802.056396484375,
          1800.833984375,
          1799.619873046875,
          1798.412109375,
          1797.216552734375,
          1796.011474609375,
          1794.802490234375,
          1793.593017578125,
          1792.39306640625,
          1791.195556640625,
          1790.004638671875,
          1788.7950439453125,
          1787.6090087890625,
          1786.4195556640625,
          1785.2216796875,
          1784.0379638671875,
          1782.850830078125,
          1781.6602783203125,
          1780.4764404296875,
          1779.3021240234375,
          1778.11181640625,
          1776.9322509765625,
          1775.75830078125,
          1774.5758056640625,
          1773.4007568359375,
          1772.2318115234375,
          1771.0599365234375,
          1769.8837890625,
          1768.7164306640625,
          1767.5518798828125,
          1766.3868408203125,
          1765.217529296875,
          1764.0654296875,
          1762.89013671875,
          1761.7435302734375,
          1760.573974609375,
          1759.42626953125,
          1758.265625,
          1757.118408203125,
          1755.9625244140625,
          1754.822998046875,
          1753.6636962890625,
          1752.5157470703125,
          1751.37109375,
          1750.23095703125,
          1749.08984375,
          1747.9473876953125,
          1746.803955078125,
          1745.669677734375,
          1744.530029296875,
          1743.3958740234375,
          1742.267578125,
          1741.12841796875,
          1739.995849609375,
          1738.86572265625,
          1737.7510986328125,
          1736.619140625,
          1735.5030517578125,
          1734.375244140625,
          1733.2486572265625,
          1732.1300048828125,
          1731.01171875,
          1729.89501953125,
          1728.78076171875,
          1727.6572265625,
          1726.5589599609375,
          1725.440673828125,
          1724.333984375,
          1723.2274169921875,
          1722.116943359375,
          1721.0120849609375,
          1719.911376953125,
          1718.80517578125,
          1717.6993408203125,
          1716.610107421875,
          1715.4908447265625,
          1714.4039306640625,
          1713.306884765625,
          1712.214111328125,
          1711.1260986328125,
          1710.0308837890625,
          1708.946533203125,
          1707.852294921875,
          1706.765380859375,
          1705.684326171875,
          1704.6029052734375,
          1703.522216796875,
          1702.436279296875,
          1701.3543701171875,
          1700.28515625,
          1699.19775390625,
          1698.13525390625,
          1697.0673828125,
          1696.0048828125,
          1694.9298095703125,
          1693.8787841796875,
          1692.8050537109375,
          1691.773193359375,
          1690.7391357421875,
          1689.703125,
          1688.718994140625,
          1687.7630615234375,
          1686.8204345703125,
          1685.9901123046875,
          1685.25341796875,
          1684.6729736328125,
          1684.3524169921875,
          1684.377685546875,
          1684.9034423828125,
          1686.1065673828125,
          1688.032958984375,
          1690.74951171875,
          1693.3558349609375,
          1695.0177001953125,
          1693.1826171875,
          1687.5711669921875,
          1679.0531005859375,
          1672.010498046875,
          1669.7886962890625,
          1671.8265380859375,
          1674.4228515625,
          1673.90380859375,
          1670.0272216796875,
          1665.502197265625,
          1663.45068359375,
          1664.0970458984375,
          1664.96142578125,
          1663.8260498046875,
          1660.923583984375,
          1658.378173828125,
          1657.596435546875,
          1657.795654296875,
          1657.337646484375,
          1655.5692138671875,
          1653.4609375,
          1652.179931640625,
          1651.76806640625,
          1651.3155517578125,
          1650.1015625,
          1648.44091796875,
          1647.0726318359375,
          1646.2783203125,
          1645.6629638671875,
          1644.696533203125,
          1643.373046875,
          1642.0687255859375,
          1641.0755615234375,
          1640.3046875,
          1639.427734375,
          1638.3211669921875,
          1637.1136474609375,
          1636.02587890625,
          1635.104736328125,
          1634.22900390625,
          1633.265869140625,
          1632.1837158203125,
          1631.06884765625,
          1630.0675048828125,
          1629.14208984375,
          1628.208251953125,
          1627.2249755859375,
          1626.179443359375,
          1625.123046875,
          1624.1395263671875,
          1623.1956787109375,
          1622.2484130859375,
          1621.2630615234375,
          1620.2567138671875,
          1619.248046875,
          1618.2567138671875,
          1617.2957763671875,
          1616.3509521484375,
          1615.3740234375,
          1614.3909912109375,
          1613.39794921875,
          1612.41552734375,
          1611.4464111328125,
          1610.4957275390625,
          1609.537841796875,
          1608.5726318359375,
          1607.5919189453125,
          1606.6221923828125,
          1605.6636962890625,
          1604.708251953125,
          1603.7430419921875,
          1602.7991943359375,
          1601.841552734375,
          1600.8800048828125,
          1599.910888671875,
          1598.96630859375,
          1598.013427734375,
          1597.05810546875,
          1596.1246337890625,
          1595.1661376953125,
          1594.2247314453125,
          1593.2667236328125,
          1592.3189697265625,
          1591.379150390625,
          1590.432373046875,
          1589.4940185546875,
          1588.548095703125,
          1587.607421875,
          1586.672119140625,
          1585.7418212890625,
          1584.8016357421875,
          1583.864501953125,
          1582.9241943359375,
          1581.9864501953125,
          1581.0631103515625,
          1580.135498046875,
          1579.203369140625,
          1578.273681640625,
          1577.3443603515625,
          1576.415283203125,
          1575.49072265625,
          1574.5599365234375,
          1573.6429443359375,
          1572.7269287109375,
          1571.79638671875,
          1570.880859375,
          1569.9571533203125,
          1569.04345703125,
          1568.128662109375,
          1567.1986083984375,
          1566.303955078125,
          1565.37841796875,
          1564.4647216796875,
          1563.5595703125,
          1562.6451416015625,
          1561.7333984375,
          1560.824951171875,
          1559.9146728515625,
          1559.0166015625,
          1558.1094970703125,
          1557.204345703125,
          1556.3074951171875,
          1555.40771484375,
          1554.4979248046875,
          1553.5975341796875,
          1552.697265625,
          1551.80712890625,
          1550.9033203125,
          1550.01611328125,
          1549.1160888671875,
          1548.2291259765625,
          1547.3363037109375,
          1546.45166015625,
          1545.5589599609375,
          1544.669677734375,
          1543.7958984375,
          1542.919677734375,
          1542.0494384765625,
          1541.1947021484375,
          1540.3443603515625,
          1539.5185546875,
          1538.725341796875,
          1537.980712890625,
          1537.3043212890625,
          1536.7535400390625,
          1536.3797607421875,
          1536.318603515625,
          1536.6846923828125,
          1537.748046875,
          1539.719970703125,
          1542.960693359375,
          1547.1973876953125,
          1552.16845703125,
          1555.0025634765625,
          1553.6416015625,
          1544.7017822265625,
          1532.7786865234375,
          1524.8994140625,
          1525.5167236328125,
          1530.7373046875,
          1532.884765625,
          1528.76025390625,
          1522.1015625,
          1519.429443359375,
          1521.5919189453125,
          1523.4423828125,
          1521.21630859375,
          1516.9771728515625,
          1515.1571044921875,
          1516.287109375,
          1516.795654296875,
          1514.69580078125,
          1511.934326171875,
          1511.070556640625,
          1511.58349609375,
          1511.1019287109375,
          1509.14794921875,
          1507.4127197265625,
          1506.9947509765625,
          1506.916015625,
          1505.931396484375,
          1504.30615234375,
          1503.189208984375,
          1502.8016357421875,
          1502.282470703125,
          1501.1536865234375,
          1499.8837890625,
          1499.0345458984375,
          1498.5155029296875,
          1497.77880859375,
          1496.687255859375,
          1495.621826171875,
          1494.85791015625,
          1494.217041015625,
          1493.3956298828125,
          1492.40966796875,
          1491.459716796875,
          1490.6849365234375,
          1489.9735107421875,
          1489.1402587890625,
          1488.20751953125,
          1487.3104248046875,
          1486.519287109375,
          1485.7679443359375,
          1484.9515380859375,
          1484.0631103515625,
          1483.1904296875,
          1482.3870849609375,
          1481.606689453125,
          1480.806640625,
          1479.9560546875,
          1479.0986328125,
          1478.2789306640625,
          1477.48291015625,
          1476.683349609375,
          1475.86669921875,
          1475.042236328125,
          1474.1995849609375,
          1473.39990234375,
          1472.5946044921875,
          1471.7899169921875,
          1470.98095703125,
          1470.1502685546875,
          1469.349853515625,
          1468.5423583984375,
          1467.73486328125,
          1466.936279296875,
          1466.1278076171875,
          1465.3314208984375,
          1464.5262451171875,
          1463.71875,
          1462.9256591796875,
          1462.1248779296875,
          1461.331787109375,
          1460.519775390625,
          1459.7354736328125,
          1458.9310302734375,
          1458.1414794921875,
          1457.339599609375,
          1456.555908203125,
          1455.76611328125,
          1454.96728515625,
          1454.1868896484375,
          1453.3912353515625,
          1452.599609375,
          1451.8148193359375,
          1451.033935546875,
          1450.23876953125,
          1449.453125,
          1448.66845703125,
          1447.8858642578125,
          1447.1015625,
          1446.32421875,
          1445.5399169921875,
          1444.7568359375,
          1443.9810791015625,
          1443.1995849609375,
          1442.4300537109375,
          1441.6539306640625,
          1440.8681640625,
          1440.0928955078125,
          1439.326171875,
          1438.54052734375,
          1437.7784423828125,
          1437.003662109375,
          1436.2310791015625,
          1435.4556884765625,
          1434.6798095703125,
          1433.9295654296875,
          1433.16015625,
          1432.39111328125,
          1431.622802734375,
          1430.855712890625,
          1430.0892333984375,
          1429.330322265625,
          1428.56591796875,
          1427.806884765625,
          1427.04736328125,
          1426.2752685546875,
          1425.5206298828125,
          1424.7601318359375,
          1423.9974365234375,
          1423.2421875,
          1422.4921875,
          1421.729248046875,
          1420.9774169921875,
          1420.2257080078125,
          1419.471923828125,
          1418.7127685546875,
          1417.9632568359375,
          1417.21337890625,
          1416.46728515625,
          1415.71240234375,
          1414.9656982421875,
          1414.209228515625,
          1413.4654541015625,
          1412.7177734375,
          1411.9727783203125,
          1411.2288818359375,
          1410.489501953125,
          1409.7474365234375,
          1408.9981689453125,
          1408.25439453125,
          1407.5191650390625,
          1406.77734375,
          1406.037353515625,
          1405.308349609375,
          1404.5618896484375,
          1403.8250732421875,
          1403.08984375,
          1402.35302734375,
          1401.6175537109375,
          1400.9019775390625,
          1400.1614990234375,
          1399.4415283203125,
          1398.7364501953125,
          1398.0272216796875,
          1397.32861328125,
          1396.6474609375,
          1396.0240478515625,
          1395.4503173828125,
          1394.9544677734375,
          1394.6068115234375,
          1394.51318359375,
          1394.81787109375,
          1395.741943359375,
          1397.5924072265625,
          1400.897216796875,
          1405.84716796875,
          1412.7586669921875,
          1419.00048828125,
          1422.154296875,
          1415.1204833984375,
          1400.815185546875,
          1387.3836669921875,
          1385.16455078125,
          1392.2596435546875,
          1396.9674072265625,
          1392.41845703125,
          1383.610107421875,
          1381.0804443359375,
          1385.2509765625,
          1387.104248046875,
          1382.7254638671875,
          1378.0284423828125,
          1378.609619140625,
          1380.96435546875,
          1379.4295654296875,
          1375.6708984375,
          1374.672607421875,
          1376.0291748046875,
          1375.6129150390625,
          1373.005615234375,
          1371.56201171875,
          1372.0931396484375,
          1371.9599609375,
          1370.172607421875,
          1368.7025146484375,
          1368.6392822265625,
          1368.522216796875,
          1367.2606201171875,
          1365.9215087890625,
          1365.50048828125,
          1365.2867431640625,
          1364.35693359375,
          1363.169189453125,
          1362.5206298828125,
          1362.173583984375,
          1361.452880859375,
          1360.4210205078125,
          1359.6463623046875,
          1359.160400390625,
          1358.562255859375,
          1357.6729736328125,
          1356.8487548828125,
          1356.242431640625,
          1355.665771484375,
          1354.9180908203125,
          1354.097900390625,
          1353.4141845703125,
          1352.81640625,
          1352.1510009765625,
          1351.3914794921875,
          1350.6507568359375,
          1349.990478515625,
          1349.3441162109375,
          1348.6617431640625,
          1347.9266357421875,
          1347.2252197265625,
          1346.5616455078125,
          1345.907470703125,
          1345.209716796875,
          1344.5067138671875,
          1343.8125,
          1343.1573486328125,
          1342.485595703125,
          1341.80322265625,
          1341.1163330078125,
          1340.4202880859375,
          1339.7691650390625,
          1339.1004638671875,
          1338.4227294921875,
          1337.73583984375,
          1337.05712890625,
          1336.39599609375,
          1335.723876953125,
          1335.0557861328125,
          1334.3870849609375,
          1333.705322265625,
          1333.03271484375,
          1332.3787841796875,
          1331.7032470703125,
          1331.0439453125,
          1330.3720703125,
          1329.7113037109375,
          1329.0487060546875,
          1328.37841796875,
          1327.721923828125,
          1327.053955078125,
          1326.3924560546875,
          1325.72705078125,
          1325.064453125,
          1324.4200439453125,
          1323.746337890625,
          1323.097412109375,
          1322.4310302734375,
          1321.781005859375,
          1321.1219482421875,
          1320.46337890625,
          1319.81591796875,
          1319.1572265625,
          1318.5028076171875,
          1317.849365234375,
          1317.213134765625,
          1316.5443115234375,
          1315.893798828125,
          1315.254150390625,
          1314.5797119140625,
          1313.9449462890625,
          1313.2900390625,
          1312.6519775390625,
          1312.0093994140625,
          1311.363037109375,
          1310.7041015625,
          1310.06787109375,
          1309.418701171875,
          1308.772705078125,
          1308.1295166015625,
          1307.4818115234375,
          1306.84912109375,
          1306.20361328125,
          1305.5611572265625,
          1304.9146728515625,
          1304.2730712890625,
          1303.6302490234375,
          1302.9984130859375,
          1302.359619140625,
          1301.7254638671875,
          1301.083251953125,
          1300.4466552734375,
          1299.8226318359375,
          1299.1842041015625,
          1298.5447998046875,
          1297.89501953125,
          1297.275390625,
          1296.6494140625,
          1296.018798828125,
          1295.3726806640625,
          1294.748046875,
          1294.1175537109375,
          1293.4813232421875,
          1292.860595703125,
          1292.2276611328125,
          1291.6090087890625,
          1290.9696044921875,
          1290.344970703125,
          1289.7191162109375,
          1289.0887451171875,
          1288.4716796875,
          1287.8564453125,
          1287.2279052734375,
          1286.6016845703125,
          1285.9775390625,
          1285.348388671875,
          1284.7349853515625,
          1284.108154296875,
          1283.4820556640625,
          1282.8734130859375,
          1282.2410888671875,
          1281.6334228515625,
          1281.0107421875,
          1280.3902587890625,
          1279.7706298828125,
          1279.166259765625,
          1278.53955078125,
          1277.928955078125,
          1277.31884765625,
          1276.69580078125,
          1276.089111328125,
          1275.468994140625,
          1274.8607177734375,
          1274.2457275390625,
          1273.64990234375,
          1273.0330810546875,
          1272.437744140625,
          1271.83740234375,
          1271.226318359375,
          1270.632568359375,
          1270.0496826171875,
          1269.4656982421875,
          1268.8990478515625,
          1268.33642578125,
          1267.820068359375,
          1267.3173828125,
          1266.8758544921875,
          1266.5037841796875,
          1266.2330322265625,
          1266.1414794921875,
          1266.2845458984375,
          1266.81103515625,
          1267.8338623046875,
          1269.57373046875,
          1272.0457763671875,
          1275.3406982421875,
          1278.525146484375,
          1280.704345703125,
          1279.367431640625,
          1274.4100341796875,
          1266.20361328125,
          1259.1407470703125,
          1256.849609375,
          1259.241455078125,
          1262.504150390625,
          1262.625732421875,
          1259.084716796875,
          1254.812255859375,
          1253.3023681640625,
          1254.6502685546875,
          1255.9144287109375,
          1254.8382568359375,
          1252.12548828125,
          1250.2696533203125,
          1250.366455078125,
          1251.060546875,
          1250.5804443359375,
          1248.8555908203125,
          1247.3717041015625,
          1247.0230712890625,
          1247.216796875,
          1246.817626953125,
          1245.6312255859375,
          1244.453369140625,
          1243.9288330078125,
          1243.819091796875,
          1243.4190673828125,
          1242.532958984375,
          1241.5506591796875,
          1240.9222412109375,
          1240.60205078125,
          1240.19970703125,
          1239.483154296875,
          1238.66259765625,
          1237.9827880859375,
          1237.5189208984375,
          1237.090576171875,
          1236.498779296875,
          1235.7767333984375,
          1235.10693359375,
          1234.5341796875,
          1234.0506591796875,
          1233.5146484375,
          1232.8914794921875,
          1232.2449951171875,
          1231.6287841796875,
          1231.0770263671875,
          1230.5592041015625,
          1229.988037109375,
          1229.385009765625,
          1228.7662353515625,
          1228.18603515625,
          1227.628173828125,
          1227.0863037109375,
          1226.5216064453125,
          1225.9508056640625,
          1225.3453369140625,
          1224.7601318359375,
          1224.19970703125,
          1223.644287109375,
          1223.0799560546875,
          1222.5098876953125,
          1221.936279296875,
          1221.370849609375,
          1220.7916259765625,
          1220.2347412109375,
          1219.665283203125,
          1219.1148681640625,
          1218.544189453125,
          1217.9869384765625,
          1217.419189453125,
          1216.8482666015625,
          1216.286376953125,
          1215.7225341796875,
          1215.1773681640625,
          1214.61083984375,
          1214.0579833984375,
          1213.4940185546875,
          1212.93310546875,
          1212.3709716796875,
          1211.814453125,
          1211.26416015625,
          1210.7105712890625,
          1210.1551513671875,
          1209.5885009765625,
          1209.0400390625,
          1208.4859619140625,
          1207.9300537109375,
          1207.377197265625,
          1206.8248291015625,
          1206.2686767578125,
          1205.7171630859375,
          1205.170654296875,
          1204.608154296875,
          1204.0693359375,
          1203.5224609375,
          1202.96484375,
          1202.41162109375,
          1201.8802490234375,
          1201.3272705078125,
          1200.7703857421875,
          1200.2269287109375,
          1199.6739501953125,
          1199.1343994140625,
          1198.5941162109375,
          1198.044677734375,
          1197.506103515625,
          1196.9466552734375,
          1196.4024658203125,
          1195.8653564453125,
          1195.3277587890625,
          1194.78955078125,
          1194.25048828125,
          1193.7021484375,
          1193.1497802734375,
          1192.60986328125,
          1192.080810546875,
          1191.536376953125,
          1191.0040283203125,
          1190.4615478515625,
          1189.91455078125,
          1189.3792724609375,
          1188.84716796875,
          1188.3133544921875,
          1187.785400390625,
          1187.2413330078125,
          1186.7120361328125,
          1186.17041015625,
          1185.6412353515625,
          1185.1143798828125,
          1184.5836181640625,
          1184.0526123046875,
          1183.52978515625,
          1183.015625,
          1182.50439453125
         ]
        }
       ],
       "layout": {
        "template": {
         "data": {
          "bar": [
           {
            "error_x": {
             "color": "rgb(36,36,36)"
            },
            "error_y": {
             "color": "rgb(36,36,36)"
            },
            "marker": {
             "line": {
              "color": "white",
              "width": 0.5
             },
             "pattern": {
              "fillmode": "overlay",
              "size": 10,
              "solidity": 0.2
             }
            },
            "type": "bar"
           }
          ],
          "barpolar": [
           {
            "marker": {
             "line": {
              "color": "white",
              "width": 0.5
             },
             "pattern": {
              "fillmode": "overlay",
              "size": 10,
              "solidity": 0.2
             }
            },
            "type": "barpolar"
           }
          ],
          "carpet": [
           {
            "aaxis": {
             "endlinecolor": "rgb(36,36,36)",
             "gridcolor": "white",
             "linecolor": "white",
             "minorgridcolor": "white",
             "startlinecolor": "rgb(36,36,36)"
            },
            "baxis": {
             "endlinecolor": "rgb(36,36,36)",
             "gridcolor": "white",
             "linecolor": "white",
             "minorgridcolor": "white",
             "startlinecolor": "rgb(36,36,36)"
            },
            "type": "carpet"
           }
          ],
          "choropleth": [
           {
            "colorbar": {
             "outlinewidth": 1,
             "tickcolor": "rgb(36,36,36)",
             "ticks": "outside"
            },
            "type": "choropleth"
           }
          ],
          "contour": [
           {
            "colorbar": {
             "outlinewidth": 1,
             "tickcolor": "rgb(36,36,36)",
             "ticks": "outside"
            },
            "colorscale": [
             [
              0,
              "#440154"
             ],
             [
              0.1111111111111111,
              "#482878"
             ],
             [
              0.2222222222222222,
              "#3e4989"
             ],
             [
              0.3333333333333333,
              "#31688e"
             ],
             [
              0.4444444444444444,
              "#26828e"
             ],
             [
              0.5555555555555556,
              "#1f9e89"
             ],
             [
              0.6666666666666666,
              "#35b779"
             ],
             [
              0.7777777777777778,
              "#6ece58"
             ],
             [
              0.8888888888888888,
              "#b5de2b"
             ],
             [
              1,
              "#fde725"
             ]
            ],
            "type": "contour"
           }
          ],
          "contourcarpet": [
           {
            "colorbar": {
             "outlinewidth": 1,
             "tickcolor": "rgb(36,36,36)",
             "ticks": "outside"
            },
            "type": "contourcarpet"
           }
          ],
          "heatmap": [
           {
            "colorbar": {
             "outlinewidth": 1,
             "tickcolor": "rgb(36,36,36)",
             "ticks": "outside"
            },
            "colorscale": [
             [
              0,
              "#440154"
             ],
             [
              0.1111111111111111,
              "#482878"
             ],
             [
              0.2222222222222222,
              "#3e4989"
             ],
             [
              0.3333333333333333,
              "#31688e"
             ],
             [
              0.4444444444444444,
              "#26828e"
             ],
             [
              0.5555555555555556,
              "#1f9e89"
             ],
             [
              0.6666666666666666,
              "#35b779"
             ],
             [
              0.7777777777777778,
              "#6ece58"
             ],
             [
              0.8888888888888888,
              "#b5de2b"
             ],
             [
              1,
              "#fde725"
             ]
            ],
            "type": "heatmap"
           }
          ],
          "histogram": [
           {
            "marker": {
             "line": {
              "color": "white",
              "width": 0.6
             }
            },
            "type": "histogram"
           }
          ],
          "histogram2d": [
           {
            "colorbar": {
             "outlinewidth": 1,
             "tickcolor": "rgb(36,36,36)",
             "ticks": "outside"
            },
            "colorscale": [
             [
              0,
              "#440154"
             ],
             [
              0.1111111111111111,
              "#482878"
             ],
             [
              0.2222222222222222,
              "#3e4989"
             ],
             [
              0.3333333333333333,
              "#31688e"
             ],
             [
              0.4444444444444444,
              "#26828e"
             ],
             [
              0.5555555555555556,
              "#1f9e89"
             ],
             [
              0.6666666666666666,
              "#35b779"
             ],
             [
              0.7777777777777778,
              "#6ece58"
             ],
             [
              0.8888888888888888,
              "#b5de2b"
             ],
             [
              1,
              "#fde725"
             ]
            ],
            "type": "histogram2d"
           }
          ],
          "histogram2dcontour": [
           {
            "colorbar": {
             "outlinewidth": 1,
             "tickcolor": "rgb(36,36,36)",
             "ticks": "outside"
            },
            "colorscale": [
             [
              0,
              "#440154"
             ],
             [
              0.1111111111111111,
              "#482878"
             ],
             [
              0.2222222222222222,
              "#3e4989"
             ],
             [
              0.3333333333333333,
              "#31688e"
             ],
             [
              0.4444444444444444,
              "#26828e"
             ],
             [
              0.5555555555555556,
              "#1f9e89"
             ],
             [
              0.6666666666666666,
              "#35b779"
             ],
             [
              0.7777777777777778,
              "#6ece58"
             ],
             [
              0.8888888888888888,
              "#b5de2b"
             ],
             [
              1,
              "#fde725"
             ]
            ],
            "type": "histogram2dcontour"
           }
          ],
          "mesh3d": [
           {
            "colorbar": {
             "outlinewidth": 1,
             "tickcolor": "rgb(36,36,36)",
             "ticks": "outside"
            },
            "type": "mesh3d"
           }
          ],
          "parcoords": [
           {
            "line": {
             "colorbar": {
              "outlinewidth": 1,
              "tickcolor": "rgb(36,36,36)",
              "ticks": "outside"
             }
            },
            "type": "parcoords"
           }
          ],
          "pie": [
           {
            "automargin": true,
            "type": "pie"
           }
          ],
          "scatter": [
           {
            "fillpattern": {
             "fillmode": "overlay",
             "size": 10,
             "solidity": 0.2
            },
            "type": "scatter"
           }
          ],
          "scatter3d": [
           {
            "line": {
             "colorbar": {
              "outlinewidth": 1,
              "tickcolor": "rgb(36,36,36)",
              "ticks": "outside"
             }
            },
            "marker": {
             "colorbar": {
              "outlinewidth": 1,
              "tickcolor": "rgb(36,36,36)",
              "ticks": "outside"
             }
            },
            "type": "scatter3d"
           }
          ],
          "scattercarpet": [
           {
            "marker": {
             "colorbar": {
              "outlinewidth": 1,
              "tickcolor": "rgb(36,36,36)",
              "ticks": "outside"
             }
            },
            "type": "scattercarpet"
           }
          ],
          "scattergeo": [
           {
            "marker": {
             "colorbar": {
              "outlinewidth": 1,
              "tickcolor": "rgb(36,36,36)",
              "ticks": "outside"
             }
            },
            "type": "scattergeo"
           }
          ],
          "scattergl": [
           {
            "marker": {
             "colorbar": {
              "outlinewidth": 1,
              "tickcolor": "rgb(36,36,36)",
              "ticks": "outside"
             }
            },
            "type": "scattergl"
           }
          ],
          "scattermap": [
           {
            "marker": {
             "colorbar": {
              "outlinewidth": 1,
              "tickcolor": "rgb(36,36,36)",
              "ticks": "outside"
             }
            },
            "type": "scattermap"
           }
          ],
          "scattermapbox": [
           {
            "marker": {
             "colorbar": {
              "outlinewidth": 1,
              "tickcolor": "rgb(36,36,36)",
              "ticks": "outside"
             }
            },
            "type": "scattermapbox"
           }
          ],
          "scatterpolar": [
           {
            "marker": {
             "colorbar": {
              "outlinewidth": 1,
              "tickcolor": "rgb(36,36,36)",
              "ticks": "outside"
             }
            },
            "type": "scatterpolar"
           }
          ],
          "scatterpolargl": [
           {
            "marker": {
             "colorbar": {
              "outlinewidth": 1,
              "tickcolor": "rgb(36,36,36)",
              "ticks": "outside"
             }
            },
            "type": "scatterpolargl"
           }
          ],
          "scatterternary": [
           {
            "marker": {
             "colorbar": {
              "outlinewidth": 1,
              "tickcolor": "rgb(36,36,36)",
              "ticks": "outside"
             }
            },
            "type": "scatterternary"
           }
          ],
          "surface": [
           {
            "colorbar": {
             "outlinewidth": 1,
             "tickcolor": "rgb(36,36,36)",
             "ticks": "outside"
            },
            "colorscale": [
             [
              0,
              "#440154"
             ],
             [
              0.1111111111111111,
              "#482878"
             ],
             [
              0.2222222222222222,
              "#3e4989"
             ],
             [
              0.3333333333333333,
              "#31688e"
             ],
             [
              0.4444444444444444,
              "#26828e"
             ],
             [
              0.5555555555555556,
              "#1f9e89"
             ],
             [
              0.6666666666666666,
              "#35b779"
             ],
             [
              0.7777777777777778,
              "#6ece58"
             ],
             [
              0.8888888888888888,
              "#b5de2b"
             ],
             [
              1,
              "#fde725"
             ]
            ],
            "type": "surface"
           }
          ],
          "table": [
           {
            "cells": {
             "fill": {
              "color": "rgb(237,237,237)"
             },
             "line": {
              "color": "white"
             }
            },
            "header": {
             "fill": {
              "color": "rgb(217,217,217)"
             },
             "line": {
              "color": "white"
             }
            },
            "type": "table"
           }
          ]
         },
         "layout": {
          "annotationdefaults": {
           "arrowhead": 0,
           "arrowwidth": 1
          },
          "autotypenumbers": "strict",
          "coloraxis": {
           "colorbar": {
            "outlinewidth": 1,
            "tickcolor": "rgb(36,36,36)",
            "ticks": "outside"
           }
          },
          "colorscale": {
           "diverging": [
            [
             0,
             "rgb(103,0,31)"
            ],
            [
             0.1,
             "rgb(178,24,43)"
            ],
            [
             0.2,
             "rgb(214,96,77)"
            ],
            [
             0.3,
             "rgb(244,165,130)"
            ],
            [
             0.4,
             "rgb(253,219,199)"
            ],
            [
             0.5,
             "rgb(247,247,247)"
            ],
            [
             0.6,
             "rgb(209,229,240)"
            ],
            [
             0.7,
             "rgb(146,197,222)"
            ],
            [
             0.8,
             "rgb(67,147,195)"
            ],
            [
             0.9,
             "rgb(33,102,172)"
            ],
            [
             1,
             "rgb(5,48,97)"
            ]
           ],
           "sequential": [
            [
             0,
             "#440154"
            ],
            [
             0.1111111111111111,
             "#482878"
            ],
            [
             0.2222222222222222,
             "#3e4989"
            ],
            [
             0.3333333333333333,
             "#31688e"
            ],
            [
             0.4444444444444444,
             "#26828e"
            ],
            [
             0.5555555555555556,
             "#1f9e89"
            ],
            [
             0.6666666666666666,
             "#35b779"
            ],
            [
             0.7777777777777778,
             "#6ece58"
            ],
            [
             0.8888888888888888,
             "#b5de2b"
            ],
            [
             1,
             "#fde725"
            ]
           ],
           "sequentialminus": [
            [
             0,
             "#440154"
            ],
            [
             0.1111111111111111,
             "#482878"
            ],
            [
             0.2222222222222222,
             "#3e4989"
            ],
            [
             0.3333333333333333,
             "#31688e"
            ],
            [
             0.4444444444444444,
             "#26828e"
            ],
            [
             0.5555555555555556,
             "#1f9e89"
            ],
            [
             0.6666666666666666,
             "#35b779"
            ],
            [
             0.7777777777777778,
             "#6ece58"
            ],
            [
             0.8888888888888888,
             "#b5de2b"
            ],
            [
             1,
             "#fde725"
            ]
           ]
          },
          "colorway": [
           "#1F77B4",
           "#FF7F0E",
           "#2CA02C",
           "#D62728",
           "#9467BD",
           "#8C564B",
           "#E377C2",
           "#7F7F7F",
           "#BCBD22",
           "#17BECF"
          ],
          "font": {
           "color": "rgb(36,36,36)"
          },
          "geo": {
           "bgcolor": "white",
           "lakecolor": "white",
           "landcolor": "white",
           "showlakes": true,
           "showland": true,
           "subunitcolor": "white"
          },
          "hoverlabel": {
           "align": "left"
          },
          "hovermode": "closest",
          "mapbox": {
           "style": "light"
          },
          "paper_bgcolor": "white",
          "plot_bgcolor": "white",
          "polar": {
           "angularaxis": {
            "gridcolor": "rgb(232,232,232)",
            "linecolor": "rgb(36,36,36)",
            "showgrid": false,
            "showline": true,
            "ticks": "outside"
           },
           "bgcolor": "white",
           "radialaxis": {
            "gridcolor": "rgb(232,232,232)",
            "linecolor": "rgb(36,36,36)",
            "showgrid": false,
            "showline": true,
            "ticks": "outside"
           }
          },
          "scene": {
           "xaxis": {
            "backgroundcolor": "white",
            "gridcolor": "rgb(232,232,232)",
            "gridwidth": 2,
            "linecolor": "rgb(36,36,36)",
            "showbackground": true,
            "showgrid": false,
            "showline": true,
            "ticks": "outside",
            "zeroline": false,
            "zerolinecolor": "rgb(36,36,36)"
           },
           "yaxis": {
            "backgroundcolor": "white",
            "gridcolor": "rgb(232,232,232)",
            "gridwidth": 2,
            "linecolor": "rgb(36,36,36)",
            "showbackground": true,
            "showgrid": false,
            "showline": true,
            "ticks": "outside",
            "zeroline": false,
            "zerolinecolor": "rgb(36,36,36)"
           },
           "zaxis": {
            "backgroundcolor": "white",
            "gridcolor": "rgb(232,232,232)",
            "gridwidth": 2,
            "linecolor": "rgb(36,36,36)",
            "showbackground": true,
            "showgrid": false,
            "showline": true,
            "ticks": "outside",
            "zeroline": false,
            "zerolinecolor": "rgb(36,36,36)"
           }
          },
          "shapedefaults": {
           "fillcolor": "black",
           "line": {
            "width": 0
           },
           "opacity": 0.3
          },
          "ternary": {
           "aaxis": {
            "gridcolor": "rgb(232,232,232)",
            "linecolor": "rgb(36,36,36)",
            "showgrid": false,
            "showline": true,
            "ticks": "outside"
           },
           "baxis": {
            "gridcolor": "rgb(232,232,232)",
            "linecolor": "rgb(36,36,36)",
            "showgrid": false,
            "showline": true,
            "ticks": "outside"
           },
           "bgcolor": "white",
           "caxis": {
            "gridcolor": "rgb(232,232,232)",
            "linecolor": "rgb(36,36,36)",
            "showgrid": false,
            "showline": true,
            "ticks": "outside"
           }
          },
          "title": {
           "x": 0.05
          },
          "xaxis": {
           "automargin": true,
           "gridcolor": "rgb(232,232,232)",
           "linecolor": "rgb(36,36,36)",
           "showgrid": false,
           "showline": true,
           "ticks": "outside",
           "title": {
            "standoff": 15
           },
           "zeroline": false,
           "zerolinecolor": "rgb(36,36,36)"
          },
          "yaxis": {
           "automargin": true,
           "gridcolor": "rgb(232,232,232)",
           "linecolor": "rgb(36,36,36)",
           "showgrid": false,
           "showline": true,
           "ticks": "outside",
           "title": {
            "standoff": 15
           },
           "zeroline": false,
           "zerolinecolor": "rgb(36,36,36)"
          }
         }
        },
        "title": {
         "text": "NLML during Hyperparameter Optimization"
        },
        "xaxis": {
         "title": {
          "text": "Optimization Step"
         }
        },
        "yaxis": {
         "title": {
          "text": "Negative Log-Marginal Likelihood (NLML)"
         }
        }
       }
      }
     },
     "metadata": {},
     "output_type": "display_data"
    },
    {
     "data": {
      "application/vnd.plotly.v1+json": {
       "config": {
        "plotlyServerURL": "https://plot.ly"
       },
       "data": [
        {
         "marker": {
          "opacity": 0.7,
          "size": 6
         },
         "mode": "markers",
         "name": "Simulated Data",
         "type": "scatter",
         "x": {
          "bdata": "AMD0RALV9EQF6vRECP/0RAsU9UQNKfVEED71RBJT9UQUaPVEF331RBqS9UQcp/VEH7z1RCHR9UQk5vVEJ/v1RCoQ9kQsJfZELjr2RDFP9kQ0ZPZENnn2RDmO9kQ8o/ZEPrj2REHN9kRD4vZERvf2REkM90RLIfdETTb3RFBL90RTYPdEVXX3RFiK90Rbn/dEXbT3RGDJ90Ri3vdEZfP3RGcI+ERqHfhEbDL4RG9H+ERyXPhEdHH4RHeG+ER5m/hEfLD4RH/F+ESC2vhEhO/4RIYE+USIGflEjC75RI5D+USRWPlElG35RJaC+USYl/lEmqz5RJ7B+USh1vlEo+v5RKUA+kSoFfpEqir6RK0/+kSxVPpEs2n6RLV++kS3k/pEuqj6RL29+kS/0vpEwuf6RMX8+kTHEftEySb7RM07+0TPUPtE0WX7RNR6+0TXj/tE2aT7RNy5+0TezvtE4eP7ROP4+0TmDfxE6SL8ROw3/ETuTPxE8GH8RPN2/ET1i/xE+KD8RPu1/ET+yvxEAOD8RA==",
          "dtype": "f4"
         },
         "y": {
          "bdata": "MP6aQz5dmUNYCZ5D84ybQ+J/mkODJJ9DZa6bQ8cRnEOcQaBDfdScQyMvnUOgW6FDW5OdQ/38nkPI6qFDjx2eQ7dPoEOLwqJDvkWeQ9vSoUOWV6NDXyufQ6SXokNpH6RDQlKgQ2PLpEO5QqRDXkGhQ/rspUN7iKVD4qiiQ/Ajp0PeiaVDfdajQ+JtqENkFqZD6wqlQ+acqUMOjqZDYwmmQ/ORqkMyUqdDtJinQ8afq0Nq7qdDAs6oQ5iZrEN8yqhD76CqQyUdrUNcQalDH+6rQ7r0rUMYVapDWYatQyCerkPf1qpDFcGuQwVZr0NvLKxDAvyvQ3ebr0NQNa1DBHuxQ9dPsEPWla1DIzWzQ2Z4sENJWq9Dq86zQ4hSsUOZarBDfkC1QyKhsUPgrLFDEYe2Q4Z6skP1HLNDE/22Q3FAs0O8zbRDjTK4Q+QOtEMFk7ZDpB64Q+ZvtEM1NLdDTI+5QyUHtkM9Z7lDeRS6QwMmtkNAe7pDmZG6QzxNt0NRR7xDs/G6Q5uUuEO3Ur1D7z+7Qw==",
          "dtype": "f4"
         }
        },
        {
         "line": {
          "color": "green"
         },
         "mode": "lines",
         "name": "GP Predictive Mean (Optimized)",
         "type": "scatter",
         "x": {
          "bdata": "AMDzRN3M80S72fNEmObzRHbz80RSAPRELw30RA0a9ETqJvRExzP0RKVA9ESCTfREYFr0RD1n9EQZdPRE94D0RNSN9ESymvREj6f0RGy09ERKwfREJ870RAPb9ETh5/REvvT0RJwB9UR5DvVEVhv1RDQo9UQRNfVE7kH1RMtO9USoW/VEhmj1RGN19URAgvVEHo/1RPub9UTZqPVEtrX1RJLC9URwz/VETdz1RCrp9UQI9vVE5QL2RMMP9kSgHPZEfSn2RFo29kQ3Q/ZEFVD2RPJc9kTPafZErXb2RIqD9kRnkPZERJ32RCGq9kT/tvZE3MP2RLnQ9kSX3fZEdOr2RFH39kQuBPdEDBH3ROkd90TGKvdEozf3RIFE90ReUfdEPF73RBhr90T2d/dE04T3RLCR90SNnvdEa6v3REi490QmxfdEA9L3RODe90S96/dEmvj3RHgF+ERVEvhEMh/4RBAs+ETtOPhEykX4RKdS+ESEX/hEYmz4RD95+EQchvhE+pL4RNef+ES1rPhEkbn4RG/G+ERM0/hEKuD4RAbt+ETk+fhEwAb5RJ4T+UR8IPlEWS35RDY6+UQUR/lE8FP5RM5g+USsbflEiHr5RGaH+URDlPlEIKH5RP6t+UTauvlEuMf5RJbU+URy4flEUO75RC37+UQKCPpE6BT6RMQh+kSiLvpEgDv6RF1I+kQ6VfpEGGL6RPRu+kTSe/pEroj6RIyV+kRqovpER6/6RCS8+kQCyfpE3tX6RLzi+kSY7/pEdvz6RFQJ+0QxFvtEDiP7ROwv+0TIPPtEpkn7RIRW+0RgY/tEPnD7RBt9+0T4iftE1pb7RLKj+0SQsPtEbr37RErK+0Qo1/tEBuT7ROLw+0TA/ftEnQr8RHoX/ERYJPxENDH8RBI+/ETwSvxEzFf8RKpk/ESHcfxEZH78REKL/EQfmPxE/KT8RNqx/ES2vvxElMv8RHLY/ERO5fxELPL8RAn//ETmC/1ExBj9RKEl/UR+Mv1EXD/9RDhM/UQWWf1E9GX9RNBy/USuf/1Ei4z9RGiZ/URGpv1EI7P9RADA/UQ=",
          "dtype": "f4"
         },
         "y": {
          "bdata": "NNaWQ/S/mEOAGpVDcQuaQz49lkN7/5dDi52ZQxgqlkOQGZtDzh6XQ8wpmUM4eZpDzzuXQzYlnEMmAphDolOaQx1Um0NgT5hDtS2dQ2/nmEMSfptDKC2cQ7tkmUN4M55DXM+ZQwyonEMCBp1DBnyaQyY2n0NwuZpDttGdQ4PdnUPxlJtDdTWgQ4Kmm0MF+55DFbSeQ+avnEP8MaFD3pWcQykjoENtip9D7sudQ8ArokP2h51DI0uhQyRgoEMM6p5DeCKjQ6x8nkOAcaJDYTahQ2gJoEM2FqRD8HOfQ/KWo0OkDKJD8CmhQ0oHpUMCbqBDTrqkQzTjokMlTKJDzPWlQ7BqoUMC3KVDwrmjQzpvo0OU4aZD8GmiQ2L8pkNPkaRDFJSkQw7Lp0Pqa6NDJBqoQ91ppUMLuaVD+LGoQ0NwpEPaNalD+kKmQ/LfpkPalqlDDnelQ9pOqkOyHadDCgeoQ0h5qkMwgKZDRmWrQxD6p0NuL6lDRFqrQ+CLp0MaeaxDiteoQ4pYqkP4OKxDgZmoQ1CKrUM2t6lDToKrQ84WrUNYqalDepiuQ+SYqkMurKxDZvKtQ0S7qkPco69DYnyrQwTWrUOOzK5D6s6rQwKssEMKYqxDAACvQ/6lr0OS5KxDULGxQwJKrUPeKbBDjH6wQzj8rUOCs7JDnDSuQ3pTsUMUVrFDrBWvQ6iys0PuIa9DdH2yQ/IsskNqMLBDCK+0Q5YRsEO+pbND/gKzQ+JMsUMkqLVDAgSxQxTNtEO+2bNDwmqyQ2ietkMK+bFDMvO1QwCvtEMKirNDBJK3Q0rwskM2GLdDMoW1QyCrtEPigrhD1uqzQ0w7uEOiW7ZDks21QyxxuUPU57RDhl25Q+Yyt0P48LZDely6Q3zntUMqfbpDngq4Q04VuENYRbtDfOm2Q6qau0PS4rhDrDq5Q2QsvENI7rdD8rW8Q+y7uUNCYbpDDBG9Q4D1uEO8zr1D2Ja6Q0qJu0OI871DxP65QyTlvkN2c7tDJrK8Qy7UvkOuCrtD7Pi/Q0xRvEOs2r1DwLK/Q4IYvEOYCcFD0DC9QwYEv0M=",
          "dtype": "f4"
         }
        },
        {
         "fill": "toself",
         "fillcolor": "rgba(0,128,0,0.2)",
         "hoverinfo": "skip",
         "line": {
          "color": "rgba(255,255,255,0)"
         },
         "name": "95% CI (Optimized)",
         "showlegend": true,
         "type": "scatter",
         "x": {
          "bdata": "AMDzRN3M80S72fNEmObzRHbz80RSAPRELw30RA0a9ETqJvRExzP0RKVA9ESCTfREYFr0RD1n9EQZdPRE94D0RNSN9ESymvREj6f0RGy09ERKwfREJ870RAPb9ETh5/REvvT0RJwB9UR5DvVEVhv1RDQo9UQRNfVE7kH1RMtO9USoW/VEhmj1RGN19URAgvVEHo/1RPub9UTZqPVEtrX1RJLC9URwz/VETdz1RCrp9UQI9vVE5QL2RMMP9kSgHPZEfSn2RFo29kQ3Q/ZEFVD2RPJc9kTPafZErXb2RIqD9kRnkPZERJ32RCGq9kT/tvZE3MP2RLnQ9kSX3fZEdOr2RFH39kQuBPdEDBH3ROkd90TGKvdEozf3RIFE90ReUfdEPF73RBhr90T2d/dE04T3RLCR90SNnvdEa6v3REi490QmxfdEA9L3RODe90S96/dEmvj3RHgF+ERVEvhEMh/4RBAs+ETtOPhEykX4RKdS+ESEX/hEYmz4RD95+EQchvhE+pL4RNef+ES1rPhEkbn4RG/G+ERM0/hEKuD4RAbt+ETk+fhEwAb5RJ4T+UR8IPlEWS35RDY6+UQUR/lE8FP5RM5g+USsbflEiHr5RGaH+URDlPlEIKH5RP6t+UTauvlEuMf5RJbU+URy4flEUO75RC37+UQKCPpE6BT6RMQh+kSiLvpEgDv6RF1I+kQ6VfpEGGL6RPRu+kTSe/pEroj6RIyV+kRqovpER6/6RCS8+kQCyfpE3tX6RLzi+kSY7/pEdvz6RFQJ+0QxFvtEDiP7ROwv+0TIPPtEpkn7RIRW+0RgY/tEPnD7RBt9+0T4iftE1pb7RLKj+0SQsPtEbr37RErK+0Qo1/tEBuT7ROLw+0TA/ftEnQr8RHoX/ERYJPxENDH8RBI+/ETwSvxEzFf8RKpk/ESHcfxEZH78REKL/EQfmPxE/KT8RNqx/ES2vvxElMv8RHLY/ERO5fxELPL8RAn//ETmC/1ExBj9RKEl/UR+Mv1EXD/9RDhM/UQWWf1E9GX9RNBy/USuf/1Ei4z9RGiZ/URGpv1EI7P9RADA/UQAwP1EI7P9REam/URomf1Ei4z9RK5//UTQcv1E9GX9RBZZ/UQ4TP1EXD/9RH4y/UShJf1ExBj9ROYL/UQJ//xELPL8RE7l/ERy2PxElMv8RLa+/ETasfxE/KT8RB+Y/ERCi/xEZH78RIdx/ESqZPxEzFf8RPBK/EQSPvxENDH8RFgk/ER6F/xEnQr8RMD9+0Ti8PtEBuT7RCjX+0RKyvtEbr37RJCw+0Syo/tE1pb7RPiJ+0QbfftEPnD7RGBj+0SEVvtEpkn7RMg8+0TsL/tEDiP7RDEW+0RUCftEdvz6RJjv+kS84vpE3tX6RALJ+kQkvPpER6/6RGqi+kSMlfpEroj6RNJ7+kT0bvpEGGL6RDpV+kRdSPpEgDv6RKIu+kTEIfpE6BT6RAoI+kQt+/lEUO75RHLh+USW1PlEuMf5RNq6+UT+rflEIKH5REOU+URmh/lEiHr5RKxt+UTOYPlE8FP5RBRH+UQ2OvlEWS35RHwg+USeE/lEwAb5ROT5+EQG7fhEKuD4REzT+ERvxvhEkbn4RLWs+ETXn/hE+pL4RByG+EQ/efhEYmz4RIRf+ESnUvhEykX4RO04+EQQLPhEMh/4RFUS+ER4BfhEmvj3RL3r90Tg3vdEA9L3RCbF90RIuPdEa6v3RI2e90SwkfdE04T3RPZ390QYa/dEPF73RF5R90SBRPdEozf3RMYq90TpHfdEDBH3RC4E90RR9/ZEdOr2RJfd9kS50PZE3MP2RP+29kQhqvZERJ32RGeQ9kSKg/ZErXb2RM9p9kTyXPZEFVD2RDdD9kRaNvZEfSn2RKAc9kTDD/ZE5QL2RAj29UQq6fVETdz1RHDP9USSwvVEtrX1RNmo9UT7m/VEHo/1RECC9URjdfVEhmj1RKhb9UTLTvVE7kH1RBE19UQ0KPVEVhv1RHkO9UScAfVEvvT0ROHn9EQD2/REJ870RErB9ERstPREj6f0RLKa9ETUjfRE94D0RBl09EQ9Z/REYFr0RIJN9ESlQPRExzP0ROom9EQNGvRELw30RFIA9ER28/NEmObzRLvZ80TdzPNEAMDzRA==",
          "dtype": "f4"
         },
         "y": {
          "bdata": "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",
          "dtype": "f4"
         }
        }
       ],
       "layout": {
        "legend": {
         "x": 0.01,
         "y": 0.99
        },
        "template": {
         "data": {
          "bar": [
           {
            "error_x": {
             "color": "rgb(36,36,36)"
            },
            "error_y": {
             "color": "rgb(36,36,36)"
            },
            "marker": {
             "line": {
              "color": "white",
              "width": 0.5
             },
             "pattern": {
              "fillmode": "overlay",
              "size": 10,
              "solidity": 0.2
             }
            },
            "type": "bar"
           }
          ],
          "barpolar": [
           {
            "marker": {
             "line": {
              "color": "white",
              "width": 0.5
             },
             "pattern": {
              "fillmode": "overlay",
              "size": 10,
              "solidity": 0.2
             }
            },
            "type": "barpolar"
           }
          ],
          "carpet": [
           {
            "aaxis": {
             "endlinecolor": "rgb(36,36,36)",
             "gridcolor": "white",
             "linecolor": "white",
             "minorgridcolor": "white",
             "startlinecolor": "rgb(36,36,36)"
            },
            "baxis": {
             "endlinecolor": "rgb(36,36,36)",
             "gridcolor": "white",
             "linecolor": "white",
             "minorgridcolor": "white",
             "startlinecolor": "rgb(36,36,36)"
            },
            "type": "carpet"
           }
          ],
          "choropleth": [
           {
            "colorbar": {
             "outlinewidth": 1,
             "tickcolor": "rgb(36,36,36)",
             "ticks": "outside"
            },
            "type": "choropleth"
           }
          ],
          "contour": [
           {
            "colorbar": {
             "outlinewidth": 1,
             "tickcolor": "rgb(36,36,36)",
             "ticks": "outside"
            },
            "colorscale": [
             [
              0,
              "#440154"
             ],
             [
              0.1111111111111111,
              "#482878"
             ],
             [
              0.2222222222222222,
              "#3e4989"
             ],
             [
              0.3333333333333333,
              "#31688e"
             ],
             [
              0.4444444444444444,
              "#26828e"
             ],
             [
              0.5555555555555556,
              "#1f9e89"
             ],
             [
              0.6666666666666666,
              "#35b779"
             ],
             [
              0.7777777777777778,
              "#6ece58"
             ],
             [
              0.8888888888888888,
              "#b5de2b"
             ],
             [
              1,
              "#fde725"
             ]
            ],
            "type": "contour"
           }
          ],
          "contourcarpet": [
           {
            "colorbar": {
             "outlinewidth": 1,
             "tickcolor": "rgb(36,36,36)",
             "ticks": "outside"
            },
            "type": "contourcarpet"
           }
          ],
          "heatmap": [
           {
            "colorbar": {
             "outlinewidth": 1,
             "tickcolor": "rgb(36,36,36)",
             "ticks": "outside"
            },
            "colorscale": [
             [
              0,
              "#440154"
             ],
             [
              0.1111111111111111,
              "#482878"
             ],
             [
              0.2222222222222222,
              "#3e4989"
             ],
             [
              0.3333333333333333,
              "#31688e"
             ],
             [
              0.4444444444444444,
              "#26828e"
             ],
             [
              0.5555555555555556,
              "#1f9e89"
             ],
             [
              0.6666666666666666,
              "#35b779"
             ],
             [
              0.7777777777777778,
              "#6ece58"
             ],
             [
              0.8888888888888888,
              "#b5de2b"
             ],
             [
              1,
              "#fde725"
             ]
            ],
            "type": "heatmap"
           }
          ],
          "histogram": [
           {
            "marker": {
             "line": {
              "color": "white",
              "width": 0.6
             }
            },
            "type": "histogram"
           }
          ],
          "histogram2d": [
           {
            "colorbar": {
             "outlinewidth": 1,
             "tickcolor": "rgb(36,36,36)",
             "ticks": "outside"
            },
            "colorscale": [
             [
              0,
              "#440154"
             ],
             [
              0.1111111111111111,
              "#482878"
             ],
             [
              0.2222222222222222,
              "#3e4989"
             ],
             [
              0.3333333333333333,
              "#31688e"
             ],
             [
              0.4444444444444444,
              "#26828e"
             ],
             [
              0.5555555555555556,
              "#1f9e89"
             ],
             [
              0.6666666666666666,
              "#35b779"
             ],
             [
              0.7777777777777778,
              "#6ece58"
             ],
             [
              0.8888888888888888,
              "#b5de2b"
             ],
             [
              1,
              "#fde725"
             ]
            ],
            "type": "histogram2d"
           }
          ],
          "histogram2dcontour": [
           {
            "colorbar": {
             "outlinewidth": 1,
             "tickcolor": "rgb(36,36,36)",
             "ticks": "outside"
            },
            "colorscale": [
             [
              0,
              "#440154"
             ],
             [
              0.1111111111111111,
              "#482878"
             ],
             [
              0.2222222222222222,
              "#3e4989"
             ],
             [
              0.3333333333333333,
              "#31688e"
             ],
             [
              0.4444444444444444,
              "#26828e"
             ],
             [
              0.5555555555555556,
              "#1f9e89"
             ],
             [
              0.6666666666666666,
              "#35b779"
             ],
             [
              0.7777777777777778,
              "#6ece58"
             ],
             [
              0.8888888888888888,
              "#b5de2b"
             ],
             [
              1,
              "#fde725"
             ]
            ],
            "type": "histogram2dcontour"
           }
          ],
          "mesh3d": [
           {
            "colorbar": {
             "outlinewidth": 1,
             "tickcolor": "rgb(36,36,36)",
             "ticks": "outside"
            },
            "type": "mesh3d"
           }
          ],
          "parcoords": [
           {
            "line": {
             "colorbar": {
              "outlinewidth": 1,
              "tickcolor": "rgb(36,36,36)",
              "ticks": "outside"
             }
            },
            "type": "parcoords"
           }
          ],
          "pie": [
           {
            "automargin": true,
            "type": "pie"
           }
          ],
          "scatter": [
           {
            "fillpattern": {
             "fillmode": "overlay",
             "size": 10,
             "solidity": 0.2
            },
            "type": "scatter"
           }
          ],
          "scatter3d": [
           {
            "line": {
             "colorbar": {
              "outlinewidth": 1,
              "tickcolor": "rgb(36,36,36)",
              "ticks": "outside"
             }
            },
            "marker": {
             "colorbar": {
              "outlinewidth": 1,
              "tickcolor": "rgb(36,36,36)",
              "ticks": "outside"
             }
            },
            "type": "scatter3d"
           }
          ],
          "scattercarpet": [
           {
            "marker": {
             "colorbar": {
              "outlinewidth": 1,
              "tickcolor": "rgb(36,36,36)",
              "ticks": "outside"
             }
            },
            "type": "scattercarpet"
           }
          ],
          "scattergeo": [
           {
            "marker": {
             "colorbar": {
              "outlinewidth": 1,
              "tickcolor": "rgb(36,36,36)",
              "ticks": "outside"
             }
            },
            "type": "scattergeo"
           }
          ],
          "scattergl": [
           {
            "marker": {
             "colorbar": {
              "outlinewidth": 1,
              "tickcolor": "rgb(36,36,36)",
              "ticks": "outside"
             }
            },
            "type": "scattergl"
           }
          ],
          "scattermap": [
           {
            "marker": {
             "colorbar": {
              "outlinewidth": 1,
              "tickcolor": "rgb(36,36,36)",
              "ticks": "outside"
             }
            },
            "type": "scattermap"
           }
          ],
          "scattermapbox": [
           {
            "marker": {
             "colorbar": {
              "outlinewidth": 1,
              "tickcolor": "rgb(36,36,36)",
              "ticks": "outside"
             }
            },
            "type": "scattermapbox"
           }
          ],
          "scatterpolar": [
           {
            "marker": {
             "colorbar": {
              "outlinewidth": 1,
              "tickcolor": "rgb(36,36,36)",
              "ticks": "outside"
             }
            },
            "type": "scatterpolar"
           }
          ],
          "scatterpolargl": [
           {
            "marker": {
             "colorbar": {
              "outlinewidth": 1,
              "tickcolor": "rgb(36,36,36)",
              "ticks": "outside"
             }
            },
            "type": "scatterpolargl"
           }
          ],
          "scatterternary": [
           {
            "marker": {
             "colorbar": {
              "outlinewidth": 1,
              "tickcolor": "rgb(36,36,36)",
              "ticks": "outside"
             }
            },
            "type": "scatterternary"
           }
          ],
          "surface": [
           {
            "colorbar": {
             "outlinewidth": 1,
             "tickcolor": "rgb(36,36,36)",
             "ticks": "outside"
            },
            "colorscale": [
             [
              0,
              "#440154"
             ],
             [
              0.1111111111111111,
              "#482878"
             ],
             [
              0.2222222222222222,
              "#3e4989"
             ],
             [
              0.3333333333333333,
              "#31688e"
             ],
             [
              0.4444444444444444,
              "#26828e"
             ],
             [
              0.5555555555555556,
              "#1f9e89"
             ],
             [
              0.6666666666666666,
              "#35b779"
             ],
             [
              0.7777777777777778,
              "#6ece58"
             ],
             [
              0.8888888888888888,
              "#b5de2b"
             ],
             [
              1,
              "#fde725"
             ]
            ],
            "type": "surface"
           }
          ],
          "table": [
           {
            "cells": {
             "fill": {
              "color": "rgb(237,237,237)"
             },
             "line": {
              "color": "white"
             }
            },
            "header": {
             "fill": {
              "color": "rgb(217,217,217)"
             },
             "line": {
              "color": "white"
             }
            },
            "type": "table"
           }
          ]
         },
         "layout": {
          "annotationdefaults": {
           "arrowhead": 0,
           "arrowwidth": 1
          },
          "autotypenumbers": "strict",
          "coloraxis": {
           "colorbar": {
            "outlinewidth": 1,
            "tickcolor": "rgb(36,36,36)",
            "ticks": "outside"
           }
          },
          "colorscale": {
           "diverging": [
            [
             0,
             "rgb(103,0,31)"
            ],
            [
             0.1,
             "rgb(178,24,43)"
            ],
            [
             0.2,
             "rgb(214,96,77)"
            ],
            [
             0.3,
             "rgb(244,165,130)"
            ],
            [
             0.4,
             "rgb(253,219,199)"
            ],
            [
             0.5,
             "rgb(247,247,247)"
            ],
            [
             0.6,
             "rgb(209,229,240)"
            ],
            [
             0.7,
             "rgb(146,197,222)"
            ],
            [
             0.8,
             "rgb(67,147,195)"
            ],
            [
             0.9,
             "rgb(33,102,172)"
            ],
            [
             1,
             "rgb(5,48,97)"
            ]
           ],
           "sequential": [
            [
             0,
             "#440154"
            ],
            [
             0.1111111111111111,
             "#482878"
            ],
            [
             0.2222222222222222,
             "#3e4989"
            ],
            [
             0.3333333333333333,
             "#31688e"
            ],
            [
             0.4444444444444444,
             "#26828e"
            ],
            [
             0.5555555555555556,
             "#1f9e89"
            ],
            [
             0.6666666666666666,
             "#35b779"
            ],
            [
             0.7777777777777778,
             "#6ece58"
            ],
            [
             0.8888888888888888,
             "#b5de2b"
            ],
            [
             1,
             "#fde725"
            ]
           ],
           "sequentialminus": [
            [
             0,
             "#440154"
            ],
            [
             0.1111111111111111,
             "#482878"
            ],
            [
             0.2222222222222222,
             "#3e4989"
            ],
            [
             0.3333333333333333,
             "#31688e"
            ],
            [
             0.4444444444444444,
             "#26828e"
            ],
            [
             0.5555555555555556,
             "#1f9e89"
            ],
            [
             0.6666666666666666,
             "#35b779"
            ],
            [
             0.7777777777777778,
             "#6ece58"
            ],
            [
             0.8888888888888888,
             "#b5de2b"
            ],
            [
             1,
             "#fde725"
            ]
           ]
          },
          "colorway": [
           "#1F77B4",
           "#FF7F0E",
           "#2CA02C",
           "#D62728",
           "#9467BD",
           "#8C564B",
           "#E377C2",
           "#7F7F7F",
           "#BCBD22",
           "#17BECF"
          ],
          "font": {
           "color": "rgb(36,36,36)"
          },
          "geo": {
           "bgcolor": "white",
           "lakecolor": "white",
           "landcolor": "white",
           "showlakes": true,
           "showland": true,
           "subunitcolor": "white"
          },
          "hoverlabel": {
           "align": "left"
          },
          "hovermode": "closest",
          "mapbox": {
           "style": "light"
          },
          "paper_bgcolor": "white",
          "plot_bgcolor": "white",
          "polar": {
           "angularaxis": {
            "gridcolor": "rgb(232,232,232)",
            "linecolor": "rgb(36,36,36)",
            "showgrid": false,
            "showline": true,
            "ticks": "outside"
           },
           "bgcolor": "white",
           "radialaxis": {
            "gridcolor": "rgb(232,232,232)",
            "linecolor": "rgb(36,36,36)",
            "showgrid": false,
            "showline": true,
            "ticks": "outside"
           }
          },
          "scene": {
           "xaxis": {
            "backgroundcolor": "white",
            "gridcolor": "rgb(232,232,232)",
            "gridwidth": 2,
            "linecolor": "rgb(36,36,36)",
            "showbackground": true,
            "showgrid": false,
            "showline": true,
            "ticks": "outside",
            "zeroline": false,
            "zerolinecolor": "rgb(36,36,36)"
           },
           "yaxis": {
            "backgroundcolor": "white",
            "gridcolor": "rgb(232,232,232)",
            "gridwidth": 2,
            "linecolor": "rgb(36,36,36)",
            "showbackground": true,
            "showgrid": false,
            "showline": true,
            "ticks": "outside",
            "zeroline": false,
            "zerolinecolor": "rgb(36,36,36)"
           },
           "zaxis": {
            "backgroundcolor": "white",
            "gridcolor": "rgb(232,232,232)",
            "gridwidth": 2,
            "linecolor": "rgb(36,36,36)",
            "showbackground": true,
            "showgrid": false,
            "showline": true,
            "ticks": "outside",
            "zeroline": false,
            "zerolinecolor": "rgb(36,36,36)"
           }
          },
          "shapedefaults": {
           "fillcolor": "black",
           "line": {
            "width": 0
           },
           "opacity": 0.3
          },
          "ternary": {
           "aaxis": {
            "gridcolor": "rgb(232,232,232)",
            "linecolor": "rgb(36,36,36)",
            "showgrid": false,
            "showline": true,
            "ticks": "outside"
           },
           "baxis": {
            "gridcolor": "rgb(232,232,232)",
            "linecolor": "rgb(36,36,36)",
            "showgrid": false,
            "showline": true,
            "ticks": "outside"
           },
           "bgcolor": "white",
           "caxis": {
            "gridcolor": "rgb(232,232,232)",
            "linecolor": "rgb(36,36,36)",
            "showgrid": false,
            "showline": true,
            "ticks": "outside"
           }
          },
          "title": {
           "x": 0.05
          },
          "xaxis": {
           "automargin": true,
           "gridcolor": "rgb(232,232,232)",
           "linecolor": "rgb(36,36,36)",
           "showgrid": false,
           "showline": true,
           "ticks": "outside",
           "title": {
            "standoff": 15
           },
           "zeroline": false,
           "zerolinecolor": "rgb(36,36,36)"
          },
          "yaxis": {
           "automargin": true,
           "gridcolor": "rgb(232,232,232)",
           "linecolor": "rgb(36,36,36)",
           "showgrid": false,
           "showline": true,
           "ticks": "outside",
           "title": {
            "standoff": 15
           },
           "zeroline": false,
           "zerolinecolor": "rgb(36,36,36)"
          }
         }
        },
        "title": {
         "text": "Gaussian Process Regression with Optimized Additive Kernel"
        },
        "xaxis": {
         "title": {
          "text": "Year"
         }
        },
        "yaxis": {
         "title": {
          "text": "CO2 Concentration [ppm]"
         }
        }
       }
      }
     },
     "metadata": {},
     "output_type": "display_data"
    }
   ],
   "source": [
    "# Plot the optimization loss\n",
    "import plotly.graph_objects as go\n",
    "\n",
    "fig_loss = go.Figure()\n",
    "fig_loss.add_trace(go.Scatter(y=[float(l) for l in losses], mode=\"lines\", name=\"NLML\"))\n",
    "fig_loss.update_layout(\n",
    "    title=\"NLML during Hyperparameter Optimization\",\n",
    "    xaxis_title=\"Optimization Step\",\n",
    "    yaxis_title=\"Negative Log-Marginal Likelihood (NLML)\",\n",
    "    template=\"simple_white\",\n",
    ")\n",
    "fig_loss.show()\n",
    "\n",
    "\n",
    "# --- Perform GP Prediction with Optimized Hyperparameters ---\n",
    "# Construct the optimized combined kernel function\n",
    "def optimized_combined_kernel(x1, x2):\n",
    "    K_sum = jnp.zeros((x1.shape[0], x2.shape[0]))\n",
    "    for i, k_type in enumerate(kernel_type_names):\n",
    "        k_opt_params = optimized_params[\"kernel_params\"][\n",
    "            i\n",
    "        ]  # Use already converted params\n",
    "        if k_type == \"linear_kernel\":\n",
    "            K_sum += linear_kernel(\n",
    "                x1, x2, c=k_opt_params[\"c\"], sigma_b=k_opt_params[\"sigma_b\"]\n",
    "            )\n",
    "        elif k_type == \"periodic_kernel\":\n",
    "            K_sum += periodic_kernel(\n",
    "                x1,\n",
    "                x2,\n",
    "                sigma=k_opt_params[\"sigma\"],\n",
    "                lengthscale=k_opt_params[\"lengthscale\"],\n",
    "                period=k_opt_params[\"period\"],\n",
    "            )\n",
    "        elif k_type == \"squared_exponential_kernel\":\n",
    "            K_sum += squared_exponential_kernel(\n",
    "                x1,\n",
    "                x2,\n",
    "                sigma=k_opt_params[\"sigma\"],\n",
    "                lengthscale=k_opt_params[\"lengthscale\"],\n",
    "            )\n",
    "    return K_sum\n",
    "\n",
    "\n",
    "mu_opt_pred, Sigma_opt_pred = gp_predict(\n",
    "    X_sim,\n",
    "    y_sim,\n",
    "    X_test,\n",
    "    zero_mean_func,\n",
    "    optimized_combined_kernel,\n",
    "    noise_variance=optimized_params[\"noise_variance\"],\n",
    ")\n",
    "\n",
    "predictive_opt_std = jnp.sqrt(jnp.diag(Sigma_opt_pred))\n",
    "\n",
    "# --- Plotting Results with Optimized Hyperparameters using Plotly ---\n",
    "import plotly.graph_objects as go\n",
    "\n",
    "fig_opt = go.Figure()\n",
    "\n",
    "# Scatter plot for training data\n",
    "fig_opt.add_trace(\n",
    "    go.Scatter(\n",
    "        x=X_sim[:, 0],\n",
    "        y=y_sim,\n",
    "        mode=\"markers\",\n",
    "        name=\"Simulated Data\",\n",
    "        marker=dict(size=6, opacity=0.7),\n",
    "    )\n",
    ")\n",
    "\n",
    "# Predictive mean line (optimized)\n",
    "fig_opt.add_trace(\n",
    "    go.Scatter(\n",
    "        x=X_test[:, 0],\n",
    "        y=mu_opt_pred,\n",
    "        mode=\"lines\",\n",
    "        name=\"GP Predictive Mean (Optimized)\",\n",
    "        line=dict(color=\"green\"),\n",
    "    )\n",
    ")\n",
    "\n",
    "# 95% confidence interval (shaded area, optimized)\n",
    "fig_opt.add_trace(\n",
    "    go.Scatter(\n",
    "        x=jnp.concatenate([X_test[:, 0], X_test[::-1, 0]]),\n",
    "        y=jnp.concatenate(\n",
    "            [\n",
    "                mu_opt_pred - 2 * predictive_opt_std,\n",
    "                (mu_opt_pred + 2 * predictive_opt_std)[::-1],\n",
    "            ]\n",
    "        ),\n",
    "        fill=\"toself\",\n",
    "        fillcolor=\"rgba(0,128,0,0.2)\",\n",
    "        line=dict(color=\"rgba(255,255,255,0)\"),\n",
    "        hoverinfo=\"skip\",\n",
    "        showlegend=True,\n",
    "        name=\"95% CI (Optimized)\",\n",
    "    )\n",
    ")\n",
    "\n",
    "fig_opt.update_layout(\n",
    "    title=\"Gaussian Process Regression with Optimized Additive Kernel\",\n",
    "    xaxis_title=\"Year\",\n",
    "    yaxis_title=\"CO2 Concentration [ppm]\",\n",
    "    legend=dict(x=0.01, y=0.99),\n",
    "    template=\"simple_white\",\n",
    ")\n",
    "\n",
    "fig_opt.show()\n"
   ]
  },
  {
   "cell_type": "markdown",
   "id": "c351223a",
   "metadata": {},
   "source": [
    "## Source Separation with Gaussian Processes\n",
    "\n",
    "One of the most exciting applications of structured GP models is **source separation**—extracting individual underlying signals from observed data where these signals are linearly mixed. The Mauna Loa CO₂ data is a prime example: we observe the total CO₂, but we want to separate it into its long-term trend and seasonal components.\n",
    "\n",
    "The general principle comes from the properties of conditional Gaussian distributions. If we have a joint Gaussian distribution $p(\\mathbf{x})$ and a linear observation model $p(\\mathbf{y} \\mid \\mathbf{x}) = \\mathcal{N}(\\mathbf{y};\\, A^\\top \\mathbf{x} + \\mathbf{b},\\, \\Lambda)$, then the posterior $p(B^\\top \\mathbf{x} + \\mathbf{c} \\mid \\mathbf{y})$ is also Gaussian.\n",
    "\n",
    "In our GP context, we can think of our observed data $\\mathbf{y}$ as a linear combination of latent functions $f_1, f_2, \\ldots$:\n",
    "\n",
    "$$\n",
    "\\mathbf{y} = \\sum_i f_i(X) + \\text{noise}\n",
    "$$\n",
    "\n",
    "If we assume $f_i \\sim \\mathcal{GP}(0, k_i)$ are independent GPs, then their sum $f = \\sum_i f_i$ is a GP with kernel $k = \\sum_i k_i$.\n",
    "\n",
    "A specific case for two functions $f_1$ and $f_2$ is shown in the slides, where $\\mathbf{y} = [1\\ 1] \\begin{bmatrix} f_1 \\\\ f_2 \\end{bmatrix}$. The goal is to find the posterior distribution of $f_1$ given $\\mathbf{y}$.\n",
    "\n",
    "The formula for $p(f_1(\\cdot) \\mid \\mathbf{y})$ is:\n",
    "\n",
    "$$\n",
    "p(f_1(\\cdot) \\mid \\mathbf{y}) = \\mathcal{GP}\\left(\n",
    "f_1;\\,\n",
    "k_{1, \\cdot X} (K_{1, XX} + K_{2, XX} + \\Lambda)^{-1} \\mathbf{y},\\,\n",
    "k_{1, \\cdot \\circ} - k_{1, \\cdot X} (K_{1, XX} + K_{2, XX} + \\Lambda)^{-1} K_{2, X \\circ}\n",
    "\\right)\n",
    "$$\n",
    "\n",
    "Where:\n",
    "\n",
    "- $k_{1, \\cdot X}$ is the covariance vector between a new point $\\cdot$ and the training points $X$, using kernel $k_1$.\n",
    "- $K_{1, XX}$ and $K_{2, XX}$ are kernel matrices for $k_1$ and $k_2$ at training points $X$.\n",
    "- $\\Lambda$ is the noise covariance matrix (often $\\sigma_\\text{noise}^2 I$).\n",
    "- $\\mathbf{y}$ is the observed data.\n",
    "- $k_{1, \\cdot \\circ}$ is the kernel $k_1$ evaluated between two new points $\\cdot$ and $\\circ$.\n",
    "- $K_{2, X \\circ}$ is the cross-covariance between training points $X$ and a new point $\\circ$, using kernel $k_2$.\n",
    "\n",
    "---\n",
    "\n",
    "**Intuition for Source Separation:**  \n",
    "When we observe $\\mathbf{y}$ as a sum of $f_1$ and $f_2$, the GP framework allows us to \"attribute\" parts of the observed variance to each component. The posterior mean of $f_1$ will be influenced by how well $k_1$ can explain the observed data, while also considering what $k_2$ is capable of explaining. The posterior covariance of $f_1$ reflects the remaining uncertainty about $f_1$ after accounting for $\\mathbf{y}$ and the presence of $f_2$.\n",
    "\n",
    "While explicitly implementing the full source separation formula can be intricate due to the matrix algebra, the core idea is that by defining a composite kernel (like our additive kernel for Mauna Loa), the GP implicitly performs this separation. The predictive mean of the combined GP gives us the best estimate of the sum $f_1 + f_2$. To get individual components, one often needs to project the posterior onto the individual kernel spaces, or use more advanced multi-output GP formulations.\n",
    "\n",
    "> **Key takeaway:**  \n",
    "> The additive kernel implicitly models the data as a sum of functions, and the GP framework provides a principled way to infer these components—even if we don't explicitly separate them in the prediction step."
   ]
  },
  {
   "cell_type": "markdown",
   "id": "bb8fcd96",
   "metadata": {},
   "source": [
    "# Summary of Gaussian Process Regression: Extensive Example\n",
    "\n",
    "In this extensive example, we've explored how **Gaussian Processes (GPs)** can be applied to real-world time series data, such as the Mauna Loa CO$_2$ measurements. Here are the key takeaways:\n",
    "\n",
    "---\n",
    "\n",
    "### 1. Structured Modeling with Additive Kernels\n",
    "\n",
    "- **Additive kernels** allow us to model complex data by combining simpler, interpretable kernel components.\n",
    "    - *Example*: Use a **linear kernel** for the long-term trend and a **periodic kernel** for seasonality.\n",
    "- This approach enables the GP to capture different aspects of the underlying process:\n",
    "    $$\n",
    "    k_{\\text{sum}}(x, x') = k_{\\text{trend}}(x, x') + k_{\\text{seasonal}}(x, x')\n",
    "    $$\n",
    "\n",
    "---\n",
    "\n",
    "### 2. Kernel Learning is Crucial\n",
    "\n",
    "- **Manual hyperparameter selection** is rarely optimal.\n",
    "- **Maximizing the marginal likelihood** provides a principled way to learn kernel parameters from data:\n",
    "    $$\n",
    "    \\log p(\\mathbf{y} \\mid X, \\theta) = -\\frac{1}{2} \\mathbf{y}^\\top (K_{XX} + \\sigma_{\\text{noise}}^2 I)^{-1} \\mathbf{y}\n",
    "    - \\frac{1}{2} \\log |K_{XX} + \\sigma_{\\text{noise}}^2 I|\n",
    "    - \\frac{N}{2} \\log(2\\pi)\n",
    "    $$\n",
    "- **Automatic differentiation** (e.g., with JAX) makes this optimization feasible and efficient.\n",
    "\n",
    "---\n",
    "\n",
    "### 3. Source Separation Capability\n",
    "\n",
    "- GPs with **composite kernels** inherently provide a framework for disentangling underlying signals that are linearly mixed in the observations.\n",
    "- While explicit formulas can be complex, the GP's ability to model the covariance structure enables this separation:\n",
    "    $$\n",
    "    y(x) = f_{\\text{trend}}(x) + f_{\\text{seasonal}}(x) + \\epsilon\n",
    "    $$\n",
    "- The GP framework allows us to infer each component's contribution to the observed data.\n",
    "\n",
    "---\n",
    "\n",
    "> **Conclusion:**  \n",
    "> While GPs are powerful, their effectiveness relies on incorporating prior knowledge about the data's structure through the design of appropriate kernels. The ability to build such structured probabilistic models is a highly valued skill in machine learning."
   ]
  }
 ],
 "metadata": {
  "kernelspec": {
   "display_name": ".venv",
   "language": "python",
   "name": "python3"
  },
  "language_info": {
   "codemirror_mode": {
    "name": "ipython",
    "version": 3
   },
   "file_extension": ".py",
   "mimetype": "text/x-python",
   "name": "python",
   "nbconvert_exporter": "python",
   "pygments_lexer": "ipython3",
   "version": "3.12.8"
  }
 },
 "nbformat": 4,
 "nbformat_minor": 5
}
